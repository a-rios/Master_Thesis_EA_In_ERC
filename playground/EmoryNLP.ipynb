{
 "cells": [
  {
   "cell_type": "markdown",
   "id": "072c1d9c",
   "metadata": {},
   "source": [
    "# Problem Statement\n",
    "\n",
    "\n",
    "\n",
    "\n",
    "\n",
    "ERC is a task that aims at predicting emotion of each utterance in a conversation. The following is an excerpt of a conversation with each utterance tagged with corresponding emotion and sentiment label.\n",
    "\n",
    "![alt text](example.jpg \"Title\")\n"
   ]
  },
  {
   "cell_type": "markdown",
   "id": "6a9552ae",
   "metadata": {},
   "source": [
    "# Hierarchical Transformer Network for Utterance-Level Emotion Recognition\n",
    "This is the Pytorch implementation Utterance-level Emotion Recognition [paper](https://arxiv.org/ftp/arxiv/papers/2002/2002.07551.pdf)"
   ]
  },
  {
   "cell_type": "markdown",
   "id": "44b465c1",
   "metadata": {},
   "source": [
    "Overview\n",
    "Though predicting the emotion of a single utterance or sentence, i.e. emotion detection, is a well discussed subject in natural language understanding literature, EmoContext has several novel challenges. In this paper, we address four challenges in utterance-level emotion recognition in dialogue systems:\n",
    "\n",
    "- Emotion depend on the context of previous utterances in the dialogue\n",
    "\n",
    "- long-range contextual information is hard to be effectively captured;\n",
    "\n",
    "- Datasets are quite small.\n",
    "\n",
    "- the class distribution of training data is significantly different from that of the test data. Consequently, a model trained on the training data might not perform well on the test data.\n",
    "\n",
    "- We propose a hierarchical transformer framework with a lower-level transformer to model the word-level inputs and an upper-level transformer to capture the contexts of utterance-level embeddings."
   ]
  },
  {
   "cell_type": "markdown",
   "id": "eb10dc8d",
   "metadata": {},
   "source": [
    "# EmoryNLP Dataset\n",
    "Dataset includes the training data set consisting of 713 dialogues, and two evaluation data sets, Dev and Test, containing\n",
    "99 and 85 dialogues respectively. The Training, validation and test datasets are json files containing following information :\n",
    "\n",
    " - Speaker - Identifies the speaker of utterance\n",
    " - Utterance -  The textual content of the utterance.\n",
    " - Emotion - Emotion labels for each utterance\n",
    " - Annotation - The annotation string contains the raw count of votes for each emotion by the annotators. The order of the emotions in the string is [neutral, joy, sadness, fear, anger,  surprise, disgust]. For example, string \"2000030\" denotes that two annotators voted for \"neutral\", and three voted for \"surprise\". Note that the sum of the votes is always five, since the dialogues were annotated by five annotators.\n",
    "\n",
    "\n",
    "\n",
    "Dataset stattistics:\n",
    "\n",
    "| Statistics | Train | Dev | Test | \n",
    "| :-| :- | :- | :- | \n",
    "| # of Dialogues | 713 | 99 |85 | \n",
    "| # of Utterances | 9934 | 1344 |1328 | \n",
    "| Min number of Utterances per dialogue| 5 | 5 |5 | \n",
    "| Max number of Utterances per dialogue| 25 | 25 |25 | \n",
    "| Average number of Utterances per dialogue| 13.93 | 13.58 |15.62 | \n",
    "| Min Utterance length | 1 | 1 |1 | \n",
    "| Max Utterance length | 148 | 69 |77 | \n",
    "| Average Utterance length | 10.45 | 10.03 |10.18| \n",
    "\n",
    "\n",
    "\n",
    "    \n",
    "    "
   ]
  },
  {
   "cell_type": "code",
   "execution_count": 1,
   "id": "f1a3257b",
   "metadata": {},
   "outputs": [],
   "source": [
    "import torch\n",
    "import os\n",
    "import random\n",
    "import pandas as pd\n",
    "import functools\n",
    "import time\n",
    "import math\n",
    "import argparse\n",
    "import json\n",
    "import matplotlib\n",
    "import matplotlib.patches as patches\n",
    "\n",
    "from torch.utils.data import TensorDataset, DataLoader\n",
    "from torch.utils.data.distributed import DistributedSampler\n",
    "import torch.nn.functional as F\n",
    "from torch.utils.data import Dataset, DataLoader\n",
    "\n",
    "from ipywidgets import interact\n",
    "import numpy as np\n",
    "import seaborn as sns\n",
    "from pylab import rcParams\n",
    "import matplotlib.pyplot as plt\n",
    "from matplotlib import rc\n",
    "\n",
    "from transformers import DistilBertModel, DistilBertForSequenceClassification, DistilBertConfig, DistilBertTokenizer\n",
    "from transformers import AutoModel, AutoTokenizer\n",
    "from transformers import AutoConfig, AutoModelForPreTraining, AutoModelForSequenceClassification\n",
    "\n",
    "from collections import defaultdict\n",
    "\n",
    "import pytorch_lightning as pl\n",
    "from pytorch_lightning import seed_everything\n",
    "from sklearn.preprocessing import OneHotEncoder\n",
    "\n",
    "from tabulate import tabulate\n",
    "from bs4 import BeautifulSoup\n",
    "import unidecode\n",
    "from tqdm import tqdm\n",
    "import re, string, json\n",
    "from symspellpy.symspellpy import SymSpell, Verbosity\n",
    "import pkg_resources\n",
    "import spacy\n",
    "import nltk\n",
    "from collections import Counter\n",
    "from deep_translator import GoogleTranslator\n",
    "from sklearn.metrics import confusion_matrix"
   ]
  },
  {
   "cell_type": "code",
   "execution_count": 2,
   "id": "7a88414e",
   "metadata": {},
   "outputs": [],
   "source": [
    "def get_args():\n",
    "    \"\"\"\n",
    "        returns the Parser args\n",
    "    \"\"\"\n",
    "    root_dir = os.getcwd()  \n",
    "    parser = argparse.ArgumentParser()\n",
    "    parser.add_argument('--batch_size', type=int, default=8)  # Batch Size\n",
    "    parser.add_argument('--projection_size', type=int, default=768) \n",
    "    parser.add_argument('--n_layers', type=int, default=4)\n",
    "    parser.add_argument('--dropout', type=float, default=0.1)\n",
    "    parser.add_argument('--lr', type=float, default=2e-5)\n",
    "    parser.add_argument('--layerwise_decay', default=0.95, type=float,  \n",
    "                    help='layerwise decay factor for the learning rate of the pretrained DistilBert')\n",
    "    parser.add_argument('--epochs', type=int, default=2,\n",
    "                        help='number of total epochs to run')\n",
    "    parser.add_argument('--alpha', type=float, default=0.95)\n",
    "    parser.add_argument('--seed', type=int, default=123,\n",
    "                       help='seed for initializing training')\n",
    "    parser.add_argument('--device', type=int, default=0)\n",
    "    parser.add_argument('--gpu', type=str, default='0',\t\t# Spcify the GPU for training\n",
    "                        help='gpu: default 0')\n",
    "\n",
    "    parser.add_argument('--speaker_embedding',  action=\"store_true\",\n",
    "                        help = 'Enable Speaker Embedding')\n",
    "  \n",
    "    parser.add_argument('--use_distilbert',  action=\"store_false\",\n",
    "                        help = 'Use DistilBert for German Text Encoding')\n",
    "    parser.add_argument('--balance_weight_warming',  action=\"store_false\",\n",
    "                        help = 'Use balancec weight warming for loss function')\n",
    "  \n",
    "    parser.add_argument('--emoset', type=str, default = 'emorynlp',  # Emoset to choose\n",
    "                        help = 'Emotion Training Set Name')\n",
    "    args = parser.parse_args(args=[ '--speaker_embedding','--emoset', 'emorynlp'])\n",
    "    \n",
    "        \n",
    "    return args"
   ]
  },
  {
   "cell_type": "code",
   "execution_count": 3,
   "id": "389d674e",
   "metadata": {},
   "outputs": [
    {
     "name": "stdout",
     "output_type": "stream",
     "text": [
      "Namespace(alpha=0.95, balance_weight_warming=True, batch_size=8, device=0, dropout=0.1, emoset='emorynlp', epochs=2, gpu='0', layerwise_decay=0.95, lr=2e-05, n_layers=4, projection_size=768, seed=123, speaker_embedding=True, use_distilbert=True) \n",
      "\n"
     ]
    }
   ],
   "source": [
    "args = get_args()\n",
    "print(args, '\\n')\n",
    "args.emoset = args.emoset.lower()\n",
    "assert args.emoset  in ['emorynlp', 'emotionpush', 'friends','semeval', 'friends_german',\n",
    "                        'emotionpush_german', 'emorynlp_german', 'semeval_german']\n",
    "if args.emoset == 'semeval':\n",
    "    args.speaker_embedding = False \n",
    "\n",
    "if not args.emoset == 'semeval':\n",
    "    args.batch_size = 1\n",
    "    \n",
    "if args.emoset not in ['friends_german', 'emotionpush_german', 'emorynlp_german']:\n",
    "    args.use_distilbert = False\n",
    "    \n",
    "pd.options.display.max_seq_items = 500\n",
    "np.set_printoptions(threshold=500)\n",
    "\n",
    "if args.emoset == 'friends' or args.emoset == 'friends_german':\n",
    "        args.max_seq_len = 40\n",
    "        args.balance_weight_warming =False\n",
    "elif args.emoset == 'emotionpush' or args.emoset == 'emotionpush_german':\n",
    "    args.max_seq_len = 35\n",
    "    args.balance_weight_warming =False\n",
    "elif args.emoset == 'emorynlp' or args.emoset == 'emorynlp_german':\n",
    "    args.max_seq_len = 30\n",
    "    args.balance_weight_warming =True\n",
    "if args.emoset == 'semeval' or args.emoset == 'semeval_german':\n",
    "    args.max_seq_len = 25\n",
    "    args.balance_weight_warming =True"
   ]
  },
  {
   "cell_type": "markdown",
   "id": "fe6bb8ae",
   "metadata": {},
   "source": [
    "## Set Environment Variables Like Random Seed, Cuda Device , Coloring Scheme"
   ]
  },
  {
   "cell_type": "code",
   "execution_count": 4,
   "id": "a367d70c",
   "metadata": {},
   "outputs": [
    {
     "name": "stderr",
     "output_type": "stream",
     "text": [
      "Global seed set to 42\n"
     ]
    },
    {
     "name": "stdout",
     "output_type": "stream",
     "text": [
      "Args.device = cuda:0\n"
     ]
    }
   ],
   "source": [
    "# Set the seed for deterministic behavior\n",
    "seed = args.seed\n",
    "random.seed(seed)\n",
    "np.random.seed(seed)\n",
    "torch.manual_seed(seed)\n",
    "torch.cuda.manual_seed(seed)\n",
    "torch.backends.cudnn.deterministic = True\n",
    "seed_everything(42, workers=True)\n",
    "\n",
    "# Set cuda device\n",
    "device = torch.device(\"cuda:{}\".format(int(args.gpu)) if torch.cuda.is_available() else \"cpu\")\n",
    "args.device = device\n",
    "print('Args.device = {}'.format(args.device))\n",
    "\n",
    "sns.set(style='whitegrid', palette='muted', font_scale=1.2)\n",
    "HAPPY_COLORS_PALETTE = [\"#01BEFE\", \"#FFDD00\", \"#FF7D00\", \"#FF006D\", \"#ADFF02\", \"#8F00FF\"]\n",
    "sns.set_palette(sns.color_palette(HAPPY_COLORS_PALETTE))\n",
    "rcParams['figure.figsize'] = 12, 8\n",
    "\n"
   ]
  },
  {
   "cell_type": "markdown",
   "id": "a12c768d",
   "metadata": {},
   "source": [
    "# Read Dataset CSV Files"
   ]
  },
  {
   "cell_type": "code",
   "execution_count": 5,
   "id": "9e3ebf43",
   "metadata": {},
   "outputs": [],
   "source": [
    "'''\n",
    "  Create Pandas Dataframe from EmoryNLP Dataset Json Files\n",
    "  Parameters\n",
    "    ----------\n",
    "    Data : Json File \n",
    "        Json File containing Train/Val/Test Data\n",
    "    Column_list : Python List\n",
    "        Column list for the created dataframe    \n",
    "    Returns\n",
    "    -------\n",
    "   df: Pandas Dataframe\n",
    "'''\n",
    "\n",
    "def create_df_emorynlp(data, column_list):\n",
    "    df = pd.DataFrame(columns = column_list)\n",
    "    dialogue_idx = 0\n",
    "    episode_idx = 0\n",
    "    for episode in data['episodes']:\n",
    "        scenes = episode['scenes']\n",
    "        for i in range(len(scenes)):\n",
    "            for j in range(len(scenes[i]['utterances'])):\n",
    "                df2 = pd.DataFrame([[dialogue_idx, scenes[i]['utterances'][j]['transcript'] , scenes[i]['utterances'][j]['speakers'][0], len(scenes[i]['utterances'][j]['transcript'].split()), scenes[i]['utterances'][j]['emotion'].lower() ]], columns = column_list)\n",
    "                df = df.append(df2, ignore_index=True)\n",
    "            dialogue_idx += 1\n",
    "                    \n",
    "        episode_idx = episode_idx+1\n",
    "        \n",
    "    return df\n",
    "\n",
    "'''\n",
    "  Create Pandas Dataframe from Friends/EmotionPush Dataset Json Files\n",
    "   Parameters\n",
    "    ----------\n",
    "    Data : Json File \n",
    "        Json File containing Train/Val/Test Data\n",
    "    Column_list : Python List\n",
    "        Column list for the created dataframe    \n",
    "    Returns\n",
    "    -------\n",
    "   df: Pandas Dataframe\n",
    "'''\n",
    "def create_df_friends(data, column_list):\n",
    "    df = pd.DataFrame(columns = column_list)\n",
    "    dialogue_idx = 0\n",
    "    for dialog in data:\n",
    "        for utter in dialog:\n",
    "            df2 = pd.DataFrame([[dialogue_idx, utter['utterance'], utter['speaker'], len(utter['utterance'].split()), utter['emotion'].lower() ]], columns = column_list)\n",
    "            df = df.append(df2, ignore_index=True)\n",
    "        dialogue_idx += 1\n",
    "\n",
    "    return df\n",
    "\n",
    "def create_df(data, emoset):\n",
    "    column_list = list(('dialogue_id', 'utterance', 'speaker','utterance_len', 'label'))\n",
    "    if emoset == 'emorynlp':\n",
    "        df=  create_df_emorynlp(data, column_list)\n",
    "    elif emoset == 'friends' or emoset == 'emotionpush':\n",
    "        df = create_df_friends(data, column_list)\n",
    "     \n",
    "    return df\n",
    "\n",
    "'''\n",
    "  Create Pandas Dataframe for Train, Validation and Test Data from Dataset Json Files\n",
    "  \n",
    "'''\n",
    "def load_df(args):\n",
    "    \n",
    "    if args.emoset == 'emorynlp':\n",
    "        print('Creating Training/Val/Test Dataframesfor EmoryNLP Dataset')\n",
    "        train_path = '../data/EmoryNLP/English/emotion-detection-trn.json'\n",
    "        val_path = '../data/EmoryNLP/English/emotion-detection-dev.json'\n",
    "        test_path = '../data/EmoryNLP/English/emotion-detection-tst.json'\n",
    "        \n",
    "    elif args.emoset == 'emorynlp_german':\n",
    "        print('Creating Training/Val/Test Dataframesfor EmoryNLP German Dataset')\n",
    "        train_path = '../data/EmoryNLP/German/emorynlp_train_de.csv'\n",
    "        val_path = '../data/EmoryNLP/German/emorynlp_val_de.csv'\n",
    "        test_path = '../data/EmoryNLP/German/emorynlp_test_de.csv'\n",
    "\n",
    "    elif  args.emoset == 'friends': \n",
    "        print('Creating Training/Val/Test Dataframes for Friends Dataset')\n",
    "        train_path = '../data/Friends/Friends_English/friends.train.json'\n",
    "        val_path = '../data/Friends/Friends_English/friends.dev.json'\n",
    "        test_path = '../data/Friends/Friends_English/friends.test.json'\n",
    "    elif args.emoset == 'friends_german':\n",
    "        print('Creating Training/Val/Test Dataframes for Friends German Dataset')\n",
    "        train_path = '../data/Friends/Friends_German/friends_train_de.csv'\n",
    "        val_path = '../data/Friends/Friends_German/friends_val_de.csv'\n",
    "        test_path = '../data/Friends/Friends_German/friends_test_de.csv'\n",
    "        \n",
    "    elif  args.emoset == 'emotionpush':\n",
    "        print('Creating Training/Val/Test Dataframes for EmotionPush Dataset')\n",
    "        train_path = '../data/Emotionpush/English/emotionpush.train.json'\n",
    "        val_path =   '../data/Emotionpush/English/emotionpush.dev.json'\n",
    "        test_path =  '../data/Emotionpush/English/emotionpush.test.json'\n",
    "    \n",
    "    elif args.emoset == 'emotionpush_german':\n",
    "        print('Creating Training/Val/Test Dataframes for Emotionpush German Dataset')\n",
    "        train_path = '../data/Emotionpush/German/emotionpush_train_de.csv'\n",
    "        val_path =   '../data/Emotionpush/German/emotionpush_val_de.csv'\n",
    "        test_path =  '../data/Emotionpush/German/emotionpush_test_de.csv'\n",
    "          \n",
    "    else:\n",
    "        print('Creating Training/Val/Test Dataframes for Semeval Dataset')\n",
    "        train_path = '../data/clean_train.txt'\n",
    "        val_path = '../data/clean_val.txt'\n",
    "        test_path = '../data/clean_test.txt'\n",
    "\n",
    "    if args.emoset in ['friends', 'emotionpush', 'emorynlp'] :\n",
    "        with open(train_path, encoding='utf-8') as data_file:\n",
    "            train_json = json.loads(data_file.read())\n",
    "        \n",
    "        with open(val_path, encoding='utf-8') as data_file:\n",
    "            val_json = json.loads(data_file.read())\n",
    "        \n",
    "        with open(test_path, encoding='utf-8') as data_file:\n",
    "            test_json = json.loads(data_file.read())\n",
    "        \n",
    "        df_train = create_df(train_json, args.emoset)\n",
    "        df_val = create_df(val_json,  args.emoset)       \n",
    "        df_test = create_df(test_json,  args.emoset) \n",
    "    elif args.emoset == 'semeval':\n",
    "        df_train = pd.read_csv(train_path, delimiter='\\t', index_col='id')\n",
    "        df_val =  pd.read_csv(val_path, delimiter='\\t', index_col='id')    \n",
    "        df_test = pd.read_csv(test_path, delimiter='\\t', index_col='id')\n",
    "       \n",
    "    else:\n",
    "        df_train = pd.read_csv(train_path)\n",
    "        df_val =  pd.read_csv(val_path)    \n",
    "        df_test = pd.read_csv(test_path)\n",
    "        df_train = df_train.dropna()\n",
    "        df_val = df_val.dropna()\n",
    "        df_test = df_test.dropna()\n",
    "        col_dict = {'emotion': 'label'}   ## key→old name, value→new name\n",
    "        df_train.columns = [col_dict.get(x, x) if x in col_dict.keys() else x  for x in df_train.columns]\n",
    "        df_val.columns = [col_dict.get(x, x) if x in col_dict.keys() else x  for x in df_val.columns]\n",
    "        df_test.columns = [col_dict.get(x, x) if x in col_dict.keys() else x  for x in df_test.columns]\n",
    "        #df_train.rename(columns={'emotion':'label'}, inplace=True)\n",
    "        df_train['utterance_len'] = df_train[['utterance_de_deepl']].applymap(lambda x: len(x.split()))\n",
    "        df_val['utterance_len'] = df_val[['utterance_de_deepl']].applymap(lambda x: len(x.split()))\n",
    "        df_test['utterance_len'] = df_test[['utterance_de_deepl']].applymap(lambda x: len(x.split()))\n",
    "                \n",
    "    return (df_train, df_val, df_test)\n",
    "    "
   ]
  },
  {
   "cell_type": "markdown",
   "id": "aa8bc85e",
   "metadata": {},
   "source": [
    "# Load Datasets"
   ]
  },
  {
   "cell_type": "code",
   "execution_count": 6,
   "id": "e3a03edb",
   "metadata": {},
   "outputs": [
    {
     "name": "stdout",
     "output_type": "stream",
     "text": [
      "Creating Training/Val/Test Dataframesfor EmoryNLP Dataset\n"
     ]
    }
   ],
   "source": [
    "\n",
    "(df_train, df_val, df_test)  = load_df(args)   "
   ]
  },
  {
   "cell_type": "code",
   "execution_count": 7,
   "id": "1b660e4d",
   "metadata": {},
   "outputs": [
    {
     "data": {
      "text/html": [
       "<div>\n",
       "<style scoped>\n",
       "    .dataframe tbody tr th:only-of-type {\n",
       "        vertical-align: middle;\n",
       "    }\n",
       "\n",
       "    .dataframe tbody tr th {\n",
       "        vertical-align: top;\n",
       "    }\n",
       "\n",
       "    .dataframe thead th {\n",
       "        text-align: right;\n",
       "    }\n",
       "</style>\n",
       "<table border=\"1\" class=\"dataframe\">\n",
       "  <thead>\n",
       "    <tr style=\"text-align: right;\">\n",
       "      <th></th>\n",
       "      <th>dialogue_id</th>\n",
       "      <th>utterance</th>\n",
       "      <th>speaker</th>\n",
       "      <th>utterance_len</th>\n",
       "      <th>label</th>\n",
       "    </tr>\n",
       "  </thead>\n",
       "  <tbody>\n",
       "    <tr>\n",
       "      <th>0</th>\n",
       "      <td>0</td>\n",
       "      <td>What you guys don't understand is, for us, kis...</td>\n",
       "      <td>Monica Geller</td>\n",
       "      <td>17</td>\n",
       "      <td>joyful</td>\n",
       "    </tr>\n",
       "    <tr>\n",
       "      <th>1</th>\n",
       "      <td>0</td>\n",
       "      <td>Yeah, right!.......Y'serious?</td>\n",
       "      <td>Joey Tribbiani</td>\n",
       "      <td>2</td>\n",
       "      <td>neutral</td>\n",
       "    </tr>\n",
       "    <tr>\n",
       "      <th>2</th>\n",
       "      <td>0</td>\n",
       "      <td>Oh, yeah!</td>\n",
       "      <td>Phoebe Buffay</td>\n",
       "      <td>2</td>\n",
       "      <td>joyful</td>\n",
       "    </tr>\n",
       "    <tr>\n",
       "      <th>3</th>\n",
       "      <td>0</td>\n",
       "      <td>Everything you need to know is in that first k...</td>\n",
       "      <td>Rachel Green</td>\n",
       "      <td>10</td>\n",
       "      <td>powerful</td>\n",
       "    </tr>\n",
       "    <tr>\n",
       "      <th>4</th>\n",
       "      <td>0</td>\n",
       "      <td>Absolutely.</td>\n",
       "      <td>Monica Geller</td>\n",
       "      <td>1</td>\n",
       "      <td>powerful</td>\n",
       "    </tr>\n",
       "    <tr>\n",
       "      <th>...</th>\n",
       "      <td>...</td>\n",
       "      <td>...</td>\n",
       "      <td>...</td>\n",
       "      <td>...</td>\n",
       "      <td>...</td>\n",
       "    </tr>\n",
       "    <tr>\n",
       "      <th>9929</th>\n",
       "      <td>712</td>\n",
       "      <td>Ahh, yes, I will have a glass of the Merlot</td>\n",
       "      <td>Rachel Green</td>\n",
       "      <td>10</td>\n",
       "      <td>neutral</td>\n",
       "    </tr>\n",
       "    <tr>\n",
       "      <th>9930</th>\n",
       "      <td>712</td>\n",
       "      <td>Okay.</td>\n",
       "      <td>Air Hostess</td>\n",
       "      <td>1</td>\n",
       "      <td>neutral</td>\n",
       "    </tr>\n",
       "    <tr>\n",
       "      <th>9931</th>\n",
       "      <td>712</td>\n",
       "      <td>And uh, he will have a white wine spritzer.</td>\n",
       "      <td>Rachel Green</td>\n",
       "      <td>9</td>\n",
       "      <td>neutral</td>\n",
       "    </tr>\n",
       "    <tr>\n",
       "      <th>9932</th>\n",
       "      <td>712</td>\n",
       "      <td>Okay, good. Thank you. I'll be back shortly, a...</td>\n",
       "      <td>Air Hostess</td>\n",
       "      <td>10</td>\n",
       "      <td>joyful</td>\n",
       "    </tr>\n",
       "    <tr>\n",
       "      <th>9933</th>\n",
       "      <td>712</td>\n",
       "      <td>All right. Woo! Hey, look at that, the airport...</td>\n",
       "      <td>Rachel Green</td>\n",
       "      <td>48</td>\n",
       "      <td>scared</td>\n",
       "    </tr>\n",
       "  </tbody>\n",
       "</table>\n",
       "<p>9934 rows × 5 columns</p>\n",
       "</div>"
      ],
      "text/plain": [
       "     dialogue_id                                          utterance  \\\n",
       "0              0  What you guys don't understand is, for us, kis...   \n",
       "1              0                      Yeah, right!.......Y'serious?   \n",
       "2              0                                          Oh, yeah!   \n",
       "3              0  Everything you need to know is in that first k...   \n",
       "4              0                                        Absolutely.   \n",
       "...          ...                                                ...   \n",
       "9929         712        Ahh, yes, I will have a glass of the Merlot   \n",
       "9930         712                                              Okay.   \n",
       "9931         712        And uh, he will have a white wine spritzer.   \n",
       "9932         712  Okay, good. Thank you. I'll be back shortly, a...   \n",
       "9933         712  All right. Woo! Hey, look at that, the airport...   \n",
       "\n",
       "             speaker utterance_len     label  \n",
       "0      Monica Geller            17    joyful  \n",
       "1     Joey Tribbiani             2   neutral  \n",
       "2      Phoebe Buffay             2    joyful  \n",
       "3       Rachel Green            10  powerful  \n",
       "4      Monica Geller             1  powerful  \n",
       "...              ...           ...       ...  \n",
       "9929    Rachel Green            10   neutral  \n",
       "9930     Air Hostess             1   neutral  \n",
       "9931    Rachel Green             9   neutral  \n",
       "9932     Air Hostess            10    joyful  \n",
       "9933    Rachel Green            48    scared  \n",
       "\n",
       "[9934 rows x 5 columns]"
      ]
     },
     "execution_count": 7,
     "metadata": {},
     "output_type": "execute_result"
    }
   ],
   "source": [
    "df_train"
   ]
  },
  {
   "cell_type": "markdown",
   "id": "3fac1d95",
   "metadata": {},
   "source": [
    "### We define 3 set of dictionaries\n",
    "- emodict : Enumerate the emotions present in the dataset\n",
    "- focus_dict : Enumerate the smaller subset of emotions that we want to focus on\n",
    "- sentiment dict : Enumerate the sentiment associated with the emotion\n",
    "\n",
    "For EmoryNLP Dataset, we train the model to learn all 7 emotions present in the dataset."
   ]
  },
  {
   "cell_type": "code",
   "execution_count": 8,
   "id": "e647bef1",
   "metadata": {},
   "outputs": [
    {
     "name": "stdout",
     "output_type": "stream",
     "text": [
      "Emotion Mapping {'neutral': 0, 'sad': 1, 'mad': 2, 'joyful': 3, 'peaceful': 4, 'powerful': 5, 'scared': 6}\n",
      "Focus Emotion ['neutral', 'sad', 'mad', 'joyful', 'peaceful', 'powerful', 'scared']\n",
      "Emotion Label Distribution in Training Set {'neutral': 3034, 'sad': 671, 'mad': 1076, 'joyful': 2184, 'peaceful': 900, 'powerful': 784, 'scared': 1285}\n",
      "Emotion Label Distribution in Validation Set {'neutral': 393, 'sad': 75, 'mad': 143, 'joyful': 289, 'peaceful': 132, 'powerful': 134, 'scared': 178}\n",
      "Emotion Label Distribution in Test Set {'neutral': 349, 'sad': 98, 'mad': 113, 'joyful': 282, 'peaceful': 159, 'powerful': 145, 'scared': 182}\n"
     ]
    }
   ],
   "source": [
    "if args.emoset == 'emorynlp' or args.emoset == 'emorynlp_german':\n",
    "    emo_dict= {'neutral': 0, 'sad': 1, 'mad':2, 'joyful':3, 'peaceful':4,'powerful':5, 'scared':6}\n",
    "    focus_dict = ['neutral', 'sad', 'mad', 'joyful', 'peaceful', 'powerful', 'scared']\n",
    "    sentiment_dict = {'neutral': 0, 'sad': 1, 'mad':1, 'joyful':2, 'peaceful':2,'powerful':2, 'scared':1}\n",
    "elif args.emoset == 'friends' or args.emoset == 'friends_german':\n",
    "\n",
    "    emo_dict = {'neutral': 0, 'sadness': 1, 'anger':2, 'joy':3, 'non-neutral':4,'surprise':5, 'fear':6, 'disgust':7}\n",
    "    focus_dict = ['neutral', 'sadness', 'anger', 'joy']\n",
    "    sentiment_dict = {'neutral': 0, 'sadness': 1, 'anger':1, 'joy':2, 'non-neutral':0, 'surprise':2,'fear':1, 'disgust':1}\n",
    "elif args.emoset == 'emotionpush' or args.emoset == 'emotionpush_german':\n",
    "  \n",
    "    emo_dict = {'neutral': 0, 'sadness': 1, 'anger':2, 'joy':3, 'non-neutral':4,'surprise':5, 'fear':6, 'disgust':7}\n",
    "    focus_dict = ['neutral', 'sadness', 'anger', 'joy']\n",
    "    sentiment_dict = {'neutral': 0, 'sadness': 1, 'anger':1, 'joy':2, 'non-neutral':0, 'peaceful':2,'powerful':1, 'scared':1}\n",
    "elif args.emoset == 'semeval':\n",
    "\n",
    "    emo_dict = {'others': 0, 'sad': 1, 'angry':2, 'happy':3}\n",
    "    focus_dict = ['sad', 'angry', 'happy']\n",
    "    sentiment_dict = {'others': 0, 'sad': 1, 'angry':1, 'happy':2}\n",
    "\n",
    "    \n",
    "print('Emotion Mapping {}'.format(emo_dict))\n",
    "print('Focus Emotion {}'.format(focus_dict))\n",
    "emo_count = {}\n",
    "for emo in emo_dict.keys():\n",
    "        emo_count[emo] =df_train['label'].value_counts()[emo]\n",
    "print('Emotion Label Distribution in Training Set {}'.format(emo_count))\n",
    "\n",
    "emo_count = {}\n",
    "for emo in emo_dict.keys():\n",
    "        emo_count[emo] =df_val['label'].value_counts()[emo]\n",
    "print('Emotion Label Distribution in Validation Set {}'.format(emo_count))\n",
    "emo_count = {}\n",
    "for emo in emo_dict.keys():\n",
    "    emo_count[emo] =df_test['label'].value_counts()[emo]\n",
    "print('Emotion Label Distribution in Test Set {}'.format(emo_count))"
   ]
  },
  {
   "cell_type": "markdown",
   "id": "2e2fe082",
   "metadata": {},
   "source": [
    "#  Number of Dialogues in Training and Evaluation Sets"
   ]
  },
  {
   "cell_type": "code",
   "execution_count": 20,
   "id": "8ede9fc5",
   "metadata": {},
   "outputs": [
    {
     "name": "stdout",
     "output_type": "stream",
     "text": [
      "713 99 85\n"
     ]
    }
   ],
   "source": [
    "if not args.emoset == 'semeval':\n",
    "    print ( '{} {} {}' .format(len(df_train['dialogue_id'].unique()), len(df_val['dialogue_id'].unique()), len(df_test['dialogue_id'].unique())))"
   ]
  },
  {
   "cell_type": "markdown",
   "id": "598a8d51",
   "metadata": {},
   "source": [
    "#  Number of utterances in Training and Evaluation Sets"
   ]
  },
  {
   "cell_type": "code",
   "execution_count": 21,
   "id": "1c33caa0",
   "metadata": {},
   "outputs": [
    {
     "data": {
      "text/plain": [
       "(9934, 1344, 1328)"
      ]
     },
     "execution_count": 21,
     "metadata": {},
     "output_type": "execute_result"
    }
   ],
   "source": [
    "df_train.shape[0], df_val.shape[0], df_test.shape[0]"
   ]
  },
  {
   "cell_type": "code",
   "execution_count": 22,
   "id": "ba4d1377",
   "metadata": {
    "scrolled": true
   },
   "outputs": [
    {
     "name": "stdout",
     "output_type": "stream",
     "text": [
      "<class 'pandas.core.frame.DataFrame'>\n",
      "RangeIndex: 9934 entries, 0 to 9933\n",
      "Data columns (total 5 columns):\n",
      " #   Column         Non-Null Count  Dtype \n",
      "---  ------         --------------  ----- \n",
      " 0   dialogue_id    9934 non-null   object\n",
      " 1   utterance      9934 non-null   object\n",
      " 2   speaker        9934 non-null   object\n",
      " 3   utterance_len  9934 non-null   object\n",
      " 4   label          9934 non-null   object\n",
      "dtypes: object(5)\n",
      "memory usage: 388.2+ KB\n"
     ]
    }
   ],
   "source": [
    "df_train.info()"
   ]
  },
  {
   "cell_type": "markdown",
   "id": "3ceb9583",
   "metadata": {},
   "source": [
    "##  Comparison of class distribution in Training vs Evaluation data sets\n",
    "\n",
    "| Emotion | Neutral | Sad | Anger(Mad) | Joy | Peaceful | Powerful | Scared| # |\n",
    "| :-: | :-: | :-: | :-: | :-: | :-: | :-: | :-: | :-: |\n",
    "| Train | 3034 |671 | 1076| 2184|900 |784 | 1285| 9934|\n",
    "| Dev | 393 |75 | 143| 289|132 |134 | 178| 1344|\n",
    "| Test | 349 |98 | 113| 282|159 |145 | 182| 1328|"
   ]
  },
  {
   "cell_type": "code",
   "execution_count": 26,
   "id": "175f2183",
   "metadata": {},
   "outputs": [
    {
     "data": {
      "text/plain": [
       "[Text(0, 0, 'neutral'),\n",
       " Text(1, 0, 'sad'),\n",
       " Text(2, 0, 'mad'),\n",
       " Text(3, 0, 'joyful'),\n",
       " Text(4, 0, 'peaceful'),\n",
       " Text(5, 0, 'powerful'),\n",
       " Text(6, 0, 'scared')]"
      ]
     },
     "execution_count": 26,
     "metadata": {},
     "output_type": "execute_result"
    },
    {
     "data": {
      "image/png": "[encoded data removed]",
      "text/plain": [
       "<Figure size 864x576 with 3 Axes>"
      ]
     },
     "metadata": {},
     "output_type": "display_data"
    }
   ],
   "source": [
    "data = [df_train['label'], df_val['label'], df_test['label']]\n",
    "columns=list(('Training', 'Validation', 'Test'))\n",
    "df_labels = pd.concat(data, axis=1, keys=columns)\n",
    "\n",
    "fig, ax =plt.subplots(1,3)\n",
    "fig.suptitle('Comparison of class distribution in Training vs Evaluation data sets', fontsize=16)\n",
    "fig.tight_layout()\n",
    "if args.emoset == 'friends' or args.emoset == 'emotionpush':\n",
    "    emotion_list = ['neutral', 'sadness', 'anger', 'joy', 'non-neutral', 'disgust', 'fear', 'surprise' ]\n",
    "elif args.emoset == 'emorynlp':\n",
    "    emotion_list = ['neutral', 'sad', 'mad', 'joyful','peaceful', 'powerful', 'scared' ]\n",
    "else:\n",
    "    emotion_list = ['happy', 'sad', 'angry', 'others']\n",
    "chart = sns.countplot(x=\"Training\",   data=df_labels, order = emotion_list, ax=ax[0])\n",
    "chart.set_xticklabels(chart.get_xticklabels(), rotation=45, horizontalalignment='right')\n",
    "chart = sns.countplot(x=\"Validation\", data=df_labels, order = emotion_list, ax=ax[1])\n",
    "chart.set_xticklabels(chart.get_xticklabels(), rotation=45, horizontalalignment='right')\n",
    "chart = sns.countplot(x=\"Test\",       data=df_labels, order = emotion_list, ax=ax[2])\n",
    "chart.set_xticklabels(chart.get_xticklabels(), rotation=45, horizontalalignment='right')"
   ]
  },
  {
   "cell_type": "markdown",
   "id": "c0630b58",
   "metadata": {},
   "source": [
    "# Scale of class imbalance is similar in Training and Evaluation data sets\n",
    "| Emotion | Neutral | Sad | Anger(Mad) | Joy | Peaceful | Powerful | Scared|\n",
    "| :-: | :-: | :-: | :-: | :-: | :-: | :-: | :-: | \n",
    "| Train | 30% |7% | 11%| 22%|9%|8% | 13%|\n",
    "| Dev | 29% |6% | 11%| 21%|10% |10% | 13%| \n",
    "| Test | 26% |7% |9%| 21%|12% |11% | 14%|\n",
    "\n",
    "Distribution of classes is almost similar among training and eval sets"
   ]
  },
  {
   "cell_type": "code",
   "execution_count": 27,
   "id": "df0da78b",
   "metadata": {},
   "outputs": [
    {
     "data": {
      "text/plain": [
       "<matplotlib.legend.Legend at 0x179edc4fd00>"
      ]
     },
     "execution_count": 27,
     "metadata": {},
     "output_type": "execute_result"
    },
    {
     "data": {
      "image/png": "[encoded data removed]",
      "text/plain": [
       "<Figure size 864x576 with 1 Axes>"
      ]
     },
     "metadata": {},
     "output_type": "display_data"
    }
   ],
   "source": [
    "train = pd.Series(['Training'] , ['name'])\n",
    "train = train.append(df_labels['Training'].value_counts().div(df_labels['Training'].value_counts().sum()))\n",
    "val = pd.Series(['Validation'] , ['name'])\n",
    "val = val.append(df_labels['Validation'].value_counts().div(df_labels['Validation'].value_counts().sum()))\n",
    "test = pd.Series(['Test'] , ['name'])\n",
    "test = test.append(df_labels['Test'].value_counts().div(df_labels['Test'].value_counts().sum()))\n",
    "\n",
    "df_stacked = pd.DataFrame(columns = emotion_list)\n",
    "\n",
    "df_stacked = df_stacked.append(train,ignore_index=True)\n",
    "df_stacked = df_stacked.append(val,ignore_index=True)\n",
    "df_stacked = df_stacked.append(test,ignore_index=True)\n",
    "# plot a Stacked Bar Chart using matplotlib\n",
    "df_stacked.plot(\n",
    "    x = 'name',\n",
    "    kind = 'bar',\n",
    "    stacked = True,\n",
    "    title = 'Stacked Bar Graph',\n",
    "    mark_right = False, \n",
    "    colormap='gist_rainbow'\n",
    "   ).legend(bbox_to_anchor=(1, 1))"
   ]
  },
  {
   "cell_type": "markdown",
   "id": "f9c73480",
   "metadata": {},
   "source": [
    "# Distribution of number of utterances per dialogue in Train and Evaluation Sets\n",
    "- Minimum and maximum value of number of utterances per dialogue is same across 3 sets, 5 and 25 respectively\n"
   ]
  },
  {
   "cell_type": "code",
   "execution_count": 28,
   "id": "cad60dfc",
   "metadata": {},
   "outputs": [],
   "source": [
    "train_dialogue_id_list = list((df_train['dialogue_id'].unique()))\n",
    "val_dialogue_id_list = list((df_val['dialogue_id'].unique()))\n",
    "test_dialogue_id_list = list((df_test['dialogue_id'].unique()))\n",
    "d = {\"Training\":[],\"Validation\":[],\"Test\":[] };\n",
    "for dialogue in train_dialogue_id_list:\n",
    "     d['Training'].append((df_train.dialogue_id ==dialogue).sum())\n",
    "for dialogue in val_dialogue_id_list:\n",
    "     d['Validation'].append((df_val.dialogue_id ==dialogue).sum())\n",
    "for dialogue in test_dialogue_id_list:\n",
    "     d['Test'].append((df_test.dialogue_id ==dialogue).sum())\n",
    "\n",
    "\n"
   ]
  },
  {
   "cell_type": "code",
   "execution_count": 29,
   "id": "b8e5c5c8",
   "metadata": {},
   "outputs": [
    {
     "name": "stdout",
     "output_type": "stream",
     "text": [
      "Train Set: Utterance per dialogue statistics : Min: 5, Max: 25 Avg: 13.93\n",
      "Validation Set: Utterance per dialogue statistics : Min: 5, Max: 25 Avg: 13.58\n",
      "Test Set: Utterance per dialogue statistics : Min: 5, Max: 25 Avg: 15.62\n"
     ]
    }
   ],
   "source": [
    "\n",
    "print('Train Set: Utterance per dialogue statistics : Min: {}, Max: {} Avg: {}'.format(min(d['Training']), max(d['Training']), np.round(sum(d['Training'])/len(d['Training']), 2)))\n",
    "print('Validation Set: Utterance per dialogue statistics : Min: {}, Max: {} Avg: {}'.format(min(d['Validation']), max(d['Validation']), np.round(sum(d['Validation'])/len(d['Validation']), 2)))\n",
    "print('Test Set: Utterance per dialogue statistics : Min: {}, Max: {} Avg: {}'.format(min(d['Test']), max(d['Test']), np.round(sum(d['Test'])/len(d['Test']), 2)))"
   ]
  },
  {
   "cell_type": "code",
   "execution_count": 30,
   "id": "d175a5ae",
   "metadata": {},
   "outputs": [
    {
     "data": {
      "text/plain": [
       "<AxesSubplot:title={'center':'Test'}, ylabel='Count'>"
      ]
     },
     "execution_count": 30,
     "metadata": {},
     "output_type": "execute_result"
    },
    {
     "data": {
      "image/png": "[encoded data removed]",
      "text/plain": [
       "<Figure size 864x576 with 3 Axes>"
      ]
     },
     "metadata": {},
     "output_type": "display_data"
    }
   ],
   "source": [
    "fig, ax =plt.subplots(ncols=3)\n",
    "fig.suptitle('Distribution of utterances per dialogue in Train and Evaluation Sets', fontsize=16)\n",
    "fig.tight_layout()\n",
    "bins = [0] * 3\n",
    "if args.emoset == 'friends':\n",
    "    bins[0] = 20\n",
    "    bins[1] = 20\n",
    "    bins[2] = 20\n",
    "elif args.emoset == 'emotionpush':\n",
    "    bins[0] = 19\n",
    "    bins[1] = 19\n",
    "    bins[2] = 20\n",
    "elif args.emoset == 'emorynlp':\n",
    "    bins[0] = 20\n",
    "    bins[1] = 20\n",
    "    bins[2] = 20\n",
    "\n",
    "ax[0].set_title('Training')\n",
    "ax[0].set_xlim([0, 30])\n",
    "sns.histplot(d['Training'] , ax=ax[0], bins= bins[0], stat = 'count' )\n",
    "\n",
    "ax[1].set_title('Validation')\n",
    "ax[1].set_xlim([0, 30])\n",
    "sns.histplot(d['Validation'] , ax=ax[1], bins= bins[1], stat = 'count')\n",
    "\n",
    "ax[2].set_title('Test')\n",
    "ax[2].set_xlim([0, 30])\n",
    "sns.histplot(d['Test'] , ax=ax[2], bins= bins[2], stat = 'count')\n"
   ]
  },
  {
   "cell_type": "markdown",
   "id": "c9288af9",
   "metadata": {},
   "source": [
    "# Distribution of Utterance Length in Train and Evaluation Sets\n",
    "- Length of utterances follows almost similar distribution in train and evaluation datasets\n"
   ]
  },
  {
   "cell_type": "code",
   "execution_count": 31,
   "id": "bbe8633f",
   "metadata": {},
   "outputs": [],
   "source": [
    "d = {\"Training\":[],\"Validation\":[],\"Test\":[] }\n",
    "\n",
    "if not args.emoset == 'semeval':\n",
    "    d['Training'] = list(df_train['utterance_len'].values)\n",
    "    d['Validation'] = list(df_val['utterance_len'].values)\n",
    "    d['Test'] = list(df_test['utterance_len'].values)\n",
    "else:\n",
    "    for col in ['turn1', 'turn2', 'turn3']:\n",
    "        for tokens in df_train[col]:\n",
    "            d['Training'].append(len(tokens.split()))\n",
    "        for tokens in df_val[col]:\n",
    "            d['Validation'].append(len(tokens.split()))\n",
    "        for tokens in df_test[col]:\n",
    "            d['Test'].append(len(tokens.split()))\n",
    "        "
   ]
  },
  {
   "cell_type": "markdown",
   "id": "215f1114",
   "metadata": {},
   "source": [
    "Minimum and maximum value of utterance length in train, val and test sets"
   ]
  },
  {
   "cell_type": "code",
   "execution_count": 32,
   "id": "02c20733",
   "metadata": {},
   "outputs": [
    {
     "name": "stdout",
     "output_type": "stream",
     "text": [
      "Train Set: Utterance length statistics : Min: 1, Max: 148 Avg: 10.45\n",
      "Validation Set: Utterance length statistics : Min: 1, Max: 69 Avg: 10.03\n",
      "Test Set: Utterance length statistics : Min: 1, Max: 77 Avg: 10.18\n"
     ]
    }
   ],
   "source": [
    "print('Train Set: Utterance length statistics : Min: {}, Max: {} Avg: {}'.format(min(d['Training']), max(d['Training']), np.round(sum(d['Training'])/len(d['Training']), 2)))\n",
    "print('Validation Set: Utterance length statistics : Min: {}, Max: {} Avg: {}'.format(min(d['Validation']), max(d['Validation']), np.round(sum(d['Validation'])/len(d['Validation']), 2)))\n",
    "print('Test Set: Utterance length statistics : Min: {}, Max: {} Avg: {}'.format(min(d['Test']), max(d['Test']), np.round(sum(d['Test'])/len(d['Test']), 2)))"
   ]
  },
  {
   "cell_type": "code",
   "execution_count": 33,
   "id": "da526190",
   "metadata": {},
   "outputs": [
    {
     "name": "stdout",
     "output_type": "stream",
     "text": [
      "99 percentile for Training Data 52.0\n",
      "99 percentile for Validation Data 45.569999999999936\n",
      "99 percentile for Test Data 51.73000000000002\n"
     ]
    }
   ],
   "source": [
    "print('99 percentile for Training Data {}'.format(np.percentile(np.asarray(d['Training']), 99)))\n",
    "print('99 percentile for Validation Data {}'.format(np.percentile(np.asarray(d['Validation']), 99)))\n",
    "print('99 percentile for Test Data {}'.format(np.percentile(np.asarray(d['Test']), 99)))"
   ]
  },
  {
   "cell_type": "code",
   "execution_count": 34,
   "id": "66c31dab",
   "metadata": {},
   "outputs": [
    {
     "data": {
      "image/png": "[encoded data removed]",
      "text/plain": [
       "<Figure size 864x576 with 3 Axes>"
      ]
     },
     "metadata": {},
     "output_type": "display_data"
    }
   ],
   "source": [
    "fig, ax =plt.subplots(1,3)\n",
    "fig.suptitle('Distribution of utterances length in Train and Evaluation Sets', fontsize=16)\n",
    "fig.tight_layout()\n",
    "\n",
    "if args.emoset == 'friends':\n",
    "    ax[0].set_title('Training')\n",
    "    ax[0].set_xlim([0, 40])\n",
    "    ax[0].set(xlabel='Utterance_length', ylabel='Probability')\n",
    "    ax[0].hist(d['Training'], bins = 50, density = True)\n",
    "\n",
    "    ax[1].set_title('Validation')\n",
    "    ax[1].set_xlim([0, 40])\n",
    "    ax[1].hist(d['Validation'], bins = 27, density = True)\n",
    "    ax[1].set(xlabel='Utterance_length', ylabel='Probability')\n",
    "\n",
    "\n",
    "    ax[2].set_title('Test')\n",
    "    ax[2].set_xlim([0, 40])\n",
    "    ax[2].hist(d['Test'], bins = 32, density = True)\n",
    "    ax[2].set(xlabel='Utterance_length', ylabel='Probability')\n",
    "elif args.emoset == 'emotionpush':\n",
    "    ax[0].set_title('Training')\n",
    "    ax[0].set_xlim([0, 40])\n",
    "    ax[0].set(xlabel='Utterance_length', ylabel='Probability')\n",
    "    ax[0].hist(d['Training'], bins = 125, density = True)\n",
    "\n",
    "    ax[1].set_title('Validation')\n",
    "    ax[1].set_xlim([0, 40])\n",
    "    ax[1].hist(d['Validation'], bins = 175, density = True)\n",
    "    ax[1].set(xlabel='Utterance_length', ylabel='Probability')\n",
    "\n",
    "\n",
    "    ax[2].set_title('Test')\n",
    "    ax[2].set_xlim([0, 40])\n",
    "    ax[2].hist(d['Test'], bins = 65, density = True)\n",
    "    ax[2].set(xlabel='Utterance_length', ylabel='Probability')\n",
    "elif args.emoset == 'emorynlp':\n",
    "    ax[0].set_title('Training')\n",
    "    ax[0].set_xlim([0, 60])\n",
    "    ax[0].set(xlabel='Utterance_length', ylabel='Probability')\n",
    "    ax[0].hist(d['Training'], bins = 100, density = True)\n",
    "\n",
    "    ax[1].set_title('Validation')\n",
    "    ax[1].set_xlim([0, 60])\n",
    "    ax[1].hist(d['Validation'], bins = 50, density = True)\n",
    "    ax[1].set(xlabel='Utterance_length', ylabel='Probability')\n",
    "\n",
    "\n",
    "    ax[2].set_title('Test')\n",
    "    ax[2].set_xlim([0, 60])\n",
    "    ax[2].hist(d['Test'], bins = 55, density = True)\n",
    "    ax[2].set(xlabel='Utterance_length', ylabel='Probability')"
   ]
  },
  {
   "cell_type": "markdown",
   "id": "5d82d0f0",
   "metadata": {},
   "source": [
    "### Speaker_Embedding\n",
    "Train/Validation/Test data sets have 6 prominent speakets. We can encode speaker information in two ways\n",
    " - Use one hot encoder to assign a unique value to each speaker\n",
    " - Change speaker name to unknow for any speaker outside the list of most common speakers. USe one hot encoder to encode 'First Siy Speakers' + 'Unknown'\n",
    " \n",
    "We choose the first approach."
   ]
  },
  {
   "cell_type": "code",
   "execution_count": 35,
   "id": "d7623fce",
   "metadata": {},
   "outputs": [
    {
     "data": {
      "image/png": "[encoded data removed]",
      "text/plain": [
       "<Figure size 864x576 with 3 Axes>"
      ]
     },
     "metadata": {},
     "output_type": "display_data"
    }
   ],
   "source": [
    "if not args.emoset == 'semeval':\n",
    "    fig, ax =plt.subplots(ncols=3)\n",
    "    fig.suptitle('Distribution of utterances per dialogue in Train and Evaluation Sets', fontsize=16)\n",
    "    fig.tight_layout()\n",
    "    ax[0].set_title('Training')\n",
    "    chart = sns.countplot(data=df_train, x='speaker', order=df_train.speaker.value_counts().index[0:10], ax = ax[0])\n",
    "    chart.set_xticklabels(chart.get_xticklabels(), rotation=45, horizontalalignment='right')\n",
    "\n",
    "    ax[1].set_title('Validation')\n",
    "    chart = sns.countplot(data=df_val, x='speaker', order=df_val.speaker.value_counts().index[0:10], ax = ax[1])\n",
    "    chart.set_xticklabels(chart.get_xticklabels(), rotation=45, horizontalalignment='right')\n",
    "\n",
    "    ax[2].set_title('Test')\n",
    "    chart =  sns.countplot(data=df_test, x='speaker', order=df_test.speaker.value_counts().index[0:10], ax = ax[2])\n",
    "    chart.set_xticklabels(chart.get_xticklabels(), rotation=45, horizontalalignment='right')"
   ]
  },
  {
   "cell_type": "markdown",
   "id": "800705bb",
   "metadata": {},
   "source": [
    "# Data Normalization\n",
    "\n",
    "Normalizing a natural language resource,helps in reducing the randomness in it, bringing it closer to a predefined “standard” and reducing the dimensionality of the input,\n",
    "\n",
    "We use following normalization techniques:\n",
    "\n",
    "- Removal of duplicate whitespaces and punctuation.\n",
    "- Accent removal \n",
    "- Capital letter removal \n",
    "- Removal or substitution of special characters/emojis \n",
    "- Substitution of contractions (very common in English; e.g.: ‘I’m’→‘I am’).\n",
    "- Transform word numerals into numbers (eg.: ‘fifty three’→‘53’).\n",
    "- Removal of gender/time/grade variation with Stemming or Lemmatization.\n",
    "\n"
   ]
  },
  {
   "cell_type": "code",
   "execution_count": 36,
   "id": "bea40569",
   "metadata": {},
   "outputs": [],
   "source": [
    "from symspellpy.symspellpy import SymSpell, Verbosity\n",
    "import pkg_resources\n",
    "import re, string, json\n",
    "import spacy\n",
    "from tqdm.notebook import tqdm\n",
    "\n",
    "def simplify_punctuation_and_whitespace(sentence_list):\n",
    "    norm_sents = []\n",
    "    print(\"Normalizing whitespaces and punctuation\")\n",
    "    for sentence in tqdm(sentence_list):\n",
    "        sent = _replace_urls(sentence)\n",
    "        sent = _simplify_punctuation(sentence)\n",
    "        sent = _normalize_whitespace(sent)\n",
    "        norm_sents.append(sent)\n",
    "    return norm_sents\n",
    "\n",
    "def _replace_urls(text):\n",
    "    url_regex = r'(https?:\\/\\/(?:www\\.|(?!www))[a-zA-Z0-9][a-zA-Z0-9-]+[a-zA-Z0-9]\\.[^\\s]{2,}|www\\.[a-zA-Z0-9][a-zA-Z0-9-]+[a-zA-Z0-9]\\.[^\\s]{2,}|https?:\\/\\/(?:www\\.|(?!www))[a-zA-Z0-9]+\\.[^\\s]{2,}|www\\.[a-zA-Z0-9]+\\.[^\\s]{2,})'\n",
    "    text = re.sub(url_regex, \"<URL>\", text)\n",
    "    return text\n",
    "\n",
    "def _simplify_punctuation(text):\n",
    "    \"\"\"\n",
    "    This function simplifies doubled or more complex punctuation. The exception is '...'.\n",
    "    \"\"\"\n",
    "    corrected = str(text)\n",
    "    corrected = re.sub(r'([!?,;])\\1+', r'\\1', corrected)\n",
    "    corrected = re.sub(r'\\.{2,}', r'...', corrected)\n",
    "    return corrected\n",
    "\n",
    "def _normalize_whitespace(text):\n",
    "    \"\"\"\n",
    "    This function normalizes whitespaces, removing duplicates.\n",
    "    \"\"\"\n",
    "    corrected = str(text)\n",
    "    corrected = re.sub(r\"//t\",r\"\\t\", corrected)\n",
    "    corrected = re.sub(r\"( )\\1+\",r\"\\1\", corrected)\n",
    "    corrected = re.sub(r\"(\\n)\\1+\",r\"\\1\", corrected)\n",
    "    corrected = re.sub(r\"(\\r)\\1+\",r\"\\1\", corrected)\n",
    "    corrected = re.sub(r\"(\\t)\\1+\",r\"\\1\", corrected)\n",
    "    return corrected.strip(\" \")\n",
    "\n",
    "def normalize_contractions(sentence_list):\n",
    "    contraction_list = json.loads(open('english_contractions.json', 'r').read())\n",
    "    norm_sents = []\n",
    "    print(\"Normalizing contractions\")\n",
    "    for sentence in tqdm(sentence_list):\n",
    "        norm_sents.append(_normalize_contractions_text(sentence, contraction_list))\n",
    "    return norm_sents\n",
    "\n",
    "def _normalize_contractions_text(text, contractions):\n",
    "    \"\"\"\n",
    "    This function normalizes english contractions.\n",
    "    \"\"\"\n",
    "    new_token_list = []\n",
    "    token_list = text.split()\n",
    "    for word_pos in range(len(token_list)):\n",
    "        word = token_list[word_pos]\n",
    "        first_upper = False\n",
    "        if word[0].isupper():\n",
    "            first_upper = True\n",
    "        if word.lower() in contractions:\n",
    "            replacement = contractions[word.lower()]\n",
    "            if first_upper:\n",
    "                replacement = replacement[0].upper()+replacement[1:]\n",
    "            replacement_tokens = replacement.split()\n",
    "            if len(replacement_tokens)>1:\n",
    "                new_token_list.append(replacement_tokens[0])\n",
    "                new_token_list.append(replacement_tokens[1])\n",
    "            else:\n",
    "                new_token_list.append(replacement_tokens[0])\n",
    "        else:\n",
    "            new_token_list.append(word)\n",
    "    sentence = \" \".join(new_token_list).strip(\" \")\n",
    "    return sentence\n",
    "\n",
    "def spell_correction(sentence_list):\n",
    "    max_edit_distance_dictionary= 3\n",
    "    prefix_length = 4\n",
    "    spellchecker = SymSpell(max_edit_distance_dictionary, prefix_length)\n",
    "    dictionary_path = pkg_resources.resource_filename(\n",
    "        \"symspellpy\", \"frequency_dictionary_en_82_765.txt\")\n",
    "    bigram_path = pkg_resources.resource_filename(\n",
    "        \"symspellpy\", \"frequency_bigramdictionary_en_243_342.txt\")\n",
    "    spellchecker.load_dictionary(dictionary_path, term_index=0, count_index=1)\n",
    "    spellchecker.load_bigram_dictionary(dictionary_path, term_index=0, count_index=2)\n",
    "    norm_sents = []\n",
    "    print(\"Spell correcting\")\n",
    "    for sentence in tqdm(sentence_list):\n",
    "        norm_sents.append(_spell_correction_text(sentence, spellchecker))\n",
    "    return norm_sents\n",
    "\n",
    "def _spell_correction_text(text, spellchecker):\n",
    "    \"\"\"\n",
    "    This function does very simple spell correction normalization using pyspellchecker module. It works over a tokenized sentence and only the token representations are changed.\n",
    "    \"\"\"\n",
    "    if len(text) < 1:\n",
    "        return \"\"\n",
    "    #Spell checker config\n",
    "    max_edit_distance_lookup = 2\n",
    "    suggestion_verbosity = Verbosity.TOP # TOP, CLOSEST, ALL\n",
    "    #End of Spell checker config\n",
    "    token_list = text.split()\n",
    "    for word_pos in range(len(token_list)):\n",
    "        word = token_list[word_pos]\n",
    "        if word is None:\n",
    "            token_list[word_pos] = \"\"\n",
    "            continue\n",
    "        if not '\\n' in word and word not in string.punctuation and not is_numeric(word) and not (word.lower() in spellchecker.words.keys()):\n",
    "            suggestions = spellchecker.lookup(word.lower(), suggestion_verbosity, max_edit_distance_lookup)\n",
    "            #Checks first uppercase to conserve the case.\n",
    "            upperfirst = word[0].isupper()\n",
    "            #Checks for correction suggestions.\n",
    "            if len(suggestions) > 0:\n",
    "                correction = suggestions[0].term\n",
    "                replacement = correction\n",
    "            #We call our _reduce_exaggerations function if no suggestion is found. Maybe there are repeated chars.\n",
    "            else:\n",
    "                replacement = _reduce_exaggerations(word)\n",
    "            #Takes the case back to the word.\n",
    "            if upperfirst:\n",
    "                replacement = replacement[0].upper()+replacement[1:]\n",
    "            word = replacement\n",
    "            token_list[word_pos] = word\n",
    "    return \" \".join(token_list).strip()\n",
    "\n",
    "def _reduce_exaggerations(text):\n",
    "    \"\"\"\n",
    "    Auxiliary function to help with exxagerated words.\n",
    "    Examples:\n",
    "        woooooords -> words\n",
    "        yaaaaaaaaaaaaaaay -> yay\n",
    "    \"\"\"\n",
    "    correction = str(text)\n",
    "    #TODO work on complexity reduction.\n",
    "    return re.sub(r'([\\w])\\1+', r'\\1', correction)\n",
    "\n",
    "def is_numeric(text):\n",
    "    for char in text:\n",
    "        if not (char in \"0123456789\" or char in \",%.$\"):\n",
    "            return False\n",
    "    return True\n",
    "\n",
    "def lemmatize(sentence_list):\n",
    "    new_norm=[]\n",
    "    print(\"Lemmatizing Sentences\")\n",
    "    for sentence in tqdm(sentence_list):\n",
    "        new_norm.append(_lemmatize_text(sentence, nlp).strip())\n",
    "    return new_norm\n",
    "\n",
    "def _lemmatize_text(sentence, nlp):\n",
    "    sent = \"\"\n",
    "    doc = nlp(sentence)\n",
    "    for token in doc:\n",
    "        if '@' in token.text:\n",
    "            sent+=\" @MENTION\"\n",
    "        elif '#' in token.text:\n",
    "            sent+= \" #HASHTAG\"\n",
    "        else:\n",
    "            sent+=\" \"+token.lemma_\n",
    "    return sent\n",
    "\n",
    "def basic_string_manipulation(text):\n",
    "    text = re.sub(r'[,;:?!-\\(\\)\\[\\].]+',' \\g<0> ', text)\n",
    "    return text\n",
    "\n",
    "def count_num_tokens(text):\n",
    "    tokens = text.split()\n",
    "    return len(tokens)\n",
    "\n",
    "def generate_dict_from_text(text):\n",
    "    tokens = text.split()\n",
    "    word_freq_dic= {}\n",
    "    for token in tokens:\n",
    "        word_freq_dic[token]= word_freq_dic.get(token, 1)+1\n",
    "    return word_freq_dic\n",
    "\n",
    "def num_distinct_tokens(text):\n",
    "    tokens = text.split()\n",
    "    dist_tokens = set()\n",
    "    for token in tokens:\n",
    "        dist_tokens.add(token)\n",
    "    return len(dist_tokens)\n",
    "\n",
    "def common_tokens(text, common_list):\n",
    "    tokens = text.split()\n",
    "    common_token_num = 0\n",
    "    for token in tokens:\n",
    "        if token in common_list:\n",
    "            common_token_num+=1\n",
    "    return common_token_num\n",
    "\n",
    "def get_most_used_tokens(token_dict):\n",
    "    #uses the 20-80 rule, where 20% of the words usually correspond to 80% of the total number of words.\n",
    "    total_num_words = sum(token_dict.values())\n",
    "    most_used = []\n",
    "    total_most_used = 0\n",
    "    word_iterator = iter(sorted(token_dict.items(), key=lambda x: x[1], reverse=True))\n",
    "    while total_most_used < total_num_words*0.8:\n",
    "        word_tuple = next(word_iterator)\n",
    "        most_used.append(word_tuple[0])\n",
    "        total_most_used+=word_tuple[1]\n",
    "    return most_used\n",
    "\n",
    "def normalization_pipeline(sentences):\n",
    "    print(\"##############################\")\n",
    "    print(\"Starting Normalization Process\")\n",
    "    sentences = simplify_punctuation_and_whitespace(sentences)\n",
    "    #sentences = normalize_contractions(sentences)\n",
    "    #sentences = spell_correction(sentences)\n",
    "    #sentences = lemmatize(sentences)\n",
    "    print(\"Normalization Process Finished\")\n",
    "    print(\"##############################\")\n",
    "    return sentences\n",
    "\n",
    "def text_preprocess(df):\n",
    "    unormalized = list(df.utterance.values)\n",
    "    normalized = normalization_pipeline(unormalized)\n",
    "    unorm_df = pd.DataFrame(columns=['Text'], data=unormalized)\n",
    "    norm_df = pd.DataFrame(columns=['Text'], data=normalized)\n",
    "    unorm_df['Preprocessed'] = unorm_df['Text'].apply(lambda x: basic_string_manipulation(x))\n",
    "    norm_df['Preprocessed'] = norm_df['Text'].apply(lambda x: basic_string_manipulation(x))\n",
    "    norm_df['Size_in_Tokens']=unorm_df['Text'].apply(lambda x: count_num_tokens(x))\n",
    "    df['utterance'] = norm_df['Text']\n",
    "    df['utterance_len'] = norm_df['Size_in_Tokens']\n",
    "    return df"
   ]
  },
  {
   "cell_type": "markdown",
   "id": "0a8d29f2",
   "metadata": {},
   "source": [
    "We saw that doing any kind of preprocessing on text results in compartitively poorer performance. So we comment out this part of the code. \n",
    "\n"
   ]
  },
  {
   "cell_type": "code",
   "execution_count": 37,
   "id": "59cc6a4c",
   "metadata": {},
   "outputs": [
    {
     "data": {
      "text/plain": [
       "\"\\nnlp = spacy.load('en_core_web_sm')\\n(df_train, df_val, df_test)  = load_df(args)   \\ndf_train = text_preprocess(df_train)\\ndf_val = text_preprocess(df_val)\\ndf_test = text_preprocess(df_test)\\n\""
      ]
     },
     "execution_count": 37,
     "metadata": {},
     "output_type": "execute_result"
    }
   ],
   "source": [
    "'''\n",
    "nlp = spacy.load('en_core_web_sm')\n",
    "(df_train, df_val, df_test)  = load_df(args)   \n",
    "df_train = text_preprocess(df_train)\n",
    "df_val = text_preprocess(df_val)\n",
    "df_test = text_preprocess(df_test)\n",
    "'''"
   ]
  },
  {
   "cell_type": "markdown",
   "id": "0d8ad128",
   "metadata": {},
   "source": [
    "# Label Transition Probability Visualization\n",
    "- To check for possible patterns in the label sequences of the datasets, we plot frequency of the label\n",
    "  pairs (x;y) where x and y are the labels of ${U}_{s_{t-1}, t-1}$ and ${U}_{s_{t}, t}$ respectively\n",
    "- Plot show the same emotion label or neutral label appearing in the consecutive utterances with high frequency. This may    \n",
    "  induce label dependencies and consistencies and can be called as the label copying feature of the dataset."
   ]
  },
  {
   "cell_type": "code",
   "execution_count": 38,
   "id": "5461826f",
   "metadata": {},
   "outputs": [],
   "source": [
    "'''\n",
    "  Calculate and Visualize Label Transition Probabilities DataFrame\n",
    "  Parameters\n",
    "    ----------\n",
    "    df : Pandas Dataframe \n",
    "        Pandas dataframe repersenting Train/Val/Test Data\n",
    "    emo_dict : Python Dictionary\n",
    "        Python Dictionary specifying the encoded value of emotion labels. \n",
    "  Returns\n",
    "    -------\n",
    "    None\n",
    "'''\n",
    "\n",
    "\n",
    "def VisualizeTransitionProb(df, emo_dict):\n",
    "    \n",
    "    sequence =  list(df.label)\n",
    "    trans_mat= pd.crosstab( pd.Series(sequence[:-1], name='From State'),\n",
    "                     pd.Series(sequence[1:], name='To State'),\n",
    "                     normalize=0\n",
    "                     )\n",
    "    trans_mat = np.round(trans_mat, 2)\n",
    "    trans_mat = trans_mat[emo_dict.keys()]\n",
    "    trans_mat= trans_mat.reindex(emo_dict.keys())\n",
    "    h = [trans_mat.index.names[0] +'/'+ trans_mat.columns.names[0]] + list(trans_mat.columns.tolist())\n",
    "    print(tabulate(trans_mat, headers= h, tablefmt= 'grid'))\n",
    "  \n",
    "    myMatrix = trans_mat.to_numpy()\n",
    "    fig = plt.figure()\n",
    "    ax = fig.add_subplot(111, aspect='equal')\n",
    "\n",
    "    plt.style.use(['ggplot'])\n",
    "    plt.ylabel('From State')\n",
    "    plt.xlabel('To State')\n",
    "    plt.title('Friends')\n",
    "    mymap = plt.get_cmap(\"YlGnBu\")\n",
    "   \n",
    "    normalize = matplotlib.colors.LogNorm(vmin=0.0001, vmax=1)\n",
    "    normalize = matplotlib.colors.PowerNorm(gamma=0.5, vmin=0.01, vmax=1)\n",
    "    matrix_size = myMatrix.shape[0]\n",
    "    square_size = 1.0 / matrix_size\n",
    "\n",
    "    diagonal = myMatrix.diagonal()\n",
    "    \n",
    "\n",
    "    ax.set_xticklabels(emo_dict.keys(), rotation=90, horizontalalignment='right')\n",
    "    ax.set_yticklabels(list(reversed(emo_dict.keys())), rotation=0, horizontalalignment='right')\n",
    "\n",
    "    ax.xaxis.set_ticks(np.arange(0 + 0.5 * square_size, 1 + 0.5 * square_size, square_size))\n",
    "    ax.yaxis.set_ticks(np.arange(0 + 0.5 * square_size, 1 + 0.5 * square_size, square_size))\n",
    "\n",
    "    # iterate over all elements of the matrix\n",
    "    \n",
    "    for i in range(matrix_size):\n",
    "        for j in range(matrix_size):\n",
    "            if myMatrix[i, j] > 0:\n",
    "                rect_size = np.sqrt(myMatrix[i, j]) * square_size\n",
    "            else:\n",
    "                rect_size = 0\n",
    "\n",
    "            dx = 0.5 * (square_size - rect_size)\n",
    "            dy = 0.5 * (square_size - rect_size)\n",
    "            #print(' {} {}'.format((i) * square_size + dx, j * square_size + dy))\n",
    "            p = patches.Rectangle(\n",
    "                (j * square_size + dy, (matrix_size-i-1) * square_size + dx),\n",
    "                rect_size,\n",
    "                rect_size,\n",
    "                fill=True,\n",
    "                color=mymap(normalize(myMatrix[i, j]))\n",
    "            )\n",
    "            ax.add_patch(p)\n",
    "\n",
    "    cbax = fig.add_axes([0.85, 0.12, 0.05, 0.78])\n",
    "    cb = matplotlib.colorbar.ColorbarBase(cbax, cmap=mymap, orientation='vertical')\n",
    "    cb.set_label(\"Transition Probability\")\n",
    "    plt.show(block=True)\n",
    "    plt.interactive(False)"
   ]
  },
  {
   "cell_type": "code",
   "execution_count": 39,
   "id": "0284a0a4",
   "metadata": {},
   "outputs": [
    {
     "name": "stdout",
     "output_type": "stream",
     "text": [
      "+-----------------------+-----------+-------+-------+----------+------------+------------+----------+\n",
      "| From State/To State   |   neutral |   sad |   mad |   joyful |   peaceful |   powerful |   scared |\n",
      "+=======================+===========+=======+=======+==========+============+============+==========+\n",
      "| neutral               |      0.46 |  0.06 |  0.09 |     0.18 |       0.06 |       0.05 |     0.11 |\n",
      "+-----------------------+-----------+-------+-------+----------+------------+------------+----------+\n",
      "| sad                   |      0.29 |  0.2  |  0.07 |     0.12 |       0.11 |       0.08 |     0.13 |\n",
      "+-----------------------+-----------+-------+-------+----------+------------+------------+----------+\n",
      "| mad                   |      0.25 |  0.05 |  0.24 |     0.16 |       0.09 |       0.07 |     0.15 |\n",
      "+-----------------------+-----------+-------+-------+----------+------------+------------+----------+\n",
      "| joyful                |      0.25 |  0.05 |  0.08 |     0.37 |       0.08 |       0.06 |     0.11 |\n",
      "+-----------------------+-----------+-------+-------+----------+------------+------------+----------+\n",
      "| peaceful              |      0.2  |  0.09 |  0.1  |     0.22 |       0.18 |       0.1  |     0.12 |\n",
      "+-----------------------+-----------+-------+-------+----------+------------+------------+----------+\n",
      "| powerful              |      0.19 |  0.06 |  0.11 |     0.2  |       0.13 |       0.17 |     0.14 |\n",
      "+-----------------------+-----------+-------+-------+----------+------------+------------+----------+\n",
      "| scared                |      0.24 |  0.06 |  0.13 |     0.16 |       0.1  |       0.11 |     0.2  |\n",
      "+-----------------------+-----------+-------+-------+----------+------------+------------+----------+\n"
     ]
    },
    {
     "name": "stderr",
     "output_type": "stream",
     "text": [
      "<ipython-input-38-ec4ce9faf0a1>:46: UserWarning: FixedFormatter should only be used together with FixedLocator\n",
      "  ax.set_xticklabels(emo_dict.keys(), rotation=90, horizontalalignment='right')\n",
      "<ipython-input-38-ec4ce9faf0a1>:47: UserWarning: FixedFormatter should only be used together with FixedLocator\n",
      "  ax.set_yticklabels(list(reversed(emo_dict.keys())), rotation=0, horizontalalignment='right')\n"
     ]
    },
    {
     "data": {
      "image/png": "[encoded data removed]",
      "text/plain": [
       "<Figure size 864x576 with 2 Axes>"
      ]
     },
     "metadata": {},
     "output_type": "display_data"
    }
   ],
   "source": [
    "VisualizeTransitionProb(df_train, emo_dict)"
   ]
  },
  {
   "cell_type": "code",
   "execution_count": 40,
   "id": "cb7387b8",
   "metadata": {},
   "outputs": [
    {
     "name": "stdout",
     "output_type": "stream",
     "text": [
      "+-----------------------+-----------+-------+-------+----------+------------+------------+----------+\n",
      "| From State/To State   |   neutral |   sad |   mad |   joyful |   peaceful |   powerful |   scared |\n",
      "+=======================+===========+=======+=======+==========+============+============+==========+\n",
      "| neutral               |      0.35 |  0.08 |  0.07 |     0.25 |       0.08 |       0.07 |     0.1  |\n",
      "+-----------------------+-----------+-------+-------+----------+------------+------------+----------+\n",
      "| sad                   |      0.29 |  0.13 |  0.08 |     0.15 |       0.1  |       0.07 |     0.17 |\n",
      "+-----------------------+-----------+-------+-------+----------+------------+------------+----------+\n",
      "| mad                   |      0.22 |  0.06 |  0.15 |     0.09 |       0.16 |       0.09 |     0.23 |\n",
      "+-----------------------+-----------+-------+-------+----------+------------+------------+----------+\n",
      "| joyful                |      0.27 |  0.06 |  0.04 |     0.35 |       0.1  |       0.09 |     0.09 |\n",
      "+-----------------------+-----------+-------+-------+----------+------------+------------+----------+\n",
      "| peaceful              |      0.21 |  0.04 |  0.06 |     0.16 |       0.21 |       0.16 |     0.16 |\n",
      "+-----------------------+-----------+-------+-------+----------+------------+------------+----------+\n",
      "| powerful              |      0.21 |  0.08 |  0.08 |     0.16 |       0.15 |       0.22 |     0.1  |\n",
      "+-----------------------+-----------+-------+-------+----------+------------+------------+----------+\n",
      "| scared                |      0.19 |  0.09 |  0.15 |     0.13 |       0.12 |       0.11 |     0.21 |\n",
      "+-----------------------+-----------+-------+-------+----------+------------+------------+----------+\n"
     ]
    },
    {
     "name": "stderr",
     "output_type": "stream",
     "text": [
      "<ipython-input-38-ec4ce9faf0a1>:46: UserWarning: FixedFormatter should only be used together with FixedLocator\n",
      "  ax.set_xticklabels(emo_dict.keys(), rotation=90, horizontalalignment='right')\n",
      "<ipython-input-38-ec4ce9faf0a1>:47: UserWarning: FixedFormatter should only be used together with FixedLocator\n",
      "  ax.set_yticklabels(list(reversed(emo_dict.keys())), rotation=0, horizontalalignment='right')\n"
     ]
    },
    {
     "data": {
      "image/png": "[encoded data removed]",
      "text/plain": [
       "<Figure size 864x576 with 2 Axes>"
      ]
     },
     "metadata": {},
     "output_type": "display_data"
    }
   ],
   "source": [
    "VisualizeTransitionProb(df_test, emo_dict)"
   ]
  },
  {
   "cell_type": "markdown",
   "id": "329bca18",
   "metadata": {},
   "source": [
    "# Data Preprocessing Related to Bert Model\n",
    "\n",
    "Machine Learning models don’t work with text and require data preprocessing to convert text to numbers. As we are using BERT for modelling the word level inputs, we need to do following preprocessing\n",
    "\n",
    "- Add special tokens to separate sentences and do classification\n",
    "- Pass sequences of constant length (introduce padding)\n",
    "- Create array of 0s (pad token) and 1s (real token) called attention mask\n",
    "\n",
    "We will use the pretrained bert model and tokenizers from the Transformers Library "
   ]
  },
  {
   "cell_type": "markdown",
   "id": "1b5b8d2f",
   "metadata": {},
   "source": [
    "# DataLoader Class\n",
    "As the same utterance can deliver different emotions when it is in different contexts, it is imperative to look at the context of previous utterances in the dialogue while modellign the emotion label. On the other hand, utterances between 2 dialogues are independent of each other. As each dialogue will have different utterlance length. we canot use a constant batch size. \n",
    "For this task, We create a class called CustomDataset, and pass the argument Dataset, to allow it to inherit the functionality of the Torch Dataset Class."
   ]
  },
  {
   "cell_type": "code",
   "execution_count": 9,
   "id": "3bbb7e40",
   "metadata": {},
   "outputs": [],
   "source": [
    "'''\n",
    "  Create the DataLoader Class to provide a way for the dataset code to be decoupled from  model training code.\n",
    "  Parameters\n",
    "    ----------\n",
    "    df : Pandas Dataframe \n",
    "        Pandas dataframe repersenting Train/Val/Test Data\n",
    "    max_number_of_speakers_in_dialogue : Interger \n",
    "    emo_dict : Python Dictionary\n",
    "    Prvides encoded value of emotion labels. \n",
    "    encoder : Sklearn OneHot Encoder Handle\n",
    "\n",
    "  Returns\n",
    "    -------\n",
    "  padded : Tensor\n",
    "     Tensor containing the input data\n",
    "  attention : Tensor\n",
    "     Tensor containing attention mask specifying the valid data in input tensor\n",
    "  spkr_emd : Tensor\n",
    "     Tensor containing speaker information in the input data\n",
    "  label : Tensor\n",
    "     Tensor containing emotion labels\n",
    "     \n",
    "'''\n",
    "\n",
    "\n",
    "\n",
    "class CustomDataset(Dataset):\n",
    "    def __init__(self, df, max_number_of_speakers_in_dialogue, emo_dict, encoder, args):\n",
    "        self.data = df\n",
    "        self.max_number_of_speakers_in_dialogue = max_number_of_speakers_in_dialogue\n",
    "        self.emo_dict = emo_dict\n",
    "        self.args = args\n",
    "        self.encoder = encoder\n",
    "        if self.args.emoset in ['friends_german', 'emotionpush_german', 'emorynlp_german']:\n",
    "            if self.args.use_distilbert: \n",
    "                print('distilbert-base-german-cased')\n",
    "                self.tokenizer = DistilBertTokenizer.from_pretrained(\"distilbert-base-german-cased\")\n",
    "            else :\n",
    "                print('using dbmdz/bert-base-german-uncased tokenizer')\n",
    "                self.tokenizer = AutoTokenizer.from_pretrained(\"dbmdz/bert-base-german-uncased\")\n",
    "        else:\n",
    "            print('using distill-uncased tokenizer')\n",
    "            self.tokenizer = DistilBertTokenizer.from_pretrained('distilbert-base-uncased')\n",
    "        \n",
    "        \n",
    "    def __len__(self):\n",
    "        if not self.args.emoset == 'semeval':\n",
    "            return len( self.data['dialogue_id'].unique())\n",
    "        else:\n",
    "            return self.data.shape[0]\n",
    "    \n",
    "    def get_labels(self, df):\n",
    "        \"\"\"\n",
    "        returns the labels according to the emotion dictionary\n",
    "        \"\"\"\n",
    "        return torch.tensor([self.emo_dict[label] for label in df['label'].values])\n",
    "    \n",
    "    '''\n",
    "        Machine Learning models don’t work with text and require data preprocessing to convert text to numbers. As we are\n",
    "        using BERT for modelling the word level inputs, we need to do following preprocessing\n",
    "\n",
    "        - Add special tokens to separate sentences and do classification\n",
    "        - Pass sequences of constant length (introduce padding)\n",
    "        - Create array of 0s (pad token) and 1s (real token) called attention mask\n",
    "\n",
    "        We will use the pretrained bert model and tokenizers from the Transformers Library \n",
    "    \n",
    "    '''\n",
    "    \n",
    "    def transform_data(self, df, max_seq_len):\n",
    "        \"\"\"\n",
    "        returns the padded input ids and attention masks according to the DistilBert tokenizer\n",
    "        \"\"\"\n",
    "               \n",
    "        def tokenize_fct(turn):\n",
    "            return self.tokenizer.encode(turn, truncation = True, add_special_tokens=True, max_length=max_seq_len)\n",
    "        \n",
    "        if self.args.emoset in ['friends', 'emotionpush', 'emorynlp']:\n",
    "            tokenized = df[['utterance']].applymap(tokenize_fct)\n",
    "            padded = torch.tensor([[ids + [0]*(max_seq_len-len(ids)) for ids in idx] for idx in tokenized.values])\n",
    "            attention_mask = torch.where(padded != 0, torch.ones_like(padded), torch.zeros_like(padded))\n",
    "        elif self.args.emoset == 'semeval':\n",
    "            tokenized = df[['turn1','turn2','turn3']].applymap(tokenize_fct)\n",
    "            padded = torch.tensor([[ids + [0]*(max_seq_len-len(ids)) for ids in idx] for idx in tokenized.values])\n",
    "            attention_mask = torch.where(padded != 0, torch.ones_like(padded), torch.zeros_like(padded))\n",
    "        elif self.args.emoset in ['friends_german', 'emotionpush_german', 'emorynlp_german']:\n",
    "            tokenized = df[['utterance_de_deepl']].applymap(tokenize_fct)\n",
    "            padded = torch.tensor([[ids + [0]*(max_seq_len-len(ids)) for ids in idx] for idx in tokenized.values])\n",
    "            attention_mask = torch.where(padded != 0, torch.ones_like(padded), torch.zeros_like(padded))\n",
    "        return padded, attention_mask, tokenized\n",
    "\n",
    "    \n",
    "    def __getitem__(self, idx):\n",
    "        \n",
    "        if not self.args.emoset == 'semeval':\n",
    "            assert idx  in list(range (len( self.data['dialogue_id'].unique())))\n",
    "            df = self.data.loc[self.data.dialogue_id ==idx].reset_index(drop = True)\n",
    "        else:\n",
    "            df = self.data.loc[self.data.index ==idx].reset_index(drop = True)  \n",
    "      \n",
    "        padded, attention_mask, tokenizer = self.transform_data(df, self.args.max_seq_len)\n",
    "        labels = self.get_labels(df)\n",
    "        if not self.args.emoset == 'semeval':\n",
    "            padded = padded.squeeze(dim=1)\n",
    "            attention_mask = attention_mask.squeeze(dim=1)\n",
    "        else:\n",
    "         \n",
    "            padded = padded.squeeze(dim=0)\n",
    "            attention_mask = attention_mask.squeeze(dim=0)\n",
    "        padded = padded.cuda(self.args.device)\n",
    "        attention_mask = attention_mask.cuda(self.args.device)\n",
    "        labels = labels.cuda(self.args.device)\n",
    "        if self.args.speaker_embedding:\n",
    "            speakers_array = np.array(df.speaker).reshape(-1, 1)\n",
    "            spkr_emd = self.encoder.transform(speakers_array).toarray()\n",
    "                \n",
    "        else:\n",
    "            spkr_emd = 0\n",
    "        \n",
    "        return padded, attention_mask, spkr_emd, labels\n",
    "    \n",
    "\n",
    "# export \n",
    "def dataloader(path, max_seq_len, batch_size, emo_dict, use_ddp = False, labels = True):\n",
    "    \"\"\"\n",
    "    Transforms the .csv data stored in `path` according to DistilBert features and returns it as a DataLoader \n",
    "    \"\"\"\n",
    "    df = open_data(path)\n",
    "    padded, attention_mask = transform_data(df, max_seq_len)\n",
    "    \n",
    "    if labels:\n",
    "        dataset = TensorDataset(padded, attention_mask, get_labels(df, emo_dict))\n",
    "    \n",
    "    else:\n",
    "        dataset = TensorDataset(padded, attention_mask)\n",
    "        \n",
    "    if use_ddp:\n",
    "        train_sampler = DistributedSampler(dataset)\n",
    "    \n",
    "    else: \n",
    "        train_sampler = None\n",
    "\n",
    "    return DataLoader(dataset, batch_size=batch_size, shuffle=(train_sampler is None), \n",
    "                      sampler=train_sampler, num_workers=0)\n"
   ]
  },
  {
   "cell_type": "markdown",
   "id": "d0752003",
   "metadata": {},
   "source": [
    "## Transformer Sentence Embeddings\n",
    "\n",
    "We use a pretrained DistilBert model to create sentence embeddings for each utterance. We obtain contextual word embeddings by concatenating the CLS token embedding and the mean of the last layer. \n",
    "\n",
    "For more information on the (Distil)Bert models one can look at \n",
    "Jay Alammar's blog posts ([A Visual Guide to Using BERT for the First Time](https://jalammar.github.io/a-visual-guide-to-using-bert-for-the-first-time/) and [The Illustrated BERT, ELMo, and co.](https://jalammar.github.io/illustrated-bert/)) where also the following illustration is taken from.\n",
    "\n",
    "![DistilBert output](./images/bert-distilbert-output-tensor-predictions.png)\n",
    "\n",
    "Further references:\n",
    " \n",
    "* [DistilBert paper](https://arxiv.org/abs/1910.01108) and [blog post](https://medium.com/huggingface/distilbert-8cf3380435b5)\n",
    "* [Original Bert (Bidirectional Encoder Representations from Transformers) paper](https://arxiv.org/abs/1810.04805)\n",
    "* [tutorial for custom PyTorch modules](https://pytorch.org/tutorials/beginner/pytorch_with_examples.html)\n",
    "* [Huggingface transformers documentation](https://huggingface.co/transformers/v2.3.0/index.html)"
   ]
  },
  {
   "cell_type": "code",
   "execution_count": 10,
   "id": "88adf1bc",
   "metadata": {},
   "outputs": [],
   "source": [
    "'''\n",
    "  This class makes use of DistilBert model to model word level input and capture the context of utterance level embeddings.\n",
    "  It makes use of pretrained language model which is equivalent to introducing external data into the model and helps our\n",
    "  model obtain better utterance embedding\n",
    "  Parameters\n",
    "    ----------\n",
    "    args: Structure of various flags used in the code. \n",
    "    droput : Dropout  \n",
    "  \n",
    "  Returns\n",
    "    -------\n",
    "  sentence_embeds : Tensor\n",
    "     Tensor containing the utterance level embeddings.\n",
    "     \n",
    "'''\n",
    "\n",
    "\n",
    "class sentence_embeds_model(torch.nn.Module):\n",
    "    \"\"\"\n",
    "    instantiates the pretrained DistilBert model and the linear layer\n",
    "    \"\"\"\n",
    "    \n",
    "    def __init__(self, args, dropout = 0.1):\n",
    "        super(sentence_embeds_model, self).__init__()\n",
    "        self.args = args\n",
    "        \n",
    "        if self.args.emoset in ['friends_german', 'emotionpush_german', 'emorynlp_german']:\n",
    "            if args.use_distilbert:\n",
    "                self.transformer = DistilBertModel.from_pretrained('distilbert-base-german-cased', dropout=dropout, \n",
    "                                                           output_hidden_states=True)\n",
    "            else:\n",
    "                self.transformer = AutoModel.from_pretrained(\"dbmdz/bert-base-german-uncased\", output_hidden_states=True)\n",
    "                                                           \n",
    "        else:\n",
    "            self.transformer = DistilBertModel.from_pretrained('distilbert-base-uncased', dropout=dropout, \n",
    "                                                           output_hidden_states=True)\n",
    "        self.embedding_size = 2 * self.transformer.config.hidden_size\n",
    "      \n",
    "      \n",
    "        \n",
    "    def layerwise_lr(self, lr, decay):\n",
    "        \"\"\"\n",
    "        returns grouped model parameters with layer-wise decaying learning rate\n",
    "        \"\"\"\n",
    "        bert = self.transformer\n",
    "        \n",
    "        if self.args.emoset in ['friends_german', 'emotionpush_german', 'emorynlp_german'] and not self.args.use_distilbert:\n",
    "            num_layers = bert.config.num_hidden_layers\n",
    "            opt_parameters = [{'params': bert.embeddings.parameters(), 'lr': lr*decay**num_layers}]\n",
    "            opt_parameters += [{'params': bert.encoder.layer[l].parameters(), 'lr': lr*decay**(num_layers-l+1)} \n",
    "                            for l in range(num_layers)]\n",
    "        else:\n",
    "            num_layers = bert.config.n_layers\n",
    "            opt_parameters = [{'params': bert.embeddings.parameters(), 'lr': lr*decay**num_layers}]\n",
    "            opt_parameters += [{'params': bert.transformer.layer[l].parameters(), 'lr': lr*decay**(num_layers-l+1)} \n",
    "                            for l in range(num_layers)]\n",
    "     \n",
    "        return opt_parameters\n",
    "               \n",
    "    def forward(self, input_ids = None, attention_mask = None, input_embeds = None):\n",
    "        \"\"\"\n",
    "        returns the sentence embeddings\n",
    "        \"\"\"\n",
    "        utterance_count = input_ids.shape[1]\n",
    "        \n",
    "        if input_ids is not None:\n",
    "            input_ids = input_ids.flatten(end_dim = 1)\n",
    "     \n",
    "        if attention_mask is not None:\n",
    "            attention_mask = attention_mask.flatten(end_dim = 1)\n",
    "        \n",
    "       \n",
    "       \n",
    "        output = self.transformer(input_ids = input_ids, \n",
    "                                  attention_mask = attention_mask, inputs_embeds = input_embeds)\n",
    "      \n",
    "        cls = output[0][:,0]\n",
    "        if self.args.emoset in ['friends_german', 'emotionpush_german', 'emorynlp_german'] and not self.args.use_distilbert:\n",
    "            hidden_mean = torch.mean(output[2][-1],1)\n",
    "        else:\n",
    "            hidden_mean = torch.mean(output[1][-1],1)\n",
    "        sentence_embeds = torch.cat([cls, hidden_mean], dim = -1)\n",
    "        sentence_embeds = sentence_embeds.view(-1,utterance_count, self.embedding_size)\n",
    "       \n",
    "        return sentence_embeds"
   ]
  },
  {
   "cell_type": "markdown",
   "id": "0e18b130",
   "metadata": {},
   "source": [
    "## Context Transformer and Classification\n",
    "\n",
    "We use another transformer model to create contextual sentence embeddings, i.e. we model that a conversation consists of multiple utterances. Moreover, we add a classification model for the emotion of the last utterance.\n",
    "Note that for our convenience we use\n",
    "\n",
    "* a linear projection of the sentence embeddings to a given `projection_size`\n",
    "* a (not pre-trained) DistilBertForSequenceClassification and flip the order of the utterances as the first input embedding gets classified by default\n",
    "* only one attention head, see also the paper [Are Sixteen Heads Really Better than One?](https://arxiv.org/abs/1905.10650)."
   ]
  },
  {
   "cell_type": "code",
   "execution_count": 11,
   "id": "c236e633",
   "metadata": {},
   "outputs": [],
   "source": [
    "'''\n",
    "  Create contextual sentence embeddings- We model that a conversation may consists of vatiable number of utterances for \n",
    "  dataset Friends/EmotionPush/EmoryNLP whereas for semeval number of utterances per conversation is fixed to 3. \n",
    "    ----------\n",
    "    embedding_size: Embedded Layer Size\n",
    "    projection_size :Size of fully connected lazer before the bert model. \n",
    "    n_layers : Number of hidden layers in pretrained bert model \n",
    "    emo_dict : Label Encoding\n",
    "    max_number_of_speakers_in_dialogue\n",
    "    max_number_of_utter_in_dialogue : 25 for Friends/EmotionPush/EmoryNLP and 3 for Semeval. \n",
    "    loss_weights : Tensor containing the weight assigned to different label classes to handle class imblance. \n",
    "  Returns\n",
    "    -------\n",
    "  logits : Tensor\n",
    "     Softmax Probability Distribution\n",
    "\n",
    "  loss : Scalor\n",
    "      \n",
    "'''\n",
    "class context_classifier_model(torch.nn.Module):\n",
    "    \"\"\"\n",
    "    instantiates the DisitlBertForSequenceClassification model, the position embeddings of the utterances, \n",
    "    and the binary loss function\n",
    "    \"\"\"\n",
    "    \n",
    "    def __init__(self, \n",
    "                 embedding_size, \n",
    "                 projection_size, \n",
    "                 n_layers, \n",
    "                 emo_dict, \n",
    "                 focus_dict, \n",
    "                 max_number_of_speakers_in_dialogue, \n",
    "                 max_number_of_utter_in_dialogue,\n",
    "                 args,\n",
    "                 loss_weights,\n",
    "                 dropout = 0.1):\n",
    "        super(context_classifier_model, self).__init__()\n",
    "     \n",
    "        self.projection_size = projection_size\n",
    "        self.projection = torch.nn.Linear(embedding_size, projection_size)  \n",
    "        self.max_number_of_speakers_in_dialogue = max_number_of_speakers_in_dialogue\n",
    "        self.max_number_of_utter_in_dialogue = max_number_of_utter_in_dialogue\n",
    "        self.position_embeds = torch.nn.Embedding( self.max_number_of_utter_in_dialogue, projection_size)\n",
    "     \n",
    "        self.norm = torch.nn.LayerNorm(projection_size+self.max_number_of_speakers_in_dialogue)\n",
    "        self.drop = torch.nn.Dropout(dropout)\n",
    "        self.focus_dict = focus_dict\n",
    "        self.emo_dict = emo_dict\n",
    "        self.args = args\n",
    "        self.loss_weights = loss_weights\n",
    "        context_config = DistilBertConfig(dropout=dropout, \n",
    "                                dim=projection_size+self.max_number_of_speakers_in_dialogue,\n",
    "                                hidden_dim=4*projection_size,\n",
    "                                n_layers=n_layers,\n",
    "                                n_heads = 1,\n",
    "                                num_labels=len(self.emo_dict.keys()))\n",
    "      \n",
    "        self.context_transformer = DistilBertForSequenceClassification(context_config)\n",
    "    \n",
    "        if not self.args.emoset == 'semeval':\n",
    "            self.others_label = self.emo_dict['neutral']\n",
    "        else:\n",
    "            self.others_label = self.emo_dict['others']\n",
    "        self.bin_loss_fct = torch.nn.BCEWithLogitsLoss()\n",
    "        self.context_experiment_flag = False\n",
    "   \n",
    "        \n",
    "    def bin_loss(self, logits, labels):\n",
    "        \"\"\"\n",
    "        defined the additional binary loss for the `others` label\n",
    "        \"\"\"\n",
    "        bin_labels = torch.where(labels == self.others_label, torch.ones_like(labels), \n",
    "                                 torch.zeros_like(labels)).float()\n",
    "        bin_logits = logits[:, self.others_label]    \n",
    "        return self.bin_loss_fct(bin_logits, bin_labels)\n",
    "\n",
    "    \n",
    "    \n",
    "    def comput_loss(self, log_prob, target, weights):\n",
    "        \"\"\" Weighted loss function \"\"\"\n",
    "        #loss = F.nll_loss(log_prob, target, weight=weights, reduction='sum')\n",
    "        loss = F.cross_entropy(log_prob, target, weight=weights, reduction='sum')\n",
    "        loss /= target.size(0)\n",
    "\n",
    "        return loss\n",
    "\n",
    "\n",
    "    def forward(self, sentence_embeds, spkr_emd, labels = None):\n",
    "        \"\"\"\n",
    "        returns the logits and the corresponding loss if `labels` are given\n",
    "        \"\"\"\n",
    "        if self.context_experiment_flag == True:\n",
    "            sentence_embeds = sentence_embeds.transpose(0, 1)\n",
    "            spkr_emd = spkr_emd.transpose(0,1)\n",
    "            position_ids = torch.arange(sentence_embeds.shape[1], dtype=torch.long, device=sentence_embeds.device)\n",
    "            \n",
    "        else:\n",
    "            position_ids = torch.arange(sentence_embeds.shape[1], dtype=torch.long, device=sentence_embeds.device)\n",
    "    \n",
    "        position_ids = position_ids.expand(sentence_embeds.shape[:2]) \n",
    "        position_embeds = self.position_embeds(position_ids)\n",
    "        sentence_embeds = self.projection(sentence_embeds) + position_embeds \n",
    "        if self.args.speaker_embedding:\n",
    "            sentence_embeds = torch.cat((sentence_embeds, spkr_emd), dim=2)\n",
    "            sentence_embeds = sentence_embeds.to(device=self.args.device, dtype=torch.float)\n",
    "        sentence_embeds = self.drop(self.norm(sentence_embeds))\n",
    "        if labels is None:\n",
    "            if not self.emoset == 'semeval':\n",
    "                return self.context_transformer(inputs_embeds = sentence_embeds.transpose(0, 1), labels = labels)[0]\n",
    "            else:\n",
    "                return self.context_transformer(inputs_embeds = sentence_embeds.flip(1), labels = labels)[0]\n",
    "        else:\n",
    "            if not self.args.emoset == 'semeval':\n",
    "                output =  self.context_transformer(inputs_embeds = sentence_embeds.transpose(0, 1), labels = labels)\n",
    "            else:\n",
    "                output =  self.context_transformer(inputs_embeds = sentence_embeds.flip(1), labels = labels)\n",
    "        loss = output[0]\n",
    "        logits = output[1]\n",
    "        log_prob = logits\n",
    "        if not self.args.emoset == 'semeval':\n",
    "            loss2 = self.comput_loss(log_prob, labels, self.loss_weights)\n",
    "            return loss2, logits\n",
    "        else:\n",
    "            return loss + self.bin_loss(logits, labels), logits\n",
    "        "
   ]
  },
  {
   "cell_type": "markdown",
   "id": "bd20f1ef",
   "metadata": {},
   "source": [
    "# Plotting Functions\n",
    "- This section consists of various plotting function used for the result analysis"
   ]
  },
  {
   "cell_type": "code",
   "execution_count": 12,
   "id": "e54b5117",
   "metadata": {},
   "outputs": [],
   "source": [
    "def make_confusion_matrix(cf,\n",
    "                          group_names=None,\n",
    "                          categories='auto',\n",
    "                          count=True,\n",
    "                          percent=True,\n",
    "                          cbar=True,\n",
    "                          xyticks=True,\n",
    "                          xyplotlabels=True,\n",
    "                          sum_stats=False,\n",
    "                          figsize=None,\n",
    "                          cmap='Blues',\n",
    "                          title=None):\n",
    "    '''\n",
    "    This function will make a pretty plot of an sklearn Confusion Matrix cm using a Seaborn heatmap visualization.\n",
    "    Arguments\n",
    "    ---------\n",
    "    cf:            confusion matrix to be passed in\n",
    "    group_names:   List of strings that represent the labels row by row to be shown in each square.\n",
    "    categories:    List of strings containing the categories to be displayed on the x,y axis. Default is 'auto'\n",
    "    count:         If True, show the raw number in the confusion matrix. Default is True.\n",
    "    normalize:     If True, show the proportions for each category. Default is True.\n",
    "    cbar:          If True, show the color bar. The cbar values are based off the values in the confusion matrix.\n",
    "                   Default is True.\n",
    "    xyticks:       If True, show x and y ticks. Default is True.\n",
    "    xyplotlabels:  If True, show 'True Label' and 'Predicted Label' on the figure. Default is True.\n",
    "    sum_stats:     If True, display summary statistics below the figure. Default is True.\n",
    "    figsize:       Tuple representing the figure size. Default will be the matplotlib rcParams value.\n",
    "    cmap:          Colormap of the values displayed from matplotlib.pyplot.cm. Default is 'Blues'\n",
    "                   See http://matplotlib.org/examples/color/colormaps_reference.html\n",
    "                   \n",
    "    title:         Title for the heatmap. Default is None.\n",
    "    '''\n",
    "\n",
    "\n",
    "    # CODE TO GENERATE TEXT INSIDE EACH SQUARE\n",
    "    blanks = ['' for i in range(cf.size)]\n",
    "\n",
    "    if group_names and len(group_names)==cf.size:\n",
    "        group_labels = [\"{}\\n\".format(value) for value in group_names]\n",
    "    else:\n",
    "        group_labels = blanks\n",
    "\n",
    "    if count:\n",
    "        group_counts = [\"{0:0.0f}\\n\".format(value) for value in cf.flatten()]\n",
    "    else:\n",
    "        group_counts = blanks\n",
    "\n",
    "    if percent:\n",
    "        j = 0\n",
    "        group_percentages = []\n",
    "        for i in range(len(cf.flatten())):\n",
    "            if i% cf.shape[0]== 0:\n",
    "                divisor = sum(cf[j, :])\n",
    "                j = j+1\n",
    "            group_percentages.append(\"{0:.2%}\".format(cf.flatten()[i]/divisor) )\n",
    "        #group_percentages = [\"{0:.2%}\".format(value) for value in cf.flatten()/np.sum(cf)]\n",
    "    else:\n",
    "        group_percentages = blanks\n",
    "\n",
    "    box_labels = [f\"{v1}{v2}{v3}\".strip() for v1, v2, v3 in zip(group_labels,group_counts,group_percentages)]\n",
    "    print( box_labels)\n",
    "    box_labels = np.asarray(box_labels).reshape(cf.shape[0],cf.shape[1])\n",
    "\n",
    "\n",
    "    # CODE TO GENERATE SUMMARY STATISTICS & TEXT FOR SUMMARY STATS\n",
    "    if sum_stats:\n",
    "        #Accuracy is sum of diagonal divided by total observations\n",
    "        print('Calculating sum stats')\n",
    "        accuracy  = np.trace(cf) / float(np.sum(cf))\n",
    "\n",
    "        #if it is a binary confusion matrix, show some more stats\n",
    "        if len(cf)==2:\n",
    "            #Metrics for Binary Confusion Matrices\n",
    "            precision = cf[1,1] / sum(cf[:,1])\n",
    "            recall    = cf[1,1] / sum(cf[1,:])\n",
    "            f1_score  = 2*precision*recall / (precision + recall)\n",
    "            stats_text = \"\\n\\nAccuracy={:0.3f}\\nPrecision={:0.3f}\\nRecall={:0.3f}\\nF1 Score={:0.3f}\".format(\n",
    "                accuracy,precision,recall,f1_score)\n",
    "        else:\n",
    "            stats_text = \"\\n\\nAccuracy={:0.3f}\".format(accuracy)\n",
    "    else:\n",
    "        stats_text = \"\"\n",
    "    print(stats_text)\n",
    "\n",
    "    # SET FIGURE PARAMETERS ACCORDING TO OTHER ARGUMENTS\n",
    "    if figsize==None:\n",
    "        #Get default figure size if not set\n",
    "        figsize = plt.rcParams.get('figure.figsize')\n",
    "\n",
    "    if xyticks==False:\n",
    "        #Do not show categories if xyticks is False\n",
    "        categories=False\n",
    "\n",
    "\n",
    "    # MAKE THE HEATMAP VISUALIZATION\n",
    "    plt.figure(figsize=figsize)\n",
    "    chart = sns.heatmap(cf,annot=box_labels,fmt=\"\",cmap=cmap,cbar=cbar,xticklabels=categories,yticklabels=categories, annot_kws={\"size\": 13})\n",
    "    #chart = sns.heatmap(cf,annot=box_labels,fmt=\"\",cmap=cmap,cbar=cbar,yticklabels=categories)\n",
    "    chart.set_xticklabels(categories,  fontsize=15)\n",
    "\n",
    "    if xyplotlabels:\n",
    "        plt.ylabel('True label')\n",
    "        plt.xlabel('Predicted label' + stats_text, fontsize = 15)\n",
    "    else:\n",
    "        plt.xlabel(stats_text)\n",
    "    \n",
    "    if title:\n",
    "        plt.title(title)\n",
    "        \n",
    "def plot_per_Class_f1_score(args, focus_dict, score):\n",
    "    plt.figure(figsize=(6,6))\n",
    "    if args.emoset == 'emorynlp' or args.emoset == 'emorynlp_german':\n",
    "        plt.xticks(fontsize=13, rotation=90)\n",
    "    else:\n",
    "        plt.xticks(fontsize=13)\n",
    "    plt.yticks(fontsize=13)\n",
    "    plt.ylabel('Macro-F1 Score')\n",
    "    plt.xlabel('Emotion Class', fontsize = 15)\n",
    "    width = [0.6]*len(focus_dict)\n",
    "    if args.emoset == 'friends' or args.emoset == 'friends_german':\n",
    "        plt.title('Friends', fontsize=16)\n",
    "    elif args.emoset == 'emotionpush' or args.emoset == 'friends_emotionpush':\n",
    "        plt.title('EmotionPush', fontsize=16)\n",
    "    elif args.emoset == 'emorynlp' or args.emoset == 'emorynlp_german':\n",
    "        plt.title('EmoryNLP', fontsize=16)\n",
    "    elif args.emoset == 'semeval':\n",
    "        plt.title('Semeval', fontsize=16)\n",
    "        plt.ylabel('Micro-F1 Score')\n",
    "        width = [0.45]*len(focus_dict)\n",
    "        \n",
    "        \n",
    "\n",
    "    plt.bar(focus_dict, list(score[0]['microF1_per_class'].values()),  hatch='///',  fill=True, width = width )\n",
    "    \n",
    "\n",
    "def plot_F1_Score_against_speaker_count(df, model):\n",
    "    speakers_count_dict  = {}\n",
    "    macroF1_list = []\n",
    "    dialogue_id_list = list((df['dialogue_id'].unique()))\n",
    "\n",
    "    for dialogue in dialogue_id_list:\n",
    "        df_dialogue = df[(df.dialogue_id ==dialogue)]\n",
    "        speaker_count = len(df_dialogue.speaker.unique())\n",
    "        if speaker_count not in speakers_count_dict.keys():\n",
    "            speakers_count_dict[speaker_count] = []\n",
    "        for i in range(df_dialogue.shape[0]):\n",
    "            speakers_count_dict[speaker_count].append(df_dialogue.index[i])\n",
    "            \n",
    "    for i in sorted(speakers_count_dict.keys()):\n",
    "        y_pred = [model.y_pred[j] for j in speakers_count_dict[i]]\n",
    "        y_true = [model.y_true[j] for j in speakers_count_dict[i]]\n",
    "        (macroF1, microF1) = calc_f1_score_1(y_pred, y_true,model.emo_dict, model.focus_emo)\n",
    "        macroF1_list.append(macroF1)   \n",
    "    \n",
    "    plt.figure(figsize=(8,6))\n",
    "    plt.xticks(fontsize=13)\n",
    "    plt.yticks(fontsize=13)\n",
    "    plt.ylabel('Macro-F1 Score')\n",
    "    plt.xlabel('The number of speakers')\n",
    "    width = [0.6]*len(speakers_count_dict.keys())\n",
    "    if args.emoset == 'friends' or args.emoset == 'friends_german':\n",
    "          plt.title('Friends', fontsize=16)\n",
    "    elif args.emoset == 'emotionpush' or args.emoset == 'friends_emotionpush':\n",
    "         plt.title('EmotionPush', fontsize=16)\n",
    "    elif args.emoset == 'emorynlp' or args.emoset == 'emorynlp_german':\n",
    "          plt.title('EmoryNLP', fontsize=16)\n",
    "    speaker_count_list = [str(l) for l in sorted(speakers_count_dict.keys())]\n",
    "    plt.bar(speaker_count_list, macroF1_list,  hatch='///',  fill=True, width = width )\n",
    "    plt.show()\n",
    "    \n",
    "def plot_F1_Score_against_dialogue_length(df, model):\n",
    "    utterance_count_dict  = {}\n",
    "    macroF1_list = []\n",
    "    dialogue_id_list = list((df['dialogue_id'].unique()))\n",
    "\n",
    "    for dialogue in dialogue_id_list:\n",
    "        df_dialogue = df[(df.dialogue_id ==dialogue)]\n",
    "        utteranc_count = df_dialogue.shape[0]\n",
    "        if utteranc_count <= 5:\n",
    "            key_position = 1\n",
    "        elif utteranc_count <= 10:\n",
    "            key_position = 2\n",
    "        elif utteranc_count <= 15:\n",
    "            key_position = 3\n",
    "        elif utteranc_count <= 20:\n",
    "            key_position = 4\n",
    "        elif utteranc_count <= 25:\n",
    "            key_position = 5\n",
    "        elif utteranc_count > 25:\n",
    "            key_position = 6\n",
    "\n",
    "        if key_position not in utterance_count_dict.keys():\n",
    "                utterance_count_dict[key_position] = []\n",
    "        for i in range(df_dialogue.shape[0]):\n",
    "            utterance_count_dict[key_position].append(df_dialogue.index[i])\n",
    "    \n",
    "    \n",
    "    for i in sorted(utterance_count_dict.keys()):\n",
    "        y_pred = [model.y_pred[j] for j in utterance_count_dict[i]]\n",
    "        y_true = [model.y_true[j] for j in utterance_count_dict[i]]\n",
    "        (macroF1, microF1) = calc_f1_score_1(y_pred, y_true,model.emo_dict, model.focus_emo)\n",
    "        macroF1_list.append(macroF1)    \n",
    "\n",
    "\n",
    "    plt.figure(figsize=(6,6))\n",
    "    plt.xticks(fontsize=13)\n",
    "    plt.yticks(fontsize=13)\n",
    "    plt.ylabel('Macro-F1 Score')\n",
    "    plt.xlabel('The number of utterances')\n",
    "    width = [0.6]*len(utterance_count_dict.keys())\n",
    "    if args.emoset == 'friends' or args.emoset == 'friends_german':\n",
    "          plt.title('Friends', fontsize=16)\n",
    "    elif args.emoset == 'emotionpush' or args.emoset == 'friends_emotionpush':\n",
    "         plt.title('EmotionPush', fontsize=16)\n",
    "    elif args.emoset == 'emorynlp' or args.emoset == 'emorynlp_german':\n",
    "          plt.title('EmoryNLP', fontsize=16)\n",
    "\n",
    "    plt.bar(['1-5', '6-10', '11-15', '16-20', '21-25'], macroF1_list,  hatch='///',  fill=True, width = width )\n",
    "\n",
    "def plot_F1_Score_against_utterance_length(df, model):\n",
    "    dialog_length_threshold = 20\n",
    "    utterance_position_dict  = {}\n",
    "    macroF1_list = []\n",
    "    \n",
    "    for i in range(dialog_length_threshold):\n",
    "        utterance_position_dict[i] = []\n",
    "    dialogue_id_list = list((df['dialogue_id'].unique()))\n",
    "    \n",
    "    for dialogue in dialogue_id_list:\n",
    "        df_dialogue = df[(df.dialogue_id ==dialogue)]\n",
    "        for i in range(df_dialogue.shape[0]):\n",
    "            if i >= dialog_length_threshold:\n",
    "                break\n",
    "            utterance_position_dict[i].append(df_dialogue.index[i])\n",
    "\n",
    "    for i in utterance_position_dict.keys():\n",
    "        y_pred = [model.y_pred[j] for j in utterance_position_dict[i]]\n",
    "        y_true = [model.y_true[j] for j in utterance_position_dict[i]]\n",
    "        (macroF1, microF1) = calc_f1_score_1(y_pred, y_true,model.emo_dict, model.focus_emo)\n",
    "        macroF1_list.append(macroF1)    \n",
    "\n",
    "    plt.figure(figsize=(8,6))\n",
    "    x_ticks = np.arange(0, 25, 5)\n",
    "    plt.xticks(x_ticks)\n",
    "    plt.plot(utterance_position_dict.keys(), macroF1_list,  linewidth=3)\n",
    "    plt.xticks(fontsize=13)\n",
    "    plt.yticks(fontsize=13)\n",
    "    plt.ylabel('Macro-F1 Score')\n",
    "    plt.xlabel('Utterance Position in the Dialogue', fontsize = 15)\n",
    "    if args.emoset == 'friends' or args.emoset == 'friends_german':\n",
    "          plt.title('Friends', fontsize=16)\n",
    "    elif args.emoset == 'emotionpush' or args.emoset == 'friends_emotionpush':\n",
    "         plt.title('EmotionPush', fontsize=16)\n",
    "    elif args.emoset == 'emorynlp' or args.emoset == 'emorynlp_german':\n",
    "          plt.title('EmotionPush', fontsize=16)\n",
    "    plt.xlim([0, 20])\n",
    "    plt.show()\n",
    "\n"
   ]
  },
  {
   "cell_type": "markdown",
   "id": "e9be10bd",
   "metadata": {},
   "source": [
    "# Metrices\n",
    "\n",
    "- Semeval Task 3 : We use the metrics, i.e. microaveraged precision, recall, and f1-score (while ignoring the others class), for the evaluation of our model according to the [SemEval-2019 Task 3 challenge](https://www.aclweb.org/anthology/S19-2005/). \n",
    "\n",
    "- Friends/EmoryPush/EmoryNLP : we choose the macro averaged Recall as the primary metric for evaluating the performance of our models."
   ]
  },
  {
   "cell_type": "code",
   "execution_count": 13,
   "id": "b3752bc0",
   "metadata": {},
   "outputs": [],
   "source": [
    "'''\n",
    "    Create True Positive, False Negative and False Positive metrices. \n",
    "    ----------\n",
    "    loss: Scalor Loss\n",
    "    logits :Softmax Probablity Distribution\n",
    "    labels : groundtrugh emotion labels\n",
    "    emo_dict : Label Encoding dictionary\n",
    "    focus_emo : List holding the primary emotion labels. \n",
    "    -------\n",
    "    Return : Python Dictionarx containing various loss metrices\n",
    "      \n",
    "'''\n",
    "\n",
    "def metrics(loss, logits, labels, emo_dict,focus_emo, args):\n",
    "    \n",
    "    labelslist = labels.cpu().tolist()\n",
    "    preds = torch.argmax(logits, dim=1)\n",
    "    predslist = preds.cpu().tolist() \n",
    "  \n",
    "    cm = np.zeros((len(emo_dict.keys()),len(emo_dict.keys())), dtype=np.int64) # recall\n",
    "       \n",
    "  \n",
    "    for label, pred in zip(labels.view(-1), preds.view(-1)):\n",
    "        cm[label.long(), pred.long()] += 1\n",
    "   \n",
    "    if not args.emoset == 'semeval':\n",
    "        cm = cm[0:len(focus_emo), 0:len(focus_emo)]\n",
    "        gt_labels_per_class =  cm.sum(axis = 1)\n",
    "        preds_per_class =  cm.sum(axis = 0)\n",
    "        tp = cm.diagonal()[0:]\n",
    "        fp = preds_per_class-tp\n",
    "        fn = gt_labels_per_class- tp\n",
    "    else:\n",
    "        gt_labels_per_class =  cm[1:, :].sum(axis = 1)\n",
    "        preds_per_class =  cm[:, 1:].sum(axis = 0)\n",
    "        tp = cm.diagonal()[1:]\n",
    "        fp = preds_per_class-tp\n",
    "        fn = gt_labels_per_class- tp\n",
    "   \n",
    "    return {'val_loss': loss, \n",
    "            'tp': tp, \n",
    "            'fp': fp, \n",
    "            'fn': fn, \n",
    "            'preds':preds_per_class,\n",
    "            'labels': gt_labels_per_class ,\n",
    "            'y_pred':predslist,\n",
    "            'y_true':labelslist\n",
    "            }\n",
    "\n",
    "'''\n",
    "    Calculates Macro/Micro Precision/Recall/F1-Score\n",
    "    ----------\n",
    "        \n",
    "'''\n",
    "def calc_f1_score(tp, fp, fn):\n",
    "    prec_rec_f1 = {}\n",
    "    tp_fn = tp+fn\n",
    "    tp_fp = tp+fp\n",
    "\n",
    "\n",
    "    Recall = [np.round(tp/tp_fn*100, 2) if tp_fn>0 else 0.0 for tp,tp_fn in zip(tp,tp_fn)]\n",
    "    prec_rec_f1['microRecall'] = np.round((sum(tp)/ sum(tp_fn))*100, 2)\n",
    "    prec_rec_f1['macroRecall'] = np.round (sum(Recall) / len(Recall),2)\n",
    "    \n",
    "    Precision = [np.round(tp/tp_fp*100, 2) if tp_fp>0 else 0.0 for tp,tp_fp in zip(tp,tp_fp)]\n",
    "    prec_rec_f1['microPrecision'] = np.round((sum(tp)/ sum(tp_fp))*100, 2)\n",
    "    prec_rec_f1['macroPrecision'] = np.round(sum(Precision) / len(Precision),2)\n",
    "    \n",
    "    per_class_f1score = []\n",
    "    f1_numenator = [2*x*y for (x, y) in zip(Recall, Precision)]\n",
    "    f1_denominator = [x + y for (x, y) in zip(Recall, Precision)]\n",
    "\n",
    "    for num1, num2 in zip(f1_numenator,f1_denominator):\n",
    "        if  num2:\n",
    "            per_class_f1score.append(np.round(num1 / num2, 2))\n",
    "        else:\n",
    "            per_class_f1score.append(0.0)\n",
    "    \n",
    "    macroPrecision = prec_rec_f1['macroPrecision']\n",
    "    macroRecall = prec_rec_f1['macroRecall']\n",
    "    macroF1 = (2 * macroRecall * macroPrecision ) / (macroPrecision + macroRecall) if (macroPrecision+macroRecall) > 0 else 0\n",
    "    prec_rec_f1['microF1_score'] = 2 * (prec_rec_f1['microPrecision'] * prec_rec_f1['microRecall']) / (prec_rec_f1['microPrecision'] + prec_rec_f1['microRecall'])\n",
    "    prec_rec_f1['macroF1_score'] = np.round(macroF1, 2)\n",
    "    \n",
    "   \n",
    "    prec_rec_f1['macroF1_per_class'] = per_class_f1score\n",
    "    return prec_rec_f1\n",
    "\n",
    "\n",
    "'''\n",
    "    Calculates Macro/Micro Precision/Recall/F1-Score from y_true, y_pred\n",
    "    ----------\n",
    "        \n",
    "'''\n",
    "def calc_f1_score_1(y_pred, y_true,emo_dict, focus_emo):\n",
    "    cm = np.zeros((len(emo_dict.keys()),len(emo_dict.keys())), dtype=np.int64) # recall\n",
    "\n",
    "\n",
    "    for label, pred in zip(y_true, y_pred):\n",
    "        cm[label, pred] += 1\n",
    "\n",
    "    cm = cm[0:len(focus_emo), 0:len(focus_emo)]\n",
    "    gt_labels_per_class =  cm.sum(axis = 1)\n",
    "    preds_per_class =  cm.sum(axis = 0)\n",
    "    tp = cm.diagonal()[0:]\n",
    "    fp = preds_per_class-tp\n",
    "    fn = gt_labels_per_class- tp\n",
    "\n",
    "    tp_fn = tp+fn\n",
    "    tp_fp = tp+fp\n",
    "\n",
    "    Recall = [np.round(tp/tp_fn*100, 2) if tp_fn>0 else 0.0 for tp,tp_fn in zip(tp,tp_fn)]\n",
    "    microRecall  = np.round((sum(tp)/ sum(tp_fn))*100, 2)\n",
    "    macroRecall = np.round (sum(Recall) / len(Recall),2)\n",
    "\n",
    "    Precision = [np.round(tp/tp_fp*100, 2) if tp_fp>0 else 0.0 for tp,tp_fp in zip(tp,tp_fp)]\n",
    "    microPrecision = np.round((sum(tp)/ sum(tp_fp))*100, 2)\n",
    "    macroPrecision = np.round(sum(Precision) / len(Precision),2)\n",
    "\n",
    "    macroF1 = (2 * macroRecall * macroPrecision ) / (macroPrecision + macroRecall) if (macroPrecision+macroRecall) > 0 else 0\n",
    "    microF1 = (2 * microRecall * microPrecision ) / (microPrecision + microRecall) if (microPrecision+microRecall) > 0 else 0\n",
    "    macroF1 = np.round(macroF1, 2)\n",
    "    microF1 = np.round(microF1, 2)\n",
    "    return macroF1, microF1\n",
    "\n",
    "\n",
    "\n",
    "\n"
   ]
  },
  {
   "cell_type": "markdown",
   "id": "8fe6033b",
   "metadata": {},
   "source": [
    "# PyTorch Lightning\n",
    "\n",
    "> We use pytorch lighting framework for the Training/Evaluation Loop Implementation"
   ]
  },
  {
   "cell_type": "code",
   "execution_count": 14,
   "id": "28357537",
   "metadata": {},
   "outputs": [],
   "source": [
    "class EmotionModel(pl.LightningModule):\n",
    "    \"\"\"\n",
    "    PyTorch Lightning module for the Contextual Emotion Detection in Text Challenge\n",
    "    \"\"\"\n",
    "\n",
    "    def __init__(self, emo_dict, focus_dict, args, df_train, df_val, df_test, verbosity = 1):\n",
    "        \"\"\"\n",
    "        pass in parsed HyperOptArgumentParser to the model\n",
    "        \"\"\"\n",
    "        super(EmotionModel, self).__init__()\n",
    "\n",
    "        self.model_name = 'Semeval'\n",
    "        self.emo_dict = emo_dict\n",
    "        self.focus_dict = focus_dict\n",
    "        self.focus_emo = [emo_dict[w] for w in focus_dict]\n",
    "        self.max_seq_len = args.max_seq_len\n",
    "        self.dropout = args.dropout\n",
    "        self.projection_size = args.projection_size\n",
    "        self.args = args\n",
    "        self.n_layers = args.n_layers\n",
    "        self.df_train = df_train\n",
    "        self.df_val = df_val\n",
    "        self.df_test = df_test\n",
    "        self.verbosity = verbosity\n",
    "        if args.speaker_embedding:\n",
    "            print('Speaker Embedding is Enabled')\n",
    "            self.encoder, self.max_number_of_speakers_in_dialogue = self.get_speakers_encoder_with_complete_speakers_list()\n",
    "            print('Max number of speakers in a dialgue = {}'.format(self.max_number_of_speakers_in_dialogue))\n",
    "        else:\n",
    "            print('Speaker Embedding is Disabled')\n",
    "            self.max_number_of_speakers_in_dialogue =0\n",
    "            self.encoder = 0\n",
    "            \n",
    "        if not self.args.emoset == 'semeval':\n",
    "            self.max_number_of_utter_in_dialogue = self.get_max_utterance_length_in_dialogue()\n",
    "        else:\n",
    "            self.max_number_of_utter_in_dialogue = 3\n",
    "        \n",
    "        #Need to explore this hyperparameter\n",
    "        self.weight_rate =1\n",
    "        self.loss_weights = self.calc_loss_weight(self.df_train, self.weight_rate )\n",
    "        self.loss_weights = self.loss_weights.cuda(self.args.device)\n",
    "        print( 'loss weights = {}'.format(self.loss_weights))\n",
    "        self.class_weights = self.calc_class_weight(self.df_train, self.weight_rate )\n",
    "        self.class_weights = self.class_weights.cuda(self.args.device)\n",
    "        print( 'class weights = {}'.format(self.class_weights))\n",
    "        self.sentence_embeds_model = sentence_embeds_model(self.args, dropout = self.dropout)\n",
    "        self.context_classifier_model = context_classifier_model(self.sentence_embeds_model.embedding_size,\n",
    "                                                                 self.projection_size, \n",
    "                                                                 self.n_layers, \n",
    "                                                                 self.emo_dict, \n",
    "                                                                 self.focus_dict,\n",
    "                                                                 self.max_number_of_speakers_in_dialogue,\n",
    "                                                                 self.max_number_of_utter_in_dialogue,\n",
    "                                                                 self.args,\n",
    "                                                                 self.loss_weights,\n",
    "                                                                 dropout = self.dropout)\n",
    "        self.sentence_embeds_model.cuda(self.args.device)\n",
    "        self.context_classifier_model.cuda(self.args.device)\n",
    "    \n",
    "    def calc_loss_weight(self, df, rate=1.0):\n",
    "        \"\"\" Loss weights \"\"\"\n",
    "        emo_count = {}\n",
    "        for emo in self.emo_dict.keys():\n",
    "            emo_count[emo] =df['label'].value_counts()[emo]\n",
    "        min_emo = float(min([ emo_count[w] for w in self.focus_dict]))\n",
    "        if self.args.balance_weight_warming:\n",
    "            weight = [math.pow(min_emo / emo_count[k], rate) if k in self.focus_dict else 0 for k,v in emo_count.items()]\n",
    "        else:\n",
    "            weight = [math.pow(1, rate) if k in self.focus_dict else 0 for k,v in emo_count.items()]\n",
    "        weight = np.array(weight)\n",
    "        weight /= np.sum(weight)\n",
    "        weight = torch.from_numpy(weight).float()\n",
    "        return weight\n",
    "    \n",
    "    def calc_class_weight(self, df, rate=1.0):\n",
    "        \"\"\" class weights \"\"\"\n",
    "        emo_count = {}\n",
    "        for emo in self.emo_dict.keys():\n",
    "            if emo in self.focus_dict:\n",
    "                emo_count[emo] =df['label'].value_counts()[emo]\n",
    "            \n",
    "        \n",
    "        weight = [(v / sum(emo_count.values())) for k,v in emo_count.items()]\n",
    "        weight = np.array(weight)\n",
    "        weight = torch.from_numpy(weight).float()\n",
    "        return weight\n",
    "    \n",
    "    \n",
    "    def get_speakers_encoder_with_complete_speakers_list(self):\n",
    "        speaker_list = list(self.df_train.speaker)\n",
    "        speaker_list.extend(list(self.df_val.speaker))\n",
    "        speaker_list.extend(list(self.df_test.speaker))\n",
    "        speaker_set = set(speaker_list )\n",
    "        speaker_list = []\n",
    "        for e in speaker_set:\n",
    "            templist = []\n",
    "            templist.append(e)\n",
    "            speaker_list.append(templist)\n",
    "        cat = OneHotEncoder()\n",
    "        cat.fit(np.asarray(speaker_list, dtype = object))\n",
    "        return cat, len(speaker_set)\n",
    " \n",
    "    def get_speakers_encoder_with_only_main_speakers_list(self):\n",
    "        \n",
    "        speaker_list = []\n",
    "        complete_speaker_list = list(self.df_train['speaker'])\n",
    "        complete_speaker_list.extend(list(self.df_val['speaker']))\n",
    "        complete_speaker_list.extend(list(self.df_test['speaker']))\n",
    "        occurence_count = Counter(complete_speaker_list)\n",
    "        common_speakers = occurence_count.most_common(6)\n",
    "        for e in common_speakers:\n",
    "            templist = []\n",
    "            templist.append(e[0])\n",
    "            speaker_list.append(templist)\n",
    "        speaker_list.append(['Unknown'])\n",
    "        cat = OneHotEncoder()\n",
    "        cat.fit(np.asarray(speaker_list, dtype = object))\n",
    "        return cat, len(cat.categories_[0].tolist())\n",
    "\n",
    "    def get_max_number_of_speakers_in_dialogue(self):\n",
    "        number_of_speakers_in_dialogue = []\n",
    "        train_dialogue_id_list = list((self.df_train['dialogue_id'].unique()))\n",
    "        val_dialogue_id_list = list((self.df_val['dialogue_id'].unique()))\n",
    "        test_dialogue_id_list = list((self.df_test['dialogue_id'].unique()))\n",
    "        \n",
    "        for dialogue in train_dialogue_id_list:\n",
    "            number_of_speakers_in_dialogue.append(len(set(self.df_train[(self.df_train.dialogue_id ==dialogue)].speaker)))\n",
    "        for dialogue in val_dialogue_id_list:\n",
    "            number_of_speakers_in_dialogue.append(len(set(self.df_val[(self.df_val.dialogue_id ==dialogue)].speaker)))\n",
    "        for dialogue in test_dialogue_id_list:\n",
    "            number_of_speakers_in_dialogue.append(len(set(self.df_test[(self.df_test.dialogue_id ==dialogue)].speaker)))\n",
    "        return( max(number_of_speakers_in_dialogue))\n",
    "    \n",
    "    def get_max_utterance_length_in_dialogue(self):\n",
    "        #import IPython; IPython.embed();  exit(1)\n",
    "        train_dialogue_id_list = list((self.df_train['dialogue_id'].unique()))\n",
    "        val_dialogue_id_list = list((self.df_val['dialogue_id'].unique()))\n",
    "        test_dialogue_id_list = list((self.df_test['dialogue_id'].unique()))\n",
    "        number_of_utterance_in_dialogue = []\n",
    "        for dialogue in train_dialogue_id_list:\n",
    "             number_of_utterance_in_dialogue.append((self.df_train.dialogue_id ==dialogue).sum())\n",
    "        for dialogue in val_dialogue_id_list:\n",
    "             number_of_utterance_in_dialogue.append((self.df_val.dialogue_id ==dialogue).sum())\n",
    "        for dialogue in test_dialogue_id_list:\n",
    "             number_of_utterance_in_dialogue.append((self.df_test.dialogue_id ==dialogue).sum())\n",
    "        return( max(number_of_utterance_in_dialogue))\n",
    "       \n",
    "\n",
    "    def forward(self, input_ids, attention_mask, spkr_emd, labels = None):\n",
    "        \"\"\"\n",
    "        no special modification required for lightning, define as you normally would\n",
    "        \"\"\"\n",
    "      \n",
    "        sentence_embeds = self.sentence_embeds_model(input_ids = input_ids, \n",
    "                                                             attention_mask = attention_mask)\n",
    "    \n",
    "        return self.context_classifier_model(sentence_embeds = sentence_embeds,spkr_emd = spkr_emd, labels = labels)\n",
    "    \n",
    "    def training_step(self, batch, batch_idx):\n",
    "        \"\"\"\n",
    "        Lightning calls this inside the training loop\n",
    "        \"\"\"       \n",
    "        input_ids, attention_mask, spkr_emd , labels = batch\n",
    "        spkr_emd = spkr_emd.cuda(self.args.device)\n",
    "        labels = labels.view(-1)\n",
    "              \n",
    "        loss, _ = self.forward(input_ids = input_ids, attention_mask = attention_mask, spkr_emd = spkr_emd, labels = labels)\n",
    "       \n",
    "        tensorboard_logs = {'train_loss': loss}\n",
    "        self.log('train_loss', loss, prog_bar=True)\n",
    "        return {'loss': loss, 'log': tensorboard_logs}\n",
    "\n",
    "    \n",
    "    def validation_step(self, batch, batch_idx):\n",
    "        \"\"\"\n",
    "        Lightning calls this inside the validation loop\n",
    "        \"\"\"\n",
    "        \n",
    "        input_ids, attention_mask, spkr_emd , labels = batch\n",
    "        spkr_emd = spkr_emd.cuda(self.args.device)\n",
    "        labels = labels.view(-1)\n",
    "        \n",
    "        loss, logits = self.forward(input_ids = input_ids, attention_mask = attention_mask,spkr_emd = spkr_emd,  labels = labels)\n",
    "        scores_dict = metrics(loss, logits, labels, self.emo_dict,self.focus_emo, self.args)\n",
    "        return scores_dict\n",
    "    \n",
    "    def validation_epoch_end(self, outputs):\n",
    "        \"\"\"\n",
    "        called at the end of validation to aggregate outputs\n",
    "        :param outputs: list of individual outputs of each validation step\n",
    "        :return:\n",
    "        \"\"\"\n",
    "        #import IPython; IPython.embed();  exit(1)\n",
    "        tqdm_dict = {}\n",
    "        \n",
    "        tqdm_dict['val_loss'] = 0\n",
    "        tqdm_dict['preds'] = [0 for w in self.focus_dict]\n",
    "        tqdm_dict['labels'] = [0 for w in self.focus_dict]\n",
    "        tqdm_dict['tp'] = [0 for w in self.focus_dict]\n",
    "        tqdm_dict['fp'] = [0 for w in self.focus_dict]\n",
    "        tqdm_dict['fn'] = [0 for w in self.focus_dict]\n",
    "        tqdm_dict['acc_per_class'] = [0 for w in self.focus_dict]\n",
    "        tqdm_dict['y_pred'] = []\n",
    "        tqdm_dict['y_true'] = []\n",
    "        \n",
    "        for metric_name in outputs[0].keys():\n",
    "          \n",
    "            for output in outputs:\n",
    "                metric_value = output[metric_name]\n",
    "                if metric_name in ['y_pred', 'y_true']:\n",
    "                    tqdm_dict[metric_name].extend(metric_value)\n",
    "                else:\n",
    "                    tqdm_dict[metric_name] += metric_value\n",
    "                    \n",
    "            if metric_name in ['val_loss']:\n",
    "                tqdm_dict[metric_name] =  tqdm_dict[metric_name] / len(outputs)\n",
    "                \n",
    "               \n",
    "        for i in range(len(self.focus_dict)):\n",
    "            if  tqdm_dict['labels'][i]:\n",
    "                tqdm_dict['acc_per_class'][i] = np.round((tqdm_dict['tp'][i] / tqdm_dict['labels'][i])*100, 2)\n",
    "            else:\n",
    "                tqdm_dict['acc_per_class'][i] = 0.0\n",
    "        \n",
    "        \n",
    "        tqdm_dict['acc_unweighted'] = np.round(sum(tqdm_dict['acc_per_class']) / len(tqdm_dict['acc_per_class']),2)       \n",
    "        tqdm_dict['acc_weighted'] = sum(weight * value for weight, value in zip(self.class_weights, tqdm_dict['acc_per_class']))\n",
    "        \n",
    "        tqdm_dict['acc_weighted'] = (tqdm_dict['acc_weighted'] * 10**2).round() / (10**2)\n",
    "        prec_rec_f1 = calc_f1_score(tqdm_dict['tp'], tqdm_dict['fp'], tqdm_dict['fn'])\n",
    "        tqdm_dict.update(prec_rec_f1) \n",
    "        self.y_true = tqdm_dict.pop(\"y_true\", None)\n",
    "        self.y_pred = tqdm_dict.pop(\"y_pred\", None)\n",
    "        \n",
    "        microF1_per_class = {}\n",
    "        for emotion_class in range(len(tqdm_dict[\"macroF1_per_class\"])):\n",
    "            microF1_per_class[str(emotion_class)] = tqdm_dict[\"macroF1_per_class\"][emotion_class]\n",
    "      \n",
    "        self.log('valid_loss', tqdm_dict[\"val_loss\"], prog_bar=False)\n",
    "        self.log('valid_ac_unweighted', tqdm_dict[\"acc_unweighted\"], prog_bar=False)\n",
    "        self.log('macroF1', tqdm_dict[\"macroF1_score\"], prog_bar=False)\n",
    "        self.log('microF1', tqdm_dict[\"microF1_score\"], prog_bar=False)\n",
    "        self.log('microF1_per_class', microF1_per_class, prog_bar=False)\n",
    "        \n",
    "        \n",
    "        if self.verbosity :\n",
    "            print(*tqdm_dict.items(), sep='\\n')\n",
    "        result = {'progress_bar': tqdm_dict, 'log': tqdm_dict, 'val_loss': tqdm_dict[\"val_loss\"] }\n",
    "        \n",
    "        return result\n",
    "\n",
    "    \n",
    "    def test_step(self, batch, batch_idx):\n",
    " \n",
    "        return self.validation_step(batch, batch_idx)\n",
    "\n",
    "    \n",
    "    def test_epoch_end(self, outputs):\n",
    "        return_value =  self.validation_epoch_end(outputs)\n",
    "        return (return_value)\n",
    "    \n",
    "    def configure_optimizers(self):\n",
    "        \"\"\"\n",
    "        returns the optimizer and scheduler\n",
    "        \"\"\"\n",
    "        params = self.sentence_embeds_model.layerwise_lr(self.args.lr, self.args.layerwise_decay)\n",
    "        params += [{'params': self.context_classifier_model.parameters()}]\n",
    "        self.optimizer = torch.optim.Adam(params, lr=self.args.lr)\n",
    "        self.scheduler = torch.optim.lr_scheduler.CosineAnnealingLR(self.optimizer, T_max=10)\n",
    "        return [self.optimizer], [self.scheduler]\n",
    "    \n",
    "\n",
    "   \n",
    "    def train_dataloader(self):\n",
    "        \n",
    "        dataset = CustomDataset(self.df_train, self.max_number_of_speakers_in_dialogue, self.emo_dict, self.encoder, self.args)\n",
    "        train_loader = DataLoader(dataset, self.args.batch_size, shuffle=True, num_workers=0)\n",
    "      \n",
    "        return train_loader\n",
    "\n",
    "    \n",
    "\n",
    "    def val_dataloader(self):\n",
    "\n",
    "        dataset = CustomDataset(self.df_val, self.max_number_of_speakers_in_dialogue, self.emo_dict, self.encoder, self.args)\n",
    "        val_loader = DataLoader(dataset, self.args.batch_size, shuffle=False, num_workers=0)\n",
    "      \n",
    "        return val_loader\n",
    "\n",
    "    def test_dataloader(self):\n",
    "        \n",
    "        dataset = CustomDataset(self.df_test, self.max_number_of_speakers_in_dialogue, self.emo_dict, self.encoder, self.args)\n",
    "        test_loader = DataLoader(dataset, self.args.batch_size, shuffle=False, num_workers=0)\n",
    "       \n",
    "        return test_loader     \n",
    "\n",
    "def train_model (model):\n",
    "    \n",
    "    early_stop_callback = pl.callbacks.EarlyStopping(monitor='valid_loss', min_delta=0.0005, patience=5,\n",
    "                                        verbose=True, mode='min')\n",
    "   \n",
    "    if model.args.emoset == 'emotionpush' or model.args.emoset == 'emotionpush_german' :\n",
    "        checkpoint_callback = pl.callbacks.ModelCheckpoint( monitor='macroF1' , mode = 'max', save_top_k = model.args.epochs) \n",
    "    else:\n",
    "        checkpoint_callback = pl.callbacks.ModelCheckpoint( monitor='valid_loss' , mode = 'min', save_top_k = model.args.epochs)\n",
    "  \n",
    "    gpu_list = [int(model.args.gpu)]  \n",
    "    trainer = pl.Trainer(default_root_dir=os.getcwd(),\n",
    "                    gpus=(gpu_list if torch.cuda.is_available() else 0),\n",
    "                    max_epochs= model.args.epochs,\n",
    "                    fast_dev_run=False,\n",
    "                    deterministic=True,\n",
    "                    callbacks = [early_stop_callback,checkpoint_callback] \n",
    "                    )\n",
    "    trainer.fit(model)\n",
    "    return trainer\n",
    "    \n",
    "def test_model(trainer, model):\n",
    "    if 1:\n",
    "        print('In Test Model')\n",
    "        score = trainer.test(verbose = model.verbosity)\n",
    "    else:\n",
    "        checkpoint_path = './lightning_logs/version_0/checkpoints/'\n",
    "        checkpoints = os.listdir(checkpoint_path)\n",
    "\n",
    "        for checkpoint in checkpoints:\n",
    "            print(checkpoint)\n",
    "            score = trainer.test(ckpt_path = checkpoint_path + checkpoint )\n",
    "    return score "
   ]
  },
  {
   "cell_type": "markdown",
   "id": "e1f9e107",
   "metadata": {},
   "source": [
    "# Create Model"
   ]
  },
  {
   "cell_type": "code",
   "execution_count": 15,
   "id": "01db33ba",
   "metadata": {},
   "outputs": [
    {
     "name": "stdout",
     "output_type": "stream",
     "text": [
      "Speaker Embedding is Enabled\n",
      "Max number of speakers in a dialgue = 263\n",
      "loss weights = tensor([0.0517, 0.2339, 0.1459, 0.0719, 0.1744, 0.2002, 0.1221],\n",
      "       device='cuda:0')\n",
      "class weights = tensor([0.3054, 0.0675, 0.1083, 0.2199, 0.0906, 0.0789, 0.1294],\n",
      "       device='cuda:0')\n",
      "In function DistilBertForSequenceClassification\n"
     ]
    },
    {
     "data": {
      "text/plain": [
       "EmotionModel(\n",
       "  (sentence_embeds_model): sentence_embeds_model(\n",
       "    (transformer): DistilBertModel(\n",
       "      (embeddings): Embeddings(\n",
       "        (word_embeddings): Embedding(30522, 768, padding_idx=0)\n",
       "        (position_embeddings): Embedding(512, 768)\n",
       "        (LayerNorm): LayerNorm((768,), eps=1e-12, elementwise_affine=True)\n",
       "        (dropout): Dropout(p=0.1, inplace=False)\n",
       "      )\n",
       "      (transformer): Transformer(\n",
       "        (layer): ModuleList(\n",
       "          (0): TransformerBlock(\n",
       "            (attention): MultiHeadSelfAttention(\n",
       "              (dropout): Dropout(p=0.1, inplace=False)\n",
       "              (q_lin): Linear(in_features=768, out_features=768, bias=True)\n",
       "              (k_lin): Linear(in_features=768, out_features=768, bias=True)\n",
       "              (v_lin): Linear(in_features=768, out_features=768, bias=True)\n",
       "              (out_lin): Linear(in_features=768, out_features=768, bias=True)\n",
       "            )\n",
       "            (sa_layer_norm): LayerNorm((768,), eps=1e-12, elementwise_affine=True)\n",
       "            (ffn): FFN(\n",
       "              (dropout): Dropout(p=0.1, inplace=False)\n",
       "              (lin1): Linear(in_features=768, out_features=3072, bias=True)\n",
       "              (lin2): Linear(in_features=3072, out_features=768, bias=True)\n",
       "            )\n",
       "            (output_layer_norm): LayerNorm((768,), eps=1e-12, elementwise_affine=True)\n",
       "          )\n",
       "          (1): TransformerBlock(\n",
       "            (attention): MultiHeadSelfAttention(\n",
       "              (dropout): Dropout(p=0.1, inplace=False)\n",
       "              (q_lin): Linear(in_features=768, out_features=768, bias=True)\n",
       "              (k_lin): Linear(in_features=768, out_features=768, bias=True)\n",
       "              (v_lin): Linear(in_features=768, out_features=768, bias=True)\n",
       "              (out_lin): Linear(in_features=768, out_features=768, bias=True)\n",
       "            )\n",
       "            (sa_layer_norm): LayerNorm((768,), eps=1e-12, elementwise_affine=True)\n",
       "            (ffn): FFN(\n",
       "              (dropout): Dropout(p=0.1, inplace=False)\n",
       "              (lin1): Linear(in_features=768, out_features=3072, bias=True)\n",
       "              (lin2): Linear(in_features=3072, out_features=768, bias=True)\n",
       "            )\n",
       "            (output_layer_norm): LayerNorm((768,), eps=1e-12, elementwise_affine=True)\n",
       "          )\n",
       "          (2): TransformerBlock(\n",
       "            (attention): MultiHeadSelfAttention(\n",
       "              (dropout): Dropout(p=0.1, inplace=False)\n",
       "              (q_lin): Linear(in_features=768, out_features=768, bias=True)\n",
       "              (k_lin): Linear(in_features=768, out_features=768, bias=True)\n",
       "              (v_lin): Linear(in_features=768, out_features=768, bias=True)\n",
       "              (out_lin): Linear(in_features=768, out_features=768, bias=True)\n",
       "            )\n",
       "            (sa_layer_norm): LayerNorm((768,), eps=1e-12, elementwise_affine=True)\n",
       "            (ffn): FFN(\n",
       "              (dropout): Dropout(p=0.1, inplace=False)\n",
       "              (lin1): Linear(in_features=768, out_features=3072, bias=True)\n",
       "              (lin2): Linear(in_features=3072, out_features=768, bias=True)\n",
       "            )\n",
       "            (output_layer_norm): LayerNorm((768,), eps=1e-12, elementwise_affine=True)\n",
       "          )\n",
       "          (3): TransformerBlock(\n",
       "            (attention): MultiHeadSelfAttention(\n",
       "              (dropout): Dropout(p=0.1, inplace=False)\n",
       "              (q_lin): Linear(in_features=768, out_features=768, bias=True)\n",
       "              (k_lin): Linear(in_features=768, out_features=768, bias=True)\n",
       "              (v_lin): Linear(in_features=768, out_features=768, bias=True)\n",
       "              (out_lin): Linear(in_features=768, out_features=768, bias=True)\n",
       "            )\n",
       "            (sa_layer_norm): LayerNorm((768,), eps=1e-12, elementwise_affine=True)\n",
       "            (ffn): FFN(\n",
       "              (dropout): Dropout(p=0.1, inplace=False)\n",
       "              (lin1): Linear(in_features=768, out_features=3072, bias=True)\n",
       "              (lin2): Linear(in_features=3072, out_features=768, bias=True)\n",
       "            )\n",
       "            (output_layer_norm): LayerNorm((768,), eps=1e-12, elementwise_affine=True)\n",
       "          )\n",
       "          (4): TransformerBlock(\n",
       "            (attention): MultiHeadSelfAttention(\n",
       "              (dropout): Dropout(p=0.1, inplace=False)\n",
       "              (q_lin): Linear(in_features=768, out_features=768, bias=True)\n",
       "              (k_lin): Linear(in_features=768, out_features=768, bias=True)\n",
       "              (v_lin): Linear(in_features=768, out_features=768, bias=True)\n",
       "              (out_lin): Linear(in_features=768, out_features=768, bias=True)\n",
       "            )\n",
       "            (sa_layer_norm): LayerNorm((768,), eps=1e-12, elementwise_affine=True)\n",
       "            (ffn): FFN(\n",
       "              (dropout): Dropout(p=0.1, inplace=False)\n",
       "              (lin1): Linear(in_features=768, out_features=3072, bias=True)\n",
       "              (lin2): Linear(in_features=3072, out_features=768, bias=True)\n",
       "            )\n",
       "            (output_layer_norm): LayerNorm((768,), eps=1e-12, elementwise_affine=True)\n",
       "          )\n",
       "          (5): TransformerBlock(\n",
       "            (attention): MultiHeadSelfAttention(\n",
       "              (dropout): Dropout(p=0.1, inplace=False)\n",
       "              (q_lin): Linear(in_features=768, out_features=768, bias=True)\n",
       "              (k_lin): Linear(in_features=768, out_features=768, bias=True)\n",
       "              (v_lin): Linear(in_features=768, out_features=768, bias=True)\n",
       "              (out_lin): Linear(in_features=768, out_features=768, bias=True)\n",
       "            )\n",
       "            (sa_layer_norm): LayerNorm((768,), eps=1e-12, elementwise_affine=True)\n",
       "            (ffn): FFN(\n",
       "              (dropout): Dropout(p=0.1, inplace=False)\n",
       "              (lin1): Linear(in_features=768, out_features=3072, bias=True)\n",
       "              (lin2): Linear(in_features=3072, out_features=768, bias=True)\n",
       "            )\n",
       "            (output_layer_norm): LayerNorm((768,), eps=1e-12, elementwise_affine=True)\n",
       "          )\n",
       "        )\n",
       "      )\n",
       "    )\n",
       "  )\n",
       "  (context_classifier_model): context_classifier_model(\n",
       "    (projection): Linear(in_features=1536, out_features=768, bias=True)\n",
       "    (position_embeds): Embedding(25, 768)\n",
       "    (norm): LayerNorm((1031,), eps=1e-05, elementwise_affine=True)\n",
       "    (drop): Dropout(p=0.1, inplace=False)\n",
       "    (context_transformer): DistilBertForSequenceClassification(\n",
       "      (distilbert): DistilBertModel(\n",
       "        (embeddings): Embeddings(\n",
       "          (word_embeddings): Embedding(30522, 1031, padding_idx=0)\n",
       "          (position_embeddings): Embedding(512, 1031)\n",
       "          (LayerNorm): LayerNorm((1031,), eps=1e-12, elementwise_affine=True)\n",
       "          (dropout): Dropout(p=0.1, inplace=False)\n",
       "        )\n",
       "        (transformer): Transformer(\n",
       "          (layer): ModuleList(\n",
       "            (0): TransformerBlock(\n",
       "              (attention): MultiHeadSelfAttention(\n",
       "                (dropout): Dropout(p=0.1, inplace=False)\n",
       "                (q_lin): Linear(in_features=1031, out_features=1031, bias=True)\n",
       "                (k_lin): Linear(in_features=1031, out_features=1031, bias=True)\n",
       "                (v_lin): Linear(in_features=1031, out_features=1031, bias=True)\n",
       "                (out_lin): Linear(in_features=1031, out_features=1031, bias=True)\n",
       "              )\n",
       "              (sa_layer_norm): LayerNorm((1031,), eps=1e-12, elementwise_affine=True)\n",
       "              (ffn): FFN(\n",
       "                (dropout): Dropout(p=0.1, inplace=False)\n",
       "                (lin1): Linear(in_features=1031, out_features=3072, bias=True)\n",
       "                (lin2): Linear(in_features=3072, out_features=1031, bias=True)\n",
       "              )\n",
       "              (output_layer_norm): LayerNorm((1031,), eps=1e-12, elementwise_affine=True)\n",
       "            )\n",
       "            (1): TransformerBlock(\n",
       "              (attention): MultiHeadSelfAttention(\n",
       "                (dropout): Dropout(p=0.1, inplace=False)\n",
       "                (q_lin): Linear(in_features=1031, out_features=1031, bias=True)\n",
       "                (k_lin): Linear(in_features=1031, out_features=1031, bias=True)\n",
       "                (v_lin): Linear(in_features=1031, out_features=1031, bias=True)\n",
       "                (out_lin): Linear(in_features=1031, out_features=1031, bias=True)\n",
       "              )\n",
       "              (sa_layer_norm): LayerNorm((1031,), eps=1e-12, elementwise_affine=True)\n",
       "              (ffn): FFN(\n",
       "                (dropout): Dropout(p=0.1, inplace=False)\n",
       "                (lin1): Linear(in_features=1031, out_features=3072, bias=True)\n",
       "                (lin2): Linear(in_features=3072, out_features=1031, bias=True)\n",
       "              )\n",
       "              (output_layer_norm): LayerNorm((1031,), eps=1e-12, elementwise_affine=True)\n",
       "            )\n",
       "            (2): TransformerBlock(\n",
       "              (attention): MultiHeadSelfAttention(\n",
       "                (dropout): Dropout(p=0.1, inplace=False)\n",
       "                (q_lin): Linear(in_features=1031, out_features=1031, bias=True)\n",
       "                (k_lin): Linear(in_features=1031, out_features=1031, bias=True)\n",
       "                (v_lin): Linear(in_features=1031, out_features=1031, bias=True)\n",
       "                (out_lin): Linear(in_features=1031, out_features=1031, bias=True)\n",
       "              )\n",
       "              (sa_layer_norm): LayerNorm((1031,), eps=1e-12, elementwise_affine=True)\n",
       "              (ffn): FFN(\n",
       "                (dropout): Dropout(p=0.1, inplace=False)\n",
       "                (lin1): Linear(in_features=1031, out_features=3072, bias=True)\n",
       "                (lin2): Linear(in_features=3072, out_features=1031, bias=True)\n",
       "              )\n",
       "              (output_layer_norm): LayerNorm((1031,), eps=1e-12, elementwise_affine=True)\n",
       "            )\n",
       "            (3): TransformerBlock(\n",
       "              (attention): MultiHeadSelfAttention(\n",
       "                (dropout): Dropout(p=0.1, inplace=False)\n",
       "                (q_lin): Linear(in_features=1031, out_features=1031, bias=True)\n",
       "                (k_lin): Linear(in_features=1031, out_features=1031, bias=True)\n",
       "                (v_lin): Linear(in_features=1031, out_features=1031, bias=True)\n",
       "                (out_lin): Linear(in_features=1031, out_features=1031, bias=True)\n",
       "              )\n",
       "              (sa_layer_norm): LayerNorm((1031,), eps=1e-12, elementwise_affine=True)\n",
       "              (ffn): FFN(\n",
       "                (dropout): Dropout(p=0.1, inplace=False)\n",
       "                (lin1): Linear(in_features=1031, out_features=3072, bias=True)\n",
       "                (lin2): Linear(in_features=3072, out_features=1031, bias=True)\n",
       "              )\n",
       "              (output_layer_norm): LayerNorm((1031,), eps=1e-12, elementwise_affine=True)\n",
       "            )\n",
       "          )\n",
       "        )\n",
       "      )\n",
       "      (pre_classifier): Linear(in_features=1031, out_features=1031, bias=True)\n",
       "      (classifier): Linear(in_features=1031, out_features=7, bias=True)\n",
       "      (dropout): Dropout(p=0.2, inplace=False)\n",
       "    )\n",
       "    (bin_loss_fct): BCEWithLogitsLoss()\n",
       "  )\n",
       ")"
      ]
     },
     "execution_count": 15,
     "metadata": {},
     "output_type": "execute_result"
    }
   ],
   "source": [
    "model = EmotionModel(emo_dict, focus_dict, args, df_train, df_val, df_test, verbosity = True)\n",
    "model = model.cuda(args.device)\n",
    "model"
   ]
  },
  {
   "cell_type": "code",
   "execution_count": 16,
   "id": "2ebcf0f6",
   "metadata": {},
   "outputs": [
    {
     "name": "stderr",
     "output_type": "stream",
     "text": [
      "GPU available: True, used: True\n",
      "TPU available: False, using: 0 TPU cores\n",
      "LOCAL_RANK: 0 - CUDA_VISIBLE_DEVICES: [0]\n",
      "\n",
      "  | Name                     | Type                     | Params\n",
      "----------------------------------------------------------------------\n",
      "0 | sentence_embeds_model    | sentence_embeds_model    | 66.4 M\n",
      "1 | context_classifier_model | context_classifier_model | 76.7 M\n",
      "----------------------------------------------------------------------\n",
      "143 M     Trainable params\n",
      "0         Non-trainable params\n",
      "143 M     Total params\n",
      "572.114   Total estimated model params size (MB)\n"
     ]
    },
    {
     "data": {
      "application/vnd.jupyter.widget-view+json": {
       "model_id": "",
       "version_major": 2,
       "version_minor": 0
      },
      "text/plain": [
       "HBox(children=(HTML(value='Validation sanity check'), FloatProgress(value=1.0, bar_style='info', layout=Layout…"
      ]
     },
     "metadata": {},
     "output_type": "display_data"
    },
    {
     "name": "stdout",
     "output_type": "stream",
     "text": [
      "using distill-uncased tokenizer\n"
     ]
    },
    {
     "name": "stderr",
     "output_type": "stream",
     "text": [
      "C:\\Users\\neera\\anaconda3\\envs\\NLP3\\lib\\site-packages\\pytorch_lightning\\utilities\\distributed.py:69: UserWarning: The dataloader, val dataloader 0, does not have many workers which may be a bottleneck. Consider increasing the value of the `num_workers` argument` (try 8 which is the number of cpus on this machine) in the `DataLoader` init to improve performance.\n",
      "  warnings.warn(*args, **kwargs)\n",
      "Global seed set to 42\n"
     ]
    },
    {
     "name": "stdout",
     "output_type": "stream",
     "text": [
      "('val_loss', tensor(0.1636, device='cuda:0'))\n",
      "('preds', array([5, 0, 5, 2, 6, 8, 8], dtype=int64))\n",
      "('labels', array([11,  1,  8, 10,  2,  0,  2], dtype=int64))\n",
      "('tp', array([2, 0, 1, 0, 0, 0, 1], dtype=int64))\n",
      "('fp', array([3, 0, 4, 2, 6, 8, 7], dtype=int64))\n",
      "('fn', array([ 9,  1,  7, 10,  2,  0,  1], dtype=int64))\n",
      "('acc_per_class', [18.18, 0.0, 12.5, 0.0, 0.0, 0.0, 50.0])\n",
      "('acc_unweighted', 11.53)\n",
      "('acc_weighted', tensor(13.3700, device='cuda:0'))\n",
      "('microRecall', 11.76)\n",
      "('macroRecall', 11.53)\n",
      "('microPrecision', 11.76)\n",
      "('macroPrecision', 10.36)\n",
      "('microF1_score', 11.76)\n",
      "('macroF1_score', 10.91)\n",
      "('macroF1_per_class', [25.0, 0.0, 15.38, 0.0, 0.0, 0.0, 20.0])\n",
      "using distill-uncased tokenizer\n"
     ]
    },
    {
     "name": "stderr",
     "output_type": "stream",
     "text": [
      "C:\\Users\\neera\\anaconda3\\envs\\NLP3\\lib\\site-packages\\pytorch_lightning\\utilities\\distributed.py:69: UserWarning: The dataloader, train dataloader, does not have many workers which may be a bottleneck. Consider increasing the value of the `num_workers` argument` (try 8 which is the number of cpus on this machine) in the `DataLoader` init to improve performance.\n",
      "  warnings.warn(*args, **kwargs)\n"
     ]
    },
    {
     "data": {
      "application/vnd.jupyter.widget-view+json": {
       "model_id": "9e1d2b8249154e33b54511912cd1777a",
       "version_major": 2,
       "version_minor": 0
      },
      "text/plain": [
       "HBox(children=(HTML(value='Training'), FloatProgress(value=1.0, bar_style='info', layout=Layout(flex='2'), max…"
      ]
     },
     "metadata": {},
     "output_type": "display_data"
    },
    {
     "data": {
      "application/vnd.jupyter.widget-view+json": {
       "model_id": "",
       "version_major": 2,
       "version_minor": 0
      },
      "text/plain": [
       "HBox(children=(HTML(value='Validating'), FloatProgress(value=1.0, bar_style='info', layout=Layout(flex='2'), m…"
      ]
     },
     "metadata": {},
     "output_type": "display_data"
    },
    {
     "name": "stderr",
     "output_type": "stream",
     "text": [
      "Metric valid_loss improved. New best score: 0.206\n"
     ]
    },
    {
     "name": "stdout",
     "output_type": "stream",
     "text": [
      "('val_loss', tensor(0.2057, device='cuda:0'))\n",
      "('preds', array([220, 445, 104, 291, 119,  19, 146], dtype=int64))\n",
      "('labels', array([393,  75, 143, 289, 132, 134, 178], dtype=int64))\n",
      "('tp', array([120,  51,  41, 141,  12,   1,  44], dtype=int64))\n",
      "('fp', array([100, 394,  63, 150, 107,  18, 102], dtype=int64))\n",
      "('fn', array([273,  24, 102, 148, 120, 133, 134], dtype=int64))\n",
      "('acc_per_class', [30.53, 68.0, 28.67, 48.79, 9.09, 0.75, 24.72])\n",
      "('acc_unweighted', 30.08)\n",
      "('acc_weighted', tensor(31.8300, device='cuda:0'))\n",
      "('microRecall', 30.51)\n",
      "('macroRecall', 30.08)\n",
      "('microPrecision', 30.51)\n",
      "('macroPrecision', 28.48)\n",
      "('microF1_score', 30.51)\n",
      "('macroF1_score', 29.26)\n",
      "('macroF1_per_class', [39.15, 19.61, 33.2, 48.62, 9.56, 1.31, 27.16])\n"
     ]
    },
    {
     "data": {
      "application/vnd.jupyter.widget-view+json": {
       "model_id": "",
       "version_major": 2,
       "version_minor": 0
      },
      "text/plain": [
       "HBox(children=(HTML(value='Validating'), FloatProgress(value=1.0, bar_style='info', layout=Layout(flex='2'), m…"
      ]
     },
     "metadata": {},
     "output_type": "display_data"
    },
    {
     "name": "stderr",
     "output_type": "stream",
     "text": [
      "Metric valid_loss improved by 0.009 >= min_delta = 0.0005. New best score: 0.197\n"
     ]
    },
    {
     "name": "stdout",
     "output_type": "stream",
     "text": [
      "('val_loss', tensor(0.1970, device='cuda:0'))\n",
      "('preds', array([257, 297, 283, 242,  59,  64, 142], dtype=int64))\n",
      "('labels', array([393,  75, 143, 289, 132, 134, 178], dtype=int64))\n",
      "('tp', array([138,  41,  75, 124,   8,  10,  49], dtype=int64))\n",
      "('fp', array([119, 256, 208, 118,  51,  54,  93], dtype=int64))\n",
      "('fn', array([255,  34,  68, 165, 124, 124, 129], dtype=int64))\n",
      "('acc_per_class', [35.11, 54.67, 52.45, 42.91, 6.06, 7.46, 27.53])\n",
      "('acc_unweighted', 32.31)\n",
      "('acc_weighted', tensor(34.2300, device='cuda:0'))\n",
      "('microRecall', 33.11)\n",
      "('macroRecall', 32.31)\n",
      "('microPrecision', 33.11)\n",
      "('macroPrecision', 29.85)\n",
      "('microF1_score', 33.11)\n",
      "('macroF1_score', 31.03)\n",
      "('macroF1_per_class', [42.46, 22.04, 35.21, 46.71, 8.38, 10.1, 30.63])\n",
      "\n"
     ]
    }
   ],
   "source": [
    "trainer = train_model(model)\n"
   ]
  },
  {
   "cell_type": "code",
   "execution_count": 17,
   "id": "276b16d4",
   "metadata": {},
   "outputs": [
    {
     "name": "stdout",
     "output_type": "stream",
     "text": [
      "In Test Model\n"
     ]
    },
    {
     "name": "stderr",
     "output_type": "stream",
     "text": [
      "LOCAL_RANK: 0 - CUDA_VISIBLE_DEVICES: [0]\n"
     ]
    },
    {
     "name": "stdout",
     "output_type": "stream",
     "text": [
      "using distill-uncased tokenizer\n"
     ]
    },
    {
     "name": "stderr",
     "output_type": "stream",
     "text": [
      "C:\\Users\\neera\\anaconda3\\envs\\NLP3\\lib\\site-packages\\pytorch_lightning\\utilities\\distributed.py:69: UserWarning: The dataloader, test dataloader 0, does not have many workers which may be a bottleneck. Consider increasing the value of the `num_workers` argument` (try 8 which is the number of cpus on this machine) in the `DataLoader` init to improve performance.\n",
      "  warnings.warn(*args, **kwargs)\n"
     ]
    },
    {
     "data": {
      "application/vnd.jupyter.widget-view+json": {
       "model_id": "f3c7ee3d6487487d81aa96922af67f5f",
       "version_major": 2,
       "version_minor": 0
      },
      "text/plain": [
       "HBox(children=(HTML(value='Testing'), FloatProgress(value=1.0, bar_style='info', layout=Layout(flex='2'), max=…"
      ]
     },
     "metadata": {},
     "output_type": "display_data"
    },
    {
     "name": "stdout",
     "output_type": "stream",
     "text": [
      "('val_loss', tensor(0.2113, device='cuda:0'))\n",
      "('preds', array([266, 294, 270, 216,  67,  78, 137], dtype=int64))\n",
      "('labels', array([349,  98, 113, 282, 159, 145, 182], dtype=int64))\n",
      "('tp', array([141,  51,  59, 105,  11,  11,  46], dtype=int64))\n",
      "('fp', array([125, 243, 211, 111,  56,  67,  91], dtype=int64))\n",
      "('fn', array([208,  47,  54, 177, 148, 134, 136], dtype=int64))\n",
      "('acc_per_class', [40.4, 52.04, 52.21, 37.23, 6.92, 7.59, 25.27])\n",
      "('acc_unweighted', 31.67)\n",
      "('acc_weighted', tensor(34.1900, device='cuda:0'))\n",
      "('microRecall', 31.93)\n",
      "('macroRecall', 31.67)\n",
      "('microPrecision', 31.93)\n",
      "('macroPrecision', 29.27)\n",
      "('microF1_score', 31.93)\n",
      "('macroF1_score', 30.42)\n",
      "('macroF1_per_class', [45.85, 26.02, 30.81, 42.17, 9.74, 9.87, 28.84])\n",
      "\n",
      "--------------------------------------------------------------------------------\n",
      "DATALOADER:0 TEST RESULTS\n",
      "{'macroF1': 30.42,\n",
      " 'microF1': 31.93,\n",
      " 'microF1_per_class': {'0': 45.85,\n",
      "                       '1': 26.02,\n",
      "                       '2': 30.81,\n",
      "                       '3': 42.17,\n",
      "                       '4': 9.74,\n",
      "                       '5': 9.87,\n",
      "                       '6': 28.84},\n",
      " 'valid_ac_unweighted': 31.67,\n",
      " 'valid_loss': 0.2112848460674286}\n",
      "--------------------------------------------------------------------------------\n",
      "f1 score is 30.42\n"
     ]
    }
   ],
   "source": [
    "model.verbosity = True\n",
    "score = test_model(trainer, model)\n",
    "print('f1 score is {}'.format(score[0]['macroF1']))"
   ]
  },
  {
   "cell_type": "markdown",
   "id": "0ad9e51a",
   "metadata": {},
   "source": [
    "# Confusion Matrix Plot"
   ]
  },
  {
   "cell_type": "code",
   "execution_count": 59,
   "id": "45b030d7",
   "metadata": {},
   "outputs": [
    {
     "name": "stdout",
     "output_type": "stream",
     "text": [
      "['153\\n43.84%', '66\\n18.91%', '41\\n11.75%', '25\\n7.16%', '26\\n7.45%', '10\\n2.87%', '28\\n8.02%', '9\\n9.18%', '56\\n57.14%', '16\\n16.33%', '6\\n6.12%', '2\\n2.04%', '2\\n2.04%', '7\\n7.14%', '7\\n6.19%', '18\\n15.93%', '58\\n51.33%', '7\\n6.19%', '8\\n7.08%', '5\\n4.42%', '10\\n8.85%', '37\\n13.12%', '43\\n15.25%', '44\\n15.60%', '90\\n31.91%', '34\\n12.06%', '7\\n2.48%', '27\\n9.57%', '34\\n21.38%', '39\\n24.53%', '32\\n20.13%', '20\\n12.58%', '18\\n11.32%', '8\\n5.03%', '8\\n5.03%', '20\\n13.79%', '30\\n20.69%', '38\\n26.21%', '23\\n15.86%', '20\\n13.79%', '3\\n2.07%', '11\\n7.59%', '25\\n13.74%', '50\\n27.47%', '37\\n20.33%', '12\\n6.59%', '9\\n4.95%', '2\\n1.10%', '47\\n25.82%']\n",
      "\n"
     ]
    },
    {
     "data": {
      "image/png": "[encoded data removed]",
      "text/plain": [
       "<Figure size 576x432 with 2 Axes>"
      ]
     },
     "metadata": {},
     "output_type": "display_data"
    }
   ],
   "source": [
    "cm = confusion_matrix(model.y_true,model.y_pred)[0:len(focus_dict), 0:len(focus_dict)]\n",
    "make_confusion_matrix(cm, figsize=(8,6), cbar=True, categories = focus_dict, title='Friends', percent=True)"
   ]
  },
  {
   "cell_type": "markdown",
   "id": "97fe8e23",
   "metadata": {},
   "source": [
    "# Per Class F1$_{macro}$ Score"
   ]
  },
  {
   "cell_type": "code",
   "execution_count": 64,
   "id": "a3807641",
   "metadata": {},
   "outputs": [
    {
     "data": {
      "image/png": "[encoded data removed]",
      "text/plain": [
       "<Figure size 432x432 with 1 Axes>"
      ]
     },
     "metadata": {},
     "output_type": "display_data"
    }
   ],
   "source": [
    "plot_per_Class_f1_score(args, focus_dict, score)"
   ]
  },
  {
   "cell_type": "markdown",
   "id": "63909e5b",
   "metadata": {},
   "source": [
    "# Results Analysis\n",
    " - We perform a number of experiments to get better understanding of our results and the capabalities of our model "
   ]
  },
  {
   "cell_type": "markdown",
   "id": "9c9c860b",
   "metadata": {},
   "source": [
    "# Effect of the Speaker, Dialogue Length \n",
    "In this section,  we investigate the effect of the number of speakers and dialogue length onERC model performance"
   ]
  },
  {
   "cell_type": "code",
   "execution_count": 67,
   "id": "6de985dc",
   "metadata": {},
   "outputs": [
    {
     "data": {
      "image/png": "[encoded data removed]",
      "text/plain": [
       "<Figure size 576x432 with 1 Axes>"
      ]
     },
     "metadata": {},
     "output_type": "display_data"
    }
   ],
   "source": [
    "plot_F1_Score_against_speaker_count(df_test, model)"
   ]
  },
  {
   "cell_type": "code",
   "execution_count": 68,
   "id": "33ed96a1",
   "metadata": {},
   "outputs": [
    {
     "data": {
      "image/png": "[encoded data removed]",
      "text/plain": [
       "<Figure size 432x432 with 1 Axes>"
      ]
     },
     "metadata": {},
     "output_type": "display_data"
    }
   ],
   "source": [
    "plot_F1_Score_against_dialogue_length(df_test, model)"
   ]
  },
  {
   "cell_type": "markdown",
   "id": "a6f669a6",
   "metadata": {},
   "source": [
    "# Influence of Utterance Positions in the Prediction\n",
    "In this setting, we try to understand whether there is a general or dataset specific trend between the prediction f1-score and position of the utterances. We want to examine if utterances at the beginning of the dialogues are relatively easier to classify compared to the utterances at the middle or the utterances at the end."
   ]
  },
  {
   "cell_type": "code",
   "execution_count": 70,
   "id": "17ebab0d",
   "metadata": {},
   "outputs": [
    {
     "data": {
      "image/png": "[encoded data removed]",
      "text/plain": [
       "<Figure size 576x432 with 1 Axes>"
      ]
     },
     "metadata": {},
     "output_type": "display_data"
    }
   ],
   "source": [
    "plot_F1_Score_against_utterance_length(df_test, model)"
   ]
  },
  {
   "attachments": {
    "image.png": {
     "image/png": "[encoded data removed]"
    }
   },
   "cell_type": "markdown",
   "id": "3626931f",
   "metadata": {},
   "source": [
    "# Label Shift\n",
    "We want to explore the label copying property which means consecutive utterances from the same speaker or different speakers often have the same emotion. Contextual models make correct predictions when utterances display such kind of continuation of the same label. But what happens when there is a change of label. We look at the following two different kind of shifts that could happen in the course of a dialogue\n",
    " - Intra-Speaker Shift : The label of the utterance is different from the label of the previous utterance from the same speaker\n",
    " - Inter-Speaker Shift: The label of the utterance is different from the label of the previous utterance from the non-target speaker\n",
    " \n",
    " ![image.png](attachment:image.png)"
   ]
  },
  {
   "cell_type": "code",
   "execution_count": 71,
   "id": "bea7ddda",
   "metadata": {},
   "outputs": [],
   "source": [
    "def get_intra_specific_label_shift(df):\n",
    "    number_of_speakers_in_dialogue= []\n",
    "    intraspeakers_shift_index_list = []\n",
    "    count_intraspeakers_shift_list = []\n",
    "    last_index_in_previous_dialogue = 0\n",
    "    dialogue_id_list = list((df['dialogue_id'].unique()))\n",
    "    for dialogue in dialogue_id_list:\n",
    "        df_dialogue = df[(df.dialogue_id ==dialogue)]\n",
    "        speakers_in_dialogue = (list(set(df_dialogue.speaker)))\n",
    "        shift_count = 0\n",
    "        for speaker in speakers_in_dialogue:\n",
    "            indexs_to_check = df_dialogue[(df_dialogue.speaker ==speaker)].index\n",
    "            first_index = True\n",
    "            for index in indexs_to_check:\n",
    "                current_label = df_dialogue.iloc[index-last_index_in_previous_dialogue].label\n",
    "                if first_index:\n",
    "                    prev_label = current_label\n",
    "                    first_index = False\n",
    "                    continue\n",
    "\n",
    "                if  current_label != prev_label:\n",
    "                    prev_label = current_label\n",
    "                    intraspeakers_shift_index_list.append(index)\n",
    "                    shift_count += 1\n",
    "\n",
    "        last_index_in_previous_dialogue = df_dialogue.index[-1]+1\n",
    "        count_intraspeakers_shift_list.append(shift_count)\n",
    "    return (sorted(intraspeakers_shift_index_list), count_intraspeakers_shift_list)\n",
    "\n",
    "def get_inter_specific_label_shift(df):\n",
    "    interspeakers_shift_index_list = []\n",
    "    count_interspeakers_shift_list = []\n",
    "    last_index_in_previous_dialogue = 0\n",
    "    dialogue_id_list = list((df['dialogue_id'].unique()))\n",
    "    for dialogue in dialogue_id_list:\n",
    "        df_dialogue = df[(df.dialogue_id ==dialogue)]\n",
    "        shift_count = 0\n",
    "        first_index = True\n",
    "        for index in df_dialogue.index:\n",
    "            current_label = df_dialogue.iloc[index-last_index_in_previous_dialogue].label\n",
    "            if first_index:\n",
    "                prev_label = current_label\n",
    "                first_index = False\n",
    "                continue\n",
    "            if  current_label != prev_label:\n",
    "                prev_label = current_label\n",
    "                interspeakers_shift_index_list.append(index)\n",
    "                shift_count += 1\n",
    "\n",
    "        last_index_in_previous_dialogue = df_dialogue.index[-1]+1\n",
    "        count_interspeakers_shift_list.append(shift_count)\n",
    "    return (sorted(interspeakers_shift_index_list), count_interspeakers_shift_list)\n",
    "\n",
    "def get_intra_specific_sentiment_shift(df):\n",
    "    number_of_speakers_in_dialogue= []\n",
    "    intraspeakers_shift_index_list = []\n",
    "    count_intraspeakers_shift_list = []\n",
    "    dialogue_id_list = list((df['dialogue_id'].unique()))\n",
    "    for dialogue in dialogue_id_list:\n",
    "        df_dialogue = df[(df.dialogue_id ==dialogue)]\n",
    "        speakers_in_dialogue = (list(set(df_dialogue.speaker)))\n",
    "        shift_count = 0\n",
    "        for speaker in speakers_in_dialogue:\n",
    "            indexs_to_check = df_dialogue[(df_dialogue.speaker ==speaker)].index\n",
    "            first_index = True\n",
    "            for index in indexs_to_check:\n",
    "                current_sentiment = sentiment_labels_true[index]\n",
    "\n",
    "                if first_index:\n",
    "                    prev_sentiment = current_sentiment\n",
    "                    first_index = False\n",
    "                    continue\n",
    "\n",
    "                if  current_sentiment != prev_sentiment:\n",
    "                    prev_sentiment = current_sentiment\n",
    "                    intraspeakers_shift_index_list.append(index)\n",
    "                    shift_count += 1\n",
    "\n",
    "        count_intraspeakers_shift_list.append(shift_count)\n",
    "    return (sorted(intraspeakers_shift_index_list), count_intraspeakers_shift_list)\n",
    "\n",
    "def get_inter_specific_sentiment_shift(df):\n",
    "    interspeakers_shift_index_list = []\n",
    "    count_interspeakers_shift_list = []\n",
    "    dialogue_id_list = list((df['dialogue_id'].unique()))\n",
    "    for dialogue in dialogue_id_list:\n",
    "        df_dialogue = df[(df.dialogue_id ==dialogue)]\n",
    "        shift_count = 0\n",
    "        first_index = True\n",
    "        for index in df_dialogue.index:\n",
    "            current_sentiment = sentiment_labels_true[index]\n",
    "            if first_index:\n",
    "                prev_sentiment = current_sentiment\n",
    "                first_index = False\n",
    "                continue\n",
    "            if  current_sentiment != prev_sentiment:\n",
    "                prev_sentiment = current_sentiment\n",
    "                interspeakers_shift_index_list.append(index)\n",
    "                shift_count += 1\n",
    "\n",
    "\n",
    "        count_interspeakers_shift_list.append(shift_count)\n",
    "    return (sorted(interspeakers_shift_index_list), count_interspeakers_shift_list)\n",
    "\n",
    "def cal_macro_recall(y_pred, y_true,focus_emo):\n",
    "    TP = np.zeros([len(emo_dict.keys())], dtype=np.int64) # recall\n",
    "    TP_FN = np.zeros([len(emo_dict.keys())], dtype=np.int64) # gold\n",
    "    emo_predidx = y_pred\n",
    "    emo_true = y_true\n",
    "\n",
    "    for lb in range(len(emo_true)):\n",
    "        idx = emo_true[lb]\n",
    "        TP_FN[idx] += 1\n",
    "        if idx in model.focus_emo:\n",
    "            if emo_true[lb] == emo_predidx[lb]:\n",
    "                TP[idx] += 1\n",
    "\n",
    "    tp = TP[focus_emo]\n",
    "    tp_fn = TP_FN[focus_emo]\n",
    "    Recall = [np.round(tp/tp_fn*100, 2) if tp_fn>0 else 0 for tp,tp_fn in zip(tp,tp_fn)]\n",
    "    score = np.round(sum(Recall) / len(Recall), 2)\n",
    "    return score, Recall\n",
    "\n"
   ]
  },
  {
   "cell_type": "code",
   "execution_count": 72,
   "id": "a12b1585",
   "metadata": {},
   "outputs": [
    {
     "name": "stdout",
     "output_type": "stream",
     "text": [
      "Intraspeakers Label Shift: Max = 16 Avg. 8.0\n"
     ]
    }
   ],
   "source": [
    "intraspeakers_shift_index_list, count_intraspeakers_shift_list  = get_intra_specific_label_shift(df_test)\n",
    "print('Intraspeakers Label Shift: Max = {} Avg. {}'.format(max(count_intraspeakers_shift_list), sum(count_intraspeakers_shift_list)/len(count_intraspeakers_shift_list)))"
   ]
  },
  {
   "cell_type": "code",
   "execution_count": 73,
   "id": "355dbee7",
   "metadata": {},
   "outputs": [
    {
     "name": "stdout",
     "output_type": "stream",
     "text": [
      "IntraSpeaker Label Shift Macro_F1 26.95 Micro_F1 26.91\n"
     ]
    }
   ],
   "source": [
    "y_pred = [model.y_pred[i] for i in intraspeakers_shift_index_list]\n",
    "y_true = [model.y_true[i] for i in intraspeakers_shift_index_list]\n",
    "(macroF1, microF1) = calc_f1_score_1(y_pred, y_true,model.emo_dict, model.focus_emo)\n",
    "print('IntraSpeaker Label Shift Macro_F1 {:2.2f} Micro_F1 {:2.2f}'.format(macroF1, microF1))"
   ]
  },
  {
   "cell_type": "code",
   "execution_count": 74,
   "id": "f349595c",
   "metadata": {},
   "outputs": [
    {
     "name": "stdout",
     "output_type": "stream",
     "text": [
      "Interspeakers Label Shift: Max = 22 Avg. 10.647058823529411\n"
     ]
    }
   ],
   "source": [
    "interspeakers_shift_index_list, count_interspeakers_shift_list  = get_inter_specific_label_shift(df_test)\n",
    "print('Interspeakers Label Shift: Max = {} Avg. {}'.format(max(count_interspeakers_shift_list), sum(count_interspeakers_shift_list)/len(count_interspeakers_shift_list)))"
   ]
  },
  {
   "cell_type": "code",
   "execution_count": 75,
   "id": "f89fa227",
   "metadata": {},
   "outputs": [
    {
     "name": "stdout",
     "output_type": "stream",
     "text": [
      "Interspeakers Label Shift Macro_F1 28.48 Micro_F1 28.95\n"
     ]
    }
   ],
   "source": [
    "y_pred = [model.y_pred[i] for i in interspeakers_shift_index_list]\n",
    "y_true = [model.y_true[i] for i in interspeakers_shift_index_list]\n",
    "(macroF1, microF1) = calc_f1_score_1(y_pred, y_true,model.emo_dict, model.focus_emo)\n",
    "print('Interspeakers Label Shift Macro_F1 {:2.2f} Micro_F1 {:2.2f}'.format(macroF1, microF1))"
   ]
  },
  {
   "cell_type": "markdown",
   "id": "3ed13a89",
   "metadata": {},
   "source": [
    "# Sentiment Shift\n",
    "We further analyze the results for sentiment shift in intra- and inter-speaker level. For the emotion classification tasks, we\n",
    "group the different emotion labels into three broad categories: i) positive sentiment group with emotions excited, happy, surprise, ii) negative sentiment group with emotions angry, disgust, fear, frustrated, sad, and iii) neutral sentiment group\n",
    "with emotion neutral. We look at the following two different kind of sentiment shifts that could happen in the course of a dialogue\n",
    " - Intra-Speaker Sentiment Shift : The sentiment of the utterance is different from the sentiment of the previous utterance from the same speaker\n",
    " - Inter-Speaker Shift: The sentiment of the utterance is different from the sentiment of the previous utterance from the non-target speaker"
   ]
  },
  {
   "cell_type": "code",
   "execution_count": 76,
   "id": "5bd8e00e",
   "metadata": {},
   "outputs": [],
   "source": [
    "sentiment_labels_true = [sentiment_dict[label] for label in df_test['label'].values]"
   ]
  },
  {
   "cell_type": "code",
   "execution_count": 77,
   "id": "7f97c88a",
   "metadata": {},
   "outputs": [
    {
     "name": "stdout",
     "output_type": "stream",
     "text": [
      "Intraspeakers Sentiment Shift: Max = 13 Avg. 5.988235294117647\n"
     ]
    }
   ],
   "source": [
    "intraspeakers_shift_index_list, count_intraspeakers_shift_list  = get_intra_specific_sentiment_shift(df_test)\n",
    "print('Intraspeakers Sentiment Shift: Max = {} Avg. {}'.format(max(count_intraspeakers_shift_list), sum(count_intraspeakers_shift_list)/len(count_intraspeakers_shift_list)))"
   ]
  },
  {
   "cell_type": "code",
   "execution_count": 78,
   "id": "e01b085b",
   "metadata": {},
   "outputs": [
    {
     "name": "stdout",
     "output_type": "stream",
     "text": [
      "IntraSpeaker Label Shift Macro_F1 28.10 Micro_F1 28.29\n"
     ]
    }
   ],
   "source": [
    "y_pred = [model.y_pred[i] for i in intraspeakers_shift_index_list]\n",
    "y_true = [model.y_true[i] for i in intraspeakers_shift_index_list]\n",
    "(macroF1, microF1) = calc_f1_score_1(y_pred, y_true,model.emo_dict, model.focus_emo)\n",
    "print('IntraSpeaker Label Shift Macro_F1 {:2.2f} Micro_F1 {:2.2f}'.format(macroF1, microF1))"
   ]
  },
  {
   "cell_type": "code",
   "execution_count": 79,
   "id": "161e663c",
   "metadata": {},
   "outputs": [
    {
     "name": "stdout",
     "output_type": "stream",
     "text": [
      "Interspeakers Sentiment Shift: Max = 17 Avg. 7.870588235294117\n"
     ]
    }
   ],
   "source": [
    "interspeakers_shift_index_list, count_interspeakers_shift_list  = get_inter_specific_sentiment_shift(df_test)\n",
    "print('Interspeakers Sentiment Shift: Max = {} Avg. {}'.format(max(count_interspeakers_shift_list), sum(count_interspeakers_shift_list)/len(count_interspeakers_shift_list)))"
   ]
  },
  {
   "cell_type": "code",
   "execution_count": 80,
   "id": "3c30de92",
   "metadata": {},
   "outputs": [
    {
     "name": "stdout",
     "output_type": "stream",
     "text": [
      "Interspeakers Sentiment Shift Macro_F1 27.79 Micro_F1 29.45\n"
     ]
    }
   ],
   "source": [
    "y_pred = [model.y_pred[i] for i in interspeakers_shift_index_list]\n",
    "y_true = [model.y_true[i] for i in interspeakers_shift_index_list]\n",
    "(macroF1, microF1) = calc_f1_score_1(y_pred, y_true,model.emo_dict, model.focus_emo)\n",
    "print('Interspeakers Sentiment Shift Macro_F1 {:2.2f} Micro_F1 {:2.2f}'.format(macroF1, microF1))"
   ]
  },
  {
   "cell_type": "markdown",
   "id": "1341e705",
   "metadata": {},
   "source": [
    "# Performance for n-gram Label Patterns\n",
    "We perform a detailed study to understand whether n-gram label patterns that are frequently encountered by the learning algorithm during training, are more likely to be predicted correctly during evaluation"
   ]
  },
  {
   "cell_type": "code",
   "execution_count": 81,
   "id": "ec2203e3",
   "metadata": {},
   "outputs": [],
   "source": [
    "def get_label_list (df):\n",
    "    label_list= []\n",
    "    dummy_ele = ['dummy']\n",
    "    dialogue_id_list = list((df['dialogue_id'].unique()))\n",
    "    for dialogue in dialogue_id_list:\n",
    "        df_dialogue = df[(df.dialogue_id ==dialogue)]\n",
    "        label_list.extend(df_dialogue.label)\n",
    "        label_list.extend(dummy_ele)\n",
    "    return label_list\n",
    "\n",
    "def get_ngram_label_shift(ngram_list, df):\n",
    "    ngram_index_list = []\n",
    "    count_ngram_label_list = []\n",
    "    last_index_in_previous_dialogue = 0\n",
    "    dialogue_id_list = list((df['dialogue_id'].unique()))\n",
    "    for dialogue in dialogue_id_list:\n",
    "        df_dialogue = df[(df.dialogue_id ==dialogue)]\n",
    "        shift_count = 0\n",
    "        first_index = True\n",
    "        for index in df_dialogue.index:\n",
    "            if (index + len(ngram_list) -1) > list(df_dialogue.index)[-1]:\n",
    "                break\n",
    "           \n",
    "            if(list(df_dialogue.iloc[index-last_index_in_previous_dialogue : index-last_index_in_previous_dialogue + len(ngram_list)].label)) == ngram_list :\n",
    "                ngram_index_list.extend(list(range(index,index + len(ngram_list))))\n",
    "                shift_count += 1\n",
    "\n",
    "        last_index_in_previous_dialogue = df_dialogue.index[-1]+1\n",
    "        count_ngram_label_list.append(shift_count)\n",
    "    return sorted(list(set(ngram_index_list))), sum(count_ngram_label_list)\n",
    "\n",
    "def get_training_ngram_list(df_train, df_val, ngram_length_list):\n",
    "    train_label_list  = get_label_list (df_train)\n",
    "    train_label_list.extend(get_label_list(df_val))\n",
    "    train_ngram_list = []\n",
    "    for n in ngram_length_list:\n",
    "        ngram_dict = {}\n",
    "        bagofWords = nltk.ngrams(train_label_list,n)\n",
    "        train_fdist = nltk.FreqDist(bagofWords)\n",
    "        for k, v in train_fdist.items():\n",
    "            if(set(k).issubset(set(model.focus_dict)))and (v > 2):\n",
    "                ngram_dict[k] = [v,np.round((v/sum(train_fdist.values())*100), 2)]\n",
    "        train_ngram_dict_sorted = {k:v for k,v in sorted(ngram_dict.items(), key=lambda item:item[1][1], reverse=True)}\n",
    "        train_ngram_list.append(train_ngram_dict_sorted)\n",
    "    \n",
    "    return train_ngram_list\n",
    "\n",
    "def get_test_ngram_list (df_test,train_ngram_list, ngram_length_list):\n",
    "    test_ngram_list = []\n",
    "    test_label_list = get_label_list (df_test)\n",
    "    for i in range (len(ngram_length_list)):\n",
    "        n = ngram_length_list[i]\n",
    "        test_ngram_dict =  {}\n",
    "        test_bag_of_words= nltk.ngrams(test_label_list,n)\n",
    "        test_fdist = nltk.FreqDist(test_bag_of_words)\n",
    "        for k, v in test_fdist.items():\n",
    "            if (v < 2):\n",
    "                continue\n",
    "            if(set(k).issubset(set(model.focus_dict))) and (set(list((k, k))).issubset(set(list(train_ngram_list[i].keys())))):\n",
    "                test_ngram_dict[k] = [v,np.round((v/sum(test_fdist.values())*100), 2)]\n",
    "       \n",
    "        test_ngram_dict_sorted = {k:v for k,v in sorted(test_ngram_dict.items(), key=lambda item:item[1][1], reverse=True)}\n",
    "        test_ngram_list.append(test_ngram_dict_sorted)\n",
    "    return test_ngram_list\n",
    "    \n",
    "def create_test_score_dataframe(train_ngram_list, test_ngram_list, df_test, ngram_length_list):\n",
    "    column_list = list(('occurence_in_train', 'test_score'))\n",
    "    df_list = []\n",
    "    for i in range (len(ngram_length_list)):\n",
    "        df_list.append(pd.DataFrame(columns = column_list))\n",
    "        for k1,v1 in test_ngram_list[i].items():\n",
    "            ngram_index, count  = get_ngram_label_shift(list(k1) , df_test)\n",
    "            assert(count == v1[0])\n",
    "            y_pred = [model.y_pred[i] for i in ngram_index]\n",
    "            y_true = [model.y_true[i] for i in ngram_index]\n",
    "            score, Recall = cal_macro_recall(y_pred, y_true, [model.emo_dict[k2] for k2 in list(set(k1))])\n",
    "            occurence_score = train_ngram_list[i][k1][1]\n",
    "            new_row = {'occurence_in_train':occurence_score, 'test_score':score}\n",
    "            df_list[i] = df_list[i].append(new_row, ignore_index=True)\n",
    "    return df_list\n",
    "  "
   ]
  },
  {
   "cell_type": "code",
   "execution_count": 86,
   "id": "35c4e674",
   "metadata": {},
   "outputs": [
    {
     "data": {
      "text/plain": [
       "<matplotlib.legend.Legend at 0x179efc43a60>"
      ]
     },
     "execution_count": 86,
     "metadata": {},
     "output_type": "execute_result"
    },
    {
     "data": {
      "image/png": "[encoded data removed]",
      "text/plain": [
       "<Figure size 864x576 with 1 Axes>"
      ]
     },
     "metadata": {},
     "output_type": "display_data"
    }
   ],
   "source": [
    "ngram_length_list = [2, 3, 4]\n",
    "train_ngram_list = get_training_ngram_list(model.df_train, model.df_val,ngram_length_list )\n",
    "test_ngram_list = get_test_ngram_list(model.df_test,train_ngram_list, ngram_length_list )\n",
    "df_list = create_test_score_dataframe(train_ngram_list, test_ngram_list, model.df_test, ngram_length_list)\n",
    "plot1 = plt.scatter(df_list[0]['occurence_in_train'], df_list[0]['test_score'], color = 'b')\n",
    "plot2 = plt.scatter(df_list[1]['occurence_in_train'], df_list[1]['test_score'], color = 'r')\n",
    "plot3 = plt.scatter(df_list[2]['occurence_in_train'], df_list[2]['test_score'], color = 'g')\n",
    "plt.xlim ((0, max (df_list[0]['occurence_in_train']+1)))\n",
    "plt.legend((plot1, plot2, plot3),\n",
    "           ('2-gram_pattern', '3-gram_pattern', '5-gram_pattern'),\n",
    "           loc='upper right')"
   ]
  },
  {
   "cell_type": "markdown",
   "id": "eccb2a6d",
   "metadata": {},
   "source": [
    "# Context Shuffling\n",
    "To understand the importance of context, we try to classify the correct label after shuffling the utterances with in a dialogue. For example, a dialogue having utterance sequence of {u1;u2;u3;u4} is shuffled to {u4;u1;u3;u2}. This shuffling is carried out randomly, resulting in an utterance sequence whose order is different from the original sequence. We implement 3 shuffling strategies\n",
    "\n",
    "- dialogues in train and validation sets are shuffled, dialogues in test set are kept unchanged\n",
    "- dialogues in train and validation sets are unchanged, dialogues in test set are shuffled\n",
    "- dialogues in train and validation and test set are shuffled. \n",
    "\n",
    "We found that, whenever there is some shuffling in train, validation, or test set, the performance decreases a few points. The performance drop is highest when the dialogues in train and validation sets are kept unchanged and dialogues in test set are shuffled"
   ]
  },
  {
   "cell_type": "code",
   "execution_count": 17,
   "id": "1f2888c0",
   "metadata": {},
   "outputs": [],
   "source": [
    "def shuffle_dataframe(df):\n",
    "    dialogue_id_list = list((df['dialogue_id'].unique()))\n",
    "    df_shuffled =  pd.DataFrame(columns = list(df.columns))\n",
    "    for dialogue in dialogue_id_list:\n",
    "        df_dialogue = df[(df.dialogue_id ==dialogue)].copy(deep = True)\n",
    "        df_dialogue = df_dialogue.sample(frac=1)\n",
    "        df_shuffled = df_shuffled.append(df_dialogue)\n",
    "    df_shuffled =df_shuffled.reset_index(drop=True)\n",
    "    return df_shuffled\n",
    "\n",
    "def shuffling_performance(emo_dict, focus_dict, args, df_train, df_val, df_test):\n",
    "    model_shuffle = EmotionModel(emo_dict, focus_dict, args, df_train, df_val, df_test, verbosity = 0)\n",
    "    model_shuffle = model_shuffle.cuda(args.device)\n",
    "    trainer_shuffle = train_model(model_shuffle)\n",
    "    F1_score  = test_model(trainer_shuffle, model_shuffle)\n",
    "    print(F1_score)"
   ]
  },
  {
   "cell_type": "code",
   "execution_count": 18,
   "id": "666fe186",
   "metadata": {},
   "outputs": [],
   "source": [
    "model.args.epoch = 2\n",
    "df_train_shuffled = shuffle_dataframe(df_train)\n",
    "df_val_shuffled = shuffle_dataframe(df_val)\n",
    "df_test_shuffled = shuffle_dataframe(df_test)"
   ]
  },
  {
   "cell_type": "code",
   "execution_count": 25,
   "id": "d6dc5ef8",
   "metadata": {},
   "outputs": [
    {
     "name": "stdout",
     "output_type": "stream",
     "text": [
      "Speaker Embedding is Enabled\n",
      "Max number of speakers in a dialgue = 263\n",
      "loss weights = tensor([0.0517, 0.2339, 0.1459, 0.0719, 0.1744, 0.2002, 0.1221],\n",
      "       device='cuda:0')\n",
      "class weights = tensor([0.3054, 0.0675, 0.1083, 0.2199, 0.0906, 0.0789, 0.1294],\n",
      "       device='cuda:0')\n",
      "In function DistilBertForSequenceClassification\n"
     ]
    },
    {
     "name": "stderr",
     "output_type": "stream",
     "text": [
      "GPU available: True, used: True\n",
      "TPU available: False, using: 0 TPU cores\n",
      "LOCAL_RANK: 0 - CUDA_VISIBLE_DEVICES: [0]\n",
      "\n",
      "  | Name                     | Type                     | Params\n",
      "----------------------------------------------------------------------\n",
      "0 | sentence_embeds_model    | sentence_embeds_model    | 66.4 M\n",
      "1 | context_classifier_model | context_classifier_model | 76.7 M\n",
      "----------------------------------------------------------------------\n",
      "143 M     Trainable params\n",
      "0         Non-trainable params\n",
      "143 M     Total params\n",
      "572.114   Total estimated model params size (MB)\n"
     ]
    },
    {
     "name": "stdout",
     "output_type": "stream",
     "text": [
      "num_layers = 6\n"
     ]
    },
    {
     "data": {
      "application/vnd.jupyter.widget-view+json": {
       "model_id": "",
       "version_major": 2,
       "version_minor": 0
      },
      "text/plain": [
       "HBox(children=(HTML(value='Validation sanity check'), FloatProgress(value=1.0, bar_style='info', layout=Layout…"
      ]
     },
     "metadata": {},
     "output_type": "display_data"
    },
    {
     "name": "stdout",
     "output_type": "stream",
     "text": [
      "using distill-uncased tokenizer\n"
     ]
    },
    {
     "name": "stderr",
     "output_type": "stream",
     "text": [
      "C:\\Users\\neera\\anaconda3\\envs\\NLP3\\lib\\site-packages\\pytorch_lightning\\utilities\\distributed.py:69: UserWarning: The dataloader, val dataloader 0, does not have many workers which may be a bottleneck. Consider increasing the value of the `num_workers` argument` (try 8 which is the number of cpus on this machine) in the `DataLoader` init to improve performance.\n",
      "  warnings.warn(*args, **kwargs)\n",
      "Global seed set to 42\n"
     ]
    },
    {
     "name": "stdout",
     "output_type": "stream",
     "text": [
      "using distill-uncased tokenizer\n"
     ]
    },
    {
     "name": "stderr",
     "output_type": "stream",
     "text": [
      "C:\\Users\\neera\\anaconda3\\envs\\NLP3\\lib\\site-packages\\pytorch_lightning\\utilities\\distributed.py:69: UserWarning: The dataloader, train dataloader, does not have many workers which may be a bottleneck. Consider increasing the value of the `num_workers` argument` (try 8 which is the number of cpus on this machine) in the `DataLoader` init to improve performance.\n",
      "  warnings.warn(*args, **kwargs)\n"
     ]
    },
    {
     "data": {
      "application/vnd.jupyter.widget-view+json": {
       "model_id": "2e7781b06690445d9728468e395477d3",
       "version_major": 2,
       "version_minor": 0
      },
      "text/plain": [
       "HBox(children=(HTML(value='Training'), FloatProgress(value=1.0, bar_style='info', layout=Layout(flex='2'), max…"
      ]
     },
     "metadata": {},
     "output_type": "display_data"
    },
    {
     "data": {
      "application/vnd.jupyter.widget-view+json": {
       "model_id": "",
       "version_major": 2,
       "version_minor": 0
      },
      "text/plain": [
       "HBox(children=(HTML(value='Validating'), FloatProgress(value=1.0, bar_style='info', layout=Layout(flex='2'), m…"
      ]
     },
     "metadata": {},
     "output_type": "display_data"
    },
    {
     "name": "stderr",
     "output_type": "stream",
     "text": [
      "Metric valid_loss improved. New best score: 0.206\n"
     ]
    },
    {
     "data": {
      "application/vnd.jupyter.widget-view+json": {
       "model_id": "",
       "version_major": 2,
       "version_minor": 0
      },
      "text/plain": [
       "HBox(children=(HTML(value='Validating'), FloatProgress(value=1.0, bar_style='info', layout=Layout(flex='2'), m…"
      ]
     },
     "metadata": {},
     "output_type": "display_data"
    },
    {
     "name": "stderr",
     "output_type": "stream",
     "text": [
      "Metric valid_loss improved by 0.005 >= min_delta = 0.0005. New best score: 0.200\n"
     ]
    },
    {
     "name": "stdout",
     "output_type": "stream",
     "text": [
      "\n",
      "In Test Model\n"
     ]
    },
    {
     "name": "stderr",
     "output_type": "stream",
     "text": [
      "LOCAL_RANK: 0 - CUDA_VISIBLE_DEVICES: [0]\n"
     ]
    },
    {
     "name": "stdout",
     "output_type": "stream",
     "text": [
      "using distill-uncased tokenizer\n"
     ]
    },
    {
     "name": "stderr",
     "output_type": "stream",
     "text": [
      "C:\\Users\\neera\\anaconda3\\envs\\NLP3\\lib\\site-packages\\pytorch_lightning\\utilities\\distributed.py:69: UserWarning: The dataloader, test dataloader 0, does not have many workers which may be a bottleneck. Consider increasing the value of the `num_workers` argument` (try 8 which is the number of cpus on this machine) in the `DataLoader` init to improve performance.\n",
      "  warnings.warn(*args, **kwargs)\n"
     ]
    },
    {
     "data": {
      "application/vnd.jupyter.widget-view+json": {
       "model_id": "ad900a1414cb408ba96b733b1ed1216e",
       "version_major": 2,
       "version_minor": 0
      },
      "text/plain": [
       "HBox(children=(HTML(value='Testing'), FloatProgress(value=1.0, bar_style='info', layout=Layout(flex='2'), max=…"
      ]
     },
     "metadata": {},
     "output_type": "display_data"
    },
    {
     "name": "stdout",
     "output_type": "stream",
     "text": [
      "\n",
      "[{'valid_loss': 0.21317096054553986, 'valid_ac_unweighted': 30.92, 'macroF1': 29.46, 'microF1': 31.4, 'microF1_per_class': {'0': 46.47, '1': 26.38, '2': 30.47, '3': 40.66, '4': 8.18, '5': 8.74, '6': 26.28}}]\n"
     ]
    }
   ],
   "source": [
    "shuffling_performance(model.emo_dict, model.focus_dict, model.args, df_train_shuffled, df_val_shuffled, df_test )"
   ]
  },
  {
   "cell_type": "markdown",
   "id": "e659324d",
   "metadata": {},
   "source": [
    "## Scenario 2\n",
    "- dialogues in train and validation sets are shuffled, dialogues in test set are kept unchanged"
   ]
  },
  {
   "cell_type": "code",
   "execution_count": 19,
   "id": "7c32edb8",
   "metadata": {},
   "outputs": [
    {
     "name": "stdout",
     "output_type": "stream",
     "text": [
      "Speaker Embedding is Enabled\n",
      "Max number of speakers in a dialgue = 263\n",
      "loss weights = tensor([0.0517, 0.2339, 0.1459, 0.0719, 0.1744, 0.2002, 0.1221],\n",
      "       device='cuda:0')\n",
      "class weights = tensor([0.3054, 0.0675, 0.1083, 0.2199, 0.0906, 0.0789, 0.1294],\n",
      "       device='cuda:0')\n",
      "In function DistilBertForSequenceClassification\n"
     ]
    },
    {
     "name": "stderr",
     "output_type": "stream",
     "text": [
      "GPU available: True, used: True\n",
      "TPU available: False, using: 0 TPU cores\n",
      "LOCAL_RANK: 0 - CUDA_VISIBLE_DEVICES: [0]\n",
      "\n",
      "  | Name                     | Type                     | Params\n",
      "----------------------------------------------------------------------\n",
      "0 | sentence_embeds_model    | sentence_embeds_model    | 66.4 M\n",
      "1 | context_classifier_model | context_classifier_model | 76.7 M\n",
      "----------------------------------------------------------------------\n",
      "143 M     Trainable params\n",
      "0         Non-trainable params\n",
      "143 M     Total params\n",
      "572.114   Total estimated model params size (MB)\n"
     ]
    },
    {
     "data": {
      "application/vnd.jupyter.widget-view+json": {
       "model_id": "",
       "version_major": 2,
       "version_minor": 0
      },
      "text/plain": [
       "HBox(children=(HTML(value='Validation sanity check'), FloatProgress(value=1.0, bar_style='info', layout=Layout…"
      ]
     },
     "metadata": {},
     "output_type": "display_data"
    },
    {
     "name": "stdout",
     "output_type": "stream",
     "text": [
      "using distill-uncased tokenizer\n"
     ]
    },
    {
     "name": "stderr",
     "output_type": "stream",
     "text": [
      "C:\\Users\\neera\\anaconda3\\envs\\NLP3\\lib\\site-packages\\pytorch_lightning\\utilities\\distributed.py:69: UserWarning: The dataloader, val dataloader 0, does not have many workers which may be a bottleneck. Consider increasing the value of the `num_workers` argument` (try 8 which is the number of cpus on this machine) in the `DataLoader` init to improve performance.\n",
      "  warnings.warn(*args, **kwargs)\n",
      "Global seed set to 42\n"
     ]
    },
    {
     "name": "stdout",
     "output_type": "stream",
     "text": [
      "using distill-uncased tokenizer\n"
     ]
    },
    {
     "name": "stderr",
     "output_type": "stream",
     "text": [
      "C:\\Users\\neera\\anaconda3\\envs\\NLP3\\lib\\site-packages\\pytorch_lightning\\utilities\\distributed.py:69: UserWarning: The dataloader, train dataloader, does not have many workers which may be a bottleneck. Consider increasing the value of the `num_workers` argument` (try 8 which is the number of cpus on this machine) in the `DataLoader` init to improve performance.\n",
      "  warnings.warn(*args, **kwargs)\n"
     ]
    },
    {
     "data": {
      "application/vnd.jupyter.widget-view+json": {
       "model_id": "d4bf78e3a1fa47bd80c659bb287d591f",
       "version_major": 2,
       "version_minor": 0
      },
      "text/plain": [
       "HBox(children=(HTML(value='Training'), FloatProgress(value=1.0, bar_style='info', layout=Layout(flex='2'), max…"
      ]
     },
     "metadata": {},
     "output_type": "display_data"
    },
    {
     "data": {
      "application/vnd.jupyter.widget-view+json": {
       "model_id": "",
       "version_major": 2,
       "version_minor": 0
      },
      "text/plain": [
       "HBox(children=(HTML(value='Validating'), FloatProgress(value=1.0, bar_style='info', layout=Layout(flex='2'), m…"
      ]
     },
     "metadata": {},
     "output_type": "display_data"
    },
    {
     "name": "stderr",
     "output_type": "stream",
     "text": [
      "Metric valid_loss improved. New best score: 0.206\n"
     ]
    },
    {
     "data": {
      "application/vnd.jupyter.widget-view+json": {
       "model_id": "",
       "version_major": 2,
       "version_minor": 0
      },
      "text/plain": [
       "HBox(children=(HTML(value='Validating'), FloatProgress(value=1.0, bar_style='info', layout=Layout(flex='2'), m…"
      ]
     },
     "metadata": {},
     "output_type": "display_data"
    },
    {
     "name": "stderr",
     "output_type": "stream",
     "text": [
      "Metric valid_loss improved by 0.009 >= min_delta = 0.0005. New best score: 0.198\n"
     ]
    },
    {
     "name": "stdout",
     "output_type": "stream",
     "text": [
      "\n",
      "In Test Model\n"
     ]
    },
    {
     "name": "stderr",
     "output_type": "stream",
     "text": [
      "LOCAL_RANK: 0 - CUDA_VISIBLE_DEVICES: [0]\n"
     ]
    },
    {
     "name": "stdout",
     "output_type": "stream",
     "text": [
      "using distill-uncased tokenizer\n"
     ]
    },
    {
     "name": "stderr",
     "output_type": "stream",
     "text": [
      "C:\\Users\\neera\\anaconda3\\envs\\NLP3\\lib\\site-packages\\pytorch_lightning\\utilities\\distributed.py:69: UserWarning: The dataloader, test dataloader 0, does not have many workers which may be a bottleneck. Consider increasing the value of the `num_workers` argument` (try 8 which is the number of cpus on this machine) in the `DataLoader` init to improve performance.\n",
      "  warnings.warn(*args, **kwargs)\n"
     ]
    },
    {
     "data": {
      "application/vnd.jupyter.widget-view+json": {
       "model_id": "b354dddc785f4e9db34b2fabbae57ed7",
       "version_major": 2,
       "version_minor": 0
      },
      "text/plain": [
       "HBox(children=(HTML(value='Testing'), FloatProgress(value=1.0, bar_style='info', layout=Layout(flex='2'), max=…"
      ]
     },
     "metadata": {},
     "output_type": "display_data"
    },
    {
     "name": "stdout",
     "output_type": "stream",
     "text": [
      "\n",
      "[{'valid_loss': 0.21673737466335297, 'valid_ac_unweighted': 31.12, 'macroF1': 29.61, 'microF1': 33.66, 'microF1_per_class': {'0': 50.12, '1': 25.07, '2': 32.26, '3': 41.13, '4': 15.14, '5': 1.21, '6': 23.94}}]\n"
     ]
    }
   ],
   "source": [
    "shuffling_performance(model.emo_dict, model.focus_dict, model.args, df_train, df_val, df_test_shuffled )"
   ]
  },
  {
   "cell_type": "markdown",
   "id": "318af29f",
   "metadata": {},
   "source": [
    "## Scenario 3\n",
    "- dialogues in train and validation and test set are shuffled. "
   ]
  },
  {
   "cell_type": "code",
   "execution_count": 20,
   "id": "eb8fd285",
   "metadata": {},
   "outputs": [
    {
     "name": "stdout",
     "output_type": "stream",
     "text": [
      "Speaker Embedding is Enabled\n",
      "Max number of speakers in a dialgue = 263\n",
      "loss weights = tensor([0.0517, 0.2339, 0.1459, 0.0719, 0.1744, 0.2002, 0.1221],\n",
      "       device='cuda:0')\n",
      "class weights = tensor([0.3054, 0.0675, 0.1083, 0.2199, 0.0906, 0.0789, 0.1294],\n",
      "       device='cuda:0')\n",
      "In function DistilBertForSequenceClassification\n"
     ]
    },
    {
     "name": "stderr",
     "output_type": "stream",
     "text": [
      "GPU available: True, used: True\n",
      "TPU available: False, using: 0 TPU cores\n",
      "LOCAL_RANK: 0 - CUDA_VISIBLE_DEVICES: [0]\n",
      "\n",
      "  | Name                     | Type                     | Params\n",
      "----------------------------------------------------------------------\n",
      "0 | sentence_embeds_model    | sentence_embeds_model    | 66.4 M\n",
      "1 | context_classifier_model | context_classifier_model | 76.7 M\n",
      "----------------------------------------------------------------------\n",
      "143 M     Trainable params\n",
      "0         Non-trainable params\n",
      "143 M     Total params\n",
      "572.114   Total estimated model params size (MB)\n"
     ]
    },
    {
     "data": {
      "application/vnd.jupyter.widget-view+json": {
       "model_id": "",
       "version_major": 2,
       "version_minor": 0
      },
      "text/plain": [
       "HBox(children=(HTML(value='Validation sanity check'), FloatProgress(value=1.0, bar_style='info', layout=Layout…"
      ]
     },
     "metadata": {},
     "output_type": "display_data"
    },
    {
     "name": "stdout",
     "output_type": "stream",
     "text": [
      "using distill-uncased tokenizer\n"
     ]
    },
    {
     "name": "stderr",
     "output_type": "stream",
     "text": [
      "C:\\Users\\neera\\anaconda3\\envs\\NLP3\\lib\\site-packages\\pytorch_lightning\\utilities\\distributed.py:69: UserWarning: The dataloader, val dataloader 0, does not have many workers which may be a bottleneck. Consider increasing the value of the `num_workers` argument` (try 8 which is the number of cpus on this machine) in the `DataLoader` init to improve performance.\n",
      "  warnings.warn(*args, **kwargs)\n",
      "Global seed set to 42\n"
     ]
    },
    {
     "name": "stdout",
     "output_type": "stream",
     "text": [
      "using distill-uncased tokenizer\n"
     ]
    },
    {
     "name": "stderr",
     "output_type": "stream",
     "text": [
      "C:\\Users\\neera\\anaconda3\\envs\\NLP3\\lib\\site-packages\\pytorch_lightning\\utilities\\distributed.py:69: UserWarning: The dataloader, train dataloader, does not have many workers which may be a bottleneck. Consider increasing the value of the `num_workers` argument` (try 8 which is the number of cpus on this machine) in the `DataLoader` init to improve performance.\n",
      "  warnings.warn(*args, **kwargs)\n"
     ]
    },
    {
     "data": {
      "application/vnd.jupyter.widget-view+json": {
       "model_id": "1d055c00449640d7856b1ce76a52b4b3",
       "version_major": 2,
       "version_minor": 0
      },
      "text/plain": [
       "HBox(children=(HTML(value='Training'), FloatProgress(value=1.0, bar_style='info', layout=Layout(flex='2'), max…"
      ]
     },
     "metadata": {},
     "output_type": "display_data"
    },
    {
     "data": {
      "application/vnd.jupyter.widget-view+json": {
       "model_id": "",
       "version_major": 2,
       "version_minor": 0
      },
      "text/plain": [
       "HBox(children=(HTML(value='Validating'), FloatProgress(value=1.0, bar_style='info', layout=Layout(flex='2'), m…"
      ]
     },
     "metadata": {},
     "output_type": "display_data"
    },
    {
     "name": "stderr",
     "output_type": "stream",
     "text": [
      "Metric valid_loss improved. New best score: 0.206\n"
     ]
    },
    {
     "data": {
      "application/vnd.jupyter.widget-view+json": {
       "model_id": "",
       "version_major": 2,
       "version_minor": 0
      },
      "text/plain": [
       "HBox(children=(HTML(value='Validating'), FloatProgress(value=1.0, bar_style='info', layout=Layout(flex='2'), m…"
      ]
     },
     "metadata": {},
     "output_type": "display_data"
    },
    {
     "name": "stderr",
     "output_type": "stream",
     "text": [
      "Metric valid_loss improved by 0.005 >= min_delta = 0.0005. New best score: 0.200\n"
     ]
    },
    {
     "name": "stdout",
     "output_type": "stream",
     "text": [
      "\n",
      "In Test Model\n"
     ]
    },
    {
     "name": "stderr",
     "output_type": "stream",
     "text": [
      "LOCAL_RANK: 0 - CUDA_VISIBLE_DEVICES: [0]\n"
     ]
    },
    {
     "name": "stdout",
     "output_type": "stream",
     "text": [
      "using distill-uncased tokenizer\n"
     ]
    },
    {
     "name": "stderr",
     "output_type": "stream",
     "text": [
      "C:\\Users\\neera\\anaconda3\\envs\\NLP3\\lib\\site-packages\\pytorch_lightning\\utilities\\distributed.py:69: UserWarning: The dataloader, test dataloader 0, does not have many workers which may be a bottleneck. Consider increasing the value of the `num_workers` argument` (try 8 which is the number of cpus on this machine) in the `DataLoader` init to improve performance.\n",
      "  warnings.warn(*args, **kwargs)\n"
     ]
    },
    {
     "data": {
      "application/vnd.jupyter.widget-view+json": {
       "model_id": "94aacd6d42424d4f8596261b4d9692d5",
       "version_major": 2,
       "version_minor": 0
      },
      "text/plain": [
       "HBox(children=(HTML(value='Testing'), FloatProgress(value=1.0, bar_style='info', layout=Layout(flex='2'), max=…"
      ]
     },
     "metadata": {},
     "output_type": "display_data"
    },
    {
     "name": "stdout",
     "output_type": "stream",
     "text": [
      "\n",
      "[{'valid_loss': 0.2127939611673355, 'valid_ac_unweighted': 32.14, 'macroF1': 31.02, 'microF1': 32.98, 'microF1_per_class': {'0': 47.68, '1': 26.66, '2': 31.34, '3': 41.4, '4': 7.41, '5': 13.99, '6': 29.83}}]\n"
     ]
    }
   ],
   "source": [
    "shuffling_performance(model.emo_dict, model.focus_dict, model.args, df_train_shuffled, df_val_shuffled, df_test_shuffled )"
   ]
  },
  {
   "cell_type": "markdown",
   "id": "2589f6bc",
   "metadata": {},
   "source": [
    "# Speaker-specific Context Control\n",
    "To understand the importance of context, we tried following startigies. \n",
    "- Treat each conversation as individual sentence without considering the context. \n",
    "- Limit the context to maximum of 5 utterances per conversation\n",
    "- when classifying a target utterance from speaker A, we drop the utterances of the speaker B from the context and vice versa.\n",
    "\n"
   ]
  },
  {
   "cell_type": "code",
   "execution_count": 18,
   "id": "57d30b8f",
   "metadata": {},
   "outputs": [
    {
     "name": "stdout",
     "output_type": "stream",
     "text": [
      "using distill-uncased tokenizer\n"
     ]
    }
   ],
   "source": [
    "model.context_classifier_model.context_experiment_flag= True\n",
    "df_shuffled = df_test.copy(deep = True)\n",
    "df_shuffled['dialogue_id'] = df_shuffled.index\n",
    "dataset = CustomDataset( df_shuffled, model.max_number_of_speakers_in_dialogue, model.emo_dict, model.encoder, model.args)"
   ]
  },
  {
   "cell_type": "markdown",
   "id": "4ea9c7d5",
   "metadata": {},
   "source": [
    "## Scenario 1\n",
    "- Treat each conversation as individual sentence without considering the context."
   ]
  },
  {
   "cell_type": "code",
   "execution_count": 19,
   "id": "2b7e8b3a",
   "metadata": {},
   "outputs": [
    {
     "name": "stderr",
     "output_type": "stream",
     "text": [
      "LOCAL_RANK: 0 - CUDA_VISIBLE_DEVICES: [0]\n",
      "C:\\Users\\neera\\anaconda3\\envs\\NLP3\\lib\\site-packages\\pytorch_lightning\\utilities\\distributed.py:69: UserWarning: The dataloader, test dataloader 0, does not have many workers which may be a bottleneck. Consider increasing the value of the `num_workers` argument` (try 8 which is the number of cpus on this machine) in the `DataLoader` init to improve performance.\n",
      "  warnings.warn(*args, **kwargs)\n"
     ]
    },
    {
     "data": {
      "application/vnd.jupyter.widget-view+json": {
       "model_id": "91ff19ddf8004242a34e37bf4ec849e4",
       "version_major": 2,
       "version_minor": 0
      },
      "text/plain": [
       "HBox(children=(HTML(value='Testing'), FloatProgress(value=1.0, bar_style='info', layout=Layout(flex='2'), max=…"
      ]
     },
     "metadata": {},
     "output_type": "display_data"
    },
    {
     "name": "stdout",
     "output_type": "stream",
     "text": [
      "('val_loss', tensor(0.2246, device='cuda:0'))\n",
      "('preds', array([364, 280, 203, 275,   2,  16, 188], dtype=int64))\n",
      "('labels', array([349,  98, 113, 282, 159, 145, 182], dtype=int64))\n",
      "('tp', array([176,  50,  51, 127,   0,   0,  57], dtype=int64))\n",
      "('fp', array([188, 230, 152, 148,   2,  16, 131], dtype=int64))\n",
      "('fn', array([173,  48,  62, 155, 159, 145, 125], dtype=int64))\n",
      "('acc_per_class', [50.43, 51.02, 45.13, 45.04, 0.0, 0.0, 31.32])\n",
      "('acc_unweighted', 31.85)\n",
      "('acc_weighted', tensor(37.6900, device='cuda:0'))\n",
      "('microRecall', 34.71)\n",
      "('macroRecall', 31.85)\n",
      "('microPrecision', 34.71)\n",
      "('macroPrecision', 23.98)\n",
      "('microF1_score', 34.71)\n",
      "('macroF1_score', 27.36)\n",
      "('macroF1_per_class', [49.37, 26.46, 32.28, 45.6, 0.0, 0.0, 30.81])\n",
      "\n",
      "--------------------------------------------------------------------------------\n",
      "DATALOADER:0 TEST RESULTS\n",
      "{'macroF1': 27.36,\n",
      " 'microF1': 34.71,\n",
      " 'microF1_per_class': {'0': 49.37,\n",
      "                       '1': 26.46,\n",
      "                       '2': 32.28,\n",
      "                       '3': 45.6,\n",
      "                       '4': 0.0,\n",
      "                       '5': 0.0,\n",
      "                       '6': 30.81},\n",
      " 'valid_ac_unweighted': 31.85,\n",
      " 'valid_loss': 0.2246309220790863}\n",
      "--------------------------------------------------------------------------------\n"
     ]
    },
    {
     "data": {
      "text/plain": [
       "[{'valid_loss': 0.2246309220790863,\n",
       "  'valid_ac_unweighted': 31.85,\n",
       "  'macroF1': 27.36,\n",
       "  'microF1': 34.71,\n",
       "  'microF1_per_class': {'0': 49.37,\n",
       "   '1': 26.46,\n",
       "   '2': 32.28,\n",
       "   '3': 45.6,\n",
       "   '4': 0.0,\n",
       "   '5': 0.0,\n",
       "   '6': 30.81}}]"
      ]
     },
     "execution_count": 19,
     "metadata": {},
     "output_type": "execute_result"
    }
   ],
   "source": [
    "test_loader = DataLoader(dataset, 1, shuffle=False, num_workers=0)\n",
    "trainer.test(test_dataloaders =  test_loader)"
   ]
  },
  {
   "cell_type": "markdown",
   "id": "fd214926",
   "metadata": {},
   "source": [
    "## Scenario 2\n",
    "- Limit the context to maximum of 5 utterances per conversation"
   ]
  },
  {
   "cell_type": "code",
   "execution_count": 20,
   "id": "babff90c",
   "metadata": {},
   "outputs": [
    {
     "name": "stderr",
     "output_type": "stream",
     "text": [
      "LOCAL_RANK: 0 - CUDA_VISIBLE_DEVICES: [0]\n",
      "C:\\Users\\neera\\anaconda3\\envs\\NLP3\\lib\\site-packages\\pytorch_lightning\\utilities\\distributed.py:69: UserWarning: The dataloader, test dataloader 0, does not have many workers which may be a bottleneck. Consider increasing the value of the `num_workers` argument` (try 8 which is the number of cpus on this machine) in the `DataLoader` init to improve performance.\n",
      "  warnings.warn(*args, **kwargs)\n"
     ]
    },
    {
     "data": {
      "application/vnd.jupyter.widget-view+json": {
       "model_id": "f3d9efbb73a04e81b57752686b394c6a",
       "version_major": 2,
       "version_minor": 0
      },
      "text/plain": [
       "HBox(children=(HTML(value='Testing'), FloatProgress(value=1.0, bar_style='info', layout=Layout(flex='2'), max=…"
      ]
     },
     "metadata": {},
     "output_type": "display_data"
    },
    {
     "name": "stdout",
     "output_type": "stream",
     "text": [
      "('val_loss', tensor(0.2170, device='cuda:0'))\n",
      "('preds', array([354, 267, 227, 245,  40,  48, 147], dtype=int64))\n",
      "('labels', array([349,  98, 113, 282, 159, 145, 182], dtype=int64))\n",
      "('tp', array([173,  48,  51, 118,   6,   2,  46], dtype=int64))\n",
      "('fp', array([181, 219, 176, 127,  34,  46, 101], dtype=int64))\n",
      "('fn', array([176,  50,  62, 164, 153, 143, 136], dtype=int64))\n",
      "('acc_per_class', [49.57, 48.98, 45.13, 41.84, 3.77, 1.38, 25.27])\n",
      "('acc_unweighted', 30.85)\n",
      "('acc_weighted', tensor(36.2500, device='cuda:0'))\n",
      "('microRecall', 33.43)\n",
      "('macroRecall', 30.85)\n",
      "('microPrecision', 33.43)\n",
      "('macroPrecision', 26.85)\n",
      "('microF1_score', 33.43)\n",
      "('macroF1_score', 28.71)\n",
      "('macroF1_per_class', [49.22, 26.3, 30.0, 44.78, 6.03, 2.07, 27.96])\n",
      "\n",
      "--------------------------------------------------------------------------------\n",
      "DATALOADER:0 TEST RESULTS\n",
      "{'macroF1': 28.71,\n",
      " 'microF1': 33.43,\n",
      " 'microF1_per_class': {'0': 49.22,\n",
      "                       '1': 26.3,\n",
      "                       '2': 30.0,\n",
      "                       '3': 44.78,\n",
      "                       '4': 6.03,\n",
      "                       '5': 2.07,\n",
      "                       '6': 27.96},\n",
      " 'valid_ac_unweighted': 30.85,\n",
      " 'valid_loss': 0.21702119708061218}\n",
      "--------------------------------------------------------------------------------\n"
     ]
    },
    {
     "data": {
      "text/plain": [
       "[{'valid_loss': 0.21702119708061218,\n",
       "  'valid_ac_unweighted': 30.85,\n",
       "  'macroF1': 28.71,\n",
       "  'microF1': 33.43,\n",
       "  'microF1_per_class': {'0': 49.22,\n",
       "   '1': 26.3,\n",
       "   '2': 30.0,\n",
       "   '3': 44.78,\n",
       "   '4': 6.03,\n",
       "   '5': 2.07,\n",
       "   '6': 27.96}}]"
      ]
     },
     "execution_count": 20,
     "metadata": {},
     "output_type": "execute_result"
    }
   ],
   "source": [
    "test_loader = DataLoader(dataset, 5, shuffle=False, num_workers=0)\n",
    "trainer.test(test_dataloaders =  test_loader)"
   ]
  },
  {
   "cell_type": "markdown",
   "id": "8c81fa08",
   "metadata": {},
   "source": [
    "## Scenario 3\n",
    "- Treat each conversation as individual sentence without considering the context."
   ]
  },
  {
   "cell_type": "code",
   "execution_count": 21,
   "id": "6c4a12ac",
   "metadata": {},
   "outputs": [],
   "source": [
    "speaker_list = df_test['speaker'].value_counts()[:6].index.tolist()\n"
   ]
  },
  {
   "cell_type": "code",
   "execution_count": 22,
   "id": "c01efafa",
   "metadata": {},
   "outputs": [],
   "source": [
    "df_without_interspeaker_context = {}\n",
    "\n",
    "for speaker in speaker_list:\n",
    "    df_without_interspeaker_context[speaker] = df_test[(df_test.speaker == speaker)].reset_index(drop=True)\n",
    "    dialogue_id_list = list((df_without_interspeaker_context[speaker]['dialogue_id'].unique()))\n",
    "    i = 0\n",
    "    for dialogue in dialogue_id_list:\n",
    "        df_without_interspeaker_context[speaker].loc[df_without_interspeaker_context[speaker].dialogue_id== dialogue, 'dialogue_id'] = i \n",
    "        i = i+1"
   ]
  },
  {
   "cell_type": "code",
   "execution_count": 23,
   "id": "2ccaf38f",
   "metadata": {},
   "outputs": [
    {
     "name": "stdout",
     "output_type": "stream",
     "text": [
      "using distill-uncased tokenizer\n"
     ]
    },
    {
     "name": "stderr",
     "output_type": "stream",
     "text": [
      "LOCAL_RANK: 0 - CUDA_VISIBLE_DEVICES: [0]\n",
      "C:\\Users\\neera\\anaconda3\\envs\\NLP3\\lib\\site-packages\\pytorch_lightning\\utilities\\distributed.py:69: UserWarning: The dataloader, test dataloader 0, does not have many workers which may be a bottleneck. Consider increasing the value of the `num_workers` argument` (try 8 which is the number of cpus on this machine) in the `DataLoader` init to improve performance.\n",
      "  warnings.warn(*args, **kwargs)\n"
     ]
    },
    {
     "data": {
      "application/vnd.jupyter.widget-view+json": {
       "model_id": "ad20ef8f0c59439eb9ef2e000e63378b",
       "version_major": 2,
       "version_minor": 0
      },
      "text/plain": [
       "HBox(children=(HTML(value='Testing'), FloatProgress(value=1.0, bar_style='info', layout=Layout(flex='2'), max=…"
      ]
     },
     "metadata": {},
     "output_type": "display_data"
    },
    {
     "name": "stdout",
     "output_type": "stream",
     "text": [
      "('val_loss', tensor(0.2107, device='cuda:0'))\n",
      "('preds', array([59, 28, 31, 46,  5, 12, 33], dtype=int64))\n",
      "('labels', array([59, 22, 17, 44, 27, 20, 25], dtype=int64))\n",
      "('tp', array([29,  9,  6, 17,  0,  0,  9], dtype=int64))\n",
      "('fp', array([30, 19, 25, 29,  5, 12, 24], dtype=int64))\n",
      "('fn', array([30, 13, 11, 27, 27, 20, 16], dtype=int64))\n",
      "('acc_per_class', [49.15, 40.91, 35.29, 38.64, 0.0, 0.0, 36.0])\n",
      "('acc_unweighted', 28.57)\n",
      "('acc_weighted', tensor(34.7500, device='cuda:0'))\n",
      "('microRecall', 32.71)\n",
      "('macroRecall', 28.57)\n",
      "('microPrecision', 32.71)\n",
      "('macroPrecision', 23.55)\n",
      "('microF1_score', 32.71)\n",
      "('macroF1_score', 25.82)\n",
      "('macroF1_per_class', [49.15, 36.0, 24.99, 37.78, 0.0, 0.0, 31.03])\n",
      "\n",
      "--------------------------------------------------------------------------------\n",
      "DATALOADER:0 TEST RESULTS\n",
      "{'macroF1': 25.82,\n",
      " 'microF1': 32.71,\n",
      " 'microF1_per_class': {'0': 49.15,\n",
      "                       '1': 36.0,\n",
      "                       '2': 24.99,\n",
      "                       '3': 37.78,\n",
      "                       '4': 0.0,\n",
      "                       '5': 0.0,\n",
      "                       '6': 31.03},\n",
      " 'valid_ac_unweighted': 28.57,\n",
      " 'valid_loss': 0.21068309247493744}\n",
      "--------------------------------------------------------------------------------\n",
      "Micro/Macro F1 Score for Speaker Monica Geller is 25.82 32.71\n",
      "using distill-uncased tokenizer\n"
     ]
    },
    {
     "name": "stderr",
     "output_type": "stream",
     "text": [
      "LOCAL_RANK: 0 - CUDA_VISIBLE_DEVICES: [0]\n",
      "C:\\Users\\neera\\anaconda3\\envs\\NLP3\\lib\\site-packages\\pytorch_lightning\\utilities\\distributed.py:69: UserWarning: The dataloader, test dataloader 0, does not have many workers which may be a bottleneck. Consider increasing the value of the `num_workers` argument` (try 8 which is the number of cpus on this machine) in the `DataLoader` init to improve performance.\n",
      "  warnings.warn(*args, **kwargs)\n"
     ]
    },
    {
     "data": {
      "application/vnd.jupyter.widget-view+json": {
       "model_id": "8d137b5329754a27af0075ea8d06d2cc",
       "version_major": 2,
       "version_minor": 0
      },
      "text/plain": [
       "HBox(children=(HTML(value='Testing'), FloatProgress(value=1.0, bar_style='info', layout=Layout(flex='2'), max=…"
      ]
     },
     "metadata": {},
     "output_type": "display_data"
    },
    {
     "name": "stdout",
     "output_type": "stream",
     "text": [
      "('val_loss', tensor(0.2390, device='cuda:0'))\n",
      "('preds', array([43, 38, 49, 29,  7,  7, 17], dtype=int64))\n",
      "('labels', array([37, 12, 29, 30, 33, 21, 28], dtype=int64))\n",
      "('tp', array([18,  5, 15, 10,  0,  0,  5], dtype=int64))\n",
      "('fp', array([25, 33, 34, 19,  7,  7, 12], dtype=int64))\n",
      "('fn', array([19,  7, 14, 20, 33, 21, 23], dtype=int64))\n",
      "('acc_per_class', [48.65, 41.67, 51.72, 33.33, 0.0, 0.0, 17.86])\n",
      "('acc_unweighted', 27.6)\n",
      "('acc_weighted', tensor(32.9100, device='cuda:0'))\n",
      "('microRecall', 27.89)\n",
      "('macroRecall', 27.6)\n",
      "('microPrecision', 27.89)\n",
      "('macroPrecision', 21.36)\n",
      "('microF1_score', 27.89)\n",
      "('macroF1_score', 24.08)\n",
      "('macroF1_per_class', [45.0, 20.0, 38.46, 33.9, 0.0, 0.0, 22.22])\n",
      "\n",
      "--------------------------------------------------------------------------------\n",
      "DATALOADER:0 TEST RESULTS\n",
      "{'macroF1': 24.08,\n",
      " 'microF1': 27.89,\n",
      " 'microF1_per_class': {'0': 45.0,\n",
      "                       '1': 20.0,\n",
      "                       '2': 38.46,\n",
      "                       '3': 33.9,\n",
      "                       '4': 0.0,\n",
      "                       '5': 0.0,\n",
      "                       '6': 22.22},\n",
      " 'valid_ac_unweighted': 27.6,\n",
      " 'valid_loss': 0.23902897536754608}\n",
      "--------------------------------------------------------------------------------\n",
      "Micro/Macro F1 Score for Speaker Chandler Bing is 24.08 27.89\n",
      "using distill-uncased tokenizer\n"
     ]
    },
    {
     "name": "stderr",
     "output_type": "stream",
     "text": [
      "LOCAL_RANK: 0 - CUDA_VISIBLE_DEVICES: [0]\n",
      "C:\\Users\\neera\\anaconda3\\envs\\NLP3\\lib\\site-packages\\pytorch_lightning\\utilities\\distributed.py:69: UserWarning: The dataloader, test dataloader 0, does not have many workers which may be a bottleneck. Consider increasing the value of the `num_workers` argument` (try 8 which is the number of cpus on this machine) in the `DataLoader` init to improve performance.\n",
      "  warnings.warn(*args, **kwargs)\n"
     ]
    },
    {
     "data": {
      "application/vnd.jupyter.widget-view+json": {
       "model_id": "3999d1515092437eb27530dce5b8a14e",
       "version_major": 2,
       "version_minor": 0
      },
      "text/plain": [
       "HBox(children=(HTML(value='Testing'), FloatProgress(value=1.0, bar_style='info', layout=Layout(flex='2'), max=…"
      ]
     },
     "metadata": {},
     "output_type": "display_data"
    },
    {
     "name": "stdout",
     "output_type": "stream",
     "text": [
      "('val_loss', tensor(0.2358, device='cuda:0'))\n",
      "('preds', array([36, 36, 35, 37,  9,  7, 16], dtype=int64))\n",
      "('labels', array([49, 14,  7, 50, 12, 23, 21], dtype=int64))\n",
      "('tp', array([22,  6,  4, 20,  0,  0,  3], dtype=int64))\n",
      "('fp', array([14, 30, 31, 17,  9,  7, 13], dtype=int64))\n",
      "('fn', array([27,  8,  3, 30, 12, 23, 18], dtype=int64))\n",
      "('acc_per_class', [44.9, 42.86, 57.14, 40.0, 0.0, 0.0, 14.29])\n",
      "('acc_unweighted', 28.46)\n",
      "('acc_weighted', tensor(33.4400, device='cuda:0'))\n",
      "('microRecall', 31.25)\n",
      "('macroRecall', 28.46)\n",
      "('microPrecision', 31.25)\n",
      "('macroPrecision', 23.14)\n",
      "('microF1_score', 31.25)\n",
      "('macroF1_score', 25.53)\n",
      "('macroF1_per_class', [51.77, 24.0, 19.05, 45.98, 0.0, 0.0, 16.22])\n",
      "\n",
      "--------------------------------------------------------------------------------\n",
      "DATALOADER:0 TEST RESULTS\n",
      "{'macroF1': 25.53,\n",
      " 'microF1': 31.25,\n",
      " 'microF1_per_class': {'0': 51.77,\n",
      "                       '1': 24.0,\n",
      "                       '2': 19.05,\n",
      "                       '3': 45.98,\n",
      "                       '4': 0.0,\n",
      "                       '5': 0.0,\n",
      "                       '6': 16.22},\n",
      " 'valid_ac_unweighted': 28.46,\n",
      " 'valid_loss': 0.23579134047031403}\n",
      "--------------------------------------------------------------------------------\n",
      "Micro/Macro F1 Score for Speaker Phoebe Buffay is 25.53 31.25\n",
      "using distill-uncased tokenizer\n"
     ]
    },
    {
     "name": "stderr",
     "output_type": "stream",
     "text": [
      "LOCAL_RANK: 0 - CUDA_VISIBLE_DEVICES: [0]\n",
      "C:\\Users\\neera\\anaconda3\\envs\\NLP3\\lib\\site-packages\\pytorch_lightning\\utilities\\distributed.py:69: UserWarning: The dataloader, test dataloader 0, does not have many workers which may be a bottleneck. Consider increasing the value of the `num_workers` argument` (try 8 which is the number of cpus on this machine) in the `DataLoader` init to improve performance.\n",
      "  warnings.warn(*args, **kwargs)\n"
     ]
    },
    {
     "data": {
      "application/vnd.jupyter.widget-view+json": {
       "model_id": "446b80445eb94a6aba4716b9625c4bfe",
       "version_major": 2,
       "version_minor": 0
      },
      "text/plain": [
       "HBox(children=(HTML(value='Testing'), FloatProgress(value=1.0, bar_style='info', layout=Layout(flex='2'), max=…"
      ]
     },
     "metadata": {},
     "output_type": "display_data"
    },
    {
     "name": "stdout",
     "output_type": "stream",
     "text": [
      "('val_loss', tensor(0.2068, device='cuda:0'))\n",
      "('preds', array([45, 26, 39, 20,  7, 10, 12], dtype=int64))\n",
      "('labels', array([50, 10, 13, 33, 17, 16, 20], dtype=int64))\n",
      "('tp', array([22,  3, 10,  8,  3,  1,  4], dtype=int64))\n",
      "('fp', array([23, 23, 29, 12,  4,  9,  8], dtype=int64))\n",
      "('fn', array([28,  7,  3, 25, 14, 15, 16], dtype=int64))\n",
      "('acc_per_class', [44.0, 30.0, 76.92, 24.24, 17.65, 6.25, 20.0])\n",
      "('acc_unweighted', 31.29)\n",
      "('acc_weighted', tensor(33.8000, device='cuda:0'))\n",
      "('microRecall', 32.08)\n",
      "('macroRecall', 31.29)\n",
      "('microPrecision', 32.08)\n",
      "('macroPrecision', 30.32)\n",
      "('microF1_score', 32.08)\n",
      "('macroF1_score', 30.8)\n",
      "('macroF1_per_class', [46.32, 16.67, 38.46, 30.19, 25.0, 7.69, 25.0])\n",
      "\n",
      "--------------------------------------------------------------------------------\n",
      "DATALOADER:0 TEST RESULTS\n",
      "{'macroF1': 30.8,\n",
      " 'microF1': 32.08,\n",
      " 'microF1_per_class': {'0': 46.32,\n",
      "                       '1': 16.67,\n",
      "                       '2': 38.46,\n",
      "                       '3': 30.19,\n",
      "                       '4': 25.0,\n",
      "                       '5': 7.69,\n",
      "                       '6': 25.0},\n",
      " 'valid_ac_unweighted': 31.29,\n",
      " 'valid_loss': 0.20681695640087128}\n",
      "--------------------------------------------------------------------------------\n",
      "Micro/Macro F1 Score for Speaker Joey Tribbiani is 30.8 32.08\n",
      "using distill-uncased tokenizer\n"
     ]
    },
    {
     "name": "stderr",
     "output_type": "stream",
     "text": [
      "LOCAL_RANK: 0 - CUDA_VISIBLE_DEVICES: [0]\n",
      "C:\\Users\\neera\\anaconda3\\envs\\NLP3\\lib\\site-packages\\pytorch_lightning\\utilities\\distributed.py:69: UserWarning: The dataloader, test dataloader 0, does not have many workers which may be a bottleneck. Consider increasing the value of the `num_workers` argument` (try 8 which is the number of cpus on this machine) in the `DataLoader` init to improve performance.\n",
      "  warnings.warn(*args, **kwargs)\n"
     ]
    },
    {
     "data": {
      "application/vnd.jupyter.widget-view+json": {
       "model_id": "e194b4d57cf14bd4937fcf5ea4309ae4",
       "version_major": 2,
       "version_minor": 0
      },
      "text/plain": [
       "HBox(children=(HTML(value='Testing'), FloatProgress(value=1.0, bar_style='info', layout=Layout(flex='2'), max=…"
      ]
     },
     "metadata": {},
     "output_type": "display_data"
    },
    {
     "name": "stdout",
     "output_type": "stream",
     "text": [
      "('val_loss', tensor(0.2075, device='cuda:0'))\n",
      "('preds', array([32, 26, 35, 29,  9,  3, 19], dtype=int64))\n",
      "('labels', array([34,  7, 26, 38, 17, 13, 18], dtype=int64))\n",
      "('tp', array([13,  3, 15, 16,  2,  0,  8], dtype=int64))\n",
      "('fp', array([19, 23, 20, 13,  7,  3, 11], dtype=int64))\n",
      "('fn', array([21,  4, 11, 22, 15, 13, 10], dtype=int64))\n",
      "('acc_per_class', [38.24, 42.86, 57.69, 42.11, 11.76, 0.0, 44.44])\n",
      "('acc_unweighted', 33.87)\n",
      "('acc_weighted', tensor(36.8900, device='cuda:0'))\n",
      "('microRecall', 37.25)\n",
      "('macroRecall', 33.87)\n",
      "('microPrecision', 37.25)\n",
      "('macroPrecision', 30.65)\n",
      "('microF1_score', 37.25)\n",
      "('macroF1_score', 32.18)\n",
      "('macroF1_per_class', [39.39, 18.18, 49.18, 47.76, 15.38, 0.0, 43.24])\n",
      "\n",
      "--------------------------------------------------------------------------------\n",
      "DATALOADER:0 TEST RESULTS\n",
      "{'macroF1': 32.18,\n",
      " 'microF1': 37.25,\n",
      " 'microF1_per_class': {'0': 39.39,\n",
      "                       '1': 18.18,\n",
      "                       '2': 49.18,\n",
      "                       '3': 47.76,\n",
      "                       '4': 15.38,\n",
      "                       '5': 0.0,\n",
      "                       '6': 43.24},\n",
      " 'valid_ac_unweighted': 33.87,\n",
      " 'valid_loss': 0.20754583179950714}\n",
      "--------------------------------------------------------------------------------\n",
      "Micro/Macro F1 Score for Speaker Rachel Green is 32.18 37.25\n",
      "using distill-uncased tokenizer\n"
     ]
    },
    {
     "name": "stderr",
     "output_type": "stream",
     "text": [
      "LOCAL_RANK: 0 - CUDA_VISIBLE_DEVICES: [0]\n",
      "C:\\Users\\neera\\anaconda3\\envs\\NLP3\\lib\\site-packages\\pytorch_lightning\\utilities\\distributed.py:69: UserWarning: The dataloader, test dataloader 0, does not have many workers which may be a bottleneck. Consider increasing the value of the `num_workers` argument` (try 8 which is the number of cpus on this machine) in the `DataLoader` init to improve performance.\n",
      "  warnings.warn(*args, **kwargs)\n"
     ]
    },
    {
     "data": {
      "application/vnd.jupyter.widget-view+json": {
       "model_id": "3a1263cc503b40ffa20c9621a60d4d30",
       "version_major": 2,
       "version_minor": 0
      },
      "text/plain": [
       "HBox(children=(HTML(value='Testing'), FloatProgress(value=1.0, bar_style='info', layout=Layout(flex='2'), max=…"
      ]
     },
     "metadata": {},
     "output_type": "display_data"
    },
    {
     "name": "stdout",
     "output_type": "stream",
     "text": [
      "('val_loss', tensor(0.2067, device='cuda:0'))\n",
      "('preds', array([47, 31, 24, 19,  4,  5, 16], dtype=int64))\n",
      "('labels', array([38, 12,  6, 22, 22, 13, 33], dtype=int64))\n",
      "('tp', array([25,  6,  3,  9,  1,  0,  9], dtype=int64))\n",
      "('fp', array([22, 25, 21, 10,  3,  5,  7], dtype=int64))\n",
      "('fn', array([13,  6,  3, 13, 21, 13, 24], dtype=int64))\n",
      "('acc_per_class', [65.79, 50.0, 50.0, 40.91, 4.55, 0.0, 27.27])\n",
      "('acc_unweighted', 34.07)\n",
      "('acc_weighted', tensor(41.8200, device='cuda:0'))\n",
      "('microRecall', 36.3)\n",
      "('macroRecall', 34.07)\n",
      "('microPrecision', 36.3)\n",
      "('macroPrecision', 30.52)\n",
      "('microF1_score', 36.3)\n",
      "('macroF1_score', 32.2)\n",
      "('macroF1_per_class', [58.82, 27.9, 20.0, 43.9, 7.7, 0.0, 36.73])\n",
      "\n",
      "--------------------------------------------------------------------------------\n",
      "DATALOADER:0 TEST RESULTS\n",
      "{'macroF1': 32.2,\n",
      " 'microF1': 36.3,\n",
      " 'microF1_per_class': {'0': 58.82,\n",
      "                       '1': 27.9,\n",
      "                       '2': 20.0,\n",
      "                       '3': 43.9,\n",
      "                       '4': 7.7,\n",
      "                       '5': 0.0,\n",
      "                       '6': 36.73},\n",
      " 'valid_ac_unweighted': 34.07,\n",
      " 'valid_loss': 0.20671446621418}\n",
      "--------------------------------------------------------------------------------\n",
      "Micro/Macro F1 Score for Speaker Ross Geller is 32.2 36.3\n",
      "Macro F1 Score without Intraspeaker Context 28.435000000000002\n",
      "Micro F1 Score without Intraspeaker Context 32.913333333333334\n"
     ]
    }
   ],
   "source": [
    "avg_f1_score_macro = 0\n",
    "avg_f1_score_micro = 0\n",
    "model.context_classifier_model.context_experiment_flag= False\n",
    "for speaker in speaker_list:\n",
    "    dataset = CustomDataset( df_without_interspeaker_context[speaker], model.max_number_of_speakers_in_dialogue, model.emo_dict, model.encoder, model.args)\n",
    "    test_loader = DataLoader(dataset, model.args.batch_size, shuffle=False, num_workers=0)\n",
    "    score = trainer.test(test_dataloaders =  test_loader)\n",
    "    print('Micro/Macro F1 Score for Speaker {} is {} {}'.format(speaker, score[0]['macroF1'],  score[0]['microF1'] ))\n",
    "    avg_f1_score_macro += score[0]['macroF1']\n",
    "    avg_f1_score_micro += score[0]['microF1']\n",
    "\n",
    "print('Macro F1 Score without Intraspeaker Context {}'.format(avg_f1_score_macro/len(speaker_list)))\n",
    "print('Micro F1 Score without Intraspeaker Context {}'.format(avg_f1_score_micro/len(speaker_list)))"
   ]
  },
  {
   "cell_type": "code",
   "execution_count": null,
   "id": "5db9171f",
   "metadata": {},
   "outputs": [],
   "source": []
  }
 ],
 "metadata": {
  "kernelspec": {
   "display_name": "Python 3",
   "language": "python",
   "name": "python3"
  },
  "language_info": {
   "codemirror_mode": {
    "name": "ipython",
    "version": 3
   },
   "file_extension": ".py",
   "mimetype": "text/x-python",
   "name": "python",
   "nbconvert_exporter": "python",
   "pygments_lexer": "ipython3",
   "version": "3.8.5"
  }
 },
 "nbformat": 4,
 "nbformat_minor": 5
}
