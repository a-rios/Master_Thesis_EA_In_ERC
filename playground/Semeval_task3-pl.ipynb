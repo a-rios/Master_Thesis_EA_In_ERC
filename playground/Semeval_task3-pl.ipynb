{
 "cells": [
  {
   "cell_type": "markdown",
   "metadata": {},
   "source": [
    "# Problem Statement\n",
    "\n",
    "\n",
    "\n",
    "\n",
    "\n",
    "ERC is a task that aims at predicting emotion of each utterance in a conversation. The following is an excerpt of a conversation with each utterance tagged with corresponding emotion and sentiment label.\n",
    "\n",
    "![alt text](example.jpg \"Title\")\n"
   ]
  },
  {
   "cell_type": "markdown",
   "metadata": {},
   "source": [
    "# Hierarchical Transformer Network for Utterance-Level Emotion Recognition\n",
    "This is the Pytorch implementation Utterance-level Emotion Recognition [paper](https://arxiv.org/ftp/arxiv/papers/2002/2002.07551.pdf)"
   ]
  },
  {
   "cell_type": "markdown",
   "metadata": {},
   "source": [
    "# Overview\n",
    "\n",
    "Though predicting the emotion of a single utterance or sentence, i.e. emotion detection, is a well discussed subject in natural language understanding literature, EmoContext has several novel challenges. In this paper, we address four challenges in utterance-level emotion recognition in dialogue systems: \n",
    "- Emotion depend on the context of previous utterances in the dialogue \n",
    "- long-range contextual information is hard to be effectively captured; \n",
    "- Datasets are quite small. \n",
    "- the class distribution of training data is significantly different from that of the test data. Consequently, a model trained on the training data might not perform well on the test data.\n",
    "\n",
    "- We propose a hierarchical transformer framework with a lower-level transformer to model the word-level inputs and an upper-level transformer to capture the contexts of utterance-level embeddings. \n"
   ]
  },
  {
   "cell_type": "markdown",
   "metadata": {},
   "source": [
    "# Dataset\n",
    "Dataset includes the training data set consisting of 30160 dialogues, and two evaluation data sets, Test1 and Test2, containing\n",
    "2755 and 5509 dialogues respectively. The Training dataset is a .txt file containing 5 columns :\n",
    "\n",
    " - ID - Contains a unique number to identify each training sample\n",
    " - Turn 1 - Contains the first turn in the three turn conversation, written by User 1\n",
    " - Turn 2 - Contains the second turn, which is a reply to the first turn in conversation and is written by User 2\n",
    " - Turn 3 - Contains the third turn, which is a reply to the second turn in the conversation, which is written by User 1\n",
    " - Label - Contains the human judged label of Emotion of Turn 3 based on the conversation for the given training sample. It is always one of the four values - 'happy', 'sad, 'angry' and 'others'\n",
    " \n",
    "The Dev set and the Test set contains the first 4 columns as mentioned above. The 5th column - 'Label' is absent from those 2 sets. Training data consists of about 5k samples each from 'angry', 'sad', 'happy' class, and 15k samples from 'others' class, whereas, both Dev and Test sets have a real life distribution, which is about 4% each of 'angry', 'sad', 'happy' class and the rest is 'others' class. \n",
    "    \n",
    "    "
   ]
  },
  {
   "cell_type": "code",
   "execution_count": 108,
   "metadata": {},
   "outputs": [],
   "source": [
    "import torch\n",
    "import os\n",
    "import random\n",
    "import pandas as pd\n",
    "import functools\n",
    "import time\n",
    "import math\n",
    "import argparse\n",
    "\n",
    "\n",
    "from torch.utils.data import TensorDataset, DataLoader\n",
    "from torch.utils.data.distributed import DistributedSampler\n",
    "\n",
    "\n",
    "from ipywidgets import interact\n",
    "import numpy as np\n",
    "import seaborn as sns\n",
    "from pylab import rcParams\n",
    "import matplotlib.pyplot as plt\n",
    "from matplotlib import rc\n",
    "\n",
    "from transformers import DistilBertModel, DistilBertForSequenceClassification, DistilBertConfig, DistilBertTokenizer\n",
    "\n",
    "from collections import defaultdict\n",
    "from sklearn.metrics import f1_score\n",
    "import pytorch_lightning as pl\n",
    "from pytorch_lightning import seed_everything"
   ]
  },
  {
   "cell_type": "code",
   "execution_count": 7,
   "metadata": {},
   "outputs": [],
   "source": [
    "device = torch.device(\"cuda:0\" if torch.cuda.is_available() else \"cpu\")"
   ]
  },
  {
   "cell_type": "code",
   "execution_count": 8,
   "metadata": {},
   "outputs": [],
   "source": [
    "sns.set(style='whitegrid', palette='muted', font_scale=1.2)\n",
    "HAPPY_COLORS_PALETTE = [\"#01BEFE\", \"#FFDD00\", \"#FF7D00\", \"#FF006D\", \"#ADFF02\", \"#8F00FF\"]\n",
    "sns.set_palette(sns.color_palette(HAPPY_COLORS_PALETTE))\n",
    "rcParams['figure.figsize'] = 12, 8\n"
   ]
  },
  {
   "cell_type": "code",
   "execution_count": 9,
   "metadata": {},
   "outputs": [],
   "source": [
    "# Timer\n",
    "def timeSince(since):\n",
    "    now = time.time()\n",
    "    s = now - since\n",
    "    m = math.floor(s / 60)\n",
    "    s -= m * 60\n",
    "    return '%dm %ds' % (m, s)"
   ]
  },
  {
   "cell_type": "markdown",
   "metadata": {},
   "source": [
    "# Read Dataset CSV Files"
   ]
  },
  {
   "cell_type": "code",
   "execution_count": 10,
   "metadata": {},
   "outputs": [
    {
     "data": {
      "text/html": [
       "<div>\n",
       "<style scoped>\n",
       "    .dataframe tbody tr th:only-of-type {\n",
       "        vertical-align: middle;\n",
       "    }\n",
       "\n",
       "    .dataframe tbody tr th {\n",
       "        vertical-align: top;\n",
       "    }\n",
       "\n",
       "    .dataframe thead th {\n",
       "        text-align: right;\n",
       "    }\n",
       "</style>\n",
       "<table border=\"1\" class=\"dataframe\">\n",
       "  <thead>\n",
       "    <tr style=\"text-align: right;\">\n",
       "      <th></th>\n",
       "      <th>turn1</th>\n",
       "      <th>turn2</th>\n",
       "      <th>turn3</th>\n",
       "      <th>label</th>\n",
       "    </tr>\n",
       "    <tr>\n",
       "      <th>id</th>\n",
       "      <th></th>\n",
       "      <th></th>\n",
       "      <th></th>\n",
       "      <th></th>\n",
       "    </tr>\n",
       "  </thead>\n",
       "  <tbody>\n",
       "    <tr>\n",
       "      <th>0</th>\n",
       "      <td>do not worry i am girl</td>\n",
       "      <td>hmm how do i know if you are</td>\n",
       "      <td>what ' s ur name ?</td>\n",
       "      <td>others</td>\n",
       "    </tr>\n",
       "    <tr>\n",
       "      <th>1</th>\n",
       "      <td>when did i ?</td>\n",
       "      <td>saw many times i think shame</td>\n",
       "      <td>no . i never saw you</td>\n",
       "      <td>angry</td>\n",
       "    </tr>\n",
       "    <tr>\n",
       "      <th>2</th>\n",
       "      <td>by</td>\n",
       "      <td>by google chrome</td>\n",
       "      <td>where you live</td>\n",
       "      <td>others</td>\n",
       "    </tr>\n",
       "    <tr>\n",
       "      <th>3</th>\n",
       "      <td>u r ridiculous</td>\n",
       "      <td>i might be ridiculous but i am telling the tru...</td>\n",
       "      <td>u little disgusting whore</td>\n",
       "      <td>angry</td>\n",
       "    </tr>\n",
       "    <tr>\n",
       "      <th>4</th>\n",
       "      <td>just for time pass</td>\n",
       "      <td>wt do u do 4 a living then</td>\n",
       "      <td>maybe</td>\n",
       "      <td>others</td>\n",
       "    </tr>\n",
       "  </tbody>\n",
       "</table>\n",
       "</div>"
      ],
      "text/plain": [
       "                     turn1                                              turn2  \\\n",
       "id                                                                              \n",
       "0   do not worry i am girl                       hmm how do i know if you are   \n",
       "1             when did i ?                       saw many times i think shame   \n",
       "2                       by                                   by google chrome   \n",
       "3           u r ridiculous  i might be ridiculous but i am telling the tru...   \n",
       "4       just for time pass                         wt do u do 4 a living then   \n",
       "\n",
       "                        turn3   label  \n",
       "id                                     \n",
       "0          what ' s ur name ?  others  \n",
       "1        no . i never saw you   angry  \n",
       "2              where you live  others  \n",
       "3   u little disgusting whore   angry  \n",
       "4                       maybe  others  "
      ]
     },
     "execution_count": 10,
     "metadata": {},
     "output_type": "execute_result"
    }
   ],
   "source": [
    "path = 'data/clean_train.txt'\n",
    "df_train = pd.read_csv(path, delimiter='\\t', index_col='id')\n",
    "path = 'data/clean_val.txt'\n",
    "df_val = pd.read_csv(path, delimiter='\\t', index_col='id')\n",
    "path = 'data/clean_test.txt'\n",
    "df_test = pd.read_csv(path, delimiter='\\t', index_col='id')\n",
    "df_train.head()"
   ]
  },
  {
   "cell_type": "code",
   "execution_count": 11,
   "metadata": {},
   "outputs": [
    {
     "data": {
      "text/plain": [
       "((30160, 4), (2755, 4), (5509, 4))"
      ]
     },
     "execution_count": 11,
     "metadata": {},
     "output_type": "execute_result"
    }
   ],
   "source": [
    "df_train.shape, df_val.shape, df_test.shape"
   ]
  },
  {
   "cell_type": "code",
   "execution_count": 12,
   "metadata": {},
   "outputs": [
    {
     "name": "stdout",
     "output_type": "stream",
     "text": [
      "<class 'pandas.core.frame.DataFrame'>\n",
      "Int64Index: 30160 entries, 0 to 30159\n",
      "Data columns (total 4 columns):\n",
      " #   Column  Non-Null Count  Dtype \n",
      "---  ------  --------------  ----- \n",
      " 0   turn1   30160 non-null  object\n",
      " 1   turn2   30160 non-null  object\n",
      " 2   turn3   30160 non-null  object\n",
      " 3   label   30160 non-null  object\n",
      "dtypes: object(4)\n",
      "memory usage: 1.2+ MB\n"
     ]
    }
   ],
   "source": [
    "df_train.info()"
   ]
  },
  {
   "cell_type": "code",
   "execution_count": 20,
   "metadata": {
    "scrolled": true
   },
   "outputs": [
    {
     "data": {
      "text/plain": [
       "others    14948\n",
       "angry      5506\n",
       "sad        5463\n",
       "happy      4243\n",
       "Name: label, dtype: int64"
      ]
     },
     "execution_count": 20,
     "metadata": {},
     "output_type": "execute_result"
    }
   ],
   "source": [
    "df_train['label'].value_counts()"
   ]
  },
  {
   "cell_type": "markdown",
   "metadata": {},
   "source": [
    "#  Comparison of class distribution in Training vs Evaluation data sets\n",
    "\n",
    "| Emotion | Happy | Sad | Angry | others | # |\n",
    "| :-: | :-: | :-: | :-: | :-: | :-: |\n",
    "| Train | 4243 | 5463 |5506 | 14948| 30160|\n",
    "| Dev | 142 | 125 |150 | 2338| 2755|\n",
    "| Test | 284 | 250 |298 | 4677| 5509|"
   ]
  },
  {
   "cell_type": "code",
   "execution_count": 22,
   "metadata": {},
   "outputs": [],
   "source": [
    "data = [df_train['label'], df_val['label'], df_test['label']]\n",
    "columns=list(('Training', 'Validation', 'Test'))\n",
    "df_labels = pd.concat(data, axis=1, keys=columns)"
   ]
  },
  {
   "cell_type": "code",
   "execution_count": 23,
   "metadata": {},
   "outputs": [
    {
     "name": "stderr",
     "output_type": "stream",
     "text": [
      "<ipython-input-23-cc3f761f0e4e>:7: UserWarning: Matplotlib is currently using module://ipykernel.pylab.backend_inline, which is a non-GUI backend, so cannot show the figure.\n",
      "  fig.show()\n"
     ]
    },
    {
     "data": {
      "image/png": "[encoded data removed]",
      "text/plain": [
       "<Figure size 864x576 with 3 Axes>"
      ]
     },
     "metadata": {},
     "output_type": "display_data"
    }
   ],
   "source": [
    "fig, ax =plt.subplots(1,3)\n",
    "\n",
    "fig.tight_layout()\n",
    "sns.countplot(x=\"Training\",   data=df_labels, order = ['happy', 'sad', 'angry', 'others'] , ax=ax[0])\n",
    "sns.countplot(x=\"Validation\", data=df_labels, order = ['happy', 'sad', 'angry', 'others'], ax=ax[1])\n",
    "sns.countplot(x=\"Test\",       data=df_labels, order = ['happy', 'sad', 'angry', 'others'], ax=ax[2])\n",
    "fig.show()"
   ]
  },
  {
   "cell_type": "markdown",
   "metadata": {},
   "source": [
    "# Scale of class imbalance is different in Training and Evaluation data sets\n",
    "| Emotion | Happy | Sad | Angry | others |\n",
    "| :-: | :-: | :-: | :-: | :-: |\n",
    "| Train | 14% | 18% |18% | 50%|\n",
    "| Dev | 5% | 4.5% |5.5% | 85%|\n",
    "| Test | 5% | 4.5% |5.5% | 85%|"
   ]
  },
  {
   "cell_type": "code",
   "execution_count": 27,
   "metadata": {},
   "outputs": [],
   "source": [
    "train = pd.Series(['Training'] , ['name'])\n",
    "train = train.append(df_labels['Training'].value_counts().div(df_labels['Training'].value_counts().sum()))\n",
    "val = pd.Series(['Validation'] , ['name'])\n",
    "val = val.append(df_labels['Validation'].value_counts().div(df_labels['Validation'].value_counts().sum()))\n",
    "test = pd.Series(['Test'] , ['name'])\n",
    "test = test.append(df_labels['Test'].value_counts().div(df_labels['Test'].value_counts().sum()))\n",
    "\n",
    "df_stacked = pd.DataFrame(columns = list(('name', 'happy' , 'sad', 'angry', 'others')))\n",
    "\n",
    "df_stacked = df_stacked.append(train,ignore_index=True)\n",
    "df_stacked = df_stacked.append(val,ignore_index=True)\n",
    "df_stacked = df_stacked.append(test,ignore_index=True)"
   ]
  },
  {
   "cell_type": "code",
   "execution_count": 29,
   "metadata": {},
   "outputs": [
    {
     "data": {
      "text/plain": [
       "<AxesSubplot:title={'center':'Stacked Bar Graph'}, xlabel='name'>"
      ]
     },
     "execution_count": 29,
     "metadata": {},
     "output_type": "execute_result"
    },
    {
     "data": {
      "image/png": "[encoded data removed]",
      "text/plain": [
       "<Figure size 864x576 with 1 Axes>"
      ]
     },
     "metadata": {},
     "output_type": "display_data"
    }
   ],
   "source": [
    "# plot a Stacked Bar Chart using matplotlib\n",
    "df_stacked.plot(\n",
    "    x = 'name',\n",
    "    kind = 'bar',\n",
    "    stacked = True,\n",
    "    title = 'Stacked Bar Graph',\n",
    "    mark_right = False, \n",
    "   )"
   ]
  },
  {
   "cell_type": "markdown",
   "metadata": {},
   "source": [
    "# Distribution of Sequence Length in Train Set\n",
    "Most of the utterances seem to contain less than 75 tokens, but we’ll be on the safe side and choose a maximum length of 100 while tokenizing\n",
    "\n"
   ]
  },
  {
   "cell_type": "code",
   "execution_count": 31,
   "metadata": {},
   "outputs": [
    {
     "data": {
      "image/png": "[encoded data removed]",
      "text/plain": [
       "<Figure size 864x576 with 1 Axes>"
      ]
     },
     "metadata": {},
     "output_type": "display_data"
    }
   ],
   "source": [
    "token_lens = []\n",
    "for col in ['turn1', 'turn2', 'turn3']:\n",
    "    for tokens in df_train[col]:\n",
    "        token_lens.append(len(tokens))\n",
    "        \n",
    "sns.histplot(token_lens)\n",
    "plt.xlim([0, 150]);\n",
    "plt.xlabel('Token count Distribution');"
   ]
  },
  {
   "cell_type": "markdown",
   "metadata": {},
   "source": [
    "# Distribution of Word Count per emotion class\n",
    "It can be observed that happiness is often expressed in fewer words as compared to other emotions"
   ]
  },
  {
   "cell_type": "code",
   "execution_count": 91,
   "metadata": {},
   "outputs": [
    {
     "data": {
      "text/plain": [
       "<AxesSubplot:ylabel='Count'>"
      ]
     },
     "execution_count": 91,
     "metadata": {},
     "output_type": "execute_result"
    },
    {
     "data": {
      "image/png": "[encoded data removed]",
      "text/plain": [
       "<Figure size 864x576 with 3 Axes>"
      ]
     },
     "metadata": {},
     "output_type": "display_data"
    }
   ],
   "source": [
    "d = {\"happy\":[],\"sad\":[],\"angry\":[] };\n",
    "for col in ['turn1', 'turn2', 'turn3']:\n",
    "    for label, token in zip(df_train.label, df_train[col]):\n",
    "        if (label == \"others\"):\n",
    "            continue\n",
    "        d[label].append(len(token))\n",
    "        \n",
    "fig, ax =plt.subplots(ncols=3)\n",
    "fig.tight_layout()\n",
    "ax[0].set_title('Happy')\n",
    "ax[0].set_xlim([0, 100])\n",
    "sns.histplot(d['happy'] , ax=ax[0])\n",
    "\n",
    "ax[1].set_title('Sad')\n",
    "ax[1].set_xlim([0, 100])\n",
    "sns.histplot(d['sad'] , ax=ax[1])\n",
    "\n",
    "ax[1].set_title('Angry')\n",
    "ax[2].set_xlim([0, 100])\n",
    "sns.histplot(d['angry'] , ax=ax[2])"
   ]
  },
  {
   "cell_type": "markdown",
   "metadata": {},
   "source": [
    "# Comparision of word count distribution per emotion class\n"
   ]
  },
  {
   "cell_type": "code",
   "execution_count": 93,
   "metadata": {},
   "outputs": [],
   "source": [
    "df = df_train\n",
    "d = {\"happy\":[],\"sad\":[],\"angry\":[] };\n",
    "for i, a,b,c in zip(df.label, df.turn1,df.turn2,df.turn3):\n",
    "    if (i == \"others\"):\n",
    "        continue\n",
    "    d[i].append([len(a), len(b), len(c)]) \n"
   ]
  },
  {
   "cell_type": "code",
   "execution_count": 94,
   "metadata": {},
   "outputs": [],
   "source": [
    "index = [1, 2, 3,\n",
    "         4, 5, 6, 7, 8, 9]\n",
    "columns = [\"happy\", \"sad\",\"angry\"]\n",
    "df_wc =  pd.DataFrame(columns = columns, index=index)\n",
    "df_wc = df_wc.fillna(0)\n",
    "for keys in d.keys():\n",
    "    for row in d[keys]:\n",
    "        for i in range(1, 10):\n",
    "            if i == 9:\n",
    "                for j in row:\n",
    "                    if j>=40:\n",
    "                        df_wc.loc[i, keys] +=1\n",
    "            else:\n",
    "                for j in row:\n",
    "                    if j in list(range((i-1)*5, i*5)):\n",
    "                       \n",
    "                        df_wc.loc[i, keys] +=1\n",
    "                \n",
    "df_wc.index = ['0-4', '5-9', '10-14', '15-19','20-24', '25-29', '30-34', '35-39' , '>=40']          "
   ]
  },
  {
   "cell_type": "code",
   "execution_count": 95,
   "metadata": {},
   "outputs": [
    {
     "data": {
      "text/plain": [
       "<AxesSubplot:title={'center':'Distribution of Utterance Word Count per emotion class'}>"
      ]
     },
     "execution_count": 95,
     "metadata": {},
     "output_type": "execute_result"
    },
    {
     "data": {
      "image/png": "[encoded data removed]",
      "text/plain": [
       "<Figure size 864x576 with 1 Axes>"
      ]
     },
     "metadata": {},
     "output_type": "display_data"
    }
   ],
   "source": [
    "df_wc.plot.bar(rot=0, title = 'Distribution of Utterance Word Count per emotion class')"
   ]
  },
  {
   "cell_type": "markdown",
   "metadata": {},
   "source": [
    "# Data Preprocessing\n",
    "\n",
    "Machine Learning models don’t work with text and require data preprocessing to convert text to numbers. As we are using BERT for modelling the word level inputs, we need to do following preprocessing\n",
    "\n",
    "- Add special tokens to separate sentences and do classification\n",
    "- Pass sequences of constant length (introduce padding)\n",
    "- Create array of 0s (pad token) and 1s (real token) called attention mask\n",
    "\n",
    "We will use the pretrained bert model and tokenizers from the Transformers Library "
   ]
  },
  {
   "cell_type": "code",
   "execution_count": 96,
   "metadata": {},
   "outputs": [],
   "source": [
    "\n",
    "def transform_data(df, max_seq_len):\n",
    "    \"\"\"\n",
    "    returns the padded input ids and attention masks according to the DistilBert tokenizer\n",
    "    \"\"\"\n",
    "    tokenizer = DistilBertTokenizer.from_pretrained('distilbert-base-uncased')\n",
    "    \n",
    "    def tokenize_fct(turn):\n",
    "        return tokenizer.encode(turn, truncation = True, add_special_tokens=True, max_length=max_seq_len)\n",
    "    \n",
    "    tokenized = df[['turn1','turn2','turn3']].applymap(tokenize_fct)\n",
    "    padded = torch.tensor([[ids + [0]*(max_seq_len-len(ids)) for ids in idx] for idx in tokenized.values])\n",
    "    attention_mask = torch.where(padded != 0, torch.ones_like(padded), torch.zeros_like(padded))\n",
    "    return padded, attention_mask, tokenized"
   ]
  },
  {
   "cell_type": "code",
   "execution_count": 97,
   "metadata": {},
   "outputs": [],
   "source": [
    "def get_labels(df, emo_dict):\n",
    "    \"\"\"\n",
    "    returns the labels according to the emotion dictionary\n",
    "    \"\"\"\n",
    "    return torch.tensor([emo_dict[label] for label in df['label'].values])"
   ]
  },
  {
   "cell_type": "code",
   "execution_count": 98,
   "metadata": {},
   "outputs": [],
   "source": [
    "emo_dict = {'others': 0, 'sad': 1, 'angry': 2, 'happy': 3}\n",
    "labels = torch.tensor([emo_dict[label] for label in df['label'].values])"
   ]
  },
  {
   "cell_type": "code",
   "execution_count": 99,
   "metadata": {},
   "outputs": [],
   "source": [
    "\n",
    "def dataloader(path, max_seq_len, batch_size, emo_dict, labels = True, eval = False):\n",
    "    \"\"\"\n",
    "    Transforms the .csv data stored in `path` according to DistilBert features and returns it as a DataLoader \n",
    "    \"\"\"\n",
    "    df = pd.read_csv(path, delimiter='\\t', index_col='id')\n",
    "    #df = df.iloc[0:1000, :]\n",
    "    print(df.shape)\n",
    "    padded, attention_mask, tokenizer = transform_data(df, max_seq_len)\n",
    "    \n",
    "    if labels:\n",
    "        dataset = TensorDataset(padded, attention_mask, get_labels(df, emo_dict))\n",
    "    \n",
    "    else:\n",
    "        dataset = TensorDataset(padded, attention_mask)\n",
    "      \n",
    "    train_sampler = None\n",
    "\n",
    "    return DataLoader(dataset, batch_size=batch_size, shuffle= not(eval) , \n",
    "                      sampler=train_sampler, num_workers=0),  df.shape[0]\n"
   ]
  },
  {
   "cell_type": "markdown",
   "metadata": {},
   "source": [
    "## Transformer Sentence Embeddings\n",
    "\n",
    "Lower Transformer is used to create sentence embeddings for each utterance. We use a pretrained DistilBert model to obtain contextual word embeddings and then concatenate the CLS token embedding and the mean of the last layer. Note that in order to feed batches into out model we need to temporarily flatten our `input_ids`, i.e. we get three times as many input sentences as the specified `batch_size`.\n",
    "\n",
    "For more information on the (Distil)Bert models one can look at \n",
    "Jay Alammar's blog posts ([A Visual Guide to Using BERT for the First Time](https://jalammar.github.io/a-visual-guide-to-using-bert-for-the-first-time/) and [The Illustrated BERT, ELMo, and co.](https://jalammar.github.io/illustrated-bert/)) where also the following illustration is taken from.\n",
    "\n",
    "![DistilBert output](./images/bert-distilbert-output-tensor-predictions.png)\n",
    "\n",
    "Further references:\n",
    " \n",
    "* [DistilBert paper](https://arxiv.org/abs/1910.01108) and [blog post](https://medium.com/huggingface/distilbert-8cf3380435b5)\n",
    "* [Original Bert (Bidirectional Encoder Representations from Transformers) paper](https://arxiv.org/abs/1810.04805)\n",
    "* [tutorial for custom PyTorch modules](https://pytorch.org/tutorials/beginner/pytorch_with_examples.html)\n",
    "* [Huggingface transformers documentation](https://huggingface.co/transformers/v2.3.0/index.html)"
   ]
  },
  {
   "cell_type": "markdown",
   "metadata": {},
   "source": [
    "The DistilBert model outputs \n",
    "\n",
    "* 768-dimensional embeddings for each of the 'max_seq_len' tokens and each of the three utterances of the `batch_size` conversations and\n",
    "* a list of the hidden-states in all of the 6 DistilBert transformer layers (including the first embedding)\n",
    "* We concatenate the CLS token embedding and the mean of the last layer to build encoding of individual utterance"
   ]
  },
  {
   "cell_type": "code",
   "execution_count": 100,
   "metadata": {},
   "outputs": [],
   "source": [
    "\n",
    "class sentence_embeds_model(torch.nn.Module):\n",
    "    \"\"\"\n",
    "    instantiates the pretrained DistilBert model and the linear layer\n",
    "    \"\"\"\n",
    "    \n",
    "    def __init__(self, dropout = 0.1):\n",
    "        super(sentence_embeds_model, self).__init__()\n",
    "        \n",
    "        self.transformer = DistilBertModel.from_pretrained('distilbert-base-uncased', dropout=dropout, \n",
    "                                                           output_hidden_states=True)\n",
    "        self.embedding_size = 2 * self.transformer.config.hidden_size\n",
    "        \n",
    "    def layerwise_lr(self, lr, decay):\n",
    "        \"\"\"\n",
    "        returns grouped model parameters with layer-wise decaying learning rate\n",
    "        \"\"\"\n",
    "        bert = self.transformer\n",
    "        num_layers = bert.config.n_layers\n",
    "        opt_parameters = [{'params': bert.embeddings.parameters(), 'lr': lr*decay**num_layers}]\n",
    "        opt_parameters += [{'params': bert.transformer.layer[l].parameters(), 'lr': lr*decay**(num_layers-l+1)} \n",
    "                            for l in range(num_layers)]\n",
    "        return opt_parameters\n",
    "    \n",
    "    \n",
    "               \n",
    "    def forward(self, input_ids = None, attention_mask = None, input_embeds = None):\n",
    "        \"\"\"\n",
    "        returns the sentence embeddings\n",
    "        \"\"\"\n",
    "        if input_ids is not None:\n",
    "            input_ids = input_ids.flatten(end_dim = 1)\n",
    "        if attention_mask is not None:\n",
    "            attention_mask = attention_mask.flatten(end_dim = 1)\n",
    "        output = self.transformer(input_ids = input_ids, \n",
    "                                  attention_mask = attention_mask, inputs_embeds = input_embeds)\n",
    "    \n",
    "        cls = output[0][:,0]\n",
    "        hidden_mean = torch.mean(output[1][-1],1)\n",
    "        sentence_embeds = torch.cat([cls, hidden_mean], dim = -1)\n",
    "        \n",
    "        return sentence_embeds.view(-1, 3, self.embedding_size)"
   ]
  },
  {
   "cell_type": "markdown",
   "metadata": {},
   "source": [
    "## Context Transformer and Classification\n",
    "\n",
    "Next we use another transformer model to create contextual sentence embeddings, i.e. we model that a conversation consists of three utterances. Then, we add a classification model for the emotion of the last utterance where we augment the loss by a binary loss due to the unbalanced data.\n",
    "\n",
    "We use \n",
    "\n",
    "* a linear projection of the sentence embeddings to a given `projection_size`\n",
    "* a (not pre-trained) DistilBertForSequenceClassification and flip the order of the utterances as the first input embedding gets classified by default\n",
    "* only one attention head"
   ]
  },
  {
   "cell_type": "code",
   "execution_count": null,
   "metadata": {},
   "outputs": [],
   "source": [
    "# export \n",
    "class context_classifier_model(torch.nn.Module):\n",
    "    \"\"\"\n",
    "    instantiates the DisitlBertForSequenceClassification model, the position embeddings of the utterances, \n",
    "    and the binary loss function\n",
    "    \"\"\"\n",
    "    \n",
    "    def __init__(self, embedding_size, projection_size, n_layers, emo_dict, dropout = 0.1):\n",
    "        super(context_classifier_model, self).__init__()\n",
    "        \n",
    "        self.projection_size = projection_size\n",
    "        self.projection = torch.nn.Linear(embedding_size, projection_size)         \n",
    "        self.position_embeds = torch.nn.Embedding(3, projection_size)\n",
    "        self.norm = torch.nn.LayerNorm(projection_size)\n",
    "        self.drop = torch.nn.Dropout(dropout)\n",
    "    \n",
    "        context_config = DistilBertConfig(dropout=dropout, \n",
    "                                dim=projection_size,\n",
    "                                hidden_dim=4*projection_size,\n",
    "                                n_layers=n_layers,\n",
    "                                n_heads = 1,\n",
    "                                num_labels=4)\n",
    "\n",
    "        self.context_transformer = DistilBertForSequenceClassification(context_config)\n",
    "        self.others_label = emo_dict['others']\n",
    "        self.bin_loss_fct = torch.nn.BCEWithLogitsLoss()\n",
    "        \n",
    "    def bin_loss(self, logits, labels):\n",
    "        \"\"\"\n",
    "        defined the additional binary loss for the `others` label\n",
    "        \"\"\"\n",
    "        bin_labels = torch.where(labels == self.others_label, torch.ones_like(labels), \n",
    "                                 torch.zeros_like(labels)).float()\n",
    "        bin_logits = logits[:, self.others_label]    \n",
    "        return self.bin_loss_fct(bin_logits, bin_labels)\n",
    "\n",
    "    def forward(self, sentence_embeds, labels = None):\n",
    "        \"\"\"\n",
    "        returns the logits and the corresponding loss if `labels` are given\n",
    "        \"\"\"\n",
    "        \n",
    "        position_ids = torch.arange(3, dtype=torch.long, device=sentence_embeds.device)\n",
    "        position_ids = position_ids.expand(sentence_embeds.shape[:2]) \n",
    "        position_embeds = self.position_embeds(position_ids)\n",
    "        sentence_embeds = self.projection(sentence_embeds) + position_embeds \n",
    "        sentence_embeds = self.drop(self.norm(sentence_embeds))\n",
    "        if labels is None:\n",
    "            return self.context_transformer(inputs_embeds = sentence_embeds.flip(1), labels = labels)[0]\n",
    "        \n",
    "        else:\n",
    "            output =  self.context_transformer(inputs_embeds = sentence_embeds.flip(1), labels = labels)\n",
    "            loss = output[0]\n",
    "            logits = output[1]\n",
    "            return loss + self.bin_loss(logits, labels), logits"
   ]
  },
  {
   "cell_type": "markdown",
   "metadata": {},
   "source": [
    "# Metrices\n",
    "\n",
    "We define the metrics, i.e. microaveraged precision, recall, and f1-score (ignoring the others class), for the evaluation of our model according to the [SemEval-2019 Task 3 challenge](https://www.aclweb.org/anthology/S19-2005/). "
   ]
  },
  {
   "cell_type": "code",
   "execution_count": 104,
   "metadata": {},
   "outputs": [],
   "source": [
    "# export\n",
    "def metrics(loss, logits, labels):\n",
    "    cm = torch.zeros((4,4), device = loss.device)\n",
    "    preds = torch.argmax(logits, dim=1)\n",
    "    acc = (labels == preds).float().mean()\n",
    "    for label, pred in zip(labels.view(-1), preds.view(-1)):\n",
    "        cm[label.long(), pred.long()] += 1\n",
    "        \n",
    "    tp = cm.diagonal()[1:].sum()\n",
    "    fp = cm[:, 1:].sum() - tp\n",
    "    fn = cm[1:, :].sum() - tp \n",
    "    return {'val_loss': loss, 'val_acc': acc, 'tp': tp, 'fp': fp, 'fn': fn}\n",
    "\n",
    "def f1_score(tp, fp, fn):\n",
    "    prec_rec_f1 = {}\n",
    "    prec_rec_f1['precision'] = tp / (tp + fp)\n",
    "    prec_rec_f1['recall'] = tp / (tp + fn)\n",
    "    prec_rec_f1['f1_score'] = 2 * (prec_rec_f1['precision'] * prec_rec_f1['recall']) / (prec_rec_f1['precision'] + prec_rec_f1['recall'])\n",
    "    return prec_rec_f1"
   ]
  },
  {
   "cell_type": "markdown",
   "metadata": {},
   "source": [
    "## Define the pytorch lightning module\n",
    "Implement the pytorch framework to concatenate the above 2 models. Pytorch lightning module has following main hooks\n",
    "* training_step "
   ]
  },
  {
   "cell_type": "code",
   "execution_count": 105,
   "metadata": {},
   "outputs": [],
   "source": [
    "# export\n",
    "class EmotionModel(pl.LightningModule):\n",
    "    \"\"\"\n",
    "    PyTorch Lightning module for the Contextual Emotion Detection in Text Challenge\n",
    "    \"\"\"\n",
    "\n",
    "    def __init__(self):\n",
    "        \"\"\"\n",
    "        pass in parsed HyperOptArgumentParser to the model\n",
    "        \"\"\"\n",
    "        super(EmotionModel, self).__init__()\n",
    "\n",
    "        self.model = 'Semeval'\n",
    "        self.emo_dict = {'others': 0, 'sad': 1, 'angry': 2, 'happy': 3}\n",
    "        self.max_seq_len = 10\n",
    "        self.dropout = 0.1\n",
    "        self.projection_size = 100\n",
    "        self.n_layers = 1\n",
    "        self.sentence_embeds_model = sentence_embeds_model(dropout = self.dropout)\n",
    "        self.context_classifier_model = context_classifier_model(self.sentence_embeds_model.embedding_size,\n",
    "                                                                 self.projection_size, \n",
    "                                                                 self.n_layers, \n",
    "                                                                 self.emo_dict, \n",
    "                                                                 dropout = self.dropout)\n",
    "        \n",
    "\n",
    "    def forward(self, input_ids, attention_mask, labels = None):\n",
    "        \"\"\"\n",
    "        no special modification required for lightning, define as you normally would\n",
    "        \"\"\"\n",
    "        sentence_embeds = self.sentence_embeds_model(input_ids = input_ids, \n",
    "                                                             attention_mask = attention_mask)\n",
    "        return self.context_classifier_model(sentence_embeds = sentence_embeds, labels = labels)\n",
    "    \n",
    "    def training_step(self, batch, batch_idx):\n",
    "        \"\"\"\n",
    "        Lightning calls this inside the training loop\n",
    "        \"\"\"       \n",
    "        input_ids, attention_mask, labels = batch\n",
    "        loss, _ = self.forward(input_ids = input_ids, attention_mask = attention_mask, labels = labels)\n",
    "       \n",
    "        tensorboard_logs = {'train_loss': loss}\n",
    "        self.log('train_loss', loss, prog_bar=True)\n",
    "        return {'loss': loss, 'log': tensorboard_logs}\n",
    "\n",
    "    \n",
    "    def validation_step(self, batch, batch_idx):\n",
    "        \"\"\"\n",
    "        Lightning calls this inside the validation loop\n",
    "        \"\"\"\n",
    "        input_ids, attention_mask, labels = batch\n",
    "\n",
    "        loss, logits = self.forward(input_ids = input_ids, attention_mask = attention_mask, labels = labels)\n",
    "        scores_dict = metrics(loss, logits, labels)\n",
    "\n",
    "        return scores_dict\n",
    "\n",
    "    def validation_end(self, outputs):\n",
    "        \"\"\"\n",
    "        called at the end of validation to aggregate outputs\n",
    "        :param outputs: list of individual outputs of each validation step\n",
    "        :return:\n",
    "        \"\"\"\n",
    "        \n",
    "        tqdm_dict = {}\n",
    "\n",
    "        for metric_name in outputs[0].keys():\n",
    "            metric_total = 0\n",
    "\n",
    "            for output in outputs:\n",
    "                metric_value = output[metric_name]\n",
    "                metric_total += metric_value\n",
    "            if metric_name in ['tp', 'fp', 'fn']:\n",
    "                tqdm_dict[metric_name] = metric_total\n",
    "            else:\n",
    "                tqdm_dict[metric_name] = metric_total / len(outputs)\n",
    "\n",
    "               \n",
    "        prec_rec_f1 = f1_score(tqdm_dict['tp'], tqdm_dict['fp'], tqdm_dict['fn'])\n",
    "        tqdm_dict.update(prec_rec_f1) \n",
    "        self.log('valid_loss', tqdm_dict[\"val_loss\"], prog_bar=False)\n",
    "        self.log('valid_acc', tqdm_dict[\"val_acc\"], prog_bar=False)\n",
    "        print('\\nError Metric {}'.format(tqdm_dict))\n",
    "        result = {'progress_bar': tqdm_dict, 'log': tqdm_dict, 'val_loss': tqdm_dict[\"val_loss\"]}\n",
    "        \n",
    "        return result\n",
    "    \n",
    "    def test_step(self, batch, batch_idx):\n",
    " \n",
    "        return self.validation_step(batch, batch_idx)\n",
    "\n",
    "    \n",
    "    def test_end(self, outputs):\n",
    "        return self.validation_end(outputs)\n",
    "    \n",
    "    def configure_optimizers(self):\n",
    "        \"\"\"\n",
    "        returns the optimizer and scheduler\n",
    "        \"\"\"\n",
    "        params = model.sentence_embeds_model.layerwise_lr(args.lr, args.layerwise_decay)\n",
    "        params += [{'params': model.context_classifier_model.parameters()}]\n",
    "        self.optimizer = torch.optim.Adam(params, lr=args.lr)\n",
    "        self.scheduler = torch.optim.lr_scheduler.CosineAnnealingLR(self.optimizer, T_max=10)\n",
    "        return [self.optimizer], [self.scheduler]\n",
    "    \n",
    "\n",
    "   \n",
    "    def train_dataloader(self):\n",
    "         train_loader, _ = dataloader(args.train_file, args.max_seq_len, args.batch_size, self.emo_dict)\n",
    "         return train_loader\n",
    "\n",
    "    \n",
    "\n",
    "    def val_dataloader(self):\n",
    "        val_loader, _ =dataloader(args.val_file,  args.max_seq_len, args.batch_size, self.emo_dict)\n",
    "        return val_loader\n",
    "\n",
    "    def test_dataloader(self):\n",
    "        test_loader, _ =  dataloader(args.test_file, args.max_seq_len, args.batch_size, self.emo_dict)\n",
    "        return test_loader\n"
   ]
  },
  {
   "cell_type": "code",
   "execution_count": 106,
   "metadata": {},
   "outputs": [],
   "source": [
    "# export\n",
    "def get_args():\n",
    "    \"\"\"\n",
    "        returns the Parser args\n",
    "    \"\"\"\n",
    "    root_dir = os.getcwd()  \n",
    "    parser = argparse.ArgumentParser()\n",
    "    parser.add_argument('--batch_size', type=int, default=32)\n",
    "    parser.add_argument('--projection_size', type=int, default=100)\n",
    "    parser.add_argument('--n_layers', type=int, default=2)\n",
    "    parser.add_argument('--dropout', type=float, default=0.1)\n",
    "    parser.add_argument('--lr', type=float, default=2e-5)\n",
    "    parser.add_argument('--bert_lr', type=float, default=1e-5)\n",
    "    parser.add_argument('--layerwise_decay', default=0.95, type=float,  \n",
    "                    help='layerwise decay factor for the learning rate of the pretrained DistilBert')\n",
    "    parser.add_argument('--train_file', default=os.path.join(root_dir, 'data/clean_train.txt'), type=str)\n",
    "    parser.add_argument('--val_file', default=os.path.join(root_dir, 'data/clean_val.txt'), type=str)\n",
    "    parser.add_argument('--test_file', default=os.path.join(root_dir, 'data/clean_test.txt'), type=str)\n",
    "    parser.add_argument('--weight_decay', type=float, default=1e-5)\n",
    "    parser.add_argument('--max_grad_norm', type=float, default=1.0)\n",
    "    parser.add_argument('--epochs', type=int, default=3,\n",
    "                        help='number of total epochs to run')\n",
    "    parser.add_argument('--max_seq_len', type=int, default=10)\n",
    "   \n",
    "    parser.add_argument('--alpha', type=float, default=0.95)\n",
    "    parser.add_argument('--seed', type=int, default=123,\n",
    "                       help='seed for initializing training')\n",
    "    parser.add_argument('--device', type=int, default=0)\n",
    "\n",
    "    parser.add_argument('--evaluate', action='store_true')\n",
    "    args = parser.parse_args(args=[])\n",
    "    return args"
   ]
  },
  {
   "cell_type": "code",
   "execution_count": 109,
   "metadata": {},
   "outputs": [
    {
     "name": "stderr",
     "output_type": "stream",
     "text": [
      "Global seed set to 42\n"
     ]
    },
    {
     "data": {
      "text/plain": [
       "42"
      ]
     },
     "execution_count": 109,
     "metadata": {},
     "output_type": "execute_result"
    }
   ],
   "source": [
    "args = get_args()\n",
    "seed = args.seed\n",
    "random.seed(seed)\n",
    "np.random.seed(seed)\n",
    "torch.manual_seed(seed)\n",
    "torch.cuda.manual_seed(seed)\n",
    "torch.backends.cudnn.deterministic = True\n",
    "seed_everything(42, workers=True)"
   ]
  },
  {
   "cell_type": "code",
   "execution_count": 110,
   "metadata": {},
   "outputs": [],
   "source": [
    "model = EmotionModel()\n"
   ]
  },
  {
   "cell_type": "code",
   "execution_count": 111,
   "metadata": {},
   "outputs": [
    {
     "name": "stderr",
     "output_type": "stream",
     "text": [
      "GPU available: True, used: True\n",
      "TPU available: False, using: 0 TPU cores\n",
      "LOCAL_RANK: 0 - CUDA_VISIBLE_DEVICES: [0]\n",
      "\n",
      "  | Name                     | Type                     | Params\n",
      "----------------------------------------------------------------------\n",
      "0 | sentence_embeds_model    | sentence_embeds_model    | 66.4 M\n",
      "1 | context_classifier_model | context_classifier_model | 3.4 M \n",
      "----------------------------------------------------------------------\n",
      "69.8 M    Trainable params\n",
      "0         Non-trainable params\n",
      "69.8 M    Total params\n",
      "279.010   Total estimated model params size (MB)\n"
     ]
    },
    {
     "data": {
      "application/vnd.jupyter.widget-view+json": {
       "model_id": "",
       "version_major": 2,
       "version_minor": 0
      },
      "text/plain": [
       "HBox(children=(HTML(value='Validation sanity check'), FloatProgress(value=1.0, bar_style='info', layout=Layout…"
      ]
     },
     "metadata": {},
     "output_type": "display_data"
    },
    {
     "name": "stdout",
     "output_type": "stream",
     "text": [
      "(2755, 4)\n"
     ]
    },
    {
     "name": "stderr",
     "output_type": "stream",
     "text": [
      "C:\\Users\\neera\\anaconda3\\envs\\NLP3\\lib\\site-packages\\pytorch_lightning\\utilities\\distributed.py:69: UserWarning: Your val_dataloader has `shuffle=True`, it is best practice to turn this off for val/test/predict dataloaders.\n",
      "  warnings.warn(*args, **kwargs)\n",
      "C:\\Users\\neera\\anaconda3\\envs\\NLP3\\lib\\site-packages\\pytorch_lightning\\utilities\\distributed.py:69: UserWarning: The dataloader, val dataloader 0, does not have many workers which may be a bottleneck. Consider increasing the value of the `num_workers` argument` (try 8 which is the number of cpus on this machine) in the `DataLoader` init to improve performance.\n",
      "  warnings.warn(*args, **kwargs)\n",
      "Global seed set to 42\n"
     ]
    },
    {
     "name": "stdout",
     "output_type": "stream",
     "text": [
      "(30160, 4)\n"
     ]
    },
    {
     "name": "stderr",
     "output_type": "stream",
     "text": [
      "C:\\Users\\neera\\anaconda3\\envs\\NLP3\\lib\\site-packages\\pytorch_lightning\\utilities\\distributed.py:69: UserWarning: The dataloader, train dataloader, does not have many workers which may be a bottleneck. Consider increasing the value of the `num_workers` argument` (try 8 which is the number of cpus on this machine) in the `DataLoader` init to improve performance.\n",
      "  warnings.warn(*args, **kwargs)\n"
     ]
    },
    {
     "data": {
      "application/vnd.jupyter.widget-view+json": {
       "model_id": "b4bf40a1799847cbbd4de53265b1ddbf",
       "version_major": 2,
       "version_minor": 0
      },
      "text/plain": [
       "HBox(children=(HTML(value='Training'), FloatProgress(value=1.0, bar_style='info', layout=Layout(flex='2'), max…"
      ]
     },
     "metadata": {},
     "output_type": "display_data"
    },
    {
     "data": {
      "application/vnd.jupyter.widget-view+json": {
       "model_id": "",
       "version_major": 2,
       "version_minor": 0
      },
      "text/plain": [
       "HBox(children=(HTML(value='Validating'), FloatProgress(value=1.0, bar_style='info', layout=Layout(flex='2'), m…"
      ]
     },
     "metadata": {},
     "output_type": "display_data"
    },
    {
     "data": {
      "application/vnd.jupyter.widget-view+json": {
       "model_id": "",
       "version_major": 2,
       "version_minor": 0
      },
      "text/plain": [
       "HBox(children=(HTML(value='Validating'), FloatProgress(value=1.0, bar_style='info', layout=Layout(flex='2'), m…"
      ]
     },
     "metadata": {},
     "output_type": "display_data"
    },
    {
     "data": {
      "application/vnd.jupyter.widget-view+json": {
       "model_id": "",
       "version_major": 2,
       "version_minor": 0
      },
      "text/plain": [
       "HBox(children=(HTML(value='Validating'), FloatProgress(value=1.0, bar_style='info', layout=Layout(flex='2'), m…"
      ]
     },
     "metadata": {},
     "output_type": "display_data"
    },
    {
     "data": {
      "application/vnd.jupyter.widget-view+json": {
       "model_id": "",
       "version_major": 2,
       "version_minor": 0
      },
      "text/plain": [
       "HBox(children=(HTML(value='Validating'), FloatProgress(value=1.0, bar_style='info', layout=Layout(flex='2'), m…"
      ]
     },
     "metadata": {},
     "output_type": "display_data"
    },
    {
     "data": {
      "application/vnd.jupyter.widget-view+json": {
       "model_id": "",
       "version_major": 2,
       "version_minor": 0
      },
      "text/plain": [
       "HBox(children=(HTML(value='Validating'), FloatProgress(value=1.0, bar_style='info', layout=Layout(flex='2'), m…"
      ]
     },
     "metadata": {},
     "output_type": "display_data"
    },
    {
     "data": {
      "application/vnd.jupyter.widget-view+json": {
       "model_id": "",
       "version_major": 2,
       "version_minor": 0
      },
      "text/plain": [
       "HBox(children=(HTML(value='Validating'), FloatProgress(value=1.0, bar_style='info', layout=Layout(flex='2'), m…"
      ]
     },
     "metadata": {},
     "output_type": "display_data"
    },
    {
     "data": {
      "application/vnd.jupyter.widget-view+json": {
       "model_id": "",
       "version_major": 2,
       "version_minor": 0
      },
      "text/plain": [
       "HBox(children=(HTML(value='Validating'), FloatProgress(value=1.0, bar_style='info', layout=Layout(flex='2'), m…"
      ]
     },
     "metadata": {},
     "output_type": "display_data"
    },
    {
     "data": {
      "application/vnd.jupyter.widget-view+json": {
       "model_id": "",
       "version_major": 2,
       "version_minor": 0
      },
      "text/plain": [
       "HBox(children=(HTML(value='Validating'), FloatProgress(value=1.0, bar_style='info', layout=Layout(flex='2'), m…"
      ]
     },
     "metadata": {},
     "output_type": "display_data"
    },
    {
     "data": {
      "application/vnd.jupyter.widget-view+json": {
       "model_id": "",
       "version_major": 2,
       "version_minor": 0
      },
      "text/plain": [
       "HBox(children=(HTML(value='Validating'), FloatProgress(value=1.0, bar_style='info', layout=Layout(flex='2'), m…"
      ]
     },
     "metadata": {},
     "output_type": "display_data"
    },
    {
     "data": {
      "application/vnd.jupyter.widget-view+json": {
       "model_id": "",
       "version_major": 2,
       "version_minor": 0
      },
      "text/plain": [
       "HBox(children=(HTML(value='Validating'), FloatProgress(value=1.0, bar_style='info', layout=Layout(flex='2'), m…"
      ]
     },
     "metadata": {},
     "output_type": "display_data"
    },
    {
     "name": "stdout",
     "output_type": "stream",
     "text": [
      "\n"
     ]
    }
   ],
   "source": [
    "    \n",
    "early_stop_callback = pl.callbacks.EarlyStopping(monitor='val_loss', min_delta=0.00, patience=5, \n",
    "                                        verbose=True, mode='min')\n",
    "    \n",
    "    \n",
    "trainer = pl.Trainer(default_root_dir=os.getcwd(),\n",
    "                    gpus=(1 if torch.cuda.is_available() else 0),\n",
    "                    max_epochs= 10,\n",
    "                    fast_dev_run=False,\n",
    "                    deterministic=True,\n",
    "                    )\n",
    "trainer.fit(model)\n",
    "    "
   ]
  },
  {
   "cell_type": "code",
   "execution_count": 113,
   "metadata": {},
   "outputs": [
    {
     "name": "stderr",
     "output_type": "stream",
     "text": [
      "LOCAL_RANK: 0 - CUDA_VISIBLE_DEVICES: [0]\n"
     ]
    },
    {
     "name": "stdout",
     "output_type": "stream",
     "text": [
      "(5509, 4)\n"
     ]
    },
    {
     "name": "stderr",
     "output_type": "stream",
     "text": [
      "C:\\Users\\neera\\anaconda3\\envs\\NLP3\\lib\\site-packages\\pytorch_lightning\\utilities\\distributed.py:69: UserWarning: Your test_dataloader has `shuffle=True`, it is best practice to turn this off for val/test/predict dataloaders.\n",
      "  warnings.warn(*args, **kwargs)\n",
      "C:\\Users\\neera\\anaconda3\\envs\\NLP3\\lib\\site-packages\\pytorch_lightning\\utilities\\distributed.py:69: UserWarning: The dataloader, test dataloader 0, does not have many workers which may be a bottleneck. Consider increasing the value of the `num_workers` argument` (try 8 which is the number of cpus on this machine) in the `DataLoader` init to improve performance.\n",
      "  warnings.warn(*args, **kwargs)\n"
     ]
    },
    {
     "data": {
      "application/vnd.jupyter.widget-view+json": {
       "model_id": "37907f9bbb0d40f095a59aad37145437",
       "version_major": 2,
       "version_minor": 0
      },
      "text/plain": [
       "HBox(children=(HTML(value='Testing'), FloatProgress(value=1.0, bar_style='info', layout=Layout(flex='2'), max=…"
      ]
     },
     "metadata": {},
     "output_type": "display_data"
    },
    {
     "name": "stdout",
     "output_type": "stream",
     "text": [
      "\n",
      "--------------------------------------------------------------------------------\n",
      "DATALOADER:0 TEST RESULTS\n",
      "{}\n",
      "--------------------------------------------------------------------------------\n"
     ]
    },
    {
     "data": {
      "text/plain": [
       "[{}]"
      ]
     },
     "execution_count": 113,
     "metadata": {},
     "output_type": "execute_result"
    }
   ],
   "source": [
    "trainer.test()"
   ]
  },
  {
   "cell_type": "code",
   "execution_count": null,
   "metadata": {},
   "outputs": [],
   "source": []
  }
 ],
 "metadata": {
  "kernelspec": {
   "display_name": "Python 3",
   "language": "python",
   "name": "python3"
  },
  "language_info": {
   "codemirror_mode": {
    "name": "ipython",
    "version": 3
   },
   "file_extension": ".py",
   "mimetype": "text/x-python",
   "name": "python",
   "nbconvert_exporter": "python",
   "pygments_lexer": "ipython3",
   "version": "3.8.5"
  }
 },
 "nbformat": 4,
 "nbformat_minor": 4
}
