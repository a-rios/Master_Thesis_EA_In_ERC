{
 "cells": [
  {
   "cell_type": "markdown",
   "id": "072c1d9c",
   "metadata": {},
   "source": [
    "# Problem Statement\n",
    "\n",
    "\n",
    "\n",
    "\n",
    "\n",
    "ERC is a task that aims at predicting emotion of each utterance in a conversation. The following is an excerpt of a conversation with each utterance tagged with corresponding emotion and sentiment label.\n",
    "\n",
    "![alt text](example.jpg \"Title\")\n"
   ]
  },
  {
   "cell_type": "markdown",
   "id": "6a9552ae",
   "metadata": {},
   "source": [
    "# Hierarchical Transformer Network for Utterance-Level Emotion Recognition\n",
    "This is the Pytorch implementation Utterance-level Emotion Recognition [paper](https://arxiv.org/ftp/arxiv/papers/2002/2002.07551.pdf)"
   ]
  },
  {
   "cell_type": "markdown",
   "id": "44b465c1",
   "metadata": {},
   "source": [
    "Overview\n",
    "Though predicting the emotion of a single utterance or sentence, i.e. emotion detection, is a well discussed subject in natural language understanding literature, EmoContext has several novel challenges. In this paper, we address four challenges in utterance-level emotion recognition in dialogue systems:\n",
    "\n",
    "- Emotion depend on the context of previous utterances in the dialogue\n",
    "\n",
    "- long-range contextual information is hard to be effectively captured;\n",
    "\n",
    "- Datasets are quite small.\n",
    "\n",
    "- the class distribution of training data is significantly different from that of the test data. Consequently, a model trained on the training data might not perform well on the test data.\n",
    "\n",
    "- We propose a hierarchical transformer framework with a lower-level transformer to model the word-level inputs and an upper-level transformer to capture the contexts of utterance-level embeddings."
   ]
  },
  {
   "cell_type": "markdown",
   "id": "eb10dc8d",
   "metadata": {},
   "source": [
    "# EmotionPush Dataset\n",
    "Dataset includes the training data set consisting of 713 dialogues, and two evaluation data sets, Dev and Test, containing\n",
    "99 and 85 dialogues respectively. The Training, validation and test datasets are json files containing following information :\n",
    "\n",
    " - Speaker - Identifies the speaker of utterance\n",
    " - Utterance -  The textual content of the utterance.\n",
    " - Emotion - Emotion labels for each utterance\n",
    " - Annotation - The annotation string contains the raw count of votes for each emotion by the annotators. The order of the emotions in the string is [neutral, joy, sadness, fear, anger,  surprise, disgust]. For example, string \"2000030\" denotes that two annotators voted for \"neutral\", and three voted for \"surprise\". Note that the sum of the votes is always five, since the dialogues were annotated by five annotators.\n",
    "\n",
    "Dataset stattistics:\n",
    "\n",
    "\n",
    "\n",
    "\n",
    "| Statistics | Train | Dev | Test | \n",
    "| :-| :- | :- | :- | \n",
    "| # of Dialogues | 720 | 80 |200 | \n",
    "| # of Utterances | 10733 | 1202 |2807 | \n",
    "| Min number of Utterances per dialogue| 6 | 6 |5 | \n",
    "| Max number of Utterances per dialogue| 24 | 24 |24 | \n",
    "| Average number of Utterances per dialogue| 14.91 | 15.02 |14.04 | \n",
    "| Min Utterance length | 0 | 133 |5.96 | \n",
    "| Max Utterance length | 1 | 183 |6.15 | \n",
    "| Average Utterance length | 0 | 71 |6.37 | \n",
    "\n",
    "\n",
    "\n",
    "\n",
    "    \n",
    "    "
   ]
  },
  {
   "cell_type": "code",
   "execution_count": 1,
   "id": "f1a3257b",
   "metadata": {},
   "outputs": [],
   "source": [
    "import torch\n",
    "import os\n",
    "import random\n",
    "import pandas as pd\n",
    "import functools\n",
    "import time\n",
    "import math\n",
    "import argparse\n",
    "import json\n",
    "import matplotlib\n",
    "import matplotlib.patches as patches\n",
    "\n",
    "from torch.utils.data import TensorDataset, DataLoader\n",
    "from torch.utils.data.distributed import DistributedSampler\n",
    "import torch.nn.functional as F\n",
    "from torch.utils.data import Dataset, DataLoader\n",
    "\n",
    "from ipywidgets import interact\n",
    "import numpy as np\n",
    "import seaborn as sns\n",
    "from pylab import rcParams\n",
    "import matplotlib.pyplot as plt\n",
    "from matplotlib import rc\n",
    "\n",
    "from transformers import DistilBertModel, DistilBertForSequenceClassification, DistilBertConfig, DistilBertTokenizer\n",
    "from transformers import AutoModel, AutoTokenizer\n",
    "from transformers import AutoConfig, AutoModelForPreTraining, AutoModelForSequenceClassification\n",
    "\n",
    "from collections import defaultdict\n",
    "\n",
    "import pytorch_lightning as pl\n",
    "from pytorch_lightning import seed_everything\n",
    "from sklearn.preprocessing import OneHotEncoder\n",
    "\n",
    "from tabulate import tabulate\n",
    "from bs4 import BeautifulSoup\n",
    "import unidecode\n",
    "from tqdm import tqdm\n",
    "import re, string, json\n",
    "from symspellpy.symspellpy import SymSpell, Verbosity\n",
    "import pkg_resources\n",
    "import spacy\n",
    "import nltk\n",
    "from collections import Counter\n",
    "from deep_translator import GoogleTranslator\n",
    "from sklearn.metrics import confusion_matrix"
   ]
  },
  {
   "cell_type": "code",
   "execution_count": 2,
   "id": "7a88414e",
   "metadata": {},
   "outputs": [],
   "source": [
    "def get_args():\n",
    "    \"\"\"\n",
    "        returns the Parser args\n",
    "    \"\"\"\n",
    "    root_dir = os.getcwd()  \n",
    "    parser = argparse.ArgumentParser()\n",
    "    parser.add_argument('--batch_size', type=int, default=8)  # Batch Size\n",
    "    parser.add_argument('--projection_size', type=int, default=768) \n",
    "    parser.add_argument('--n_layers', type=int, default=4)\n",
    "    parser.add_argument('--dropout', type=float, default=0.1)\n",
    "    parser.add_argument('--lr', type=float, default=2e-5)\n",
    "    parser.add_argument('--layerwise_decay', default=0.95, type=float,  \n",
    "                    help='layerwise decay factor for the learning rate of the pretrained DistilBert')\n",
    "    parser.add_argument('--epochs', type=int, default=3,\n",
    "                        help='number of total epochs to run')\n",
    "    parser.add_argument('--alpha', type=float, default=0.95)\n",
    "    parser.add_argument('--seed', type=int, default=123,\n",
    "                       help='seed for initializing training')\n",
    "    parser.add_argument('--device', type=int, default=0)\n",
    "    parser.add_argument('--gpu', type=str, default='0',\t\t# Spcify the GPU for training\n",
    "                        help='gpu: default 0')\n",
    "\n",
    "    parser.add_argument('--speaker_embedding',  action=\"store_true\",\n",
    "                        help = 'Enable Speaker Embedding')\n",
    "  \n",
    "    parser.add_argument('--use_distilbert',  action=\"store_false\",\n",
    "                        help = 'Use DistilBert for German Text Encoding')\n",
    "    parser.add_argument('--balance_weight_warming',  action=\"store_false\",\n",
    "                        help = 'Use balancec weight warming for loss function')\n",
    "  \n",
    "    parser.add_argument('--emoset', type=str, default = 'emotionpush',  # Emoset to choose\n",
    "                        help = 'Emotion Training Set Name')\n",
    "    args = parser.parse_args(args=[ '--speaker_embedding','--emoset', 'emotionpush'])\n",
    "    \n",
    "        \n",
    "    return args"
   ]
  },
  {
   "cell_type": "code",
   "execution_count": 3,
   "id": "389d674e",
   "metadata": {},
   "outputs": [
    {
     "name": "stdout",
     "output_type": "stream",
     "text": [
      "Namespace(alpha=0.95, balance_weight_warming=True, batch_size=8, device=0, dropout=0.1, emoset='emotionpush', epochs=3, gpu='0', layerwise_decay=0.95, lr=2e-05, n_layers=4, projection_size=768, seed=123, speaker_embedding=True, use_distilbert=True) \n",
      "\n"
     ]
    }
   ],
   "source": [
    "args = get_args()\n",
    "print(args, '\\n')\n",
    "args.emoset = args.emoset.lower()\n",
    "assert args.emoset  in ['emorynlp', 'emotionpush', 'friends','semeval', 'friends_german',\n",
    "                        'emotionpush_german', 'emorynlp_german', 'semeval_german']\n",
    "if args.emoset == 'semeval':\n",
    "    args.speaker_embedding = False \n",
    "\n",
    "if not args.emoset == 'semeval':\n",
    "    args.batch_size = 1\n",
    "    \n",
    "if args.emoset not in ['friends_german', 'emotionpush_german', 'emorynlp_german']:\n",
    "    args.use_distilbert = False\n",
    "    \n",
    "pd.options.display.max_seq_items = 500\n",
    "np.set_printoptions(threshold=500)\n",
    "\n",
    "if args.emoset == 'friends' or args.emoset == 'friends_german':\n",
    "        args.max_seq_len = 40\n",
    "        args.balance_weight_warming =False\n",
    "elif args.emoset == 'emotionpush' or args.emoset == 'emotionpush_german':\n",
    "    args.max_seq_len = 35\n",
    "    args.balance_weight_warming =False\n",
    "elif args.emoset == 'emorynlp' or args.emoset == 'emorynlp_german':\n",
    "    args.max_seq_len = 30\n",
    "    args.balance_weight_warming =True\n",
    "if args.emoset == 'semeval' or args.emoset == 'semeval_german':\n",
    "    args.max_seq_len = 25\n",
    "    args.balance_weight_warming =True"
   ]
  },
  {
   "cell_type": "markdown",
   "id": "fe6bb8ae",
   "metadata": {},
   "source": [
    "## Set Environment Variables Like Random Seed, Cuda Device , Coloring Scheme"
   ]
  },
  {
   "cell_type": "code",
   "execution_count": 4,
   "id": "a367d70c",
   "metadata": {},
   "outputs": [
    {
     "name": "stderr",
     "output_type": "stream",
     "text": [
      "Global seed set to 42\n"
     ]
    },
    {
     "name": "stdout",
     "output_type": "stream",
     "text": [
      "Args.device = cuda:0\n"
     ]
    }
   ],
   "source": [
    "# Set the seed for deterministic behavior\n",
    "seed = args.seed\n",
    "random.seed(seed)\n",
    "np.random.seed(seed)\n",
    "torch.manual_seed(seed)\n",
    "torch.cuda.manual_seed(seed)\n",
    "torch.backends.cudnn.deterministic = True\n",
    "seed_everything(42, workers=True)\n",
    "\n",
    "# Set cuda device\n",
    "device = torch.device(\"cuda:{}\".format(int(args.gpu)) if torch.cuda.is_available() else \"cpu\")\n",
    "args.device = device\n",
    "print('Args.device = {}'.format(args.device))\n",
    "\n",
    "sns.set(style='whitegrid', palette='muted', font_scale=1.2)\n",
    "HAPPY_COLORS_PALETTE = [\"#01BEFE\", \"#FFDD00\", \"#FF7D00\", \"#FF006D\", \"#ADFF02\", \"#8F00FF\"]\n",
    "sns.set_palette(sns.color_palette(HAPPY_COLORS_PALETTE))\n",
    "rcParams['figure.figsize'] = 12, 8\n",
    "\n"
   ]
  },
  {
   "cell_type": "markdown",
   "id": "a12c768d",
   "metadata": {},
   "source": [
    "# Read Dataset CSV Files"
   ]
  },
  {
   "cell_type": "code",
   "execution_count": 5,
   "id": "9e3ebf43",
   "metadata": {},
   "outputs": [],
   "source": [
    "'''\n",
    "  Create Pandas Dataframe from EmoryNLP Dataset Json Files\n",
    "  Parameters\n",
    "    ----------\n",
    "    Data : Json File \n",
    "        Json File containing Train/Val/Test Data\n",
    "    Column_list : Python List\n",
    "        Column list for the created dataframe    \n",
    "    Returns\n",
    "    -------\n",
    "   df: Pandas Dataframe\n",
    "'''\n",
    "\n",
    "def create_df_emorynlp(data, column_list):\n",
    "    df = pd.DataFrame(columns = column_list)\n",
    "    dialogue_idx = 0\n",
    "    episode_idx = 0\n",
    "    for episode in data['episodes']:\n",
    "        scenes = episode['scenes']\n",
    "        for i in range(len(scenes)):\n",
    "            for j in range(len(scenes[i]['utterances'])):\n",
    "                df2 = pd.DataFrame([[dialogue_idx, scenes[i]['utterances'][j]['transcript'] , scenes[i]['utterances'][j]['speakers'][0], len(scenes[i]['utterances'][j]['transcript'].split()), scenes[i]['utterances'][j]['emotion'].lower() ]], columns = column_list)\n",
    "                df = df.append(df2, ignore_index=True)\n",
    "            dialogue_idx += 1\n",
    "                    \n",
    "        episode_idx = episode_idx+1\n",
    "        \n",
    "    return df\n",
    "\n",
    "'''\n",
    "  Create Pandas Dataframe from Friends/EmotionPush Dataset Json Files\n",
    "   Parameters\n",
    "    ----------\n",
    "    Data : Json File \n",
    "        Json File containing Train/Val/Test Data\n",
    "    Column_list : Python List\n",
    "        Column list for the created dataframe    \n",
    "    Returns\n",
    "    -------\n",
    "   df: Pandas Dataframe\n",
    "'''\n",
    "def create_df_friends(data, column_list):\n",
    "    df = pd.DataFrame(columns = column_list)\n",
    "    dialogue_idx = 0\n",
    "    for dialog in data:\n",
    "        for utter in dialog:\n",
    "            df2 = pd.DataFrame([[dialogue_idx, utter['utterance'], utter['speaker'], len(utter['utterance'].split()), utter['emotion'].lower() ]], columns = column_list)\n",
    "            df = df.append(df2, ignore_index=True)\n",
    "        dialogue_idx += 1\n",
    "\n",
    "    return df\n",
    "\n",
    "def create_df(data, emoset):\n",
    "    column_list = list(('dialogue_id', 'utterance', 'speaker','utterance_len', 'label'))\n",
    "    if emoset == 'emorynlp':\n",
    "        df=  create_df_emorynlp(data, column_list)\n",
    "    elif emoset == 'friends' or emoset == 'emotionpush':\n",
    "        df = create_df_friends(data, column_list)\n",
    "     \n",
    "    return df\n",
    "\n",
    "'''\n",
    "  Create Pandas Dataframe for Train, Validation and Test Data from Dataset Json Files\n",
    "  \n",
    "'''\n",
    "def load_df(args):\n",
    "    \n",
    "    if args.emoset == 'emorynlp':\n",
    "        print('Creating Training/Val/Test Dataframesfor EmoryNLP Dataset')\n",
    "        train_path = '../data/EmoryNLP/English/emotion-detection-trn.json'\n",
    "        val_path = '../data/EmoryNLP/English/emotion-detection-dev.json'\n",
    "        test_path = '../data/EmoryNLP/English/emotion-detection-tst.json'\n",
    "        \n",
    "    elif args.emoset == 'emorynlp_german':\n",
    "        print('Creating Training/Val/Test Dataframesfor EmoryNLP German Dataset')\n",
    "        train_path = '../data/EmoryNLP/German/emorynlp_train_de.csv'\n",
    "        val_path = '../data/EmoryNLP/German/emorynlp_val_de.csv'\n",
    "        test_path = '../data/EmoryNLP/German/emorynlp_test_de.csv'\n",
    "\n",
    "    elif  args.emoset == 'friends': \n",
    "        print('Creating Training/Val/Test Dataframes for Friends Dataset')\n",
    "        train_path = '../data/Friends/Friends_English/friends.train.json'\n",
    "        val_path = '../data/Friends/Friends_English/friends.dev.json'\n",
    "        test_path = '../data/Friends/Friends_English/friends.test.json'\n",
    "    elif args.emoset == 'friends_german':\n",
    "        print('Creating Training/Val/Test Dataframes for Friends German Dataset')\n",
    "        train_path = '../data/Friends/Friends_German/friends_train_de.csv'\n",
    "        val_path = '../data/Friends/Friends_German/friends_val_de.csv'\n",
    "        test_path = '../data/Friends/Friends_German/friends_test_de.csv'\n",
    "        \n",
    "    elif  args.emoset == 'emotionpush':\n",
    "        print('Creating Training/Val/Test Dataframes for EmotionPush Dataset')\n",
    "        train_path = '../data/Emotionpush/English/emotionpush.train.json'\n",
    "        val_path =   '../data/Emotionpush/English/emotionpush.dev.json'\n",
    "        test_path =  '../data/Emotionpush/English/emotionpush.test.json'\n",
    "    \n",
    "    elif args.emoset == 'emotionpush_german':\n",
    "        print('Creating Training/Val/Test Dataframes for Emotionpush German Dataset')\n",
    "        train_path = '../data/Emotionpush/German/emotionpush_train_de.csv'\n",
    "        val_path =   '../data/Emotionpush/German/emotionpush_val_de.csv'\n",
    "        test_path =  '../data/Emotionpush/German/emotionpush_test_de.csv'\n",
    "          \n",
    "    else:\n",
    "        print('Creating Training/Val/Test Dataframes for Semeval Dataset')\n",
    "        train_path = '../data/clean_train.txt'\n",
    "        val_path = '../data/clean_val.txt'\n",
    "        test_path = '../data/clean_test.txt'\n",
    "\n",
    "    if args.emoset in ['friends', 'emotionpush', 'emorynlp'] :\n",
    "        with open(train_path, encoding='utf-8') as data_file:\n",
    "            train_json = json.loads(data_file.read())\n",
    "        \n",
    "        with open(val_path, encoding='utf-8') as data_file:\n",
    "            val_json = json.loads(data_file.read())\n",
    "        \n",
    "        with open(test_path, encoding='utf-8') as data_file:\n",
    "            test_json = json.loads(data_file.read())\n",
    "        \n",
    "        df_train = create_df(train_json, args.emoset)\n",
    "        df_val = create_df(val_json,  args.emoset)       \n",
    "        df_test = create_df(test_json,  args.emoset) \n",
    "    elif args.emoset == 'semeval':\n",
    "        df_train = pd.read_csv(train_path, delimiter='\\t', index_col='id')\n",
    "        df_val =  pd.read_csv(val_path, delimiter='\\t', index_col='id')    \n",
    "        df_test = pd.read_csv(test_path, delimiter='\\t', index_col='id')\n",
    "       \n",
    "    else:\n",
    "        df_train = pd.read_csv(train_path)\n",
    "        df_val =  pd.read_csv(val_path)    \n",
    "        df_test = pd.read_csv(test_path)\n",
    "        df_train = df_train.dropna()\n",
    "        df_val = df_val.dropna()\n",
    "        df_test = df_test.dropna()\n",
    "        col_dict = {'emotion': 'label'}   ## key→old name, value→new name\n",
    "        df_train.columns = [col_dict.get(x, x) if x in col_dict.keys() else x  for x in df_train.columns]\n",
    "        df_val.columns = [col_dict.get(x, x) if x in col_dict.keys() else x  for x in df_val.columns]\n",
    "        df_test.columns = [col_dict.get(x, x) if x in col_dict.keys() else x  for x in df_test.columns]\n",
    "        #df_train.rename(columns={'emotion':'label'}, inplace=True)\n",
    "        df_train['utterance_len'] = df_train[['utterance_de_deepl']].applymap(lambda x: len(x.split()))\n",
    "        df_val['utterance_len'] = df_val[['utterance_de_deepl']].applymap(lambda x: len(x.split()))\n",
    "        df_test['utterance_len'] = df_test[['utterance_de_deepl']].applymap(lambda x: len(x.split()))\n",
    "                \n",
    "    return (df_train, df_val, df_test)\n",
    "    "
   ]
  },
  {
   "cell_type": "markdown",
   "id": "aa8bc85e",
   "metadata": {},
   "source": [
    "# Load Datasets"
   ]
  },
  {
   "cell_type": "code",
   "execution_count": 6,
   "id": "e3a03edb",
   "metadata": {},
   "outputs": [
    {
     "name": "stdout",
     "output_type": "stream",
     "text": [
      "Creating Training/Val/Test Dataframes for EmotionPush Dataset\n"
     ]
    }
   ],
   "source": [
    "\n",
    "(df_train, df_val, df_test)  = load_df(args)   "
   ]
  },
  {
   "cell_type": "code",
   "execution_count": 7,
   "id": "1b660e4d",
   "metadata": {},
   "outputs": [
    {
     "data": {
      "text/html": [
       "<div>\n",
       "<style scoped>\n",
       "    .dataframe tbody tr th:only-of-type {\n",
       "        vertical-align: middle;\n",
       "    }\n",
       "\n",
       "    .dataframe tbody tr th {\n",
       "        vertical-align: top;\n",
       "    }\n",
       "\n",
       "    .dataframe thead th {\n",
       "        text-align: right;\n",
       "    }\n",
       "</style>\n",
       "<table border=\"1\" class=\"dataframe\">\n",
       "  <thead>\n",
       "    <tr style=\"text-align: right;\">\n",
       "      <th></th>\n",
       "      <th>dialogue_id</th>\n",
       "      <th>utterance</th>\n",
       "      <th>speaker</th>\n",
       "      <th>utterance_len</th>\n",
       "      <th>label</th>\n",
       "    </tr>\n",
       "  </thead>\n",
       "  <tbody>\n",
       "    <tr>\n",
       "      <th>0</th>\n",
       "      <td>0</td>\n",
       "      <td>Sorry to bother you but do you have the 270 te...</td>\n",
       "      <td>100000497930502</td>\n",
       "      <td>11</td>\n",
       "      <td>neutral</td>\n",
       "    </tr>\n",
       "    <tr>\n",
       "      <th>1</th>\n",
       "      <td>0</td>\n",
       "      <td>What's it called</td>\n",
       "      <td>100000222851837</td>\n",
       "      <td>3</td>\n",
       "      <td>neutral</td>\n",
       "    </tr>\n",
       "    <tr>\n",
       "      <th>2</th>\n",
       "      <td>0</td>\n",
       "      <td>Digital design and principles I think</td>\n",
       "      <td>100000497930502</td>\n",
       "      <td>6</td>\n",
       "      <td>neutral</td>\n",
       "    </tr>\n",
       "    <tr>\n",
       "      <th>3</th>\n",
       "      <td>0</td>\n",
       "      <td>I don't think so?</td>\n",
       "      <td>100000222851837</td>\n",
       "      <td>4</td>\n",
       "      <td>neutral</td>\n",
       "    </tr>\n",
       "    <tr>\n",
       "      <th>4</th>\n",
       "      <td>0</td>\n",
       "      <td>I could be wrong</td>\n",
       "      <td>100000222851837</td>\n",
       "      <td>4</td>\n",
       "      <td>neutral</td>\n",
       "    </tr>\n",
       "    <tr>\n",
       "      <th>...</th>\n",
       "      <td>...</td>\n",
       "      <td>...</td>\n",
       "      <td>...</td>\n",
       "      <td>...</td>\n",
       "      <td>...</td>\n",
       "    </tr>\n",
       "    <tr>\n",
       "      <th>10728</th>\n",
       "      <td>719</td>\n",
       "      <td>It's Young Money</td>\n",
       "      <td>100001916687499</td>\n",
       "      <td>3</td>\n",
       "      <td>neutral</td>\n",
       "    </tr>\n",
       "    <tr>\n",
       "      <th>10729</th>\n",
       "      <td>719</td>\n",
       "      <td>Oh I was looking down near the 73s</td>\n",
       "      <td>100000218198096</td>\n",
       "      <td>8</td>\n",
       "      <td>surprise</td>\n",
       "    </tr>\n",
       "    <tr>\n",
       "      <th>10730</th>\n",
       "      <td>719</td>\n",
       "      <td>You're at 86</td>\n",
       "      <td>100000218198096</td>\n",
       "      <td>3</td>\n",
       "      <td>neutral</td>\n",
       "    </tr>\n",
       "    <tr>\n",
       "      <th>10731</th>\n",
       "      <td>719</td>\n",
       "      <td>Yea but idk if the 15% you get off for handing...</td>\n",
       "      <td>100001916687499</td>\n",
       "      <td>19</td>\n",
       "      <td>neutral</td>\n",
       "    </tr>\n",
       "    <tr>\n",
       "      <th>10732</th>\n",
       "      <td>719</td>\n",
       "      <td>I don't think it does</td>\n",
       "      <td>100000218198096</td>\n",
       "      <td>5</td>\n",
       "      <td>neutral</td>\n",
       "    </tr>\n",
       "  </tbody>\n",
       "</table>\n",
       "<p>10733 rows × 5 columns</p>\n",
       "</div>"
      ],
      "text/plain": [
       "      dialogue_id                                          utterance  \\\n",
       "0               0  Sorry to bother you but do you have the 270 te...   \n",
       "1               0                                   What's it called   \n",
       "2               0              Digital design and principles I think   \n",
       "3               0                                  I don't think so?   \n",
       "4               0                                   I could be wrong   \n",
       "...           ...                                                ...   \n",
       "10728         719                                   It's Young Money   \n",
       "10729         719                 Oh I was looking down near the 73s   \n",
       "10730         719                                       You're at 86   \n",
       "10731         719  Yea but idk if the 15% you get off for handing...   \n",
       "10732         719                              I don't think it does   \n",
       "\n",
       "               speaker utterance_len     label  \n",
       "0      100000497930502            11   neutral  \n",
       "1      100000222851837             3   neutral  \n",
       "2      100000497930502             6   neutral  \n",
       "3      100000222851837             4   neutral  \n",
       "4      100000222851837             4   neutral  \n",
       "...                ...           ...       ...  \n",
       "10728  100001916687499             3   neutral  \n",
       "10729  100000218198096             8  surprise  \n",
       "10730  100000218198096             3   neutral  \n",
       "10731  100001916687499            19   neutral  \n",
       "10732  100000218198096             5   neutral  \n",
       "\n",
       "[10733 rows x 5 columns]"
      ]
     },
     "execution_count": 7,
     "metadata": {},
     "output_type": "execute_result"
    }
   ],
   "source": [
    "df_train"
   ]
  },
  {
   "cell_type": "markdown",
   "id": "3fac1d95",
   "metadata": {},
   "source": [
    "### We define 3 set of dictionaries\n",
    "- emodict : Enumerate the emotions present in the dataset\n",
    "- focus_dict : Enumerate the smaller subset of emotions that we want to focus on\n",
    "- sentiment dict : Enumerate the sentiment associated with the emotion\n",
    "\n",
    "For EmoryNLP Dataset, we train the model to learn all 7 emotions present in the dataset."
   ]
  },
  {
   "cell_type": "code",
   "execution_count": 8,
   "id": "e647bef1",
   "metadata": {},
   "outputs": [
    {
     "name": "stdout",
     "output_type": "stream",
     "text": [
      "Emotion Mapping {'neutral': 0, 'sadness': 1, 'anger': 2, 'joy': 3, 'non-neutral': 4, 'surprise': 5, 'fear': 6, 'disgust': 7}\n",
      "Focus Emotion ['neutral', 'sadness', 'anger', 'joy']\n",
      "Emotion Label Distribution in Training Set {'neutral': 7148, 'sadness': 389, 'anger': 94, 'joy': 1482, 'non-neutral': 1064, 'surprise': 435, 'fear': 36, 'disgust': 85}\n",
      "Emotion Label Distribution in Validation Set {'neutral': 825, 'sadness': 38, 'anger': 9, 'joy': 160, 'non-neutral': 121, 'surprise': 39, 'fear': 4, 'disgust': 6}\n",
      "Emotion Label Distribution in Test Set {'neutral': 1882, 'sadness': 87, 'anger': 37, 'joy': 458, 'non-neutral': 233, 'surprise': 93, 'fear': 2, 'disgust': 15}\n"
     ]
    }
   ],
   "source": [
    "if args.emoset == 'emorynlp' or args.emoset == 'emorynlp_german':\n",
    "    emo_dict= {'neutral': 0, 'sad': 1, 'mad':2, 'joyful':3, 'peaceful':4,'powerful':5, 'scared':6}\n",
    "    focus_dict = ['neutral', 'sad', 'mad', 'joyful', 'peaceful', 'powerful', 'scared']\n",
    "    sentiment_dict = {'neutral': 0, 'sad': 1, 'mad':1, 'joyful':2, 'peaceful':2,'powerful':2, 'scared':1}\n",
    "elif args.emoset == 'friends' or args.emoset == 'friends_german':\n",
    "\n",
    "    emo_dict = {'neutral': 0, 'sadness': 1, 'anger':2, 'joy':3, 'non-neutral':4,'surprise':5, 'fear':6, 'disgust':7}\n",
    "    focus_dict = ['neutral', 'sadness', 'anger', 'joy']\n",
    "    sentiment_dict = {'neutral': 0, 'sadness': 1, 'anger':1, 'joy':2, 'non-neutral':0, 'surprise':2,'fear':1, 'disgust':1}\n",
    "elif args.emoset == 'emotionpush' or args.emoset == 'emotionpush_german':\n",
    "  \n",
    "    emo_dict = {'neutral': 0, 'sadness': 1, 'anger':2, 'joy':3, 'non-neutral':4,'surprise':5, 'fear':6, 'disgust':7}\n",
    "    focus_dict = ['neutral', 'sadness', 'anger', 'joy']\n",
    "    sentiment_dict = {'neutral': 0, 'sadness': 1, 'anger':1, 'joy':2, 'non-neutral':0, 'surprise':2,'fear':1, 'disgust':1}\n",
    "elif args.emoset == 'semeval':\n",
    "\n",
    "    emo_dict = {'others': 0, 'sad': 1, 'angry':2, 'happy':3}\n",
    "    focus_dict = ['sad', 'angry', 'happy']\n",
    "    sentiment_dict = {'others': 0, 'sad': 1, 'angry':1, 'happy':2}\n",
    "\n",
    "    \n",
    "print('Emotion Mapping {}'.format(emo_dict))\n",
    "print('Focus Emotion {}'.format(focus_dict))\n",
    "emo_count = {}\n",
    "for emo in emo_dict.keys():\n",
    "        emo_count[emo] =df_train['label'].value_counts()[emo]\n",
    "print('Emotion Label Distribution in Training Set {}'.format(emo_count))\n",
    "\n",
    "emo_count = {}\n",
    "for emo in emo_dict.keys():\n",
    "        emo_count[emo] =df_val['label'].value_counts()[emo]\n",
    "print('Emotion Label Distribution in Validation Set {}'.format(emo_count))\n",
    "emo_count = {}\n",
    "for emo in emo_dict.keys():\n",
    "    emo_count[emo] =df_test['label'].value_counts()[emo]\n",
    "print('Emotion Label Distribution in Test Set {}'.format(emo_count))"
   ]
  },
  {
   "cell_type": "markdown",
   "id": "2e2fe082",
   "metadata": {},
   "source": [
    "#  Number of Dialogues in Training and Evaluation Sets"
   ]
  },
  {
   "cell_type": "code",
   "execution_count": 47,
   "id": "8ede9fc5",
   "metadata": {},
   "outputs": [
    {
     "name": "stdout",
     "output_type": "stream",
     "text": [
      "720 80 200\n"
     ]
    }
   ],
   "source": [
    "if not args.emoset == 'semeval':\n",
    "    print ( '{} {} {}' .format(len(df_train['dialogue_id'].unique()), len(df_val['dialogue_id'].unique()), len(df_test['dialogue_id'].unique())))"
   ]
  },
  {
   "cell_type": "markdown",
   "id": "598a8d51",
   "metadata": {},
   "source": [
    "#  Number of utterances in Training and Evaluation Sets"
   ]
  },
  {
   "cell_type": "code",
   "execution_count": 48,
   "id": "1c33caa0",
   "metadata": {},
   "outputs": [
    {
     "data": {
      "text/plain": [
       "(10733, 1202, 2807)"
      ]
     },
     "execution_count": 48,
     "metadata": {},
     "output_type": "execute_result"
    }
   ],
   "source": [
    "df_train.shape[0], df_val.shape[0], df_test.shape[0]"
   ]
  },
  {
   "cell_type": "code",
   "execution_count": 21,
   "id": "ba4d1377",
   "metadata": {
    "scrolled": true
   },
   "outputs": [
    {
     "name": "stdout",
     "output_type": "stream",
     "text": [
      "<class 'pandas.core.frame.DataFrame'>\n",
      "RangeIndex: 10733 entries, 0 to 10732\n",
      "Data columns (total 5 columns):\n",
      " #   Column         Non-Null Count  Dtype \n",
      "---  ------         --------------  ----- \n",
      " 0   dialogue_id    10733 non-null  object\n",
      " 1   utterance      10733 non-null  object\n",
      " 2   speaker        10733 non-null  object\n",
      " 3   utterance_len  10733 non-null  object\n",
      " 4   label          10733 non-null  object\n",
      "dtypes: object(5)\n",
      "memory usage: 419.4+ KB\n"
     ]
    }
   ],
   "source": [
    "df_train.info()"
   ]
  },
  {
   "cell_type": "markdown",
   "id": "3ceb9583",
   "metadata": {},
   "source": [
    "##  Comparison of class distribution in Training vs Evaluation data sets\n",
    "\n",
    "| Emotion | Neutral | Sad | Anger(Mad) | Joy | Non-neutral | disgust | fear| surprise| # |\n",
    "| :-: | :-: | :-: | :-: | :-: | :-: | :-: | :-: | :-: |:-: |\n",
    "| Train | 7148 |389 | 94| 1482|1064 |85 | 36| 435| 10733|\n",
    "| Dev | 825 |38 | 9| 160|121 |6 | 4| 39|1202|\n",
    "| Test | 1882 |87 | 37| 458|233 |15 | 2| 93|2807|"
   ]
  },
  {
   "cell_type": "code",
   "execution_count": 22,
   "id": "175f2183",
   "metadata": {},
   "outputs": [
    {
     "data": {
      "text/plain": [
       "[Text(0, 0, 'neutral'),\n",
       " Text(1, 0, 'sadness'),\n",
       " Text(2, 0, 'anger'),\n",
       " Text(3, 0, 'joy'),\n",
       " Text(4, 0, 'non-neutral'),\n",
       " Text(5, 0, 'disgust'),\n",
       " Text(6, 0, 'fear'),\n",
       " Text(7, 0, 'surprise')]"
      ]
     },
     "execution_count": 22,
     "metadata": {},
     "output_type": "execute_result"
    },
    {
     "data": {
      "image/png": "[encoded data removed]",
      "text/plain": [
       "<Figure size 864x576 with 3 Axes>"
      ]
     },
     "metadata": {},
     "output_type": "display_data"
    }
   ],
   "source": [
    "data = [df_train['label'], df_val['label'], df_test['label']]\n",
    "columns=list(('Training', 'Validation', 'Test'))\n",
    "df_labels = pd.concat(data, axis=1, keys=columns)\n",
    "\n",
    "fig, ax =plt.subplots(1,3)\n",
    "fig.suptitle('Comparison of class distribution in Training vs Evaluation data sets', fontsize=16)\n",
    "fig.tight_layout()\n",
    "if args.emoset == 'friends' or args.emoset == 'emotionpush':\n",
    "    emotion_list = ['neutral', 'sadness', 'anger', 'joy', 'non-neutral', 'disgust', 'fear', 'surprise' ]\n",
    "elif args.emoset == 'emorynlp':\n",
    "    emotion_list = ['neutral', 'sad', 'mad', 'joyful','peaceful', 'powerful', 'scared' ]\n",
    "else:\n",
    "    emotion_list = ['happy', 'sad', 'angry', 'others']\n",
    "chart = sns.countplot(x=\"Training\",   data=df_labels, order = emotion_list, ax=ax[0])\n",
    "chart.set_xticklabels(chart.get_xticklabels(), rotation=45, horizontalalignment='right')\n",
    "chart = sns.countplot(x=\"Validation\", data=df_labels, order = emotion_list, ax=ax[1])\n",
    "chart.set_xticklabels(chart.get_xticklabels(), rotation=45, horizontalalignment='right')\n",
    "chart = sns.countplot(x=\"Test\",       data=df_labels, order = emotion_list, ax=ax[2])\n",
    "chart.set_xticklabels(chart.get_xticklabels(), rotation=45, horizontalalignment='right')"
   ]
  },
  {
   "cell_type": "markdown",
   "id": "c0630b58",
   "metadata": {},
   "source": [
    "# Scale of class imbalance is similar in Training and Evaluation data sets\n",
    "| Emotion | Neutral | Sad | Anger(Mad) | Joy | Non-neutral | disgust | fear| surprise|\n",
    "| :-: | :-: | :-: | :-: | :-: | :-: | :-: | :-: | :-: |   \n",
    "| Train | 66% | 4% |1% | 14%| 10% |1% |0% | 4%| \n",
    "| Dev | 69% | 3% |1% | 13%| 10%|1% |0% | 3%|\n",
    "| Test | 67% | 3% |1% | 16%| 9%|1% |0% | 3%|\n",
    "\n",
    "Distribution of classes is almost similar among training and eval sets"
   ]
  },
  {
   "cell_type": "code",
   "execution_count": 23,
   "id": "df0da78b",
   "metadata": {},
   "outputs": [
    {
     "data": {
      "text/plain": [
       "<matplotlib.legend.Legend at 0x18740722190>"
      ]
     },
     "execution_count": 23,
     "metadata": {},
     "output_type": "execute_result"
    },
    {
     "data": {
      "image/png": "[encoded data removed]",
      "text/plain": [
       "<Figure size 864x576 with 1 Axes>"
      ]
     },
     "metadata": {},
     "output_type": "display_data"
    }
   ],
   "source": [
    "train = pd.Series(['Training'] , ['name'])\n",
    "train = train.append(df_labels['Training'].value_counts().div(df_labels['Training'].value_counts().sum()))\n",
    "val = pd.Series(['Validation'] , ['name'])\n",
    "val = val.append(df_labels['Validation'].value_counts().div(df_labels['Validation'].value_counts().sum()))\n",
    "test = pd.Series(['Test'] , ['name'])\n",
    "test = test.append(df_labels['Test'].value_counts().div(df_labels['Test'].value_counts().sum()))\n",
    "\n",
    "df_stacked = pd.DataFrame(columns = emotion_list)\n",
    "\n",
    "df_stacked = df_stacked.append(train,ignore_index=True)\n",
    "df_stacked = df_stacked.append(val,ignore_index=True)\n",
    "df_stacked = df_stacked.append(test,ignore_index=True)\n",
    "# plot a Stacked Bar Chart using matplotlib\n",
    "df_stacked.plot(\n",
    "    x = 'name',\n",
    "    kind = 'bar',\n",
    "    stacked = True,\n",
    "    title = 'Stacked Bar Graph',\n",
    "    mark_right = False, \n",
    "    colormap='gist_rainbow'\n",
    "   ).legend(bbox_to_anchor=(1, 1))"
   ]
  },
  {
   "cell_type": "markdown",
   "id": "f9c73480",
   "metadata": {},
   "source": [
    "# Distribution of number of utterances per dialogue in Train and Evaluation Sets\n",
    "\n"
   ]
  },
  {
   "cell_type": "code",
   "execution_count": 24,
   "id": "cad60dfc",
   "metadata": {},
   "outputs": [],
   "source": [
    "train_dialogue_id_list = list((df_train['dialogue_id'].unique()))\n",
    "val_dialogue_id_list = list((df_val['dialogue_id'].unique()))\n",
    "test_dialogue_id_list = list((df_test['dialogue_id'].unique()))\n",
    "d = {\"Training\":[],\"Validation\":[],\"Test\":[] };\n",
    "for dialogue in train_dialogue_id_list:\n",
    "     d['Training'].append((df_train.dialogue_id ==dialogue).sum())\n",
    "for dialogue in val_dialogue_id_list:\n",
    "     d['Validation'].append((df_val.dialogue_id ==dialogue).sum())\n",
    "for dialogue in test_dialogue_id_list:\n",
    "     d['Test'].append((df_test.dialogue_id ==dialogue).sum())\n",
    "\n",
    "\n"
   ]
  },
  {
   "cell_type": "code",
   "execution_count": 25,
   "id": "b8e5c5c8",
   "metadata": {},
   "outputs": [
    {
     "name": "stdout",
     "output_type": "stream",
     "text": [
      "Train Set: Utterance per dialogue statistics : Min: 6, Max: 24 Avg: 14.91\n",
      "Validation Set: Utterance per dialogue statistics : Min: 6, Max: 24 Avg: 15.02\n",
      "Test Set: Utterance per dialogue statistics : Min: 5, Max: 24 Avg: 14.04\n"
     ]
    }
   ],
   "source": [
    "\n",
    "print('Train Set: Utterance per dialogue statistics : Min: {}, Max: {} Avg: {}'.format(min(d['Training']), max(d['Training']), np.round(sum(d['Training'])/len(d['Training']), 2)))\n",
    "print('Validation Set: Utterance per dialogue statistics : Min: {}, Max: {} Avg: {}'.format(min(d['Validation']), max(d['Validation']), np.round(sum(d['Validation'])/len(d['Validation']), 2)))\n",
    "print('Test Set: Utterance per dialogue statistics : Min: {}, Max: {} Avg: {}'.format(min(d['Test']), max(d['Test']), np.round(sum(d['Test'])/len(d['Test']), 2)))"
   ]
  },
  {
   "cell_type": "code",
   "execution_count": 26,
   "id": "d175a5ae",
   "metadata": {},
   "outputs": [
    {
     "data": {
      "text/plain": [
       "<AxesSubplot:title={'center':'Test'}, ylabel='Count'>"
      ]
     },
     "execution_count": 26,
     "metadata": {},
     "output_type": "execute_result"
    },
    {
     "data": {
      "image/png": "[encoded data removed]",
      "text/plain": [
       "<Figure size 864x576 with 3 Axes>"
      ]
     },
     "metadata": {},
     "output_type": "display_data"
    }
   ],
   "source": [
    "fig, ax =plt.subplots(ncols=3)\n",
    "fig.suptitle('Distribution of utterances per dialogue in Train and Evaluation Sets', fontsize=16)\n",
    "fig.tight_layout()\n",
    "bins = [0] * 3\n",
    "if args.emoset == 'friends':\n",
    "    bins[0] = 20\n",
    "    bins[1] = 20\n",
    "    bins[2] = 20\n",
    "elif args.emoset == 'emotionpush':\n",
    "    bins[0] = 19\n",
    "    bins[1] = 19\n",
    "    bins[2] = 20\n",
    "elif args.emoset == 'emorynlp':\n",
    "    bins[0] = 20\n",
    "    bins[1] = 20\n",
    "    bins[2] = 20\n",
    "\n",
    "ax[0].set_title('Training')\n",
    "ax[0].set_xlim([0, 30])\n",
    "sns.histplot(d['Training'] , ax=ax[0], bins= bins[0], stat = 'count' )\n",
    "\n",
    "ax[1].set_title('Validation')\n",
    "ax[1].set_xlim([0, 30])\n",
    "sns.histplot(d['Validation'] , ax=ax[1], bins= bins[1], stat = 'count')\n",
    "\n",
    "ax[2].set_title('Test')\n",
    "ax[2].set_xlim([0, 30])\n",
    "sns.histplot(d['Test'] , ax=ax[2], bins= bins[2], stat = 'count')\n"
   ]
  },
  {
   "cell_type": "markdown",
   "id": "c9288af9",
   "metadata": {},
   "source": [
    "# Distribution of Utterance Length in Train and Evaluation Sets\n",
    "- Length of utterances follows almost similar distribution in train and evaluation datasets\n"
   ]
  },
  {
   "cell_type": "code",
   "execution_count": 27,
   "id": "bbe8633f",
   "metadata": {},
   "outputs": [],
   "source": [
    "d = {\"Training\":[],\"Validation\":[],\"Test\":[] }\n",
    "\n",
    "if not args.emoset == 'semeval':\n",
    "    d['Training'] = list(df_train['utterance_len'].values)\n",
    "    d['Validation'] = list(df_val['utterance_len'].values)\n",
    "    d['Test'] = list(df_test['utterance_len'].values)\n",
    "else:\n",
    "    for col in ['turn1', 'turn2', 'turn3']:\n",
    "        for tokens in df_train[col]:\n",
    "            d['Training'].append(len(tokens.split()))\n",
    "        for tokens in df_val[col]:\n",
    "            d['Validation'].append(len(tokens.split()))\n",
    "        for tokens in df_test[col]:\n",
    "            d['Test'].append(len(tokens.split()))\n",
    "        "
   ]
  },
  {
   "cell_type": "markdown",
   "id": "215f1114",
   "metadata": {},
   "source": [
    "Minimum and maximum value of utterance length in train, val and test sets"
   ]
  },
  {
   "cell_type": "code",
   "execution_count": 28,
   "id": "02c20733",
   "metadata": {},
   "outputs": [
    {
     "name": "stdout",
     "output_type": "stream",
     "text": [
      "Train Set: Utterance length statistics : Min: 0, Max: 133 Avg: 5.96\n",
      "Validation Set: Utterance length statistics : Min: 1, Max: 183 Avg: 6.15\n",
      "Test Set: Utterance length statistics : Min: 0, Max: 71 Avg: 6.37\n"
     ]
    }
   ],
   "source": [
    "print('Train Set: Utterance length statistics : Min: {}, Max: {} Avg: {}'.format(min(d['Training']), max(d['Training']), np.round(sum(d['Training'])/len(d['Training']), 2)))\n",
    "print('Validation Set: Utterance length statistics : Min: {}, Max: {} Avg: {}'.format(min(d['Validation']), max(d['Validation']), np.round(sum(d['Validation'])/len(d['Validation']), 2)))\n",
    "print('Test Set: Utterance length statistics : Min: {}, Max: {} Avg: {}'.format(min(d['Test']), max(d['Test']), np.round(sum(d['Test'])/len(d['Test']), 2)))"
   ]
  },
  {
   "cell_type": "code",
   "execution_count": 29,
   "id": "da526190",
   "metadata": {},
   "outputs": [
    {
     "name": "stdout",
     "output_type": "stream",
     "text": [
      "99 percentile for Training Data 26.0\n",
      "99 percentile for Validation Data 28.0\n",
      "99 percentile for Test Data 29.0\n"
     ]
    }
   ],
   "source": [
    "print('99 percentile for Training Data {}'.format(np.percentile(np.asarray(d['Training']), 99)))\n",
    "print('99 percentile for Validation Data {}'.format(np.percentile(np.asarray(d['Validation']), 99)))\n",
    "print('99 percentile for Test Data {}'.format(np.percentile(np.asarray(d['Test']), 99)))"
   ]
  },
  {
   "cell_type": "code",
   "execution_count": 30,
   "id": "66c31dab",
   "metadata": {},
   "outputs": [
    {
     "data": {
      "image/png": "[encoded data removed]",
      "text/plain": [
       "<Figure size 864x576 with 3 Axes>"
      ]
     },
     "metadata": {},
     "output_type": "display_data"
    }
   ],
   "source": [
    "fig, ax =plt.subplots(1,3)\n",
    "fig.suptitle('Distribution of utterances length in Train and Evaluation Sets', fontsize=16)\n",
    "fig.tight_layout()\n",
    "\n",
    "if args.emoset == 'friends':\n",
    "    ax[0].set_title('Training')\n",
    "    ax[0].set_xlim([0, 40])\n",
    "    ax[0].set(xlabel='Utterance_length', ylabel='Probability')\n",
    "    ax[0].hist(d['Training'], bins = 50, density = True)\n",
    "\n",
    "    ax[1].set_title('Validation')\n",
    "    ax[1].set_xlim([0, 40])\n",
    "    ax[1].hist(d['Validation'], bins = 27, density = True)\n",
    "    ax[1].set(xlabel='Utterance_length', ylabel='Probability')\n",
    "\n",
    "\n",
    "    ax[2].set_title('Test')\n",
    "    ax[2].set_xlim([0, 40])\n",
    "    ax[2].hist(d['Test'], bins = 32, density = True)\n",
    "    ax[2].set(xlabel='Utterance_length', ylabel='Probability')\n",
    "elif args.emoset == 'emotionpush':\n",
    "    ax[0].set_title('Training')\n",
    "    ax[0].set_xlim([0, 40])\n",
    "    ax[0].set(xlabel='Utterance_length', ylabel='Probability')\n",
    "    ax[0].hist(d['Training'], bins = 125, density = True)\n",
    "\n",
    "    ax[1].set_title('Validation')\n",
    "    ax[1].set_xlim([0, 40])\n",
    "    ax[1].hist(d['Validation'], bins = 175, density = True)\n",
    "    ax[1].set(xlabel='Utterance_length', ylabel='Probability')\n",
    "\n",
    "\n",
    "    ax[2].set_title('Test')\n",
    "    ax[2].set_xlim([0, 40])\n",
    "    ax[2].hist(d['Test'], bins = 65, density = True)\n",
    "    ax[2].set(xlabel='Utterance_length', ylabel='Probability')\n",
    "elif args.emoset == 'emorynlp':\n",
    "    ax[0].set_title('Training')\n",
    "    ax[0].set_xlim([0, 60])\n",
    "    ax[0].set(xlabel='Utterance_length', ylabel='Probability')\n",
    "    ax[0].hist(d['Training'], bins = 100, density = True)\n",
    "\n",
    "    ax[1].set_title('Validation')\n",
    "    ax[1].set_xlim([0, 60])\n",
    "    ax[1].hist(d['Validation'], bins = 50, density = True)\n",
    "    ax[1].set(xlabel='Utterance_length', ylabel='Probability')\n",
    "\n",
    "\n",
    "    ax[2].set_title('Test')\n",
    "    ax[2].set_xlim([0, 60])\n",
    "    ax[2].hist(d['Test'], bins = 55, density = True)\n",
    "    ax[2].set(xlabel='Utterance_length', ylabel='Probability')"
   ]
  },
  {
   "cell_type": "markdown",
   "id": "5d82d0f0",
   "metadata": {},
   "source": [
    "### Speaker_Embedding\n",
    "Train/Validation/Test data sets have 6 prominent speakets. We can encode speaker information in two ways\n",
    " - Use one hot encoder to assign a unique value to each speaker\n",
    " - Change speaker name to unknow for any speaker outside the list of most common speakers. USe one hot encoder to encode 'First Siy Speakers' + 'Unknown'\n",
    " \n",
    "We choose the first approach."
   ]
  },
  {
   "cell_type": "code",
   "execution_count": 31,
   "id": "d7623fce",
   "metadata": {},
   "outputs": [
    {
     "data": {
      "image/png": "[encoded data removed]",
      "text/plain": [
       "<Figure size 864x576 with 3 Axes>"
      ]
     },
     "metadata": {},
     "output_type": "display_data"
    }
   ],
   "source": [
    "if not args.emoset == 'semeval':\n",
    "    fig, ax =plt.subplots(ncols=3)\n",
    "    fig.suptitle('Distribution of utterances per dialogue in Train and Evaluation Sets', fontsize=16)\n",
    "    fig.tight_layout()\n",
    "    ax[0].set_title('Training')\n",
    "    chart = sns.countplot(data=df_train, x='speaker', order=df_train.speaker.value_counts().index[0:10], ax = ax[0])\n",
    "    chart.set_xticklabels(chart.get_xticklabels(), rotation=45, horizontalalignment='right')\n",
    "\n",
    "    ax[1].set_title('Validation')\n",
    "    chart = sns.countplot(data=df_val, x='speaker', order=df_val.speaker.value_counts().index[0:10], ax = ax[1])\n",
    "    chart.set_xticklabels(chart.get_xticklabels(), rotation=45, horizontalalignment='right')\n",
    "\n",
    "    ax[2].set_title('Test')\n",
    "    chart =  sns.countplot(data=df_test, x='speaker', order=df_test.speaker.value_counts().index[0:10], ax = ax[2])\n",
    "    chart.set_xticklabels(chart.get_xticklabels(), rotation=45, horizontalalignment='right')"
   ]
  },
  {
   "cell_type": "markdown",
   "id": "800705bb",
   "metadata": {},
   "source": [
    "# Data Normalization\n",
    "\n",
    "Normalizing a natural language resource,helps in reducing the randomness in it, bringing it closer to a predefined “standard” and reducing the dimensionality of the input,\n",
    "\n",
    "We use following normalization techniques:\n",
    "\n",
    "- Removal of duplicate whitespaces and punctuation.\n",
    "- Accent removal \n",
    "- Capital letter removal \n",
    "- Removal or substitution of special characters/emojis \n",
    "- Substitution of contractions (very common in English; e.g.: ‘I’m’→‘I am’).\n",
    "- Transform word numerals into numbers (eg.: ‘fifty three’→‘53’).\n",
    "- Removal of gender/time/grade variation with Stemming or Lemmatization.\n",
    "\n"
   ]
  },
  {
   "cell_type": "code",
   "execution_count": 32,
   "id": "bea40569",
   "metadata": {},
   "outputs": [],
   "source": [
    "from symspellpy.symspellpy import SymSpell, Verbosity\n",
    "import pkg_resources\n",
    "import re, string, json\n",
    "import spacy\n",
    "from tqdm.notebook import tqdm\n",
    "\n",
    "def simplify_punctuation_and_whitespace(sentence_list):\n",
    "    norm_sents = []\n",
    "    print(\"Normalizing whitespaces and punctuation\")\n",
    "    for sentence in tqdm(sentence_list):\n",
    "        sent = _replace_urls(sentence)\n",
    "        sent = _simplify_punctuation(sentence)\n",
    "        sent = _normalize_whitespace(sent)\n",
    "        norm_sents.append(sent)\n",
    "    return norm_sents\n",
    "\n",
    "def _replace_urls(text):\n",
    "    url_regex = r'(https?:\\/\\/(?:www\\.|(?!www))[a-zA-Z0-9][a-zA-Z0-9-]+[a-zA-Z0-9]\\.[^\\s]{2,}|www\\.[a-zA-Z0-9][a-zA-Z0-9-]+[a-zA-Z0-9]\\.[^\\s]{2,}|https?:\\/\\/(?:www\\.|(?!www))[a-zA-Z0-9]+\\.[^\\s]{2,}|www\\.[a-zA-Z0-9]+\\.[^\\s]{2,})'\n",
    "    text = re.sub(url_regex, \"<URL>\", text)\n",
    "    return text\n",
    "\n",
    "def _simplify_punctuation(text):\n",
    "    \"\"\"\n",
    "    This function simplifies doubled or more complex punctuation. The exception is '...'.\n",
    "    \"\"\"\n",
    "    corrected = str(text)\n",
    "    corrected = re.sub(r'([!?,;])\\1+', r'\\1', corrected)\n",
    "    corrected = re.sub(r'\\.{2,}', r'...', corrected)\n",
    "    return corrected\n",
    "\n",
    "def _normalize_whitespace(text):\n",
    "    \"\"\"\n",
    "    This function normalizes whitespaces, removing duplicates.\n",
    "    \"\"\"\n",
    "    corrected = str(text)\n",
    "    corrected = re.sub(r\"//t\",r\"\\t\", corrected)\n",
    "    corrected = re.sub(r\"( )\\1+\",r\"\\1\", corrected)\n",
    "    corrected = re.sub(r\"(\\n)\\1+\",r\"\\1\", corrected)\n",
    "    corrected = re.sub(r\"(\\r)\\1+\",r\"\\1\", corrected)\n",
    "    corrected = re.sub(r\"(\\t)\\1+\",r\"\\1\", corrected)\n",
    "    return corrected.strip(\" \")\n",
    "\n",
    "def normalize_contractions(sentence_list):\n",
    "    contraction_list = json.loads(open('english_contractions.json', 'r').read())\n",
    "    norm_sents = []\n",
    "    print(\"Normalizing contractions\")\n",
    "    for sentence in tqdm(sentence_list):\n",
    "        norm_sents.append(_normalize_contractions_text(sentence, contraction_list))\n",
    "    return norm_sents\n",
    "\n",
    "def _normalize_contractions_text(text, contractions):\n",
    "    \"\"\"\n",
    "    This function normalizes english contractions.\n",
    "    \"\"\"\n",
    "    new_token_list = []\n",
    "    token_list = text.split()\n",
    "    for word_pos in range(len(token_list)):\n",
    "        word = token_list[word_pos]\n",
    "        first_upper = False\n",
    "        if word[0].isupper():\n",
    "            first_upper = True\n",
    "        if word.lower() in contractions:\n",
    "            replacement = contractions[word.lower()]\n",
    "            if first_upper:\n",
    "                replacement = replacement[0].upper()+replacement[1:]\n",
    "            replacement_tokens = replacement.split()\n",
    "            if len(replacement_tokens)>1:\n",
    "                new_token_list.append(replacement_tokens[0])\n",
    "                new_token_list.append(replacement_tokens[1])\n",
    "            else:\n",
    "                new_token_list.append(replacement_tokens[0])\n",
    "        else:\n",
    "            new_token_list.append(word)\n",
    "    sentence = \" \".join(new_token_list).strip(\" \")\n",
    "    return sentence\n",
    "\n",
    "def spell_correction(sentence_list):\n",
    "    max_edit_distance_dictionary= 3\n",
    "    prefix_length = 4\n",
    "    spellchecker = SymSpell(max_edit_distance_dictionary, prefix_length)\n",
    "    dictionary_path = pkg_resources.resource_filename(\n",
    "        \"symspellpy\", \"frequency_dictionary_en_82_765.txt\")\n",
    "    bigram_path = pkg_resources.resource_filename(\n",
    "        \"symspellpy\", \"frequency_bigramdictionary_en_243_342.txt\")\n",
    "    spellchecker.load_dictionary(dictionary_path, term_index=0, count_index=1)\n",
    "    spellchecker.load_bigram_dictionary(dictionary_path, term_index=0, count_index=2)\n",
    "    norm_sents = []\n",
    "    print(\"Spell correcting\")\n",
    "    for sentence in tqdm(sentence_list):\n",
    "        norm_sents.append(_spell_correction_text(sentence, spellchecker))\n",
    "    return norm_sents\n",
    "\n",
    "def _spell_correction_text(text, spellchecker):\n",
    "    \"\"\"\n",
    "    This function does very simple spell correction normalization using pyspellchecker module. It works over a tokenized sentence and only the token representations are changed.\n",
    "    \"\"\"\n",
    "    if len(text) < 1:\n",
    "        return \"\"\n",
    "    #Spell checker config\n",
    "    max_edit_distance_lookup = 2\n",
    "    suggestion_verbosity = Verbosity.TOP # TOP, CLOSEST, ALL\n",
    "    #End of Spell checker config\n",
    "    token_list = text.split()\n",
    "    for word_pos in range(len(token_list)):\n",
    "        word = token_list[word_pos]\n",
    "        if word is None:\n",
    "            token_list[word_pos] = \"\"\n",
    "            continue\n",
    "        if not '\\n' in word and word not in string.punctuation and not is_numeric(word) and not (word.lower() in spellchecker.words.keys()):\n",
    "            suggestions = spellchecker.lookup(word.lower(), suggestion_verbosity, max_edit_distance_lookup)\n",
    "            #Checks first uppercase to conserve the case.\n",
    "            upperfirst = word[0].isupper()\n",
    "            #Checks for correction suggestions.\n",
    "            if len(suggestions) > 0:\n",
    "                correction = suggestions[0].term\n",
    "                replacement = correction\n",
    "            #We call our _reduce_exaggerations function if no suggestion is found. Maybe there are repeated chars.\n",
    "            else:\n",
    "                replacement = _reduce_exaggerations(word)\n",
    "            #Takes the case back to the word.\n",
    "            if upperfirst:\n",
    "                replacement = replacement[0].upper()+replacement[1:]\n",
    "            word = replacement\n",
    "            token_list[word_pos] = word\n",
    "    return \" \".join(token_list).strip()\n",
    "\n",
    "def _reduce_exaggerations(text):\n",
    "    \"\"\"\n",
    "    Auxiliary function to help with exxagerated words.\n",
    "    Examples:\n",
    "        woooooords -> words\n",
    "        yaaaaaaaaaaaaaaay -> yay\n",
    "    \"\"\"\n",
    "    correction = str(text)\n",
    "    #TODO work on complexity reduction.\n",
    "    return re.sub(r'([\\w])\\1+', r'\\1', correction)\n",
    "\n",
    "def is_numeric(text):\n",
    "    for char in text:\n",
    "        if not (char in \"0123456789\" or char in \",%.$\"):\n",
    "            return False\n",
    "    return True\n",
    "\n",
    "def lemmatize(sentence_list):\n",
    "    new_norm=[]\n",
    "    print(\"Lemmatizing Sentences\")\n",
    "    for sentence in tqdm(sentence_list):\n",
    "        new_norm.append(_lemmatize_text(sentence, nlp).strip())\n",
    "    return new_norm\n",
    "\n",
    "def _lemmatize_text(sentence, nlp):\n",
    "    sent = \"\"\n",
    "    doc = nlp(sentence)\n",
    "    for token in doc:\n",
    "        if '@' in token.text:\n",
    "            sent+=\" @MENTION\"\n",
    "        elif '#' in token.text:\n",
    "            sent+= \" #HASHTAG\"\n",
    "        else:\n",
    "            sent+=\" \"+token.lemma_\n",
    "    return sent\n",
    "\n",
    "def basic_string_manipulation(text):\n",
    "    text = re.sub(r'[,;:?!-\\(\\)\\[\\].]+',' \\g<0> ', text)\n",
    "    return text\n",
    "\n",
    "def count_num_tokens(text):\n",
    "    tokens = text.split()\n",
    "    return len(tokens)\n",
    "\n",
    "def generate_dict_from_text(text):\n",
    "    tokens = text.split()\n",
    "    word_freq_dic= {}\n",
    "    for token in tokens:\n",
    "        word_freq_dic[token]= word_freq_dic.get(token, 1)+1\n",
    "    return word_freq_dic\n",
    "\n",
    "def num_distinct_tokens(text):\n",
    "    tokens = text.split()\n",
    "    dist_tokens = set()\n",
    "    for token in tokens:\n",
    "        dist_tokens.add(token)\n",
    "    return len(dist_tokens)\n",
    "\n",
    "def common_tokens(text, common_list):\n",
    "    tokens = text.split()\n",
    "    common_token_num = 0\n",
    "    for token in tokens:\n",
    "        if token in common_list:\n",
    "            common_token_num+=1\n",
    "    return common_token_num\n",
    "\n",
    "def get_most_used_tokens(token_dict):\n",
    "    #uses the 20-80 rule, where 20% of the words usually correspond to 80% of the total number of words.\n",
    "    total_num_words = sum(token_dict.values())\n",
    "    most_used = []\n",
    "    total_most_used = 0\n",
    "    word_iterator = iter(sorted(token_dict.items(), key=lambda x: x[1], reverse=True))\n",
    "    while total_most_used < total_num_words*0.8:\n",
    "        word_tuple = next(word_iterator)\n",
    "        most_used.append(word_tuple[0])\n",
    "        total_most_used+=word_tuple[1]\n",
    "    return most_used\n",
    "\n",
    "def normalization_pipeline(sentences):\n",
    "    print(\"##############################\")\n",
    "    print(\"Starting Normalization Process\")\n",
    "    sentences = simplify_punctuation_and_whitespace(sentences)\n",
    "    #sentences = normalize_contractions(sentences)\n",
    "    #sentences = spell_correction(sentences)\n",
    "    #sentences = lemmatize(sentences)\n",
    "    print(\"Normalization Process Finished\")\n",
    "    print(\"##############################\")\n",
    "    return sentences\n",
    "\n",
    "def text_preprocess(df):\n",
    "    unormalized = list(df.utterance.values)\n",
    "    normalized = normalization_pipeline(unormalized)\n",
    "    unorm_df = pd.DataFrame(columns=['Text'], data=unormalized)\n",
    "    norm_df = pd.DataFrame(columns=['Text'], data=normalized)\n",
    "    unorm_df['Preprocessed'] = unorm_df['Text'].apply(lambda x: basic_string_manipulation(x))\n",
    "    norm_df['Preprocessed'] = norm_df['Text'].apply(lambda x: basic_string_manipulation(x))\n",
    "    norm_df['Size_in_Tokens']=unorm_df['Text'].apply(lambda x: count_num_tokens(x))\n",
    "    df['utterance'] = norm_df['Text']\n",
    "    df['utterance_len'] = norm_df['Size_in_Tokens']\n",
    "    return df"
   ]
  },
  {
   "cell_type": "markdown",
   "id": "0a8d29f2",
   "metadata": {},
   "source": [
    "We saw that doing any kind of preprocessing on text results in compartitively poorer performance. So we comment out this part of the code. \n",
    "\n"
   ]
  },
  {
   "cell_type": "code",
   "execution_count": 33,
   "id": "59cc6a4c",
   "metadata": {},
   "outputs": [
    {
     "data": {
      "text/plain": [
       "\"\\nnlp = spacy.load('en_core_web_sm')\\n(df_train, df_val, df_test)  = load_df(args)   \\ndf_train = text_preprocess(df_train)\\ndf_val = text_preprocess(df_val)\\ndf_test = text_preprocess(df_test)\\n\""
      ]
     },
     "execution_count": 33,
     "metadata": {},
     "output_type": "execute_result"
    }
   ],
   "source": [
    "'''\n",
    "nlp = spacy.load('en_core_web_sm')\n",
    "(df_train, df_val, df_test)  = load_df(args)   \n",
    "df_train = text_preprocess(df_train)\n",
    "df_val = text_preprocess(df_val)\n",
    "df_test = text_preprocess(df_test)\n",
    "'''"
   ]
  },
  {
   "cell_type": "markdown",
   "id": "0d8ad128",
   "metadata": {},
   "source": [
    "# Label Transition Probability Visualization\n",
    "- To check for possible patterns in the label sequences of the datasets, we plot frequency of the label\n",
    "  pairs (x;y) where x and y are the labels of ${U}_{s_{t-1}, t-1}$ and ${U}_{s_{t}, t}$ respectively\n",
    "- Plot show the same emotion label or neutral label appearing in the consecutive utterances with high frequency. This may    \n",
    "  induce label dependencies and consistencies and can be called as the label copying feature of the dataset."
   ]
  },
  {
   "cell_type": "code",
   "execution_count": 34,
   "id": "5461826f",
   "metadata": {},
   "outputs": [],
   "source": [
    "'''\n",
    "  Calculate and Visualize Label Transition Probabilities DataFrame\n",
    "  Parameters\n",
    "    ----------\n",
    "    df : Pandas Dataframe \n",
    "        Pandas dataframe repersenting Train/Val/Test Data\n",
    "    emo_dict : Python Dictionary\n",
    "        Python Dictionary specifying the encoded value of emotion labels. \n",
    "  Returns\n",
    "    -------\n",
    "    None\n",
    "'''\n",
    "\n",
    "\n",
    "def VisualizeTransitionProb(df, emo_dict):\n",
    "    \n",
    "    sequence =  list(df.label)\n",
    "    trans_mat= pd.crosstab( pd.Series(sequence[:-1], name='From State'),\n",
    "                     pd.Series(sequence[1:], name='To State'),\n",
    "                     normalize=0\n",
    "                     )\n",
    "    trans_mat = np.round(trans_mat, 2)\n",
    "    trans_mat = trans_mat[emo_dict.keys()]\n",
    "    trans_mat= trans_mat.reindex(emo_dict.keys())\n",
    "    h = [trans_mat.index.names[0] +'/'+ trans_mat.columns.names[0]] + list(trans_mat.columns.tolist())\n",
    "    print(tabulate(trans_mat, headers= h, tablefmt= 'grid'))\n",
    "  \n",
    "    myMatrix = trans_mat.to_numpy()\n",
    "    fig = plt.figure()\n",
    "    ax = fig.add_subplot(111, aspect='equal')\n",
    "\n",
    "    plt.style.use(['ggplot'])\n",
    "    plt.ylabel('From State')\n",
    "    plt.xlabel('To State')\n",
    "    plt.title('Friends')\n",
    "    mymap = plt.get_cmap(\"YlGnBu\")\n",
    "   \n",
    "    normalize = matplotlib.colors.LogNorm(vmin=0.0001, vmax=1)\n",
    "    normalize = matplotlib.colors.PowerNorm(gamma=0.5, vmin=0.01, vmax=1)\n",
    "    matrix_size = myMatrix.shape[0]\n",
    "    square_size = 1.0 / matrix_size\n",
    "\n",
    "    diagonal = myMatrix.diagonal()\n",
    "    \n",
    "\n",
    "    ax.set_xticklabels(emo_dict.keys(), rotation=90, horizontalalignment='right')\n",
    "    ax.set_yticklabels(list(reversed(emo_dict.keys())), rotation=0, horizontalalignment='right')\n",
    "\n",
    "    ax.xaxis.set_ticks(np.arange(0 + 0.5 * square_size, 1 + 0.5 * square_size, square_size))\n",
    "    ax.yaxis.set_ticks(np.arange(0 + 0.5 * square_size, 1 + 0.5 * square_size, square_size))\n",
    "\n",
    "    # iterate over all elements of the matrix\n",
    "    \n",
    "    for i in range(matrix_size):\n",
    "        for j in range(matrix_size):\n",
    "            if myMatrix[i, j] > 0:\n",
    "                rect_size = np.sqrt(myMatrix[i, j]) * square_size\n",
    "            else:\n",
    "                rect_size = 0\n",
    "\n",
    "            dx = 0.5 * (square_size - rect_size)\n",
    "            dy = 0.5 * (square_size - rect_size)\n",
    "            #print(' {} {}'.format((i) * square_size + dx, j * square_size + dy))\n",
    "            p = patches.Rectangle(\n",
    "                (j * square_size + dy, (matrix_size-i-1) * square_size + dx),\n",
    "                rect_size,\n",
    "                rect_size,\n",
    "                fill=True,\n",
    "                color=mymap(normalize(myMatrix[i, j]))\n",
    "            )\n",
    "            ax.add_patch(p)\n",
    "\n",
    "    cbax = fig.add_axes([0.85, 0.12, 0.05, 0.78])\n",
    "    cb = matplotlib.colorbar.ColorbarBase(cbax, cmap=mymap, orientation='vertical')\n",
    "    cb.set_label(\"Transition Probability\")\n",
    "    plt.show(block=True)\n",
    "    plt.interactive(False)"
   ]
  },
  {
   "cell_type": "code",
   "execution_count": 35,
   "id": "0284a0a4",
   "metadata": {},
   "outputs": [
    {
     "name": "stdout",
     "output_type": "stream",
     "text": [
      "+-----------------------+-----------+-----------+---------+-------+---------------+------------+--------+-----------+\n",
      "| From State/To State   |   neutral |   sadness |   anger |   joy |   non-neutral |   surprise |   fear |   disgust |\n",
      "+=======================+===========+===========+=========+=======+===============+============+========+===========+\n",
      "| neutral               |      0.74 |      0.02 |    0.01 |  0.11 |          0.08 |       0.04 |   0    |      0.01 |\n",
      "+-----------------------+-----------+-----------+---------+-------+---------------+------------+--------+-----------+\n",
      "| sadness               |      0.5  |      0.21 |    0.01 |  0.1  |          0.13 |       0.03 |   0    |      0.01 |\n",
      "+-----------------------+-----------+-----------+---------+-------+---------------+------------+--------+-----------+\n",
      "| anger                 |      0.54 |      0.06 |    0.1  |  0.12 |          0.14 |       0.03 |   0    |      0.01 |\n",
      "+-----------------------+-----------+-----------+---------+-------+---------------+------------+--------+-----------+\n",
      "| joy                   |      0.52 |      0.03 |    0.01 |  0.31 |          0.09 |       0.03 |   0    |      0.01 |\n",
      "+-----------------------+-----------+-----------+---------+-------+---------------+------------+--------+-----------+\n",
      "| non-neutral           |      0.51 |      0.07 |    0.02 |  0.13 |          0.19 |       0.05 |   0.01 |      0.01 |\n",
      "+-----------------------+-----------+-----------+---------+-------+---------------+------------+--------+-----------+\n",
      "| surprise              |      0.57 |      0.04 |    0.01 |  0.11 |          0.15 |       0.11 |   0    |      0.01 |\n",
      "+-----------------------+-----------+-----------+---------+-------+---------------+------------+--------+-----------+\n",
      "| fear                  |      0.56 |      0.06 |    0    |  0.14 |          0.19 |       0.03 |   0.03 |      0    |\n",
      "+-----------------------+-----------+-----------+---------+-------+---------------+------------+--------+-----------+\n",
      "| disgust               |      0.46 |      0.05 |    0.01 |  0.08 |          0.18 |       0.11 |   0    |      0.12 |\n",
      "+-----------------------+-----------+-----------+---------+-------+---------------+------------+--------+-----------+\n"
     ]
    },
    {
     "name": "stderr",
     "output_type": "stream",
     "text": [
      "<ipython-input-34-ec4ce9faf0a1>:46: UserWarning: FixedFormatter should only be used together with FixedLocator\n",
      "  ax.set_xticklabels(emo_dict.keys(), rotation=90, horizontalalignment='right')\n",
      "<ipython-input-34-ec4ce9faf0a1>:47: UserWarning: FixedFormatter should only be used together with FixedLocator\n",
      "  ax.set_yticklabels(list(reversed(emo_dict.keys())), rotation=0, horizontalalignment='right')\n"
     ]
    },
    {
     "data": {
      "image/png": "[encoded data removed]",
      "text/plain": [
       "<Figure size 864x576 with 2 Axes>"
      ]
     },
     "metadata": {},
     "output_type": "display_data"
    }
   ],
   "source": [
    "VisualizeTransitionProb(df_train, emo_dict)"
   ]
  },
  {
   "cell_type": "code",
   "execution_count": 36,
   "id": "cb7387b8",
   "metadata": {},
   "outputs": [
    {
     "name": "stdout",
     "output_type": "stream",
     "text": [
      "+-----------------------+-----------+-----------+---------+-------+---------------+------------+--------+-----------+\n",
      "| From State/To State   |   neutral |   sadness |   anger |   joy |   non-neutral |   surprise |   fear |   disgust |\n",
      "+=======================+===========+===========+=========+=======+===============+============+========+===========+\n",
      "| neutral               |      0.76 |      0.02 |    0.01 |  0.12 |          0.06 |       0.03 |      0 |      0    |\n",
      "+-----------------------+-----------+-----------+---------+-------+---------------+------------+--------+-----------+\n",
      "| sadness               |      0.46 |      0.22 |    0.01 |  0.13 |          0.15 |       0.03 |      0 |      0    |\n",
      "+-----------------------+-----------+-----------+---------+-------+---------------+------------+--------+-----------+\n",
      "| anger                 |      0.35 |      0.05 |    0.32 |  0.08 |          0.16 |       0    |      0 |      0.03 |\n",
      "+-----------------------+-----------+-----------+---------+-------+---------------+------------+--------+-----------+\n",
      "| joy                   |      0.47 |      0.02 |    0    |  0.39 |          0.09 |       0.02 |      0 |      0.01 |\n",
      "+-----------------------+-----------+-----------+---------+-------+---------------+------------+--------+-----------+\n",
      "| non-neutral           |      0.49 |      0.08 |    0.04 |  0.14 |          0.18 |       0.04 |      0 |      0.02 |\n",
      "+-----------------------+-----------+-----------+---------+-------+---------------+------------+--------+-----------+\n",
      "| surprise              |      0.62 |      0.02 |    0    |  0.05 |          0.12 |       0.18 |      0 |      0    |\n",
      "+-----------------------+-----------+-----------+---------+-------+---------------+------------+--------+-----------+\n",
      "| fear                  |      0    |      0    |    0    |  0    |          0.5  |       0.5  |      0 |      0    |\n",
      "+-----------------------+-----------+-----------+---------+-------+---------------+------------+--------+-----------+\n",
      "| disgust               |      0.73 |      0    |    0    |  0.07 |          0.2  |       0    |      0 |      0    |\n",
      "+-----------------------+-----------+-----------+---------+-------+---------------+------------+--------+-----------+\n"
     ]
    },
    {
     "name": "stderr",
     "output_type": "stream",
     "text": [
      "<ipython-input-34-ec4ce9faf0a1>:46: UserWarning: FixedFormatter should only be used together with FixedLocator\n",
      "  ax.set_xticklabels(emo_dict.keys(), rotation=90, horizontalalignment='right')\n",
      "<ipython-input-34-ec4ce9faf0a1>:47: UserWarning: FixedFormatter should only be used together with FixedLocator\n",
      "  ax.set_yticklabels(list(reversed(emo_dict.keys())), rotation=0, horizontalalignment='right')\n"
     ]
    },
    {
     "data": {
      "image/png": "[encoded data removed]",
      "text/plain": [
       "<Figure size 864x576 with 2 Axes>"
      ]
     },
     "metadata": {},
     "output_type": "display_data"
    }
   ],
   "source": [
    "VisualizeTransitionProb(df_test, emo_dict)"
   ]
  },
  {
   "cell_type": "markdown",
   "id": "329bca18",
   "metadata": {},
   "source": [
    "# Data Preprocessing Related to Bert Model\n",
    "\n",
    "Machine Learning models don’t work with text and require data preprocessing to convert text to numbers. As we are using BERT for modelling the word level inputs, we need to do following preprocessing\n",
    "\n",
    "- Add special tokens to separate sentences and do classification\n",
    "- Pass sequences of constant length (introduce padding)\n",
    "- Create array of 0s (pad token) and 1s (real token) called attention mask\n",
    "\n",
    "We will use the pretrained bert model and tokenizers from the Transformers Library "
   ]
  },
  {
   "cell_type": "markdown",
   "id": "1b5b8d2f",
   "metadata": {},
   "source": [
    "# DataLoader Class\n",
    "As the same utterance can deliver different emotions when it is in different contexts, it is imperative to look at the context of previous utterances in the dialogue while modellign the emotion label. On the other hand, utterances between 2 dialogues are independent of each other. As each dialogue will have different utterlance length. we canot use a constant batch size. \n",
    "For this task, We create a class called CustomDataset, and pass the argument Dataset, to allow it to inherit the functionality of the Torch Dataset Class."
   ]
  },
  {
   "cell_type": "code",
   "execution_count": 13,
   "id": "3bbb7e40",
   "metadata": {},
   "outputs": [],
   "source": [
    "'''\n",
    "  Create the DataLoader Class to provide a way for the dataset code to be decoupled from  model training code.\n",
    "  Parameters\n",
    "    ----------\n",
    "    df : Pandas Dataframe \n",
    "        Pandas dataframe repersenting Train/Val/Test Data\n",
    "    max_number_of_speakers_in_dialogue : Interger \n",
    "    emo_dict : Python Dictionary\n",
    "    Prvides encoded value of emotion labels. \n",
    "    encoder : Sklearn OneHot Encoder Handle\n",
    "\n",
    "  Returns\n",
    "    -------\n",
    "  padded : Tensor\n",
    "     Tensor containing the input data\n",
    "  attention : Tensor\n",
    "     Tensor containing attention mask specifying the valid data in input tensor\n",
    "  spkr_emd : Tensor\n",
    "     Tensor containing speaker information in the input data\n",
    "  label : Tensor\n",
    "     Tensor containing emotion labels\n",
    "     \n",
    "'''\n",
    "\n",
    "\n",
    "\n",
    "class CustomDataset(Dataset):\n",
    "    def __init__(self, df, max_number_of_speakers_in_dialogue, emo_dict, encoder, args):\n",
    "        self.data = df\n",
    "        self.max_number_of_speakers_in_dialogue = max_number_of_speakers_in_dialogue\n",
    "        self.emo_dict = emo_dict\n",
    "        self.args = args\n",
    "        self.encoder = encoder\n",
    "        if self.args.emoset in ['friends_german', 'emotionpush_german', 'emorynlp_german']:\n",
    "            if self.args.use_distilbert: \n",
    "                print('distilbert-base-german-cased')\n",
    "                self.tokenizer = DistilBertTokenizer.from_pretrained(\"distilbert-base-german-cased\")\n",
    "            else :\n",
    "                print('using dbmdz/bert-base-german-uncased tokenizer')\n",
    "                self.tokenizer = AutoTokenizer.from_pretrained(\"dbmdz/bert-base-german-uncased\")\n",
    "        else:\n",
    "            print('using distill-uncased tokenizer')\n",
    "            self.tokenizer = DistilBertTokenizer.from_pretrained('distilbert-base-uncased')\n",
    "        \n",
    "        \n",
    "    def __len__(self):\n",
    "        if not self.args.emoset == 'semeval':\n",
    "            return len( self.data['dialogue_id'].unique())\n",
    "        else:\n",
    "            return self.data.shape[0]\n",
    "    \n",
    "    def get_labels(self, df):\n",
    "        \"\"\"\n",
    "        returns the labels according to the emotion dictionary\n",
    "        \"\"\"\n",
    "        return torch.tensor([self.emo_dict[label] for label in df['label'].values])\n",
    "    \n",
    "    '''\n",
    "        Machine Learning models don’t work with text and require data preprocessing to convert text to numbers. As we are\n",
    "        using BERT for modelling the word level inputs, we need to do following preprocessing\n",
    "\n",
    "        - Add special tokens to separate sentences and do classification\n",
    "        - Pass sequences of constant length (introduce padding)\n",
    "        - Create array of 0s (pad token) and 1s (real token) called attention mask\n",
    "\n",
    "        We will use the pretrained bert model and tokenizers from the Transformers Library \n",
    "    \n",
    "    '''\n",
    "    \n",
    "    def transform_data(self, df, max_seq_len):\n",
    "        \"\"\"\n",
    "        returns the padded input ids and attention masks according to the DistilBert tokenizer\n",
    "        \"\"\"\n",
    "               \n",
    "        def tokenize_fct(turn):\n",
    "            return self.tokenizer.encode(turn, truncation = True, add_special_tokens=True, max_length=max_seq_len)\n",
    "        \n",
    "        if self.args.emoset in ['friends', 'emotionpush', 'emorynlp']:\n",
    "            tokenized = df[['utterance']].applymap(tokenize_fct)\n",
    "            padded = torch.tensor([[ids + [0]*(max_seq_len-len(ids)) for ids in idx] for idx in tokenized.values])\n",
    "            attention_mask = torch.where(padded != 0, torch.ones_like(padded), torch.zeros_like(padded))\n",
    "        elif self.args.emoset == 'semeval':\n",
    "            tokenized = df[['turn1','turn2','turn3']].applymap(tokenize_fct)\n",
    "            padded = torch.tensor([[ids + [0]*(max_seq_len-len(ids)) for ids in idx] for idx in tokenized.values])\n",
    "            attention_mask = torch.where(padded != 0, torch.ones_like(padded), torch.zeros_like(padded))\n",
    "        elif self.args.emoset in ['friends_german', 'emotionpush_german', 'emorynlp_german']:\n",
    "            tokenized = df[['utterance_de_deepl']].applymap(tokenize_fct)\n",
    "            padded = torch.tensor([[ids + [0]*(max_seq_len-len(ids)) for ids in idx] for idx in tokenized.values])\n",
    "            attention_mask = torch.where(padded != 0, torch.ones_like(padded), torch.zeros_like(padded))\n",
    "        return padded, attention_mask, tokenized\n",
    "\n",
    "    \n",
    "    def __getitem__(self, idx):\n",
    "        \n",
    "        if not self.args.emoset == 'semeval':\n",
    "            assert idx  in list(range (len( self.data['dialogue_id'].unique())))\n",
    "            df = self.data.loc[self.data.dialogue_id ==idx].reset_index(drop = True)\n",
    "        else:\n",
    "            df = self.data.loc[self.data.index ==idx].reset_index(drop = True)  \n",
    "      \n",
    "        padded, attention_mask, tokenizer = self.transform_data(df, self.args.max_seq_len)\n",
    "        labels = self.get_labels(df)\n",
    "        if not self.args.emoset == 'semeval':\n",
    "            padded = padded.squeeze(dim=1)\n",
    "            attention_mask = attention_mask.squeeze(dim=1)\n",
    "        else:\n",
    "         \n",
    "            padded = padded.squeeze(dim=0)\n",
    "            attention_mask = attention_mask.squeeze(dim=0)\n",
    "        padded = padded.cuda(self.args.device)\n",
    "        attention_mask = attention_mask.cuda(self.args.device)\n",
    "        labels = labels.cuda(self.args.device)\n",
    "        if self.args.speaker_embedding:\n",
    "            speakers_array = np.array(df.speaker).reshape(-1, 1)\n",
    "            spkr_emd = self.encoder.transform(speakers_array).toarray()\n",
    "                \n",
    "        else:\n",
    "            spkr_emd = 0\n",
    "        \n",
    "        return padded, attention_mask, spkr_emd, labels\n",
    "    \n",
    "\n",
    "# export \n",
    "def dataloader(path, max_seq_len, batch_size, emo_dict, use_ddp = False, labels = True):\n",
    "    \"\"\"\n",
    "    Transforms the .csv data stored in `path` according to DistilBert features and returns it as a DataLoader \n",
    "    \"\"\"\n",
    "    df = open_data(path)\n",
    "    padded, attention_mask = transform_data(df, max_seq_len)\n",
    "    \n",
    "    if labels:\n",
    "        dataset = TensorDataset(padded, attention_mask, get_labels(df, emo_dict))\n",
    "    \n",
    "    else:\n",
    "        dataset = TensorDataset(padded, attention_mask)\n",
    "        \n",
    "    if use_ddp:\n",
    "        train_sampler = DistributedSampler(dataset)\n",
    "    \n",
    "    else: \n",
    "        train_sampler = None\n",
    "\n",
    "    return DataLoader(dataset, batch_size=batch_size, shuffle=(train_sampler is None), \n",
    "                      sampler=train_sampler, num_workers=0)\n"
   ]
  },
  {
   "cell_type": "markdown",
   "id": "d0752003",
   "metadata": {},
   "source": [
    "## Transformer Sentence Embeddings\n",
    "\n",
    "We use a pretrained DistilBert model to create sentence embeddings for each utterance. We obtain contextual word embeddings by concatenating the CLS token embedding and the mean of the last layer. \n",
    "\n",
    "For more information on the (Distil)Bert models one can look at \n",
    "Jay Alammar's blog posts ([A Visual Guide to Using BERT for the First Time](https://jalammar.github.io/a-visual-guide-to-using-bert-for-the-first-time/) and [The Illustrated BERT, ELMo, and co.](https://jalammar.github.io/illustrated-bert/)) where also the following illustration is taken from.\n",
    "\n",
    "![DistilBert output](./images/bert-distilbert-output-tensor-predictions.png)\n",
    "\n",
    "Further references:\n",
    " \n",
    "* [DistilBert paper](https://arxiv.org/abs/1910.01108) and [blog post](https://medium.com/huggingface/distilbert-8cf3380435b5)\n",
    "* [Original Bert (Bidirectional Encoder Representations from Transformers) paper](https://arxiv.org/abs/1810.04805)\n",
    "* [tutorial for custom PyTorch modules](https://pytorch.org/tutorials/beginner/pytorch_with_examples.html)\n",
    "* [Huggingface transformers documentation](https://huggingface.co/transformers/v2.3.0/index.html)"
   ]
  },
  {
   "cell_type": "code",
   "execution_count": 14,
   "id": "88adf1bc",
   "metadata": {},
   "outputs": [],
   "source": [
    "'''\n",
    "  This class makes use of DistilBert model to model word level input and capture the context of utterance level embeddings.\n",
    "  It makes use of pretrained language model which is equivalent to introducing external data into the model and helps our\n",
    "  model obtain better utterance embedding\n",
    "  Parameters\n",
    "    ----------\n",
    "    args: Structure of various flags used in the code. \n",
    "    droput : Dropout  \n",
    "  \n",
    "  Returns\n",
    "    -------\n",
    "  sentence_embeds : Tensor\n",
    "     Tensor containing the utterance level embeddings.\n",
    "     \n",
    "'''\n",
    "\n",
    "\n",
    "class sentence_embeds_model(torch.nn.Module):\n",
    "    \"\"\"\n",
    "    instantiates the pretrained DistilBert model and the linear layer\n",
    "    \"\"\"\n",
    "    \n",
    "    def __init__(self, args, dropout = 0.1):\n",
    "        super(sentence_embeds_model, self).__init__()\n",
    "        self.args = args\n",
    "        \n",
    "        if self.args.emoset in ['friends_german', 'emotionpush_german', 'emorynlp_german']:\n",
    "            if args.use_distilbert:\n",
    "                self.transformer = DistilBertModel.from_pretrained('distilbert-base-german-cased', dropout=dropout, \n",
    "                                                           output_hidden_states=True)\n",
    "            else:\n",
    "                self.transformer = AutoModel.from_pretrained(\"dbmdz/bert-base-german-uncased\", output_hidden_states=True)\n",
    "                                                           \n",
    "        else:\n",
    "            self.transformer = DistilBertModel.from_pretrained('distilbert-base-uncased', dropout=dropout, \n",
    "                                                           output_hidden_states=True)\n",
    "        self.embedding_size = 2 * self.transformer.config.hidden_size\n",
    "      \n",
    "      \n",
    "        \n",
    "    def layerwise_lr(self, lr, decay):\n",
    "        \"\"\"\n",
    "        returns grouped model parameters with layer-wise decaying learning rate\n",
    "        \"\"\"\n",
    "        bert = self.transformer\n",
    "        \n",
    "        if self.args.emoset in ['friends_german', 'emotionpush_german', 'emorynlp_german'] and not self.args.use_distilbert:\n",
    "            num_layers = bert.config.num_hidden_layers\n",
    "            opt_parameters = [{'params': bert.embeddings.parameters(), 'lr': lr*decay**num_layers}]\n",
    "            opt_parameters += [{'params': bert.encoder.layer[l].parameters(), 'lr': lr*decay**(num_layers-l+1)} \n",
    "                            for l in range(num_layers)]\n",
    "        else:\n",
    "            num_layers = bert.config.n_layers\n",
    "            opt_parameters = [{'params': bert.embeddings.parameters(), 'lr': lr*decay**num_layers}]\n",
    "            opt_parameters += [{'params': bert.transformer.layer[l].parameters(), 'lr': lr*decay**(num_layers-l+1)} \n",
    "                            for l in range(num_layers)]\n",
    "     \n",
    "        return opt_parameters\n",
    "               \n",
    "    def forward(self, input_ids = None, attention_mask = None, input_embeds = None):\n",
    "        \"\"\"\n",
    "        returns the sentence embeddings\n",
    "        \"\"\"\n",
    "        utterance_count = input_ids.shape[1]\n",
    "        \n",
    "        if input_ids is not None:\n",
    "            input_ids = input_ids.flatten(end_dim = 1)\n",
    "     \n",
    "        if attention_mask is not None:\n",
    "            attention_mask = attention_mask.flatten(end_dim = 1)\n",
    "        \n",
    "       \n",
    "       \n",
    "        output = self.transformer(input_ids = input_ids, \n",
    "                                  attention_mask = attention_mask, inputs_embeds = input_embeds)\n",
    "      \n",
    "        cls = output[0][:,0]\n",
    "        if self.args.emoset in ['friends_german', 'emotionpush_german', 'emorynlp_german'] and not self.args.use_distilbert:\n",
    "            hidden_mean = torch.mean(output[2][-1],1)\n",
    "        else:\n",
    "            hidden_mean = torch.mean(output[1][-1],1)\n",
    "        sentence_embeds = torch.cat([cls, hidden_mean], dim = -1)\n",
    "        sentence_embeds = sentence_embeds.view(-1,utterance_count, self.embedding_size)\n",
    "       \n",
    "        return sentence_embeds"
   ]
  },
  {
   "cell_type": "markdown",
   "id": "0e18b130",
   "metadata": {},
   "source": [
    "## Context Transformer and Classification\n",
    "\n",
    "We use another transformer model to create contextual sentence embeddings, i.e. we model that a conversation consists of multiple utterances. Moreover, we add a classification model for the emotion of the last utterance.\n",
    "Note that for our convenience we use\n",
    "\n",
    "* a linear projection of the sentence embeddings to a given `projection_size`\n",
    "* a (not pre-trained) DistilBertForSequenceClassification and flip the order of the utterances as the first input embedding gets classified by default\n",
    "* only one attention head, see also the paper [Are Sixteen Heads Really Better than One?](https://arxiv.org/abs/1905.10650)."
   ]
  },
  {
   "cell_type": "code",
   "execution_count": 15,
   "id": "c236e633",
   "metadata": {},
   "outputs": [],
   "source": [
    "'''\n",
    "  Create contextual sentence embeddings- We model that a conversation may consists of vatiable number of utterances for \n",
    "  dataset Friends/EmotionPush/EmoryNLP whereas for semeval number of utterances per conversation is fixed to 3. \n",
    "    ----------\n",
    "    embedding_size: Embedded Layer Size\n",
    "    projection_size :Size of fully connected lazer before the bert model. \n",
    "    n_layers : Number of hidden layers in pretrained bert model \n",
    "    emo_dict : Label Encoding\n",
    "    max_number_of_speakers_in_dialogue\n",
    "    max_number_of_utter_in_dialogue : 25 for Friends/EmotionPush/EmoryNLP and 3 for Semeval. \n",
    "    loss_weights : Tensor containing the weight assigned to different label classes to handle class imblance. \n",
    "  Returns\n",
    "    -------\n",
    "  logits : Tensor\n",
    "     Softmax Probability Distribution\n",
    "\n",
    "  loss : Scalor\n",
    "      \n",
    "'''\n",
    "class context_classifier_model(torch.nn.Module):\n",
    "    \"\"\"\n",
    "    instantiates the DisitlBertForSequenceClassification model, the position embeddings of the utterances, \n",
    "    and the binary loss function\n",
    "    \"\"\"\n",
    "    \n",
    "    def __init__(self, \n",
    "                 embedding_size, \n",
    "                 projection_size, \n",
    "                 n_layers, \n",
    "                 emo_dict, \n",
    "                 focus_dict, \n",
    "                 max_number_of_speakers_in_dialogue, \n",
    "                 max_number_of_utter_in_dialogue,\n",
    "                 args,\n",
    "                 loss_weights,\n",
    "                 dropout = 0.1):\n",
    "        super(context_classifier_model, self).__init__()\n",
    "     \n",
    "        self.projection_size = projection_size\n",
    "        self.projection = torch.nn.Linear(embedding_size, projection_size)  \n",
    "        self.max_number_of_speakers_in_dialogue = max_number_of_speakers_in_dialogue\n",
    "        self.max_number_of_utter_in_dialogue = max_number_of_utter_in_dialogue\n",
    "        self.position_embeds = torch.nn.Embedding( self.max_number_of_utter_in_dialogue, projection_size)\n",
    "     \n",
    "        self.norm = torch.nn.LayerNorm(projection_size+self.max_number_of_speakers_in_dialogue)\n",
    "        self.drop = torch.nn.Dropout(dropout)\n",
    "        self.focus_dict = focus_dict\n",
    "        self.emo_dict = emo_dict\n",
    "        self.args = args\n",
    "        self.loss_weights = loss_weights\n",
    "        context_config = DistilBertConfig(dropout=dropout, \n",
    "                                dim=projection_size+self.max_number_of_speakers_in_dialogue,\n",
    "                                hidden_dim=4*projection_size,\n",
    "                                n_layers=n_layers,\n",
    "                                n_heads = 1,\n",
    "                                num_labels=len(self.emo_dict.keys()))\n",
    "      \n",
    "        self.context_transformer = DistilBertForSequenceClassification(context_config)\n",
    "    \n",
    "        if not self.args.emoset == 'semeval':\n",
    "            self.others_label = self.emo_dict['neutral']\n",
    "        else:\n",
    "            self.others_label = self.emo_dict['others']\n",
    "        self.bin_loss_fct = torch.nn.BCEWithLogitsLoss()\n",
    "        self.context_experiment_flag = False\n",
    "   \n",
    "        \n",
    "    def bin_loss(self, logits, labels):\n",
    "        \"\"\"\n",
    "        defined the additional binary loss for the `others` label\n",
    "        \"\"\"\n",
    "        bin_labels = torch.where(labels == self.others_label, torch.ones_like(labels), \n",
    "                                 torch.zeros_like(labels)).float()\n",
    "        bin_logits = logits[:, self.others_label]    \n",
    "        return self.bin_loss_fct(bin_logits, bin_labels)\n",
    "\n",
    "    \n",
    "    \n",
    "    def comput_loss(self, log_prob, target, weights):\n",
    "        \"\"\" Weighted loss function \"\"\"\n",
    "        #loss = F.nll_loss(log_prob, target, weight=weights, reduction='sum')\n",
    "        loss = F.cross_entropy(log_prob, target, weight=weights, reduction='sum')\n",
    "        loss /= target.size(0)\n",
    "\n",
    "        return loss\n",
    "\n",
    "\n",
    "    def forward(self, sentence_embeds, spkr_emd, labels = None):\n",
    "        \"\"\"\n",
    "        returns the logits and the corresponding loss if `labels` are given\n",
    "        \"\"\"\n",
    "        if self.context_experiment_flag == True:\n",
    "            sentence_embeds = sentence_embeds.transpose(0, 1)\n",
    "            spkr_emd = spkr_emd.transpose(0,1)\n",
    "            position_ids = torch.arange(sentence_embeds.shape[1], dtype=torch.long, device=sentence_embeds.device)\n",
    "            \n",
    "        else:\n",
    "            position_ids = torch.arange(sentence_embeds.shape[1], dtype=torch.long, device=sentence_embeds.device)\n",
    "    \n",
    "        position_ids = position_ids.expand(sentence_embeds.shape[:2]) \n",
    "        position_embeds = self.position_embeds(position_ids)\n",
    "        sentence_embeds = self.projection(sentence_embeds) + position_embeds \n",
    "        if self.args.speaker_embedding:\n",
    "            sentence_embeds = torch.cat((sentence_embeds, spkr_emd), dim=2)\n",
    "            sentence_embeds = sentence_embeds.to(device=self.args.device, dtype=torch.float)\n",
    "        sentence_embeds = self.drop(self.norm(sentence_embeds))\n",
    "        if labels is None:\n",
    "            if not self.emoset == 'semeval':\n",
    "                return self.context_transformer(inputs_embeds = sentence_embeds.transpose(0, 1), labels = labels)[0]\n",
    "            else:\n",
    "                return self.context_transformer(inputs_embeds = sentence_embeds.flip(1), labels = labels)[0]\n",
    "        else:\n",
    "            if not self.args.emoset == 'semeval':\n",
    "                output =  self.context_transformer(inputs_embeds = sentence_embeds.transpose(0, 1), labels = labels)\n",
    "            else:\n",
    "                output =  self.context_transformer(inputs_embeds = sentence_embeds.flip(1), labels = labels)\n",
    "        loss = output[0]\n",
    "        logits = output[1]\n",
    "        log_prob = logits\n",
    "        if not self.args.emoset == 'semeval':\n",
    "            loss2 = self.comput_loss(log_prob, labels, self.loss_weights)\n",
    "            return loss2, logits\n",
    "        else:\n",
    "            return loss + self.bin_loss(logits, labels), logits\n",
    "        "
   ]
  },
  {
   "cell_type": "markdown",
   "id": "bd20f1ef",
   "metadata": {},
   "source": [
    "# Plotting Functions\n",
    "- This section consists of various plotting function used for the result analysis"
   ]
  },
  {
   "cell_type": "code",
   "execution_count": 16,
   "id": "e54b5117",
   "metadata": {},
   "outputs": [],
   "source": [
    "def make_confusion_matrix(cf,\n",
    "                          group_names=None,\n",
    "                          categories='auto',\n",
    "                          count=True,\n",
    "                          percent=True,\n",
    "                          cbar=True,\n",
    "                          xyticks=True,\n",
    "                          xyplotlabels=True,\n",
    "                          sum_stats=False,\n",
    "                          figsize=None,\n",
    "                          cmap='Blues',\n",
    "                          title=None):\n",
    "    '''\n",
    "    This function will make a pretty plot of an sklearn Confusion Matrix cm using a Seaborn heatmap visualization.\n",
    "    Arguments\n",
    "    ---------\n",
    "    cf:            confusion matrix to be passed in\n",
    "    group_names:   List of strings that represent the labels row by row to be shown in each square.\n",
    "    categories:    List of strings containing the categories to be displayed on the x,y axis. Default is 'auto'\n",
    "    count:         If True, show the raw number in the confusion matrix. Default is True.\n",
    "    normalize:     If True, show the proportions for each category. Default is True.\n",
    "    cbar:          If True, show the color bar. The cbar values are based off the values in the confusion matrix.\n",
    "                   Default is True.\n",
    "    xyticks:       If True, show x and y ticks. Default is True.\n",
    "    xyplotlabels:  If True, show 'True Label' and 'Predicted Label' on the figure. Default is True.\n",
    "    sum_stats:     If True, display summary statistics below the figure. Default is True.\n",
    "    figsize:       Tuple representing the figure size. Default will be the matplotlib rcParams value.\n",
    "    cmap:          Colormap of the values displayed from matplotlib.pyplot.cm. Default is 'Blues'\n",
    "                   See http://matplotlib.org/examples/color/colormaps_reference.html\n",
    "                   \n",
    "    title:         Title for the heatmap. Default is None.\n",
    "    '''\n",
    "\n",
    "\n",
    "    # CODE TO GENERATE TEXT INSIDE EACH SQUARE\n",
    "    blanks = ['' for i in range(cf.size)]\n",
    "\n",
    "    if group_names and len(group_names)==cf.size:\n",
    "        group_labels = [\"{}\\n\".format(value) for value in group_names]\n",
    "    else:\n",
    "        group_labels = blanks\n",
    "\n",
    "    if count:\n",
    "        group_counts = [\"{0:0.0f}\\n\".format(value) for value in cf.flatten()]\n",
    "    else:\n",
    "        group_counts = blanks\n",
    "\n",
    "    if percent:\n",
    "        j = 0\n",
    "        group_percentages = []\n",
    "        for i in range(len(cf.flatten())):\n",
    "            if i% cf.shape[0]== 0:\n",
    "                divisor = sum(cf[j, :])\n",
    "                j = j+1\n",
    "            group_percentages.append(\"{0:.2%}\".format(cf.flatten()[i]/divisor) )\n",
    "        #group_percentages = [\"{0:.2%}\".format(value) for value in cf.flatten()/np.sum(cf)]\n",
    "    else:\n",
    "        group_percentages = blanks\n",
    "\n",
    "    box_labels = [f\"{v1}{v2}{v3}\".strip() for v1, v2, v3 in zip(group_labels,group_counts,group_percentages)]\n",
    "    print( box_labels)\n",
    "    box_labels = np.asarray(box_labels).reshape(cf.shape[0],cf.shape[1])\n",
    "\n",
    "\n",
    "    # CODE TO GENERATE SUMMARY STATISTICS & TEXT FOR SUMMARY STATS\n",
    "    if sum_stats:\n",
    "        #Accuracy is sum of diagonal divided by total observations\n",
    "        print('Calculating sum stats')\n",
    "        accuracy  = np.trace(cf) / float(np.sum(cf))\n",
    "\n",
    "        #if it is a binary confusion matrix, show some more stats\n",
    "        if len(cf)==2:\n",
    "            #Metrics for Binary Confusion Matrices\n",
    "            precision = cf[1,1] / sum(cf[:,1])\n",
    "            recall    = cf[1,1] / sum(cf[1,:])\n",
    "            f1_score  = 2*precision*recall / (precision + recall)\n",
    "            stats_text = \"\\n\\nAccuracy={:0.3f}\\nPrecision={:0.3f}\\nRecall={:0.3f}\\nF1 Score={:0.3f}\".format(\n",
    "                accuracy,precision,recall,f1_score)\n",
    "        else:\n",
    "            stats_text = \"\\n\\nAccuracy={:0.3f}\".format(accuracy)\n",
    "    else:\n",
    "        stats_text = \"\"\n",
    "    print(stats_text)\n",
    "\n",
    "    # SET FIGURE PARAMETERS ACCORDING TO OTHER ARGUMENTS\n",
    "    if figsize==None:\n",
    "        #Get default figure size if not set\n",
    "        figsize = plt.rcParams.get('figure.figsize')\n",
    "\n",
    "    if xyticks==False:\n",
    "        #Do not show categories if xyticks is False\n",
    "        categories=False\n",
    "\n",
    "\n",
    "    # MAKE THE HEATMAP VISUALIZATION\n",
    "    plt.figure(figsize=figsize)\n",
    "    chart = sns.heatmap(cf,annot=box_labels,fmt=\"\",cmap=cmap,cbar=cbar,xticklabels=categories,yticklabels=categories, annot_kws={\"size\": 13})\n",
    "    #chart = sns.heatmap(cf,annot=box_labels,fmt=\"\",cmap=cmap,cbar=cbar,yticklabels=categories)\n",
    "    chart.set_xticklabels(categories,  fontsize=15)\n",
    "\n",
    "    if xyplotlabels:\n",
    "        plt.ylabel('True label')\n",
    "        plt.xlabel('Predicted label' + stats_text, fontsize = 15)\n",
    "    else:\n",
    "        plt.xlabel(stats_text)\n",
    "    \n",
    "    if title:\n",
    "        plt.title(title)\n",
    "        \n",
    "def plot_per_Class_f1_score(args, focus_dict, score):\n",
    "    plt.figure(figsize=(6,6))\n",
    "    if args.emoset == 'emorynlp' or args.emoset == 'emorynlp_german':\n",
    "        plt.xticks(fontsize=13, rotation=90)\n",
    "    else:\n",
    "        plt.xticks(fontsize=13)\n",
    "    plt.yticks(fontsize=13)\n",
    "    plt.ylabel('Macro-F1 Score')\n",
    "    plt.xlabel('Emotion Class', fontsize = 15)\n",
    "    width = [0.6]*len(focus_dict)\n",
    "    if args.emoset == 'friends' or args.emoset == 'friends_german':\n",
    "        plt.title('Friends', fontsize=16)\n",
    "    elif args.emoset == 'emotionpush' or args.emoset == 'friends_emotionpush':\n",
    "        plt.title('EmotionPush', fontsize=16)\n",
    "    elif args.emoset == 'emorynlp' or args.emoset == 'emorynlp_german':\n",
    "        plt.title('EmoryNLP', fontsize=16)\n",
    "    elif args.emoset == 'semeval':\n",
    "        plt.title('Semeval', fontsize=16)\n",
    "        plt.ylabel('Micro-F1 Score')\n",
    "        width = [0.45]*len(focus_dict)\n",
    "        \n",
    "        \n",
    "\n",
    "    plt.bar(focus_dict, list(score[0]['microF1_per_class'].values()),  hatch='///',  fill=True, width = width )\n",
    "    \n",
    "\n",
    "def plot_F1_Score_against_speaker_count(df, model):\n",
    "    speakers_count_dict  = {}\n",
    "    macroF1_list = []\n",
    "    dialogue_id_list = list((df['dialogue_id'].unique()))\n",
    "\n",
    "    for dialogue in dialogue_id_list:\n",
    "        df_dialogue = df[(df.dialogue_id ==dialogue)]\n",
    "        speaker_count = len(df_dialogue.speaker.unique())\n",
    "        if speaker_count not in speakers_count_dict.keys():\n",
    "            speakers_count_dict[speaker_count] = []\n",
    "        for i in range(df_dialogue.shape[0]):\n",
    "            speakers_count_dict[speaker_count].append(df_dialogue.index[i])\n",
    "            \n",
    "    for i in sorted(speakers_count_dict.keys()):\n",
    "        y_pred = [model.y_pred[j] for j in speakers_count_dict[i]]\n",
    "        y_true = [model.y_true[j] for j in speakers_count_dict[i]]\n",
    "        (macroF1, microF1) = calc_f1_score_1(y_pred, y_true,model.emo_dict, model.focus_emo)\n",
    "        macroF1_list.append(macroF1)   \n",
    "    \n",
    "    plt.figure(figsize=(8,6))\n",
    "    plt.xticks(fontsize=13)\n",
    "    plt.yticks(fontsize=13)\n",
    "    plt.ylabel('Macro-F1 Score')\n",
    "    plt.xlabel('The number of speakers')\n",
    "    width = [0.6]*len(speakers_count_dict.keys())\n",
    "    if args.emoset == 'friends' or args.emoset == 'friends_german':\n",
    "          plt.title('Friends', fontsize=16)\n",
    "    elif args.emoset == 'emotionpush' or args.emoset == 'friends_emotionpush':\n",
    "         plt.title('EmotionPush', fontsize=16)\n",
    "    elif args.emoset == 'emorynlp' or args.emoset == 'emorynlp_german':\n",
    "          plt.title('EmoryNLP', fontsize=16)\n",
    "    speaker_count_list = [str(l) for l in sorted(speakers_count_dict.keys())]\n",
    "    plt.bar(speaker_count_list, macroF1_list,  hatch='///',  fill=True, width = width )\n",
    "    plt.show()\n",
    "    \n",
    "def plot_F1_Score_against_dialogue_length(df, model):\n",
    "    utterance_count_dict  = {}\n",
    "    macroF1_list = []\n",
    "    dialogue_id_list = list((df['dialogue_id'].unique()))\n",
    "\n",
    "    for dialogue in dialogue_id_list:\n",
    "        df_dialogue = df[(df.dialogue_id ==dialogue)]\n",
    "        utteranc_count = df_dialogue.shape[0]\n",
    "        if utteranc_count <= 5:\n",
    "            key_position = 1\n",
    "        elif utteranc_count <= 10:\n",
    "            key_position = 2\n",
    "        elif utteranc_count <= 15:\n",
    "            key_position = 3\n",
    "        elif utteranc_count <= 20:\n",
    "            key_position = 4\n",
    "        elif utteranc_count <= 25:\n",
    "            key_position = 5\n",
    "        elif utteranc_count > 25:\n",
    "            key_position = 6\n",
    "\n",
    "        if key_position not in utterance_count_dict.keys():\n",
    "                utterance_count_dict[key_position] = []\n",
    "        for i in range(df_dialogue.shape[0]):\n",
    "            utterance_count_dict[key_position].append(df_dialogue.index[i])\n",
    "    \n",
    "    \n",
    "    for i in sorted(utterance_count_dict.keys()):\n",
    "        y_pred = [model.y_pred[j] for j in utterance_count_dict[i]]\n",
    "        y_true = [model.y_true[j] for j in utterance_count_dict[i]]\n",
    "        (macroF1, microF1) = calc_f1_score_1(y_pred, y_true,model.emo_dict, model.focus_emo)\n",
    "        macroF1_list.append(macroF1)    \n",
    "\n",
    "\n",
    "    plt.figure(figsize=(6,6))\n",
    "    plt.xticks(fontsize=13)\n",
    "    plt.yticks(fontsize=13)\n",
    "    plt.ylabel('Macro-F1 Score')\n",
    "    plt.xlabel('The number of utterances')\n",
    "    width = [0.6]*len(utterance_count_dict.keys())\n",
    "    if args.emoset == 'friends' or args.emoset == 'friends_german':\n",
    "          plt.title('Friends', fontsize=16)\n",
    "    elif args.emoset == 'emotionpush' or args.emoset == 'friends_emotionpush':\n",
    "         plt.title('EmotionPush', fontsize=16)\n",
    "    elif args.emoset == 'emorynlp' or args.emoset == 'emorynlp_german':\n",
    "          plt.title('EmoryNLP', fontsize=16)\n",
    "\n",
    "    plt.bar(['1-5', '6-10', '11-15', '16-20', '21-25'], macroF1_list,  hatch='///',  fill=True, width = width )\n",
    "\n",
    "def plot_F1_Score_against_utterance_length(df, model):\n",
    "    dialog_length_threshold = 20\n",
    "    utterance_position_dict  = {}\n",
    "    macroF1_list = []\n",
    "    \n",
    "    for i in range(dialog_length_threshold):\n",
    "        utterance_position_dict[i] = []\n",
    "    dialogue_id_list = list((df['dialogue_id'].unique()))\n",
    "    \n",
    "    for dialogue in dialogue_id_list:\n",
    "        df_dialogue = df[(df.dialogue_id ==dialogue)]\n",
    "        for i in range(df_dialogue.shape[0]):\n",
    "            if i >= dialog_length_threshold:\n",
    "                break\n",
    "            utterance_position_dict[i].append(df_dialogue.index[i])\n",
    "\n",
    "    for i in utterance_position_dict.keys():\n",
    "        y_pred = [model.y_pred[j] for j in utterance_position_dict[i]]\n",
    "        y_true = [model.y_true[j] for j in utterance_position_dict[i]]\n",
    "        (macroF1, microF1) = calc_f1_score_1(y_pred, y_true,model.emo_dict, model.focus_emo)\n",
    "        macroF1_list.append(macroF1)    \n",
    "\n",
    "    plt.figure(figsize=(8,6))\n",
    "    x_ticks = np.arange(0, 25, 5)\n",
    "    plt.xticks(x_ticks)\n",
    "    plt.plot(utterance_position_dict.keys(), macroF1_list,  linewidth=3)\n",
    "    plt.xticks(fontsize=13)\n",
    "    plt.yticks(fontsize=13)\n",
    "    plt.ylabel('Macro-F1 Score')\n",
    "    plt.xlabel('Utterance Position in the Dialogue', fontsize = 15)\n",
    "    if args.emoset == 'friends' or args.emoset == 'friends_german':\n",
    "          plt.title('Friends', fontsize=16)\n",
    "    elif args.emoset == 'emotionpush' or args.emoset == 'friends_emotionpush':\n",
    "         plt.title('EmotionPush', fontsize=16)\n",
    "    elif args.emoset == 'emorynlp' or args.emoset == 'emorynlp_german':\n",
    "          plt.title('EmotionPush', fontsize=16)\n",
    "    plt.xlim([0, 20])\n",
    "    plt.show()\n",
    "\n"
   ]
  },
  {
   "cell_type": "markdown",
   "id": "e9be10bd",
   "metadata": {},
   "source": [
    "# Metrices\n",
    "\n",
    "- Semeval Task 3 : We use the metrics, i.e. microaveraged precision, recall, and f1-score (while ignoring the others class), for the evaluation of our model according to the [SemEval-2019 Task 3 challenge](https://www.aclweb.org/anthology/S19-2005/). \n",
    "\n",
    "- Friends/EmoryPush/EmoryNLP : we choose the macro averaged Recall as the primary metric for evaluating the performance of our models."
   ]
  },
  {
   "cell_type": "code",
   "execution_count": 17,
   "id": "b3752bc0",
   "metadata": {},
   "outputs": [],
   "source": [
    "'''\n",
    "    Create True Positive, False Negative and False Positive metrices. \n",
    "    ----------\n",
    "    loss: Scalor Loss\n",
    "    logits :Softmax Probablity Distribution\n",
    "    labels : groundtrugh emotion labels\n",
    "    emo_dict : Label Encoding dictionary\n",
    "    focus_emo : List holding the primary emotion labels. \n",
    "    -------\n",
    "    Return : Python Dictionarx containing various loss metrices\n",
    "      \n",
    "'''\n",
    "\n",
    "def metrics(loss, logits, labels, emo_dict,focus_emo, args):\n",
    "    \n",
    "    labelslist = labels.cpu().tolist()\n",
    "    preds = torch.argmax(logits, dim=1)\n",
    "    predslist = preds.cpu().tolist() \n",
    "  \n",
    "    cm = np.zeros((len(emo_dict.keys()),len(emo_dict.keys())), dtype=np.int64) # recall\n",
    "       \n",
    "  \n",
    "    for label, pred in zip(labels.view(-1), preds.view(-1)):\n",
    "        cm[label.long(), pred.long()] += 1\n",
    "   \n",
    "    if not args.emoset == 'semeval':\n",
    "        cm = cm[0:len(focus_emo), 0:len(focus_emo)]\n",
    "        gt_labels_per_class =  cm.sum(axis = 1)\n",
    "        preds_per_class =  cm.sum(axis = 0)\n",
    "        tp = cm.diagonal()[0:]\n",
    "        fp = preds_per_class-tp\n",
    "        fn = gt_labels_per_class- tp\n",
    "    else:\n",
    "        gt_labels_per_class =  cm[1:, :].sum(axis = 1)\n",
    "        preds_per_class =  cm[:, 1:].sum(axis = 0)\n",
    "        tp = cm.diagonal()[1:]\n",
    "        fp = preds_per_class-tp\n",
    "        fn = gt_labels_per_class- tp\n",
    "   \n",
    "    return {'val_loss': loss, \n",
    "            'tp': tp, \n",
    "            'fp': fp, \n",
    "            'fn': fn, \n",
    "            'preds':preds_per_class,\n",
    "            'labels': gt_labels_per_class ,\n",
    "            'y_pred':predslist,\n",
    "            'y_true':labelslist\n",
    "            }\n",
    "\n",
    "'''\n",
    "    Calculates Macro/Micro Precision/Recall/F1-Score\n",
    "    ----------\n",
    "        \n",
    "'''\n",
    "def calc_f1_score(tp, fp, fn):\n",
    "    prec_rec_f1 = {}\n",
    "    tp_fn = tp+fn\n",
    "    tp_fp = tp+fp\n",
    "\n",
    "\n",
    "    Recall = [np.round(tp/tp_fn*100, 2) if tp_fn>0 else 0.0 for tp,tp_fn in zip(tp,tp_fn)]\n",
    "    prec_rec_f1['microRecall'] = np.round((sum(tp)/ sum(tp_fn))*100, 2)\n",
    "    prec_rec_f1['macroRecall'] = np.round (sum(Recall) / len(Recall),2)\n",
    "    \n",
    "    Precision = [np.round(tp/tp_fp*100, 2) if tp_fp>0 else 0.0 for tp,tp_fp in zip(tp,tp_fp)]\n",
    "    prec_rec_f1['microPrecision'] = np.round((sum(tp)/ sum(tp_fp))*100, 2)\n",
    "    prec_rec_f1['macroPrecision'] = np.round(sum(Precision) / len(Precision),2)\n",
    "    \n",
    "    per_class_f1score = []\n",
    "    f1_numenator = [2*x*y for (x, y) in zip(Recall, Precision)]\n",
    "    f1_denominator = [x + y for (x, y) in zip(Recall, Precision)]\n",
    "\n",
    "    for num1, num2 in zip(f1_numenator,f1_denominator):\n",
    "        if  num2:\n",
    "            per_class_f1score.append(np.round(num1 / num2, 2))\n",
    "        else:\n",
    "            per_class_f1score.append(0.0)\n",
    "    \n",
    "    macroPrecision = prec_rec_f1['macroPrecision']\n",
    "    macroRecall = prec_rec_f1['macroRecall']\n",
    "    macroF1 = (2 * macroRecall * macroPrecision ) / (macroPrecision + macroRecall) if (macroPrecision+macroRecall) > 0 else 0\n",
    "    prec_rec_f1['microF1_score'] = 2 * (prec_rec_f1['microPrecision'] * prec_rec_f1['microRecall']) / (prec_rec_f1['microPrecision'] + prec_rec_f1['microRecall'])\n",
    "    prec_rec_f1['macroF1_score'] = np.round(macroF1, 2)\n",
    "    \n",
    "   \n",
    "    prec_rec_f1['macroF1_per_class'] = per_class_f1score\n",
    "    return prec_rec_f1\n",
    "\n",
    "\n",
    "'''\n",
    "    Calculates Macro/Micro Precision/Recall/F1-Score from y_true, y_pred\n",
    "    ----------\n",
    "        \n",
    "'''\n",
    "def calc_f1_score_1(y_pred, y_true,emo_dict, focus_emo):\n",
    "    cm = np.zeros((len(emo_dict.keys()),len(emo_dict.keys())), dtype=np.int64) # recall\n",
    "\n",
    "\n",
    "    for label, pred in zip(y_true, y_pred):\n",
    "        cm[label, pred] += 1\n",
    "\n",
    "    cm = cm[0:len(focus_emo), 0:len(focus_emo)]\n",
    "    gt_labels_per_class =  cm.sum(axis = 1)\n",
    "    preds_per_class =  cm.sum(axis = 0)\n",
    "    tp = cm.diagonal()[0:]\n",
    "    fp = preds_per_class-tp\n",
    "    fn = gt_labels_per_class- tp\n",
    "\n",
    "    tp_fn = tp+fn\n",
    "    tp_fp = tp+fp\n",
    "\n",
    "    Recall = [np.round(tp/tp_fn*100, 2) if tp_fn>0 else 0.0 for tp,tp_fn in zip(tp,tp_fn)]\n",
    "    microRecall  = np.round((sum(tp)/ sum(tp_fn))*100, 2)\n",
    "    macroRecall = np.round (sum(Recall) / len(Recall),2)\n",
    "\n",
    "    Precision = [np.round(tp/tp_fp*100, 2) if tp_fp>0 else 0.0 for tp,tp_fp in zip(tp,tp_fp)]\n",
    "    microPrecision = np.round((sum(tp)/ sum(tp_fp))*100, 2)\n",
    "    macroPrecision = np.round(sum(Precision) / len(Precision),2)\n",
    "\n",
    "    macroF1 = (2 * macroRecall * macroPrecision ) / (macroPrecision + macroRecall) if (macroPrecision+macroRecall) > 0 else 0\n",
    "    microF1 = (2 * microRecall * microPrecision ) / (microPrecision + microRecall) if (microPrecision+microRecall) > 0 else 0\n",
    "    macroF1 = np.round(macroF1, 2)\n",
    "    microF1 = np.round(microF1, 2)\n",
    "    return macroF1, microF1\n",
    "\n",
    "\n",
    "\n",
    "\n"
   ]
  },
  {
   "cell_type": "markdown",
   "id": "8fe6033b",
   "metadata": {},
   "source": [
    "# PyTorch Lightning\n",
    "\n",
    "> We use pytorch lighting framework for the Training/Evaluation Loop Implementation"
   ]
  },
  {
   "cell_type": "code",
   "execution_count": 18,
   "id": "28357537",
   "metadata": {},
   "outputs": [],
   "source": [
    "class EmotionModel(pl.LightningModule):\n",
    "    \"\"\"\n",
    "    PyTorch Lightning module for the Contextual Emotion Detection in Text Challenge\n",
    "    \"\"\"\n",
    "\n",
    "    def __init__(self, emo_dict, focus_dict, args, df_train, df_val, df_test, verbosity = 1):\n",
    "        \"\"\"\n",
    "        pass in parsed HyperOptArgumentParser to the model\n",
    "        \"\"\"\n",
    "        super(EmotionModel, self).__init__()\n",
    "\n",
    "        self.model_name = 'Semeval'\n",
    "        self.emo_dict = emo_dict\n",
    "        self.focus_dict = focus_dict\n",
    "        self.focus_emo = [emo_dict[w] for w in focus_dict]\n",
    "        self.max_seq_len = args.max_seq_len\n",
    "        self.dropout = args.dropout\n",
    "        self.projection_size = args.projection_size\n",
    "        self.args = args\n",
    "        self.n_layers = args.n_layers\n",
    "        self.df_train = df_train\n",
    "        self.df_val = df_val\n",
    "        self.df_test = df_test\n",
    "        self.verbosity = verbosity\n",
    "        if args.speaker_embedding:\n",
    "            print('Speaker Embedding is Enabled')\n",
    "            self.encoder, self.max_number_of_speakers_in_dialogue = self.get_speakers_encoder_with_complete_speakers_list()\n",
    "            print('Max number of speakers in a dialgue = {}'.format(self.max_number_of_speakers_in_dialogue))\n",
    "        else:\n",
    "            print('Speaker Embedding is Disabled')\n",
    "            self.max_number_of_speakers_in_dialogue =0\n",
    "            self.encoder = 0\n",
    "            \n",
    "        if not self.args.emoset == 'semeval':\n",
    "            self.max_number_of_utter_in_dialogue = self.get_max_utterance_length_in_dialogue()\n",
    "        else:\n",
    "            self.max_number_of_utter_in_dialogue = 3\n",
    "        \n",
    "        #Need to explore this hyperparameter\n",
    "        self.weight_rate =1\n",
    "        self.loss_weights = self.calc_loss_weight(self.df_train, self.weight_rate )\n",
    "        self.loss_weights = self.loss_weights.cuda(self.args.device)\n",
    "        print( 'loss weights = {}'.format(self.loss_weights))\n",
    "        self.class_weights = self.calc_class_weight(self.df_train, self.weight_rate )\n",
    "        self.class_weights = self.class_weights.cuda(self.args.device)\n",
    "        print( 'class weights = {}'.format(self.class_weights))\n",
    "        self.sentence_embeds_model = sentence_embeds_model(self.args, dropout = self.dropout)\n",
    "        self.context_classifier_model = context_classifier_model(self.sentence_embeds_model.embedding_size,\n",
    "                                                                 self.projection_size, \n",
    "                                                                 self.n_layers, \n",
    "                                                                 self.emo_dict, \n",
    "                                                                 self.focus_dict,\n",
    "                                                                 self.max_number_of_speakers_in_dialogue,\n",
    "                                                                 self.max_number_of_utter_in_dialogue,\n",
    "                                                                 self.args,\n",
    "                                                                 self.loss_weights,\n",
    "                                                                 dropout = self.dropout)\n",
    "        self.sentence_embeds_model.cuda(self.args.device)\n",
    "        self.context_classifier_model.cuda(self.args.device)\n",
    "    \n",
    "    def calc_loss_weight(self, df, rate=1.0):\n",
    "        \"\"\" Loss weights \"\"\"\n",
    "        emo_count = {}\n",
    "        for emo in self.emo_dict.keys():\n",
    "            emo_count[emo] =df['label'].value_counts()[emo]\n",
    "        min_emo = float(min([ emo_count[w] for w in self.focus_dict]))\n",
    "        if self.args.balance_weight_warming:\n",
    "            weight = [math.pow(min_emo / emo_count[k], rate) if k in self.focus_dict else 0 for k,v in emo_count.items()]\n",
    "        else:\n",
    "            weight = [math.pow(1, rate) if k in self.focus_dict else 0 for k,v in emo_count.items()]\n",
    "        weight = np.array(weight)\n",
    "        weight /= np.sum(weight)\n",
    "        weight = torch.from_numpy(weight).float()\n",
    "        return weight\n",
    "    \n",
    "    def calc_class_weight(self, df, rate=1.0):\n",
    "        \"\"\" class weights \"\"\"\n",
    "        emo_count = {}\n",
    "        for emo in self.emo_dict.keys():\n",
    "            if emo in self.focus_dict:\n",
    "                emo_count[emo] =df['label'].value_counts()[emo]\n",
    "            \n",
    "        \n",
    "        weight = [(v / sum(emo_count.values())) for k,v in emo_count.items()]\n",
    "        weight = np.array(weight)\n",
    "        weight = torch.from_numpy(weight).float()\n",
    "        return weight\n",
    "    \n",
    "    \n",
    "    def get_speakers_encoder_with_complete_speakers_list(self):\n",
    "        speaker_list = list(self.df_train.speaker)\n",
    "        speaker_list.extend(list(self.df_val.speaker))\n",
    "        speaker_list.extend(list(self.df_test.speaker))\n",
    "        speaker_set = set(speaker_list )\n",
    "        speaker_list = []\n",
    "        for e in speaker_set:\n",
    "            templist = []\n",
    "            templist.append(e)\n",
    "            speaker_list.append(templist)\n",
    "        cat = OneHotEncoder()\n",
    "        cat.fit(np.asarray(speaker_list, dtype = object))\n",
    "        return cat, len(speaker_set)\n",
    " \n",
    "    def get_speakers_encoder_with_only_main_speakers_list(self):\n",
    "        \n",
    "        speaker_list = []\n",
    "        complete_speaker_list = list(self.df_train['speaker'])\n",
    "        complete_speaker_list.extend(list(self.df_val['speaker']))\n",
    "        complete_speaker_list.extend(list(self.df_test['speaker']))\n",
    "        occurence_count = Counter(complete_speaker_list)\n",
    "        common_speakers = occurence_count.most_common(6)\n",
    "        for e in common_speakers:\n",
    "            templist = []\n",
    "            templist.append(e[0])\n",
    "            speaker_list.append(templist)\n",
    "        speaker_list.append(['Unknown'])\n",
    "        cat = OneHotEncoder()\n",
    "        cat.fit(np.asarray(speaker_list, dtype = object))\n",
    "        return cat, len(cat.categories_[0].tolist())\n",
    "\n",
    "    def get_max_number_of_speakers_in_dialogue(self):\n",
    "        number_of_speakers_in_dialogue = []\n",
    "        train_dialogue_id_list = list((self.df_train['dialogue_id'].unique()))\n",
    "        val_dialogue_id_list = list((self.df_val['dialogue_id'].unique()))\n",
    "        test_dialogue_id_list = list((self.df_test['dialogue_id'].unique()))\n",
    "        \n",
    "        for dialogue in train_dialogue_id_list:\n",
    "            number_of_speakers_in_dialogue.append(len(set(self.df_train[(self.df_train.dialogue_id ==dialogue)].speaker)))\n",
    "        for dialogue in val_dialogue_id_list:\n",
    "            number_of_speakers_in_dialogue.append(len(set(self.df_val[(self.df_val.dialogue_id ==dialogue)].speaker)))\n",
    "        for dialogue in test_dialogue_id_list:\n",
    "            number_of_speakers_in_dialogue.append(len(set(self.df_test[(self.df_test.dialogue_id ==dialogue)].speaker)))\n",
    "        return( max(number_of_speakers_in_dialogue))\n",
    "    \n",
    "    def get_max_utterance_length_in_dialogue(self):\n",
    "        #import IPython; IPython.embed();  exit(1)\n",
    "        train_dialogue_id_list = list((self.df_train['dialogue_id'].unique()))\n",
    "        val_dialogue_id_list = list((self.df_val['dialogue_id'].unique()))\n",
    "        test_dialogue_id_list = list((self.df_test['dialogue_id'].unique()))\n",
    "        number_of_utterance_in_dialogue = []\n",
    "        for dialogue in train_dialogue_id_list:\n",
    "             number_of_utterance_in_dialogue.append((self.df_train.dialogue_id ==dialogue).sum())\n",
    "        for dialogue in val_dialogue_id_list:\n",
    "             number_of_utterance_in_dialogue.append((self.df_val.dialogue_id ==dialogue).sum())\n",
    "        for dialogue in test_dialogue_id_list:\n",
    "             number_of_utterance_in_dialogue.append((self.df_test.dialogue_id ==dialogue).sum())\n",
    "        return( max(number_of_utterance_in_dialogue))\n",
    "       \n",
    "\n",
    "    def forward(self, input_ids, attention_mask, spkr_emd, labels = None):\n",
    "        \"\"\"\n",
    "        no special modification required for lightning, define as you normally would\n",
    "        \"\"\"\n",
    "      \n",
    "        sentence_embeds = self.sentence_embeds_model(input_ids = input_ids, \n",
    "                                                             attention_mask = attention_mask)\n",
    "    \n",
    "        return self.context_classifier_model(sentence_embeds = sentence_embeds,spkr_emd = spkr_emd, labels = labels)\n",
    "    \n",
    "    def training_step(self, batch, batch_idx):\n",
    "        \"\"\"\n",
    "        Lightning calls this inside the training loop\n",
    "        \"\"\"       \n",
    "        input_ids, attention_mask, spkr_emd , labels = batch\n",
    "        spkr_emd = spkr_emd.cuda(self.args.device)\n",
    "        labels = labels.view(-1)\n",
    "              \n",
    "        loss, _ = self.forward(input_ids = input_ids, attention_mask = attention_mask, spkr_emd = spkr_emd, labels = labels)\n",
    "       \n",
    "        tensorboard_logs = {'train_loss': loss}\n",
    "        self.log('train_loss', loss, prog_bar=True)\n",
    "        return {'loss': loss, 'log': tensorboard_logs}\n",
    "\n",
    "    \n",
    "    def validation_step(self, batch, batch_idx):\n",
    "        \"\"\"\n",
    "        Lightning calls this inside the validation loop\n",
    "        \"\"\"\n",
    "        \n",
    "        input_ids, attention_mask, spkr_emd , labels = batch\n",
    "        spkr_emd = spkr_emd.cuda(self.args.device)\n",
    "        labels = labels.view(-1)\n",
    "        \n",
    "        loss, logits = self.forward(input_ids = input_ids, attention_mask = attention_mask,spkr_emd = spkr_emd,  labels = labels)\n",
    "        scores_dict = metrics(loss, logits, labels, self.emo_dict,self.focus_emo, self.args)\n",
    "        return scores_dict\n",
    "    \n",
    "    def validation_epoch_end(self, outputs):\n",
    "        \"\"\"\n",
    "        called at the end of validation to aggregate outputs\n",
    "        :param outputs: list of individual outputs of each validation step\n",
    "        :return:\n",
    "        \"\"\"\n",
    "        #import IPython; IPython.embed();  exit(1)\n",
    "        tqdm_dict = {}\n",
    "        \n",
    "        tqdm_dict['val_loss'] = 0\n",
    "        tqdm_dict['preds'] = [0 for w in self.focus_dict]\n",
    "        tqdm_dict['labels'] = [0 for w in self.focus_dict]\n",
    "        tqdm_dict['tp'] = [0 for w in self.focus_dict]\n",
    "        tqdm_dict['fp'] = [0 for w in self.focus_dict]\n",
    "        tqdm_dict['fn'] = [0 for w in self.focus_dict]\n",
    "        tqdm_dict['acc_per_class'] = [0 for w in self.focus_dict]\n",
    "        tqdm_dict['y_pred'] = []\n",
    "        tqdm_dict['y_true'] = []\n",
    "        \n",
    "        for metric_name in outputs[0].keys():\n",
    "          \n",
    "            for output in outputs:\n",
    "                metric_value = output[metric_name]\n",
    "                if metric_name in ['y_pred', 'y_true']:\n",
    "                    tqdm_dict[metric_name].extend(metric_value)\n",
    "                else:\n",
    "                    tqdm_dict[metric_name] += metric_value\n",
    "                    \n",
    "            if metric_name in ['val_loss']:\n",
    "                tqdm_dict[metric_name] =  tqdm_dict[metric_name] / len(outputs)\n",
    "                \n",
    "               \n",
    "        for i in range(len(self.focus_dict)):\n",
    "            if  tqdm_dict['labels'][i]:\n",
    "                tqdm_dict['acc_per_class'][i] = np.round((tqdm_dict['tp'][i] / tqdm_dict['labels'][i])*100, 2)\n",
    "            else:\n",
    "                tqdm_dict['acc_per_class'][i] = 0.0\n",
    "        \n",
    "        \n",
    "        tqdm_dict['acc_unweighted'] = np.round(sum(tqdm_dict['acc_per_class']) / len(tqdm_dict['acc_per_class']),2)       \n",
    "        tqdm_dict['acc_weighted'] = sum(weight * value for weight, value in zip(self.class_weights, tqdm_dict['acc_per_class']))\n",
    "        \n",
    "        tqdm_dict['acc_weighted'] = (tqdm_dict['acc_weighted'] * 10**2).round() / (10**2)\n",
    "        prec_rec_f1 = calc_f1_score(tqdm_dict['tp'], tqdm_dict['fp'], tqdm_dict['fn'])\n",
    "        tqdm_dict.update(prec_rec_f1) \n",
    "        self.y_true = tqdm_dict.pop(\"y_true\", None)\n",
    "        self.y_pred = tqdm_dict.pop(\"y_pred\", None)\n",
    "        \n",
    "        microF1_per_class = {}\n",
    "        for emotion_class in range(len(tqdm_dict[\"macroF1_per_class\"])):\n",
    "            microF1_per_class[str(emotion_class)] = tqdm_dict[\"macroF1_per_class\"][emotion_class]\n",
    "      \n",
    "        self.log('valid_loss', tqdm_dict[\"val_loss\"], prog_bar=False)\n",
    "        self.log('valid_ac_unweighted', tqdm_dict[\"acc_unweighted\"], prog_bar=False)\n",
    "        self.log('macroF1', tqdm_dict[\"macroF1_score\"], prog_bar=False)\n",
    "        self.log('microF1', tqdm_dict[\"microF1_score\"], prog_bar=False)\n",
    "        self.log('microF1_per_class', microF1_per_class, prog_bar=False)\n",
    "        \n",
    "        \n",
    "        if self.verbosity :\n",
    "            print(*tqdm_dict.items(), sep='\\n')\n",
    "        result = {'progress_bar': tqdm_dict, 'log': tqdm_dict, 'val_loss': tqdm_dict[\"val_loss\"] }\n",
    "        \n",
    "        return result\n",
    "\n",
    "    \n",
    "    def test_step(self, batch, batch_idx):\n",
    " \n",
    "        return self.validation_step(batch, batch_idx)\n",
    "\n",
    "    \n",
    "    def test_epoch_end(self, outputs):\n",
    "        return_value =  self.validation_epoch_end(outputs)\n",
    "        return (return_value)\n",
    "    \n",
    "    def configure_optimizers(self):\n",
    "        \"\"\"\n",
    "        returns the optimizer and scheduler\n",
    "        \"\"\"\n",
    "        params = self.sentence_embeds_model.layerwise_lr(self.args.lr, self.args.layerwise_decay)\n",
    "        params += [{'params': self.context_classifier_model.parameters()}]\n",
    "        self.optimizer = torch.optim.Adam(params, lr=self.args.lr)\n",
    "        self.scheduler = torch.optim.lr_scheduler.CosineAnnealingLR(self.optimizer, T_max=10)\n",
    "        return [self.optimizer], [self.scheduler]\n",
    "    \n",
    "\n",
    "   \n",
    "    def train_dataloader(self):\n",
    "        \n",
    "        dataset = CustomDataset(self.df_train, self.max_number_of_speakers_in_dialogue, self.emo_dict, self.encoder, self.args)\n",
    "        train_loader = DataLoader(dataset, self.args.batch_size, shuffle=True, num_workers=0)\n",
    "      \n",
    "        return train_loader\n",
    "\n",
    "    \n",
    "\n",
    "    def val_dataloader(self):\n",
    "\n",
    "        dataset = CustomDataset(self.df_val, self.max_number_of_speakers_in_dialogue, self.emo_dict, self.encoder, self.args)\n",
    "        val_loader = DataLoader(dataset, self.args.batch_size, shuffle=False, num_workers=0)\n",
    "      \n",
    "        return val_loader\n",
    "\n",
    "    def test_dataloader(self):\n",
    "        \n",
    "        dataset = CustomDataset(self.df_test, self.max_number_of_speakers_in_dialogue, self.emo_dict, self.encoder, self.args)\n",
    "        test_loader = DataLoader(dataset, self.args.batch_size, shuffle=False, num_workers=0)\n",
    "       \n",
    "        return test_loader     \n",
    "\n",
    "def train_model (model):\n",
    "    \n",
    "    early_stop_callback = pl.callbacks.EarlyStopping(monitor='valid_loss', min_delta=0.0005, patience=5,\n",
    "                                        verbose=True, mode='min')\n",
    "   \n",
    "    if model.args.emoset == 'emotionpush' or model.args.emoset == 'emotionpush_german' :\n",
    "        checkpoint_callback = pl.callbacks.ModelCheckpoint( monitor='macroF1' , mode = 'max', save_top_k = model.args.epochs) \n",
    "    else:\n",
    "        checkpoint_callback = pl.callbacks.ModelCheckpoint( monitor='valid_loss' , mode = 'min', save_top_k = model.args.epochs)\n",
    "  \n",
    "    gpu_list = [int(model.args.gpu)]  \n",
    "    trainer = pl.Trainer(default_root_dir=os.getcwd(),\n",
    "                    gpus=(gpu_list if torch.cuda.is_available() else 0),\n",
    "                    max_epochs= model.args.epochs,\n",
    "                    fast_dev_run=False,\n",
    "                    deterministic=True,\n",
    "                    callbacks = [early_stop_callback,checkpoint_callback] \n",
    "                    )\n",
    "    trainer.fit(model)\n",
    "    return trainer\n",
    "    \n",
    "def test_model(trainer, model):\n",
    "    if 1:\n",
    "        print('In Test Model')\n",
    "        score = trainer.test(verbose = model.verbosity)\n",
    "    else:\n",
    "        checkpoint_path = './lightning_logs/version_0/checkpoints/'\n",
    "        checkpoints = os.listdir(checkpoint_path)\n",
    "\n",
    "        for checkpoint in checkpoints:\n",
    "            print(checkpoint)\n",
    "            score = trainer.test(ckpt_path = checkpoint_path + checkpoint )\n",
    "    return score "
   ]
  },
  {
   "cell_type": "markdown",
   "id": "e1f9e107",
   "metadata": {},
   "source": [
    "# Create Model"
   ]
  },
  {
   "cell_type": "code",
   "execution_count": 19,
   "id": "01db33ba",
   "metadata": {},
   "outputs": [
    {
     "name": "stdout",
     "output_type": "stream",
     "text": [
      "Speaker Embedding is Enabled\n",
      "Max number of speakers in a dialgue = 364\n",
      "loss weights = tensor([0.2500, 0.2500, 0.2500, 0.2500, 0.0000, 0.0000, 0.0000, 0.0000],\n",
      "       device='cuda:0')\n",
      "class weights = tensor([0.7844, 0.0427, 0.0103, 0.1626], device='cuda:0')\n",
      "In function DistilBertForSequenceClassification\n"
     ]
    },
    {
     "data": {
      "text/plain": [
       "EmotionModel(\n",
       "  (sentence_embeds_model): sentence_embeds_model(\n",
       "    (transformer): DistilBertModel(\n",
       "      (embeddings): Embeddings(\n",
       "        (word_embeddings): Embedding(30522, 768, padding_idx=0)\n",
       "        (position_embeddings): Embedding(512, 768)\n",
       "        (LayerNorm): LayerNorm((768,), eps=1e-12, elementwise_affine=True)\n",
       "        (dropout): Dropout(p=0.1, inplace=False)\n",
       "      )\n",
       "      (transformer): Transformer(\n",
       "        (layer): ModuleList(\n",
       "          (0): TransformerBlock(\n",
       "            (attention): MultiHeadSelfAttention(\n",
       "              (dropout): Dropout(p=0.1, inplace=False)\n",
       "              (q_lin): Linear(in_features=768, out_features=768, bias=True)\n",
       "              (k_lin): Linear(in_features=768, out_features=768, bias=True)\n",
       "              (v_lin): Linear(in_features=768, out_features=768, bias=True)\n",
       "              (out_lin): Linear(in_features=768, out_features=768, bias=True)\n",
       "            )\n",
       "            (sa_layer_norm): LayerNorm((768,), eps=1e-12, elementwise_affine=True)\n",
       "            (ffn): FFN(\n",
       "              (dropout): Dropout(p=0.1, inplace=False)\n",
       "              (lin1): Linear(in_features=768, out_features=3072, bias=True)\n",
       "              (lin2): Linear(in_features=3072, out_features=768, bias=True)\n",
       "            )\n",
       "            (output_layer_norm): LayerNorm((768,), eps=1e-12, elementwise_affine=True)\n",
       "          )\n",
       "          (1): TransformerBlock(\n",
       "            (attention): MultiHeadSelfAttention(\n",
       "              (dropout): Dropout(p=0.1, inplace=False)\n",
       "              (q_lin): Linear(in_features=768, out_features=768, bias=True)\n",
       "              (k_lin): Linear(in_features=768, out_features=768, bias=True)\n",
       "              (v_lin): Linear(in_features=768, out_features=768, bias=True)\n",
       "              (out_lin): Linear(in_features=768, out_features=768, bias=True)\n",
       "            )\n",
       "            (sa_layer_norm): LayerNorm((768,), eps=1e-12, elementwise_affine=True)\n",
       "            (ffn): FFN(\n",
       "              (dropout): Dropout(p=0.1, inplace=False)\n",
       "              (lin1): Linear(in_features=768, out_features=3072, bias=True)\n",
       "              (lin2): Linear(in_features=3072, out_features=768, bias=True)\n",
       "            )\n",
       "            (output_layer_norm): LayerNorm((768,), eps=1e-12, elementwise_affine=True)\n",
       "          )\n",
       "          (2): TransformerBlock(\n",
       "            (attention): MultiHeadSelfAttention(\n",
       "              (dropout): Dropout(p=0.1, inplace=False)\n",
       "              (q_lin): Linear(in_features=768, out_features=768, bias=True)\n",
       "              (k_lin): Linear(in_features=768, out_features=768, bias=True)\n",
       "              (v_lin): Linear(in_features=768, out_features=768, bias=True)\n",
       "              (out_lin): Linear(in_features=768, out_features=768, bias=True)\n",
       "            )\n",
       "            (sa_layer_norm): LayerNorm((768,), eps=1e-12, elementwise_affine=True)\n",
       "            (ffn): FFN(\n",
       "              (dropout): Dropout(p=0.1, inplace=False)\n",
       "              (lin1): Linear(in_features=768, out_features=3072, bias=True)\n",
       "              (lin2): Linear(in_features=3072, out_features=768, bias=True)\n",
       "            )\n",
       "            (output_layer_norm): LayerNorm((768,), eps=1e-12, elementwise_affine=True)\n",
       "          )\n",
       "          (3): TransformerBlock(\n",
       "            (attention): MultiHeadSelfAttention(\n",
       "              (dropout): Dropout(p=0.1, inplace=False)\n",
       "              (q_lin): Linear(in_features=768, out_features=768, bias=True)\n",
       "              (k_lin): Linear(in_features=768, out_features=768, bias=True)\n",
       "              (v_lin): Linear(in_features=768, out_features=768, bias=True)\n",
       "              (out_lin): Linear(in_features=768, out_features=768, bias=True)\n",
       "            )\n",
       "            (sa_layer_norm): LayerNorm((768,), eps=1e-12, elementwise_affine=True)\n",
       "            (ffn): FFN(\n",
       "              (dropout): Dropout(p=0.1, inplace=False)\n",
       "              (lin1): Linear(in_features=768, out_features=3072, bias=True)\n",
       "              (lin2): Linear(in_features=3072, out_features=768, bias=True)\n",
       "            )\n",
       "            (output_layer_norm): LayerNorm((768,), eps=1e-12, elementwise_affine=True)\n",
       "          )\n",
       "          (4): TransformerBlock(\n",
       "            (attention): MultiHeadSelfAttention(\n",
       "              (dropout): Dropout(p=0.1, inplace=False)\n",
       "              (q_lin): Linear(in_features=768, out_features=768, bias=True)\n",
       "              (k_lin): Linear(in_features=768, out_features=768, bias=True)\n",
       "              (v_lin): Linear(in_features=768, out_features=768, bias=True)\n",
       "              (out_lin): Linear(in_features=768, out_features=768, bias=True)\n",
       "            )\n",
       "            (sa_layer_norm): LayerNorm((768,), eps=1e-12, elementwise_affine=True)\n",
       "            (ffn): FFN(\n",
       "              (dropout): Dropout(p=0.1, inplace=False)\n",
       "              (lin1): Linear(in_features=768, out_features=3072, bias=True)\n",
       "              (lin2): Linear(in_features=3072, out_features=768, bias=True)\n",
       "            )\n",
       "            (output_layer_norm): LayerNorm((768,), eps=1e-12, elementwise_affine=True)\n",
       "          )\n",
       "          (5): TransformerBlock(\n",
       "            (attention): MultiHeadSelfAttention(\n",
       "              (dropout): Dropout(p=0.1, inplace=False)\n",
       "              (q_lin): Linear(in_features=768, out_features=768, bias=True)\n",
       "              (k_lin): Linear(in_features=768, out_features=768, bias=True)\n",
       "              (v_lin): Linear(in_features=768, out_features=768, bias=True)\n",
       "              (out_lin): Linear(in_features=768, out_features=768, bias=True)\n",
       "            )\n",
       "            (sa_layer_norm): LayerNorm((768,), eps=1e-12, elementwise_affine=True)\n",
       "            (ffn): FFN(\n",
       "              (dropout): Dropout(p=0.1, inplace=False)\n",
       "              (lin1): Linear(in_features=768, out_features=3072, bias=True)\n",
       "              (lin2): Linear(in_features=3072, out_features=768, bias=True)\n",
       "            )\n",
       "            (output_layer_norm): LayerNorm((768,), eps=1e-12, elementwise_affine=True)\n",
       "          )\n",
       "        )\n",
       "      )\n",
       "    )\n",
       "  )\n",
       "  (context_classifier_model): context_classifier_model(\n",
       "    (projection): Linear(in_features=1536, out_features=768, bias=True)\n",
       "    (position_embeds): Embedding(24, 768)\n",
       "    (norm): LayerNorm((1132,), eps=1e-05, elementwise_affine=True)\n",
       "    (drop): Dropout(p=0.1, inplace=False)\n",
       "    (context_transformer): DistilBertForSequenceClassification(\n",
       "      (distilbert): DistilBertModel(\n",
       "        (embeddings): Embeddings(\n",
       "          (word_embeddings): Embedding(30522, 1132, padding_idx=0)\n",
       "          (position_embeddings): Embedding(512, 1132)\n",
       "          (LayerNorm): LayerNorm((1132,), eps=1e-12, elementwise_affine=True)\n",
       "          (dropout): Dropout(p=0.1, inplace=False)\n",
       "        )\n",
       "        (transformer): Transformer(\n",
       "          (layer): ModuleList(\n",
       "            (0): TransformerBlock(\n",
       "              (attention): MultiHeadSelfAttention(\n",
       "                (dropout): Dropout(p=0.1, inplace=False)\n",
       "                (q_lin): Linear(in_features=1132, out_features=1132, bias=True)\n",
       "                (k_lin): Linear(in_features=1132, out_features=1132, bias=True)\n",
       "                (v_lin): Linear(in_features=1132, out_features=1132, bias=True)\n",
       "                (out_lin): Linear(in_features=1132, out_features=1132, bias=True)\n",
       "              )\n",
       "              (sa_layer_norm): LayerNorm((1132,), eps=1e-12, elementwise_affine=True)\n",
       "              (ffn): FFN(\n",
       "                (dropout): Dropout(p=0.1, inplace=False)\n",
       "                (lin1): Linear(in_features=1132, out_features=3072, bias=True)\n",
       "                (lin2): Linear(in_features=3072, out_features=1132, bias=True)\n",
       "              )\n",
       "              (output_layer_norm): LayerNorm((1132,), eps=1e-12, elementwise_affine=True)\n",
       "            )\n",
       "            (1): TransformerBlock(\n",
       "              (attention): MultiHeadSelfAttention(\n",
       "                (dropout): Dropout(p=0.1, inplace=False)\n",
       "                (q_lin): Linear(in_features=1132, out_features=1132, bias=True)\n",
       "                (k_lin): Linear(in_features=1132, out_features=1132, bias=True)\n",
       "                (v_lin): Linear(in_features=1132, out_features=1132, bias=True)\n",
       "                (out_lin): Linear(in_features=1132, out_features=1132, bias=True)\n",
       "              )\n",
       "              (sa_layer_norm): LayerNorm((1132,), eps=1e-12, elementwise_affine=True)\n",
       "              (ffn): FFN(\n",
       "                (dropout): Dropout(p=0.1, inplace=False)\n",
       "                (lin1): Linear(in_features=1132, out_features=3072, bias=True)\n",
       "                (lin2): Linear(in_features=3072, out_features=1132, bias=True)\n",
       "              )\n",
       "              (output_layer_norm): LayerNorm((1132,), eps=1e-12, elementwise_affine=True)\n",
       "            )\n",
       "            (2): TransformerBlock(\n",
       "              (attention): MultiHeadSelfAttention(\n",
       "                (dropout): Dropout(p=0.1, inplace=False)\n",
       "                (q_lin): Linear(in_features=1132, out_features=1132, bias=True)\n",
       "                (k_lin): Linear(in_features=1132, out_features=1132, bias=True)\n",
       "                (v_lin): Linear(in_features=1132, out_features=1132, bias=True)\n",
       "                (out_lin): Linear(in_features=1132, out_features=1132, bias=True)\n",
       "              )\n",
       "              (sa_layer_norm): LayerNorm((1132,), eps=1e-12, elementwise_affine=True)\n",
       "              (ffn): FFN(\n",
       "                (dropout): Dropout(p=0.1, inplace=False)\n",
       "                (lin1): Linear(in_features=1132, out_features=3072, bias=True)\n",
       "                (lin2): Linear(in_features=3072, out_features=1132, bias=True)\n",
       "              )\n",
       "              (output_layer_norm): LayerNorm((1132,), eps=1e-12, elementwise_affine=True)\n",
       "            )\n",
       "            (3): TransformerBlock(\n",
       "              (attention): MultiHeadSelfAttention(\n",
       "                (dropout): Dropout(p=0.1, inplace=False)\n",
       "                (q_lin): Linear(in_features=1132, out_features=1132, bias=True)\n",
       "                (k_lin): Linear(in_features=1132, out_features=1132, bias=True)\n",
       "                (v_lin): Linear(in_features=1132, out_features=1132, bias=True)\n",
       "                (out_lin): Linear(in_features=1132, out_features=1132, bias=True)\n",
       "              )\n",
       "              (sa_layer_norm): LayerNorm((1132,), eps=1e-12, elementwise_affine=True)\n",
       "              (ffn): FFN(\n",
       "                (dropout): Dropout(p=0.1, inplace=False)\n",
       "                (lin1): Linear(in_features=1132, out_features=3072, bias=True)\n",
       "                (lin2): Linear(in_features=3072, out_features=1132, bias=True)\n",
       "              )\n",
       "              (output_layer_norm): LayerNorm((1132,), eps=1e-12, elementwise_affine=True)\n",
       "            )\n",
       "          )\n",
       "        )\n",
       "      )\n",
       "      (pre_classifier): Linear(in_features=1132, out_features=1132, bias=True)\n",
       "      (classifier): Linear(in_features=1132, out_features=8, bias=True)\n",
       "      (dropout): Dropout(p=0.2, inplace=False)\n",
       "    )\n",
       "    (bin_loss_fct): BCEWithLogitsLoss()\n",
       "  )\n",
       ")"
      ]
     },
     "execution_count": 19,
     "metadata": {},
     "output_type": "execute_result"
    }
   ],
   "source": [
    "model = EmotionModel(emo_dict, focus_dict, args, df_train, df_val, df_test, verbosity = True)\n",
    "model = model.cuda(args.device)\n",
    "model"
   ]
  },
  {
   "cell_type": "code",
   "execution_count": 48,
   "id": "2ebcf0f6",
   "metadata": {
    "scrolled": true
   },
   "outputs": [
    {
     "name": "stderr",
     "output_type": "stream",
     "text": [
      "GPU available: True, used: True\n",
      "TPU available: False, using: 0 TPU cores\n",
      "LOCAL_RANK: 0 - CUDA_VISIBLE_DEVICES: [0]\n",
      "\n",
      "  | Name                     | Type                     | Params\n",
      "----------------------------------------------------------------------\n",
      "0 | sentence_embeds_model    | sentence_embeds_model    | 66.4 M\n",
      "1 | context_classifier_model | context_classifier_model | 86.0 M\n",
      "----------------------------------------------------------------------\n",
      "152 M     Trainable params\n",
      "0         Non-trainable params\n",
      "152 M     Total params\n",
      "609.457   Total estimated model params size (MB)\n"
     ]
    },
    {
     "data": {
      "application/vnd.jupyter.widget-view+json": {
       "model_id": "",
       "version_major": 2,
       "version_minor": 0
      },
      "text/plain": [
       "HBox(children=(HTML(value='Validation sanity check'), FloatProgress(value=1.0, bar_style='info', layout=Layout…"
      ]
     },
     "metadata": {},
     "output_type": "display_data"
    },
    {
     "name": "stdout",
     "output_type": "stream",
     "text": [
      "using distill-uncased tokenizer\n"
     ]
    },
    {
     "name": "stderr",
     "output_type": "stream",
     "text": [
      "C:\\Users\\neera\\anaconda3\\envs\\NLP3\\lib\\site-packages\\pytorch_lightning\\utilities\\distributed.py:69: UserWarning: The dataloader, val dataloader 0, does not have many workers which may be a bottleneck. Consider increasing the value of the `num_workers` argument` (try 8 which is the number of cpus on this machine) in the `DataLoader` init to improve performance.\n",
      "  warnings.warn(*args, **kwargs)\n",
      "Global seed set to 42\n"
     ]
    },
    {
     "name": "stdout",
     "output_type": "stream",
     "text": [
      "('val_loss', tensor(0.4825, device='cuda:0'))\n",
      "('preds', array([2, 3, 1, 5], dtype=int64))\n",
      "('labels', array([9, 1, 0, 1], dtype=int64))\n",
      "('tp', array([2, 1, 0, 1], dtype=int64))\n",
      "('fp', array([0, 2, 1, 4], dtype=int64))\n",
      "('fn', array([7, 0, 0, 0], dtype=int64))\n",
      "('acc_per_class', [22.22, 100.0, 0.0, 100.0])\n",
      "('acc_unweighted', 55.56)\n",
      "('acc_weighted', tensor(37.9600, device='cuda:0'))\n",
      "('microRecall', 36.36)\n",
      "('macroRecall', 55.56)\n",
      "('microPrecision', 36.36)\n",
      "('macroPrecision', 38.33)\n",
      "('microF1_score', 36.36)\n",
      "('macroF1_score', 45.36)\n",
      "('macroF1_per_class', [36.36, 50.0, 0.0, 33.33])\n",
      "using distill-uncased tokenizer\n"
     ]
    },
    {
     "name": "stderr",
     "output_type": "stream",
     "text": [
      "C:\\Users\\neera\\anaconda3\\envs\\NLP3\\lib\\site-packages\\pytorch_lightning\\utilities\\distributed.py:69: UserWarning: The dataloader, train dataloader, does not have many workers which may be a bottleneck. Consider increasing the value of the `num_workers` argument` (try 8 which is the number of cpus on this machine) in the `DataLoader` init to improve performance.\n",
      "  warnings.warn(*args, **kwargs)\n"
     ]
    },
    {
     "data": {
      "application/vnd.jupyter.widget-view+json": {
       "model_id": "01c01af8094c488eae667e8d95ab0d3b",
       "version_major": 2,
       "version_minor": 0
      },
      "text/plain": [
       "HBox(children=(HTML(value='Training'), FloatProgress(value=1.0, bar_style='info', layout=Layout(flex='2'), max…"
      ]
     },
     "metadata": {},
     "output_type": "display_data"
    },
    {
     "data": {
      "application/vnd.jupyter.widget-view+json": {
       "model_id": "",
       "version_major": 2,
       "version_minor": 0
      },
      "text/plain": [
       "HBox(children=(HTML(value='Validating'), FloatProgress(value=1.0, bar_style='info', layout=Layout(flex='2'), m…"
      ]
     },
     "metadata": {},
     "output_type": "display_data"
    },
    {
     "name": "stderr",
     "output_type": "stream",
     "text": [
      "Metric valid_loss improved. New best score: 0.083\n"
     ]
    },
    {
     "name": "stdout",
     "output_type": "stream",
     "text": [
      "('val_loss', tensor(0.0834, device='cuda:0'))\n",
      "('preds', array([819,  77,   0, 136], dtype=int64))\n",
      "('labels', array([825,  38,   9, 160], dtype=int64))\n",
      "('tp', array([758,  28,   0, 105], dtype=int64))\n",
      "('fp', array([61, 49,  0, 31], dtype=int64))\n",
      "('fn', array([67, 10,  9, 55], dtype=int64))\n",
      "('acc_per_class', [91.88, 73.68, 0.0, 65.62])\n",
      "('acc_unweighted', 57.8)\n",
      "('acc_weighted', tensor(85.8800, device='cuda:0'))\n",
      "('microRecall', 86.34)\n",
      "('macroRecall', 57.8)\n",
      "('microPrecision', 86.34)\n",
      "('macroPrecision', 51.53)\n",
      "('microF1_score', 86.34)\n",
      "('macroF1_score', 54.49)\n",
      "('macroF1_per_class', [92.21, 48.69, 0.0, 70.94])\n"
     ]
    },
    {
     "data": {
      "application/vnd.jupyter.widget-view+json": {
       "model_id": "",
       "version_major": 2,
       "version_minor": 0
      },
      "text/plain": [
       "HBox(children=(HTML(value='Validating'), FloatProgress(value=1.0, bar_style='info', layout=Layout(flex='2'), m…"
      ]
     },
     "metadata": {},
     "output_type": "display_data"
    },
    {
     "name": "stderr",
     "output_type": "stream",
     "text": [
      "Metric valid_loss improved by 0.008 >= min_delta = 0.0005. New best score: 0.075\n"
     ]
    },
    {
     "name": "stdout",
     "output_type": "stream",
     "text": [
      "('val_loss', tensor(0.0749, device='cuda:0'))\n",
      "('preds', array([839,  38,   0, 155], dtype=int64))\n",
      "('labels', array([825,  38,   9, 160], dtype=int64))\n",
      "('tp', array([772,  24,   0, 111], dtype=int64))\n",
      "('fp', array([67, 14,  0, 44], dtype=int64))\n",
      "('fn', array([53, 14,  9, 49], dtype=int64))\n",
      "('acc_per_class', [93.58, 63.16, 0.0, 69.38])\n",
      "('acc_unweighted', 56.53)\n",
      "('acc_weighted', tensor(87.3800, device='cuda:0'))\n",
      "('microRecall', 87.89)\n",
      "('macroRecall', 56.53)\n",
      "('microPrecision', 87.89)\n",
      "('macroPrecision', 56.7)\n",
      "('microF1_score', 87.89)\n",
      "('macroF1_score', 56.61)\n",
      "('macroF1_per_class', [92.79, 63.16, 0.0, 70.48])\n"
     ]
    },
    {
     "data": {
      "application/vnd.jupyter.widget-view+json": {
       "model_id": "",
       "version_major": 2,
       "version_minor": 0
      },
      "text/plain": [
       "HBox(children=(HTML(value='Validating'), FloatProgress(value=1.0, bar_style='info', layout=Layout(flex='2'), m…"
      ]
     },
     "metadata": {},
     "output_type": "display_data"
    },
    {
     "name": "stdout",
     "output_type": "stream",
     "text": [
      "('val_loss', tensor(0.0752, device='cuda:0'))\n",
      "('preds', array([823,  36,   6, 167], dtype=int64))\n",
      "('labels', array([825,  38,   9, 160], dtype=int64))\n",
      "('tp', array([758,  24,   4, 108], dtype=int64))\n",
      "('fp', array([65, 12,  2, 59], dtype=int64))\n",
      "('fn', array([67, 14,  5, 52], dtype=int64))\n",
      "('acc_per_class', [91.88, 63.16, 44.44, 67.5])\n",
      "('acc_unweighted', 66.74)\n",
      "('acc_weighted', tensor(86.2000, device='cuda:0'))\n",
      "('microRecall', 86.63)\n",
      "('macroRecall', 66.74)\n",
      "('microPrecision', 86.63)\n",
      "('macroPrecision', 72.53)\n",
      "('microF1_score', 86.63)\n",
      "('macroF1_score', 69.51)\n",
      "('macroF1_per_class', [91.99, 64.87, 53.33, 66.05])\n",
      "\n"
     ]
    }
   ],
   "source": [
    "trainer = train_model(model)\n"
   ]
  },
  {
   "cell_type": "code",
   "execution_count": 49,
   "id": "276b16d4",
   "metadata": {},
   "outputs": [
    {
     "name": "stdout",
     "output_type": "stream",
     "text": [
      "In Test Model\n"
     ]
    },
    {
     "name": "stderr",
     "output_type": "stream",
     "text": [
      "LOCAL_RANK: 0 - CUDA_VISIBLE_DEVICES: [0]\n"
     ]
    },
    {
     "name": "stdout",
     "output_type": "stream",
     "text": [
      "using distill-uncased tokenizer\n"
     ]
    },
    {
     "name": "stderr",
     "output_type": "stream",
     "text": [
      "C:\\Users\\neera\\anaconda3\\envs\\NLP3\\lib\\site-packages\\pytorch_lightning\\utilities\\distributed.py:69: UserWarning: The dataloader, test dataloader 0, does not have many workers which may be a bottleneck. Consider increasing the value of the `num_workers` argument` (try 8 which is the number of cpus on this machine) in the `DataLoader` init to improve performance.\n",
      "  warnings.warn(*args, **kwargs)\n"
     ]
    },
    {
     "data": {
      "application/vnd.jupyter.widget-view+json": {
       "model_id": "739e9d3fc97a4c8b8da9c87c35f67d2d",
       "version_major": 2,
       "version_minor": 0
      },
      "text/plain": [
       "HBox(children=(HTML(value='Testing'), FloatProgress(value=1.0, bar_style='info', layout=Layout(flex='2'), max=…"
      ]
     },
     "metadata": {},
     "output_type": "display_data"
    },
    {
     "name": "stdout",
     "output_type": "stream",
     "text": [
      "('val_loss', tensor(0.0831, device='cuda:0'))\n",
      "('preds', array([1964,   54,   13,  433], dtype=int64))\n",
      "('labels', array([1882,   87,   37,  458], dtype=int64))\n",
      "('tp', array([1788,   38,    9,  335], dtype=int64))\n",
      "('fp', array([176,  16,   4,  98], dtype=int64))\n",
      "('fn', array([ 94,  49,  28, 123], dtype=int64))\n",
      "('acc_per_class', [95.01, 43.68, 24.32, 73.14])\n",
      "('acc_unweighted', 59.04)\n",
      "('acc_weighted', tensor(88.5300, device='cuda:0'))\n",
      "('microRecall', 88.07)\n",
      "('macroRecall', 59.04)\n",
      "('microPrecision', 88.07)\n",
      "('macroPrecision', 77.0)\n",
      "('microF1_score', 88.07)\n",
      "('macroF1_score', 66.83)\n",
      "('macroF1_per_class', [92.98, 53.9, 36.0, 75.2])\n",
      "\n",
      "--------------------------------------------------------------------------------\n",
      "DATALOADER:0 TEST RESULTS\n",
      "{'macroF1': 66.83,\n",
      " 'microF1': 88.07,\n",
      " 'microF1_per_class': {'0': 92.98, '1': 53.9, '2': 36.0, '3': 75.2},\n",
      " 'valid_ac_unweighted': 59.04,\n",
      " 'valid_loss': 0.08306875824928284}\n",
      "--------------------------------------------------------------------------------\n",
      "f1 score is 66.83\n"
     ]
    }
   ],
   "source": [
    "model.verbosity = True\n",
    "score = test_model(trainer, model)\n",
    "print('f1 score is {}'.format(score[0]['macroF1']))"
   ]
  },
  {
   "cell_type": "markdown",
   "id": "0ad9e51a",
   "metadata": {},
   "source": [
    "# Confusion Matrix Plot"
   ]
  },
  {
   "cell_type": "code",
   "execution_count": 55,
   "id": "45b030d7",
   "metadata": {},
   "outputs": [
    {
     "name": "stdout",
     "output_type": "stream",
     "text": [
      "['1788\\n95.01%', '10\\n0.53%', '1\\n0.05%', '83\\n4.41%', '41\\n47.13%', '38\\n43.68%', '0\\n0.00%', '8\\n9.20%', '17\\n45.95%', '4\\n10.81%', '9\\n24.32%', '7\\n18.92%', '118\\n25.76%', '2\\n0.44%', '3\\n0.66%', '335\\n73.14%']\n",
      "\n"
     ]
    },
    {
     "data": {
      "image/png": "[encoded data removed]",
      "text/plain": [
       "<Figure size 576x432 with 2 Axes>"
      ]
     },
     "metadata": {},
     "output_type": "display_data"
    }
   ],
   "source": [
    "cm = confusion_matrix(model.y_true,model.y_pred)[0:len(focus_dict), 0:len(focus_dict)]\n",
    "make_confusion_matrix(cm, figsize=(8,6), cbar=True, categories = focus_dict, title='Friends', percent=True)"
   ]
  },
  {
   "cell_type": "markdown",
   "id": "97fe8e23",
   "metadata": {},
   "source": [
    "# Per Class F1$_{macro}$ Score"
   ]
  },
  {
   "cell_type": "code",
   "execution_count": 56,
   "id": "a3807641",
   "metadata": {},
   "outputs": [
    {
     "data": {
      "image/png": "[encoded data removed]",
      "text/plain": [
       "<Figure size 432x432 with 1 Axes>"
      ]
     },
     "metadata": {},
     "output_type": "display_data"
    }
   ],
   "source": [
    "plot_per_Class_f1_score(args, focus_dict, score)"
   ]
  },
  {
   "cell_type": "markdown",
   "id": "63909e5b",
   "metadata": {},
   "source": [
    "# Results Analysis\n",
    " - We perform a number of experiments to get better understanding of our results and the capabalities of our model "
   ]
  },
  {
   "cell_type": "markdown",
   "id": "9c9c860b",
   "metadata": {},
   "source": [
    "# Effect of the Speaker, Dialogue Length \n",
    "In this section,  we investigate the effect of the number of speakers and dialogue length onERC model performance"
   ]
  },
  {
   "cell_type": "code",
   "execution_count": 57,
   "id": "6de985dc",
   "metadata": {},
   "outputs": [],
   "source": [
    "if args.emoset == 'friends' or args.emoset == 'emorynlp':\n",
    "    plot_F1_Score_against_speaker_count(df_test, model)"
   ]
  },
  {
   "cell_type": "code",
   "execution_count": 58,
   "id": "33ed96a1",
   "metadata": {},
   "outputs": [
    {
     "data": {
      "image/png": "[encoded data removed]",
      "text/plain": [
       "<Figure size 432x432 with 1 Axes>"
      ]
     },
     "metadata": {},
     "output_type": "display_data"
    }
   ],
   "source": [
    "plot_F1_Score_against_dialogue_length(df_test, model)"
   ]
  },
  {
   "cell_type": "markdown",
   "id": "a6f669a6",
   "metadata": {},
   "source": [
    "# Influence of Utterance Positions in the Prediction\n",
    "In this setting, we try to understand whether there is a general or dataset specific trend between the prediction f1-score and position of the utterances. We want to examine if utterances at the beginning of the dialogues are relatively easier to classify compared to the utterances at the middle or the utterances at the end."
   ]
  },
  {
   "cell_type": "code",
   "execution_count": 59,
   "id": "17ebab0d",
   "metadata": {},
   "outputs": [
    {
     "data": {
      "image/png": "[encoded data removed]",
      "text/plain": [
       "<Figure size 576x432 with 1 Axes>"
      ]
     },
     "metadata": {},
     "output_type": "display_data"
    }
   ],
   "source": [
    "plot_F1_Score_against_utterance_length(df_test, model)"
   ]
  },
  {
   "attachments": {
    "image.png": {
     "image/png": "[encoded data removed]"
    }
   },
   "cell_type": "markdown",
   "id": "3626931f",
   "metadata": {},
   "source": [
    "# Label Shift\n",
    "We want to explore the label copying property which means consecutive utterances from the same speaker or different speakers often have the same emotion. Contextual models make correct predictions when utterances display such kind of continuation of the same label. But what happens when there is a change of label. We look at the following two different kind of shifts that could happen in the course of a dialogue\n",
    " - Intra-Speaker Shift : The label of the utterance is different from the label of the previous utterance from the same speaker\n",
    " - Inter-Speaker Shift: The label of the utterance is different from the label of the previous utterance from the non-target speaker\n",
    " \n",
    " ![image.png](attachment:image.png)"
   ]
  },
  {
   "cell_type": "code",
   "execution_count": 50,
   "id": "bea7ddda",
   "metadata": {},
   "outputs": [],
   "source": [
    "def get_intra_specific_label_shift(df):\n",
    "    number_of_speakers_in_dialogue= []\n",
    "    intraspeakers_shift_index_list = []\n",
    "    count_intraspeakers_shift_list = []\n",
    "    last_index_in_previous_dialogue = 0\n",
    "    dialogue_id_list = list((df['dialogue_id'].unique()))\n",
    "    for dialogue in dialogue_id_list:\n",
    "        df_dialogue = df[(df.dialogue_id ==dialogue)]\n",
    "        speakers_in_dialogue = (list(set(df_dialogue.speaker)))\n",
    "        shift_count = 0\n",
    "        for speaker in speakers_in_dialogue:\n",
    "            indexs_to_check = df_dialogue[(df_dialogue.speaker ==speaker)].index\n",
    "            first_index = True\n",
    "            for index in indexs_to_check:\n",
    "                current_label = df_dialogue.iloc[index-last_index_in_previous_dialogue].label\n",
    "                if first_index:\n",
    "                    prev_label = current_label\n",
    "                    first_index = False\n",
    "                    continue\n",
    "\n",
    "                if  current_label != prev_label:\n",
    "                    prev_label = current_label\n",
    "                    intraspeakers_shift_index_list.append(index)\n",
    "                    shift_count += 1\n",
    "\n",
    "        last_index_in_previous_dialogue = df_dialogue.index[-1]+1\n",
    "        count_intraspeakers_shift_list.append(shift_count)\n",
    "    return (sorted(intraspeakers_shift_index_list), count_intraspeakers_shift_list)\n",
    "\n",
    "def get_inter_specific_label_shift(df):\n",
    "    interspeakers_shift_index_list = []\n",
    "    count_interspeakers_shift_list = []\n",
    "    last_index_in_previous_dialogue = 0\n",
    "    dialogue_id_list = list((df['dialogue_id'].unique()))\n",
    "    for dialogue in dialogue_id_list:\n",
    "        df_dialogue = df[(df.dialogue_id ==dialogue)]\n",
    "        shift_count = 0\n",
    "        first_index = True\n",
    "        for index in df_dialogue.index:\n",
    "            current_label = df_dialogue.iloc[index-last_index_in_previous_dialogue].label\n",
    "            if first_index:\n",
    "                prev_label = current_label\n",
    "                first_index = False\n",
    "                continue\n",
    "            if  current_label != prev_label:\n",
    "                prev_label = current_label\n",
    "                interspeakers_shift_index_list.append(index)\n",
    "                shift_count += 1\n",
    "\n",
    "        last_index_in_previous_dialogue = df_dialogue.index[-1]+1\n",
    "        count_interspeakers_shift_list.append(shift_count)\n",
    "    return (sorted(interspeakers_shift_index_list), count_interspeakers_shift_list)\n",
    "\n",
    "def get_intra_specific_sentiment_shift(df):\n",
    "    number_of_speakers_in_dialogue= []\n",
    "    intraspeakers_shift_index_list = []\n",
    "    count_intraspeakers_shift_list = []\n",
    "    dialogue_id_list = list((df['dialogue_id'].unique()))\n",
    "    for dialogue in dialogue_id_list:\n",
    "        df_dialogue = df[(df.dialogue_id ==dialogue)]\n",
    "        speakers_in_dialogue = (list(set(df_dialogue.speaker)))\n",
    "        shift_count = 0\n",
    "        for speaker in speakers_in_dialogue:\n",
    "            indexs_to_check = df_dialogue[(df_dialogue.speaker ==speaker)].index\n",
    "            first_index = True\n",
    "            for index in indexs_to_check:\n",
    "                current_sentiment = sentiment_labels_true[index]\n",
    "\n",
    "                if first_index:\n",
    "                    prev_sentiment = current_sentiment\n",
    "                    first_index = False\n",
    "                    continue\n",
    "\n",
    "                if  current_sentiment != prev_sentiment:\n",
    "                    prev_sentiment = current_sentiment\n",
    "                    intraspeakers_shift_index_list.append(index)\n",
    "                    shift_count += 1\n",
    "\n",
    "        count_intraspeakers_shift_list.append(shift_count)\n",
    "    return (sorted(intraspeakers_shift_index_list), count_intraspeakers_shift_list)\n",
    "\n",
    "def get_inter_specific_sentiment_shift(df):\n",
    "    interspeakers_shift_index_list = []\n",
    "    count_interspeakers_shift_list = []\n",
    "    dialogue_id_list = list((df['dialogue_id'].unique()))\n",
    "    for dialogue in dialogue_id_list:\n",
    "        df_dialogue = df[(df.dialogue_id ==dialogue)]\n",
    "        shift_count = 0\n",
    "        first_index = True\n",
    "        for index in df_dialogue.index:\n",
    "            current_sentiment = sentiment_labels_true[index]\n",
    "            if first_index:\n",
    "                prev_sentiment = current_sentiment\n",
    "                first_index = False\n",
    "                continue\n",
    "            if  current_sentiment != prev_sentiment:\n",
    "                prev_sentiment = current_sentiment\n",
    "                interspeakers_shift_index_list.append(index)\n",
    "                shift_count += 1\n",
    "\n",
    "\n",
    "        count_interspeakers_shift_list.append(shift_count)\n",
    "    return (sorted(interspeakers_shift_index_list), count_interspeakers_shift_list)\n",
    "\n",
    "def cal_macro_recall(y_pred, y_true,focus_emo):\n",
    "    TP = np.zeros([len(emo_dict.keys())], dtype=np.int64) # recall\n",
    "    TP_FN = np.zeros([len(emo_dict.keys())], dtype=np.int64) # gold\n",
    "    emo_predidx = y_pred\n",
    "    emo_true = y_true\n",
    "\n",
    "    for lb in range(len(emo_true)):\n",
    "        idx = emo_true[lb]\n",
    "        TP_FN[idx] += 1\n",
    "        if idx in model.focus_emo:\n",
    "            if emo_true[lb] == emo_predidx[lb]:\n",
    "                TP[idx] += 1\n",
    "\n",
    "    tp = TP[focus_emo]\n",
    "    tp_fn = TP_FN[focus_emo]\n",
    "    Recall = [np.round(tp/tp_fn*100, 2) if tp_fn>0 else 0 for tp,tp_fn in zip(tp,tp_fn)]\n",
    "    score = np.round(sum(Recall) / len(Recall), 2)\n",
    "    return score, Recall\n",
    "\n"
   ]
  },
  {
   "cell_type": "code",
   "execution_count": 51,
   "id": "a12b1585",
   "metadata": {},
   "outputs": [
    {
     "name": "stdout",
     "output_type": "stream",
     "text": [
      "Intraspeakers Label Shift: Max = 16 Avg. 4.545\n"
     ]
    }
   ],
   "source": [
    "intraspeakers_shift_index_list, count_intraspeakers_shift_list  = get_intra_specific_label_shift(df_test)\n",
    "print('Intraspeakers Label Shift: Max = {} Avg. {}'.format(max(count_intraspeakers_shift_list), sum(count_intraspeakers_shift_list)/len(count_intraspeakers_shift_list)))"
   ]
  },
  {
   "cell_type": "code",
   "execution_count": 52,
   "id": "355dbee7",
   "metadata": {},
   "outputs": [
    {
     "name": "stdout",
     "output_type": "stream",
     "text": [
      "IntraSpeaker Label Shift Macro_F1 73.43 Micro_F1 82.93\n"
     ]
    }
   ],
   "source": [
    "y_pred = [model.y_pred[i] for i in intraspeakers_shift_index_list]\n",
    "y_true = [model.y_true[i] for i in intraspeakers_shift_index_list]\n",
    "(macroF1, microF1) = calc_f1_score_1(y_pred, y_true,model.emo_dict, model.focus_emo)\n",
    "print('IntraSpeaker Label Shift Macro_F1 {:2.2f} Micro_F1 {:2.2f}'.format(macroF1, microF1))"
   ]
  },
  {
   "cell_type": "code",
   "execution_count": 53,
   "id": "f349595c",
   "metadata": {},
   "outputs": [
    {
     "name": "stdout",
     "output_type": "stream",
     "text": [
      "Interspeakers Label Shift: Max = 16 Avg. 5.025\n"
     ]
    }
   ],
   "source": [
    "interspeakers_shift_index_list, count_interspeakers_shift_list  = get_inter_specific_label_shift(df_test)\n",
    "print('Interspeakers Label Shift: Max = {} Avg. {}'.format(max(count_interspeakers_shift_list), sum(count_interspeakers_shift_list)/len(count_interspeakers_shift_list)))"
   ]
  },
  {
   "cell_type": "code",
   "execution_count": 54,
   "id": "f89fa227",
   "metadata": {},
   "outputs": [
    {
     "name": "stdout",
     "output_type": "stream",
     "text": [
      "Interspeakers Label Shift Macro_F1 71.92 Micro_F1 81.93\n"
     ]
    }
   ],
   "source": [
    "y_pred = [model.y_pred[i] for i in interspeakers_shift_index_list]\n",
    "y_true = [model.y_true[i] for i in interspeakers_shift_index_list]\n",
    "(macroF1, microF1) = calc_f1_score_1(y_pred, y_true,model.emo_dict, model.focus_emo)\n",
    "print('Interspeakers Label Shift Macro_F1 {:2.2f} Micro_F1 {:2.2f}'.format(macroF1, microF1))"
   ]
  },
  {
   "cell_type": "markdown",
   "id": "3ed13a89",
   "metadata": {},
   "source": [
    "# Sentiment Shift\n",
    "We further analyze the results for sentiment shift in intra- and inter-speaker level. For the emotion classification tasks, we\n",
    "group the different emotion labels into three broad categories: i) positive sentiment group with emotions excited, happy, surprise, ii) negative sentiment group with emotions angry, disgust, fear, frustrated, sad, and iii) neutral sentiment group\n",
    "with emotion neutral. We look at the following two different kind of sentiment shifts that could happen in the course of a dialogue\n",
    " - Intra-Speaker Sentiment Shift : The sentiment of the utterance is different from the sentiment of the previous utterance from the same speaker\n",
    " - Inter-Speaker Shift: The sentiment of the utterance is different from the sentiment of the previous utterance from the non-target speaker"
   ]
  },
  {
   "cell_type": "code",
   "execution_count": 60,
   "id": "5bd8e00e",
   "metadata": {},
   "outputs": [],
   "source": [
    "sentiment_labels_true = [sentiment_dict[label] for label in df_test['label'].values]"
   ]
  },
  {
   "cell_type": "code",
   "execution_count": 61,
   "id": "7f97c88a",
   "metadata": {},
   "outputs": [
    {
     "name": "stdout",
     "output_type": "stream",
     "text": [
      "Intraspeakers Sentiment Shift: Max = 15 Avg. 3.525\n"
     ]
    }
   ],
   "source": [
    "intraspeakers_shift_index_list, count_intraspeakers_shift_list  = get_intra_specific_sentiment_shift(df_test)\n",
    "print('Intraspeakers Sentiment Shift: Max = {} Avg. {}'.format(max(count_intraspeakers_shift_list), sum(count_intraspeakers_shift_list)/len(count_intraspeakers_shift_list)))"
   ]
  },
  {
   "cell_type": "code",
   "execution_count": 62,
   "id": "e01b085b",
   "metadata": {},
   "outputs": [
    {
     "name": "stdout",
     "output_type": "stream",
     "text": [
      "IntraSpeaker Label Shift Macro_F1 72.73 Micro_F1 81.63\n"
     ]
    }
   ],
   "source": [
    "y_pred = [model.y_pred[i] for i in intraspeakers_shift_index_list]\n",
    "y_true = [model.y_true[i] for i in intraspeakers_shift_index_list]\n",
    "(macroF1, microF1) = calc_f1_score_1(y_pred, y_true,model.emo_dict, model.focus_emo)\n",
    "print('IntraSpeaker Label Shift Macro_F1 {:2.2f} Micro_F1 {:2.2f}'.format(macroF1, microF1))"
   ]
  },
  {
   "cell_type": "code",
   "execution_count": 63,
   "id": "161e663c",
   "metadata": {},
   "outputs": [
    {
     "name": "stdout",
     "output_type": "stream",
     "text": [
      "Interspeakers Sentiment Shift: Max = 13 Avg. 3.875\n"
     ]
    }
   ],
   "source": [
    "interspeakers_shift_index_list, count_interspeakers_shift_list  = get_inter_specific_sentiment_shift(df_test)\n",
    "print('Interspeakers Sentiment Shift: Max = {} Avg. {}'.format(max(count_interspeakers_shift_list), sum(count_interspeakers_shift_list)/len(count_interspeakers_shift_list)))"
   ]
  },
  {
   "cell_type": "code",
   "execution_count": 64,
   "id": "3c30de92",
   "metadata": {},
   "outputs": [
    {
     "name": "stdout",
     "output_type": "stream",
     "text": [
      "Interspeakers Sentiment Shift Macro_F1 71.36 Micro_F1 80.51\n"
     ]
    }
   ],
   "source": [
    "y_pred = [model.y_pred[i] for i in interspeakers_shift_index_list]\n",
    "y_true = [model.y_true[i] for i in interspeakers_shift_index_list]\n",
    "(macroF1, microF1) = calc_f1_score_1(y_pred, y_true,model.emo_dict, model.focus_emo)\n",
    "print('Interspeakers Sentiment Shift Macro_F1 {:2.2f} Micro_F1 {:2.2f}'.format(macroF1, microF1))"
   ]
  },
  {
   "cell_type": "markdown",
   "id": "1341e705",
   "metadata": {},
   "source": [
    "# Performance for n-gram Label Patterns\n",
    "We perform a detailed study to understand whether n-gram label patterns that are frequently encountered by the learning algorithm during training, are more likely to be predicted correctly during evaluation"
   ]
  },
  {
   "cell_type": "code",
   "execution_count": 65,
   "id": "ec2203e3",
   "metadata": {},
   "outputs": [],
   "source": [
    "def get_label_list (df):\n",
    "    label_list= []\n",
    "    dummy_ele = ['dummy']\n",
    "    dialogue_id_list = list((df['dialogue_id'].unique()))\n",
    "    for dialogue in dialogue_id_list:\n",
    "        df_dialogue = df[(df.dialogue_id ==dialogue)]\n",
    "        label_list.extend(df_dialogue.label)\n",
    "        label_list.extend(dummy_ele)\n",
    "    return label_list\n",
    "\n",
    "def get_ngram_label_shift(ngram_list, df):\n",
    "    ngram_index_list = []\n",
    "    count_ngram_label_list = []\n",
    "    last_index_in_previous_dialogue = 0\n",
    "    dialogue_id_list = list((df['dialogue_id'].unique()))\n",
    "    for dialogue in dialogue_id_list:\n",
    "        df_dialogue = df[(df.dialogue_id ==dialogue)]\n",
    "        shift_count = 0\n",
    "        first_index = True\n",
    "        for index in df_dialogue.index:\n",
    "            if (index + len(ngram_list) -1) > list(df_dialogue.index)[-1]:\n",
    "                break\n",
    "           \n",
    "            if(list(df_dialogue.iloc[index-last_index_in_previous_dialogue : index-last_index_in_previous_dialogue + len(ngram_list)].label)) == ngram_list :\n",
    "                ngram_index_list.extend(list(range(index,index + len(ngram_list))))\n",
    "                shift_count += 1\n",
    "\n",
    "        last_index_in_previous_dialogue = df_dialogue.index[-1]+1\n",
    "        count_ngram_label_list.append(shift_count)\n",
    "    return sorted(list(set(ngram_index_list))), sum(count_ngram_label_list)\n",
    "\n",
    "def get_training_ngram_list(df_train, df_val, ngram_length_list):\n",
    "    train_label_list  = get_label_list (df_train)\n",
    "    train_label_list.extend(get_label_list(df_val))\n",
    "    train_ngram_list = []\n",
    "    for n in ngram_length_list:\n",
    "        ngram_dict = {}\n",
    "        bagofWords = nltk.ngrams(train_label_list,n)\n",
    "        train_fdist = nltk.FreqDist(bagofWords)\n",
    "        for k, v in train_fdist.items():\n",
    "            if(set(k).issubset(set(model.focus_dict)))and (v > 2):\n",
    "                ngram_dict[k] = [v,np.round((v/sum(train_fdist.values())*100), 2)]\n",
    "        train_ngram_dict_sorted = {k:v for k,v in sorted(ngram_dict.items(), key=lambda item:item[1][1], reverse=True)}\n",
    "        train_ngram_list.append(train_ngram_dict_sorted)\n",
    "    \n",
    "    return train_ngram_list\n",
    "\n",
    "def get_test_ngram_list (df_test,train_ngram_list, ngram_length_list):\n",
    "    test_ngram_list = []\n",
    "    test_label_list = get_label_list (df_test)\n",
    "    for i in range (len(ngram_length_list)):\n",
    "        n = ngram_length_list[i]\n",
    "        test_ngram_dict =  {}\n",
    "        test_bag_of_words= nltk.ngrams(test_label_list,n)\n",
    "        test_fdist = nltk.FreqDist(test_bag_of_words)\n",
    "        for k, v in test_fdist.items():\n",
    "            if (v < 2):\n",
    "                continue\n",
    "            if(set(k).issubset(set(model.focus_dict))) and (set(list((k, k))).issubset(set(list(train_ngram_list[i].keys())))):\n",
    "                test_ngram_dict[k] = [v,np.round((v/sum(test_fdist.values())*100), 2)]\n",
    "       \n",
    "        test_ngram_dict_sorted = {k:v for k,v in sorted(test_ngram_dict.items(), key=lambda item:item[1][1], reverse=True)}\n",
    "        test_ngram_list.append(test_ngram_dict_sorted)\n",
    "    return test_ngram_list\n",
    "    \n",
    "def create_test_score_dataframe(train_ngram_list, test_ngram_list, df_test, ngram_length_list):\n",
    "    column_list = list(('occurence_in_train', 'test_score'))\n",
    "    df_list = []\n",
    "    for i in range (len(ngram_length_list)):\n",
    "        df_list.append(pd.DataFrame(columns = column_list))\n",
    "        for k1,v1 in test_ngram_list[i].items():\n",
    "            ngram_index, count  = get_ngram_label_shift(list(k1) , df_test)\n",
    "            assert(count == v1[0])\n",
    "            y_pred = [model.y_pred[i] for i in ngram_index]\n",
    "            y_true = [model.y_true[i] for i in ngram_index]\n",
    "            score, Recall = cal_macro_recall(y_pred, y_true, [model.emo_dict[k2] for k2 in list(set(k1))])\n",
    "            occurence_score = train_ngram_list[i][k1][1]\n",
    "            new_row = {'occurence_in_train':occurence_score, 'test_score':score}\n",
    "            df_list[i] = df_list[i].append(new_row, ignore_index=True)\n",
    "    return df_list\n",
    "  "
   ]
  },
  {
   "cell_type": "code",
   "execution_count": 66,
   "id": "35c4e674",
   "metadata": {},
   "outputs": [
    {
     "data": {
      "text/plain": [
       "<matplotlib.legend.Legend at 0x24a91565580>"
      ]
     },
     "execution_count": 66,
     "metadata": {},
     "output_type": "execute_result"
    },
    {
     "data": {
      "image/png": "[encoded data removed]",
      "text/plain": [
       "<Figure size 864x576 with 1 Axes>"
      ]
     },
     "metadata": {},
     "output_type": "display_data"
    }
   ],
   "source": [
    "ngram_length_list = [2, 3, 4]\n",
    "train_ngram_list = get_training_ngram_list(model.df_train, model.df_val,ngram_length_list )\n",
    "test_ngram_list = get_test_ngram_list(model.df_test,train_ngram_list, ngram_length_list )\n",
    "df_list = create_test_score_dataframe(train_ngram_list, test_ngram_list, model.df_test, ngram_length_list)\n",
    "plot1 = plt.scatter(df_list[0]['occurence_in_train'], df_list[0]['test_score'], color = 'b')\n",
    "plot2 = plt.scatter(df_list[1]['occurence_in_train'], df_list[1]['test_score'], color = 'r')\n",
    "plot3 = plt.scatter(df_list[2]['occurence_in_train'], df_list[2]['test_score'], color = 'g')\n",
    "plt.xlim ((0, max (df_list[0]['occurence_in_train']+1)))\n",
    "plt.legend((plot1, plot2, plot3),\n",
    "           ('2-gram_pattern', '3-gram_pattern', '5-gram_pattern'),\n",
    "           loc='upper right')"
   ]
  },
  {
   "cell_type": "markdown",
   "id": "eccb2a6d",
   "metadata": {},
   "source": [
    "# Context Shuffling\n",
    "To understand the importance of context, we try to classify the correct label after shuffling the utterances with in a dialogue. For example, a dialogue having utterance sequence of {u1;u2;u3;u4} is shuffled to {u4;u1;u3;u2}. This shuffling is carried out randomly, resulting in an utterance sequence whose order is different from the original sequence. We implement 3 shuffling strategies\n",
    "\n",
    "- dialogues in train and validation sets are shuffled, dialogues in test set are kept unchanged\n",
    "- dialogues in train and validation sets are unchanged, dialogues in test set are shuffled\n",
    "- dialogues in train and validation and test set are shuffled. \n",
    "\n",
    "We found that, whenever there is some shuffling in train, validation, or test set, the performance decreases a few points. The performance drop is highest when the dialogues in train and validation sets are kept unchanged and dialogues in test set are shuffled"
   ]
  },
  {
   "cell_type": "code",
   "execution_count": 20,
   "id": "1f2888c0",
   "metadata": {},
   "outputs": [],
   "source": [
    "def shuffle_dataframe(df):\n",
    "    dialogue_id_list = list((df['dialogue_id'].unique()))\n",
    "    df_shuffled =  pd.DataFrame(columns = list(df.columns))\n",
    "    for dialogue in dialogue_id_list:\n",
    "        df_dialogue = df[(df.dialogue_id ==dialogue)].copy(deep = True)\n",
    "        df_dialogue = df_dialogue.sample(frac=1)\n",
    "        df_shuffled = df_shuffled.append(df_dialogue)\n",
    "    df_shuffled =df_shuffled.reset_index(drop=True)\n",
    "    return df_shuffled\n",
    "\n",
    "def shuffling_performance(emo_dict, focus_dict, args, df_train, df_val, df_test):\n",
    "    model_shuffle = EmotionModel(emo_dict, focus_dict, args, df_train, df_val, df_test, verbosity = 0)\n",
    "    model_shuffle = model_shuffle.cuda(args.device)\n",
    "    trainer_shuffle = train_model(model_shuffle)\n",
    "    F1_score  = test_model(trainer_shuffle, model_shuffle)\n",
    "    print(F1_score)"
   ]
  },
  {
   "cell_type": "code",
   "execution_count": 21,
   "id": "666fe186",
   "metadata": {},
   "outputs": [],
   "source": [
    "model.args.epoch = 2\n",
    "df_train_shuffled = shuffle_dataframe(df_train)\n",
    "df_val_shuffled = shuffle_dataframe(df_val)\n",
    "df_test_shuffled = shuffle_dataframe(df_test)"
   ]
  },
  {
   "cell_type": "code",
   "execution_count": 69,
   "id": "d6dc5ef8",
   "metadata": {},
   "outputs": [
    {
     "name": "stdout",
     "output_type": "stream",
     "text": [
      "Speaker Embedding is Enabled\n",
      "Max number of speakers in a dialgue = 364\n",
      "loss weights = tensor([0.2500, 0.2500, 0.2500, 0.2500, 0.0000, 0.0000, 0.0000, 0.0000],\n",
      "       device='cuda:0')\n",
      "class weights = tensor([0.7844, 0.0427, 0.0103, 0.1626], device='cuda:0')\n",
      "In function DistilBertForSequenceClassification\n"
     ]
    },
    {
     "name": "stderr",
     "output_type": "stream",
     "text": [
      "GPU available: True, used: True\n",
      "TPU available: False, using: 0 TPU cores\n",
      "LOCAL_RANK: 0 - CUDA_VISIBLE_DEVICES: [0]\n",
      "\n",
      "  | Name                     | Type                     | Params\n",
      "----------------------------------------------------------------------\n",
      "0 | sentence_embeds_model    | sentence_embeds_model    | 66.4 M\n",
      "1 | context_classifier_model | context_classifier_model | 86.0 M\n",
      "----------------------------------------------------------------------\n",
      "152 M     Trainable params\n",
      "0         Non-trainable params\n",
      "152 M     Total params\n",
      "609.457   Total estimated model params size (MB)\n"
     ]
    },
    {
     "data": {
      "application/vnd.jupyter.widget-view+json": {
       "model_id": "",
       "version_major": 2,
       "version_minor": 0
      },
      "text/plain": [
       "HBox(children=(HTML(value='Validation sanity check'), FloatProgress(value=1.0, bar_style='info', layout=Layout…"
      ]
     },
     "metadata": {},
     "output_type": "display_data"
    },
    {
     "name": "stdout",
     "output_type": "stream",
     "text": [
      "using distill-uncased tokenizer\n"
     ]
    },
    {
     "name": "stderr",
     "output_type": "stream",
     "text": [
      "C:\\Users\\neera\\anaconda3\\envs\\NLP3\\lib\\site-packages\\pytorch_lightning\\utilities\\distributed.py:69: UserWarning: The dataloader, val dataloader 0, does not have many workers which may be a bottleneck. Consider increasing the value of the `num_workers` argument` (try 8 which is the number of cpus on this machine) in the `DataLoader` init to improve performance.\n",
      "  warnings.warn(*args, **kwargs)\n",
      "Global seed set to 42\n"
     ]
    },
    {
     "name": "stdout",
     "output_type": "stream",
     "text": [
      "using distill-uncased tokenizer\n"
     ]
    },
    {
     "name": "stderr",
     "output_type": "stream",
     "text": [
      "C:\\Users\\neera\\anaconda3\\envs\\NLP3\\lib\\site-packages\\pytorch_lightning\\utilities\\distributed.py:69: UserWarning: The dataloader, train dataloader, does not have many workers which may be a bottleneck. Consider increasing the value of the `num_workers` argument` (try 8 which is the number of cpus on this machine) in the `DataLoader` init to improve performance.\n",
      "  warnings.warn(*args, **kwargs)\n"
     ]
    },
    {
     "data": {
      "application/vnd.jupyter.widget-view+json": {
       "model_id": "0bae488a0eb6402c8f8e83e6b34a2de2",
       "version_major": 2,
       "version_minor": 0
      },
      "text/plain": [
       "HBox(children=(HTML(value='Training'), FloatProgress(value=1.0, bar_style='info', layout=Layout(flex='2'), max…"
      ]
     },
     "metadata": {},
     "output_type": "display_data"
    },
    {
     "data": {
      "application/vnd.jupyter.widget-view+json": {
       "model_id": "",
       "version_major": 2,
       "version_minor": 0
      },
      "text/plain": [
       "HBox(children=(HTML(value='Validating'), FloatProgress(value=1.0, bar_style='info', layout=Layout(flex='2'), m…"
      ]
     },
     "metadata": {},
     "output_type": "display_data"
    },
    {
     "name": "stderr",
     "output_type": "stream",
     "text": [
      "Metric valid_loss improved. New best score: 0.074\n"
     ]
    },
    {
     "data": {
      "application/vnd.jupyter.widget-view+json": {
       "model_id": "",
       "version_major": 2,
       "version_minor": 0
      },
      "text/plain": [
       "HBox(children=(HTML(value='Validating'), FloatProgress(value=1.0, bar_style='info', layout=Layout(flex='2'), m…"
      ]
     },
     "metadata": {},
     "output_type": "display_data"
    },
    {
     "data": {
      "application/vnd.jupyter.widget-view+json": {
       "model_id": "",
       "version_major": 2,
       "version_minor": 0
      },
      "text/plain": [
       "HBox(children=(HTML(value='Validating'), FloatProgress(value=1.0, bar_style='info', layout=Layout(flex='2'), m…"
      ]
     },
     "metadata": {},
     "output_type": "display_data"
    },
    {
     "name": "stdout",
     "output_type": "stream",
     "text": [
      "\n",
      "In Test Model\n"
     ]
    },
    {
     "name": "stderr",
     "output_type": "stream",
     "text": [
      "LOCAL_RANK: 0 - CUDA_VISIBLE_DEVICES: [0]\n"
     ]
    },
    {
     "name": "stdout",
     "output_type": "stream",
     "text": [
      "using distill-uncased tokenizer\n"
     ]
    },
    {
     "name": "stderr",
     "output_type": "stream",
     "text": [
      "C:\\Users\\neera\\anaconda3\\envs\\NLP3\\lib\\site-packages\\pytorch_lightning\\utilities\\distributed.py:69: UserWarning: The dataloader, test dataloader 0, does not have many workers which may be a bottleneck. Consider increasing the value of the `num_workers` argument` (try 8 which is the number of cpus on this machine) in the `DataLoader` init to improve performance.\n",
      "  warnings.warn(*args, **kwargs)\n"
     ]
    },
    {
     "data": {
      "application/vnd.jupyter.widget-view+json": {
       "model_id": "7c789abf4d3f430cbed01355ec410861",
       "version_major": 2,
       "version_minor": 0
      },
      "text/plain": [
       "HBox(children=(HTML(value='Testing'), FloatProgress(value=1.0, bar_style='info', layout=Layout(flex='2'), max=…"
      ]
     },
     "metadata": {},
     "output_type": "display_data"
    },
    {
     "name": "stdout",
     "output_type": "stream",
     "text": [
      "\n",
      "[{'valid_loss': 0.08070061355829239, 'valid_ac_unweighted': 63.75, 'macroF1': 69.34, 'microF1': 88.03, 'microF1_per_class': {'0': 92.76, '1': 57.34, '2': 46.43, '3': 76.11}}]\n"
     ]
    }
   ],
   "source": [
    "shuffling_performance(model.emo_dict, model.focus_dict, model.args, df_train_shuffled, df_val_shuffled, df_test )"
   ]
  },
  {
   "cell_type": "markdown",
   "id": "e659324d",
   "metadata": {},
   "source": [
    "## Scenario 2\n",
    "- dialogues in train and validation sets are shuffled, dialogues in test set are kept unchanged"
   ]
  },
  {
   "cell_type": "code",
   "execution_count": 22,
   "id": "7c32edb8",
   "metadata": {},
   "outputs": [
    {
     "name": "stdout",
     "output_type": "stream",
     "text": [
      "Speaker Embedding is Enabled\n",
      "Max number of speakers in a dialgue = 364\n",
      "loss weights = tensor([0.2500, 0.2500, 0.2500, 0.2500, 0.0000, 0.0000, 0.0000, 0.0000],\n",
      "       device='cuda:0')\n",
      "class weights = tensor([0.7844, 0.0427, 0.0103, 0.1626], device='cuda:0')\n",
      "In function DistilBertForSequenceClassification\n"
     ]
    },
    {
     "name": "stderr",
     "output_type": "stream",
     "text": [
      "GPU available: True, used: True\n",
      "TPU available: False, using: 0 TPU cores\n",
      "LOCAL_RANK: 0 - CUDA_VISIBLE_DEVICES: [0]\n",
      "\n",
      "  | Name                     | Type                     | Params\n",
      "----------------------------------------------------------------------\n",
      "0 | sentence_embeds_model    | sentence_embeds_model    | 66.4 M\n",
      "1 | context_classifier_model | context_classifier_model | 86.0 M\n",
      "----------------------------------------------------------------------\n",
      "152 M     Trainable params\n",
      "0         Non-trainable params\n",
      "152 M     Total params\n",
      "609.457   Total estimated model params size (MB)\n"
     ]
    },
    {
     "data": {
      "application/vnd.jupyter.widget-view+json": {
       "model_id": "",
       "version_major": 2,
       "version_minor": 0
      },
      "text/plain": [
       "HBox(children=(HTML(value='Validation sanity check'), FloatProgress(value=1.0, bar_style='info', layout=Layout…"
      ]
     },
     "metadata": {},
     "output_type": "display_data"
    },
    {
     "name": "stdout",
     "output_type": "stream",
     "text": [
      "using distill-uncased tokenizer\n"
     ]
    },
    {
     "name": "stderr",
     "output_type": "stream",
     "text": [
      "C:\\Users\\neera\\anaconda3\\envs\\NLP3\\lib\\site-packages\\pytorch_lightning\\utilities\\distributed.py:69: UserWarning: The dataloader, val dataloader 0, does not have many workers which may be a bottleneck. Consider increasing the value of the `num_workers` argument` (try 8 which is the number of cpus on this machine) in the `DataLoader` init to improve performance.\n",
      "  warnings.warn(*args, **kwargs)\n",
      "Global seed set to 42\n"
     ]
    },
    {
     "name": "stdout",
     "output_type": "stream",
     "text": [
      "using distill-uncased tokenizer\n"
     ]
    },
    {
     "name": "stderr",
     "output_type": "stream",
     "text": [
      "C:\\Users\\neera\\anaconda3\\envs\\NLP3\\lib\\site-packages\\pytorch_lightning\\utilities\\distributed.py:69: UserWarning: The dataloader, train dataloader, does not have many workers which may be a bottleneck. Consider increasing the value of the `num_workers` argument` (try 8 which is the number of cpus on this machine) in the `DataLoader` init to improve performance.\n",
      "  warnings.warn(*args, **kwargs)\n"
     ]
    },
    {
     "data": {
      "application/vnd.jupyter.widget-view+json": {
       "model_id": "c8c1f35cf61f4b74a3785fa1cdc166d9",
       "version_major": 2,
       "version_minor": 0
      },
      "text/plain": [
       "HBox(children=(HTML(value='Training'), FloatProgress(value=1.0, bar_style='info', layout=Layout(flex='2'), max…"
      ]
     },
     "metadata": {},
     "output_type": "display_data"
    },
    {
     "data": {
      "application/vnd.jupyter.widget-view+json": {
       "model_id": "",
       "version_major": 2,
       "version_minor": 0
      },
      "text/plain": [
       "HBox(children=(HTML(value='Validating'), FloatProgress(value=1.0, bar_style='info', layout=Layout(flex='2'), m…"
      ]
     },
     "metadata": {},
     "output_type": "display_data"
    },
    {
     "name": "stderr",
     "output_type": "stream",
     "text": [
      "Metric valid_loss improved. New best score: 0.076\n"
     ]
    },
    {
     "data": {
      "application/vnd.jupyter.widget-view+json": {
       "model_id": "",
       "version_major": 2,
       "version_minor": 0
      },
      "text/plain": [
       "HBox(children=(HTML(value='Validating'), FloatProgress(value=1.0, bar_style='info', layout=Layout(flex='2'), m…"
      ]
     },
     "metadata": {},
     "output_type": "display_data"
    },
    {
     "data": {
      "application/vnd.jupyter.widget-view+json": {
       "model_id": "",
       "version_major": 2,
       "version_minor": 0
      },
      "text/plain": [
       "HBox(children=(HTML(value='Validating'), FloatProgress(value=1.0, bar_style='info', layout=Layout(flex='2'), m…"
      ]
     },
     "metadata": {},
     "output_type": "display_data"
    },
    {
     "name": "stdout",
     "output_type": "stream",
     "text": [
      "\n",
      "In Test Model\n"
     ]
    },
    {
     "name": "stderr",
     "output_type": "stream",
     "text": [
      "LOCAL_RANK: 0 - CUDA_VISIBLE_DEVICES: [0]\n"
     ]
    },
    {
     "name": "stdout",
     "output_type": "stream",
     "text": [
      "using distill-uncased tokenizer\n"
     ]
    },
    {
     "name": "stderr",
     "output_type": "stream",
     "text": [
      "C:\\Users\\neera\\anaconda3\\envs\\NLP3\\lib\\site-packages\\pytorch_lightning\\utilities\\distributed.py:69: UserWarning: The dataloader, test dataloader 0, does not have many workers which may be a bottleneck. Consider increasing the value of the `num_workers` argument` (try 8 which is the number of cpus on this machine) in the `DataLoader` init to improve performance.\n",
      "  warnings.warn(*args, **kwargs)\n"
     ]
    },
    {
     "data": {
      "application/vnd.jupyter.widget-view+json": {
       "model_id": "d80386f17ba94b5797e4e18c88bbcd3d",
       "version_major": 2,
       "version_minor": 0
      },
      "text/plain": [
       "HBox(children=(HTML(value='Testing'), FloatProgress(value=1.0, bar_style='info', layout=Layout(flex='2'), max=…"
      ]
     },
     "metadata": {},
     "output_type": "display_data"
    },
    {
     "name": "stdout",
     "output_type": "stream",
     "text": [
      "\n",
      "[{'valid_loss': 0.08499559015035629, 'valid_ac_unweighted': 59.86, 'macroF1': 64.42, 'microF1': 86.97, 'microF1_per_class': {'0': 92.27, '1': 54.93, '2': 31.58, '3': 74.22}}]\n"
     ]
    }
   ],
   "source": [
    "shuffling_performance(model.emo_dict, model.focus_dict, model.args, df_train, df_val, df_test_shuffled )"
   ]
  },
  {
   "cell_type": "markdown",
   "id": "318af29f",
   "metadata": {},
   "source": [
    "## Scenario 3\n",
    "- dialogues in train and validation and test set are shuffled. "
   ]
  },
  {
   "cell_type": "code",
   "execution_count": 23,
   "id": "eb8fd285",
   "metadata": {},
   "outputs": [
    {
     "name": "stdout",
     "output_type": "stream",
     "text": [
      "Speaker Embedding is Enabled\n",
      "Max number of speakers in a dialgue = 364\n",
      "loss weights = tensor([0.2500, 0.2500, 0.2500, 0.2500, 0.0000, 0.0000, 0.0000, 0.0000],\n",
      "       device='cuda:0')\n",
      "class weights = tensor([0.7844, 0.0427, 0.0103, 0.1626], device='cuda:0')\n",
      "In function DistilBertForSequenceClassification\n"
     ]
    },
    {
     "name": "stderr",
     "output_type": "stream",
     "text": [
      "GPU available: True, used: True\n",
      "TPU available: False, using: 0 TPU cores\n",
      "LOCAL_RANK: 0 - CUDA_VISIBLE_DEVICES: [0]\n",
      "\n",
      "  | Name                     | Type                     | Params\n",
      "----------------------------------------------------------------------\n",
      "0 | sentence_embeds_model    | sentence_embeds_model    | 66.4 M\n",
      "1 | context_classifier_model | context_classifier_model | 86.0 M\n",
      "----------------------------------------------------------------------\n",
      "152 M     Trainable params\n",
      "0         Non-trainable params\n",
      "152 M     Total params\n",
      "609.457   Total estimated model params size (MB)\n"
     ]
    },
    {
     "data": {
      "application/vnd.jupyter.widget-view+json": {
       "model_id": "",
       "version_major": 2,
       "version_minor": 0
      },
      "text/plain": [
       "HBox(children=(HTML(value='Validation sanity check'), FloatProgress(value=1.0, bar_style='info', layout=Layout…"
      ]
     },
     "metadata": {},
     "output_type": "display_data"
    },
    {
     "name": "stdout",
     "output_type": "stream",
     "text": [
      "using distill-uncased tokenizer\n"
     ]
    },
    {
     "name": "stderr",
     "output_type": "stream",
     "text": [
      "C:\\Users\\neera\\anaconda3\\envs\\NLP3\\lib\\site-packages\\pytorch_lightning\\utilities\\distributed.py:69: UserWarning: The dataloader, val dataloader 0, does not have many workers which may be a bottleneck. Consider increasing the value of the `num_workers` argument` (try 8 which is the number of cpus on this machine) in the `DataLoader` init to improve performance.\n",
      "  warnings.warn(*args, **kwargs)\n",
      "Global seed set to 42\n"
     ]
    },
    {
     "name": "stdout",
     "output_type": "stream",
     "text": [
      "using distill-uncased tokenizer\n"
     ]
    },
    {
     "name": "stderr",
     "output_type": "stream",
     "text": [
      "C:\\Users\\neera\\anaconda3\\envs\\NLP3\\lib\\site-packages\\pytorch_lightning\\utilities\\distributed.py:69: UserWarning: The dataloader, train dataloader, does not have many workers which may be a bottleneck. Consider increasing the value of the `num_workers` argument` (try 8 which is the number of cpus on this machine) in the `DataLoader` init to improve performance.\n",
      "  warnings.warn(*args, **kwargs)\n"
     ]
    },
    {
     "data": {
      "application/vnd.jupyter.widget-view+json": {
       "model_id": "94c1a815a6984bd689d8e09ddf844e0d",
       "version_major": 2,
       "version_minor": 0
      },
      "text/plain": [
       "HBox(children=(HTML(value='Training'), FloatProgress(value=1.0, bar_style='info', layout=Layout(flex='2'), max…"
      ]
     },
     "metadata": {},
     "output_type": "display_data"
    },
    {
     "data": {
      "application/vnd.jupyter.widget-view+json": {
       "model_id": "",
       "version_major": 2,
       "version_minor": 0
      },
      "text/plain": [
       "HBox(children=(HTML(value='Validating'), FloatProgress(value=1.0, bar_style='info', layout=Layout(flex='2'), m…"
      ]
     },
     "metadata": {},
     "output_type": "display_data"
    },
    {
     "name": "stderr",
     "output_type": "stream",
     "text": [
      "Metric valid_loss improved. New best score: 0.074\n"
     ]
    },
    {
     "data": {
      "application/vnd.jupyter.widget-view+json": {
       "model_id": "",
       "version_major": 2,
       "version_minor": 0
      },
      "text/plain": [
       "HBox(children=(HTML(value='Validating'), FloatProgress(value=1.0, bar_style='info', layout=Layout(flex='2'), m…"
      ]
     },
     "metadata": {},
     "output_type": "display_data"
    },
    {
     "data": {
      "application/vnd.jupyter.widget-view+json": {
       "model_id": "",
       "version_major": 2,
       "version_minor": 0
      },
      "text/plain": [
       "HBox(children=(HTML(value='Validating'), FloatProgress(value=1.0, bar_style='info', layout=Layout(flex='2'), m…"
      ]
     },
     "metadata": {},
     "output_type": "display_data"
    },
    {
     "name": "stdout",
     "output_type": "stream",
     "text": [
      "\n",
      "In Test Model\n"
     ]
    },
    {
     "name": "stderr",
     "output_type": "stream",
     "text": [
      "LOCAL_RANK: 0 - CUDA_VISIBLE_DEVICES: [0]\n"
     ]
    },
    {
     "name": "stdout",
     "output_type": "stream",
     "text": [
      "using distill-uncased tokenizer\n"
     ]
    },
    {
     "name": "stderr",
     "output_type": "stream",
     "text": [
      "C:\\Users\\neera\\anaconda3\\envs\\NLP3\\lib\\site-packages\\pytorch_lightning\\utilities\\distributed.py:69: UserWarning: The dataloader, test dataloader 0, does not have many workers which may be a bottleneck. Consider increasing the value of the `num_workers` argument` (try 8 which is the number of cpus on this machine) in the `DataLoader` init to improve performance.\n",
      "  warnings.warn(*args, **kwargs)\n"
     ]
    },
    {
     "data": {
      "application/vnd.jupyter.widget-view+json": {
       "model_id": "4a4138b883ee4b00bcd427517990c0ef",
       "version_major": 2,
       "version_minor": 0
      },
      "text/plain": [
       "HBox(children=(HTML(value='Testing'), FloatProgress(value=1.0, bar_style='info', layout=Layout(flex='2'), max=…"
      ]
     },
     "metadata": {},
     "output_type": "display_data"
    },
    {
     "name": "stdout",
     "output_type": "stream",
     "text": [
      "\n",
      "[{'valid_loss': 0.0806371197104454, 'valid_ac_unweighted': 63.49, 'macroF1': 68.13, 'microF1': 87.95, 'microF1_per_class': {'0': 92.77, '1': 56.38, '2': 44.07, '3': 76.08}}]\n"
     ]
    }
   ],
   "source": [
    "shuffling_performance(model.emo_dict, model.focus_dict, model.args, df_train_shuffled, df_val_shuffled, df_test_shuffled )"
   ]
  },
  {
   "cell_type": "markdown",
   "id": "2589f6bc",
   "metadata": {},
   "source": [
    "# Speaker-specific Context Control\n",
    "To understand the importance of context, we tried following startigies. \n",
    "- Treat each conversation as individual sentence without considering the context. \n",
    "- Limit the context to maximum of 5 utterances per conversation\n",
    "- when classifying a target utterance from speaker A, we drop the utterances of the speaker B from the context and vice versa.\n",
    "\n"
   ]
  },
  {
   "cell_type": "code",
   "execution_count": 31,
   "id": "57d30b8f",
   "metadata": {},
   "outputs": [
    {
     "name": "stdout",
     "output_type": "stream",
     "text": [
      "using distill-uncased tokenizer\n"
     ]
    }
   ],
   "source": [
    "model.context_classifier_model.context_experiment_flag= True\n",
    "df_shuffled = df_test.copy(deep = True)\n",
    "df_shuffled['dialogue_id'] = df_shuffled.index\n",
    "dataset = CustomDataset( df_shuffled, model.max_number_of_speakers_in_dialogue, model.emo_dict, model.encoder, model.args)"
   ]
  },
  {
   "cell_type": "markdown",
   "id": "4ea9c7d5",
   "metadata": {},
   "source": [
    "## Scenario 1\n",
    "- Treat each conversation as individual sentence without considering the context."
   ]
  },
  {
   "cell_type": "code",
   "execution_count": 32,
   "id": "2b7e8b3a",
   "metadata": {},
   "outputs": [
    {
     "name": "stderr",
     "output_type": "stream",
     "text": [
      "LOCAL_RANK: 0 - CUDA_VISIBLE_DEVICES: [0]\n",
      "C:\\Users\\neera\\anaconda3\\envs\\NLP3\\lib\\site-packages\\pytorch_lightning\\utilities\\distributed.py:69: UserWarning: The dataloader, test dataloader 0, does not have many workers which may be a bottleneck. Consider increasing the value of the `num_workers` argument` (try 8 which is the number of cpus on this machine) in the `DataLoader` init to improve performance.\n",
      "  warnings.warn(*args, **kwargs)\n"
     ]
    },
    {
     "data": {
      "application/vnd.jupyter.widget-view+json": {
       "model_id": "f54a00cc3b294333a5ba8b632285a28e",
       "version_major": 2,
       "version_minor": 0
      },
      "text/plain": [
       "HBox(children=(HTML(value='Testing'), FloatProgress(value=1.0, bar_style='info', layout=Layout(flex='2'), max=…"
      ]
     },
     "metadata": {},
     "output_type": "display_data"
    },
    {
     "name": "stdout",
     "output_type": "stream",
     "text": [
      "('val_loss', tensor(0.0821, device='cuda:0'))\n",
      "('preds', array([1916,   77,   12,  459], dtype=int64))\n",
      "('labels', array([1882,   87,   37,  458], dtype=int64))\n",
      "('tp', array([1757,   46,   10,  343], dtype=int64))\n",
      "('fp', array([159,  31,   2, 116], dtype=int64))\n",
      "('fn', array([125,  41,  27, 115], dtype=int64))\n",
      "('acc_per_class', [93.36, 52.87, 27.03, 74.89])\n",
      "('acc_unweighted', 62.04)\n",
      "('acc_weighted', tensor(87.9400, device='cuda:0'))\n",
      "('microRecall', 87.5)\n",
      "('macroRecall', 62.04)\n",
      "('microPrecision', 87.5)\n",
      "('macroPrecision', 77.38)\n",
      "('microF1_score', 87.5)\n",
      "('macroF1_score', 68.87)\n",
      "('macroF1_per_class', [92.52, 56.1, 40.82, 74.81])\n",
      "\n",
      "--------------------------------------------------------------------------------\n",
      "DATALOADER:0 TEST RESULTS\n",
      "{'macroF1': 68.87,\n",
      " 'microF1': 87.5,\n",
      " 'microF1_per_class': {'0': 92.52, '1': 56.1, '2': 40.82, '3': 74.81},\n",
      " 'valid_ac_unweighted': 62.04,\n",
      " 'valid_loss': 0.08208133280277252}\n",
      "--------------------------------------------------------------------------------\n"
     ]
    },
    {
     "data": {
      "text/plain": [
       "[{'valid_loss': 0.08208133280277252,\n",
       "  'valid_ac_unweighted': 62.04,\n",
       "  'macroF1': 68.87,\n",
       "  'microF1': 87.5,\n",
       "  'microF1_per_class': {'0': 92.52, '1': 56.1, '2': 40.82, '3': 74.81}}]"
      ]
     },
     "execution_count": 32,
     "metadata": {},
     "output_type": "execute_result"
    }
   ],
   "source": [
    "test_loader = DataLoader(dataset, 1, shuffle=False, num_workers=0)\n",
    "trainer.test(test_dataloaders =  test_loader)"
   ]
  },
  {
   "cell_type": "markdown",
   "id": "fd214926",
   "metadata": {},
   "source": [
    "## Scenario 2\n",
    "- Limit the context to maximum of 5 utterances per conversation"
   ]
  },
  {
   "cell_type": "code",
   "execution_count": 33,
   "id": "babff90c",
   "metadata": {},
   "outputs": [
    {
     "name": "stderr",
     "output_type": "stream",
     "text": [
      "LOCAL_RANK: 0 - CUDA_VISIBLE_DEVICES: [0]\n",
      "C:\\Users\\neera\\anaconda3\\envs\\NLP3\\lib\\site-packages\\pytorch_lightning\\utilities\\distributed.py:69: UserWarning: The dataloader, test dataloader 0, does not have many workers which may be a bottleneck. Consider increasing the value of the `num_workers` argument` (try 8 which is the number of cpus on this machine) in the `DataLoader` init to improve performance.\n",
      "  warnings.warn(*args, **kwargs)\n"
     ]
    },
    {
     "data": {
      "application/vnd.jupyter.widget-view+json": {
       "model_id": "c2a74208de4e492ca9bf3d75c6efda85",
       "version_major": 2,
       "version_minor": 0
      },
      "text/plain": [
       "HBox(children=(HTML(value='Testing'), FloatProgress(value=1.0, bar_style='info', layout=Layout(flex='2'), max=…"
      ]
     },
     "metadata": {},
     "output_type": "display_data"
    },
    {
     "name": "stdout",
     "output_type": "stream",
     "text": [
      "('val_loss', tensor(0.0840, device='cuda:0'))\n",
      "('preds', array([1876,   75,   12,  501], dtype=int64))\n",
      "('labels', array([1882,   87,   37,  458], dtype=int64))\n",
      "('tp', array([1737,   46,    9,  360], dtype=int64))\n",
      "('fp', array([139,  29,   3, 141], dtype=int64))\n",
      "('fn', array([145,  41,  28,  98], dtype=int64))\n",
      "('acc_per_class', [92.3, 52.87, 24.32, 78.6])\n",
      "('acc_unweighted', 62.02)\n",
      "('acc_weighted', tensor(87.6900, device='cuda:0'))\n",
      "('microRecall', 87.34)\n",
      "('macroRecall', 62.02)\n",
      "('microPrecision', 87.34)\n",
      "('macroPrecision', 75.2)\n",
      "('microF1_score', 87.34)\n",
      "('macroF1_score', 67.98)\n",
      "('macroF1_per_class', [92.44, 56.79, 36.73, 75.08])\n",
      "\n",
      "--------------------------------------------------------------------------------\n",
      "DATALOADER:0 TEST RESULTS\n",
      "{'macroF1': 67.98,\n",
      " 'microF1': 87.34,\n",
      " 'microF1_per_class': {'0': 92.44, '1': 56.79, '2': 36.73, '3': 75.08},\n",
      " 'valid_ac_unweighted': 62.02,\n",
      " 'valid_loss': 0.08399830013513565}\n",
      "--------------------------------------------------------------------------------\n"
     ]
    },
    {
     "data": {
      "text/plain": [
       "[{'valid_loss': 0.08399830013513565,\n",
       "  'valid_ac_unweighted': 62.02,\n",
       "  'macroF1': 67.98,\n",
       "  'microF1': 87.34,\n",
       "  'microF1_per_class': {'0': 92.44, '1': 56.79, '2': 36.73, '3': 75.08}}]"
      ]
     },
     "execution_count": 33,
     "metadata": {},
     "output_type": "execute_result"
    }
   ],
   "source": [
    "test_loader = DataLoader(dataset, 5, shuffle=False, num_workers=0)\n",
    "trainer.test(test_dataloaders =  test_loader)"
   ]
  },
  {
   "cell_type": "markdown",
   "id": "8c81fa08",
   "metadata": {},
   "source": [
    "## Scenario 3\n",
    "- Treat each conversation as individual sentence without considering the context."
   ]
  },
  {
   "cell_type": "code",
   "execution_count": 34,
   "id": "6c4a12ac",
   "metadata": {},
   "outputs": [],
   "source": [
    "speaker_list = df_test['speaker'].value_counts()[:6].index.tolist()\n"
   ]
  },
  {
   "cell_type": "code",
   "execution_count": 35,
   "id": "c01efafa",
   "metadata": {},
   "outputs": [],
   "source": [
    "df_without_interspeaker_context = {}\n",
    "\n",
    "for speaker in speaker_list:\n",
    "    df_without_interspeaker_context[speaker] = df_test[(df_test.speaker == speaker)].reset_index(drop=True)\n",
    "    dialogue_id_list = list((df_without_interspeaker_context[speaker]['dialogue_id'].unique()))\n",
    "    i = 0\n",
    "    for dialogue in dialogue_id_list:\n",
    "        df_without_interspeaker_context[speaker].loc[df_without_interspeaker_context[speaker].dialogue_id== dialogue, 'dialogue_id'] = i \n",
    "        i = i+1"
   ]
  },
  {
   "cell_type": "code",
   "execution_count": 36,
   "id": "2ccaf38f",
   "metadata": {},
   "outputs": [
    {
     "name": "stdout",
     "output_type": "stream",
     "text": [
      "using distill-uncased tokenizer\n"
     ]
    },
    {
     "name": "stderr",
     "output_type": "stream",
     "text": [
      "LOCAL_RANK: 0 - CUDA_VISIBLE_DEVICES: [0]\n",
      "C:\\Users\\neera\\anaconda3\\envs\\NLP3\\lib\\site-packages\\pytorch_lightning\\utilities\\distributed.py:69: UserWarning: The dataloader, test dataloader 0, does not have many workers which may be a bottleneck. Consider increasing the value of the `num_workers` argument` (try 8 which is the number of cpus on this machine) in the `DataLoader` init to improve performance.\n",
      "  warnings.warn(*args, **kwargs)\n"
     ]
    },
    {
     "data": {
      "application/vnd.jupyter.widget-view+json": {
       "model_id": "64e6c450dda24bd3a9ca7628bbabac48",
       "version_major": 2,
       "version_minor": 0
      },
      "text/plain": [
       "HBox(children=(HTML(value='Testing'), FloatProgress(value=1.0, bar_style='info', layout=Layout(flex='2'), max=…"
      ]
     },
     "metadata": {},
     "output_type": "display_data"
    },
    {
     "name": "stdout",
     "output_type": "stream",
     "text": [
      "('val_loss', tensor(0.0550, device='cuda:0'))\n",
      "('preds', array([145,   9,   0,  49], dtype=int64))\n",
      "('labels', array([148,   9,   0,  46], dtype=int64))\n",
      "('tp', array([138,   7,   0,  39], dtype=int64))\n",
      "('fp', array([ 7,  2,  0, 10], dtype=int64))\n",
      "('fn', array([10,  2,  0,  7], dtype=int64))\n",
      "('acc_per_class', [93.24, 77.78, 0.0, 84.78])\n",
      "('acc_unweighted', 63.95)\n",
      "('acc_weighted', tensor(90.2400, device='cuda:0'))\n",
      "('microRecall', 90.64)\n",
      "('macroRecall', 63.95)\n",
      "('microPrecision', 90.64)\n",
      "('macroPrecision', 63.14)\n",
      "('microF1_score', 90.64)\n",
      "('macroF1_score', 63.54)\n",
      "('macroF1_per_class', [94.2, 77.78, 0.0, 82.1])\n",
      "\n",
      "--------------------------------------------------------------------------------\n",
      "DATALOADER:0 TEST RESULTS\n",
      "{'macroF1': 63.54,\n",
      " 'microF1': 90.64,\n",
      " 'microF1_per_class': {'0': 94.2, '1': 77.78, '2': 0.0, '3': 82.1},\n",
      " 'valid_ac_unweighted': 63.95,\n",
      " 'valid_loss': 0.05498328432440758}\n",
      "--------------------------------------------------------------------------------\n",
      "Micro/Macro F1 Score for Speaker 100003639669704 is 63.54 90.64\n",
      "using distill-uncased tokenizer\n"
     ]
    },
    {
     "name": "stderr",
     "output_type": "stream",
     "text": [
      "LOCAL_RANK: 0 - CUDA_VISIBLE_DEVICES: [0]\n",
      "C:\\Users\\neera\\anaconda3\\envs\\NLP3\\lib\\site-packages\\pytorch_lightning\\utilities\\distributed.py:69: UserWarning: The dataloader, test dataloader 0, does not have many workers which may be a bottleneck. Consider increasing the value of the `num_workers` argument` (try 8 which is the number of cpus on this machine) in the `DataLoader` init to improve performance.\n",
      "  warnings.warn(*args, **kwargs)\n"
     ]
    },
    {
     "data": {
      "application/vnd.jupyter.widget-view+json": {
       "model_id": "8a682972e56441a1b961e79472e5063a",
       "version_major": 2,
       "version_minor": 0
      },
      "text/plain": [
       "HBox(children=(HTML(value='Testing'), FloatProgress(value=1.0, bar_style='info', layout=Layout(flex='2'), max=…"
      ]
     },
     "metadata": {},
     "output_type": "display_data"
    },
    {
     "name": "stdout",
     "output_type": "stream",
     "text": [
      "('val_loss', tensor(0.0637, device='cuda:0'))\n",
      "('preds', array([113,   2,   0,  16], dtype=int64))\n",
      "('labels', array([115,   4,   0,  12], dtype=int64))\n",
      "('tp', array([109,   2,   0,  10], dtype=int64))\n",
      "('fp', array([4, 0, 0, 6], dtype=int64))\n",
      "('fn', array([6, 2, 0, 2], dtype=int64))\n",
      "('acc_per_class', [94.78, 50.0, 0.0, 83.33])\n",
      "('acc_unweighted', 57.03)\n",
      "('acc_weighted', tensor(90.0300, device='cuda:0'))\n",
      "('microRecall', 92.37)\n",
      "('macroRecall', 57.03)\n",
      "('microPrecision', 92.37)\n",
      "('macroPrecision', 64.74)\n",
      "('microF1_score', 92.37)\n",
      "('macroF1_score', 60.64)\n",
      "('macroF1_per_class', [95.61, 66.67, 0.0, 71.43])\n",
      "\n",
      "--------------------------------------------------------------------------------\n",
      "DATALOADER:0 TEST RESULTS\n",
      "{'macroF1': 60.64,\n",
      " 'microF1': 92.37,\n",
      " 'microF1_per_class': {'0': 95.61, '1': 66.67, '2': 0.0, '3': 71.43},\n",
      " 'valid_ac_unweighted': 57.03,\n",
      " 'valid_loss': 0.06370683759450912}\n",
      "--------------------------------------------------------------------------------\n",
      "Micro/Macro F1 Score for Speaker 100000222851837 is 60.64 92.37\n",
      "using distill-uncased tokenizer\n"
     ]
    },
    {
     "name": "stderr",
     "output_type": "stream",
     "text": [
      "LOCAL_RANK: 0 - CUDA_VISIBLE_DEVICES: [0]\n",
      "C:\\Users\\neera\\anaconda3\\envs\\NLP3\\lib\\site-packages\\pytorch_lightning\\utilities\\distributed.py:69: UserWarning: The dataloader, test dataloader 0, does not have many workers which may be a bottleneck. Consider increasing the value of the `num_workers` argument` (try 8 which is the number of cpus on this machine) in the `DataLoader` init to improve performance.\n",
      "  warnings.warn(*args, **kwargs)\n"
     ]
    },
    {
     "data": {
      "application/vnd.jupyter.widget-view+json": {
       "model_id": "6e34f2c8533846b8a4b5313a3fbb1a72",
       "version_major": 2,
       "version_minor": 0
      },
      "text/plain": [
       "HBox(children=(HTML(value='Testing'), FloatProgress(value=1.0, bar_style='info', layout=Layout(flex='2'), max=…"
      ]
     },
     "metadata": {},
     "output_type": "display_data"
    },
    {
     "name": "stdout",
     "output_type": "stream",
     "text": [
      "('val_loss', tensor(0.0958, device='cuda:0'))\n",
      "('preds', array([48,  5,  0, 47], dtype=int64))\n",
      "('labels', array([46,  7,  3, 44], dtype=int64))\n",
      "('tp', array([42,  4,  0, 43], dtype=int64))\n",
      "('fp', array([6, 1, 0, 4], dtype=int64))\n",
      "('fn', array([4, 3, 3, 1], dtype=int64))\n",
      "('acc_per_class', [91.3, 57.14, 0.0, 97.73])\n",
      "('acc_unweighted', 61.54)\n",
      "('acc_weighted', tensor(89.9500, device='cuda:0'))\n",
      "('microRecall', 89.0)\n",
      "('macroRecall', 61.54)\n",
      "('microPrecision', 89.0)\n",
      "('macroPrecision', 64.75)\n",
      "('microF1_score', 89.0)\n",
      "('macroF1_score', 63.1)\n",
      "('macroF1_per_class', [89.36, 66.66, 0.0, 94.51])\n",
      "\n",
      "--------------------------------------------------------------------------------\n",
      "DATALOADER:0 TEST RESULTS\n",
      "{'macroF1': 63.1,\n",
      " 'microF1': 89.0,\n",
      " 'microF1_per_class': {'0': 89.36, '1': 66.66, '2': 0.0, '3': 94.51},\n",
      " 'valid_ac_unweighted': 61.54,\n",
      " 'valid_loss': 0.09583236277103424}\n",
      "--------------------------------------------------------------------------------\n",
      "Micro/Macro F1 Score for Speaker 671792823 is 63.1 89.0\n",
      "using distill-uncased tokenizer\n"
     ]
    },
    {
     "name": "stderr",
     "output_type": "stream",
     "text": [
      "LOCAL_RANK: 0 - CUDA_VISIBLE_DEVICES: [0]\n",
      "C:\\Users\\neera\\anaconda3\\envs\\NLP3\\lib\\site-packages\\pytorch_lightning\\utilities\\distributed.py:69: UserWarning: The dataloader, test dataloader 0, does not have many workers which may be a bottleneck. Consider increasing the value of the `num_workers` argument` (try 8 which is the number of cpus on this machine) in the `DataLoader` init to improve performance.\n",
      "  warnings.warn(*args, **kwargs)\n"
     ]
    },
    {
     "data": {
      "application/vnd.jupyter.widget-view+json": {
       "model_id": "cce94b3799854fb6aa881a762e59d3c7",
       "version_major": 2,
       "version_minor": 0
      },
      "text/plain": [
       "HBox(children=(HTML(value='Testing'), FloatProgress(value=1.0, bar_style='info', layout=Layout(flex='2'), max=…"
      ]
     },
     "metadata": {},
     "output_type": "display_data"
    },
    {
     "name": "stdout",
     "output_type": "stream",
     "text": [
      "('val_loss', tensor(0.0871, device='cuda:0'))\n",
      "('preds', array([69,  2,  0, 26], dtype=int64))\n",
      "('labels', array([64,  5,  0, 28], dtype=int64))\n",
      "('tp', array([61,  2,  0, 22], dtype=int64))\n",
      "('fp', array([8, 0, 0, 4], dtype=int64))\n",
      "('fn', array([3, 3, 0, 6], dtype=int64))\n",
      "('acc_per_class', [95.31, 40.0, 0.0, 78.57])\n",
      "('acc_unweighted', 53.47)\n",
      "('acc_weighted', tensor(89.2400, device='cuda:0'))\n",
      "('microRecall', 87.63)\n",
      "('macroRecall', 53.47)\n",
      "('microPrecision', 87.63)\n",
      "('macroPrecision', 68.26)\n",
      "('microF1_score', 87.63)\n",
      "('macroF1_score', 59.97)\n",
      "('macroF1_per_class', [91.73, 57.14, 0.0, 81.48])\n",
      "\n",
      "--------------------------------------------------------------------------------\n",
      "DATALOADER:0 TEST RESULTS\n",
      "{'macroF1': 59.97,\n",
      " 'microF1': 87.63,\n",
      " 'microF1_per_class': {'0': 91.73, '1': 57.14, '2': 0.0, '3': 81.48},\n",
      " 'valid_ac_unweighted': 53.47,\n",
      " 'valid_loss': 0.0871487557888031}\n",
      "--------------------------------------------------------------------------------\n",
      "Micro/Macro F1 Score for Speaker 100003245927356 is 59.97 87.63\n",
      "using distill-uncased tokenizer\n"
     ]
    },
    {
     "name": "stderr",
     "output_type": "stream",
     "text": [
      "LOCAL_RANK: 0 - CUDA_VISIBLE_DEVICES: [0]\n",
      "C:\\Users\\neera\\anaconda3\\envs\\NLP3\\lib\\site-packages\\pytorch_lightning\\utilities\\distributed.py:69: UserWarning: The dataloader, test dataloader 0, does not have many workers which may be a bottleneck. Consider increasing the value of the `num_workers` argument` (try 8 which is the number of cpus on this machine) in the `DataLoader` init to improve performance.\n",
      "  warnings.warn(*args, **kwargs)\n"
     ]
    },
    {
     "data": {
      "application/vnd.jupyter.widget-view+json": {
       "model_id": "a5c2ad4815de4655990f6f4a51456c30",
       "version_major": 2,
       "version_minor": 0
      },
      "text/plain": [
       "HBox(children=(HTML(value='Testing'), FloatProgress(value=1.0, bar_style='info', layout=Layout(flex='2'), max=…"
      ]
     },
     "metadata": {},
     "output_type": "display_data"
    },
    {
     "name": "stdout",
     "output_type": "stream",
     "text": [
      "('val_loss', tensor(0.0529, device='cuda:0'))\n",
      "('preds', array([65,  3,  0, 10], dtype=int64))\n",
      "('labels', array([66,  3,  1,  8], dtype=int64))\n",
      "('tp', array([63,  1,  0,  8], dtype=int64))\n",
      "('fp', array([2, 2, 0, 2], dtype=int64))\n",
      "('fn', array([3, 2, 1, 0], dtype=int64))\n",
      "('acc_per_class', [95.45, 33.33, 0.0, 100.0])\n",
      "('acc_unweighted', 57.2)\n",
      "('acc_weighted', tensor(92.5500, device='cuda:0'))\n",
      "('microRecall', 92.31)\n",
      "('macroRecall', 57.2)\n",
      "('microPrecision', 92.31)\n",
      "('macroPrecision', 52.56)\n",
      "('microF1_score', 92.30999999999999)\n",
      "('macroF1_score', 54.78)\n",
      "('macroF1_per_class', [96.18, 33.33, 0.0, 88.89])\n",
      "\n",
      "--------------------------------------------------------------------------------\n",
      "DATALOADER:0 TEST RESULTS\n",
      "{'macroF1': 54.78,\n",
      " 'microF1': 92.30999999999999,\n",
      " 'microF1_per_class': {'0': 96.18, '1': 33.33, '2': 0.0, '3': 88.89},\n",
      " 'valid_ac_unweighted': 57.2,\n",
      " 'valid_loss': 0.052932120859622955}\n",
      "--------------------------------------------------------------------------------\n",
      "Micro/Macro F1 Score for Speaker 100000218198096 is 54.78 92.30999999999999\n",
      "using distill-uncased tokenizer\n"
     ]
    },
    {
     "name": "stderr",
     "output_type": "stream",
     "text": [
      "LOCAL_RANK: 0 - CUDA_VISIBLE_DEVICES: [0]\n",
      "C:\\Users\\neera\\anaconda3\\envs\\NLP3\\lib\\site-packages\\pytorch_lightning\\utilities\\distributed.py:69: UserWarning: The dataloader, test dataloader 0, does not have many workers which may be a bottleneck. Consider increasing the value of the `num_workers` argument` (try 8 which is the number of cpus on this machine) in the `DataLoader` init to improve performance.\n",
      "  warnings.warn(*args, **kwargs)\n"
     ]
    },
    {
     "data": {
      "application/vnd.jupyter.widget-view+json": {
       "model_id": "414d98c602b34e558ce79d93ac308958",
       "version_major": 2,
       "version_minor": 0
      },
      "text/plain": [
       "HBox(children=(HTML(value='Testing'), FloatProgress(value=1.0, bar_style='info', layout=Layout(flex='2'), max=…"
      ]
     },
     "metadata": {},
     "output_type": "display_data"
    },
    {
     "name": "stdout",
     "output_type": "stream",
     "text": [
      "('val_loss', tensor(0.1084, device='cuda:0'))\n",
      "('preds', array([55,  1,  2, 16], dtype=int64))\n",
      "('labels', array([47,  3,  1, 23], dtype=int64))\n",
      "('tp', array([45,  1,  1, 14], dtype=int64))\n",
      "('fp', array([10,  0,  1,  2], dtype=int64))\n",
      "('fn', array([2, 2, 0, 9], dtype=int64))\n",
      "('acc_per_class', [95.74, 33.33, 100.0, 60.87])\n",
      "('acc_unweighted', 72.48)\n",
      "('acc_weighted', tensor(87.4500, device='cuda:0'))\n",
      "('microRecall', 82.43)\n",
      "('macroRecall', 72.48)\n",
      "('microPrecision', 82.43)\n",
      "('macroPrecision', 79.83)\n",
      "('microF1_score', 82.43)\n",
      "('macroF1_score', 75.98)\n",
      "('macroF1_per_class', [88.23, 50.0, 66.67, 71.8])\n",
      "\n",
      "--------------------------------------------------------------------------------\n",
      "DATALOADER:0 TEST RESULTS\n",
      "{'macroF1': 75.98,\n",
      " 'microF1': 82.43,\n",
      " 'microF1_per_class': {'0': 88.23, '1': 50.0, '2': 66.67, '3': 71.8},\n",
      " 'valid_ac_unweighted': 72.48,\n",
      " 'valid_loss': 0.10837429016828537}\n",
      "--------------------------------------------------------------------------------\n",
      "Micro/Macro F1 Score for Speaker 100000058602992 is 75.98 82.43\n",
      "Macro F1 Score without Intraspeaker Context 63.001666666666665\n",
      "Micro F1 Score without Intraspeaker Context 89.06333333333333\n"
     ]
    }
   ],
   "source": [
    "avg_f1_score_macro = 0\n",
    "avg_f1_score_micro = 0\n",
    "model.context_classifier_model.context_experiment_flag= False\n",
    "for speaker in speaker_list:\n",
    "    dataset = CustomDataset( df_without_interspeaker_context[speaker], model.max_number_of_speakers_in_dialogue, model.emo_dict, model.encoder, model.args)\n",
    "    test_loader = DataLoader(dataset, model.args.batch_size, shuffle=False, num_workers=0)\n",
    "    score = trainer.test(test_dataloaders =  test_loader)\n",
    "    print('Micro/Macro F1 Score for Speaker {} is {} {}'.format(speaker, score[0]['macroF1'],  score[0]['microF1'] ))\n",
    "    avg_f1_score_macro += score[0]['macroF1']\n",
    "    avg_f1_score_micro += score[0]['microF1']\n",
    "\n",
    "print('Macro F1 Score without Intraspeaker Context {}'.format(avg_f1_score_macro/len(speaker_list)))\n",
    "print('Micro F1 Score without Intraspeaker Context {}'.format(avg_f1_score_micro/len(speaker_list)))"
   ]
  },
  {
   "cell_type": "code",
   "execution_count": null,
   "id": "5db9171f",
   "metadata": {},
   "outputs": [],
   "source": []
  },
  {
   "cell_type": "code",
   "execution_count": null,
   "id": "dfe1c0e1",
   "metadata": {},
   "outputs": [],
   "source": []
  }
 ],
 "metadata": {
  "kernelspec": {
   "display_name": "Python 3",
   "language": "python",
   "name": "python3"
  },
  "language_info": {
   "codemirror_mode": {
    "name": "ipython",
    "version": 3
   },
   "file_extension": ".py",
   "mimetype": "text/x-python",
   "name": "python",
   "nbconvert_exporter": "python",
   "pygments_lexer": "ipython3",
   "version": "3.8.5"
  }
 },
 "nbformat": 4,
 "nbformat_minor": 5
}
