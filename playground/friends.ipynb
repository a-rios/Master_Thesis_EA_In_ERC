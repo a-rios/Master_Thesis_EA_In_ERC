{
 "cells": [
  {
   "cell_type": "markdown",
   "id": "15df5a1b",
   "metadata": {},
   "source": [
    "# Problem Statement\n",
    "\n",
    "\n",
    "\n",
    "\n",
    "\n",
    "ERC is a task that aims at predicting emotion of each utterance in a conversation. The following is an excerpt of a conversation with each utterance tagged with corresponding emotion and sentiment label.\n",
    "\n",
    "![alt text](example.jpg \"Title\")\n"
   ]
  },
  {
   "cell_type": "markdown",
   "id": "98c1957e",
   "metadata": {},
   "source": [
    "# Hierarchical Transformer Network for Utterance-Level Emotion Recognition\n",
    "This is the Pytorch implementation Utterance-level Emotion Recognition [paper](https://arxiv.org/ftp/arxiv/papers/2002/2002.07551.pdf)"
   ]
  },
  {
   "cell_type": "markdown",
   "id": "23911023",
   "metadata": {},
   "source": [
    "Overview\n",
    "Though predicting the emotion of a single utterance or sentence, i.e. emotion detection, is a well discussed subject in natural language understanding literature, EmoContext has several novel challenges. In this paper, we address four challenges in utterance-level emotion recognition in dialogue systems:\n",
    "\n",
    "- Emotion depend on the context of previous utterances in the dialogue\n",
    "\n",
    "- long-range contextual information is hard to be effectively captured;\n",
    "\n",
    "- Datasets are quite small.\n",
    "\n",
    "- the class distribution of training data is significantly different from that of the test data. Consequently, a model trained on the training data might not perform well on the test data.\n",
    "\n",
    "- We propose a hierarchical transformer framework with a lower-level transformer to model the word-level inputs and an upper-level transformer to capture the contexts of utterance-level embeddings."
   ]
  },
  {
   "cell_type": "code",
   "execution_count": null,
   "id": "2c29ac29",
   "metadata": {},
   "outputs": [],
   "source": [
    "Train Set: Utterance length statistics : Min: 1, Max: 69 Avg: 7.79\n",
    "Train Set: Utterance length statistics : Min: 1, Max: 37 Avg: 7.7\n",
    "Train Set: Utterance length statistics : Min: 1, Max: 45 Avg: 8.02"
   ]
  },
  {
   "cell_type": "markdown",
   "id": "e96d31a1",
   "metadata": {},
   "source": [
    "# Dataset\n",
    "Dataset includes the training data set consisting of 720 dialogues, and two evaluation data sets, Dev and Test, containing\n",
    "80 and 200 dialogues respectively. The Training, validation and test datasets are json files containing following information :\n",
    "\n",
    " - Speaker - Identifies the speaker of utterance\n",
    " - Utterance -  The textual content of the utterance.\n",
    " - Emotion - Emotion labels for each utterance\n",
    " - Annotation - The annotation string contains the raw count of votes for each emotion by the annotators. The order of the emotions in the string is [neutral, joy, sadness, fear, anger,  surprise, disgust]. For example, string \"2000030\" denotes that two annotators voted for \"neutral\", and three voted for \"surprise\". Note that the sum of the votes is always five, since the dialogues were annotated by five annotators.\n",
    "\n",
    "Dataset stattistics:\n",
    "\n",
    "\n",
    "| Statistics | Train | Dev | Test | \n",
    "| :-| :- | :- | :- | \n",
    "| # of Dialogues | 720 | 80 |200 | \n",
    "| # of Utterances | 10561 | 1178 |2764 | \n",
    "| Min number of Utterances per dialogue| 5 | 5 |5 | \n",
    "| Max number of Utterances per dialogue| 24 | 24 |24 | \n",
    "| Average number of Utterances per dialogue| 14.67 | 14.72 |13.82 | \n",
    "| Min Utterance length | 1 | 1 |1 | \n",
    "| Max Utterance length | 69 | 37 |45 | \n",
    "| Average Utterance length | 7.79 | 7.7 |8.02 | \n",
    "\n",
    "\n",
    "\n",
    "    \n",
    "    "
   ]
  },
  {
   "cell_type": "code",
   "execution_count": 8,
   "id": "ef567f05",
   "metadata": {},
   "outputs": [],
   "source": [
    "import torch\n",
    "import os\n",
    "import random\n",
    "import pandas as pd\n",
    "import functools\n",
    "import time\n",
    "import math\n",
    "import argparse\n",
    "import json\n",
    "\n",
    "\n",
    "from torch.utils.data import TensorDataset, DataLoader\n",
    "from torch.utils.data.distributed import DistributedSampler\n",
    "import torch.nn.functional as F\n",
    "from torch.utils.data import Dataset, DataLoader\n",
    "\n",
    "from ipywidgets import interact\n",
    "import numpy as np\n",
    "import seaborn as sns\n",
    "from pylab import rcParams\n",
    "import matplotlib.pyplot as plt\n",
    "from matplotlib import rc\n",
    "\n",
    "from transformers import DistilBertModel, DistilBertForSequenceClassification, DistilBertConfig, DistilBertTokenizer\n",
    "\n",
    "from collections import defaultdict\n",
    "from sklearn.metrics import f1_score\n",
    "import pytorch_lightning as pl\n",
    "from pytorch_lightning import seed_everything"
   ]
  },
  {
   "cell_type": "code",
   "execution_count": 9,
   "id": "a60c743b",
   "metadata": {},
   "outputs": [],
   "source": [
    "device = torch.device(\"cuda:0\" if torch.cuda.is_available() else \"cpu\")"
   ]
  },
  {
   "cell_type": "code",
   "execution_count": 10,
   "id": "fdd6d4e7",
   "metadata": {},
   "outputs": [],
   "source": [
    "sns.set(style='whitegrid', palette='muted', font_scale=1.2)\n",
    "HAPPY_COLORS_PALETTE = [\"#01BEFE\", \"#FFDD00\", \"#FF7D00\", \"#FF006D\", \"#ADFF02\", \"#8F00FF\"]\n",
    "sns.set_palette(sns.color_palette(HAPPY_COLORS_PALETTE))\n",
    "rcParams['figure.figsize'] = 12, 8"
   ]
  },
  {
   "cell_type": "markdown",
   "id": "03dd8b4f",
   "metadata": {},
   "source": [
    "# Read Dataset CSV Files"
   ]
  },
  {
   "cell_type": "code",
   "execution_count": 11,
   "id": "2dcd594d",
   "metadata": {},
   "outputs": [],
   "source": [
    "path = 'data/Friends/friends.train.json'\n",
    "with open(path, encoding='utf-8') as data_file:\n",
    "    train_json = json.loads(data_file.read())\n",
    "path = 'data/Friends/friends.dev.json'\n",
    "with open(path, encoding='utf-8') as data_file:\n",
    "    val_json = json.loads(data_file.read())\n",
    "path = 'data/Friends/friends.test.json'\n",
    "with open(path, encoding='utf-8') as data_file:\n",
    "    test_json = json.loads(data_file.read())"
   ]
  },
  {
   "cell_type": "code",
   "execution_count": 12,
   "id": "ea0bf34b",
   "metadata": {},
   "outputs": [
    {
     "data": {
      "text/plain": [
       "[[{'speaker': 'Chandler',\n",
       "   'utterance': \"also I was the point person on my company's transition from the KL-5 to GR-6 system.\",\n",
       "   'emotion': 'neutral',\n",
       "   'annotation': '4100000'},\n",
       "  {'speaker': 'The Interviewer',\n",
       "   'utterance': \"You must've had your hands full.\",\n",
       "   'emotion': 'neutral',\n",
       "   'annotation': '5000000'},\n",
       "  {'speaker': 'Chandler',\n",
       "   'utterance': 'That I did. That I did.',\n",
       "   'emotion': 'neutral',\n",
       "   'annotation': '5000000'},\n",
       "  {'speaker': 'The Interviewer',\n",
       "   'utterance': \"So let's talk a little bit about your duties.\",\n",
       "   'emotion': 'neutral',\n",
       "   'annotation': '5000000'},\n",
       "  {'speaker': 'Chandler',\n",
       "   'utterance': 'My duties?  All right.',\n",
       "   'emotion': 'surprise',\n",
       "   'annotation': '2000030'},\n",
       "  {'speaker': 'The Interviewer',\n",
       "   'utterance': \"Now you'll be heading a whole division, so you'll have a lot of duties.\",\n",
       "   'emotion': 'neutral',\n",
       "   'annotation': '5000000'},\n",
       "  {'speaker': 'Chandler',\n",
       "   'utterance': 'I see.',\n",
       "   'emotion': 'neutral',\n",
       "   'annotation': '3100010'},\n",
       "  {'speaker': 'The Interviewer',\n",
       "   'utterance': \"But there'll be perhaps 30 people under you so you can dump a certain amount on them.\",\n",
       "   'emotion': 'neutral',\n",
       "   'annotation': '4000100'},\n",
       "  {'speaker': 'Chandler',\n",
       "   'utterance': 'Good to know.',\n",
       "   'emotion': 'neutral',\n",
       "   'annotation': '4100000'},\n",
       "  {'speaker': 'The Interviewer',\n",
       "   'utterance': 'We can go into detail',\n",
       "   'emotion': 'neutral',\n",
       "   'annotation': '4000100'},\n",
       "  {'speaker': 'Chandler',\n",
       "   'utterance': \"No don't I beg of you!\",\n",
       "   'emotion': 'fear',\n",
       "   'annotation': '0004010'},\n",
       "  {'speaker': 'The Interviewer',\n",
       "   'utterance': \"All right then, we'll have a definite answer for you on Monday, but I think I can say with some confidence, you'll fit in well here.\",\n",
       "   'emotion': 'neutral',\n",
       "   'annotation': '4100000'},\n",
       "  {'speaker': 'Chandler',\n",
       "   'utterance': 'Really?!',\n",
       "   'emotion': 'surprise',\n",
       "   'annotation': '0100040'},\n",
       "  {'speaker': 'The Interviewer',\n",
       "   'utterance': 'Absolutely.  You can relax; you did great.',\n",
       "   'emotion': 'neutral',\n",
       "   'annotation': '3200000'},\n",
       "  {'speaker': 'Joey',\n",
       "   'utterance': 'But then who? The waitress I went out with last month?',\n",
       "   'emotion': 'surprise',\n",
       "   'annotation': '1000040'},\n",
       "  {'speaker': 'Rachel',\n",
       "   'utterance': 'You know? Forget it!',\n",
       "   'emotion': 'non-neutral',\n",
       "   'annotation': '1010102'},\n",
       "  {'speaker': 'Joey',\n",
       "   'utterance': 'No-no-no-no, no! Who, who were you talking about?',\n",
       "   'emotion': 'surprise',\n",
       "   'annotation': '1001030'},\n",
       "  {'speaker': 'Rachel',\n",
       "   'utterance': \"No, I-I-I-I don't, I actually don't know\",\n",
       "   'emotion': 'non-neutral',\n",
       "   'annotation': '2012000'},\n",
       "  {'speaker': 'Joey',\n",
       "   'utterance': 'Ok!',\n",
       "   'emotion': 'neutral',\n",
       "   'annotation': '4100000'},\n",
       "  {'speaker': 'Joey',\n",
       "   'utterance': 'All right, well...',\n",
       "   'emotion': 'neutral',\n",
       "   'annotation': '3200000'},\n",
       "  {'speaker': 'Joey',\n",
       "   'utterance': \"I'm gonna see if I can get a room for the night and I'll...\",\n",
       "   'emotion': 'non-neutral',\n",
       "   'annotation': '2210000'},\n",
       "  {'speaker': 'Joey',\n",
       "   'utterance': \"I'll see you later!\",\n",
       "   'emotion': 'non-neutral',\n",
       "   'annotation': '2210000'},\n",
       "  {'speaker': 'Rachel',\n",
       "   'utterance': 'Yeah, sure!',\n",
       "   'emotion': 'neutral',\n",
       "   'annotation': '3200000'}],\n",
       " [{'speaker': 'Chandler',\n",
       "   'utterance': 'Hey, Mon.',\n",
       "   'emotion': 'neutral',\n",
       "   'annotation': '5000000'},\n",
       "  {'speaker': 'Monica',\n",
       "   'utterance': 'Hey-hey-hey. You wanna hear something that sucks.',\n",
       "   'emotion': 'neutral',\n",
       "   'annotation': '4000001'},\n",
       "  {'speaker': 'Chandler',\n",
       "   'utterance': 'Do I ever.',\n",
       "   'emotion': 'joy',\n",
       "   'annotation': '2300000'},\n",
       "  {'speaker': 'Monica',\n",
       "   'utterance': \"Chris says they're closing down the bar.\",\n",
       "   'emotion': 'sadness',\n",
       "   'annotation': '2030000'},\n",
       "  {'speaker': 'Chandler',\n",
       "   'utterance': 'No way!',\n",
       "   'emotion': 'surprise',\n",
       "   'annotation': '0010040'},\n",
       "  {'speaker': 'Monica',\n",
       "   'utterance': \"Yeah, apparently they're turning it into some kinda coffee place.\",\n",
       "   'emotion': 'neutral',\n",
       "   'annotation': '3010001'},\n",
       "  {'speaker': 'Chandler',\n",
       "   'utterance': 'Just coffee! Where are we gonna hang out now?',\n",
       "   'emotion': 'non-neutral',\n",
       "   'annotation': '0120020'},\n",
       "  {'speaker': 'Monica',\n",
       "   'utterance': 'Got me.',\n",
       "   'emotion': 'sadness',\n",
       "   'annotation': '2030000'},\n",
       "  {'speaker': 'Chandler',\n",
       "   'utterance': 'Can I get a beer.',\n",
       "   'emotion': 'neutral',\n",
       "   'annotation': '5000000'},\n",
       "  {'speaker': 'Monica',\n",
       "   'utterance': 'Hey, did you pick a roommate?',\n",
       "   'emotion': 'neutral',\n",
       "   'annotation': '5000000'},\n",
       "  {'speaker': 'Chandler',\n",
       "   'utterance': 'You betcha!',\n",
       "   'emotion': 'joy',\n",
       "   'annotation': '1400000'},\n",
       "  {'speaker': 'Monica',\n",
       "   'utterance': 'Is it the Italian guy?',\n",
       "   'emotion': 'neutral',\n",
       "   'annotation': '5000000'},\n",
       "  {'speaker': 'Chandler',\n",
       "   'utterance': 'Um-mm, yeah right!',\n",
       "   'emotion': 'non-neutral',\n",
       "   'annotation': '2100002'},\n",
       "  {'speaker': 'Phoebe',\n",
       "   'utterance': 'Oh my God, oh my God! Poor Monica!',\n",
       "   'emotion': 'surprise',\n",
       "   'annotation': '0010031'},\n",
       "  {'speaker': 'Chandler',\n",
       "   'utterance': 'What, what, what?!',\n",
       "   'emotion': 'surprise',\n",
       "   'annotation': '0001040'},\n",
       "  {'speaker': 'Phoebe',\n",
       "   'utterance': 'What?!',\n",
       "   'emotion': 'surprise',\n",
       "   'annotation': '0002030'},\n",
       "  {'speaker': 'Phoebe',\n",
       "   'utterance': 'He was with her when he wrote this poem.',\n",
       "   'emotion': 'neutral',\n",
       "   'annotation': '3010010'},\n",
       "  {'speaker': 'Phoebe',\n",
       "   'utterance': \"Look,  'My vessel so empty with nothing inside.\",\n",
       "   'emotion': 'neutral',\n",
       "   'annotation': '3010001'},\n",
       "  {'speaker': 'Phoebe',\n",
       "   'utterance': \"Now that I've touched you, you seem emptier still.'\",\n",
       "   'emotion': 'neutral',\n",
       "   'annotation': '3010001'},\n",
       "  {'speaker': 'Phoebe',\n",
       "   'utterance': 'He thinks Monica is empty, she is the empty vase!',\n",
       "   'emotion': 'surprise',\n",
       "   'annotation': '1000040'},\n",
       "  {'speaker': 'Chandler',\n",
       "   'utterance': 'You really think that is what he meant?',\n",
       "   'emotion': 'non-neutral',\n",
       "   'annotation': '2000021'},\n",
       "  {'speaker': 'Phoebe',\n",
       "   'utterance': 'Oh, totally. Oh, God, oh, she seemed so happy too.',\n",
       "   'emotion': 'sadness',\n",
       "   'annotation': '2030000'},\n",
       "  {'speaker': 'Joey',\n",
       "   'utterance': 'Done.',\n",
       "   'emotion': 'neutral',\n",
       "   'annotation': '4010000'}],\n",
       " [{'speaker': 'Rachel',\n",
       "   'utterance': 'Hey!',\n",
       "   'emotion': 'non-neutral',\n",
       "   'annotation': '1200020'},\n",
       "  {'speaker': 'Ross',\n",
       "   'utterance': 'Hi!',\n",
       "   'emotion': 'non-neutral',\n",
       "   'annotation': '2200010'},\n",
       "  {'speaker': 'Rachel',\n",
       "   'utterance': 'What are you doing here?',\n",
       "   'emotion': 'surprise',\n",
       "   'annotation': '1000040'},\n",
       "  {'speaker': 'Ross',\n",
       "   'utterance': \"Ah y'know, this building is on my paper route so I...\",\n",
       "   'emotion': 'neutral',\n",
       "   'annotation': '4001000'},\n",
       "  {'speaker': 'Rachel',\n",
       "   'utterance': 'Oh.',\n",
       "   'emotion': 'neutral',\n",
       "   'annotation': '4000010'},\n",
       "  {'speaker': 'Ross',\n",
       "   'utterance': 'Hi.',\n",
       "   'emotion': 'neutral',\n",
       "   'annotation': '5000000'},\n",
       "  {'speaker': 'Rachel',\n",
       "   'utterance': 'Hi.',\n",
       "   'emotion': 'neutral',\n",
       "   'annotation': '5000000'},\n",
       "  {'speaker': 'Ross',\n",
       "   'utterance': \"How'd did it go?\",\n",
       "   'emotion': 'neutral',\n",
       "   'annotation': '5000000'},\n",
       "  {'speaker': 'Rachel',\n",
       "   'utterance': \"Oh well, the woman I interviewed with was pretty tough, but y'know thank God Mark coached me, because once I started talking about the fall line, she got all happy and wouldn't shut up.\",\n",
       "   'emotion': 'joy',\n",
       "   'annotation': '2300000'},\n",
       "  {'speaker': 'Ross',\n",
       "   'utterance': \"I'm so proud of you.\",\n",
       "   'emotion': 'joy',\n",
       "   'annotation': '0500000'},\n",
       "  {'speaker': 'Rachel',\n",
       "   'utterance': 'Me too!',\n",
       "   'emotion': 'joy',\n",
       "   'annotation': '0400010'},\n",
       "  {'speaker': 'Ross',\n",
       "   'utterance': \"Listen, I'm ah, I'm sorry I've been so crazy and jealous and, it's just that I like you a lot, so...\",\n",
       "   'emotion': 'non-neutral',\n",
       "   'annotation': '1022000'},\n",
       "  {'speaker': 'Rachel',\n",
       "   'utterance': 'I know.',\n",
       "   'emotion': 'neutral',\n",
       "   'annotation': '4010000'},\n",
       "  {'speaker': 'Ross',\n",
       "   'utterance': 'Yeah.',\n",
       "   'emotion': 'neutral',\n",
       "   'annotation': '4010000'},\n",
       "  {'speaker': 'Rachel',\n",
       "   'utterance': 'Yeah.',\n",
       "   'emotion': 'neutral',\n",
       "   'annotation': '4010000'},\n",
       "  {'speaker': 'Phoebe',\n",
       "   'utterance': 'Ameri-can.',\n",
       "   'emotion': 'neutral',\n",
       "   'annotation': '5000000'},\n",
       "  {'speaker': 'Sergei',\n",
       "   'utterance': 'Ameri-ccan.',\n",
       "   'emotion': 'neutral',\n",
       "   'annotation': '5000000'},\n",
       "  {'speaker': 'Phoebe',\n",
       "   'utterance': \"Ameri-can. Y'know it's a\",\n",
       "   'emotion': 'neutral',\n",
       "   'annotation': '5000000'},\n",
       "  {'speaker': 'Sergei',\n",
       "   'utterance': 'Everybody!!',\n",
       "   'emotion': 'surprise',\n",
       "   'annotation': '0200030'}]]"
      ]
     },
     "execution_count": 12,
     "metadata": {},
     "output_type": "execute_result"
    }
   ],
   "source": [
    "train_json[0:3]"
   ]
  },
  {
   "cell_type": "code",
   "execution_count": 13,
   "id": "ab355f3f",
   "metadata": {},
   "outputs": [],
   "source": [
    "def create_df(data, column_list):\n",
    "    df = pd.DataFrame(columns = column_list)\n",
    "    dialogue_idx = 0\n",
    "    for dialog in data:\n",
    "        for utter in dialog:\n",
    "            df2 = pd.DataFrame([[dialogue_idx, utter['utterance'], utter['speaker'], len(utter['utterance'].split()), utter['emotion'] ]], columns = column_list)\n",
    "            df = df.append(df2, ignore_index=True)\n",
    "        dialogue_idx += 1\n",
    "        '''\n",
    "        if (dialogue_idx == 20):  # Load less data for test run\n",
    "            break\n",
    "        '''\n",
    "    return df\n",
    "    "
   ]
  },
  {
   "cell_type": "code",
   "execution_count": 14,
   "id": "bf084e62",
   "metadata": {},
   "outputs": [],
   "source": [
    "column_list = list(('dialogue_id', 'utterance', 'speaker','utterance_len', 'label'))\n",
    "df_train = create_df(train_json, column_list )\n",
    "df_val = create_df(val_json, column_list )       \n",
    "df_test = create_df(test_json, column_list )   "
   ]
  },
  {
   "cell_type": "markdown",
   "id": "9213a2bc",
   "metadata": {},
   "source": [
    "#  Number of Dialogues in Training and Evaluation Sets"
   ]
  },
  {
   "cell_type": "code",
   "execution_count": 15,
   "id": "80d064c5",
   "metadata": {},
   "outputs": [
    {
     "data": {
      "text/plain": [
       "(720, 80, 200)"
      ]
     },
     "execution_count": 15,
     "metadata": {},
     "output_type": "execute_result"
    }
   ],
   "source": [
    "len(df_train['dialogue_id'].unique()), len(df_val['dialogue_id'].unique()), len(df_test['dialogue_id'].unique())"
   ]
  },
  {
   "cell_type": "code",
   "execution_count": 16,
   "id": "52f78e4c",
   "metadata": {},
   "outputs": [
    {
     "data": {
      "text/html": [
       "<div>\n",
       "<style scoped>\n",
       "    .dataframe tbody tr th:only-of-type {\n",
       "        vertical-align: middle;\n",
       "    }\n",
       "\n",
       "    .dataframe tbody tr th {\n",
       "        vertical-align: top;\n",
       "    }\n",
       "\n",
       "    .dataframe thead th {\n",
       "        text-align: right;\n",
       "    }\n",
       "</style>\n",
       "<table border=\"1\" class=\"dataframe\">\n",
       "  <thead>\n",
       "    <tr style=\"text-align: right;\">\n",
       "      <th></th>\n",
       "      <th>dialogue_id</th>\n",
       "      <th>utterance</th>\n",
       "      <th>speaker</th>\n",
       "      <th>utterance_len</th>\n",
       "      <th>label</th>\n",
       "    </tr>\n",
       "  </thead>\n",
       "  <tbody>\n",
       "    <tr>\n",
       "      <th>0</th>\n",
       "      <td>0</td>\n",
       "      <td>also I was the point person on my company's tr...</td>\n",
       "      <td>Chandler</td>\n",
       "      <td>16</td>\n",
       "      <td>neutral</td>\n",
       "    </tr>\n",
       "    <tr>\n",
       "      <th>1</th>\n",
       "      <td>0</td>\n",
       "      <td>You must've had your hands full.</td>\n",
       "      <td>The Interviewer</td>\n",
       "      <td>6</td>\n",
       "      <td>neutral</td>\n",
       "    </tr>\n",
       "    <tr>\n",
       "      <th>2</th>\n",
       "      <td>0</td>\n",
       "      <td>That I did. That I did.</td>\n",
       "      <td>Chandler</td>\n",
       "      <td>6</td>\n",
       "      <td>neutral</td>\n",
       "    </tr>\n",
       "    <tr>\n",
       "      <th>3</th>\n",
       "      <td>0</td>\n",
       "      <td>So let's talk a little bit about your duties.</td>\n",
       "      <td>The Interviewer</td>\n",
       "      <td>9</td>\n",
       "      <td>neutral</td>\n",
       "    </tr>\n",
       "    <tr>\n",
       "      <th>4</th>\n",
       "      <td>0</td>\n",
       "      <td>My duties?  All right.</td>\n",
       "      <td>Chandler</td>\n",
       "      <td>4</td>\n",
       "      <td>surprise</td>\n",
       "    </tr>\n",
       "    <tr>\n",
       "      <th>...</th>\n",
       "      <td>...</td>\n",
       "      <td>...</td>\n",
       "      <td>...</td>\n",
       "      <td>...</td>\n",
       "      <td>...</td>\n",
       "    </tr>\n",
       "    <tr>\n",
       "      <th>10556</th>\n",
       "      <td>719</td>\n",
       "      <td>You or me?</td>\n",
       "      <td>Chandler</td>\n",
       "      <td>3</td>\n",
       "      <td>neutral</td>\n",
       "    </tr>\n",
       "    <tr>\n",
       "      <th>10557</th>\n",
       "      <td>719</td>\n",
       "      <td>I got it. Uh, Joey, women don't have Adam's ap...</td>\n",
       "      <td>Ross</td>\n",
       "      <td>10</td>\n",
       "      <td>non-neutral</td>\n",
       "    </tr>\n",
       "    <tr>\n",
       "      <th>10558</th>\n",
       "      <td>719</td>\n",
       "      <td>You guys are messing with me, right?</td>\n",
       "      <td>Joey</td>\n",
       "      <td>7</td>\n",
       "      <td>surprise</td>\n",
       "    </tr>\n",
       "    <tr>\n",
       "      <th>10559</th>\n",
       "      <td>719</td>\n",
       "      <td>Yeah.</td>\n",
       "      <td>All</td>\n",
       "      <td>1</td>\n",
       "      <td>neutral</td>\n",
       "    </tr>\n",
       "    <tr>\n",
       "      <th>10560</th>\n",
       "      <td>719</td>\n",
       "      <td>That was a good one. For a second there, I was...</td>\n",
       "      <td>Joey</td>\n",
       "      <td>13</td>\n",
       "      <td>non-neutral</td>\n",
       "    </tr>\n",
       "  </tbody>\n",
       "</table>\n",
       "<p>10561 rows × 5 columns</p>\n",
       "</div>"
      ],
      "text/plain": [
       "      dialogue_id                                          utterance  \\\n",
       "0               0  also I was the point person on my company's tr...   \n",
       "1               0                   You must've had your hands full.   \n",
       "2               0                            That I did. That I did.   \n",
       "3               0      So let's talk a little bit about your duties.   \n",
       "4               0                             My duties?  All right.   \n",
       "...           ...                                                ...   \n",
       "10556         719                                         You or me?   \n",
       "10557         719  I got it. Uh, Joey, women don't have Adam's ap...   \n",
       "10558         719               You guys are messing with me, right?   \n",
       "10559         719                                              Yeah.   \n",
       "10560         719  That was a good one. For a second there, I was...   \n",
       "\n",
       "               speaker utterance_len        label  \n",
       "0             Chandler            16      neutral  \n",
       "1      The Interviewer             6      neutral  \n",
       "2             Chandler             6      neutral  \n",
       "3      The Interviewer             9      neutral  \n",
       "4             Chandler             4     surprise  \n",
       "...                ...           ...          ...  \n",
       "10556         Chandler             3      neutral  \n",
       "10557             Ross            10  non-neutral  \n",
       "10558             Joey             7     surprise  \n",
       "10559              All             1      neutral  \n",
       "10560             Joey            13  non-neutral  \n",
       "\n",
       "[10561 rows x 5 columns]"
      ]
     },
     "execution_count": 16,
     "metadata": {},
     "output_type": "execute_result"
    }
   ],
   "source": [
    "df_train"
   ]
  },
  {
   "cell_type": "markdown",
   "id": "ac959a52",
   "metadata": {},
   "source": [
    "#  Number of utterances in Training and Evaluation Sets"
   ]
  },
  {
   "cell_type": "code",
   "execution_count": 17,
   "id": "d1b83ff5",
   "metadata": {},
   "outputs": [
    {
     "data": {
      "text/plain": [
       "(10561, 1178, 2764)"
      ]
     },
     "execution_count": 17,
     "metadata": {},
     "output_type": "execute_result"
    }
   ],
   "source": [
    "df_train.shape[0], df_val.shape[0], df_test.shape[0]"
   ]
  },
  {
   "cell_type": "code",
   "execution_count": 18,
   "id": "38a6e420",
   "metadata": {
    "scrolled": true
   },
   "outputs": [
    {
     "name": "stdout",
     "output_type": "stream",
     "text": [
      "<class 'pandas.core.frame.DataFrame'>\n",
      "RangeIndex: 10561 entries, 0 to 10560\n",
      "Data columns (total 5 columns):\n",
      " #   Column         Non-Null Count  Dtype \n",
      "---  ------         --------------  ----- \n",
      " 0   dialogue_id    10561 non-null  object\n",
      " 1   utterance      10561 non-null  object\n",
      " 2   speaker        10561 non-null  object\n",
      " 3   utterance_len  10561 non-null  object\n",
      " 4   label          10561 non-null  object\n",
      "dtypes: object(5)\n",
      "memory usage: 412.7+ KB\n"
     ]
    }
   ],
   "source": [
    "df_train.info()"
   ]
  },
  {
   "cell_type": "code",
   "execution_count": 19,
   "id": "b02005d3",
   "metadata": {
    "scrolled": true
   },
   "outputs": [
    {
     "data": {
      "text/plain": [
       "(neutral        4752\n",
       " non-neutral    2017\n",
       " joy            1283\n",
       " surprise       1220\n",
       " anger           513\n",
       " sadness         351\n",
       " disgust         240\n",
       " fear            185\n",
       " Name: label, dtype: int64,\n",
       " neutral        491\n",
       " non-neutral    214\n",
       " surprise       151\n",
       " joy            123\n",
       " anger           85\n",
       " sadness         62\n",
       " fear            29\n",
       " disgust         23\n",
       " Name: label, dtype: int64,\n",
       " neutral        1287\n",
       " non-neutral     541\n",
       " joy             304\n",
       " surprise        286\n",
       " anger           161\n",
       " sadness          85\n",
       " disgust          68\n",
       " fear             32\n",
       " Name: label, dtype: int64)"
      ]
     },
     "execution_count": 19,
     "metadata": {},
     "output_type": "execute_result"
    }
   ],
   "source": [
    "df_train['label'].value_counts(), df_val['label'].value_counts(), df_test['label'].value_counts()"
   ]
  },
  {
   "cell_type": "markdown",
   "id": "d0c44b82",
   "metadata": {},
   "source": [
    "#  Comparison of class distribution in Training vs Evaluation data sets\n",
    "\n",
    "| Emotion | Neutral | Non-Neutral | Joy | Surprise | Anger | Sadness | Disgust | Fear | # |\n",
    "| :-: | :-: | :-: | :-: | :-: | :-: | :-: | :-: | :-: | :-: |\n",
    "| Train | 4752 | 2017 |1283 | 1220| 513|351 |240 | 185| 10561|\n",
    "| Dev | 491 | 214 |151 | 123| 85|62 |29 | 23| 1178|\n",
    "| Test | 1287 | 541 |304 | 286| 161|85 |68 | 32| 2764|"
   ]
  },
  {
   "cell_type": "code",
   "execution_count": 20,
   "id": "bd2f37e0",
   "metadata": {},
   "outputs": [],
   "source": [
    "data = [df_train['label'], df_val['label'], df_test['label']]\n",
    "columns=list(('Training', 'Validation', 'Test'))\n",
    "df_labels = pd.concat(data, axis=1, keys=columns)"
   ]
  },
  {
   "cell_type": "code",
   "execution_count": 21,
   "id": "6b244aa4",
   "metadata": {},
   "outputs": [
    {
     "data": {
      "text/plain": [
       "{'anger',\n",
       " 'disgust',\n",
       " 'fear',\n",
       " 'joy',\n",
       " 'neutral',\n",
       " 'non-neutral',\n",
       " 'sadness',\n",
       " 'surprise'}"
      ]
     },
     "execution_count": 21,
     "metadata": {},
     "output_type": "execute_result"
    }
   ],
   "source": [
    "set(df_train.label)"
   ]
  },
  {
   "cell_type": "code",
   "execution_count": 22,
   "id": "daed3141",
   "metadata": {},
   "outputs": [
    {
     "data": {
      "text/plain": [
       "[Text(0, 0, 'joy'),\n",
       " Text(1, 0, 'surprise'),\n",
       " Text(2, 0, 'anger'),\n",
       " Text(3, 0, 'sadness'),\n",
       " Text(4, 0, 'disgust'),\n",
       " Text(5, 0, 'fear'),\n",
       " Text(6, 0, 'non-neutral'),\n",
       " Text(7, 0, 'neutral')]"
      ]
     },
     "execution_count": 22,
     "metadata": {},
     "output_type": "execute_result"
    },
    {
     "data": {
      "image/png": "[encoded data removed]",
      "text/plain": [
       "<Figure size 864x576 with 3 Axes>"
      ]
     },
     "metadata": {},
     "output_type": "display_data"
    }
   ],
   "source": [
    "fig, ax =plt.subplots(1,3)\n",
    "fig.suptitle('Comparison of class distribution in Training vs Evaluation data sets', fontsize=16)\n",
    "fig.tight_layout()\n",
    "emotion_list = ['joy', 'surprise', 'anger', 'sadness','disgust', 'fear', 'non-neutral', 'neutral' ]\n",
    "chart = sns.countplot(x=\"Training\",   data=df_labels, order = emotion_list, ax=ax[0])\n",
    "chart.set_xticklabels(chart.get_xticklabels(), rotation=45, horizontalalignment='right')\n",
    "chart = sns.countplot(x=\"Validation\", data=df_labels, order = emotion_list, ax=ax[1])\n",
    "chart.set_xticklabels(chart.get_xticklabels(), rotation=45, horizontalalignment='right')\n",
    "chart = sns.countplot(x=\"Test\",       data=df_labels, order = emotion_list, ax=ax[2])\n",
    "chart.set_xticklabels(chart.get_xticklabels(), rotation=45, horizontalalignment='right')"
   ]
  },
  {
   "cell_type": "markdown",
   "id": "966bc49c",
   "metadata": {},
   "source": [
    "# Scale of class imbalance is different in Training and Evaluation data sets\n",
    "| Emotion | Neutral | Non-Neutral | Joy | Surprise | Anger | Sadness | Disgust | Fear |\n",
    "| :-: | :-: | :-: | :-: | :-: | :-: | :-: | :-: | :-: |\n",
    "| Train | 45% | 19% |12% | 12%| 5% |3% |2% | 2%| \n",
    "| Dev | 42% | 18% |13% | 10%| 7%|5% |3% | 2%|\n",
    "| Test | 46% | 20% |11% | 10%| 6%|3% |3% | 1%|\n",
    "\n",
    "Distribution of classes is almost similar among training and eval sets"
   ]
  },
  {
   "cell_type": "code",
   "execution_count": 32,
   "id": "7fbaff25",
   "metadata": {},
   "outputs": [],
   "source": [
    "train = pd.Series(['Training'] , ['name'])\n",
    "train = train.append(df_labels['Training'].value_counts().div(df_labels['Training'].value_counts().sum()))\n",
    "val = pd.Series(['Validation'] , ['name'])\n",
    "val = val.append(df_labels['Validation'].value_counts().div(df_labels['Validation'].value_counts().sum()))\n",
    "test = pd.Series(['Test'] , ['name'])\n",
    "test = test.append(df_labels['Test'].value_counts().div(df_labels['Test'].value_counts().sum()))\n",
    "\n",
    "df_stacked = pd.DataFrame(columns = emotion_list)\n",
    "\n",
    "df_stacked = df_stacked.append(train,ignore_index=True)\n",
    "df_stacked = df_stacked.append(val,ignore_index=True)\n",
    "df_stacked = df_stacked.append(test,ignore_index=True)"
   ]
  },
  {
   "cell_type": "code",
   "execution_count": 33,
   "id": "8eec58d1",
   "metadata": {},
   "outputs": [
    {
     "data": {
      "text/plain": [
       "<matplotlib.legend.Legend at 0x24d947b1430>"
      ]
     },
     "execution_count": 33,
     "metadata": {},
     "output_type": "execute_result"
    },
    {
     "data": {
      "image/png": "[encoded data removed]",
      "text/plain": [
       "<Figure size 864x576 with 1 Axes>"
      ]
     },
     "metadata": {},
     "output_type": "display_data"
    }
   ],
   "source": [
    "# plot a Stacked Bar Chart using matplotlib\n",
    "df_stacked.plot(\n",
    "    x = 'name',\n",
    "    kind = 'bar',\n",
    "    stacked = True,\n",
    "    title = 'Stacked Bar Graph',\n",
    "    mark_right = False, \n",
    "    colormap='gist_rainbow'\n",
    "   ).legend(bbox_to_anchor=(1, 1))"
   ]
  },
  {
   "cell_type": "markdown",
   "id": "f52c6b05",
   "metadata": {},
   "source": [
    "# Distribution of number of utterances per dialogue in Train and Evaluation Sets\n",
    "- Minimum and maximum value of number of utterances per dialogue is same across 3 sets, 5 and 24 respectively\n"
   ]
  },
  {
   "cell_type": "code",
   "execution_count": 34,
   "id": "bf27ae12",
   "metadata": {},
   "outputs": [],
   "source": [
    "train_dialogue_id_list = list((df_train['dialogue_id'].unique()))\n",
    "val_dialogue_id_list = list((df_val['dialogue_id'].unique()))\n",
    "test_dialogue_id_list = list((df_test['dialogue_id'].unique()))\n",
    "d = {\"Training\":[],\"Validation\":[],\"Test\":[] };\n",
    "for dialogue in train_dialogue_id_list:\n",
    "     d['Training'].append((df_train.dialogue_id ==dialogue).sum())\n",
    "for dialogue in val_dialogue_id_list:\n",
    "     d['Validation'].append((df_val.dialogue_id ==dialogue).sum())\n",
    "for dialogue in test_dialogue_id_list:\n",
    "     d['Test'].append((df_test.dialogue_id ==dialogue).sum())\n",
    "\n",
    "\n"
   ]
  },
  {
   "cell_type": "code",
   "execution_count": 35,
   "id": "cac88411",
   "metadata": {},
   "outputs": [
    {
     "name": "stdout",
     "output_type": "stream",
     "text": [
      "Train Set: Utterance per dialogue statistics : Min: 5, Max: 24 Avg: 14.67\n",
      "Train Set: Utterance per dialogue statistics : Min: 5, Max: 24 Avg: 14.72\n",
      "Train Set: Utterance per dialogue statistics : Min: 5, Max: 24 Avg: 13.82\n"
     ]
    }
   ],
   "source": [
    "\n",
    "print('Train Set: Utterance per dialogue statistics : Min: {}, Max: {} Avg: {}'.format(min(d['Training']), max(d['Training']), np.round(sum(d['Training'])/len(d['Training']), 2)))\n",
    "print('Train Set: Utterance per dialogue statistics : Min: {}, Max: {} Avg: {}'.format(min(d['Validation']), max(d['Validation']), np.round(sum(d['Validation'])/len(d['Validation']), 2)))\n",
    "print('Train Set: Utterance per dialogue statistics : Min: {}, Max: {} Avg: {}'.format(min(d['Test']), max(d['Test']), np.round(sum(d['Test'])/len(d['Test']), 2)))"
   ]
  },
  {
   "cell_type": "code",
   "execution_count": 36,
   "id": "829fdabc",
   "metadata": {},
   "outputs": [
    {
     "data": {
      "text/plain": [
       "<AxesSubplot:title={'center':'Test'}, ylabel='Count'>"
      ]
     },
     "execution_count": 36,
     "metadata": {},
     "output_type": "execute_result"
    },
    {
     "data": {
      "image/png": "[encoded data removed]",
      "text/plain": [
       "<Figure size 864x576 with 3 Axes>"
      ]
     },
     "metadata": {},
     "output_type": "display_data"
    }
   ],
   "source": [
    "fig, ax =plt.subplots(ncols=3)\n",
    "fig.suptitle('Distribution of utterances per dialogue in Train and Evaluation Sets', fontsize=16)\n",
    "fig.tight_layout()\n",
    "ax[0].set_title('Training')\n",
    "ax[0].set_xlim([0, 30])\n",
    "sns.histplot(d['Training'] , ax=ax[0], bins=20, stat = 'count' )\n",
    "\n",
    "ax[1].set_title('Validation')\n",
    "ax[1].set_xlim([0, 30])\n",
    "sns.histplot(d['Validation'] , ax=ax[1], bins=20, stat = 'count')\n",
    "\n",
    "ax[2].set_title('Test')\n",
    "ax[2].set_xlim([0, 30])\n",
    "sns.histplot(d['Test'] , ax=ax[2], bins=20, stat = 'count')\n"
   ]
  },
  {
   "cell_type": "markdown",
   "id": "ab7cdb65",
   "metadata": {},
   "source": [
    "# Distribution of Utterance Length in Train and Evaluation Sets\n",
    "- Length of utterances follows almost similar distribution in train and evaluation datasets\n",
    "- Max seq len can be taken around 35\n"
   ]
  },
  {
   "cell_type": "code",
   "execution_count": 38,
   "id": "f523c469",
   "metadata": {},
   "outputs": [],
   "source": [
    "d = {\"Training\":[],\"Validation\":[],\"Test\":[] }\n",
    "\n",
    "d['Training'] = list(df_train['utterance_len'].values)\n",
    "d['Validation'] = list(df_val['utterance_len'].values)\n",
    "d['Test'] = list(df_test['utterance_len'].values)"
   ]
  },
  {
   "cell_type": "markdown",
   "id": "1234a7b3",
   "metadata": {},
   "source": [
    "Minimum and maximum value of utterance length in train, val and test sets"
   ]
  },
  {
   "cell_type": "code",
   "execution_count": 39,
   "id": "98175417",
   "metadata": {},
   "outputs": [
    {
     "data": {
      "text/plain": [
       "(1, 69, 1, 37, 1, 45)"
      ]
     },
     "execution_count": 39,
     "metadata": {},
     "output_type": "execute_result"
    }
   ],
   "source": [
    " min(d['Training']), max(d['Training']),  min(d['Validation']), max(d['Validation']),  min(d['Test']), max(d['Test'])"
   ]
  },
  {
   "cell_type": "code",
   "execution_count": 40,
   "id": "01930057",
   "metadata": {},
   "outputs": [
    {
     "name": "stdout",
     "output_type": "stream",
     "text": [
      "Train Set: Utterance length statistics : Min: 1, Max: 69 Avg: 7.79\n",
      "Train Set: Utterance length statistics : Min: 1, Max: 37 Avg: 7.7\n",
      "Train Set: Utterance length statistics : Min: 1, Max: 45 Avg: 8.02\n"
     ]
    }
   ],
   "source": [
    "print('Train Set: Utterance length statistics : Min: {}, Max: {} Avg: {}'.format(min(d['Training']), max(d['Training']), np.round(sum(d['Training'])/len(d['Training']), 2)))\n",
    "print('Train Set: Utterance length statistics : Min: {}, Max: {} Avg: {}'.format(min(d['Validation']), max(d['Validation']), np.round(sum(d['Validation'])/len(d['Validation']), 2)))\n",
    "print('Train Set: Utterance length statistics : Min: {}, Max: {} Avg: {}'.format(min(d['Test']), max(d['Test']), np.round(sum(d['Test'])/len(d['Test']), 2)))"
   ]
  },
  {
   "cell_type": "code",
   "execution_count": 35,
   "id": "1a7f4532",
   "metadata": {},
   "outputs": [
    {
     "name": "stdout",
     "output_type": "stream",
     "text": [
      "value = 0, value_Count = 0\n",
      "value = 1, value_Count = 373\n",
      "value = 2, value_Count = 212\n",
      "value = 3, value_Count = 223\n",
      "value = 4, value_Count = 214\n",
      "value = 5, value_Count = 212\n",
      "value = 6, value_Count = 162\n",
      "value = 7, value_Count = 157\n",
      "value = 8, value_Count = 152\n",
      "value = 9, value_Count = 124\n",
      "value = 10, value_Count = 136\n",
      "value = 11, value_Count = 118\n",
      "value = 12, value_Count = 76\n",
      "value = 13, value_Count = 77\n",
      "value = 14, value_Count = 77\n",
      "value = 15, value_Count = 65\n",
      "value = 16, value_Count = 72\n",
      "value = 17, value_Count = 42\n",
      "value = 18, value_Count = 59\n",
      "value = 19, value_Count = 43\n",
      "value = 20, value_Count = 23\n",
      "value = 21, value_Count = 29\n",
      "value = 22, value_Count = 31\n",
      "value = 23, value_Count = 23\n",
      "value = 24, value_Count = 18\n",
      "value = 25, value_Count = 7\n",
      "value = 26, value_Count = 9\n",
      "value = 27, value_Count = 9\n",
      "value = 28, value_Count = 6\n",
      "value = 29, value_Count = 4\n",
      "value = 30, value_Count = 2\n",
      "value = 31, value_Count = 1\n",
      "value = 32, value_Count = 1\n",
      "value = 33, value_Count = 1\n",
      "value = 34, value_Count = 3\n",
      "value = 35, value_Count = 1\n",
      "value = 36, value_Count = 0\n",
      "value = 37, value_Count = 0\n",
      "value = 38, value_Count = 0\n",
      "value = 39, value_Count = 0\n",
      "value = 40, value_Count = 0\n",
      "value = 41, value_Count = 1\n",
      "value = 42, value_Count = 0\n",
      "value = 43, value_Count = 0\n",
      "value = 44, value_Count = 0\n",
      "value = 45, value_Count = 1\n",
      "value = 46, value_Count = 0\n",
      "value = 47, value_Count = 0\n",
      "value = 48, value_Count = 0\n",
      "value = 49, value_Count = 0\n",
      "value = 50, value_Count = 0\n",
      "value = 51, value_Count = 0\n",
      "value = 52, value_Count = 0\n",
      "value = 53, value_Count = 0\n",
      "value = 54, value_Count = 0\n",
      "value = 55, value_Count = 0\n",
      "value = 56, value_Count = 0\n",
      "value = 57, value_Count = 0\n",
      "value = 58, value_Count = 0\n",
      "value = 59, value_Count = 0\n",
      "value = 60, value_Count = 0\n",
      "value = 61, value_Count = 0\n",
      "value = 62, value_Count = 0\n",
      "value = 63, value_Count = 0\n",
      "value = 64, value_Count = 0\n",
      "value = 65, value_Count = 0\n",
      "value = 66, value_Count = 0\n",
      "value = 67, value_Count = 0\n",
      "value = 68, value_Count = 0\n",
      "value = 69, value_Count = 0\n"
     ]
    }
   ],
   "source": [
    "for i in range(70):\n",
    "    print('value = {}, value_Count = {}'.format(i,d['Test'].count(i) ))"
   ]
  },
  {
   "cell_type": "code",
   "execution_count": 36,
   "id": "5f4963ff",
   "metadata": {},
   "outputs": [
    {
     "data": {
      "text/plain": [
       "<AxesSubplot:title={'center':'Test'}, ylabel='Count'>"
      ]
     },
     "execution_count": 36,
     "metadata": {},
     "output_type": "execute_result"
    },
    {
     "data": {
      "image/png": "[encoded data removed]",
      "text/plain": [
       "<Figure size 864x576 with 3 Axes>"
      ]
     },
     "metadata": {},
     "output_type": "display_data"
    }
   ],
   "source": [
    "fig, ax =plt.subplots(ncols=3)\n",
    "fig.suptitle('Distribution of utterances length in Train and Evaluation Sets', fontsize=16)\n",
    "fig.tight_layout()\n",
    "ax[0].set_title('Training')\n",
    "ax[0].set_xlim([0, 70])\n",
    "sns.histplot(d['Training'] , ax=ax[0], stat = 'count' )\n",
    "\n",
    "ax[1].set_title('Validation')\n",
    "ax[1].set_xlim([0, 70])\n",
    "sns.histplot(d['Validation'] , ax=ax[1], stat = 'count')\n",
    "\n",
    "ax[2].set_title('Test')\n",
    "ax[2].set_xlim([0, 70])\n",
    "sns.histplot(d['Test'] , ax=ax[2],  stat = 'count')\n"
   ]
  },
  {
   "cell_type": "markdown",
   "id": "f9ae1580",
   "metadata": {},
   "source": [
    "# Data Preprocessing\n",
    "\n",
    "Machine Learning models don’t work with text and require data preprocessing to convert text to numbers. As we are using BERT for modelling the word level inputs, we need to do following preprocessing\n",
    "\n",
    "- Add special tokens to separate sentences and do classification\n",
    "- Pass sequences of constant length (introduce padding)\n",
    "- Create array of 0s (pad token) and 1s (real token) called attention mask\n",
    "\n",
    "We will use the pretrained bert model and tokenizers from the Transformers Library "
   ]
  },
  {
   "cell_type": "code",
   "execution_count": 7,
   "id": "594fa547",
   "metadata": {},
   "outputs": [],
   "source": [
    "def transform_data(df, max_seq_len):\n",
    "    \"\"\"\n",
    "    returns the padded input ids and attention masks according to the DistilBert tokenizer\n",
    "    \"\"\"\n",
    "    tokenizer = DistilBertTokenizer.from_pretrained('distilbert-base-uncased')\n",
    "    \n",
    "    def tokenize_fct(turn):\n",
    "        return tokenizer.encode(turn, truncation = True, add_special_tokens=True, max_length=max_seq_len)\n",
    "    \n",
    "    tokenized = df[['utterance']].applymap(tokenize_fct)\n",
    "    padded = torch.tensor([[ids + [0]*(max_seq_len-len(ids)) for ids in idx] for idx in tokenized.values])\n",
    "    attention_mask = torch.where(padded != 0, torch.ones_like(padded), torch.zeros_like(padded))\n",
    "    return padded, attention_mask, tokenized"
   ]
  },
  {
   "cell_type": "code",
   "execution_count": 8,
   "id": "d88220da",
   "metadata": {},
   "outputs": [],
   "source": [
    "def get_labels(df, emo_dict):\n",
    "    \"\"\"\n",
    "    returns the labels according to the emotion dictionary\n",
    "    \"\"\"\n",
    "    return torch.tensor([emo_dict[label] for label in df['label'].values])"
   ]
  },
  {
   "cell_type": "code",
   "execution_count": 9,
   "id": "1a8d9fe6",
   "metadata": {},
   "outputs": [
    {
     "data": {
      "text/plain": [
       "{'anger',\n",
       " 'disgust',\n",
       " 'fear',\n",
       " 'joy',\n",
       " 'neutral',\n",
       " 'non-neutral',\n",
       " 'sadness',\n",
       " 'surprise'}"
      ]
     },
     "execution_count": 9,
     "metadata": {},
     "output_type": "execute_result"
    }
   ],
   "source": [
    "set(df_train['label'].values)"
   ]
  },
  {
   "cell_type": "code",
   "execution_count": 10,
   "id": "9ec79015",
   "metadata": {},
   "outputs": [
    {
     "data": {
      "text/plain": [
       "[6, 4, 5, 0]"
      ]
     },
     "execution_count": 10,
     "metadata": {},
     "output_type": "execute_result"
    }
   ],
   "source": [
    "emo_dict = {'neutral': 0, 'surprise': 1, 'fear':2, 'non-neutral':3, 'joy':4,'sadness':5, 'anger':6, 'disgust':7}\n",
    "labels = torch.tensor([emo_dict[label] for label in df_train['label'].values])\n",
    "\n",
    "focus_dict = ['anger', 'joy', 'sadness', 'neutral']\n",
    "\n",
    "focus_emo = [emo_dict[w] for w in focus_dict]\n",
    "focus_emo"
   ]
  },
  {
   "cell_type": "code",
   "execution_count": 11,
   "id": "ca79edae",
   "metadata": {},
   "outputs": [],
   "source": [
    "def dataloader(df, max_seq_len, batch_size, emo_dict, labels = True, eval = False):\n",
    "    \"\"\"\n",
    "    Transforms the .csv data stored in `path` according to DistilBert features and returns it as a DataLoader \n",
    "    \"\"\"\n",
    "    #df = pd.read_csv(path, delimiter='\\t', index_col='id')\n",
    "    df = df.iloc[0:500, :]\n",
    "    print(df.shape)\n",
    "    padded, attention_mask, tokenizer = transform_data(df, max_seq_len)\n",
    "    \n",
    "    if labels:\n",
    "        dataset = TensorDataset(padded, attention_mask, get_labels(df, emo_dict))\n",
    "    \n",
    "    else:\n",
    "        dataset = TensorDataset(padded, attention_mask)\n",
    "      \n",
    "    train_sampler = None\n",
    "\n",
    "    return DataLoader(dataset, batch_size=batch_size, shuffle= not(eval) , \n",
    "                      sampler=train_sampler, num_workers=0),  df.shape[0]"
   ]
  },
  {
   "cell_type": "markdown",
   "id": "a594b5bc",
   "metadata": {},
   "source": [
    "# Custom Data Loader\n",
    "For this task, we need custom data loader as each dialogue will have different utterlance length and we need to learn the contextual relationships between conversations belonigng to one dialogue. Conversation between 2 dialogues are independent of each other. \n",
    "\n"
   ]
  },
  {
   "cell_type": "code",
   "execution_count": 12,
   "id": "b6e65009",
   "metadata": {},
   "outputs": [],
   "source": [
    "class CustomDataset(Dataset):\n",
    "    def __init__(self, df, max_seq_len):\n",
    "        self.data = df\n",
    "        self.max_seq_len = max_seq_len\n",
    "        \n",
    "    def __len__(self):\n",
    "        return len( self.data['dialogue_id'].unique())\n",
    "    \n",
    "    def __getitem__(self, idx):\n",
    "        \n",
    "        assert idx  in list(range (len( self.data['dialogue_id'].unique())))\n",
    "        df = self.data.loc[self.data.dialogue_id ==idx]\n",
    "        padded, attention_mask, tokenizer = transform_data(df, self.max_seq_len)\n",
    "        labels = get_labels(df, emo_dict)\n",
    "        \n",
    "        padded = padded.squeeze(dim=1)\n",
    "        attention_mask = attention_mask.squeeze(dim=1)\n",
    "        padded = padded.cuda(device)\n",
    "        attention_mask = attention_mask.cuda(device)\n",
    "        labels = labels.cuda(device)\n",
    "        #print(labels.shape)\n",
    "        \n",
    "        return padded, attention_mask, labels"
   ]
  },
  {
   "cell_type": "code",
   "execution_count": 13,
   "id": "2c09494e",
   "metadata": {},
   "outputs": [],
   "source": [
    "# export\n",
    "class sentence_embeds_model(torch.nn.Module):\n",
    "    \"\"\"\n",
    "    instantiates the pretrained DistilBert model and the linear layer\n",
    "    \"\"\"\n",
    "    \n",
    "    def __init__(self, dropout = 0.1):\n",
    "        super(sentence_embeds_model, self).__init__()\n",
    "        \n",
    "        self.transformer = DistilBertModel.from_pretrained('distilbert-base-uncased', dropout=dropout, \n",
    "                                                           output_hidden_states=True)\n",
    "        \n",
    "        self.embedding_size = 2 * self.transformer.config.hidden_size\n",
    "      \n",
    "        \n",
    "    def layerwise_lr(self, lr, decay):\n",
    "        \"\"\"\n",
    "        returns grouped model parameters with layer-wise decaying learning rate\n",
    "        \"\"\"\n",
    "        bert = self.transformer\n",
    "        num_layers = bert.config.n_layers\n",
    "        opt_parameters = [{'params': bert.embeddings.parameters(), 'lr': lr*decay**num_layers}]\n",
    "        opt_parameters += [{'params': bert.transformer.layer[l].parameters(), 'lr': lr*decay**(num_layers-l+1)} \n",
    "                            for l in range(num_layers)]\n",
    "        return opt_parameters\n",
    "               \n",
    "    def forward(self, input_ids = None, attention_mask = None, input_embeds = None):\n",
    "        \"\"\"\n",
    "        returns the sentence embeddings\n",
    "        \"\"\"\n",
    "    \n",
    "        if input_ids is not None:\n",
    "            input_ids = input_ids.flatten(end_dim = 1)\n",
    "     \n",
    "        if attention_mask is not None:\n",
    "            attention_mask = attention_mask.flatten(end_dim = 1)\n",
    "        \n",
    "        utterance_count = input_ids.shape[0]\n",
    "        output = self.transformer(input_ids = input_ids, \n",
    "                                  attention_mask = attention_mask, inputs_embeds = input_embeds)\n",
    "      \n",
    "        cls = output[0][:,0]\n",
    "        hidden_mean = torch.mean(output[1][-1],1)\n",
    "        sentence_embeds = torch.cat([cls, hidden_mean], dim = -1)\n",
    "       \n",
    "        return sentence_embeds.view(-1,utterance_count, self.embedding_size)"
   ]
  },
  {
   "cell_type": "code",
   "execution_count": 14,
   "id": "30b491f4",
   "metadata": {},
   "outputs": [],
   "source": [
    "# export \n",
    "class context_classifier_model(torch.nn.Module):\n",
    "    \"\"\"\n",
    "    instantiates the DisitlBertForSequenceClassification model, the position embeddings of the utterances, \n",
    "    and the binary loss function\n",
    "    \"\"\"\n",
    "    \n",
    "    def __init__(self, embedding_size, projection_size, n_layers, emo_dict, dropout = 0.1):\n",
    "        super(context_classifier_model, self).__init__()\n",
    "        \n",
    "        self.projection_size = projection_size\n",
    "        self.projection = torch.nn.Linear(embedding_size, projection_size)         \n",
    "        self.position_embeds = torch.nn.Embedding(25, projection_size)\n",
    "        self.norm = torch.nn.LayerNorm(projection_size)\n",
    "        self.drop = torch.nn.Dropout(dropout)\n",
    "        self.focus_dict = ['anger', 'joy', 'sadness', 'neutral']\n",
    "    \n",
    "        context_config = DistilBertConfig(dropout=dropout, \n",
    "                                dim=projection_size,\n",
    "                                hidden_dim=4*projection_size,\n",
    "                                n_layers=n_layers,\n",
    "                                n_heads = 1,\n",
    "                                num_labels=8)\n",
    "\n",
    "        self.context_transformer = DistilBertForSequenceClassification(context_config)\n",
    "        self.others_label = emo_dict['neutral']\n",
    "        self.bin_loss_fct = torch.nn.BCEWithLogitsLoss()\n",
    "        self.weight_rate = 0.75\n",
    "        self.loss_weight = self.loss_weight(df_train, self.weight_rate )\n",
    "        self.loss_weight = self.loss_weight.cuda(device)\n",
    "        print( self.loss_weight)\n",
    "        \n",
    "    def bin_loss(self, logits, labels):\n",
    "        \"\"\"\n",
    "        defined the additional binary loss for the `others` label\n",
    "        \"\"\"\n",
    "        bin_labels = torch.where(labels == self.others_label, torch.ones_like(labels), \n",
    "                                 torch.zeros_like(labels)).float()\n",
    "        bin_logits = logits[:, self.others_label]    \n",
    "        return self.bin_loss_fct(bin_logits, bin_labels)\n",
    "\n",
    "    def loss_weight(self, df, rate=1.0):\n",
    "        \"\"\" Loss weights \"\"\"\n",
    "        emo_count = {}\n",
    "        for emo in emo_dict.keys():\n",
    "            emo_count[emo] =df['label'].value_counts()[emo]\n",
    "        min_emo = float(min([ emo_count[w] for w in self.focus_dict]))\n",
    "        weight = [math.pow(min_emo / emo_count[k], rate) if k in self.focus_dict else 0 for k,v in emo_count.items()]\n",
    "        weight = np.array(weight)\n",
    "        weight /= np.sum(weight)\n",
    "        weight = torch.from_numpy(weight).float()\n",
    "        return weight\n",
    "    \n",
    "    def comput_class_loss(self, log_prob, target, weights):\n",
    "        \"\"\" Weighted loss function \"\"\"\n",
    "        #loss = F.nll_loss(log_prob, target.view(target.size(1)), weight=weights, reduction='sum')\n",
    "        loss = F.nll_loss(log_prob, target, weight=weights, reduction='sum')\n",
    "        loss /= target.size(0)\n",
    "\n",
    "        return loss\n",
    "\n",
    "\n",
    "    def forward(self, sentence_embeds, labels = None):\n",
    "        \"\"\"\n",
    "        returns the logits and the corresponding loss if `labels` are given\n",
    "        \"\"\"\n",
    "        \n",
    "        position_ids = torch.arange(sentence_embeds.shape[1], dtype=torch.long, device=sentence_embeds.device)\n",
    "        position_ids = position_ids.expand(sentence_embeds.shape[:2]) \n",
    "        position_embeds = self.position_embeds(position_ids)\n",
    "        sentence_embeds = self.projection(sentence_embeds) + position_embeds \n",
    "        sentence_embeds = self.drop(self.norm(sentence_embeds))\n",
    "        if labels is None:\n",
    "            return self.context_transformer(inputs_embeds = sentence_embeds.transpose(0, 1), labels = labels)[0]\n",
    "        \n",
    "        else:\n",
    "            output =  self.context_transformer(inputs_embeds = sentence_embeds.transpose(0, 1), labels = labels)\n",
    "        loss = output[0]\n",
    "        logits = output[1]\n",
    "        log_prob = F.log_softmax(logits, dim=1)\n",
    "        loss2 = self.comput_class_loss(log_prob, labels, self.loss_weight)\n",
    "        #return loss + self.bin_loss(logits, labels), logits\n",
    "        return loss2, logits"
   ]
  },
  {
   "cell_type": "code",
   "execution_count": 15,
   "id": "6fe6ab5c",
   "metadata": {},
   "outputs": [],
   "source": [
    "# export\n",
    "def metrics(loss, logits, labels):\n",
    "    \n",
    "    labelslist = labels.cpu().tolist()\n",
    "    index = [i for i, j in enumerate(labelslist) if j in focus_emo ]\n",
    "    tensor_index = torch.tensor(index, dtype=torch.int64)\n",
    "    tensor_index = tensor_index.cuda(device)\n",
    " \n",
    "    labels = labels.gather(0, tensor_index)\n",
    "    preds = torch.argmax(logits, dim=1)\n",
    "    preds = preds.gather(0, tensor_index)\n",
    "    cm = torch.zeros((8,8), device = loss.device)\n",
    "  \n",
    "    acc = (labels == preds).float().mean()\n",
    "    for label, pred in zip(labels.view(-1), preds.view(-1)):\n",
    "        cm[label.long(), pred.long()] += 1\n",
    "        \n",
    "    acc = (labels == preds).float().mean()\n",
    "    for label, pred in zip(labels.view(-1), preds.view(-1)):\n",
    "        cm[label.long(), pred.long()] += 1\n",
    "        \n",
    "    tp = cm.diagonal()[0:].sum()\n",
    "    fp = cm[:, 0:].sum() - tp\n",
    "    fn = cm[0:, :].sum() - tp \n",
    "    return {'val_loss': loss, 'val_acc': acc, 'tp': tp, 'fp': fp, 'fn': fn}\n",
    "\n",
    "def f1_score(tp, fp, fn):\n",
    "    prec_rec_f1 = {}\n",
    "    prec_rec_f1['precision'] = tp / (tp + fp)\n",
    "    prec_rec_f1['recall'] = tp / (tp + fn)\n",
    "    prec_rec_f1['f1_score'] = 2 * (prec_rec_f1['precision'] * prec_rec_f1['recall']) / (prec_rec_f1['precision'] + prec_rec_f1['recall'])\n",
    "    return prec_rec_f1\n",
    "\n",
    "def metrics2(loss, logits, labels):\n",
    "    TP = np.zeros([len(emo_dict.keys())], dtype=np.int64) # recall\n",
    "    TP_FN = np.zeros([len(emo_dict.keys())], dtype=np.int64) # gold\n",
    "    log_prob = F.log_softmax(logits, dim=1)\n",
    "    emo_predidx = torch.argmax(log_prob, dim=1)\n",
    "    emo_true = labels\n",
    "    for lb in range(emo_true.size(0)):\n",
    "        idx = emo_true[lb].item()\n",
    "        TP_FN[idx] += 1\n",
    "        if idx in focus_emo:\n",
    "            if emo_true[lb] == emo_predidx[lb]:\n",
    "                TP[idx] += 1\n",
    "    f_TP = TP[focus_emo]\n",
    "    f_TP_FN = TP_FN[focus_emo]\n",
    "    return {'tp': f_TP, 'tp_fn': f_TP_FN}\n",
    "\n",
    "def f1_score2(tp, tp_fn):\n",
    "      \n",
    "    prec_rec_f1 = {}\n",
    "    Recall = [np.round(tp/tp_fn*100, 2) if tp_fn>0 else 0 for tp,tp_fn in zip(tp,tp_fn)]\n",
    "    prec_rec_f1['wRecall'] = sum([r * w / sum(tp_fn) for r,w in zip(Recall, tp_fn)])\n",
    "    prec_rec_f1['uRecall'] = sum(Recall) / len(Recall)\n",
    "\n",
    "    return prec_rec_f1"
   ]
  },
  {
   "cell_type": "markdown",
   "id": "0dbc316e",
   "metadata": {},
   "source": [
    "# Metrices\n",
    "\n",
    "We use the metrics, i.e. microaveraged precision, recall, and f1-score (while ignoring the others class), for the evaluation of our model according to the [SemEval-2019 Task 3 challenge](https://www.aclweb.org/anthology/S19-2005/). "
   ]
  },
  {
   "cell_type": "code",
   "execution_count": 19,
   "id": "6221cd92",
   "metadata": {},
   "outputs": [],
   "source": [
    "# export\n",
    "class EmotionModel(pl.LightningModule):\n",
    "    \"\"\"\n",
    "    PyTorch Lightning module for the Contextual Emotion Detection in Text Challenge\n",
    "    \"\"\"\n",
    "\n",
    "    def __init__(self, emo_dict):\n",
    "        \"\"\"\n",
    "        pass in parsed HyperOptArgumentParser to the model\n",
    "        \"\"\"\n",
    "        super(EmotionModel, self).__init__()\n",
    "\n",
    "        self.model = 'Semeval'\n",
    "        self.emo_dict = emo_dict\n",
    "        self.max_seq_len = args.max_seq_len\n",
    "        self.dropout = args.dropout\n",
    "        self.projection_size = args.projection_size\n",
    "        self.n_layers = args.n_layers\n",
    "        self.sentence_embeds_model = sentence_embeds_model(dropout = self.dropout)\n",
    "        self.context_classifier_model = context_classifier_model(self.sentence_embeds_model.embedding_size,\n",
    "                                                                 self.projection_size, \n",
    "                                                                 self.n_layers, \n",
    "                                                                 self.emo_dict, \n",
    "                                                                 dropout = self.dropout)\n",
    "        self.sentence_embeds_model.cuda(device)\n",
    "        self.context_classifier_model.cuda(device)\n",
    "       \n",
    "\n",
    "    def forward(self, input_ids, attention_mask, labels = None):\n",
    "        \"\"\"\n",
    "        no special modification required for lightning, define as you normally would\n",
    "        \"\"\"\n",
    "      \n",
    "        sentence_embeds = self.sentence_embeds_model(input_ids = input_ids, \n",
    "                                                             attention_mask = attention_mask)\n",
    "    \n",
    "        return self.context_classifier_model(sentence_embeds = sentence_embeds, labels = labels)\n",
    "    \n",
    "    def training_step(self, batch, batch_idx):\n",
    "        \"\"\"\n",
    "        Lightning calls this inside the training loop\n",
    "        \"\"\"       \n",
    "        input_ids, attention_mask, labels = batch\n",
    "        labels = labels.view(labels.size(1))\n",
    "               \n",
    "        loss, _ = self.forward(input_ids = input_ids, attention_mask = attention_mask, labels = labels)\n",
    "       \n",
    "        tensorboard_logs = {'train_loss': loss}\n",
    "        self.log('train_loss', loss, prog_bar=True)\n",
    "        return {'loss': loss, 'log': tensorboard_logs}\n",
    "\n",
    "    \n",
    "    def validation_step(self, batch, batch_idx):\n",
    "        \"\"\"\n",
    "        Lightning calls this inside the validation loop\n",
    "        \"\"\"\n",
    "\n",
    "        input_ids, attention_mask, labels = batch\n",
    "        labels = labels.view(labels.size(1))\n",
    "\n",
    "        loss, logits = self.forward(input_ids = input_ids, attention_mask = attention_mask, labels = labels)\n",
    "        scores_dict1 = metrics(loss, logits, labels)\n",
    "        scores_dict2 = metrics2(loss, logits, labels)\n",
    "\n",
    "        return scores_dict1, scores_dict2\n",
    "\n",
    "    def validation_epoch_end(self, outputs):\n",
    "        \"\"\"\n",
    "        called at the end of validation to aggregate outputs\n",
    "        :param outputs: list of individual outputs of each validation step\n",
    "        :return:\n",
    "        \"\"\"\n",
    "        \n",
    "        tqdm_dict = {}\n",
    "        tqdm_dict2 = {}\n",
    "        tqdm_dict2['tp'] = [0 for w in focus_dict]\n",
    "        tqdm_dict2['tp_fn'] = [0 for w in focus_dict ]\n",
    "\n",
    "        for metric_name in outputs[0][0].keys():\n",
    "            metric_total = 0\n",
    "\n",
    "            for output in outputs:\n",
    "                metric_value = output[0][metric_name]\n",
    "                metric_total += metric_value\n",
    "            if metric_name in ['tp', 'fp', 'fn']:\n",
    "                tqdm_dict[metric_name] = metric_total\n",
    "            else:\n",
    "                tqdm_dict[metric_name] = metric_total / len(outputs)\n",
    "        \n",
    "        for metric_name in outputs[0][1].keys():\n",
    "            for output in outputs:\n",
    "                metric_value = output[1][metric_name]\n",
    "                tqdm_dict2[metric_name] += metric_value\n",
    "\n",
    "               \n",
    "        prec_rec_f1 = f1_score(tqdm_dict['tp'], tqdm_dict['fp'], tqdm_dict['fn'])\n",
    "        tqdm_dict.update(prec_rec_f1) \n",
    "        \n",
    "        prec_rec_f1 = f1_score2(tqdm_dict2['tp'], tqdm_dict2['tp_fn'])\n",
    "        tqdm_dict2.update(prec_rec_f1) \n",
    "        \n",
    "        self.log('valid_loss', tqdm_dict[\"val_loss\"], prog_bar=False)\n",
    "        self.log('valid_acc', tqdm_dict[\"val_acc\"], prog_bar=False)\n",
    "        #print('\\nError Metric {}'.format(tqdm_dict))\n",
    "        print(*tqdm_dict.items(), sep='\\n')\n",
    "        print(*tqdm_dict2.items(), sep='\\n')\n",
    "        result = {'progress_bar': tqdm_dict, 'log': tqdm_dict, 'val_loss': tqdm_dict[\"val_loss\"]}\n",
    "        \n",
    "        return result\n",
    "        #return\n",
    "    \n",
    "    def test_step(self, batch, batch_idx):\n",
    " \n",
    "        return self.validation_step(batch, batch_idx)\n",
    "\n",
    "    \n",
    "    def test_epoch_end(self, outputs):\n",
    "        return self.validation_epoch_end(outputs)\n",
    "    \n",
    "    def configure_optimizers(self):\n",
    "        \"\"\"\n",
    "        returns the optimizer and scheduler\n",
    "        \"\"\"\n",
    "        params = model.sentence_embeds_model.layerwise_lr(args.lr, args.layerwise_decay)\n",
    "        params += [{'params': model.context_classifier_model.parameters()}]\n",
    "        self.optimizer = torch.optim.Adam(params, lr=args.lr)\n",
    "        self.scheduler = torch.optim.lr_scheduler.CosineAnnealingLR(self.optimizer, T_max=10)\n",
    "        return [self.optimizer], [self.scheduler]\n",
    "    \n",
    "\n",
    "   \n",
    "    def train_dataloader(self):\n",
    "        dataset = CustomDataset(df_train, args.max_seq_len)\n",
    "        train_loader = DataLoader(dataset, batch_size=1, shuffle=True)\n",
    "        return train_loader\n",
    "\n",
    "    \n",
    "\n",
    "    def val_dataloader(self):\n",
    "        #df_val1 = df_val[0:10]\n",
    "        dataset = CustomDataset(df_val, args.max_seq_len)\n",
    "        val_loader = DataLoader(dataset, batch_size=1, shuffle=False)\n",
    "        return val_loader\n",
    "\n",
    "    def test_dataloader(self):\n",
    "        dataset = CustomDataset(df_test, args.max_seq_len)\n",
    "        test_loader = DataLoader(dataset, batch_size=1, shuffle=False)\n",
    "        return test_loader\n",
    "\n"
   ]
  },
  {
   "cell_type": "code",
   "execution_count": 20,
   "id": "90137e2e",
   "metadata": {},
   "outputs": [],
   "source": [
    "# export\n",
    "def get_args():\n",
    "    \"\"\"\n",
    "        returns the Parser args\n",
    "    \"\"\"\n",
    "    root_dir = os.getcwd()  \n",
    "    parser = argparse.ArgumentParser()\n",
    "    parser.add_argument('--batch_size', type=int, default=1)\n",
    "    parser.add_argument('--projection_size', type=int, default=100)\n",
    "    parser.add_argument('--n_layers', type=int, default=1)\n",
    "    parser.add_argument('--dropout', type=float, default=0.1)\n",
    "    parser.add_argument('--lr', type=float, default=2e-5)\n",
    "    parser.add_argument('--bert_lr', type=float, default=1e-5)\n",
    "    parser.add_argument('--layerwise_decay', default=0.95, type=float,  \n",
    "                    help='layerwise decay factor for the learning rate of the pretrained DistilBert')\n",
    "    parser.add_argument('--train_file', default=os.path.join(root_dir, 'data/clean_train.txt'), type=str)\n",
    "    parser.add_argument('--val_file', default=os.path.join(root_dir, 'data/clean_val.txt'), type=str)\n",
    "    parser.add_argument('--test_file', default=os.path.join(root_dir, 'data/clean_test.txt'), type=str)\n",
    "    parser.add_argument('--weight_decay', type=float, default=1e-5)\n",
    "    parser.add_argument('--max_grad_norm', type=float, default=1.0)\n",
    "    parser.add_argument('--epochs', type=int, default=3,\n",
    "                        help='number of total epochs to run')\n",
    "    parser.add_argument('--max_seq_len', type=int, default=10)\n",
    "   \n",
    "    parser.add_argument('--alpha', type=float, default=0.95)\n",
    "    parser.add_argument('--seed', type=int, default=123,\n",
    "                       help='seed for initializing training')\n",
    "    parser.add_argument('--device', type=int, default=0)\n",
    "\n",
    "    parser.add_argument('--evaluate', action='store_true')\n",
    "    args = parser.parse_args(args=[])\n",
    "    return args"
   ]
  },
  {
   "cell_type": "code",
   "execution_count": 21,
   "id": "01d2fb8e",
   "metadata": {},
   "outputs": [
    {
     "name": "stderr",
     "output_type": "stream",
     "text": [
      "Global seed set to 42\n"
     ]
    },
    {
     "data": {
      "text/plain": [
       "42"
      ]
     },
     "execution_count": 21,
     "metadata": {},
     "output_type": "execute_result"
    }
   ],
   "source": [
    "args = get_args()\n",
    "seed = args.seed\n",
    "random.seed(seed)\n",
    "np.random.seed(seed)\n",
    "torch.manual_seed(seed)\n",
    "torch.cuda.manual_seed(seed)\n",
    "torch.backends.cudnn.deterministic = True\n",
    "seed_everything(42, workers=True)"
   ]
  },
  {
   "cell_type": "code",
   "execution_count": 22,
   "id": "d6172d95",
   "metadata": {},
   "outputs": [
    {
     "name": "stdout",
     "output_type": "stream",
     "text": [
      "tensor([0.0624, 0.0000, 0.0000, 0.0000, 0.1665, 0.4401, 0.3311, 0.0000],\n",
      "       device='cuda:0')\n"
     ]
    },
    {
     "data": {
      "text/plain": [
       "EmotionModel(\n",
       "  (sentence_embeds_model): sentence_embeds_model(\n",
       "    (transformer): DistilBertModel(\n",
       "      (embeddings): Embeddings(\n",
       "        (word_embeddings): Embedding(30522, 768, padding_idx=0)\n",
       "        (position_embeddings): Embedding(512, 768)\n",
       "        (LayerNorm): LayerNorm((768,), eps=1e-12, elementwise_affine=True)\n",
       "        (dropout): Dropout(p=0.1, inplace=False)\n",
       "      )\n",
       "      (transformer): Transformer(\n",
       "        (layer): ModuleList(\n",
       "          (0): TransformerBlock(\n",
       "            (attention): MultiHeadSelfAttention(\n",
       "              (dropout): Dropout(p=0.1, inplace=False)\n",
       "              (q_lin): Linear(in_features=768, out_features=768, bias=True)\n",
       "              (k_lin): Linear(in_features=768, out_features=768, bias=True)\n",
       "              (v_lin): Linear(in_features=768, out_features=768, bias=True)\n",
       "              (out_lin): Linear(in_features=768, out_features=768, bias=True)\n",
       "            )\n",
       "            (sa_layer_norm): LayerNorm((768,), eps=1e-12, elementwise_affine=True)\n",
       "            (ffn): FFN(\n",
       "              (dropout): Dropout(p=0.1, inplace=False)\n",
       "              (lin1): Linear(in_features=768, out_features=3072, bias=True)\n",
       "              (lin2): Linear(in_features=3072, out_features=768, bias=True)\n",
       "            )\n",
       "            (output_layer_norm): LayerNorm((768,), eps=1e-12, elementwise_affine=True)\n",
       "          )\n",
       "          (1): TransformerBlock(\n",
       "            (attention): MultiHeadSelfAttention(\n",
       "              (dropout): Dropout(p=0.1, inplace=False)\n",
       "              (q_lin): Linear(in_features=768, out_features=768, bias=True)\n",
       "              (k_lin): Linear(in_features=768, out_features=768, bias=True)\n",
       "              (v_lin): Linear(in_features=768, out_features=768, bias=True)\n",
       "              (out_lin): Linear(in_features=768, out_features=768, bias=True)\n",
       "            )\n",
       "            (sa_layer_norm): LayerNorm((768,), eps=1e-12, elementwise_affine=True)\n",
       "            (ffn): FFN(\n",
       "              (dropout): Dropout(p=0.1, inplace=False)\n",
       "              (lin1): Linear(in_features=768, out_features=3072, bias=True)\n",
       "              (lin2): Linear(in_features=3072, out_features=768, bias=True)\n",
       "            )\n",
       "            (output_layer_norm): LayerNorm((768,), eps=1e-12, elementwise_affine=True)\n",
       "          )\n",
       "          (2): TransformerBlock(\n",
       "            (attention): MultiHeadSelfAttention(\n",
       "              (dropout): Dropout(p=0.1, inplace=False)\n",
       "              (q_lin): Linear(in_features=768, out_features=768, bias=True)\n",
       "              (k_lin): Linear(in_features=768, out_features=768, bias=True)\n",
       "              (v_lin): Linear(in_features=768, out_features=768, bias=True)\n",
       "              (out_lin): Linear(in_features=768, out_features=768, bias=True)\n",
       "            )\n",
       "            (sa_layer_norm): LayerNorm((768,), eps=1e-12, elementwise_affine=True)\n",
       "            (ffn): FFN(\n",
       "              (dropout): Dropout(p=0.1, inplace=False)\n",
       "              (lin1): Linear(in_features=768, out_features=3072, bias=True)\n",
       "              (lin2): Linear(in_features=3072, out_features=768, bias=True)\n",
       "            )\n",
       "            (output_layer_norm): LayerNorm((768,), eps=1e-12, elementwise_affine=True)\n",
       "          )\n",
       "          (3): TransformerBlock(\n",
       "            (attention): MultiHeadSelfAttention(\n",
       "              (dropout): Dropout(p=0.1, inplace=False)\n",
       "              (q_lin): Linear(in_features=768, out_features=768, bias=True)\n",
       "              (k_lin): Linear(in_features=768, out_features=768, bias=True)\n",
       "              (v_lin): Linear(in_features=768, out_features=768, bias=True)\n",
       "              (out_lin): Linear(in_features=768, out_features=768, bias=True)\n",
       "            )\n",
       "            (sa_layer_norm): LayerNorm((768,), eps=1e-12, elementwise_affine=True)\n",
       "            (ffn): FFN(\n",
       "              (dropout): Dropout(p=0.1, inplace=False)\n",
       "              (lin1): Linear(in_features=768, out_features=3072, bias=True)\n",
       "              (lin2): Linear(in_features=3072, out_features=768, bias=True)\n",
       "            )\n",
       "            (output_layer_norm): LayerNorm((768,), eps=1e-12, elementwise_affine=True)\n",
       "          )\n",
       "          (4): TransformerBlock(\n",
       "            (attention): MultiHeadSelfAttention(\n",
       "              (dropout): Dropout(p=0.1, inplace=False)\n",
       "              (q_lin): Linear(in_features=768, out_features=768, bias=True)\n",
       "              (k_lin): Linear(in_features=768, out_features=768, bias=True)\n",
       "              (v_lin): Linear(in_features=768, out_features=768, bias=True)\n",
       "              (out_lin): Linear(in_features=768, out_features=768, bias=True)\n",
       "            )\n",
       "            (sa_layer_norm): LayerNorm((768,), eps=1e-12, elementwise_affine=True)\n",
       "            (ffn): FFN(\n",
       "              (dropout): Dropout(p=0.1, inplace=False)\n",
       "              (lin1): Linear(in_features=768, out_features=3072, bias=True)\n",
       "              (lin2): Linear(in_features=3072, out_features=768, bias=True)\n",
       "            )\n",
       "            (output_layer_norm): LayerNorm((768,), eps=1e-12, elementwise_affine=True)\n",
       "          )\n",
       "          (5): TransformerBlock(\n",
       "            (attention): MultiHeadSelfAttention(\n",
       "              (dropout): Dropout(p=0.1, inplace=False)\n",
       "              (q_lin): Linear(in_features=768, out_features=768, bias=True)\n",
       "              (k_lin): Linear(in_features=768, out_features=768, bias=True)\n",
       "              (v_lin): Linear(in_features=768, out_features=768, bias=True)\n",
       "              (out_lin): Linear(in_features=768, out_features=768, bias=True)\n",
       "            )\n",
       "            (sa_layer_norm): LayerNorm((768,), eps=1e-12, elementwise_affine=True)\n",
       "            (ffn): FFN(\n",
       "              (dropout): Dropout(p=0.1, inplace=False)\n",
       "              (lin1): Linear(in_features=768, out_features=3072, bias=True)\n",
       "              (lin2): Linear(in_features=3072, out_features=768, bias=True)\n",
       "            )\n",
       "            (output_layer_norm): LayerNorm((768,), eps=1e-12, elementwise_affine=True)\n",
       "          )\n",
       "        )\n",
       "      )\n",
       "    )\n",
       "  )\n",
       "  (context_classifier_model): context_classifier_model(\n",
       "    (projection): Linear(in_features=1536, out_features=100, bias=True)\n",
       "    (position_embeds): Embedding(25, 100)\n",
       "    (norm): LayerNorm((100,), eps=1e-05, elementwise_affine=True)\n",
       "    (drop): Dropout(p=0.1, inplace=False)\n",
       "    (context_transformer): DistilBertForSequenceClassification(\n",
       "      (distilbert): DistilBertModel(\n",
       "        (embeddings): Embeddings(\n",
       "          (word_embeddings): Embedding(30522, 100, padding_idx=0)\n",
       "          (position_embeddings): Embedding(512, 100)\n",
       "          (LayerNorm): LayerNorm((100,), eps=1e-12, elementwise_affine=True)\n",
       "          (dropout): Dropout(p=0.1, inplace=False)\n",
       "        )\n",
       "        (transformer): Transformer(\n",
       "          (layer): ModuleList(\n",
       "            (0): TransformerBlock(\n",
       "              (attention): MultiHeadSelfAttention(\n",
       "                (dropout): Dropout(p=0.1, inplace=False)\n",
       "                (q_lin): Linear(in_features=100, out_features=100, bias=True)\n",
       "                (k_lin): Linear(in_features=100, out_features=100, bias=True)\n",
       "                (v_lin): Linear(in_features=100, out_features=100, bias=True)\n",
       "                (out_lin): Linear(in_features=100, out_features=100, bias=True)\n",
       "              )\n",
       "              (sa_layer_norm): LayerNorm((100,), eps=1e-12, elementwise_affine=True)\n",
       "              (ffn): FFN(\n",
       "                (dropout): Dropout(p=0.1, inplace=False)\n",
       "                (lin1): Linear(in_features=100, out_features=400, bias=True)\n",
       "                (lin2): Linear(in_features=400, out_features=100, bias=True)\n",
       "              )\n",
       "              (output_layer_norm): LayerNorm((100,), eps=1e-12, elementwise_affine=True)\n",
       "            )\n",
       "          )\n",
       "        )\n",
       "      )\n",
       "      (pre_classifier): Linear(in_features=100, out_features=100, bias=True)\n",
       "      (classifier): Linear(in_features=100, out_features=8, bias=True)\n",
       "      (dropout): Dropout(p=0.2, inplace=False)\n",
       "    )\n",
       "    (bin_loss_fct): BCEWithLogitsLoss()\n",
       "  )\n",
       ")"
      ]
     },
     "execution_count": 22,
     "metadata": {},
     "output_type": "execute_result"
    }
   ],
   "source": [
    "model = EmotionModel(emo_dict)\n",
    "model.cuda(device)"
   ]
  },
  {
   "cell_type": "code",
   "execution_count": 23,
   "id": "fca09a5e",
   "metadata": {},
   "outputs": [
    {
     "name": "stderr",
     "output_type": "stream",
     "text": [
      "GPU available: True, used: True\n",
      "TPU available: False, using: 0 TPU cores\n",
      "LOCAL_RANK: 0 - CUDA_VISIBLE_DEVICES: [0]\n",
      "\n",
      "  | Name                     | Type                     | Params\n",
      "----------------------------------------------------------------------\n",
      "0 | sentence_embeds_model    | sentence_embeds_model    | 66.4 M\n",
      "1 | context_classifier_model | context_classifier_model | 3.4 M \n",
      "----------------------------------------------------------------------\n",
      "69.8 M    Trainable params\n",
      "0         Non-trainable params\n",
      "69.8 M    Total params\n",
      "279.020   Total estimated model params size (MB)\n"
     ]
    },
    {
     "data": {
      "application/vnd.jupyter.widget-view+json": {
       "model_id": "",
       "version_major": 2,
       "version_minor": 0
      },
      "text/plain": [
       "HBox(children=(HTML(value='Validation sanity check'), FloatProgress(value=1.0, bar_style='info', layout=Layout…"
      ]
     },
     "metadata": {},
     "output_type": "display_data"
    },
    {
     "name": "stderr",
     "output_type": "stream",
     "text": [
      "C:\\Users\\neera\\anaconda3\\envs\\NLP3\\lib\\site-packages\\pytorch_lightning\\utilities\\distributed.py:69: UserWarning: The dataloader, val dataloader 0, does not have many workers which may be a bottleneck. Consider increasing the value of the `num_workers` argument` (try 8 which is the number of cpus on this machine) in the `DataLoader` init to improve performance.\n",
      "  warnings.warn(*args, **kwargs)\n",
      "Global seed set to 42\n"
     ]
    },
    {
     "name": "stdout",
     "output_type": "stream",
     "text": [
      "('val_loss', tensor(0.1466, device='cuda:0'))\n",
      "('val_acc', tensor(0.2154, device='cuda:0'))\n",
      "('tp', tensor(8., device='cuda:0'))\n",
      "('fp', tensor(28., device='cuda:0'))\n",
      "('fn', tensor(28., device='cuda:0'))\n",
      "('precision', tensor(0.2222, device='cuda:0'))\n",
      "('recall', tensor(0.2222, device='cuda:0'))\n",
      "('f1_score', tensor(0.2222, device='cuda:0'))\n",
      "('tp', array([0, 0, 0, 4], dtype=int64))\n",
      "('tp_fn', array([ 0,  5,  1, 12], dtype=int64))\n",
      "('wRecall', 22.22)\n",
      "('uRecall', 8.3325)\n"
     ]
    },
    {
     "name": "stderr",
     "output_type": "stream",
     "text": [
      "C:\\Users\\neera\\anaconda3\\envs\\NLP3\\lib\\site-packages\\pytorch_lightning\\utilities\\distributed.py:69: UserWarning: The dataloader, train dataloader, does not have many workers which may be a bottleneck. Consider increasing the value of the `num_workers` argument` (try 8 which is the number of cpus on this machine) in the `DataLoader` init to improve performance.\n",
      "  warnings.warn(*args, **kwargs)\n"
     ]
    },
    {
     "data": {
      "application/vnd.jupyter.widget-view+json": {
       "model_id": "445bcb309b8245c49a93e884c21d8114",
       "version_major": 2,
       "version_minor": 0
      },
      "text/plain": [
       "HBox(children=(HTML(value='Training'), FloatProgress(value=1.0, bar_style='info', layout=Layout(flex='2'), max…"
      ]
     },
     "metadata": {},
     "output_type": "display_data"
    },
    {
     "data": {
      "application/vnd.jupyter.widget-view+json": {
       "model_id": "",
       "version_major": 2,
       "version_minor": 0
      },
      "text/plain": [
       "HBox(children=(HTML(value='Validating'), FloatProgress(value=1.0, bar_style='info', layout=Layout(flex='2'), m…"
      ]
     },
     "metadata": {},
     "output_type": "display_data"
    },
    {
     "name": "stdout",
     "output_type": "stream",
     "text": [
      "('val_loss', tensor(0.1345, device='cuda:0'))\n",
      "('val_acc', tensor(0.7230, device='cuda:0'))\n",
      "('tp', tensor(1064., device='cuda:0'))\n",
      "('fp', tensor(458., device='cuda:0'))\n",
      "('fn', tensor(458., device='cuda:0'))\n",
      "('precision', tensor(0.6991, device='cuda:0'))\n",
      "('recall', tensor(0.6991, device='cuda:0'))\n",
      "('f1_score', tensor(0.6991, device='cuda:0'))\n",
      "('tp', array([  0,  60,   0, 472], dtype=int64))\n",
      "('tp_fn', array([ 85, 123,  62, 491], dtype=int64))\n",
      "('wRecall', 69.90771353482259)\n",
      "('uRecall', 36.2275)\n",
      "\n"
     ]
    }
   ],
   "source": [
    "early_stop_callback = pl.callbacks.EarlyStopping(monitor='val_loss', min_delta=0.00, patience=5, \n",
    "                                        verbose=True, mode='min')\n",
    "    \n",
    "    \n",
    "trainer = pl.Trainer(default_root_dir=os.getcwd(),\n",
    "                    gpus=(1 if torch.cuda.is_available() else 0),\n",
    "                    max_epochs= 1,\n",
    "                    fast_dev_run=False,\n",
    "                    deterministic=True,\n",
    "                    )\n",
    "trainer.fit(model)\n",
    "    "
   ]
  },
  {
   "cell_type": "markdown",
   "id": "92d43494",
   "metadata": {},
   "source": [
    " - Precision, recall, and F1-score will always be same as number of False positives is equal to False negatives.\n",
    " - wRecall is microaveraged F1 Score\n",
    " - uRecall is macroaveraged F1 Score"
   ]
  },
  {
   "cell_type": "code",
   "execution_count": 24,
   "id": "e490f21a",
   "metadata": {},
   "outputs": [
    {
     "name": "stderr",
     "output_type": "stream",
     "text": [
      "LOCAL_RANK: 0 - CUDA_VISIBLE_DEVICES: [0]\n",
      "C:\\Users\\neera\\anaconda3\\envs\\NLP3\\lib\\site-packages\\pytorch_lightning\\utilities\\distributed.py:69: UserWarning: The dataloader, test dataloader 0, does not have many workers which may be a bottleneck. Consider increasing the value of the `num_workers` argument` (try 8 which is the number of cpus on this machine) in the `DataLoader` init to improve performance.\n",
      "  warnings.warn(*args, **kwargs)\n"
     ]
    },
    {
     "data": {
      "application/vnd.jupyter.widget-view+json": {
       "model_id": "e0854eaadec14ac3b71b4adc7da7b02c",
       "version_major": 2,
       "version_minor": 0
      },
      "text/plain": [
       "HBox(children=(HTML(value='Testing'), FloatProgress(value=1.0, bar_style='info', layout=Layout(flex='2'), max=…"
      ]
     },
     "metadata": {},
     "output_type": "display_data"
    },
    {
     "name": "stdout",
     "output_type": "stream",
     "text": [
      "('val_loss', tensor(0.1135, device='cuda:0'))\n",
      "('val_acc', tensor(0.7803, device='cuda:0'))\n",
      "('tp', tensor(2818., device='cuda:0'))\n",
      "('fp', tensor(856., device='cuda:0'))\n",
      "('fn', tensor(856., device='cuda:0'))\n",
      "('precision', tensor(0.7670, device='cuda:0'))\n",
      "('recall', tensor(0.7670, device='cuda:0'))\n",
      "('f1_score', tensor(0.7670, device='cuda:0'))\n",
      "('tp', array([   0,  165,    0, 1244], dtype=int64))\n",
      "('tp_fn', array([ 161,  304,   85, 1287], dtype=int64))\n",
      "('wRecall', 76.70252585737616)\n",
      "('uRecall', 37.735)\n",
      "\n",
      "--------------------------------------------------------------------------------\n",
      "DATALOADER:0 TEST RESULTS\n",
      "{'valid_acc': 0.7802542448043823, 'valid_loss': 0.11345319449901581}\n",
      "--------------------------------------------------------------------------------\n"
     ]
    },
    {
     "data": {
      "text/plain": [
       "[{'valid_loss': 0.11345319449901581, 'valid_acc': 0.7802542448043823}]"
      ]
     },
     "execution_count": 24,
     "metadata": {},
     "output_type": "execute_result"
    }
   ],
   "source": [
    "trainer.test()"
   ]
  },
  {
   "cell_type": "code",
   "execution_count": null,
   "id": "2494cf5a",
   "metadata": {},
   "outputs": [],
   "source": []
  },
  {
   "cell_type": "code",
   "execution_count": null,
   "id": "2b351c91",
   "metadata": {},
   "outputs": [],
   "source": []
  },
  {
   "cell_type": "code",
   "execution_count": null,
   "id": "5bb70e0b",
   "metadata": {},
   "outputs": [],
   "source": []
  },
  {
   "cell_type": "code",
   "execution_count": null,
   "id": "75c60b5f",
   "metadata": {},
   "outputs": [],
   "source": []
  }
 ],
 "metadata": {
  "kernelspec": {
   "display_name": "Python 3",
   "language": "python",
   "name": "python3"
  },
  "language_info": {
   "codemirror_mode": {
    "name": "ipython",
    "version": 3
   },
   "file_extension": ".py",
   "mimetype": "text/x-python",
   "name": "python",
   "nbconvert_exporter": "python",
   "pygments_lexer": "ipython3",
   "version": "3.8.5"
  }
 },
 "nbformat": 4,
 "nbformat_minor": 5
}
