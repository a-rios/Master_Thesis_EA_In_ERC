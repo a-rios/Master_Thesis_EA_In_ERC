{
 "cells": [
  {
   "cell_type": "markdown",
   "id": "336ab203",
   "metadata": {},
   "source": [
    "# Problem Statement\n",
    "\n",
    "\n",
    "\n",
    "\n",
    "\n",
    "ERC is a task that aims at predicting emotion of each utterance in a conversation. The following is an excerpt of a conversation with each utterance tagged with corresponding emotion and sentiment label.\n",
    "\n",
    "![alt text](example.jpg \"Title\")\n"
   ]
  },
  {
   "cell_type": "markdown",
   "id": "b35a5e6e",
   "metadata": {},
   "source": [
    "# Hierarchical Transformer Network for Utterance-Level Emotion Recognition\n",
    "This is the Pytorch implementation Utterance-level Emotion Recognition [paper](https://arxiv.org/ftp/arxiv/papers/2002/2002.07551.pdf)"
   ]
  },
  {
   "cell_type": "markdown",
   "id": "c7e765fd",
   "metadata": {},
   "source": [
    "Overview\n",
    "Though predicting the emotion of a single utterance or sentence, i.e. emotion detection, is a well discussed subject in natural language understanding literature, EmoContext has several novel challenges. In this paper, we address four challenges in utterance-level emotion recognition in dialogue systems:\n",
    "\n",
    "- Emotion depend on the context of previous utterances in the dialogue\n",
    "\n",
    "- long-range contextual information is hard to be effectively captured;\n",
    "\n",
    "- Datasets are quite small.\n",
    "\n",
    "- the class distribution of training data is significantly different from that of the test data. Consequently, a model trained on the training data might not perform well on the test data.\n",
    "\n",
    "- We propose a hierarchical transformer framework with a lower-level transformer to model the word-level inputs and an upper-level transformer to capture the contexts of utterance-level embeddings."
   ]
  },
  {
   "cell_type": "markdown",
   "id": "af6ce2e0",
   "metadata": {},
   "source": [
    "# Dataset\n",
    "Dataset includes the training data set consisting of 30160 dialogues, and two evaluation data sets, Test1 and Test2, containing\n",
    "2755 and 5509 dialogues respectively. The Training dataset is a .txt file containing 5 columns :\n",
    "\n",
    " - ID - Contains a unique number to identify each training sample\n",
    " - Turn 1 - Contains the first turn in the three turn conversation, written by User 1\n",
    " - Turn 2 - Contains the second turn, which is a reply to the first turn in conversation and is written by User 2\n",
    " - Turn 3 - Contains the third turn, which is a reply to the second turn in the conversation, which is written by User 1\n",
    " - Label - Contains the human judged label of Emotion of Turn 3 based on the conversation for the given training sample. It is always one of the four values - 'happy', 'sad, 'angry' and 'others'\n",
    " \n",
    "Training data consists of about 5k samples each from 'angry', 'sad', 'happy' class, and 15k samples from 'others' class, whereas, both Dev and Test sets have a real life distribution, which is about 4% each of 'angry', 'sad', 'happy' class and the rest is 'others' class. \n",
    "    \n",
    "Dataset stattistics:\n",
    "\n",
    "\n",
    "| Statistics | Train | Dev | Test | \n",
    "| :-| :- | :- | :- | \n",
    "| # of Dialogues | 30160 | 2755 |5509 | \n",
    "| # of Utterances | 90480 | 8265 |16527 | \n",
    "| Min number of Utterances per dialogue| 3 | 3 |3 | \n",
    "| Max number of Utterances per dialogue| 3 | 3 |3 | \n",
    "| Average number of Utterances per dialogue| 3 | 3 |3 | \n",
    "| Min Utterance length | 1 | 1 |1 | \n",
    "| Max Utterance length | 145 | 72 |113 | \n",
    "| Average Utterance length | 5.45 | 5.22 |5.21 | \n",
    "\n",
    "\n",
    "    \n",
    "    "
   ]
  },
  {
   "cell_type": "code",
   "execution_count": 1,
   "id": "ef567f05",
   "metadata": {},
   "outputs": [],
   "source": [
    "import torch\n",
    "import os\n",
    "import random\n",
    "import pandas as pd\n",
    "import functools\n",
    "import time\n",
    "import math\n",
    "import argparse\n",
    "import json\n",
    "\n",
    "\n",
    "from torch.utils.data import TensorDataset, DataLoader\n",
    "from torch.utils.data.distributed import DistributedSampler\n",
    "import torch.nn.functional as F\n",
    "from torch.utils.data import Dataset, DataLoader\n",
    "\n",
    "from ipywidgets import interact\n",
    "import numpy as np\n",
    "import seaborn as sns\n",
    "from pylab import rcParams\n",
    "import matplotlib.pyplot as plt\n",
    "from matplotlib import rc\n",
    "\n",
    "from transformers import DistilBertModel, DistilBertForSequenceClassification, DistilBertConfig, DistilBertTokenizer\n",
    "\n",
    "from collections import defaultdict\n",
    "\n",
    "import pytorch_lightning as pl\n",
    "from pytorch_lightning import seed_everything\n",
    "from sklearn.preprocessing import OneHotEncoder"
   ]
  },
  {
   "cell_type": "code",
   "execution_count": 2,
   "id": "6a1d81f2",
   "metadata": {},
   "outputs": [],
   "source": [
    "def get_args():\n",
    "    \"\"\"\n",
    "        returns the Parser args\n",
    "    \"\"\"\n",
    "    root_dir = os.getcwd()  \n",
    "    parser = argparse.ArgumentParser()\n",
    "    parser.add_argument('--batch_size', type=int, default=32)\n",
    "    parser.add_argument('--projection_size', type=int, default=100)\n",
    "    parser.add_argument('--n_layers', type=int, default=1)\n",
    "    parser.add_argument('--dropout', type=float, default=0.1)\n",
    "    parser.add_argument('--lr', type=float, default=2e-5)\n",
    "    parser.add_argument('--bert_lr', type=float, default=1e-5)\n",
    "    parser.add_argument('--layerwise_decay', default=0.95, type=float,  \n",
    "                    help='layerwise decay factor for the learning rate of the pretrained DistilBert')\n",
    "    \n",
    "    #parser.add_argument('--train_file', default=os.path.join(root_dir, 'data/clean_train.txt'), type=str)\n",
    "    #parser.add_argument('--val_file', default=os.path.join(root_dir, 'data/clean_val.txt'), type=str)\n",
    "    #parser.add_argument('--test_file', default=os.path.join(root_dir, 'data/clean_test.txt'), type=str)\n",
    "    parser.add_argument('--weight_decay', type=float, default=1e-5)\n",
    "    parser.add_argument('--max_grad_norm', type=float, default=1.0)\n",
    "    parser.add_argument('--epochs', type=int, default=2,\n",
    "                        help='number of total epochs to run')\n",
    "    parser.add_argument('--max_seq_len', type=int, default=35   )\n",
    "   \n",
    "    parser.add_argument('--alpha', type=float, default=0.95)\n",
    "    parser.add_argument('--seed', type=int, default=123,\n",
    "                       help='seed for initializing training')\n",
    "    parser.add_argument('--device', type=int, default=0)\n",
    "\n",
    "    parser.add_argument('--evaluate', action='store_true')\n",
    "    parser.add_argument('--gpu', type=str, default='0',\t\t# Spcify the GPU for training\n",
    "                       help='gpu: default 0')\n",
    "    parser.add_argument('--emoset', type=str, default = 'emorynlp',\n",
    "                        help = 'Emotion Training Set Name')\n",
    "    parser.add_argument('--speaker_embedding',  action=\"store_true\",\n",
    "                        help = 'Enable Speaker Embedding')\n",
    "    args = parser.parse_args(args=['--speaker_embedding', '--emoset', 'semeval'])\n",
    "    return args"
   ]
  },
  {
   "cell_type": "code",
   "execution_count": 3,
   "id": "7fe483ac",
   "metadata": {},
   "outputs": [
    {
     "name": "stdout",
     "output_type": "stream",
     "text": [
      "Namespace(alpha=0.95, batch_size=32, bert_lr=1e-05, device=0, dropout=0.1, emoset='semeval', epochs=2, evaluate=False, gpu='0', layerwise_decay=0.95, lr=2e-05, max_grad_norm=1.0, max_seq_len=35, n_layers=1, projection_size=100, seed=123, speaker_embedding=True, weight_decay=1e-05) \n",
      "\n"
     ]
    }
   ],
   "source": [
    "args = get_args()\n",
    "print(args, '\\n')\n",
    "args.emoset = args.emoset.lower()\n",
    "assert args.emoset  in ['emorynlp', 'emotionpush', 'friends','semeval']\n",
    "if args.emoset == 'semeval':\n",
    "    args.speaker_embedding = False \n",
    "\n",
    "if not args.emoset == 'semeval':\n",
    "    args.batch_size = 1"
   ]
  },
  {
   "cell_type": "markdown",
   "id": "f24d4117",
   "metadata": {},
   "source": [
    "### Set the seed for deterministic behavior"
   ]
  },
  {
   "cell_type": "code",
   "execution_count": 4,
   "id": "122adfbc",
   "metadata": {},
   "outputs": [
    {
     "name": "stderr",
     "output_type": "stream",
     "text": [
      "Global seed set to 42\n"
     ]
    },
    {
     "data": {
      "text/plain": [
       "42"
      ]
     },
     "execution_count": 4,
     "metadata": {},
     "output_type": "execute_result"
    }
   ],
   "source": [
    "seed = args.seed\n",
    "random.seed(seed)\n",
    "np.random.seed(seed)\n",
    "torch.manual_seed(seed)\n",
    "torch.cuda.manual_seed(seed)\n",
    "torch.backends.cudnn.deterministic = True\n",
    "seed_everything(42, workers=True)"
   ]
  },
  {
   "cell_type": "markdown",
   "id": "f5d1a8b4",
   "metadata": {},
   "source": [
    "### Set cuda device"
   ]
  },
  {
   "cell_type": "code",
   "execution_count": 5,
   "id": "b5f38c01",
   "metadata": {},
   "outputs": [
    {
     "name": "stdout",
     "output_type": "stream",
     "text": [
      "Args.device = cuda:0\n"
     ]
    }
   ],
   "source": [
    "device = torch.device(\"cuda:{}\".format(int(args.gpu)) if torch.cuda.is_available() else \"cpu\")\n",
    "args.device = device\n",
    "print('Args.device = {}'.format(args.device))"
   ]
  },
  {
   "cell_type": "code",
   "execution_count": 6,
   "id": "b94558d0",
   "metadata": {},
   "outputs": [],
   "source": [
    "sns.set(style='whitegrid', palette='muted', font_scale=1.2)\n",
    "HAPPY_COLORS_PALETTE = [\"#01BEFE\", \"#FFDD00\", \"#FF7D00\", \"#FF006D\", \"#ADFF02\", \"#8F00FF\"]\n",
    "sns.set_palette(sns.color_palette(HAPPY_COLORS_PALETTE))\n",
    "rcParams['figure.figsize'] = 12, 8"
   ]
  },
  {
   "cell_type": "markdown",
   "id": "03dd8b4f",
   "metadata": {},
   "source": [
    "# Read Dataset CSV Files"
   ]
  },
  {
   "cell_type": "code",
   "execution_count": 7,
   "id": "1dcfcf31",
   "metadata": {},
   "outputs": [],
   "source": [
    "'''\n",
    "  Create Pandas Dataframe from EmoryNLP Dataset Json Files\n",
    "  Parameters\n",
    "    ----------\n",
    "    Data : Json File \n",
    "        Json File containing Train/Val/Test Data\n",
    "    Column_list : Python List\n",
    "        Column list for the created dataframe    \n",
    "    Returns\n",
    "    -------\n",
    "   df: Pandas Dataframe\n",
    "'''\n",
    "\n",
    "def create_df_emorynlp(data, column_list):\n",
    "    df = pd.DataFrame(columns = column_list)\n",
    "    dialogue_idx = 0\n",
    "    episode_idx = 0\n",
    "    for episode in data['episodes']:\n",
    "        scenes = episode['scenes']\n",
    "        for i in range(len(scenes)):\n",
    "            for j in range(len(scenes[i]['utterances'])):\n",
    "                df2 = pd.DataFrame([[dialogue_idx, scenes[i]['utterances'][j]['transcript'] , scenes[i]['utterances'][j]['speakers'][0], len(scenes[i]['utterances'][j]['transcript'].split()), scenes[i]['utterances'][j]['emotion'].lower() ]], columns = column_list)\n",
    "                df = df.append(df2, ignore_index=True)\n",
    "            dialogue_idx += 1\n",
    "        episode_idx = episode_idx+1\n",
    "          \n",
    "    return df\n",
    "\n",
    "'''\n",
    "  Create Pandas Dataframe from Friends/EmotionPush Dataset Json Files\n",
    "   Parameters\n",
    "    ----------\n",
    "    Data : Json File \n",
    "        Json File containing Train/Val/Test Data\n",
    "    Column_list : Python List\n",
    "        Column list for the created dataframe    \n",
    "    Returns\n",
    "    -------\n",
    "   df: Pandas Dataframe\n",
    "'''\n",
    "def create_df_friends(data, column_list):\n",
    "    df = pd.DataFrame(columns = column_list)\n",
    "    dialogue_idx = 0\n",
    "    for dialog in data:\n",
    "        for utter in dialog:\n",
    "            df2 = pd.DataFrame([[dialogue_idx, utter['utterance'], utter['speaker'], len(utter['utterance'].split()), utter['emotion'].lower() ]], columns = column_list)\n",
    "            df = df.append(df2, ignore_index=True)\n",
    "        dialogue_idx += 1\n",
    "         \n",
    "    return df\n",
    "\n",
    "def create_df(data, emoset):\n",
    "    column_list = list(('dialogue_id', 'utterance', 'speaker','utterance_len', 'label'))\n",
    "    if emoset == 'emorynlp':\n",
    "        df=  create_df_emorynlp(data, column_list)\n",
    "    else:\n",
    "        df = create_df_friends(data, column_list)\n",
    "    return df\n",
    "\n",
    "'''\n",
    "  Create Pandas Dataframe for Train, Validation and Test Data from Dataset Json Files\n",
    "  \n",
    "'''\n",
    "def load_df(args):\n",
    "    \n",
    "    if args.emoset == 'emorynlp':\n",
    "        print('Creating Training/Val/Test Dataframesfor EmoryNLP Dataset')\n",
    "        train_path = '../data/EmoryNLP/json/emotion-detection-trn.json'\n",
    "        val_path = '../data/EmoryNLP/json/emotion-detection-dev.json'\n",
    "        test_path = '../data/EmoryNLP/json/emotion-detection-tst.json'\n",
    "    elif  args.emoset == 'emotionpush':\n",
    "        print('Creating Training/Val/Test Dataframesfor EmotionPush Dataset')\n",
    "        train_path = '../data/Emotionpush/emotionpush.train.json'\n",
    "        val_path =   '../data/Emotionpush/emotionpush.dev.json'\n",
    "        test_path =  '../data/Emotionpush/emotionpush.test.json'\n",
    "    elif  args.emoset == 'friends': \n",
    "        print('Creating Training/Val/Test Dataframesfor Friends Dataset')\n",
    "        train_path = '../data/Friends/friends.train.json'\n",
    "        val_path = '../data/Friends/friends.dev.json'\n",
    "        test_path = '../data/Friends/friends.test.json'\n",
    "    else:\n",
    "        print('Creating Training/Val/Test Dataframesfor Semeval Dataset')\n",
    "        train_path = '../data/clean_train.txt'\n",
    "        val_path = '../data/clean_val.txt'\n",
    "        test_path = '../data/clean_test.txt'\n",
    "\n",
    "    if not args.emoset == 'semeval':\n",
    "        with open(train_path, encoding='utf-8') as data_file:\n",
    "            train_json = json.loads(data_file.read())\n",
    "        \n",
    "        with open(val_path, encoding='utf-8') as data_file:\n",
    "            val_json = json.loads(data_file.read())\n",
    "        \n",
    "        with open(test_path, encoding='utf-8') as data_file:\n",
    "            test_json = json.loads(data_file.read())\n",
    "        \n",
    "        df_train = create_df(train_json, args.emoset)\n",
    "        df_val = create_df(val_json,  args.emoset)       \n",
    "        df_test = create_df(test_json,  args.emoset) \n",
    "    else:\n",
    "        df_train = pd.read_csv(train_path, delimiter='\\t', index_col='id')\n",
    "        df_val =  pd.read_csv(val_path, delimiter='\\t', index_col='id')    \n",
    "        df_test = pd.read_csv(test_path, delimiter='\\t', index_col='id')\n",
    "                \n",
    "    return (df_train, df_val, df_test)"
   ]
  },
  {
   "cell_type": "code",
   "execution_count": 8,
   "id": "bf084e62",
   "metadata": {},
   "outputs": [
    {
     "name": "stdout",
     "output_type": "stream",
     "text": [
      "Creating Training/Val/Test Dataframesfor Semeval Dataset\n"
     ]
    }
   ],
   "source": [
    "(df_train, df_val, df_test)  = load_df(args)   "
   ]
  },
  {
   "cell_type": "code",
   "execution_count": 9,
   "id": "fb649039",
   "metadata": {},
   "outputs": [
    {
     "data": {
      "text/html": [
       "<div>\n",
       "<style scoped>\n",
       "    .dataframe tbody tr th:only-of-type {\n",
       "        vertical-align: middle;\n",
       "    }\n",
       "\n",
       "    .dataframe tbody tr th {\n",
       "        vertical-align: top;\n",
       "    }\n",
       "\n",
       "    .dataframe thead th {\n",
       "        text-align: right;\n",
       "    }\n",
       "</style>\n",
       "<table border=\"1\" class=\"dataframe\">\n",
       "  <thead>\n",
       "    <tr style=\"text-align: right;\">\n",
       "      <th></th>\n",
       "      <th>turn1</th>\n",
       "      <th>turn2</th>\n",
       "      <th>turn3</th>\n",
       "      <th>label</th>\n",
       "    </tr>\n",
       "    <tr>\n",
       "      <th>id</th>\n",
       "      <th></th>\n",
       "      <th></th>\n",
       "      <th></th>\n",
       "      <th></th>\n",
       "    </tr>\n",
       "  </thead>\n",
       "  <tbody>\n",
       "    <tr>\n",
       "      <th>0</th>\n",
       "      <td>do not worry i am girl</td>\n",
       "      <td>hmm how do i know if you are</td>\n",
       "      <td>what ' s ur name ?</td>\n",
       "      <td>others</td>\n",
       "    </tr>\n",
       "    <tr>\n",
       "      <th>1</th>\n",
       "      <td>when did i ?</td>\n",
       "      <td>saw many times i think shame</td>\n",
       "      <td>no . i never saw you</td>\n",
       "      <td>angry</td>\n",
       "    </tr>\n",
       "    <tr>\n",
       "      <th>2</th>\n",
       "      <td>by</td>\n",
       "      <td>by google chrome</td>\n",
       "      <td>where you live</td>\n",
       "      <td>others</td>\n",
       "    </tr>\n",
       "    <tr>\n",
       "      <th>3</th>\n",
       "      <td>u r ridiculous</td>\n",
       "      <td>i might be ridiculous but i am telling the tru...</td>\n",
       "      <td>u little disgusting whore</td>\n",
       "      <td>angry</td>\n",
       "    </tr>\n",
       "    <tr>\n",
       "      <th>4</th>\n",
       "      <td>just for time pass</td>\n",
       "      <td>wt do u do 4 a living then</td>\n",
       "      <td>maybe</td>\n",
       "      <td>others</td>\n",
       "    </tr>\n",
       "    <tr>\n",
       "      <th>...</th>\n",
       "      <td>...</td>\n",
       "      <td>...</td>\n",
       "      <td>...</td>\n",
       "      <td>...</td>\n",
       "    </tr>\n",
       "    <tr>\n",
       "      <th>30155</th>\n",
       "      <td>i do not work</td>\n",
       "      <td>i could take your shift</td>\n",
       "      <td>i am a student</td>\n",
       "      <td>others</td>\n",
       "    </tr>\n",
       "    <tr>\n",
       "      <th>30156</th>\n",
       "      <td>i am not getting you repeated loudly crying face</td>\n",
       "      <td>why are you crying confused</td>\n",
       "      <td>because you are not making any sense</td>\n",
       "      <td>sad</td>\n",
       "    </tr>\n",
       "    <tr>\n",
       "      <th>30157</th>\n",
       "      <td>haha</td>\n",
       "      <td>no , seriously . what is up with that o - o</td>\n",
       "      <td>had your breakfast ?</td>\n",
       "      <td>others</td>\n",
       "    </tr>\n",
       "    <tr>\n",
       "      <th>30158</th>\n",
       "      <td>do you sing ?</td>\n",
       "      <td>yea a lil</td>\n",
       "      <td>nice</td>\n",
       "      <td>others</td>\n",
       "    </tr>\n",
       "    <tr>\n",
       "      <th>30159</th>\n",
       "      <td>me to</td>\n",
       "      <td>people be driving me crazy</td>\n",
       "      <td>come on sleep with me</td>\n",
       "      <td>others</td>\n",
       "    </tr>\n",
       "  </tbody>\n",
       "</table>\n",
       "<p>30160 rows × 4 columns</p>\n",
       "</div>"
      ],
      "text/plain": [
       "                                                  turn1  \\\n",
       "id                                                        \n",
       "0                                do not worry i am girl   \n",
       "1                                          when did i ?   \n",
       "2                                                    by   \n",
       "3                                        u r ridiculous   \n",
       "4                                    just for time pass   \n",
       "...                                                 ...   \n",
       "30155                                     i do not work   \n",
       "30156  i am not getting you repeated loudly crying face   \n",
       "30157                                              haha   \n",
       "30158                                     do you sing ?   \n",
       "30159                                             me to   \n",
       "\n",
       "                                                   turn2  \\\n",
       "id                                                         \n",
       "0                           hmm how do i know if you are   \n",
       "1                           saw many times i think shame   \n",
       "2                                       by google chrome   \n",
       "3      i might be ridiculous but i am telling the tru...   \n",
       "4                             wt do u do 4 a living then   \n",
       "...                                                  ...   \n",
       "30155                            i could take your shift   \n",
       "30156                        why are you crying confused   \n",
       "30157        no , seriously . what is up with that o - o   \n",
       "30158                                          yea a lil   \n",
       "30159                         people be driving me crazy   \n",
       "\n",
       "                                      turn3   label  \n",
       "id                                                   \n",
       "0                        what ' s ur name ?  others  \n",
       "1                      no . i never saw you   angry  \n",
       "2                            where you live  others  \n",
       "3                 u little disgusting whore   angry  \n",
       "4                                     maybe  others  \n",
       "...                                     ...     ...  \n",
       "30155                        i am a student  others  \n",
       "30156  because you are not making any sense     sad  \n",
       "30157                  had your breakfast ?  others  \n",
       "30158                                  nice  others  \n",
       "30159                 come on sleep with me  others  \n",
       "\n",
       "[30160 rows x 4 columns]"
      ]
     },
     "execution_count": 9,
     "metadata": {},
     "output_type": "execute_result"
    }
   ],
   "source": [
    "df_train"
   ]
  },
  {
   "cell_type": "markdown",
   "id": "9213a2bc",
   "metadata": {},
   "source": [
    "#  Number of Dialogues in Training and Evaluation Sets"
   ]
  },
  {
   "cell_type": "code",
   "execution_count": 10,
   "id": "80d064c5",
   "metadata": {},
   "outputs": [
    {
     "name": "stdout",
     "output_type": "stream",
     "text": [
      "Number of dialogues in Train/Val/Test = 30160/2755/5509\n"
     ]
    }
   ],
   "source": [
    "if not args.emoset == 'semeval':\n",
    "    len(df_train['dialogue_id'].unique()), len(df_val['dialogue_id'].unique()), len(df_test['dialogue_id'].unique())\n",
    "else:\n",
    "    print('Number of dialogues in Train/Val/Test = {}/{}/{}'.format(df_train.shape[0], df_val.shape[0], df_test.shape[0]))"
   ]
  },
  {
   "cell_type": "markdown",
   "id": "ac959a52",
   "metadata": {},
   "source": [
    "#  Number of utterances in Training and Evaluation Sets"
   ]
  },
  {
   "cell_type": "code",
   "execution_count": 11,
   "id": "d1b83ff5",
   "metadata": {},
   "outputs": [
    {
     "data": {
      "text/plain": [
       "(30160, 2755, 5509)"
      ]
     },
     "execution_count": 11,
     "metadata": {},
     "output_type": "execute_result"
    }
   ],
   "source": [
    "df_train.shape[0], df_val.shape[0], df_test.shape[0]"
   ]
  },
  {
   "cell_type": "code",
   "execution_count": 12,
   "id": "38a6e420",
   "metadata": {
    "scrolled": true
   },
   "outputs": [
    {
     "name": "stdout",
     "output_type": "stream",
     "text": [
      "<class 'pandas.core.frame.DataFrame'>\n",
      "Int64Index: 30160 entries, 0 to 30159\n",
      "Data columns (total 4 columns):\n",
      " #   Column  Non-Null Count  Dtype \n",
      "---  ------  --------------  ----- \n",
      " 0   turn1   30160 non-null  object\n",
      " 1   turn2   30160 non-null  object\n",
      " 2   turn3   30160 non-null  object\n",
      " 3   label   30160 non-null  object\n",
      "dtypes: object(4)\n",
      "memory usage: 1.2+ MB\n"
     ]
    }
   ],
   "source": [
    "df_train.info()"
   ]
  },
  {
   "cell_type": "code",
   "execution_count": 13,
   "id": "b02005d3",
   "metadata": {
    "scrolled": true
   },
   "outputs": [
    {
     "data": {
      "text/plain": [
       "(others    14948\n",
       " angry      5506\n",
       " sad        5463\n",
       " happy      4243\n",
       " Name: label, dtype: int64,\n",
       " others    2338\n",
       " angry      150\n",
       " happy      142\n",
       " sad        125\n",
       " Name: label, dtype: int64,\n",
       " others    4677\n",
       " angry      298\n",
       " happy      284\n",
       " sad        250\n",
       " Name: label, dtype: int64)"
      ]
     },
     "execution_count": 13,
     "metadata": {},
     "output_type": "execute_result"
    }
   ],
   "source": [
    "df_train['label'].value_counts(), df_val['label'].value_counts(), df_test['label'].value_counts()"
   ]
  },
  {
   "cell_type": "markdown",
   "id": "d0c44b82",
   "metadata": {},
   "source": [
    "#  Comparison of class distribution in Training vs Evaluation data sets\n",
    "\n",
    "| Emotion | Happy | Sad | Angry | others | # |\n",
    "| :-: | :-: | :-: | :-: | :-: | :-: |\n",
    "| Train | 4243 | 5463 |5506 | 14948| 30160|\n",
    "| Dev | 142 | 125 |150 | 2338| 2755|\n",
    "| Test | 284 | 250 |298 | 4677| 5509|"
   ]
  },
  {
   "cell_type": "code",
   "execution_count": 14,
   "id": "bd2f37e0",
   "metadata": {},
   "outputs": [],
   "source": [
    "data = [df_train['label'], df_val['label'], df_test['label']]\n",
    "columns=list(('Training', 'Validation', 'Test'))\n",
    "df_labels = pd.concat(data, axis=1, keys=columns)"
   ]
  },
  {
   "cell_type": "code",
   "execution_count": 15,
   "id": "6b244aa4",
   "metadata": {},
   "outputs": [
    {
     "data": {
      "text/plain": [
       "{'angry', 'happy', 'others', 'sad'}"
      ]
     },
     "execution_count": 15,
     "metadata": {},
     "output_type": "execute_result"
    }
   ],
   "source": [
    "set(df_train.label)"
   ]
  },
  {
   "cell_type": "code",
   "execution_count": 43,
   "id": "daed3141",
   "metadata": {},
   "outputs": [
    {
     "data": {
      "text/plain": [
       "[Text(0, 0, 'happy'),\n",
       " Text(1, 0, 'sad'),\n",
       " Text(2, 0, 'angry'),\n",
       " Text(3, 0, 'others')]"
      ]
     },
     "execution_count": 43,
     "metadata": {},
     "output_type": "execute_result"
    },
    {
     "data": {
      "image/png": "[encoded data removed]",
      "text/plain": [
       "<Figure size 864x576 with 3 Axes>"
      ]
     },
     "metadata": {},
     "output_type": "display_data"
    }
   ],
   "source": [
    "fig, ax =plt.subplots(1,3)\n",
    "fig.suptitle('Comparison of class distribution in Training vs Evaluation data sets', fontsize=16)\n",
    "fig.tight_layout()\n",
    "emotion_list = ['happy', 'sad', 'angry', 'others']\n",
    "chart = sns.countplot(x=\"Training\",   data=df_labels, order = emotion_list, ax=ax[0])\n",
    "chart.set_xticklabels(chart.get_xticklabels(), rotation=45, horizontalalignment='right')\n",
    "chart = sns.countplot(x=\"Validation\", data=df_labels, order = emotion_list, ax=ax[1])\n",
    "chart.set_xticklabels(chart.get_xticklabels(), rotation=45, horizontalalignment='right')\n",
    "chart = sns.countplot(x=\"Test\",       data=df_labels, order = emotion_list, ax=ax[2])\n",
    "chart.set_xticklabels(chart.get_xticklabels(), rotation=45, horizontalalignment='right')"
   ]
  },
  {
   "cell_type": "markdown",
   "id": "c64e1957",
   "metadata": {},
   "source": [
    "# Scale of class imbalance is different in Training and Evaluation data sets\n",
    "| Emotion | Happy | Sad | Angry | others |\n",
    "| :-: | :-: | :-: | :-: | :-: |\n",
    "| Train | 14% | 18% |18% | 50%|\n",
    "| Dev | 5% | 4.5% |5.5% | 85%|\n",
    "| Test | 5% | 4.5% |5.5% | 85%|\n",
    "\n",
    "Training data consists of about 5k samples each from 'angry', 'sad', 'happy' class, and 15k samples from 'others' class, whereas, both Dev and Test sets have a real life distribution, which is about 4% each of 'angry', 'sad', 'happy' class and the rest is 'others' class."
   ]
  },
  {
   "cell_type": "code",
   "execution_count": 17,
   "id": "7fbaff25",
   "metadata": {},
   "outputs": [],
   "source": [
    "train = pd.Series(['Training'] , ['name'])\n",
    "train = train.append(df_labels['Training'].value_counts().div(df_labels['Training'].value_counts().sum()))\n",
    "val = pd.Series(['Validation'] , ['name'])\n",
    "val = val.append(df_labels['Validation'].value_counts().div(df_labels['Validation'].value_counts().sum()))\n",
    "test = pd.Series(['Test'] , ['name'])\n",
    "test = test.append(df_labels['Test'].value_counts().div(df_labels['Test'].value_counts().sum()))\n",
    "\n",
    "df_stacked = pd.DataFrame(columns = emotion_list)\n",
    "\n",
    "df_stacked = df_stacked.append(train,ignore_index=True)\n",
    "df_stacked = df_stacked.append(val,ignore_index=True)\n",
    "df_stacked = df_stacked.append(test,ignore_index=True)"
   ]
  },
  {
   "cell_type": "code",
   "execution_count": 18,
   "id": "8eec58d1",
   "metadata": {},
   "outputs": [
    {
     "data": {
      "text/plain": [
       "<matplotlib.legend.Legend at 0x1e45186db50>"
      ]
     },
     "execution_count": 18,
     "metadata": {},
     "output_type": "execute_result"
    },
    {
     "data": {
      "image/png": "[encoded data removed]",
      "text/plain": [
       "<Figure size 864x576 with 1 Axes>"
      ]
     },
     "metadata": {},
     "output_type": "display_data"
    }
   ],
   "source": [
    "# plot a Stacked Bar Chart using matplotlib\n",
    "df_stacked.plot(\n",
    "    x = 'name',\n",
    "    kind = 'bar',\n",
    "    stacked = True,\n",
    "    title = 'Stacked Bar Graph',\n",
    "    mark_right = False, \n",
    "    colormap='gist_rainbow'\n",
    "   ).legend(bbox_to_anchor=(1, 1))"
   ]
  },
  {
   "cell_type": "markdown",
   "id": "f52c6b05",
   "metadata": {},
   "source": [
    "# Distribution of number of utterances per dialogue in Train and Evaluation Sets\n",
    "- Number of utterances per dialogure is fixed at 3 for Training, Validation and Test set \n"
   ]
  },
  {
   "cell_type": "markdown",
   "id": "ab7cdb65",
   "metadata": {},
   "source": [
    "# Distribution of Utterance Length in Train and Evaluation Sets\n",
    "- Length of utterances follows almost similar distribution in train and evaluation datasets\n",
    "- 99.9 percentile for the Training/Validation/Test data is 28/25/28 respectively\n",
    "We take 30 as the max sequence length to cover most of the utterance length\n"
   ]
  },
  {
   "cell_type": "code",
   "execution_count": 48,
   "id": "ac51b0dd",
   "metadata": {},
   "outputs": [],
   "source": [
    "d = {\"Training\":[],\"Validation\":[],\"Test\":[] };\n",
    "for col in ['turn1', 'turn2', 'turn3']:\n",
    "    for tokens in df_train[col]:\n",
    "        d['Training'].append(len(tokens.split()))\n",
    "    for tokens in df_val[col]:\n",
    "        d['Validation'].append(len(tokens.split()))\n",
    "    for tokens in df_test[col]:\n",
    "        d['Test'].append(len(tokens.split()))"
   ]
  },
  {
   "cell_type": "markdown",
   "id": "1234a7b3",
   "metadata": {},
   "source": [
    "Minimum and maximum value of utterance length in train, val and test sets"
   ]
  },
  {
   "cell_type": "code",
   "execution_count": 49,
   "id": "adf3bfdc",
   "metadata": {},
   "outputs": [
    {
     "name": "stdout",
     "output_type": "stream",
     "text": [
      "Train Set: Utterance length statistics : Min: 1, Max: 145 Avg: 5.45\n",
      "Train Set: Utterance length statistics : Min: 1, Max: 72 Avg: 5.22\n",
      "Train Set: Utterance length statistics : Min: 1, Max: 113 Avg: 5.21\n"
     ]
    }
   ],
   "source": [
    "print('Train Set: Utterance length statistics : Min: {}, Max: {} Avg: {}'.format(min(d['Training']), max(d['Training']), np.round(sum(d['Training'])/len(d['Training']), 2)))\n",
    "print('Train Set: Utterance length statistics : Min: {}, Max: {} Avg: {}'.format(min(d['Validation']), max(d['Validation']), np.round(sum(d['Validation'])/len(d['Validation']), 2)))\n",
    "print('Train Set: Utterance length statistics : Min: {}, Max: {} Avg: {}'.format(min(d['Test']), max(d['Test']), np.round(sum(d['Test'])/len(d['Test']), 2)))"
   ]
  },
  {
   "cell_type": "code",
   "execution_count": 50,
   "id": "0e3dbfd5",
   "metadata": {},
   "outputs": [
    {
     "name": "stdout",
     "output_type": "stream",
     "text": [
      "99.9 percentile for Training Data 28.0\n",
      "99.9 percentile for Validation Data 25.0\n",
      "99.9 percentile for Test Data 28.422000000005937\n"
     ]
    }
   ],
   "source": [
    "print('99.9 percentile for Training Data {}'.format(np.percentile(np.asarray(d['Training']), 99.9)))\n",
    "print('99.9 percentile for Validation Data {}'.format(np.percentile(np.asarray(d['Validation']), 99.9)))\n",
    "print('99.9 percentile for Test Data {}'.format(np.percentile(np.asarray(d['Test']), 99.9)))"
   ]
  },
  {
   "cell_type": "code",
   "execution_count": 51,
   "id": "1a7f4532",
   "metadata": {},
   "outputs": [
    {
     "name": "stdout",
     "output_type": "stream",
     "text": [
      "value = 0, value_Count = 0\n",
      "value = 1, value_Count = 1956\n",
      "value = 2, value_Count = 1550\n",
      "value = 3, value_Count = 2550\n",
      "value = 4, value_Count = 2510\n",
      "value = 5, value_Count = 2123\n",
      "value = 6, value_Count = 1595\n",
      "value = 7, value_Count = 1047\n",
      "value = 8, value_Count = 799\n",
      "value = 9, value_Count = 575\n",
      "value = 10, value_Count = 420\n",
      "value = 11, value_Count = 328\n",
      "value = 12, value_Count = 249\n",
      "value = 13, value_Count = 190\n",
      "value = 14, value_Count = 172\n",
      "value = 15, value_Count = 131\n",
      "value = 16, value_Count = 106\n",
      "value = 17, value_Count = 65\n",
      "value = 18, value_Count = 40\n",
      "value = 19, value_Count = 31\n",
      "value = 20, value_Count = 21\n",
      "value = 21, value_Count = 16\n",
      "value = 22, value_Count = 9\n",
      "value = 23, value_Count = 7\n",
      "value = 24, value_Count = 9\n",
      "value = 25, value_Count = 2\n",
      "value = 26, value_Count = 5\n",
      "value = 27, value_Count = 4\n",
      "value = 28, value_Count = 0\n",
      "value = 29, value_Count = 0\n",
      "value = 30, value_Count = 1\n",
      "value = 31, value_Count = 3\n",
      "value = 32, value_Count = 0\n",
      "value = 33, value_Count = 3\n",
      "value = 34, value_Count = 0\n",
      "value = 35, value_Count = 1\n",
      "value = 36, value_Count = 1\n",
      "value = 37, value_Count = 0\n",
      "value = 38, value_Count = 0\n",
      "value = 39, value_Count = 0\n",
      "value = 40, value_Count = 1\n",
      "value = 41, value_Count = 1\n",
      "value = 42, value_Count = 0\n",
      "value = 43, value_Count = 0\n",
      "value = 44, value_Count = 0\n",
      "value = 45, value_Count = 0\n",
      "value = 46, value_Count = 0\n",
      "value = 47, value_Count = 0\n",
      "value = 48, value_Count = 0\n",
      "value = 49, value_Count = 0\n"
     ]
    }
   ],
   "source": [
    "for i in range(50):\n",
    "    print('value = {}, value_Count = {}'.format(i,d['Test'].count(i) ))"
   ]
  },
  {
   "cell_type": "code",
   "execution_count": 57,
   "id": "e6d2ee62",
   "metadata": {},
   "outputs": [
    {
     "data": {
      "text/plain": [
       "[Text(0.5, 46.5, 'Utterance_length'),\n",
       " Text(548.6588235294118, 0.5, 'Probability')]"
      ]
     },
     "execution_count": 57,
     "metadata": {},
     "output_type": "execute_result"
    },
    {
     "data": {
      "image/png": "[encoded data removed]",
      "text/plain": [
       "<Figure size 864x576 with 3 Axes>"
      ]
     },
     "metadata": {},
     "output_type": "display_data"
    }
   ],
   "source": [
    "fig, ax =plt.subplots(1,3)\n",
    "fig.suptitle('Distribution of utterances length in Train and Evaluation Sets', fontsize=16)\n",
    "fig.tight_layout()\n",
    "ax[0].set_title('Training')\n",
    "ax[0].set_xlim([0, 25])\n",
    "ax[0].set(xlabel='Utterance_length', ylabel='Probability')\n",
    "ax[0].hist(d['Training'], bins = 150, density = True)\n",
    "\n",
    "ax[1].set_title('Validation')\n",
    "ax[1].set_xlim([0, 25])\n",
    "ax[1].hist(d['Validation'], bins = 73, density = True)\n",
    "ax[1].set(xlabel='Utterance_length', ylabel='Probability')\n",
    "\n",
    "\n",
    "ax[2].set_title('Test')\n",
    "ax[2].set_xlim([0, 25])\n",
    "ax[2].hist(d['Test'], bins = 115, density = True)\n",
    "ax[2].set(xlabel='Utterance_length', ylabel='Probability')"
   ]
  },
  {
   "cell_type": "markdown",
   "id": "a3144866",
   "metadata": {},
   "source": [
    "# Distribution of utterance length per emotion class in train set\n",
    "- Utterance length distribution per class is similar peaking around 5 words per utterance. \n"
   ]
  },
  {
   "cell_type": "code",
   "execution_count": 59,
   "id": "66341878",
   "metadata": {},
   "outputs": [],
   "source": [
    "d = {\"happy\":[],\"sad\":[],\"angry\":[] };\n",
    "for col in ['turn1', 'turn2', 'turn3']:\n",
    "    for label, token in zip(df_train.label, df_train[col]):\n",
    "        if (label == \"others\"):\n",
    "            continue\n",
    "        d[label].append(len(token.split()))"
   ]
  },
  {
   "cell_type": "code",
   "execution_count": 60,
   "id": "6fd0697b",
   "metadata": {},
   "outputs": [
    {
     "data": {
      "text/plain": [
       "(12729, 16389, 16518)"
      ]
     },
     "execution_count": 60,
     "metadata": {},
     "output_type": "execute_result"
    }
   ],
   "source": [
    "len(d['happy']), len(d['sad']), len(d['angry'])"
   ]
  },
  {
   "cell_type": "code",
   "execution_count": 67,
   "id": "d63ea27e",
   "metadata": {},
   "outputs": [
    {
     "data": {
      "image/png": "[encoded data removed]",
      "text/plain": [
       "<Figure size 864x576 with 3 Axes>"
      ]
     },
     "metadata": {},
     "output_type": "display_data"
    }
   ],
   "source": [
    "fig, ax =plt.subplots(1,3)\n",
    "fig.suptitle('Distribution of utterance legnth per emotion class in train set', fontsize=16)\n",
    "fig.tight_layout()\n",
    "ax[0].set_title('Happy')\n",
    "ax[0].set_xlim([0, 25])\n",
    "ax[0].set(xlabel='Utterance_length', ylabel='Probability')\n",
    "ax[0].hist(d['happy'], bins = 100, density = True)\n",
    "\n",
    "ax[1].set_title('Sad')\n",
    "ax[1].set_xlim([0, 25])\n",
    "ax[1].hist(d['sad'], bins = 45, density = True)\n",
    "ax[1].set(xlabel='Utterance_length', ylabel='Probability')\n",
    "plt.tight_layout()\n",
    "\n",
    "\n",
    "ax[2].set_title('Angry')\n",
    "ax[2].set_xlim([0, 25])\n",
    "ax[2].hist(d['angry'], bins = 45, density = True)\n",
    "ax[2].set(xlabel='Utterance_length', ylabel='Probability')\n",
    "plt.tight_layout()"
   ]
  },
  {
   "cell_type": "markdown",
   "id": "4d9c9d62",
   "metadata": {},
   "source": [
    "# Comparision of utterance legnth distribution per emotion class"
   ]
  },
  {
   "cell_type": "code",
   "execution_count": 27,
   "id": "42a81778",
   "metadata": {},
   "outputs": [],
   "source": [
    "d = {\"happy\":[],\"sad\":[],\"angry\":[] };\n",
    "for col in ['turn1', 'turn2', 'turn3']:\n",
    "    for label, token in zip(df_train.label, df_train[col]):\n",
    "        if (label == \"others\"):\n",
    "            continue\n",
    "        d[label].append(len(token.split()))"
   ]
  },
  {
   "cell_type": "code",
   "execution_count": 28,
   "id": "edccadf1",
   "metadata": {},
   "outputs": [
    {
     "data": {
      "text/plain": [
       "<AxesSubplot:title={'center':'Distribution of Utterance length per emotion class'}>"
      ]
     },
     "execution_count": 28,
     "metadata": {},
     "output_type": "execute_result"
    },
    {
     "data": {
      "image/png": "[encoded data removed]",
      "text/plain": [
       "<Figure size 864x576 with 1 Axes>"
      ]
     },
     "metadata": {},
     "output_type": "display_data"
    }
   ],
   "source": [
    "index = [1, 2, 3,\n",
    "         4, 5, 6, 7, 8, 9]\n",
    "columns = [\"happy\", \"sad\",\"angry\"]\n",
    "df_wc =  pd.DataFrame(columns = columns, index=index)\n",
    "df_wc = df_wc.fillna(0)\n",
    "for keys in d.keys():\n",
    "    for i in range (len( d[keys])):\n",
    "        for j in range(1, 10):\n",
    "            if j == 9:\n",
    "                if d[keys][i]>=9:\n",
    "                        df_wc.loc[j, keys] +=1\n",
    "            else:\n",
    "                if d[keys][i] == j:\n",
    "                    df_wc.loc[j, keys] +=1\n",
    "                        \n",
    "       \n",
    "               \n",
    "df_wc.index = ['1', '2', '3', '4', '5','6', '7', '8', '>8']        \n",
    "df_wc.plot.bar(rot=0, title = 'Distribution of Utterance length per emotion class')"
   ]
  },
  {
   "cell_type": "markdown",
   "id": "67393c57",
   "metadata": {},
   "source": [
    "### We define 2 set of dictionaries\n",
    "- emodict : Enumerate the emotions present in the dataset\n",
    "- focus_dict : Enumerate the smaller subset of emotions that we want to focus on\n",
    "\n",
    "For Semeval Task3, emodict and focus_dict are same. We train the model to learn all 4 emotions persent in the training set. "
   ]
  },
  {
   "cell_type": "code",
   "execution_count": 29,
   "id": "811df4e6",
   "metadata": {},
   "outputs": [
    {
     "name": "stdout",
     "output_type": "stream",
     "text": [
      "Emotion Mapping {'others': 0, 'sad': 1, 'angry': 2, 'happy': 3}\n",
      "Focus Emotion ['sad', 'angry', 'happy']\n",
      "Emotion Label Distribution in Training Set {'others': 14948, 'sad': 5463, 'angry': 5506, 'happy': 4243}\n",
      "Emotion Label Distribution in Validation Set {'others': 2338, 'sad': 125, 'angry': 150, 'happy': 142}\n",
      "Emotion Label Distribution in Test Set {'others': 4677, 'sad': 250, 'angry': 298, 'happy': 284}\n"
     ]
    }
   ],
   "source": [
    "if args.emoset == 'emorynlp':\n",
    "    emo_dict= {'neutral': 0, 'sad': 1, 'mad':2, 'joyful':3, 'peaceful':4,'powerful':5, 'scared':6}\n",
    "    focus_dict = ['neutral', 'sad', 'mad', 'joyful', 'peaceful', 'powerful', 'scared']\n",
    "elif args.emoset == 'friends':\n",
    "    emo_dict = {'neutral': 0, 'sadness': 1, 'anger':2, 'joy':3, 'non-neutral':4,'surprise':5, 'fear':6, 'disgust':7}\n",
    "    focus_dict = ['neutral', 'sadness', 'anger', 'joy']\n",
    "elif args.emoset == 'emotionpush':\n",
    "    emo_dict = {'neutral': 0, 'sadness': 1, 'anger':2, 'joy':3, 'non-neutral':4,'surprise':5, 'fear':6, 'disgust':7}\n",
    "    focus_dict = ['neutral', 'sadness', 'anger', 'joy']\n",
    "elif args.emoset == 'semeval':\n",
    "    emo_dict = {'others': 0, 'sad': 1, 'angry':2, 'happy':3}\n",
    "    focus_dict = ['sad', 'angry', 'happy']\n",
    "\n",
    "print('Emotion Mapping {}'.format(emo_dict))\n",
    "print('Focus Emotion {}'.format(focus_dict))\n",
    "emo_count = {}\n",
    "for emo in emo_dict.keys():\n",
    "        emo_count[emo] =df_train['label'].value_counts()[emo]\n",
    "print('Emotion Label Distribution in Training Set {}'.format(emo_count))\n",
    "emo_count = {}\n",
    "for emo in emo_dict.keys():\n",
    "        emo_count[emo] =df_val['label'].value_counts()[emo]\n",
    "print('Emotion Label Distribution in Validation Set {}'.format(emo_count))\n",
    "emo_count = {}\n",
    "for emo in emo_dict.keys():\n",
    "        emo_count[emo] =df_test['label'].value_counts()[emo]\n",
    "print('Emotion Label Distribution in Test Set {}'.format(emo_count))"
   ]
  },
  {
   "cell_type": "markdown",
   "id": "f9ae1580",
   "metadata": {},
   "source": [
    "# Data Preprocessing\n",
    "\n",
    "Machine Learning models don’t work with text and require data preprocessing to convert text to numbers. As we are using BERT for modelling the word level inputs, we need to do following preprocessing\n",
    "\n",
    "- Add special tokens to separate sentences and do classification\n",
    "- Pass sequences of constant length (introduce padding)\n",
    "- Create array of 0s (pad token) and 1s (real token) called attention mask\n",
    "\n",
    "We will use the pretrained bert model and tokenizers from the Transformers Library "
   ]
  },
  {
   "cell_type": "markdown",
   "id": "27a1fe5f",
   "metadata": {},
   "source": [
    "# DataLoader Class\n",
    "As the same utterance can deliver different emotions when it is in different contexts, it is imperative to look at the context of previous utterances in the dialogue while modellign the emotion label. On the other hand, utterances between 2 dialogues are independent of each other. We create a class called CustomDataset, and pass the argument Dataset, to allow it to inherit the functionality of the Torch Dataset Class."
   ]
  },
  {
   "cell_type": "code",
   "execution_count": 30,
   "id": "594fa547",
   "metadata": {},
   "outputs": [],
   "source": [
    "class CustomDataset(Dataset):\n",
    "    def __init__(self, df, max_number_of_speakers_in_dialogue, emo_dict, args):\n",
    "        self.data = df\n",
    "     \n",
    "        self.max_number_of_speakers_in_dialogue = max_number_of_speakers_in_dialogue\n",
    "        self.emo_dict = emo_dict\n",
    "        self.tokenizer = DistilBertTokenizer.from_pretrained('distilbert-base-uncased')\n",
    "        self.args = args\n",
    "        \n",
    "    def __len__(self):\n",
    "        if not self.args.emoset == 'semeval':\n",
    "            return len( self.data['dialogue_id'].unique())\n",
    "        else:\n",
    "            return self.data.shape[0]\n",
    "    \n",
    "    def get_labels(self, df):\n",
    "        \"\"\"\n",
    "        returns the labels according to the emotion dictionary\n",
    "        \"\"\"\n",
    "        return torch.tensor([self.emo_dict[label] for label in df['label'].values])\n",
    "    \n",
    "    '''\n",
    "        Machine Learning models don’t work with text and require data preprocessing to convert text to numbers. As we are\n",
    "        using BERT for modelling the word level inputs, we need to do following preprocessing\n",
    "\n",
    "        - Add special tokens to separate sentences and do classification\n",
    "        - Pass sequences of constant length (introduce padding)\n",
    "        - Create array of 0s (pad token) and 1s (real token) called attention mask\n",
    "\n",
    "        We will use the pretrained bert model and tokenizers from the Transformers Library \n",
    "    \n",
    "    '''\n",
    "    \n",
    "    def transform_data(self, df, max_seq_len):\n",
    "        \"\"\"\n",
    "        returns the padded input ids and attention masks according to the DistilBert tokenizer\n",
    "        \"\"\"\n",
    "               \n",
    "        def tokenize_fct(turn):\n",
    "            return self.tokenizer.encode(turn, truncation = True, add_special_tokens=True, max_length=max_seq_len)\n",
    "        \n",
    "        if not self.args.emoset == 'semeval':\n",
    "            tokenized = df[['utterance']].applymap(tokenize_fct)\n",
    "            padded = torch.tensor([[ids + [0]*(max_seq_len-len(ids)) for ids in idx] for idx in tokenized.values])\n",
    "            attention_mask = torch.where(padded != 0, torch.ones_like(padded), torch.zeros_like(padded))\n",
    "        else:\n",
    "            tokenized = df[['turn1','turn2','turn3']].applymap(tokenize_fct)\n",
    "            padded = torch.tensor([[ids + [0]*(max_seq_len-len(ids)) for ids in idx] for idx in tokenized.values])\n",
    "            attention_mask = torch.where(padded != 0, torch.ones_like(padded), torch.zeros_like(padded))\n",
    "        return padded, attention_mask, tokenized\n",
    "\n",
    "    \n",
    "    def __getitem__(self, idx):\n",
    "        \n",
    "        if not self.args.emoset == 'semeval':\n",
    "            assert idx  in list(range (len( self.data['dialogue_id'].unique())))\n",
    "            df = self.data.loc[self.data.dialogue_id ==idx]\n",
    "        else:\n",
    "            df = self.data.loc[self.data.index ==idx]\n",
    "        padded, attention_mask, tokenizer = self.transform_data(df, self.args.max_seq_len)\n",
    "        labels = self.get_labels(df)\n",
    "        \n",
    "        if not self.args.emoset == 'semeval':\n",
    "            padded = padded.squeeze(dim=1)\n",
    "            attention_mask = attention_mask.squeeze(dim=1)\n",
    "        else:\n",
    "            padded = padded.squeeze(dim=0)\n",
    "            attention_mask = attention_mask.squeeze(dim=0)\n",
    "        padded = padded.cuda(self.args.device)\n",
    "        attention_mask = attention_mask.cuda(self.args.device)\n",
    "        labels = labels.cuda(self.args.device)\n",
    "        if self.args.speaker_embedding:\n",
    "            cat = OneHotEncoder()\n",
    "            speakers_array = np.array(df.speaker).reshape(-1, 1)\n",
    "            number_of_speakers_in_dialogue = np.unique(speakers_array).shape[0]\n",
    "            spkr_emd = cat.fit_transform(speakers_array).toarray()\n",
    "            spkr_emd = np.pad(spkr_emd, (0, (self.max_number_of_speakers_in_dialogue - number_of_speakers_in_dialogue)))[0:spkr_emd.shape[0], :]\n",
    "        else:\n",
    "            spkr_emd = 0\n",
    "        \n",
    "        return padded, attention_mask, spkr_emd, labels"
   ]
  },
  {
   "cell_type": "markdown",
   "id": "5b40a17a",
   "metadata": {},
   "source": [
    "## Transformer Sentence Embeddings\n",
    "\n",
    "We use a pretrained DistilBert model to create sentence embeddings for each utterance. We obtain contextual word embeddings by concatenating the CLS token embedding and the mean of the last layer. \n",
    "\n",
    "For more information on the (Distil)Bert models one can look at \n",
    "Jay Alammar's blog posts ([A Visual Guide to Using BERT for the First Time](https://jalammar.github.io/a-visual-guide-to-using-bert-for-the-first-time/) and [The Illustrated BERT, ELMo, and co.](https://jalammar.github.io/illustrated-bert/)) where also the following illustration is taken from.\n",
    "\n",
    "![DistilBert output](./images/bert-distilbert-output-tensor-predictions.png)\n",
    "\n",
    "Further references:\n",
    " \n",
    "* [DistilBert paper](https://arxiv.org/abs/1910.01108) and [blog post](https://medium.com/huggingface/distilbert-8cf3380435b5)\n",
    "* [Original Bert (Bidirectional Encoder Representations from Transformers) paper](https://arxiv.org/abs/1810.04805)\n",
    "* [tutorial for custom PyTorch modules](https://pytorch.org/tutorials/beginner/pytorch_with_examples.html)\n",
    "* [Huggingface transformers documentation](https://huggingface.co/transformers/v2.3.0/index.html)"
   ]
  },
  {
   "cell_type": "code",
   "execution_count": 31,
   "id": "2c09494e",
   "metadata": {},
   "outputs": [],
   "source": [
    "class sentence_embeds_model(torch.nn.Module):\n",
    "    \"\"\"\n",
    "    instantiates the pretrained DistilBert model and the linear layer\n",
    "    \"\"\"\n",
    "    \n",
    "    def __init__(self, args, dropout = 0.1):\n",
    "        super(sentence_embeds_model, self).__init__()\n",
    "        \n",
    "        self.transformer = DistilBertModel.from_pretrained('distilbert-base-uncased', dropout=dropout, \n",
    "                                                           output_hidden_states=True)\n",
    "        \n",
    "        self.embedding_size = 2 * self.transformer.config.hidden_size\n",
    "        self.args = args\n",
    "      \n",
    "        \n",
    "    def layerwise_lr(self, lr, decay):\n",
    "        \"\"\"\n",
    "        returns grouped model parameters with layer-wise decaying learning rate\n",
    "        \"\"\"\n",
    "        bert = self.transformer\n",
    "        num_layers = bert.config.n_layers\n",
    "        opt_parameters = [{'params': bert.embeddings.parameters(), 'lr': lr*decay**num_layers}]\n",
    "        opt_parameters += [{'params': bert.transformer.layer[l].parameters(), 'lr': lr*decay**(num_layers-l+1)} \n",
    "                            for l in range(num_layers)]\n",
    "        return opt_parameters\n",
    "               \n",
    "    def forward(self, input_ids = None, attention_mask = None, input_embeds = None):\n",
    "        \"\"\"\n",
    "        returns the sentence embeddings\n",
    "        \"\"\"\n",
    "        utterance_count = input_ids.shape[1]\n",
    "        \n",
    "        if input_ids is not None:\n",
    "            input_ids = input_ids.flatten(end_dim = 1)\n",
    "     \n",
    "        if attention_mask is not None:\n",
    "            attention_mask = attention_mask.flatten(end_dim = 1)\n",
    "        \n",
    "       \n",
    "       \n",
    "        output = self.transformer(input_ids = input_ids, \n",
    "                                  attention_mask = attention_mask, inputs_embeds = input_embeds)\n",
    "      \n",
    "        cls = output[0][:,0]\n",
    "        hidden_mean = torch.mean(output[1][-1],1)\n",
    "        sentence_embeds = torch.cat([cls, hidden_mean], dim = -1)\n",
    "        sentence_embeds = sentence_embeds.view(-1,utterance_count, self.embedding_size)\n",
    "       \n",
    "        return sentence_embeds"
   ]
  },
  {
   "cell_type": "markdown",
   "id": "62bee682",
   "metadata": {},
   "source": [
    "## Context Transformer and Classification\n",
    "\n",
    "We use another transformer model to create contextual sentence embeddings, i.e. we model that a conversation consists of multiple utterances. Moreover, we add a classification model for the emotion of the last utterance where we augment the loss by a binary loss due to the unbalanced data.\n",
    "\n",
    "Note that for our convenience we use\n",
    "\n",
    "* a linear projection of the sentence embeddings to a given `projection_size`\n",
    "* a (not pre-trained) DistilBertForSequenceClassification and flip the order of the utterances as the first input embedding gets classified by default\n",
    "* only one attention head, see also the paper [Are Sixteen Heads Really Better than One?](https://arxiv.org/abs/1905.10650)."
   ]
  },
  {
   "cell_type": "code",
   "execution_count": 32,
   "id": "30b491f4",
   "metadata": {},
   "outputs": [],
   "source": [
    "class context_classifier_model(torch.nn.Module):\n",
    "    \"\"\"\n",
    "    instantiates the DisitlBertForSequenceClassification model, the position embeddings of the utterances, \n",
    "    and the binary loss function\n",
    "    \"\"\"\n",
    "    \n",
    "    def __init__(self, \n",
    "                 embedding_size, \n",
    "                 projection_size, \n",
    "                 n_layers, \n",
    "                 emo_dict, \n",
    "                 focus_dict, \n",
    "                 max_number_of_speakers_in_dialogue, \n",
    "                 max_number_of_utter_in_dialogue,\n",
    "                 args,\n",
    "                 loss_weights,\n",
    "                 dropout = 0.1):\n",
    "        super(context_classifier_model, self).__init__()\n",
    "     \n",
    "        self.projection_size = projection_size\n",
    "        self.projection = torch.nn.Linear(embedding_size, projection_size)  \n",
    "        self.max_number_of_speakers_in_dialogue = max_number_of_speakers_in_dialogue\n",
    "        self.max_number_of_utter_in_dialogue = max_number_of_utter_in_dialogue\n",
    "        self.position_embeds = torch.nn.Embedding( self.max_number_of_utter_in_dialogue, projection_size)\n",
    "     \n",
    "        self.norm = torch.nn.LayerNorm(projection_size+self.max_number_of_speakers_in_dialogue)\n",
    "        self.drop = torch.nn.Dropout(dropout)\n",
    "        self.focus_dict = focus_dict\n",
    "        self.emo_dict = emo_dict\n",
    "        self.args = args\n",
    "        self.loss_weights = loss_weights\n",
    "        context_config = DistilBertConfig(dropout=dropout, \n",
    "                                dim=projection_size+self.max_number_of_speakers_in_dialogue,\n",
    "                                hidden_dim=4*projection_size,\n",
    "                                n_layers=n_layers,\n",
    "                                n_heads = 1,\n",
    "                                num_labels=len(self.emo_dict.keys()))\n",
    "\n",
    "        self.context_transformer = DistilBertForSequenceClassification(context_config)\n",
    "        if not self.args.emoset == 'semeval':\n",
    "            self.others_label = self.emo_dict['neutral']\n",
    "        else:\n",
    "            self.others_label = self.emo_dict['others']\n",
    "        self.bin_loss_fct = torch.nn.BCEWithLogitsLoss()\n",
    "   \n",
    "        \n",
    "    def bin_loss(self, logits, labels):\n",
    "        \"\"\"\n",
    "        defined the additional binary loss for the `others` label\n",
    "        \"\"\"\n",
    "        bin_labels = torch.where(labels == self.others_label, torch.ones_like(labels), \n",
    "                                 torch.zeros_like(labels)).float()\n",
    "        bin_logits = logits[:, self.others_label]    \n",
    "        return self.bin_loss_fct(bin_logits, bin_labels)\n",
    "\n",
    "    \n",
    "    \n",
    "    def comput_loss(self, log_prob, target, weights):\n",
    "        \"\"\" Weighted loss function \"\"\"\n",
    "        #loss = F.nll_loss(log_prob, target, weight=weights, reduction='sum')\n",
    "        loss = F.cross_entropy(log_prob, target, weight=weights, reduction='sum')\n",
    "        loss /= target.size(0)\n",
    "\n",
    "        return loss\n",
    "\n",
    "\n",
    "    def forward(self, sentence_embeds, spkr_emd, labels = None):\n",
    "        \"\"\"\n",
    "        returns the logits and the corresponding loss if `labels` are given\n",
    "        \"\"\"\n",
    "        \n",
    "        position_ids = torch.arange(sentence_embeds.shape[1], dtype=torch.long, device=sentence_embeds.device)\n",
    "   \n",
    "        position_ids = position_ids.expand(sentence_embeds.shape[:2]) \n",
    "        position_embeds = self.position_embeds(position_ids)\n",
    "        sentence_embeds = self.projection(sentence_embeds) + position_embeds \n",
    "        if self.args.speaker_embedding:\n",
    "            sentence_embeds = torch.cat((sentence_embeds, spkr_emd), dim=2)\n",
    "            sentence_embeds = sentence_embeds.to(device=self.args.device, dtype=torch.float)\n",
    "        sentence_embeds = self.drop(self.norm(sentence_embeds))\n",
    "    \n",
    "        if labels is None:\n",
    "            if not self.emoset == 'semeval':\n",
    "                return self.context_transformer(inputs_embeds = sentence_embeds.transpose(0, 1), labels = labels)[0]\n",
    "            else:\n",
    "                return self.context_transformer(inputs_embeds = sentence_embeds.flip(1), labels = labels)[0]\n",
    "        else:\n",
    "            if not self.args.emoset == 'semeval':\n",
    "                output =  self.context_transformer(inputs_embeds = sentence_embeds.transpose(0, 1), labels = labels)\n",
    "            else:\n",
    "                output =  self.context_transformer(inputs_embeds = sentence_embeds.flip(1), labels = labels)\n",
    "        loss = output[0]\n",
    "        logits = output[1]\n",
    "        log_prob = logits\n",
    "        if not self.args.emoset == 'semeval':\n",
    "            loss2 = self.comput_loss(log_prob, labels, self.loss_weights)\n",
    "            return loss2, logits\n",
    "        else:\n",
    "            return loss + self.bin_loss(logits, labels), logits\n",
    "        "
   ]
  },
  {
   "cell_type": "markdown",
   "id": "0634cc28",
   "metadata": {},
   "source": [
    "# Metrices\n",
    "\n",
    "- Semeval Task 3 : We use the metrics, i.e. microaveraged precision, recall, and f1-score (while ignoring the others class), for the evaluation of our model according to the [SemEval-2019 Task 3 challenge](https://www.aclweb.org/anthology/S19-2005/). \n",
    "\n",
    "- Friends/EmoryPush/EmoryNLP : we choose the macro averaged F1-score as the primary metric for evaluating the performance of our models."
   ]
  },
  {
   "cell_type": "code",
   "execution_count": 33,
   "id": "6fe6ab5c",
   "metadata": {},
   "outputs": [],
   "source": [
    "def metrics(loss, logits, labels, emo_dict,focus_emo, args):\n",
    "    \n",
    "    labelslist = labels.cpu().tolist()\n",
    "    preds = torch.argmax(logits, dim=1)\n",
    "    predslist = preds.cpu().tolist() \n",
    "  \n",
    "    cm = np.zeros((len(emo_dict.keys()),len(emo_dict.keys())), dtype=np.int64) # recall\n",
    "       \n",
    "  \n",
    "    for label, pred in zip(labels.view(-1), preds.view(-1)):\n",
    "        cm[label.long(), pred.long()] += 1\n",
    "   \n",
    "    if not args.emoset == 'semeval':\n",
    "        cm = cm[0:len(focus_emo), 0:len(focus_emo)]\n",
    "        gt_labels_per_class =  cm.sum(axis = 1)\n",
    "        preds_per_class =  cm.sum(axis = 0)\n",
    "        tp = cm.diagonal()[0:]\n",
    "        fp = preds_per_class-tp\n",
    "        fn = gt_labels_per_class- tp\n",
    "    else:\n",
    "        gt_labels_per_class =  cm[1:, :].sum(axis = 1)\n",
    "        preds_per_class =  cm[:, 1:].sum(axis = 0)\n",
    "        tp = cm.diagonal()[1:]\n",
    "        fp = preds_per_class-tp\n",
    "        fn = gt_labels_per_class- tp\n",
    "   \n",
    "    return {'val_loss': loss, \n",
    "            'tp': tp, \n",
    "            'fp': fp, \n",
    "            'fn': fn, \n",
    "            'preds':preds_per_class,\n",
    "            'labels': gt_labels_per_class            \n",
    "            }\n",
    "def calc_f1_score(tp, fp, fn):\n",
    "    prec_rec_f1 = {}\n",
    "    tp_fn = tp+fn\n",
    "    tp_fp = tp+fp\n",
    "\n",
    "\n",
    "    Recall = [np.round(tp/tp_fn*100, 2) if tp_fn>0 else 0.0 for tp,tp_fn in zip(tp,tp_fn)]\n",
    "    prec_rec_f1['microRecall'] = np.round((sum(tp)/ sum(tp_fn))*100, 2)\n",
    "    prec_rec_f1['macroRecall'] = np.round (sum(Recall) / len(Recall),2)\n",
    "    \n",
    "    Precision = [np.round(tp/tp_fp*100, 2) if tp_fp>0 else 0.0 for tp,tp_fp in zip(tp,tp_fp)]\n",
    "    prec_rec_f1['microPrecision'] = np.round((sum(tp)/ sum(tp_fp))*100, 2)\n",
    "    prec_rec_f1['macroPrecision'] = np.round(sum(Precision) / len(Precision),2)\n",
    "    \n",
    "    f1score = []\n",
    "    f1_numenator = [2*x*y for (x, y) in zip(Recall, Precision)]\n",
    "    f1_denominator = [x + y for (x, y) in zip(Recall, Precision)]\n",
    "\n",
    "    for num1, num2 in zip(f1_numenator,f1_denominator):\n",
    "        if  num2:\n",
    "            f1score.append(np.round(num1 / num2, 2))\n",
    "        else:\n",
    "            f1score.append(0.0)\n",
    " \n",
    "    prec_rec_f1['microF1_score'] = 2 * (prec_rec_f1['microPrecision'] * prec_rec_f1['microRecall']) / (prec_rec_f1['microPrecision'] + prec_rec_f1['microRecall'])\n",
    "    prec_rec_f1['macroF1_score'] = np.round(sum(f1score) / len(f1score), 2)\n",
    "    \n",
    "    return prec_rec_f1\n",
    "\n"
   ]
  },
  {
   "cell_type": "markdown",
   "id": "acc49f55",
   "metadata": {},
   "source": [
    "# PyTorch Lightning\n",
    "\n",
    "> We use pytorch lighting framework for the Training/Evaluation Loop Implementation"
   ]
  },
  {
   "cell_type": "code",
   "execution_count": 39,
   "id": "6221cd92",
   "metadata": {},
   "outputs": [],
   "source": [
    "class EmotionModel(pl.LightningModule):\n",
    "    \"\"\"\n",
    "    PyTorch Lightning module for the Contextual Emotion Detection in Text Challenge\n",
    "    \"\"\"\n",
    "\n",
    "    def __init__(self, emo_dict, focus_dict, args, df_train, df_val, df_test):\n",
    "        \"\"\"\n",
    "        pass in parsed HyperOptArgumentParser to the model\n",
    "        \"\"\"\n",
    "        super(EmotionModel, self).__init__()\n",
    "\n",
    "        self.model_name = 'Semeval'\n",
    "        self.emo_dict = emo_dict\n",
    "        self.focus_dict = focus_dict\n",
    "        self.focus_emo = [emo_dict[w] for w in focus_dict]\n",
    "        self.max_seq_len = args.max_seq_len\n",
    "        self.dropout = args.dropout\n",
    "        self.projection_size = args.projection_size\n",
    "        self.args = args\n",
    "        self.n_layers = args.n_layers\n",
    "        self.df_train = df_train\n",
    "        self.df_val = df_val\n",
    "        self.df_test = df_test\n",
    "        self.loop_count = 0\n",
    "        if args.speaker_embedding:\n",
    "            print('Speaker Embedding is Enabled')\n",
    "            self.max_number_of_speakers_in_dialogue = self.get_max_number_of_speakers_in_dialogue()\n",
    "            print('Max number of speakers in a dialgue = {}'.format(self.max_number_of_speakers_in_dialogue))\n",
    "            \n",
    "        else:\n",
    "            print('Speaker Embedding is Disabled')\n",
    "            self.max_number_of_speakers_in_dialogue =0\n",
    "        if not self.args.emoset == 'semeval':\n",
    "            self.max_number_of_utter_in_dialogue = self.get_max_utterance_length_in_dialogue()\n",
    "        else:\n",
    "            self.max_number_of_utter_in_dialogue = 3\n",
    "        \n",
    "        #Need to explore this hyperparameter\n",
    "        self.weight_rate =1\n",
    "        self.loss_weights = self.calc_loss_weight(self.df_train, self.weight_rate )\n",
    "        self.loss_weights = self.loss_weights.cuda(self.args.device)\n",
    "        print( 'loss weights = {}'.format(self.loss_weights))\n",
    "        self.class_weights = self.calc_class_weight(self.df_train, self.weight_rate )\n",
    "        self.class_weights = self.class_weights.cuda(self.args.device)\n",
    "        print( 'class weights = {}'.format(self.class_weights))\n",
    "        self.sentence_embeds_model = sentence_embeds_model(self.args, dropout = self.dropout)\n",
    "        self.context_classifier_model = context_classifier_model(self.sentence_embeds_model.embedding_size,\n",
    "                                                                 self.projection_size, \n",
    "                                                                 self.n_layers, \n",
    "                                                                 self.emo_dict, \n",
    "                                                                 self.focus_dict,\n",
    "                                                                 self.max_number_of_speakers_in_dialogue,\n",
    "                                                                 self.max_number_of_utter_in_dialogue,\n",
    "                                                                 self.args,\n",
    "                                                                 self.loss_weights,\n",
    "                                                                 dropout = self.dropout)\n",
    "        self.sentence_embeds_model.cuda(self.args.device)\n",
    "        self.context_classifier_model.cuda(self.args.device)\n",
    "    \n",
    "    def calc_loss_weight(self, df, rate=1.0):\n",
    "        \"\"\" Loss weights \"\"\"\n",
    "        emo_count = {}\n",
    "        for emo in self.emo_dict.keys():\n",
    "            emo_count[emo] =df['label'].value_counts()[emo]\n",
    "        min_emo = float(min([ emo_count[w] for w in self.focus_dict]))\n",
    "        weight = [math.pow(min_emo / emo_count[k], rate) if k in self.focus_dict else 0 for k,v in emo_count.items()]\n",
    "        weight = np.array(weight)\n",
    "        weight /= np.sum(weight)\n",
    "        weight = torch.from_numpy(weight).float()\n",
    "        return weight\n",
    "    \n",
    "    def calc_class_weight(self, df, rate=1.0):\n",
    "        \"\"\" class weights \"\"\"\n",
    "        emo_count = {}\n",
    "        for emo in self.emo_dict.keys():\n",
    "            if emo in self.focus_dict:\n",
    "                emo_count[emo] =df['label'].value_counts()[emo]\n",
    "            \n",
    "        \n",
    "        weight = [(v / sum(emo_count.values())) for k,v in emo_count.items()]\n",
    "        weight = np.array(weight)\n",
    "        weight = torch.from_numpy(weight).float()\n",
    "        return weight\n",
    "        \n",
    "    def get_max_number_of_speakers_in_dialogue(self):\n",
    "        number_of_speakers_in_dialogue = []\n",
    "        train_dialogue_id_list = list((self.df_train['dialogue_id'].unique()))\n",
    "        val_dialogue_id_list = list((self.df_val['dialogue_id'].unique()))\n",
    "        test_dialogue_id_list = list((self.df_test['dialogue_id'].unique()))\n",
    "        \n",
    "        for dialogue in train_dialogue_id_list:\n",
    "            number_of_speakers_in_dialogue.append(len(set(self.df_train[(self.df_train.dialogue_id ==dialogue)].speaker)))\n",
    "        for dialogue in val_dialogue_id_list:\n",
    "            number_of_speakers_in_dialogue.append(len(set(self.df_val[(self.df_val.dialogue_id ==dialogue)].speaker)))\n",
    "        for dialogue in test_dialogue_id_list:\n",
    "            number_of_speakers_in_dialogue.append(len(set(self.df_test[(self.df_test.dialogue_id ==dialogue)].speaker)))\n",
    "        return( max(number_of_speakers_in_dialogue))\n",
    "    \n",
    "    def get_max_utterance_length_in_dialogue(self):\n",
    "        #import IPython; IPython.embed();  exit(1)\n",
    "        train_dialogue_id_list = list((self.df_train['dialogue_id'].unique()))\n",
    "        val_dialogue_id_list = list((self.df_val['dialogue_id'].unique()))\n",
    "        test_dialogue_id_list = list((self.df_test['dialogue_id'].unique()))\n",
    "        number_of_utterance_in_dialogue = []\n",
    "        for dialogue in train_dialogue_id_list:\n",
    "             number_of_utterance_in_dialogue.append((self.df_train.dialogue_id ==dialogue).sum())\n",
    "        for dialogue in val_dialogue_id_list:\n",
    "             number_of_utterance_in_dialogue.append((self.df_val.dialogue_id ==dialogue).sum())\n",
    "        for dialogue in test_dialogue_id_list:\n",
    "             number_of_utterance_in_dialogue.append((self.df_test.dialogue_id ==dialogue).sum())\n",
    "        return( max(number_of_utterance_in_dialogue))\n",
    "       \n",
    "\n",
    "    def forward(self, input_ids, attention_mask, spkr_emd, labels = None):\n",
    "        \"\"\"\n",
    "        no special modification required for lightning, define as you normally would\n",
    "        \"\"\"\n",
    "      \n",
    "        sentence_embeds = self.sentence_embeds_model(input_ids = input_ids, \n",
    "                                                             attention_mask = attention_mask)\n",
    "    \n",
    "        return self.context_classifier_model(sentence_embeds = sentence_embeds,spkr_emd = spkr_emd, labels = labels)\n",
    "    \n",
    "    def training_step(self, batch, batch_idx):\n",
    "        \"\"\"\n",
    "        Lightning calls this inside the training loop\n",
    "        \"\"\"       \n",
    "        input_ids, attention_mask, spkr_emd , labels = batch\n",
    "        spkr_emd = spkr_emd.cuda(self.args.device)\n",
    "        labels = labels.view(-1)\n",
    "              \n",
    "        loss, _ = self.forward(input_ids = input_ids, attention_mask = attention_mask, spkr_emd = spkr_emd, labels = labels)\n",
    "       \n",
    "        tensorboard_logs = {'train_loss': loss}\n",
    "        self.log('train_loss', loss, prog_bar=True)\n",
    "        return {'loss': loss, 'log': tensorboard_logs}\n",
    "\n",
    "    \n",
    "    def validation_step(self, batch, batch_idx):\n",
    "        \"\"\"\n",
    "        Lightning calls this inside the validation loop\n",
    "        \"\"\"\n",
    "        \n",
    "        input_ids, attention_mask, spkr_emd , labels = batch\n",
    "        spkr_emd = spkr_emd.cuda(self.args.device)\n",
    "        labels = labels.view(-1)\n",
    "        \n",
    "        loss, logits = self.forward(input_ids = input_ids, attention_mask = attention_mask,spkr_emd = spkr_emd,  labels = labels)\n",
    "        scores_dict = metrics(loss, logits, labels, self.emo_dict,self.focus_emo, self.args)\n",
    "        return scores_dict\n",
    "    \n",
    "    def validation_epoch_end(self, outputs):\n",
    "        \"\"\"\n",
    "        called at the end of validation to aggregate outputs\n",
    "        :param outputs: list of individual outputs of each validation step\n",
    "        :return:\n",
    "        \"\"\"\n",
    "        #import IPython; IPython.embed();  exit(1)\n",
    "        tqdm_dict = {}\n",
    "      \n",
    "        tqdm_dict['preds'] = [0 for w in self.focus_dict]\n",
    "        tqdm_dict['labels'] = [0 for w in self.focus_dict]\n",
    "        tqdm_dict['tp'] = [0 for w in self.focus_dict]\n",
    "        tqdm_dict['fp'] = [0 for w in self.focus_dict]\n",
    "        tqdm_dict['fn'] = [0 for w in self.focus_dict]\n",
    "        tqdm_dict['acc_per_class'] = [0 for w in self.focus_dict]\n",
    "       \n",
    "        for metric_name in outputs[0].keys():\n",
    "            \n",
    "            if metric_name not in  ['tp', 'fp', 'fn', 'acc_per_class','preds', 'labels']:\n",
    "                metric_total = 0\n",
    "            else:\n",
    "                 metric_total = [0 for w in self.focus_dict]\n",
    "            \n",
    "            for output in outputs:\n",
    "                metric_value = output[metric_name]\n",
    "                metric_total += metric_value\n",
    "            if metric_name in ['tp', 'fp', 'fn', 'acc_per_class', 'preds', 'labels']:\n",
    "                tqdm_dict[metric_name] = metric_total\n",
    "            else:\n",
    "                tqdm_dict[metric_name] = metric_total / len(outputs)\n",
    "        \n",
    "        for i in range(len(self.focus_dict)):\n",
    "            if  tqdm_dict['labels'][i]:\n",
    "                tqdm_dict['acc_per_class'][i] = np.round((tqdm_dict['tp'][i] / tqdm_dict['labels'][i])*100, 2)\n",
    "            else:\n",
    "                tqdm_dict['acc_per_class'][i] = 0.0\n",
    "        \n",
    "        \n",
    "        tqdm_dict['acc_unweighted'] = np.round(sum(tqdm_dict['acc_per_class']) / len(tqdm_dict['acc_per_class']),2)       \n",
    "        tqdm_dict['acc_weighted'] = sum(weight * value for weight, value in zip(self.class_weights, tqdm_dict['acc_per_class']))\n",
    "        \n",
    "        tqdm_dict['acc_weighted'] = (tqdm_dict['acc_weighted'] * 10**2).round() / (10**2)\n",
    "        prec_rec_f1 = calc_f1_score(tqdm_dict['tp'], tqdm_dict['fp'], tqdm_dict['fn'])\n",
    "        tqdm_dict.update(prec_rec_f1) \n",
    "      \n",
    "        self.log('valid_loss', tqdm_dict[\"val_loss\"], prog_bar=False)\n",
    "        self.log('valid_ac_unweighted', tqdm_dict[\"acc_unweighted\"], prog_bar=False)\n",
    "        self.log('microRecall', tqdm_dict[\"microRecall\"], prog_bar=False)\n",
    "        #print('\\nError Metric {}'.format(tqdm_dict))\n",
    "        print(*tqdm_dict.items(), sep='\\n')\n",
    "        result = {'progress_bar': tqdm_dict, 'log': tqdm_dict, 'val_loss': tqdm_dict[\"val_loss\"]}\n",
    "        \n",
    "        return result\n",
    "\n",
    "    \n",
    "    def test_step(self, batch, batch_idx):\n",
    " \n",
    "        return self.validation_step(batch, batch_idx)\n",
    "\n",
    "    \n",
    "    def test_epoch_end(self, outputs):\n",
    "        return self.validation_epoch_end(outputs)\n",
    "    \n",
    "    def configure_optimizers(self):\n",
    "        \"\"\"\n",
    "        returns the optimizer and scheduler\n",
    "        \"\"\"\n",
    "        params = self.sentence_embeds_model.layerwise_lr(self.args.lr, self.args.layerwise_decay)\n",
    "        params += [{'params': self.context_classifier_model.parameters()}]\n",
    "        self.optimizer = torch.optim.Adam(params, lr=self.args.lr)\n",
    "        self.scheduler = torch.optim.lr_scheduler.CosineAnnealingLR(self.optimizer, T_max=10)\n",
    "        return [self.optimizer], [self.scheduler]\n",
    "    \n",
    "\n",
    "   \n",
    "    def train_dataloader(self):\n",
    "        \n",
    "        dataset = CustomDataset(self.df_train, self.max_number_of_speakers_in_dialogue, self.emo_dict, self.args)\n",
    "        train_loader = DataLoader(dataset, self.args.batch_size, shuffle=True, num_workers=0)\n",
    "      \n",
    "        return train_loader\n",
    "\n",
    "    \n",
    "\n",
    "    def val_dataloader(self):\n",
    "\n",
    "        dataset = CustomDataset(self.df_val, self.max_number_of_speakers_in_dialogue, self.emo_dict, self.args)\n",
    "        val_loader = DataLoader(dataset, self.args.batch_size, shuffle=False, num_workers=0)\n",
    "      \n",
    "        return val_loader\n",
    "\n",
    "    def test_dataloader(self):\n",
    "        \n",
    "        dataset = CustomDataset(self.df_test, self.max_number_of_speakers_in_dialogue, self.emo_dict, self.args)\n",
    "        test_loader = DataLoader(dataset, self.args.batch_size, shuffle=False, num_workers=0)\n",
    "       \n",
    "        return test_loader"
   ]
  },
  {
   "cell_type": "code",
   "execution_count": 40,
   "id": "d6172d95",
   "metadata": {},
   "outputs": [
    {
     "name": "stdout",
     "output_type": "stream",
     "text": [
      "Speaker Embedding is Disabled\n",
      "loss weights = tensor([0.0000, 0.3049, 0.3025, 0.3926], device='cuda:0')\n",
      "class weights = tensor([0.3591, 0.3620, 0.2789], device='cuda:0')\n"
     ]
    },
    {
     "data": {
      "text/plain": [
       "EmotionModel(\n",
       "  (sentence_embeds_model): sentence_embeds_model(\n",
       "    (transformer): DistilBertModel(\n",
       "      (embeddings): Embeddings(\n",
       "        (word_embeddings): Embedding(30522, 768, padding_idx=0)\n",
       "        (position_embeddings): Embedding(512, 768)\n",
       "        (LayerNorm): LayerNorm((768,), eps=1e-12, elementwise_affine=True)\n",
       "        (dropout): Dropout(p=0.1, inplace=False)\n",
       "      )\n",
       "      (transformer): Transformer(\n",
       "        (layer): ModuleList(\n",
       "          (0): TransformerBlock(\n",
       "            (attention): MultiHeadSelfAttention(\n",
       "              (dropout): Dropout(p=0.1, inplace=False)\n",
       "              (q_lin): Linear(in_features=768, out_features=768, bias=True)\n",
       "              (k_lin): Linear(in_features=768, out_features=768, bias=True)\n",
       "              (v_lin): Linear(in_features=768, out_features=768, bias=True)\n",
       "              (out_lin): Linear(in_features=768, out_features=768, bias=True)\n",
       "            )\n",
       "            (sa_layer_norm): LayerNorm((768,), eps=1e-12, elementwise_affine=True)\n",
       "            (ffn): FFN(\n",
       "              (dropout): Dropout(p=0.1, inplace=False)\n",
       "              (lin1): Linear(in_features=768, out_features=3072, bias=True)\n",
       "              (lin2): Linear(in_features=3072, out_features=768, bias=True)\n",
       "            )\n",
       "            (output_layer_norm): LayerNorm((768,), eps=1e-12, elementwise_affine=True)\n",
       "          )\n",
       "          (1): TransformerBlock(\n",
       "            (attention): MultiHeadSelfAttention(\n",
       "              (dropout): Dropout(p=0.1, inplace=False)\n",
       "              (q_lin): Linear(in_features=768, out_features=768, bias=True)\n",
       "              (k_lin): Linear(in_features=768, out_features=768, bias=True)\n",
       "              (v_lin): Linear(in_features=768, out_features=768, bias=True)\n",
       "              (out_lin): Linear(in_features=768, out_features=768, bias=True)\n",
       "            )\n",
       "            (sa_layer_norm): LayerNorm((768,), eps=1e-12, elementwise_affine=True)\n",
       "            (ffn): FFN(\n",
       "              (dropout): Dropout(p=0.1, inplace=False)\n",
       "              (lin1): Linear(in_features=768, out_features=3072, bias=True)\n",
       "              (lin2): Linear(in_features=3072, out_features=768, bias=True)\n",
       "            )\n",
       "            (output_layer_norm): LayerNorm((768,), eps=1e-12, elementwise_affine=True)\n",
       "          )\n",
       "          (2): TransformerBlock(\n",
       "            (attention): MultiHeadSelfAttention(\n",
       "              (dropout): Dropout(p=0.1, inplace=False)\n",
       "              (q_lin): Linear(in_features=768, out_features=768, bias=True)\n",
       "              (k_lin): Linear(in_features=768, out_features=768, bias=True)\n",
       "              (v_lin): Linear(in_features=768, out_features=768, bias=True)\n",
       "              (out_lin): Linear(in_features=768, out_features=768, bias=True)\n",
       "            )\n",
       "            (sa_layer_norm): LayerNorm((768,), eps=1e-12, elementwise_affine=True)\n",
       "            (ffn): FFN(\n",
       "              (dropout): Dropout(p=0.1, inplace=False)\n",
       "              (lin1): Linear(in_features=768, out_features=3072, bias=True)\n",
       "              (lin2): Linear(in_features=3072, out_features=768, bias=True)\n",
       "            )\n",
       "            (output_layer_norm): LayerNorm((768,), eps=1e-12, elementwise_affine=True)\n",
       "          )\n",
       "          (3): TransformerBlock(\n",
       "            (attention): MultiHeadSelfAttention(\n",
       "              (dropout): Dropout(p=0.1, inplace=False)\n",
       "              (q_lin): Linear(in_features=768, out_features=768, bias=True)\n",
       "              (k_lin): Linear(in_features=768, out_features=768, bias=True)\n",
       "              (v_lin): Linear(in_features=768, out_features=768, bias=True)\n",
       "              (out_lin): Linear(in_features=768, out_features=768, bias=True)\n",
       "            )\n",
       "            (sa_layer_norm): LayerNorm((768,), eps=1e-12, elementwise_affine=True)\n",
       "            (ffn): FFN(\n",
       "              (dropout): Dropout(p=0.1, inplace=False)\n",
       "              (lin1): Linear(in_features=768, out_features=3072, bias=True)\n",
       "              (lin2): Linear(in_features=3072, out_features=768, bias=True)\n",
       "            )\n",
       "            (output_layer_norm): LayerNorm((768,), eps=1e-12, elementwise_affine=True)\n",
       "          )\n",
       "          (4): TransformerBlock(\n",
       "            (attention): MultiHeadSelfAttention(\n",
       "              (dropout): Dropout(p=0.1, inplace=False)\n",
       "              (q_lin): Linear(in_features=768, out_features=768, bias=True)\n",
       "              (k_lin): Linear(in_features=768, out_features=768, bias=True)\n",
       "              (v_lin): Linear(in_features=768, out_features=768, bias=True)\n",
       "              (out_lin): Linear(in_features=768, out_features=768, bias=True)\n",
       "            )\n",
       "            (sa_layer_norm): LayerNorm((768,), eps=1e-12, elementwise_affine=True)\n",
       "            (ffn): FFN(\n",
       "              (dropout): Dropout(p=0.1, inplace=False)\n",
       "              (lin1): Linear(in_features=768, out_features=3072, bias=True)\n",
       "              (lin2): Linear(in_features=3072, out_features=768, bias=True)\n",
       "            )\n",
       "            (output_layer_norm): LayerNorm((768,), eps=1e-12, elementwise_affine=True)\n",
       "          )\n",
       "          (5): TransformerBlock(\n",
       "            (attention): MultiHeadSelfAttention(\n",
       "              (dropout): Dropout(p=0.1, inplace=False)\n",
       "              (q_lin): Linear(in_features=768, out_features=768, bias=True)\n",
       "              (k_lin): Linear(in_features=768, out_features=768, bias=True)\n",
       "              (v_lin): Linear(in_features=768, out_features=768, bias=True)\n",
       "              (out_lin): Linear(in_features=768, out_features=768, bias=True)\n",
       "            )\n",
       "            (sa_layer_norm): LayerNorm((768,), eps=1e-12, elementwise_affine=True)\n",
       "            (ffn): FFN(\n",
       "              (dropout): Dropout(p=0.1, inplace=False)\n",
       "              (lin1): Linear(in_features=768, out_features=3072, bias=True)\n",
       "              (lin2): Linear(in_features=3072, out_features=768, bias=True)\n",
       "            )\n",
       "            (output_layer_norm): LayerNorm((768,), eps=1e-12, elementwise_affine=True)\n",
       "          )\n",
       "        )\n",
       "      )\n",
       "    )\n",
       "  )\n",
       "  (context_classifier_model): context_classifier_model(\n",
       "    (projection): Linear(in_features=1536, out_features=100, bias=True)\n",
       "    (position_embeds): Embedding(3, 100)\n",
       "    (norm): LayerNorm((100,), eps=1e-05, elementwise_affine=True)\n",
       "    (drop): Dropout(p=0.1, inplace=False)\n",
       "    (context_transformer): DistilBertForSequenceClassification(\n",
       "      (distilbert): DistilBertModel(\n",
       "        (embeddings): Embeddings(\n",
       "          (word_embeddings): Embedding(30522, 100, padding_idx=0)\n",
       "          (position_embeddings): Embedding(512, 100)\n",
       "          (LayerNorm): LayerNorm((100,), eps=1e-12, elementwise_affine=True)\n",
       "          (dropout): Dropout(p=0.1, inplace=False)\n",
       "        )\n",
       "        (transformer): Transformer(\n",
       "          (layer): ModuleList(\n",
       "            (0): TransformerBlock(\n",
       "              (attention): MultiHeadSelfAttention(\n",
       "                (dropout): Dropout(p=0.1, inplace=False)\n",
       "                (q_lin): Linear(in_features=100, out_features=100, bias=True)\n",
       "                (k_lin): Linear(in_features=100, out_features=100, bias=True)\n",
       "                (v_lin): Linear(in_features=100, out_features=100, bias=True)\n",
       "                (out_lin): Linear(in_features=100, out_features=100, bias=True)\n",
       "              )\n",
       "              (sa_layer_norm): LayerNorm((100,), eps=1e-12, elementwise_affine=True)\n",
       "              (ffn): FFN(\n",
       "                (dropout): Dropout(p=0.1, inplace=False)\n",
       "                (lin1): Linear(in_features=100, out_features=400, bias=True)\n",
       "                (lin2): Linear(in_features=400, out_features=100, bias=True)\n",
       "              )\n",
       "              (output_layer_norm): LayerNorm((100,), eps=1e-12, elementwise_affine=True)\n",
       "            )\n",
       "          )\n",
       "        )\n",
       "      )\n",
       "      (pre_classifier): Linear(in_features=100, out_features=100, bias=True)\n",
       "      (classifier): Linear(in_features=100, out_features=4, bias=True)\n",
       "      (dropout): Dropout(p=0.2, inplace=False)\n",
       "    )\n",
       "    (bin_loss_fct): BCEWithLogitsLoss()\n",
       "  )\n",
       ")"
      ]
     },
     "execution_count": 40,
     "metadata": {},
     "output_type": "execute_result"
    }
   ],
   "source": [
    "model = EmotionModel(emo_dict, focus_dict, args, df_train, df_val, df_test)\n",
    "model.cuda(args.device)"
   ]
  },
  {
   "cell_type": "code",
   "execution_count": 41,
   "id": "fca09a5e",
   "metadata": {},
   "outputs": [
    {
     "name": "stderr",
     "output_type": "stream",
     "text": [
      "GPU available: True, used: True\n",
      "TPU available: False, using: 0 TPU cores\n",
      "LOCAL_RANK: 0 - CUDA_VISIBLE_DEVICES: [0]\n",
      "\n",
      "  | Name                     | Type                     | Params\n",
      "----------------------------------------------------------------------\n",
      "0 | sentence_embeds_model    | sentence_embeds_model    | 66.4 M\n",
      "1 | context_classifier_model | context_classifier_model | 3.4 M \n",
      "----------------------------------------------------------------------\n",
      "69.8 M    Trainable params\n",
      "0         Non-trainable params\n",
      "69.8 M    Total params\n",
      "279.010   Total estimated model params size (MB)\n"
     ]
    },
    {
     "data": {
      "application/vnd.jupyter.widget-view+json": {
       "model_id": "",
       "version_major": 2,
       "version_minor": 0
      },
      "text/plain": [
       "HBox(children=(HTML(value='Validation sanity check'), FloatProgress(value=1.0, bar_style='info', layout=Layout…"
      ]
     },
     "metadata": {},
     "output_type": "display_data"
    },
    {
     "name": "stderr",
     "output_type": "stream",
     "text": [
      "C:\\Users\\neera\\anaconda3\\envs\\NLP3\\lib\\site-packages\\pytorch_lightning\\utilities\\distributed.py:69: UserWarning: The dataloader, val dataloader 0, does not have many workers which may be a bottleneck. Consider increasing the value of the `num_workers` argument` (try 8 which is the number of cpus on this machine) in the `DataLoader` init to improve performance.\n",
      "  warnings.warn(*args, **kwargs)\n",
      "Global seed set to 42\n"
     ]
    },
    {
     "name": "stdout",
     "output_type": "stream",
     "text": [
      "('preds', array([64,  0,  0], dtype=int64))\n",
      "('labels', array([3, 3, 3], dtype=int64))\n",
      "('tp', array([3, 0, 0], dtype=int64))\n",
      "('fp', array([61,  0,  0], dtype=int64))\n",
      "('fn', array([0, 3, 3], dtype=int64))\n",
      "('acc_per_class', [100.0, 0.0, 0.0])\n",
      "('val_loss', tensor(2.0911, device='cuda:0'))\n",
      "('acc_unweighted', 33.33)\n",
      "('acc_weighted', tensor(35.9100, device='cuda:0'))\n",
      "('microRecall', 33.33)\n",
      "('macroRecall', 33.33)\n",
      "('microPrecision', 4.69)\n",
      "('macroPrecision', 1.56)\n",
      "('microF1_score', 8.222919516044188)\n",
      "('macroF1_score', 2.99)\n"
     ]
    },
    {
     "name": "stderr",
     "output_type": "stream",
     "text": [
      "C:\\Users\\neera\\anaconda3\\envs\\NLP3\\lib\\site-packages\\pytorch_lightning\\utilities\\distributed.py:69: UserWarning: The dataloader, train dataloader, does not have many workers which may be a bottleneck. Consider increasing the value of the `num_workers` argument` (try 8 which is the number of cpus on this machine) in the `DataLoader` init to improve performance.\n",
      "  warnings.warn(*args, **kwargs)\n"
     ]
    },
    {
     "data": {
      "application/vnd.jupyter.widget-view+json": {
       "model_id": "7741501255f244c0a3395d11e381ea3e",
       "version_major": 2,
       "version_minor": 0
      },
      "text/plain": [
       "HBox(children=(HTML(value='Training'), FloatProgress(value=1.0, bar_style='info', layout=Layout(flex='2'), max…"
      ]
     },
     "metadata": {},
     "output_type": "display_data"
    },
    {
     "data": {
      "application/vnd.jupyter.widget-view+json": {
       "model_id": "",
       "version_major": 2,
       "version_minor": 0
      },
      "text/plain": [
       "HBox(children=(HTML(value='Validating'), FloatProgress(value=1.0, bar_style='info', layout=Layout(flex='2'), m…"
      ]
     },
     "metadata": {},
     "output_type": "display_data"
    },
    {
     "name": "stderr",
     "output_type": "stream",
     "text": [
      "Metric valid_loss improved. New best score: 0.672\n"
     ]
    },
    {
     "name": "stdout",
     "output_type": "stream",
     "text": [
      "('preds', array([164, 186, 185], dtype=int64))\n",
      "('labels', array([125, 150, 142], dtype=int64))\n",
      "('tp', array([101, 119, 101], dtype=int64))\n",
      "('fp', array([63, 67, 84], dtype=int64))\n",
      "('fn', array([24, 31, 41], dtype=int64))\n",
      "('acc_per_class', [80.8, 79.33, 71.13])\n",
      "('val_loss', tensor(0.6722, device='cuda:0'))\n",
      "('acc_unweighted', 77.09)\n",
      "('acc_weighted', tensor(77.5700, device='cuda:0'))\n",
      "('microRecall', 76.98)\n",
      "('macroRecall', 77.09)\n",
      "('microPrecision', 60.0)\n",
      "('macroPrecision', 60.05)\n",
      "('microF1_score', 67.43758212877792)\n",
      "('macroF1_score', 67.5)\n"
     ]
    },
    {
     "data": {
      "application/vnd.jupyter.widget-view+json": {
       "model_id": "",
       "version_major": 2,
       "version_minor": 0
      },
      "text/plain": [
       "HBox(children=(HTML(value='Validating'), FloatProgress(value=1.0, bar_style='info', layout=Layout(flex='2'), m…"
      ]
     },
     "metadata": {},
     "output_type": "display_data"
    },
    {
     "name": "stderr",
     "output_type": "stream",
     "text": [
      "Metric valid_loss improved by 0.112 >= min_delta = 5e-05. New best score: 0.561\n"
     ]
    },
    {
     "name": "stdout",
     "output_type": "stream",
     "text": [
      "('preds', array([140, 213, 183], dtype=int64))\n",
      "('labels', array([125, 150, 142], dtype=int64))\n",
      "('tp', array([100, 126, 106], dtype=int64))\n",
      "('fp', array([40, 87, 77], dtype=int64))\n",
      "('fn', array([25, 24, 36], dtype=int64))\n",
      "('acc_per_class', [80.0, 84.0, 74.65])\n",
      "('val_loss', tensor(0.5606, device='cuda:0'))\n",
      "('acc_unweighted', 79.55)\n",
      "('acc_weighted', tensor(79.9600, device='cuda:0'))\n",
      "('microRecall', 79.62)\n",
      "('macroRecall', 79.55)\n",
      "('microPrecision', 61.94)\n",
      "('macroPrecision', 62.83)\n",
      "('microF1_score', 69.67593670528397)\n",
      "('macroF1_score', 70.04)\n",
      "\n"
     ]
    }
   ],
   "source": [
    "early_stop_callback = pl.callbacks.EarlyStopping(monitor='valid_loss', min_delta=0.00005, patience=3,\n",
    "                                        verbose=True, mode='min')\n",
    "\n",
    "checkpoint_callback = pl.callbacks.ModelCheckpoint( monitor='valid_loss' , mode = 'min')\n",
    "\n",
    "#import IPython; IPython.embed();  exit(1)\n",
    "gpu_list = [int(args.gpu)]  \n",
    "trainer = pl.Trainer(default_root_dir=os.getcwd(),\n",
    "                gpus=(gpu_list if torch.cuda.is_available() else 0),\n",
    "                max_epochs= args.epochs,\n",
    "                fast_dev_run=False,\n",
    "                deterministic=True,\n",
    "                callbacks = [early_stop_callback,checkpoint_callback] ,\n",
    "                )\n",
    "trainer.fit(model)\n",
    "    "
   ]
  },
  {
   "cell_type": "code",
   "execution_count": 42,
   "id": "e490f21a",
   "metadata": {},
   "outputs": [
    {
     "name": "stderr",
     "output_type": "stream",
     "text": [
      "LOCAL_RANK: 0 - CUDA_VISIBLE_DEVICES: [0]\n",
      "C:\\Users\\neera\\anaconda3\\envs\\NLP3\\lib\\site-packages\\pytorch_lightning\\utilities\\distributed.py:69: UserWarning: The dataloader, test dataloader 0, does not have many workers which may be a bottleneck. Consider increasing the value of the `num_workers` argument` (try 8 which is the number of cpus on this machine) in the `DataLoader` init to improve performance.\n",
      "  warnings.warn(*args, **kwargs)\n"
     ]
    },
    {
     "data": {
      "application/vnd.jupyter.widget-view+json": {
       "model_id": "5de22b6dbfc24e498533df15f9712e25",
       "version_major": 2,
       "version_minor": 0
      },
      "text/plain": [
       "HBox(children=(HTML(value='Testing'), FloatProgress(value=1.0, bar_style='info', layout=Layout(flex='2'), max=…"
      ]
     },
     "metadata": {},
     "output_type": "display_data"
    },
    {
     "name": "stdout",
     "output_type": "stream",
     "text": [
      "('preds', array([309, 388, 362], dtype=int64))\n",
      "('labels', array([250, 298, 284], dtype=int64))\n",
      "('tp', array([213, 254, 218], dtype=int64))\n",
      "('fp', array([ 96, 134, 144], dtype=int64))\n",
      "('fn', array([37, 44, 66], dtype=int64))\n",
      "('acc_per_class', [85.2, 85.23, 76.76])\n",
      "('val_loss', tensor(0.5217, device='cuda:0'))\n",
      "('acc_unweighted', 82.4)\n",
      "('acc_weighted', tensor(82.8600, device='cuda:0'))\n",
      "('microRecall', 82.33)\n",
      "('macroRecall', 82.4)\n",
      "('microPrecision', 64.68)\n",
      "('macroPrecision', 64.87)\n",
      "('microF1_score', 72.44547173661657)\n",
      "('macroF1_score', 72.58)\n",
      "\n",
      "--------------------------------------------------------------------------------\n",
      "DATALOADER:0 TEST RESULTS\n",
      "{'microRecall': 82.33,\n",
      " 'valid_ac_unweighted': 82.4,\n",
      " 'valid_loss': 0.5217400193214417}\n",
      "--------------------------------------------------------------------------------\n"
     ]
    },
    {
     "data": {
      "text/plain": [
       "[{'valid_loss': 0.5217400193214417,\n",
       "  'valid_ac_unweighted': 82.4,\n",
       "  'microRecall': 82.33}]"
      ]
     },
     "execution_count": 42,
     "metadata": {},
     "output_type": "execute_result"
    }
   ],
   "source": [
    "trainer.test()"
   ]
  },
  {
   "cell_type": "code",
   "execution_count": null,
   "id": "2494cf5a",
   "metadata": {},
   "outputs": [],
   "source": []
  },
  {
   "cell_type": "code",
   "execution_count": null,
   "id": "2b351c91",
   "metadata": {},
   "outputs": [],
   "source": []
  },
  {
   "cell_type": "code",
   "execution_count": null,
   "id": "5bb70e0b",
   "metadata": {},
   "outputs": [],
   "source": []
  },
  {
   "cell_type": "code",
   "execution_count": null,
   "id": "75c60b5f",
   "metadata": {},
   "outputs": [],
   "source": []
  }
 ],
 "metadata": {
  "kernelspec": {
   "display_name": "Python 3",
   "language": "python",
   "name": "python3"
  },
  "language_info": {
   "codemirror_mode": {
    "name": "ipython",
    "version": 3
   },
   "file_extension": ".py",
   "mimetype": "text/x-python",
   "name": "python",
   "nbconvert_exporter": "python",
   "pygments_lexer": "ipython3",
   "version": "3.8.5"
  }
 },
 "nbformat": 4,
 "nbformat_minor": 5
}
