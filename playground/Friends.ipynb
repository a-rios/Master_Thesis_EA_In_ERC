{
 "cells": [
  {
   "cell_type": "markdown",
   "id": "336ab203",
   "metadata": {},
   "source": [
    "# Problem Statement\n",
    "\n",
    "\n",
    "\n",
    "\n",
    "\n",
    "ERC is a task that aims at predicting emotion of each utterance in a conversation. The following is an excerpt of a conversation with each utterance tagged with corresponding emotion and sentiment label.\n",
    "\n",
    "![alt text](example.jpg \"Title\")\n"
   ]
  },
  {
   "cell_type": "markdown",
   "id": "b35a5e6e",
   "metadata": {},
   "source": [
    "# Hierarchical Transformer Network for Utterance-Level Emotion Recognition\n",
    "This is the Pytorch implementation Utterance-level Emotion Recognition [paper](https://arxiv.org/ftp/arxiv/papers/2002/2002.07551.pdf)"
   ]
  },
  {
   "cell_type": "markdown",
   "id": "c7e765fd",
   "metadata": {},
   "source": [
    "Overview\n",
    "Though predicting the emotion of a single utterance or sentence, i.e. emotion detection, is a well discussed subject in natural language understanding literature, EmoContext has several novel challenges. In this paper, we address four challenges in utterance-level emotion recognition in dialogue systems:\n",
    "\n",
    "- Emotion depend on the context of previous utterances in the dialogue\n",
    "\n",
    "- long-range contextual information is hard to be effectively captured;\n",
    "\n",
    "- Datasets are quite small.\n",
    "\n",
    "- the class distribution of training data is significantly different from that of the test data. Consequently, a model trained on the training data might not perform well on the test data.\n",
    "\n",
    "- We propose a hierarchical transformer framework with a lower-level transformer to model the word-level inputs and an upper-level transformer to capture the contexts of utterance-level embeddings."
   ]
  },
  {
   "cell_type": "markdown",
   "id": "af6ce2e0",
   "metadata": {},
   "source": [
    "# Dataset\n",
    "Dataset includes the training data set consisting of 720 dialogues, and two evaluation data sets, Dev and Test, containing\n",
    "80 and 200 dialogues respectively. The Training, validation and test datasets are json files containing following information :\n",
    "\n",
    " - Speaker - Identifies the speaker of utterance\n",
    " - Utterance -  The textual content of the utterance.\n",
    " - Emotion - Emotion labels for each utterance\n",
    " - Annotation - The annotation string contains the raw count of votes for each emotion by the annotators. The order of the emotions in the string is [neutral, joy, sadness, fear, anger,  surprise, disgust]. For example, string \"2000030\" denotes that two annotators voted for \"neutral\", and three voted for \"surprise\". Note that the sum of the votes is always five, since the dialogues were annotated by five annotators.\n",
    "\n",
    "Dataset stattistics:\n",
    "\n",
    "\n",
    "| Statistics | Train | Dev | Test | \n",
    "| :-| :- | :- | :- | \n",
    "| # of Dialogues | 720 | 80 |200 | \n",
    "| # of Utterances | 10561 | 1178 |2764 | \n",
    "| Min number of Utterances per dialogue| 5 | 5 |5 | \n",
    "| Max number of Utterances per dialogue| 24 | 24 |24 | \n",
    "| Average number of Utterances per dialogue| 14.67 | 14.72 |13.82 | \n",
    "| Min Utterance length | 1 | 1 |1 | \n",
    "| Max Utterance length | 69 | 37 |45 | \n",
    "| Average Utterance length | 7.79 | 7.7 |8.02 | \n",
    "\n",
    "\n",
    "\n",
    "    \n",
    "    "
   ]
  },
  {
   "cell_type": "code",
   "execution_count": 3,
   "id": "ef567f05",
   "metadata": {},
   "outputs": [],
   "source": [
    "import torch\n",
    "import os\n",
    "import random\n",
    "import pandas as pd\n",
    "import functools\n",
    "import time\n",
    "import math\n",
    "import argparse\n",
    "import json\n",
    "import matplotlib\n",
    "import matplotlib.patches as patches\n",
    "\n",
    "from torch.utils.data import TensorDataset, DataLoader\n",
    "from torch.utils.data.distributed import DistributedSampler\n",
    "import torch.nn.functional as F\n",
    "from torch.utils.data import Dataset, DataLoader\n",
    "\n",
    "from ipywidgets import interact\n",
    "import numpy as np\n",
    "import seaborn as sns\n",
    "from pylab import rcParams\n",
    "import matplotlib.pyplot as plt\n",
    "from matplotlib import rc\n",
    "\n",
    "from transformers import DistilBertModel, DistilBertForSequenceClassification, DistilBertConfig, DistilBertTokenizer\n",
    "\n",
    "from collections import defaultdict\n",
    "\n",
    "import pytorch_lightning as pl\n",
    "from pytorch_lightning import seed_everything\n",
    "from sklearn.preprocessing import OneHotEncoder\n",
    "\n",
    "from tabulate import tabulate\n",
    "from bs4 import BeautifulSoup\n",
    "import unidecode\n",
    "from tqdm import tqdm\n",
    "import re, string, json\n",
    "from symspellpy.symspellpy import SymSpell, Verbosity\n",
    "import pkg_resources\n",
    "import spacy\n",
    "import nltk\n",
    "from collections import Counter"
   ]
  },
  {
   "cell_type": "code",
   "execution_count": 4,
   "id": "7c6c2371",
   "metadata": {},
   "outputs": [],
   "source": [
    "def get_args():\n",
    "    \"\"\"\n",
    "        returns the Parser args\n",
    "    \"\"\"\n",
    "    root_dir = os.getcwd()  \n",
    "    parser = argparse.ArgumentParser()\n",
    "    parser.add_argument('--batch_size', type=int, default=1)\n",
    "    parser.add_argument('--projection_size', type=int, default=200)\n",
    "    parser.add_argument('--n_layers', type=int, default=2)\n",
    "    parser.add_argument('--dropout', type=float, default=0.1)\n",
    "    parser.add_argument('--lr', type=float, default=2e-5)\n",
    "    parser.add_argument('--bert_lr', type=float, default=1e-5)\n",
    "    parser.add_argument('--layerwise_decay', default=0.95, type=float,  \n",
    "                    help='layerwise decay factor for the learning rate of the pretrained DistilBert')\n",
    "    \n",
    "    \n",
    "    parser.add_argument('--weight_decay', type=float, default=1e-5)\n",
    "    parser.add_argument('--max_grad_norm', type=float, default=1.0)\n",
    "    parser.add_argument('--epochs', type=int, default=2,\n",
    "                        help='number of total epochs to run')\n",
    "    parser.add_argument('--max_seq_len', type=int, default=35   )\n",
    "   \n",
    "    parser.add_argument('--alpha', type=float, default=0.95)\n",
    "    parser.add_argument('--seed', type=int, default=123,\n",
    "                       help='seed for initializing training')\n",
    "    parser.add_argument('--device', type=int, default=0)\n",
    "\n",
    "    parser.add_argument('--evaluate', action='store_true')\n",
    "    parser.add_argument('--gpu', type=str, default='0',\t\t# Spcify the GPU for training\n",
    "                        help='gpu: default 0')\n",
    "    parser.add_argument('--emoset', type=str, default = 'emorynlp',\n",
    "                        help = 'Emotion Training Set Name')\n",
    "    parser.add_argument('--speaker_embedding',  action=\"store_true\",\n",
    "                        help = 'Enable Speaker Embedding')\n",
    "    args = parser.parse_args(args=['--speaker_embedding', '--emoset', 'friends'])\n",
    "    return args"
   ]
  },
  {
   "cell_type": "code",
   "execution_count": 5,
   "id": "dd684c50",
   "metadata": {},
   "outputs": [
    {
     "name": "stdout",
     "output_type": "stream",
     "text": [
      "Namespace(alpha=0.95, batch_size=1, bert_lr=1e-05, device=0, dropout=0.1, emoset='friends', epochs=2, evaluate=False, gpu='0', layerwise_decay=0.95, lr=2e-05, max_grad_norm=1.0, max_seq_len=35, n_layers=2, projection_size=200, seed=123, speaker_embedding=True, weight_decay=1e-05) \n",
      "\n"
     ]
    }
   ],
   "source": [
    "args = get_args()\n",
    "print(args, '\\n')\n",
    "args.emoset = args.emoset.lower()\n",
    "assert args.emoset  in ['emorynlp', 'emotionpush', 'friends','semeval']\n",
    "if args.emoset == 'semeval':\n",
    "    args.speaker_embedding = False \n",
    "\n",
    "if not args.emoset == 'semeval':\n",
    "    args.batch_size = 1\n",
    "pd.options.display.max_seq_items = 500\n",
    "np.set_printoptions(threshold=500)"
   ]
  },
  {
   "cell_type": "markdown",
   "id": "7c5a9653",
   "metadata": {},
   "source": [
    "### Set the seed for deterministic behavior"
   ]
  },
  {
   "cell_type": "code",
   "execution_count": 6,
   "id": "b656c9c7",
   "metadata": {},
   "outputs": [
    {
     "name": "stderr",
     "output_type": "stream",
     "text": [
      "Global seed set to 42\n"
     ]
    },
    {
     "data": {
      "text/plain": [
       "42"
      ]
     },
     "execution_count": 6,
     "metadata": {},
     "output_type": "execute_result"
    }
   ],
   "source": [
    "seed = args.seed\n",
    "random.seed(seed)\n",
    "np.random.seed(seed)\n",
    "torch.manual_seed(seed)\n",
    "torch.cuda.manual_seed(seed)\n",
    "torch.backends.cudnn.deterministic = True\n",
    "seed_everything(42, workers=True)"
   ]
  },
  {
   "cell_type": "markdown",
   "id": "aab13804",
   "metadata": {},
   "source": [
    "### Set cuda device"
   ]
  },
  {
   "cell_type": "code",
   "execution_count": 7,
   "id": "a60c743b",
   "metadata": {},
   "outputs": [
    {
     "name": "stdout",
     "output_type": "stream",
     "text": [
      "Args.device = cuda:0\n"
     ]
    }
   ],
   "source": [
    "device = torch.device(\"cuda:{}\".format(int(args.gpu)) if torch.cuda.is_available() else \"cpu\")\n",
    "args.device = device\n",
    "print('Args.device = {}'.format(args.device))"
   ]
  },
  {
   "cell_type": "code",
   "execution_count": 8,
   "id": "fdd6d4e7",
   "metadata": {},
   "outputs": [],
   "source": [
    "sns.set(style='whitegrid', palette='muted', font_scale=1.2)\n",
    "HAPPY_COLORS_PALETTE = [\"#01BEFE\", \"#FFDD00\", \"#FF7D00\", \"#FF006D\", \"#ADFF02\", \"#8F00FF\"]\n",
    "sns.set_palette(sns.color_palette(HAPPY_COLORS_PALETTE))\n",
    "rcParams['figure.figsize'] = 12, 8"
   ]
  },
  {
   "cell_type": "markdown",
   "id": "03dd8b4f",
   "metadata": {},
   "source": [
    "# Read Dataset CSV Files"
   ]
  },
  {
   "cell_type": "code",
   "execution_count": 9,
   "id": "2dcd594d",
   "metadata": {},
   "outputs": [],
   "source": [
    "'''\n",
    "  Create Pandas Dataframe from EmoryNLP Dataset Json Files\n",
    "  Parameters\n",
    "    ----------\n",
    "    Data : Json File \n",
    "        Json File containing Train/Val/Test Data\n",
    "    Column_list : Python List\n",
    "        Column list for the created dataframe    \n",
    "    Returns\n",
    "    -------\n",
    "   df: Pandas Dataframe\n",
    "'''\n",
    "\n",
    "def create_df_emorynlp(data, column_list):\n",
    "    df = pd.DataFrame(columns = column_list)\n",
    "    dialogue_idx = 0\n",
    "    episode_idx = 0\n",
    "    for episode in data['episodes']:\n",
    "        scenes = episode['scenes']\n",
    "        for i in range(len(scenes)):\n",
    "            for j in range(len(scenes[i]['utterances'])):\n",
    "                df2 = pd.DataFrame([[dialogue_idx, scenes[i]['utterances'][j]['transcript'] , scenes[i]['utterances'][j]['speakers'][0], len(scenes[i]['utterances'][j]['transcript'].split()), scenes[i]['utterances'][j]['emotion'].lower() ]], columns = column_list)\n",
    "                df = df.append(df2, ignore_index=True)\n",
    "            dialogue_idx += 1\n",
    "        episode_idx = episode_idx+1\n",
    "    return df\n",
    "\n",
    "'''\n",
    "  Create Pandas Dataframe from Friends/EmotionPush Dataset Json Files\n",
    "   Parameters\n",
    "    ----------\n",
    "    Data : Json File \n",
    "        Json File containing Train/Val/Test Data\n",
    "    Column_list : Python List\n",
    "        Column list for the created dataframe    \n",
    "    Returns\n",
    "    -------\n",
    "   df: Pandas Dataframe\n",
    "'''\n",
    "def create_df_friends(data, column_list):\n",
    "    df = pd.DataFrame(columns = column_list)\n",
    "    dialogue_idx = 0\n",
    "    for dialog in data:\n",
    "        for utter in dialog:\n",
    "            df2 = pd.DataFrame([[dialogue_idx, utter['utterance'], utter['speaker'], len(utter['utterance'].split()), utter['emotion'].lower() ]], columns = column_list)\n",
    "            df = df.append(df2, ignore_index=True)\n",
    "        dialogue_idx += 1\n",
    "        if dialogue_idx == 20000:\n",
    "            break\n",
    "    return df\n",
    "\n",
    "def create_df(data, emoset):\n",
    "    column_list = list(('dialogue_id', 'utterance', 'speaker','utterance_len', 'label'))\n",
    "    if emoset == 'emorynlp':\n",
    "        df=  create_df_emorynlp(data, column_list)\n",
    "    elif emoset == 'friends' or emoset == 'emotionpush':\n",
    "        df = create_df_friends(data, column_list)\n",
    "     \n",
    "    return df\n",
    "\n",
    "'''\n",
    "  Create Pandas Dataframe for Train, Validation and Test Data from Dataset Json Files\n",
    "  \n",
    "'''\n",
    "def load_df(args):\n",
    "    \n",
    "    if args.emoset == 'emorynlp':\n",
    "        print('Creating Training/Val/Test Dataframesfor EmoryNLP Dataset')\n",
    "        train_path = '../data/EmoryNLP/json/emotion-detection-trn.json'\n",
    "        val_path = '../data/EmoryNLP/json/emotion-detection-dev.json'\n",
    "        test_path = '../data/EmoryNLP/json/emotion-detection-tst.json'\n",
    "    elif  args.emoset == 'emotionpush':\n",
    "        print('Creating Training/Val/Test Dataframesfor EmotionPush Dataset')\n",
    "        train_path = '../data/Emotionpush/emotionpush.train.json'\n",
    "        val_path =   '../data/Emotionpush/emotionpush.dev.json'\n",
    "        test_path =  '../data/Emotionpush/emotionpush.test.json'\n",
    "    elif  args.emoset == 'friends': \n",
    "        print('Creating Training/Val/Test Dataframesfor Friends Dataset')\n",
    "        train_path = '../data/Friends/friends.train.json'\n",
    "        val_path = '../data/Friends/friends.dev.json'\n",
    "        test_path = '../data/Friends/friends.test.json'\n",
    "    else:\n",
    "        print('Creating Training/Val/Test Dataframesfor Semeval Dataset')\n",
    "        train_path = '../data/clean_train.txt'\n",
    "        val_path = '../data/clean_val.txt'\n",
    "        test_path = '../data/clean_test.txt'\n",
    "\n",
    "    if not args.emoset == 'semeval':\n",
    "        with open(train_path, encoding='utf-8') as data_file:\n",
    "            train_json = json.loads(data_file.read())\n",
    "        \n",
    "        with open(val_path, encoding='utf-8') as data_file:\n",
    "            val_json = json.loads(data_file.read())\n",
    "        \n",
    "        with open(test_path, encoding='utf-8') as data_file:\n",
    "            test_json = json.loads(data_file.read())\n",
    "        \n",
    "        df_train = create_df(train_json, args.emoset)\n",
    "        df_val = create_df(val_json,  args.emoset)       \n",
    "        df_test = create_df(test_json,  args.emoset) \n",
    "    else:\n",
    "        df_train = pd.read_csv(train_path, delimiter='\\t', index_col='id')\n",
    "        df_val =  pd.read_csv(val_path, delimiter='\\t', index_col='id')    \n",
    "        df_test = pd.read_csv(test_path, delimiter='\\t', index_col='id')\n",
    "                \n",
    "    return (df_train, df_val, df_test)\n",
    "    "
   ]
  },
  {
   "cell_type": "code",
   "execution_count": 10,
   "id": "cd36df11",
   "metadata": {},
   "outputs": [
    {
     "name": "stdout",
     "output_type": "stream",
     "text": [
      "Creating Training/Val/Test Dataframesfor Friends Dataset\n"
     ]
    }
   ],
   "source": [
    "(df_train, df_val, df_test)  = load_df(args)   "
   ]
  },
  {
   "cell_type": "code",
   "execution_count": 20,
   "id": "9337fdc0",
   "metadata": {},
   "outputs": [
    {
     "data": {
      "text/html": [
       "<div>\n",
       "<style scoped>\n",
       "    .dataframe tbody tr th:only-of-type {\n",
       "        vertical-align: middle;\n",
       "    }\n",
       "\n",
       "    .dataframe tbody tr th {\n",
       "        vertical-align: top;\n",
       "    }\n",
       "\n",
       "    .dataframe thead th {\n",
       "        text-align: right;\n",
       "    }\n",
       "</style>\n",
       "<table border=\"1\" class=\"dataframe\">\n",
       "  <thead>\n",
       "    <tr style=\"text-align: right;\">\n",
       "      <th></th>\n",
       "      <th>dialogue_id</th>\n",
       "      <th>utterance</th>\n",
       "      <th>speaker</th>\n",
       "      <th>utterance_len</th>\n",
       "      <th>label</th>\n",
       "    </tr>\n",
       "  </thead>\n",
       "  <tbody>\n",
       "    <tr>\n",
       "      <th>0</th>\n",
       "      <td>0</td>\n",
       "      <td>also I was the point person on my company's tr...</td>\n",
       "      <td>Chandler</td>\n",
       "      <td>16</td>\n",
       "      <td>neutral</td>\n",
       "    </tr>\n",
       "    <tr>\n",
       "      <th>1</th>\n",
       "      <td>0</td>\n",
       "      <td>You must've had your hands full.</td>\n",
       "      <td>The Interviewer</td>\n",
       "      <td>6</td>\n",
       "      <td>neutral</td>\n",
       "    </tr>\n",
       "    <tr>\n",
       "      <th>2</th>\n",
       "      <td>0</td>\n",
       "      <td>That I did. That I did.</td>\n",
       "      <td>Chandler</td>\n",
       "      <td>6</td>\n",
       "      <td>neutral</td>\n",
       "    </tr>\n",
       "    <tr>\n",
       "      <th>3</th>\n",
       "      <td>0</td>\n",
       "      <td>So let's talk a little bit about your duties.</td>\n",
       "      <td>The Interviewer</td>\n",
       "      <td>9</td>\n",
       "      <td>neutral</td>\n",
       "    </tr>\n",
       "    <tr>\n",
       "      <th>4</th>\n",
       "      <td>0</td>\n",
       "      <td>My duties?  All right.</td>\n",
       "      <td>Chandler</td>\n",
       "      <td>4</td>\n",
       "      <td>surprise</td>\n",
       "    </tr>\n",
       "    <tr>\n",
       "      <th>...</th>\n",
       "      <td>...</td>\n",
       "      <td>...</td>\n",
       "      <td>...</td>\n",
       "      <td>...</td>\n",
       "      <td>...</td>\n",
       "    </tr>\n",
       "    <tr>\n",
       "      <th>10556</th>\n",
       "      <td>719</td>\n",
       "      <td>You or me?</td>\n",
       "      <td>Chandler</td>\n",
       "      <td>3</td>\n",
       "      <td>neutral</td>\n",
       "    </tr>\n",
       "    <tr>\n",
       "      <th>10557</th>\n",
       "      <td>719</td>\n",
       "      <td>I got it. Uh, Joey, women don't have Adam's ap...</td>\n",
       "      <td>Ross</td>\n",
       "      <td>10</td>\n",
       "      <td>non-neutral</td>\n",
       "    </tr>\n",
       "    <tr>\n",
       "      <th>10558</th>\n",
       "      <td>719</td>\n",
       "      <td>You guys are messing with me, right?</td>\n",
       "      <td>Joey</td>\n",
       "      <td>7</td>\n",
       "      <td>surprise</td>\n",
       "    </tr>\n",
       "    <tr>\n",
       "      <th>10559</th>\n",
       "      <td>719</td>\n",
       "      <td>Yeah.</td>\n",
       "      <td>All</td>\n",
       "      <td>1</td>\n",
       "      <td>neutral</td>\n",
       "    </tr>\n",
       "    <tr>\n",
       "      <th>10560</th>\n",
       "      <td>719</td>\n",
       "      <td>That was a good one. For a second there, I was...</td>\n",
       "      <td>Joey</td>\n",
       "      <td>13</td>\n",
       "      <td>non-neutral</td>\n",
       "    </tr>\n",
       "  </tbody>\n",
       "</table>\n",
       "<p>10561 rows × 5 columns</p>\n",
       "</div>"
      ],
      "text/plain": [
       "      dialogue_id                                          utterance  \\\n",
       "0               0  also I was the point person on my company's tr...   \n",
       "1               0                   You must've had your hands full.   \n",
       "2               0                            That I did. That I did.   \n",
       "3               0      So let's talk a little bit about your duties.   \n",
       "4               0                             My duties?  All right.   \n",
       "...           ...                                                ...   \n",
       "10556         719                                         You or me?   \n",
       "10557         719  I got it. Uh, Joey, women don't have Adam's ap...   \n",
       "10558         719               You guys are messing with me, right?   \n",
       "10559         719                                              Yeah.   \n",
       "10560         719  That was a good one. For a second there, I was...   \n",
       "\n",
       "               speaker utterance_len        label  \n",
       "0             Chandler            16      neutral  \n",
       "1      The Interviewer             6      neutral  \n",
       "2             Chandler             6      neutral  \n",
       "3      The Interviewer             9      neutral  \n",
       "4             Chandler             4     surprise  \n",
       "...                ...           ...          ...  \n",
       "10556         Chandler             3      neutral  \n",
       "10557             Ross            10  non-neutral  \n",
       "10558             Joey             7     surprise  \n",
       "10559              All             1      neutral  \n",
       "10560             Joey            13  non-neutral  \n",
       "\n",
       "[10561 rows x 5 columns]"
      ]
     },
     "execution_count": 20,
     "metadata": {},
     "output_type": "execute_result"
    }
   ],
   "source": [
    "df_train"
   ]
  },
  {
   "cell_type": "markdown",
   "id": "03307de1",
   "metadata": {},
   "source": [
    "### We define 2 set of dictionaries\n",
    "- emodict : Enumerate the emotions present in the dataset\n",
    "- focus_dict : Enumerate the smaller subset of emotions that we want to focus on\n",
    "\n",
    "For EmotionPush Dataset, we train the model to learn 4 emotions('neutral', 'sadness', 'anger', 'joy') out of 8 present in the dataset"
   ]
  },
  {
   "cell_type": "code",
   "execution_count": 19,
   "id": "7a13fe2b",
   "metadata": {},
   "outputs": [
    {
     "name": "stdout",
     "output_type": "stream",
     "text": [
      "Emotion Mapping {'neutral': 0, 'sadness': 1, 'anger': 2, 'joy': 3, 'non-neutral': 4, 'surprise': 5, 'fear': 6, 'disgust': 7}\n",
      "Focus Emotion ['neutral', 'sadness', 'anger', 'joy']\n",
      "Emotion Label Distribution in Training Set {'neutral': 4752, 'sadness': 351, 'anger': 513, 'joy': 1283, 'non-neutral': 2017, 'surprise': 1220, 'fear': 185, 'disgust': 240}\n",
      "Emotion Label Distribution in Validation Set {'neutral': 491, 'sadness': 62, 'anger': 85, 'joy': 123, 'non-neutral': 214, 'surprise': 151, 'fear': 29, 'disgust': 23}\n",
      "Emotion Label Distribution in Test Set {'neutral': 1287, 'sadness': 85, 'anger': 161, 'joy': 304, 'non-neutral': 541, 'surprise': 286, 'fear': 32, 'disgust': 68}\n"
     ]
    }
   ],
   "source": [
    "if args.emoset == 'emorynlp':\n",
    "    emo_dict= {'neutral': 0, 'sad': 1, 'mad':2, 'joyful':3, 'peaceful':4,'powerful':5, 'scared':6}\n",
    "    focus_dict = ['neutral', 'sad', 'mad', 'joyful', 'peaceful', 'powerful', 'scared']\n",
    "    sentiment_dict = {'neutral': 0, 'sad': 1, 'mad':1, 'joyful':2, 'peaceful':2,'powerful':1, 'scared':1}\n",
    "elif args.emoset == 'friends':\n",
    "    emo_dict = {'neutral': 0, 'sadness': 1, 'anger':2, 'joy':3, 'non-neutral':4,'surprise':5, 'fear':6, 'disgust':7}\n",
    "    focus_dict = ['neutral', 'sadness', 'anger', 'joy']\n",
    "    sentiment_dict = {'neutral': 0, 'sadness': 1, 'anger':1, 'joy':2, 'non-neutral':1, 'surprise':1,'fear':1, 'disgust':1}\n",
    "elif args.emoset == 'emotionpush':\n",
    "    emo_dict = {'neutral': 0, 'sadness': 1, 'anger':2, 'joy':3, 'non-neutral':4,'surprise':5, 'fear':6, 'disgust':7}\n",
    "    focus_dict = ['neutral', 'sadness', 'anger', 'joy']\n",
    "    sentiment_dict = {'neutral': 0, 'sadness': 1, 'anger':1, 'joy':2, 'non-neutral':1, 'peaceful':2,'powerful':1, 'scared':1}\n",
    "elif args.emoset == 'semeval':\n",
    "    emo_dict = {'others': 0, 'sad': 1, 'angry':2, 'happy':3}\n",
    "    focus_dict = ['sad', 'angry', 'happy']\n",
    "    sentiment_dict = {'others': 0, 'sad': 1, 'angry':1, 'happy':2}\n",
    "print('Emotion Mapping {}'.format(emo_dict))\n",
    "print('Focus Emotion {}'.format(focus_dict))\n",
    "emo_count = {}\n",
    "for emo in emo_dict.keys():\n",
    "        emo_count[emo] =df_train['label'].value_counts()[emo]\n",
    "print('Emotion Label Distribution in Training Set {}'.format(emo_count))\n",
    "\n",
    "emo_count = {}\n",
    "for emo in emo_dict.keys():\n",
    "        emo_count[emo] =df_val['label'].value_counts()[emo]\n",
    "print('Emotion Label Distribution in Validation Set {}'.format(emo_count))\n",
    "emo_count = {}\n",
    "for emo in emo_dict.keys():\n",
    "    emo_count[emo] =df_test['label'].value_counts()[emo]\n",
    "print('Emotion Label Distribution in Test Set {}'.format(emo_count))"
   ]
  },
  {
   "cell_type": "markdown",
   "id": "9213a2bc",
   "metadata": {},
   "source": [
    "#  Number of Dialogues in Training and Evaluation Sets"
   ]
  },
  {
   "cell_type": "code",
   "execution_count": 11,
   "id": "80d064c5",
   "metadata": {},
   "outputs": [
    {
     "data": {
      "text/plain": [
       "(720, 80, 200)"
      ]
     },
     "execution_count": 11,
     "metadata": {},
     "output_type": "execute_result"
    }
   ],
   "source": [
    "len(df_train['dialogue_id'].unique()), len(df_val['dialogue_id'].unique()), len(df_test['dialogue_id'].unique())"
   ]
  },
  {
   "cell_type": "markdown",
   "id": "ac959a52",
   "metadata": {},
   "source": [
    "#  Number of utterances in Training and Evaluation Sets"
   ]
  },
  {
   "cell_type": "code",
   "execution_count": 13,
   "id": "d1b83ff5",
   "metadata": {},
   "outputs": [
    {
     "data": {
      "text/plain": [
       "(10561, 1178, 2764)"
      ]
     },
     "execution_count": 13,
     "metadata": {},
     "output_type": "execute_result"
    }
   ],
   "source": [
    "df_train.shape[0], df_val.shape[0], df_test.shape[0]"
   ]
  },
  {
   "cell_type": "code",
   "execution_count": 14,
   "id": "38a6e420",
   "metadata": {
    "scrolled": true
   },
   "outputs": [
    {
     "name": "stdout",
     "output_type": "stream",
     "text": [
      "<class 'pandas.core.frame.DataFrame'>\n",
      "RangeIndex: 10561 entries, 0 to 10560\n",
      "Data columns (total 5 columns):\n",
      " #   Column         Non-Null Count  Dtype \n",
      "---  ------         --------------  ----- \n",
      " 0   dialogue_id    10561 non-null  object\n",
      " 1   utterance      10561 non-null  object\n",
      " 2   speaker        10561 non-null  object\n",
      " 3   utterance_len  10561 non-null  object\n",
      " 4   label          10561 non-null  object\n",
      "dtypes: object(5)\n",
      "memory usage: 412.7+ KB\n"
     ]
    }
   ],
   "source": [
    "df_train.info()"
   ]
  },
  {
   "cell_type": "code",
   "execution_count": 20,
   "id": "b02005d3",
   "metadata": {
    "scrolled": true
   },
   "outputs": [
    {
     "data": {
      "text/plain": [
       "(neutral        4752\n",
       " non-neutral    2017\n",
       " joy            1283\n",
       " surprise       1220\n",
       " anger           513\n",
       " sadness         351\n",
       " disgust         240\n",
       " fear            185\n",
       " Name: label, dtype: int64,\n",
       " neutral        491\n",
       " non-neutral    214\n",
       " surprise       151\n",
       " joy            123\n",
       " anger           85\n",
       " sadness         62\n",
       " fear            29\n",
       " disgust         23\n",
       " Name: label, dtype: int64,\n",
       " neutral        1287\n",
       " non-neutral     541\n",
       " joy             304\n",
       " surprise        286\n",
       " anger           161\n",
       " sadness          85\n",
       " disgust          68\n",
       " fear             32\n",
       " Name: label, dtype: int64)"
      ]
     },
     "execution_count": 20,
     "metadata": {},
     "output_type": "execute_result"
    }
   ],
   "source": [
    "df_train['label'].value_counts(), df_val['label'].value_counts(), df_test['label'].value_counts()"
   ]
  },
  {
   "cell_type": "markdown",
   "id": "d0c44b82",
   "metadata": {},
   "source": [
    "#  Comparison of class distribution in Training vs Evaluation data sets\n",
    "\n",
    "| Emotion | Neutral | Sad | Anger(Mad) | Joy | Peaceful | Powerful | Scared| # |\n",
    "| :-: | :-: | :-: | :-: | :-: | :-: | :-: | :-: | :-: |\n",
    "| Train | 3034 |671 | 1076| 2184|900 |784 | 1285| 9934|\n",
    "| Dev | 393 |75 | 143| 289|132 |134 | 178| 1344|\n",
    "| Test | 349 |98 | 113| 282|159 |145 | 182| 1328|"
   ]
  },
  {
   "cell_type": "code",
   "execution_count": 16,
   "id": "bd2f37e0",
   "metadata": {},
   "outputs": [],
   "source": [
    "data = [df_train['label'], df_val['label'], df_test['label']]\n",
    "columns=list(('Training', 'Validation', 'Test'))\n",
    "df_labels = pd.concat(data, axis=1, keys=columns)"
   ]
  },
  {
   "cell_type": "code",
   "execution_count": 17,
   "id": "b4213cc1",
   "metadata": {},
   "outputs": [
    {
     "data": {
      "text/plain": [
       "{'anger',\n",
       " 'disgust',\n",
       " 'fear',\n",
       " 'joy',\n",
       " 'neutral',\n",
       " 'non-neutral',\n",
       " 'sadness',\n",
       " 'surprise'}"
      ]
     },
     "execution_count": 17,
     "metadata": {},
     "output_type": "execute_result"
    }
   ],
   "source": [
    "set(df_train.label)"
   ]
  },
  {
   "cell_type": "code",
   "execution_count": 21,
   "id": "daed3141",
   "metadata": {},
   "outputs": [
    {
     "data": {
      "text/plain": [
       "[Text(0, 0, 'neutral'),\n",
       " Text(1, 0, 'sadness'),\n",
       " Text(2, 0, 'anger'),\n",
       " Text(3, 0, 'joy'),\n",
       " Text(4, 0, 'non-neutral'),\n",
       " Text(5, 0, 'disgust'),\n",
       " Text(6, 0, 'fear'),\n",
       " Text(7, 0, 'surprise')]"
      ]
     },
     "execution_count": 21,
     "metadata": {},
     "output_type": "execute_result"
    },
    {
     "data": {
      "image/png": "[encoded data removed]",
      "text/plain": [
       "<Figure size 864x576 with 3 Axes>"
      ]
     },
     "metadata": {},
     "output_type": "display_data"
    }
   ],
   "source": [
    "fig, ax =plt.subplots(1,3)\n",
    "fig.suptitle('Comparison of class distribution in Training vs Evaluation data sets', fontsize=16)\n",
    "fig.tight_layout()\n",
    "emotion_list = ['neutral', 'sadness', 'anger', 'joy','non-neutral', 'disgust', 'fear', 'surprise' ]\n",
    "chart = sns.countplot(x=\"Training\",   data=df_labels, order = emotion_list, ax=ax[0])\n",
    "chart.set_xticklabels(chart.get_xticklabels(), rotation=45, horizontalalignment='right')\n",
    "chart = sns.countplot(x=\"Validation\", data=df_labels, order = emotion_list, ax=ax[1])\n",
    "chart.set_xticklabels(chart.get_xticklabels(), rotation=45, horizontalalignment='right')\n",
    "chart = sns.countplot(x=\"Test\",       data=df_labels, order = emotion_list, ax=ax[2])\n",
    "chart.set_xticklabels(chart.get_xticklabels(), rotation=45, horizontalalignment='right')"
   ]
  },
  {
   "cell_type": "code",
   "execution_count": 22,
   "id": "65af4f1c",
   "metadata": {},
   "outputs": [
    {
     "data": {
      "text/plain": [
       "(neutral        4752\n",
       " non-neutral    2017\n",
       " joy            1283\n",
       " surprise       1220\n",
       " anger           513\n",
       " sadness         351\n",
       " disgust         240\n",
       " fear            185\n",
       " Name: label, dtype: int64,\n",
       " neutral        491\n",
       " non-neutral    214\n",
       " surprise       151\n",
       " joy            123\n",
       " anger           85\n",
       " sadness         62\n",
       " fear            29\n",
       " disgust         23\n",
       " Name: label, dtype: int64,\n",
       " neutral        1287\n",
       " non-neutral     541\n",
       " joy             304\n",
       " surprise        286\n",
       " anger           161\n",
       " sadness          85\n",
       " disgust          68\n",
       " fear             32\n",
       " Name: label, dtype: int64)"
      ]
     },
     "execution_count": 22,
     "metadata": {},
     "output_type": "execute_result"
    }
   ],
   "source": [
    "df_train['label'].value_counts(), df_val['label'].value_counts(), df_test['label'].value_counts()\n"
   ]
  },
  {
   "cell_type": "markdown",
   "id": "966bc49c",
   "metadata": {},
   "source": [
    "# Scale of class imbalance is similar in Training and Evaluation data sets\n",
    "| Emotion | Neutral | Sad | Anger(Mad) | Joy | Non-neutral | disgust | fear| surprise|\n",
    "| :-: | :-: | :-: | :-: | :-: | :-: | :-: | :-: | :-: |\n",
    "| Train | 45% | 3% |5% | 12%| 19% |2% |2% | 12%| \n",
    "| Dev | 42% | 5% |7% | 11%| 18%|2% |2% | 13%|\n",
    "| Test | 47% | 3% |6% | 11%| 20%|2% |1% | 10%|\n",
    "\n",
    "Distribution of classes is almost similar among training and eval sets"
   ]
  },
  {
   "cell_type": "code",
   "execution_count": 23,
   "id": "7fbaff25",
   "metadata": {},
   "outputs": [],
   "source": [
    "train = pd.Series(['Training'] , ['name'])\n",
    "train = train.append(df_labels['Training'].value_counts().div(df_labels['Training'].value_counts().sum()))\n",
    "val = pd.Series(['Validation'] , ['name'])\n",
    "val = val.append(df_labels['Validation'].value_counts().div(df_labels['Validation'].value_counts().sum()))\n",
    "test = pd.Series(['Test'] , ['name'])\n",
    "test = test.append(df_labels['Test'].value_counts().div(df_labels['Test'].value_counts().sum()))\n",
    "\n",
    "df_stacked = pd.DataFrame(columns = emotion_list)\n",
    "\n",
    "df_stacked = df_stacked.append(train,ignore_index=True)\n",
    "df_stacked = df_stacked.append(val,ignore_index=True)\n",
    "df_stacked = df_stacked.append(test,ignore_index=True)"
   ]
  },
  {
   "cell_type": "code",
   "execution_count": 24,
   "id": "8eec58d1",
   "metadata": {},
   "outputs": [
    {
     "data": {
      "text/plain": [
       "<matplotlib.legend.Legend at 0x1e991097280>"
      ]
     },
     "execution_count": 24,
     "metadata": {},
     "output_type": "execute_result"
    },
    {
     "data": {
      "image/png": "[encoded data removed]",
      "text/plain": [
       "<Figure size 864x576 with 1 Axes>"
      ]
     },
     "metadata": {},
     "output_type": "display_data"
    }
   ],
   "source": [
    "# plot a Stacked Bar Chart using matplotlib\n",
    "df_stacked.plot(\n",
    "    x = 'name',\n",
    "    kind = 'bar',\n",
    "    stacked = True,\n",
    "    title = 'Stacked Bar Graph',\n",
    "    mark_right = False, \n",
    "    colormap='gist_rainbow'\n",
    "   ).legend(bbox_to_anchor=(1, 1))"
   ]
  },
  {
   "cell_type": "markdown",
   "id": "f52c6b05",
   "metadata": {},
   "source": [
    "# Distribution of number of utterances per dialogue in Train and Evaluation Sets\n",
    "- Minimum and maximum value of number of utterances per dialogue is same across 3 sets, 5 and 25 respectively\n"
   ]
  },
  {
   "cell_type": "code",
   "execution_count": 25,
   "id": "bf27ae12",
   "metadata": {},
   "outputs": [],
   "source": [
    "train_dialogue_id_list = list((df_train['dialogue_id'].unique()))\n",
    "val_dialogue_id_list = list((df_val['dialogue_id'].unique()))\n",
    "test_dialogue_id_list = list((df_test['dialogue_id'].unique()))\n",
    "d = {\"Training\":[],\"Validation\":[],\"Test\":[] };\n",
    "for dialogue in train_dialogue_id_list:\n",
    "     d['Training'].append((df_train.dialogue_id ==dialogue).sum())\n",
    "for dialogue in val_dialogue_id_list:\n",
    "     d['Validation'].append((df_val.dialogue_id ==dialogue).sum())\n",
    "for dialogue in test_dialogue_id_list:\n",
    "     d['Test'].append((df_test.dialogue_id ==dialogue).sum())\n",
    "\n",
    "\n"
   ]
  },
  {
   "cell_type": "code",
   "execution_count": 26,
   "id": "cac88411",
   "metadata": {},
   "outputs": [
    {
     "name": "stdout",
     "output_type": "stream",
     "text": [
      "Train Set: Utterance per dialogue statistics : Min: 5, Max: 24 Avg: 14.67\n",
      "Validation Set: Utterance per dialogue statistics : Min: 5, Max: 24 Avg: 14.72\n",
      "Test Set: Utterance per dialogue statistics : Min: 5, Max: 24 Avg: 13.82\n"
     ]
    }
   ],
   "source": [
    "\n",
    "print('Train Set: Utterance per dialogue statistics : Min: {}, Max: {} Avg: {}'.format(min(d['Training']), max(d['Training']), np.round(sum(d['Training'])/len(d['Training']), 2)))\n",
    "print('Validation Set: Utterance per dialogue statistics : Min: {}, Max: {} Avg: {}'.format(min(d['Validation']), max(d['Validation']), np.round(sum(d['Validation'])/len(d['Validation']), 2)))\n",
    "print('Test Set: Utterance per dialogue statistics : Min: {}, Max: {} Avg: {}'.format(min(d['Test']), max(d['Test']), np.round(sum(d['Test'])/len(d['Test']), 2)))"
   ]
  },
  {
   "cell_type": "code",
   "execution_count": 27,
   "id": "829fdabc",
   "metadata": {},
   "outputs": [
    {
     "data": {
      "text/plain": [
       "<AxesSubplot:title={'center':'Test'}, ylabel='Count'>"
      ]
     },
     "execution_count": 27,
     "metadata": {},
     "output_type": "execute_result"
    },
    {
     "data": {
      "image/png": "[encoded data removed]",
      "text/plain": [
       "<Figure size 864x576 with 3 Axes>"
      ]
     },
     "metadata": {},
     "output_type": "display_data"
    }
   ],
   "source": [
    "fig, ax =plt.subplots(ncols=3)\n",
    "fig.suptitle('Distribution of utterances per dialogue in Train and Evaluation Sets', fontsize=16)\n",
    "fig.tight_layout()\n",
    "ax[0].set_title('Training')\n",
    "ax[0].set_xlim([0, 30])\n",
    "sns.histplot(d['Training'] , ax=ax[0], bins=20, stat = 'count' )\n",
    "\n",
    "ax[1].set_title('Validation')\n",
    "ax[1].set_xlim([0, 30])\n",
    "sns.histplot(d['Validation'] , ax=ax[1], bins=20, stat = 'count')\n",
    "\n",
    "ax[2].set_title('Test')\n",
    "ax[2].set_xlim([0, 30])\n",
    "sns.histplot(d['Test'] , ax=ax[2], bins=20, stat = 'count')\n"
   ]
  },
  {
   "cell_type": "markdown",
   "id": "ab7cdb65",
   "metadata": {},
   "source": [
    "# Distribution of Utterance Length in Train and Evaluation Sets\n",
    "- Length of utterances follows almost similar distribution in train and evaluation datasets\n",
    "- Max seq len can be taken around 35\n"
   ]
  },
  {
   "cell_type": "code",
   "execution_count": 28,
   "id": "f523c469",
   "metadata": {},
   "outputs": [],
   "source": [
    "d = {\"Training\":[],\"Validation\":[],\"Test\":[] }\n",
    "\n",
    "d['Training'] = list(df_train['utterance_len'].values)\n",
    "d['Validation'] = list(df_val['utterance_len'].values)\n",
    "d['Test'] = list(df_test['utterance_len'].values)"
   ]
  },
  {
   "cell_type": "markdown",
   "id": "1234a7b3",
   "metadata": {},
   "source": [
    "Minimum and maximum value of utterance length in train, val and test sets"
   ]
  },
  {
   "cell_type": "code",
   "execution_count": 29,
   "id": "adf3bfdc",
   "metadata": {},
   "outputs": [
    {
     "name": "stdout",
     "output_type": "stream",
     "text": [
      "Train Set: Utterance length statistics : Min: 1, Max: 69 Avg: 7.79\n",
      "Validation Set: Utterance length statistics : Min: 1, Max: 37 Avg: 7.7\n",
      "Test Set: Utterance length statistics : Min: 1, Max: 45 Avg: 8.02\n"
     ]
    }
   ],
   "source": [
    "print('Train Set: Utterance length statistics : Min: {}, Max: {} Avg: {}'.format(min(d['Training']), max(d['Training']), np.round(sum(d['Training'])/len(d['Training']), 2)))\n",
    "print('Validation Set: Utterance length statistics : Min: {}, Max: {} Avg: {}'.format(min(d['Validation']), max(d['Validation']), np.round(sum(d['Validation'])/len(d['Validation']), 2)))\n",
    "print('Test Set: Utterance length statistics : Min: {}, Max: {} Avg: {}'.format(min(d['Test']), max(d['Test']), np.round(sum(d['Test'])/len(d['Test']), 2)))"
   ]
  },
  {
   "cell_type": "code",
   "execution_count": 30,
   "id": "24d5fca3",
   "metadata": {},
   "outputs": [
    {
     "name": "stdout",
     "output_type": "stream",
     "text": [
      "99 percentile for Training Data 26.0\n",
      "99 percentile for Validation Data 24.230000000000018\n",
      "99 percentile for Test Data 27.0\n"
     ]
    }
   ],
   "source": [
    "print('99 percentile for Training Data {}'.format(np.percentile(np.asarray(d['Training']), 99)))\n",
    "print('99 percentile for Validation Data {}'.format(np.percentile(np.asarray(d['Validation']), 99)))\n",
    "print('99 percentile for Test Data {}'.format(np.percentile(np.asarray(d['Test']), 99)))"
   ]
  },
  {
   "cell_type": "code",
   "execution_count": 31,
   "id": "1a7f4532",
   "metadata": {},
   "outputs": [
    {
     "name": "stdout",
     "output_type": "stream",
     "text": [
      "value = 0, value_Count = 0\n",
      "value = 1, value_Count = 1401\n",
      "value = 2, value_Count = 874\n",
      "value = 3, value_Count = 853\n",
      "value = 4, value_Count = 823\n",
      "value = 5, value_Count = 783\n",
      "value = 6, value_Count = 749\n",
      "value = 7, value_Count = 674\n",
      "value = 8, value_Count = 583\n",
      "value = 9, value_Count = 482\n",
      "value = 10, value_Count = 426\n",
      "value = 11, value_Count = 427\n",
      "value = 12, value_Count = 366\n",
      "value = 13, value_Count = 298\n",
      "value = 14, value_Count = 253\n",
      "value = 15, value_Count = 246\n",
      "value = 16, value_Count = 231\n",
      "value = 17, value_Count = 192\n",
      "value = 18, value_Count = 175\n",
      "value = 19, value_Count = 150\n",
      "value = 20, value_Count = 101\n",
      "value = 21, value_Count = 110\n",
      "value = 22, value_Count = 83\n",
      "value = 23, value_Count = 61\n",
      "value = 24, value_Count = 49\n",
      "value = 25, value_Count = 38\n",
      "value = 26, value_Count = 29\n",
      "value = 27, value_Count = 19\n",
      "value = 28, value_Count = 13\n",
      "value = 29, value_Count = 12\n",
      "value = 30, value_Count = 6\n",
      "value = 31, value_Count = 12\n",
      "value = 32, value_Count = 7\n",
      "value = 33, value_Count = 5\n",
      "value = 34, value_Count = 8\n",
      "value = 35, value_Count = 4\n",
      "value = 36, value_Count = 3\n",
      "value = 37, value_Count = 1\n",
      "value = 38, value_Count = 5\n",
      "value = 39, value_Count = 2\n",
      "value = 40, value_Count = 1\n",
      "value = 41, value_Count = 2\n",
      "value = 42, value_Count = 1\n",
      "value = 43, value_Count = 0\n",
      "value = 44, value_Count = 1\n",
      "value = 45, value_Count = 0\n",
      "value = 46, value_Count = 0\n",
      "value = 47, value_Count = 0\n",
      "value = 48, value_Count = 1\n",
      "value = 49, value_Count = 0\n",
      "value = 50, value_Count = 0\n",
      "value = 51, value_Count = 0\n",
      "value = 52, value_Count = 0\n",
      "value = 53, value_Count = 0\n",
      "value = 54, value_Count = 0\n",
      "value = 55, value_Count = 0\n",
      "value = 56, value_Count = 0\n",
      "value = 57, value_Count = 0\n",
      "value = 58, value_Count = 0\n",
      "value = 59, value_Count = 0\n",
      "value = 60, value_Count = 0\n",
      "value = 61, value_Count = 0\n",
      "value = 62, value_Count = 0\n",
      "value = 63, value_Count = 0\n",
      "value = 64, value_Count = 0\n",
      "value = 65, value_Count = 0\n",
      "value = 66, value_Count = 0\n",
      "value = 67, value_Count = 0\n",
      "value = 68, value_Count = 0\n",
      "value = 69, value_Count = 1\n"
     ]
    }
   ],
   "source": [
    "for i in range(max(d['Training'])+1):\n",
    "    print('value = {}, value_Count = {}'.format(i,d['Training'].count(i) ))"
   ]
  },
  {
   "cell_type": "code",
   "execution_count": 47,
   "id": "d406bd60",
   "metadata": {},
   "outputs": [
    {
     "data": {
      "text/plain": [
       "[Text(0.5, 46.5, 'Utterance_length'),\n",
       " Text(548.6588235294118, 0.5, 'Probability')]"
      ]
     },
     "execution_count": 47,
     "metadata": {},
     "output_type": "execute_result"
    },
    {
     "data": {
      "image/png": "[encoded data removed]",
      "text/plain": [
       "<Figure size 864x576 with 3 Axes>"
      ]
     },
     "metadata": {},
     "output_type": "display_data"
    }
   ],
   "source": [
    "fig, ax =plt.subplots(1,3)\n",
    "fig.suptitle('Distribution of utterances length in Train and Evaluation Sets', fontsize=16)\n",
    "fig.tight_layout()\n",
    "\n",
    "ax[0].set_title('Training')\n",
    "ax[0].set_xlim([0, 40])\n",
    "ax[0].set(xlabel='Utterance_length', ylabel='Probability')\n",
    "ax[0].hist(d['Training'], bins = 50, density = True)\n",
    "\n",
    "ax[1].set_title('Validation')\n",
    "ax[1].set_xlim([0, 40])\n",
    "ax[1].hist(d['Validation'], bins = 27, density = True)\n",
    "ax[1].set(xlabel='Utterance_length', ylabel='Probability')\n",
    "\n",
    "\n",
    "ax[2].set_title('Test')\n",
    "ax[2].set_xlim([0, 40])\n",
    "ax[2].hist(d['Test'], bins = 32, density = True)\n",
    "ax[2].set(xlabel='Utterance_length', ylabel='Probability')"
   ]
  },
  {
   "cell_type": "markdown",
   "id": "939e238f",
   "metadata": {},
   "source": [
    "### Speaker_Embedding\n",
    "Train/Validation/Test data sets have 6 prominent speakets. We can encode speaker information in two ways\n",
    " - Use one hot encoder to assign a unique value to each speaker\n",
    " - Change speaker name to unknow for any speaker outside the list of most common speakers. USe one hot encoder to encode 'First Siy Speakers' + 'Unknown'"
   ]
  },
  {
   "cell_type": "code",
   "execution_count": 83,
   "id": "02b92f9b",
   "metadata": {},
   "outputs": [
    {
     "data": {
      "text/plain": [
       "[Text(0, 0, 'Joey'),\n",
       " Text(1, 0, 'Ross'),\n",
       " Text(2, 0, 'Chandler'),\n",
       " Text(3, 0, 'Rachel'),\n",
       " Text(4, 0, 'Monica'),\n",
       " Text(5, 0, 'Phoebe'),\n",
       " Text(6, 0, 'Janice'),\n",
       " Text(7, 0, 'Emily'),\n",
       " Text(8, 0, 'Director'),\n",
       " Text(9, 0, 'Gunther')]"
      ]
     },
     "execution_count": 83,
     "metadata": {},
     "output_type": "execute_result"
    },
    {
     "data": {
      "image/png": "[encoded data removed]",
      "text/plain": [
       "<Figure size 864x576 with 3 Axes>"
      ]
     },
     "metadata": {},
     "output_type": "display_data"
    }
   ],
   "source": [
    "fig, ax =plt.subplots(ncols=3)\n",
    "fig.suptitle('Distribution of utterances per dialogue in Train and Evaluation Sets', fontsize=16)\n",
    "fig.tight_layout()\n",
    "ax[0].set_title('Training')\n",
    "chart = sns.countplot(data=df_train, x='speaker', order=df_train.speaker.value_counts().index[0:10], ax = ax[0])\n",
    "chart.set_xticklabels(chart.get_xticklabels(), rotation=45, horizontalalignment='right')\n",
    "\n",
    "ax[1].set_title('Validation')\n",
    "chart = sns.countplot(data=df_val, x='speaker', order=df_val.speaker.value_counts().index[0:10], ax = ax[1])\n",
    "chart.set_xticklabels(chart.get_xticklabels(), rotation=45, horizontalalignment='right')\n",
    "\n",
    "ax[2].set_title('Test')\n",
    "chart =  sns.countplot(data=df_test, x='speaker', order=df_test.speaker.value_counts().index[0:10], ax = ax[2])\n",
    "chart.set_xticklabels(chart.get_xticklabels(), rotation=45, horizontalalignment='right')"
   ]
  },
  {
   "cell_type": "markdown",
   "id": "555dc496",
   "metadata": {},
   "source": [
    "# Data Normalization\n",
    "\n",
    "Normalizing a natural language resource,helps in reducing the randomness in it, bringing it closer to a predefined “standard” and reducing the dimensionality of the input,\n",
    "\n",
    "We use following normalization techniques:\n",
    "\n",
    "- Removal of duplicate whitespaces and punctuation.\n",
    "- Accent removal \n",
    "- Capital letter removal \n",
    "- Removal or substitution of special characters/emojis \n",
    "- Substitution of contractions (very common in English; e.g.: ‘I’m’→‘I am’).\n",
    "- Transform word numerals into numbers (eg.: ‘fifty three’→‘53’).\n",
    "- Removal of gender/time/grade variation with Stemming or Lemmatization.\n",
    "\n"
   ]
  },
  {
   "cell_type": "code",
   "execution_count": 48,
   "id": "90dbe13b",
   "metadata": {},
   "outputs": [],
   "source": [
    "from symspellpy.symspellpy import SymSpell, Verbosity\n",
    "import pkg_resources\n",
    "import re, string, json\n",
    "import spacy\n",
    "from tqdm.notebook import tqdm\n",
    "\n",
    "def simplify_punctuation_and_whitespace(sentence_list):\n",
    "    norm_sents = []\n",
    "    print(\"Normalizing whitespaces and punctuation\")\n",
    "    for sentence in tqdm(sentence_list):\n",
    "        sent = _replace_urls(sentence)\n",
    "        sent = _simplify_punctuation(sentence)\n",
    "        sent = _normalize_whitespace(sent)\n",
    "        norm_sents.append(sent)\n",
    "    return norm_sents\n",
    "\n",
    "def _replace_urls(text):\n",
    "    url_regex = r'(https?:\\/\\/(?:www\\.|(?!www))[a-zA-Z0-9][a-zA-Z0-9-]+[a-zA-Z0-9]\\.[^\\s]{2,}|www\\.[a-zA-Z0-9][a-zA-Z0-9-]+[a-zA-Z0-9]\\.[^\\s]{2,}|https?:\\/\\/(?:www\\.|(?!www))[a-zA-Z0-9]+\\.[^\\s]{2,}|www\\.[a-zA-Z0-9]+\\.[^\\s]{2,})'\n",
    "    text = re.sub(url_regex, \"<URL>\", text)\n",
    "    return text\n",
    "\n",
    "def _simplify_punctuation(text):\n",
    "    \"\"\"\n",
    "    This function simplifies doubled or more complex punctuation. The exception is '...'.\n",
    "    \"\"\"\n",
    "    corrected = str(text)\n",
    "    corrected = re.sub(r'([!?,;])\\1+', r'\\1', corrected)\n",
    "    corrected = re.sub(r'\\.{2,}', r'...', corrected)\n",
    "    return corrected\n",
    "\n",
    "def _normalize_whitespace(text):\n",
    "    \"\"\"\n",
    "    This function normalizes whitespaces, removing duplicates.\n",
    "    \"\"\"\n",
    "    corrected = str(text)\n",
    "    corrected = re.sub(r\"//t\",r\"\\t\", corrected)\n",
    "    corrected = re.sub(r\"( )\\1+\",r\"\\1\", corrected)\n",
    "    corrected = re.sub(r\"(\\n)\\1+\",r\"\\1\", corrected)\n",
    "    corrected = re.sub(r\"(\\r)\\1+\",r\"\\1\", corrected)\n",
    "    corrected = re.sub(r\"(\\t)\\1+\",r\"\\1\", corrected)\n",
    "    return corrected.strip(\" \")\n",
    "\n",
    "def normalize_contractions(sentence_list):\n",
    "    contraction_list = json.loads(open('english_contractions.json', 'r').read())\n",
    "    norm_sents = []\n",
    "    print(\"Normalizing contractions\")\n",
    "    for sentence in tqdm(sentence_list):\n",
    "        norm_sents.append(_normalize_contractions_text(sentence, contraction_list))\n",
    "    return norm_sents\n",
    "\n",
    "def _normalize_contractions_text(text, contractions):\n",
    "    \"\"\"\n",
    "    This function normalizes english contractions.\n",
    "    \"\"\"\n",
    "    new_token_list = []\n",
    "    token_list = text.split()\n",
    "    for word_pos in range(len(token_list)):\n",
    "        word = token_list[word_pos]\n",
    "        first_upper = False\n",
    "        if word[0].isupper():\n",
    "            first_upper = True\n",
    "        if word.lower() in contractions:\n",
    "            replacement = contractions[word.lower()]\n",
    "            if first_upper:\n",
    "                replacement = replacement[0].upper()+replacement[1:]\n",
    "            replacement_tokens = replacement.split()\n",
    "            if len(replacement_tokens)>1:\n",
    "                new_token_list.append(replacement_tokens[0])\n",
    "                new_token_list.append(replacement_tokens[1])\n",
    "            else:\n",
    "                new_token_list.append(replacement_tokens[0])\n",
    "        else:\n",
    "            new_token_list.append(word)\n",
    "    sentence = \" \".join(new_token_list).strip(\" \")\n",
    "    return sentence\n",
    "\n",
    "def spell_correction(sentence_list):\n",
    "    max_edit_distance_dictionary= 3\n",
    "    prefix_length = 4\n",
    "    spellchecker = SymSpell(max_edit_distance_dictionary, prefix_length)\n",
    "    dictionary_path = pkg_resources.resource_filename(\n",
    "        \"symspellpy\", \"frequency_dictionary_en_82_765.txt\")\n",
    "    bigram_path = pkg_resources.resource_filename(\n",
    "        \"symspellpy\", \"frequency_bigramdictionary_en_243_342.txt\")\n",
    "    spellchecker.load_dictionary(dictionary_path, term_index=0, count_index=1)\n",
    "    spellchecker.load_bigram_dictionary(dictionary_path, term_index=0, count_index=2)\n",
    "    norm_sents = []\n",
    "    print(\"Spell correcting\")\n",
    "    for sentence in tqdm(sentence_list):\n",
    "        norm_sents.append(_spell_correction_text(sentence, spellchecker))\n",
    "    return norm_sents\n",
    "\n",
    "def _spell_correction_text(text, spellchecker):\n",
    "    \"\"\"\n",
    "    This function does very simple spell correction normalization using pyspellchecker module. It works over a tokenized sentence and only the token representations are changed.\n",
    "    \"\"\"\n",
    "    if len(text) < 1:\n",
    "        return \"\"\n",
    "    #Spell checker config\n",
    "    max_edit_distance_lookup = 2\n",
    "    suggestion_verbosity = Verbosity.TOP # TOP, CLOSEST, ALL\n",
    "    #End of Spell checker config\n",
    "    token_list = text.split()\n",
    "    for word_pos in range(len(token_list)):\n",
    "        word = token_list[word_pos]\n",
    "        if word is None:\n",
    "            token_list[word_pos] = \"\"\n",
    "            continue\n",
    "        if not '\\n' in word and word not in string.punctuation and not is_numeric(word) and not (word.lower() in spellchecker.words.keys()):\n",
    "            suggestions = spellchecker.lookup(word.lower(), suggestion_verbosity, max_edit_distance_lookup)\n",
    "            #Checks first uppercase to conserve the case.\n",
    "            upperfirst = word[0].isupper()\n",
    "            #Checks for correction suggestions.\n",
    "            if len(suggestions) > 0:\n",
    "                correction = suggestions[0].term\n",
    "                replacement = correction\n",
    "            #We call our _reduce_exaggerations function if no suggestion is found. Maybe there are repeated chars.\n",
    "            else:\n",
    "                replacement = _reduce_exaggerations(word)\n",
    "            #Takes the case back to the word.\n",
    "            if upperfirst:\n",
    "                replacement = replacement[0].upper()+replacement[1:]\n",
    "            word = replacement\n",
    "            token_list[word_pos] = word\n",
    "    return \" \".join(token_list).strip()\n",
    "\n",
    "def _reduce_exaggerations(text):\n",
    "    \"\"\"\n",
    "    Auxiliary function to help with exxagerated words.\n",
    "    Examples:\n",
    "        woooooords -> words\n",
    "        yaaaaaaaaaaaaaaay -> yay\n",
    "    \"\"\"\n",
    "    correction = str(text)\n",
    "    #TODO work on complexity reduction.\n",
    "    return re.sub(r'([\\w])\\1+', r'\\1', correction)\n",
    "\n",
    "def is_numeric(text):\n",
    "    for char in text:\n",
    "        if not (char in \"0123456789\" or char in \",%.$\"):\n",
    "            return False\n",
    "    return True\n",
    "\n",
    "def lemmatize(sentence_list):\n",
    "    new_norm=[]\n",
    "    print(\"Lemmatizing Sentences\")\n",
    "    for sentence in tqdm(sentence_list):\n",
    "        new_norm.append(_lemmatize_text(sentence, nlp).strip())\n",
    "    return new_norm\n",
    "\n",
    "def _lemmatize_text(sentence, nlp):\n",
    "    sent = \"\"\n",
    "    doc = nlp(sentence)\n",
    "    for token in doc:\n",
    "        if '@' in token.text:\n",
    "            sent+=\" @MENTION\"\n",
    "        elif '#' in token.text:\n",
    "            sent+= \" #HASHTAG\"\n",
    "        else:\n",
    "            sent+=\" \"+token.lemma_\n",
    "    return sent\n",
    "\n",
    "def basic_string_manipulation(text):\n",
    "    text = re.sub(r'[,;:?!-\\(\\)\\[\\].]+',' \\g<0> ', text)\n",
    "    return text\n",
    "\n",
    "def count_num_tokens(text):\n",
    "    tokens = text.split()\n",
    "    return len(tokens)\n",
    "\n",
    "def generate_dict_from_text(text):\n",
    "    tokens = text.split()\n",
    "    word_freq_dic= {}\n",
    "    for token in tokens:\n",
    "        word_freq_dic[token]= word_freq_dic.get(token, 1)+1\n",
    "    return word_freq_dic\n",
    "\n",
    "def num_distinct_tokens(text):\n",
    "    tokens = text.split()\n",
    "    dist_tokens = set()\n",
    "    for token in tokens:\n",
    "        dist_tokens.add(token)\n",
    "    return len(dist_tokens)\n",
    "\n",
    "def common_tokens(text, common_list):\n",
    "    tokens = text.split()\n",
    "    common_token_num = 0\n",
    "    for token in tokens:\n",
    "        if token in common_list:\n",
    "            common_token_num+=1\n",
    "    return common_token_num\n",
    "\n",
    "def get_most_used_tokens(token_dict):\n",
    "    #uses the 20-80 rule, where 20% of the words usually correspond to 80% of the total number of words.\n",
    "    total_num_words = sum(token_dict.values())\n",
    "    most_used = []\n",
    "    total_most_used = 0\n",
    "    word_iterator = iter(sorted(token_dict.items(), key=lambda x: x[1], reverse=True))\n",
    "    while total_most_used < total_num_words*0.8:\n",
    "        word_tuple = next(word_iterator)\n",
    "        most_used.append(word_tuple[0])\n",
    "        total_most_used+=word_tuple[1]\n",
    "    return most_used\n",
    "\n",
    "def normalization_pipeline(sentences):\n",
    "    print(\"##############################\")\n",
    "    print(\"Starting Normalization Process\")\n",
    "    sentences = simplify_punctuation_and_whitespace(sentences)\n",
    "    #sentences = normalize_contractions(sentences)\n",
    "    #sentences = spell_correction(sentences)\n",
    "    #sentences = lemmatize(sentences)\n",
    "    print(\"Normalization Process Finished\")\n",
    "    print(\"##############################\")\n",
    "    return sentences"
   ]
  },
  {
   "cell_type": "code",
   "execution_count": 49,
   "id": "4222c892",
   "metadata": {},
   "outputs": [],
   "source": [
    "def text_preprocess(df):\n",
    "    unormalized = list(df.utterance.values)\n",
    "    normalized = normalization_pipeline(unormalized)\n",
    "    unorm_df = pd.DataFrame(columns=['Text'], data=unormalized)\n",
    "    norm_df = pd.DataFrame(columns=['Text'], data=normalized)\n",
    "    unorm_df['Preprocessed'] = unorm_df['Text'].apply(lambda x: basic_string_manipulation(x))\n",
    "    norm_df['Preprocessed'] = norm_df['Text'].apply(lambda x: basic_string_manipulation(x))\n",
    "    norm_df['Size_in_Tokens']=unorm_df['Text'].apply(lambda x: count_num_tokens(x))\n",
    "    df['utterance'] = norm_df['Text']\n",
    "    df['utterance_len'] = norm_df['Size_in_Tokens']\n",
    "    return df"
   ]
  },
  {
   "cell_type": "code",
   "execution_count": 124,
   "id": "c0c6dcc8",
   "metadata": {},
   "outputs": [
    {
     "name": "stdout",
     "output_type": "stream",
     "text": [
      "Creating Training/Val/Test Dataframesfor EmoryNLP Dataset\n",
      "##############################\n",
      "Starting Normalization Process\n",
      "Normalizing whitespaces and punctuation\n"
     ]
    },
    {
     "data": {
      "application/vnd.jupyter.widget-view+json": {
       "model_id": "e684a03399ea4620a212ce4c8d944aa4",
       "version_major": 2,
       "version_minor": 0
      },
      "text/plain": [
       "HBox(children=(HTML(value=''), FloatProgress(value=0.0, max=9934.0), HTML(value='')))"
      ]
     },
     "metadata": {},
     "output_type": "display_data"
    },
    {
     "name": "stdout",
     "output_type": "stream",
     "text": [
      "\n",
      "Normalization Process Finished\n",
      "##############################\n",
      "##############################\n",
      "Starting Normalization Process\n",
      "Normalizing whitespaces and punctuation\n"
     ]
    },
    {
     "data": {
      "application/vnd.jupyter.widget-view+json": {
       "model_id": "229098539e6d46a2b95971a0d0b44087",
       "version_major": 2,
       "version_minor": 0
      },
      "text/plain": [
       "HBox(children=(HTML(value=''), FloatProgress(value=0.0, max=1344.0), HTML(value='')))"
      ]
     },
     "metadata": {},
     "output_type": "display_data"
    },
    {
     "name": "stdout",
     "output_type": "stream",
     "text": [
      "\n",
      "Normalization Process Finished\n",
      "##############################\n",
      "##############################\n",
      "Starting Normalization Process\n",
      "Normalizing whitespaces and punctuation\n"
     ]
    },
    {
     "data": {
      "application/vnd.jupyter.widget-view+json": {
       "model_id": "b79544d7851749859178a030635e0150",
       "version_major": 2,
       "version_minor": 0
      },
      "text/plain": [
       "HBox(children=(HTML(value=''), FloatProgress(value=0.0, max=1328.0), HTML(value='')))"
      ]
     },
     "metadata": {},
     "output_type": "display_data"
    },
    {
     "name": "stdout",
     "output_type": "stream",
     "text": [
      "\n",
      "Normalization Process Finished\n",
      "##############################\n"
     ]
    }
   ],
   "source": [
    "nlp = spacy.load('en_core_web_sm')\n",
    "(df_train, df_val, df_test)  = load_df(args)   \n",
    "df_train = text_preprocess(df_train)\n",
    "df_val = text_preprocess(df_val)\n",
    "df_test = text_preprocess(df_test)"
   ]
  },
  {
   "cell_type": "markdown",
   "id": "712edae0",
   "metadata": {},
   "source": [
    "# Label Transition Probability Visualization\n",
    "- To check for possible patterns in the label sequences of the datasets, we plot frequency of the label\n",
    "  pairs (x;y) where x and y are the labels of ${U}_{s_{t-1}, t-1}$ and ${U}_{s_{t}, t}$ respectively\n",
    "- Plot show the same emotion label or neutral label appearing in the consecutive utterances with high frequency. This may    \n",
    "  induce label dependencies and consistencies and can be called as the label copying feature of the dataset."
   ]
  },
  {
   "cell_type": "code",
   "execution_count": 50,
   "id": "726cb45a",
   "metadata": {},
   "outputs": [],
   "source": [
    "'''\n",
    "  Calculate and Visualize Label Transition Probabilities DataFrame\n",
    "  Parameters\n",
    "    ----------\n",
    "    df : Pandas Dataframe \n",
    "        Pandas dataframe repersenting Train/Val/Test Data\n",
    "    emo_dict : Python Dictionary\n",
    "        Python Dictionary specifying the encoded value of emotion labels. \n",
    "  Returns\n",
    "    -------\n",
    "    None\n",
    "'''\n",
    "\n",
    "\n",
    "def VisualizeTransitionProb(df, emo_dict):\n",
    "    \n",
    "    sequence =  list(df.label)\n",
    "    trans_mat= pd.crosstab( pd.Series(sequence[:-1], name='From State'),\n",
    "                     pd.Series(sequence[1:], name='To State'),\n",
    "                     normalize=0\n",
    "                     )\n",
    "    trans_mat = np.round(trans_mat, 2)\n",
    "    trans_mat = trans_mat[emo_dict.keys()]\n",
    "    trans_mat= trans_mat.reindex(emo_dict.keys())\n",
    "    h = [trans_mat.index.names[0] +'/'+ trans_mat.columns.names[0]] + list(trans_mat.columns.tolist())\n",
    "    print(tabulate(trans_mat, headers= h, tablefmt= 'grid'))\n",
    "  \n",
    "    myMatrix = trans_mat.to_numpy()\n",
    "    fig = plt.figure()\n",
    "    ax = fig.add_subplot(111, aspect='equal')\n",
    "\n",
    "    plt.style.use(['ggplot'])\n",
    "    plt.ylabel('From State')\n",
    "    plt.xlabel('To State')\n",
    "    mymap = plt.get_cmap(\"YlGnBu\")\n",
    "   \n",
    "    normalize = matplotlib.colors.LogNorm(vmin=0.0001, vmax=1)\n",
    "    normalize = matplotlib.colors.PowerNorm(gamma=0.5, vmin=0.01, vmax=1)\n",
    "    matrix_size = myMatrix.shape[0]\n",
    "    square_size = 1.0 / matrix_size\n",
    "\n",
    "    diagonal = myMatrix.diagonal()\n",
    "    \n",
    "\n",
    "    ax.set_xticklabels(emo_dict.keys(), rotation=90, horizontalalignment='right')\n",
    "    ax.set_yticklabels(list(reversed(emo_dict.keys())), rotation=0, horizontalalignment='right')\n",
    "\n",
    "    ax.xaxis.set_ticks(np.arange(0 + 0.5 * square_size, 1 + 0.5 * square_size, square_size))\n",
    "    ax.yaxis.set_ticks(np.arange(0 + 0.5 * square_size, 1 + 0.5 * square_size, square_size))\n",
    "\n",
    "    # iterate over all elements of the matrix\n",
    "    \n",
    "    for i in range(matrix_size):\n",
    "        for j in range(matrix_size):\n",
    "            if myMatrix[i, j] > 0:\n",
    "                rect_size = np.sqrt(myMatrix[i, j]) * square_size\n",
    "            else:\n",
    "                rect_size = 0\n",
    "\n",
    "            dx = 0.5 * (square_size - rect_size)\n",
    "            dy = 0.5 * (square_size - rect_size)\n",
    "            #print(' {} {}'.format((i) * square_size + dx, j * square_size + dy))\n",
    "            p = patches.Rectangle(\n",
    "                (j * square_size + dy, (matrix_size-i-1) * square_size + dx),\n",
    "                rect_size,\n",
    "                rect_size,\n",
    "                fill=True,\n",
    "                color=mymap(normalize(myMatrix[i, j]))\n",
    "            )\n",
    "            ax.add_patch(p)\n",
    "\n",
    "    cbax = fig.add_axes([0.85, 0.12, 0.05, 0.78])\n",
    "    cb = matplotlib.colorbar.ColorbarBase(cbax, cmap=mymap, orientation='vertical')\n",
    "    cb.set_label(\"Transition Probability\")\n",
    "    plt.show(block=True)\n",
    "    plt.interactive(False)"
   ]
  },
  {
   "cell_type": "code",
   "execution_count": 51,
   "id": "eb366057",
   "metadata": {},
   "outputs": [
    {
     "name": "stdout",
     "output_type": "stream",
     "text": [
      "+-----------------------+-----------+-----------+---------+-------+---------------+------------+--------+-----------+\n",
      "| From State/To State   |   neutral |   sadness |   anger |   joy |   non-neutral |   surprise |   fear |   disgust |\n",
      "+=======================+===========+===========+=========+=======+===============+============+========+===========+\n",
      "| neutral               |      0.54 |      0.03 |    0.03 |  0.1  |          0.16 |       0.11 |   0.02 |      0.02 |\n",
      "+-----------------------+-----------+-----------+---------+-------+---------------+------------+--------+-----------+\n",
      "| sadness               |      0.34 |      0.19 |    0.04 |  0.08 |          0.19 |       0.12 |   0.01 |      0.02 |\n",
      "+-----------------------+-----------+-----------+---------+-------+---------------+------------+--------+-----------+\n",
      "| anger                 |      0.28 |      0.03 |    0.27 |  0.05 |          0.22 |       0.09 |   0.03 |      0.03 |\n",
      "+-----------------------+-----------+-----------+---------+-------+---------------+------------+--------+-----------+\n",
      "| joy                   |      0.36 |      0.02 |    0.02 |  0.32 |          0.14 |       0.11 |   0.01 |      0.02 |\n",
      "+-----------------------+-----------+-----------+---------+-------+---------------+------------+--------+-----------+\n",
      "| non-neutral           |      0.39 |      0.03 |    0.06 |  0.09 |          0.28 |       0.11 |   0.02 |      0.02 |\n",
      "+-----------------------+-----------+-----------+---------+-------+---------------+------------+--------+-----------+\n",
      "| surprise              |      0.43 |      0.03 |    0.04 |  0.1  |          0.19 |       0.16 |   0.02 |      0.02 |\n",
      "+-----------------------+-----------+-----------+---------+-------+---------------+------------+--------+-----------+\n",
      "| fear                  |      0.41 |      0.03 |    0.06 |  0.08 |          0.22 |       0.1  |   0.09 |      0.01 |\n",
      "+-----------------------+-----------+-----------+---------+-------+---------------+------------+--------+-----------+\n",
      "| disgust               |      0.35 |      0.04 |    0.07 |  0.07 |          0.21 |       0.12 |   0.01 |      0.15 |\n",
      "+-----------------------+-----------+-----------+---------+-------+---------------+------------+--------+-----------+\n"
     ]
    },
    {
     "name": "stderr",
     "output_type": "stream",
     "text": [
      "<ipython-input-50-86d52fa14da8>:31: UserWarning: FixedFormatter should only be used together with FixedLocator\n",
      "  ax.set_xticklabels(emo_dict.keys(), rotation=90, horizontalalignment='right')\n",
      "<ipython-input-50-86d52fa14da8>:32: UserWarning: FixedFormatter should only be used together with FixedLocator\n",
      "  ax.set_yticklabels(list(reversed(emo_dict.keys())), rotation=0, horizontalalignment='right')\n"
     ]
    },
    {
     "data": {
      "image/png": "[encoded data removed]",
      "text/plain": [
       "<Figure size 864x576 with 2 Axes>"
      ]
     },
     "metadata": {},
     "output_type": "display_data"
    }
   ],
   "source": [
    "VisualizeTransitionProb(df_train, emo_dict)"
   ]
  },
  {
   "cell_type": "code",
   "execution_count": 52,
   "id": "9497dde2",
   "metadata": {},
   "outputs": [
    {
     "name": "stdout",
     "output_type": "stream",
     "text": [
      "+-----------------------+-----------+-----------+---------+-------+---------------+------------+--------+-----------+\n",
      "| From State/To State   |   neutral |   sadness |   anger |   joy |   non-neutral |   surprise |   fear |   disgust |\n",
      "+=======================+===========+===========+=========+=======+===============+============+========+===========+\n",
      "| neutral               |      0.55 |      0.02 |    0.04 |  0.08 |          0.17 |       0.1  |   0.01 |      0.02 |\n",
      "+-----------------------+-----------+-----------+---------+-------+---------------+------------+--------+-----------+\n",
      "| sadness               |      0.44 |      0.21 |    0.05 |  0.05 |          0.13 |       0.11 |   0.01 |      0.01 |\n",
      "+-----------------------+-----------+-----------+---------+-------+---------------+------------+--------+-----------+\n",
      "| anger                 |      0.36 |      0.01 |    0.28 |  0.02 |          0.2  |       0.09 |   0    |      0.03 |\n",
      "+-----------------------+-----------+-----------+---------+-------+---------------+------------+--------+-----------+\n",
      "| joy                   |      0.37 |      0.01 |    0.04 |  0.34 |          0.13 |       0.08 |   0.01 |      0.02 |\n",
      "+-----------------------+-----------+-----------+---------+-------+---------------+------------+--------+-----------+\n",
      "| non-neutral           |      0.39 |      0.04 |    0.05 |  0.08 |          0.29 |       0.11 |   0.01 |      0.03 |\n",
      "+-----------------------+-----------+-----------+---------+-------+---------------+------------+--------+-----------+\n",
      "| surprise              |      0.44 |      0.02 |    0.06 |  0.12 |          0.2  |       0.12 |   0.01 |      0.03 |\n",
      "+-----------------------+-----------+-----------+---------+-------+---------------+------------+--------+-----------+\n",
      "| fear                  |      0.44 |      0    |    0.03 |  0.06 |          0.19 |       0.19 |   0.06 |      0.03 |\n",
      "+-----------------------+-----------+-----------+---------+-------+---------------+------------+--------+-----------+\n",
      "| disgust               |      0.31 |      0    |    0.12 |  0.09 |          0.24 |       0.16 |   0    |      0.09 |\n",
      "+-----------------------+-----------+-----------+---------+-------+---------------+------------+--------+-----------+\n"
     ]
    },
    {
     "name": "stderr",
     "output_type": "stream",
     "text": [
      "<ipython-input-50-86d52fa14da8>:31: UserWarning: FixedFormatter should only be used together with FixedLocator\n",
      "  ax.set_xticklabels(emo_dict.keys(), rotation=90, horizontalalignment='right')\n",
      "<ipython-input-50-86d52fa14da8>:32: UserWarning: FixedFormatter should only be used together with FixedLocator\n",
      "  ax.set_yticklabels(list(reversed(emo_dict.keys())), rotation=0, horizontalalignment='right')\n"
     ]
    },
    {
     "data": {
      "image/png": "[encoded data removed]",
      "text/plain": [
       "<Figure size 864x576 with 2 Axes>"
      ]
     },
     "metadata": {},
     "output_type": "display_data"
    }
   ],
   "source": [
    "VisualizeTransitionProb(df_test, emo_dict)"
   ]
  },
  {
   "cell_type": "markdown",
   "id": "f9ae1580",
   "metadata": {},
   "source": [
    "# Data Preprocessing Related to Bert Model\n",
    "\n",
    "Machine Learning models don’t work with text and require data preprocessing to convert text to numbers. As we are using BERT for modelling the word level inputs, we need to do following preprocessing\n",
    "\n",
    "- Add special tokens to separate sentences and do classification\n",
    "- Pass sequences of constant length (introduce padding)\n",
    "- Create array of 0s (pad token) and 1s (real token) called attention mask\n",
    "\n",
    "We will use the pretrained bert model and tokenizers from the Transformers Library "
   ]
  },
  {
   "cell_type": "markdown",
   "id": "a594b5bc",
   "metadata": {},
   "source": [
    "# DataLoader Class\n",
    "As the same utterance can deliver different emotions when it is in different contexts, it is imperative to look at the context of previous utterances in the dialogue while modellign the emotion label. On the other hand, utterances between 2 dialogues are independent of each other. As each dialogue will have different utterlance length. we canot use a constant batch size. \n",
    "For this task, We create a class called CustomDataset, and pass the argument Dataset, to allow it to inherit the functionality of the Torch Dataset Class."
   ]
  },
  {
   "cell_type": "code",
   "execution_count": 21,
   "id": "b6e65009",
   "metadata": {},
   "outputs": [],
   "source": [
    "'''\n",
    "  Create the DataLoader Class to provide a way for the dataset code to be decoupled from  model training code.\n",
    "  Parameters\n",
    "    ----------\n",
    "    df : Pandas Dataframe \n",
    "        Pandas dataframe repersenting Train/Val/Test Data\n",
    "    max_number_of_speakers_in_dialogue : Interger \n",
    "    emo_dict : Python Dictionary\n",
    "    Prvides encoded value of emotion labels. \n",
    "    encoder : Sklearn OneHot Encoder Handle\n",
    "\n",
    "  Returns\n",
    "    -------\n",
    "  padded : Tensor\n",
    "     Tensor containing the input data\n",
    "  attention : Tensor\n",
    "     Tensor containing attention mask specifying the valid data in input tensor\n",
    "  spkr_emd : Tensor\n",
    "     Tensor containing speaker information in the input data\n",
    "  label : Tensor\n",
    "     Tensor containing emotion labels\n",
    "     \n",
    "'''\n",
    "\n",
    "\n",
    "\n",
    "class CustomDataset(Dataset):\n",
    "    def __init__(self, df, max_number_of_speakers_in_dialogue, emo_dict, encoder, args):\n",
    "        self.data = df\n",
    "        self.max_number_of_speakers_in_dialogue = max_number_of_speakers_in_dialogue\n",
    "        self.emo_dict = emo_dict\n",
    "        self.tokenizer = DistilBertTokenizer.from_pretrained('distilbert-base-uncased')\n",
    "        self.args = args\n",
    "        self.encoder = encoder\n",
    "        \n",
    "        \n",
    "    def __len__(self):\n",
    "        if not self.args.emoset == 'semeval':\n",
    "            return len( self.data['dialogue_id'].unique())\n",
    "        else:\n",
    "            return self.data.shape[0]\n",
    "    \n",
    "    def get_labels(self, df):\n",
    "        \"\"\"\n",
    "        returns the labels according to the emotion dictionary\n",
    "        \"\"\"\n",
    "        return torch.tensor([self.emo_dict[label] for label in df['label'].values])\n",
    "    \n",
    "    '''\n",
    "        Machine Learning models don’t work with text and require data preprocessing to convert text to numbers. As we are\n",
    "        using BERT for modelling the word level inputs, we need to do following preprocessing\n",
    "\n",
    "        - Add special tokens to separate sentences and do classification\n",
    "        - Pass sequences of constant length (introduce padding)\n",
    "        - Create array of 0s (pad token) and 1s (real token) called attention mask\n",
    "\n",
    "        We will use the pretrained bert model and tokenizers from the Transformers Library \n",
    "    \n",
    "    '''\n",
    "    \n",
    "    def transform_data(self, df, max_seq_len):\n",
    "        \"\"\"\n",
    "        returns the padded input ids and attention masks according to the DistilBert tokenizer\n",
    "        \"\"\"\n",
    "               \n",
    "        def tokenize_fct(turn):\n",
    "            return self.tokenizer.encode(turn, truncation = True, add_special_tokens=True, max_length=max_seq_len)\n",
    "        \n",
    "        if not self.args.emoset == 'semeval':\n",
    "            tokenized = df[['utterance']].applymap(tokenize_fct)\n",
    "            padded = torch.tensor([[ids + [0]*(max_seq_len-len(ids)) for ids in idx] for idx in tokenized.values])\n",
    "            attention_mask = torch.where(padded != 0, torch.ones_like(padded), torch.zeros_like(padded))\n",
    "        else:\n",
    "            tokenized = df[['turn1','turn2','turn3']].applymap(tokenize_fct)\n",
    "            padded = torch.tensor([[ids + [0]*(max_seq_len-len(ids)) for ids in idx] for idx in tokenized.values])\n",
    "            attention_mask = torch.where(padded != 0, torch.ones_like(padded), torch.zeros_like(padded))\n",
    "        return padded, attention_mask, tokenized\n",
    "\n",
    "    \n",
    "    def __getitem__(self, idx):\n",
    "        \n",
    "        if not self.args.emoset == 'semeval':\n",
    "            assert idx  in list(range (len( self.data['dialogue_id'].unique())))\n",
    "            df = self.data.loc[self.data.dialogue_id ==idx]\n",
    "        else:\n",
    "            df = self.data.loc[self.data.index ==idx]  \n",
    "      \n",
    "        padded, attention_mask, tokenizer = self.transform_data(df, self.args.max_seq_len)\n",
    "        labels = self.get_labels(df)\n",
    "        if not self.args.emoset == 'semeval':\n",
    "            padded = padded.squeeze(dim=1)\n",
    "            attention_mask = attention_mask.squeeze(dim=1)\n",
    "        else:\n",
    "            padded = padded.squeeze(dim=0)\n",
    "            attention_mask = attention_mask.squeeze(dim=0)\n",
    "        padded = padded.cuda(self.args.device)\n",
    "        attention_mask = attention_mask.cuda(self.args.device)\n",
    "        labels = labels.cuda(self.args.device)\n",
    "        if self.args.speaker_embedding:\n",
    "            if 0:\n",
    "                cat = OneHotEncoder()\n",
    "                speakers_array = np.array(df.speaker).reshape(-1, 1)\n",
    "                number_of_speakers_in_dialogue = np.unique(speakers_array).shape[0]\n",
    "                spkr_emd = cat.fit_transform(speakers_array).toarray()\n",
    "                spkr_emd = np.pad(spkr_emd, (0, (self.max_number_of_speakers_in_dialogue - number_of_speakers_in_dialogue)))[0:spkr_emd.shape[0], :]\n",
    "            elif 0:\n",
    "                for index in df.index:\n",
    "                    if df.iloc[index].speaker not in self.encoder.categories_[0].tolist():\n",
    "                         df.iloc[index].speaker = 'Unknown'\n",
    "               \n",
    "                speakers_array = np.array(df.speaker).reshape(-1, 1)\n",
    "                spkr_emd = self.encoder.transform(speakers_array).toarray()\n",
    "            else:\n",
    "                speakers_array = np.array(df.speaker).reshape(-1, 1)\n",
    "                spkr_emd = self.encoder.transform(speakers_array).toarray()\n",
    "                \n",
    "        else:\n",
    "            spkr_emd = 0\n",
    "        \n",
    "        return padded, attention_mask, spkr_emd, labels\n",
    "    \n",
    "\n",
    "# export \n",
    "def dataloader(path, max_seq_len, batch_size, emo_dict, use_ddp = False, labels = True):\n",
    "    \"\"\"\n",
    "    Transforms the .csv data stored in `path` according to DistilBert features and returns it as a DataLoader \n",
    "    \"\"\"\n",
    "    df = open_data(path)\n",
    "    padded, attention_mask = transform_data(df, max_seq_len)\n",
    "    \n",
    "    if labels:\n",
    "        dataset = TensorDataset(padded, attention_mask, get_labels(df, emo_dict))\n",
    "    \n",
    "    else:\n",
    "        dataset = TensorDataset(padded, attention_mask)\n",
    "        \n",
    "    if use_ddp:\n",
    "        train_sampler = DistributedSampler(dataset)\n",
    "    \n",
    "    else: \n",
    "        train_sampler = None\n",
    "\n",
    "    return DataLoader(dataset, batch_size=batch_size, shuffle=(train_sampler is None), \n",
    "                      sampler=train_sampler, num_workers=0)\n"
   ]
  },
  {
   "cell_type": "markdown",
   "id": "f3dfa5f2",
   "metadata": {},
   "source": [
    "## Transformer Sentence Embeddings\n",
    "\n",
    "We use a pretrained DistilBert model to create sentence embeddings for each utterance. We obtain contextual word embeddings by concatenating the CLS token embedding and the mean of the last layer. \n",
    "\n",
    "For more information on the (Distil)Bert models one can look at \n",
    "Jay Alammar's blog posts ([A Visual Guide to Using BERT for the First Time](https://jalammar.github.io/a-visual-guide-to-using-bert-for-the-first-time/) and [The Illustrated BERT, ELMo, and co.](https://jalammar.github.io/illustrated-bert/)) where also the following illustration is taken from.\n",
    "\n",
    "![DistilBert output](./images/bert-distilbert-output-tensor-predictions.png)\n",
    "\n",
    "Further references:\n",
    " \n",
    "* [DistilBert paper](https://arxiv.org/abs/1910.01108) and [blog post](https://medium.com/huggingface/distilbert-8cf3380435b5)\n",
    "* [Original Bert (Bidirectional Encoder Representations from Transformers) paper](https://arxiv.org/abs/1810.04805)\n",
    "* [tutorial for custom PyTorch modules](https://pytorch.org/tutorials/beginner/pytorch_with_examples.html)\n",
    "* [Huggingface transformers documentation](https://huggingface.co/transformers/v2.3.0/index.html)"
   ]
  },
  {
   "cell_type": "code",
   "execution_count": 22,
   "id": "2c09494e",
   "metadata": {},
   "outputs": [],
   "source": [
    "'''\n",
    "  This class makes use of DistilBert model to model word level input and capture the context of utterance level embeddings.\n",
    "  It makes use of pretrained language model which is equivalent to introducing external data into the model and helps our\n",
    "  model obtain better utterance embedding\n",
    "  Parameters\n",
    "    ----------\n",
    "    args: Structure of various flags used in the code. \n",
    "    droput : Dropout  \n",
    "  \n",
    "  Returns\n",
    "    -------\n",
    "  sentence_embeds : Tensor\n",
    "     Tensor containing the utterance level embeddings.\n",
    "     \n",
    "'''\n",
    "\n",
    "\n",
    "class sentence_embeds_model(torch.nn.Module):\n",
    "    \"\"\"\n",
    "    instantiates the pretrained DistilBert model and the linear layer\n",
    "    \"\"\"\n",
    "    \n",
    "    def __init__(self, args, dropout = 0.1):\n",
    "        super(sentence_embeds_model, self).__init__()\n",
    "        \n",
    "        self.transformer = DistilBertModel.from_pretrained('distilbert-base-uncased', dropout=dropout, \n",
    "                                                           output_hidden_states=True)\n",
    "        \n",
    "        self.embedding_size = 2 * self.transformer.config.hidden_size\n",
    "        self.args = args\n",
    "      \n",
    "        \n",
    "    def layerwise_lr(self, lr, decay):\n",
    "        \"\"\"\n",
    "        returns grouped model parameters with layer-wise decaying learning rate\n",
    "        \"\"\"\n",
    "        bert = self.transformer\n",
    "        num_layers = bert.config.n_layers\n",
    "        opt_parameters = [{'params': bert.embeddings.parameters(), 'lr': lr*decay**num_layers}]\n",
    "        opt_parameters += [{'params': bert.transformer.layer[l].parameters(), 'lr': lr*decay**(num_layers-l+1)} \n",
    "                            for l in range(num_layers)]\n",
    "        return opt_parameters\n",
    "               \n",
    "    def forward(self, input_ids = None, attention_mask = None, input_embeds = None):\n",
    "        \"\"\"\n",
    "        returns the sentence embeddings\n",
    "        \"\"\"\n",
    "        utterance_count = input_ids.shape[1]\n",
    "        \n",
    "        if input_ids is not None:\n",
    "            input_ids = input_ids.flatten(end_dim = 1)\n",
    "     \n",
    "        if attention_mask is not None:\n",
    "            attention_mask = attention_mask.flatten(end_dim = 1)\n",
    "        \n",
    "       \n",
    "       \n",
    "        output = self.transformer(input_ids = input_ids, \n",
    "                                  attention_mask = attention_mask, inputs_embeds = input_embeds)\n",
    "      \n",
    "        cls = output[0][:,0]\n",
    "        hidden_mean = torch.mean(output[1][-1],1)\n",
    "        sentence_embeds = torch.cat([cls, hidden_mean], dim = -1)\n",
    "        sentence_embeds = sentence_embeds.view(-1,utterance_count, self.embedding_size)\n",
    "       \n",
    "        return sentence_embeds"
   ]
  },
  {
   "cell_type": "markdown",
   "id": "ae036129",
   "metadata": {},
   "source": [
    "## Context Transformer and Classification\n",
    "\n",
    "We use another transformer model to create contextual sentence embeddings, i.e. we model that a conversation consists of multiple utterances. Moreover, we add a classification model for the emotion of the last utterance where we augment the loss by a binary loss due to the unbalanced data.\n",
    "\n",
    "Note that for our convenience we use\n",
    "\n",
    "* a linear projection of the sentence embeddings to a given `projection_size`\n",
    "* a (not pre-trained) DistilBertForSequenceClassification and flip the order of the utterances as the first input embedding gets classified by default\n",
    "* only one attention head, see also the paper [Are Sixteen Heads Really Better than One?](https://arxiv.org/abs/1905.10650)."
   ]
  },
  {
   "cell_type": "code",
   "execution_count": 54,
   "id": "30b491f4",
   "metadata": {},
   "outputs": [],
   "source": [
    "'''\n",
    "  Create contextual sentence embeddings- We model that a conversation may consists of vatiable number of utterances for \n",
    "  dataset Friends/EmotionPush/EmoryNLP whereas for semeval number of utterances per conversation is fixed to 3. \n",
    "    ----------\n",
    "    embedding_size: Embedded Layer Size\n",
    "    projection_size :Size of fully connected lazer before the bert model. \n",
    "    n_layers : Number of hidden layers in pretrained bert model \n",
    "    emo_dict : Label Encoding\n",
    "    max_number_of_speakers_in_dialogue\n",
    "    max_number_of_utter_in_dialogue : 25 for Friends/EmotionPush/EmoryNLP and 3 for Semeval. \n",
    "    loss_weights : Tensor containing the weight assigned to different label classes to handle class imblance. \n",
    "  Returns\n",
    "    -------\n",
    "  logits : Tensor\n",
    "     Softmax Probability Distribution\n",
    "\n",
    "  loss : Scalor\n",
    "      \n",
    "'''\n",
    "class context_classifier_model(torch.nn.Module):\n",
    "    \"\"\"\n",
    "    instantiates the DisitlBertForSequenceClassification model, the position embeddings of the utterances, \n",
    "    and the binary loss function\n",
    "    \"\"\"\n",
    "    \n",
    "    def __init__(self, \n",
    "                 embedding_size, \n",
    "                 projection_size, \n",
    "                 n_layers, \n",
    "                 emo_dict, \n",
    "                 focus_dict, \n",
    "                 max_number_of_speakers_in_dialogue, \n",
    "                 max_number_of_utter_in_dialogue,\n",
    "                 args,\n",
    "                 loss_weights,\n",
    "                 dropout = 0.1):\n",
    "        super(context_classifier_model, self).__init__()\n",
    "     \n",
    "        self.projection_size = projection_size\n",
    "        self.projection = torch.nn.Linear(embedding_size, projection_size)  \n",
    "        self.max_number_of_speakers_in_dialogue = max_number_of_speakers_in_dialogue\n",
    "        self.max_number_of_utter_in_dialogue = max_number_of_utter_in_dialogue\n",
    "        self.position_embeds = torch.nn.Embedding( self.max_number_of_utter_in_dialogue, projection_size)\n",
    "     \n",
    "        self.norm = torch.nn.LayerNorm(projection_size+self.max_number_of_speakers_in_dialogue)\n",
    "        self.drop = torch.nn.Dropout(dropout)\n",
    "        self.focus_dict = focus_dict\n",
    "        self.emo_dict = emo_dict\n",
    "        self.args = args\n",
    "        self.loss_weights = loss_weights\n",
    "        context_config = DistilBertConfig(dropout=dropout, \n",
    "                                dim=projection_size+self.max_number_of_speakers_in_dialogue,\n",
    "                                hidden_dim=4*projection_size,\n",
    "                                n_layers=n_layers,\n",
    "                                n_heads = 1,\n",
    "                                num_labels=len(self.emo_dict.keys()))\n",
    "\n",
    "        self.context_transformer = DistilBertForSequenceClassification(context_config)\n",
    "        if not self.args.emoset == 'semeval':\n",
    "            self.others_label = self.emo_dict['neutral']\n",
    "        else:\n",
    "            self.others_label = self.emo_dict['others']\n",
    "        self.bin_loss_fct = torch.nn.BCEWithLogitsLoss()\n",
    "        self.context_experiment_flag = False\n",
    "   \n",
    "        \n",
    "    def bin_loss(self, logits, labels):\n",
    "        \"\"\"\n",
    "        defined the additional binary loss for the `others` label\n",
    "        \"\"\"\n",
    "        bin_labels = torch.where(labels == self.others_label, torch.ones_like(labels), \n",
    "                                 torch.zeros_like(labels)).float()\n",
    "        bin_logits = logits[:, self.others_label]    \n",
    "        return self.bin_loss_fct(bin_logits, bin_labels)\n",
    "\n",
    "    \n",
    "    \n",
    "    def comput_loss(self, log_prob, target, weights):\n",
    "        \"\"\" Weighted loss function \"\"\"\n",
    "        #loss = F.nll_loss(log_prob, target, weight=weights, reduction='sum')\n",
    "        loss = F.cross_entropy(log_prob, target, weight=weights, reduction='sum')\n",
    "        loss /= target.size(0)\n",
    "\n",
    "        return loss\n",
    "\n",
    "\n",
    "    def forward(self, sentence_embeds, spkr_emd, labels = None):\n",
    "        \"\"\"\n",
    "        returns the logits and the corresponding loss if `labels` are given\n",
    "        \"\"\"\n",
    "        if self.context_experiment_flag == True:\n",
    "            sentence_embeds = sentence_embeds.transpose(0, 1)\n",
    "            spkr_emd = spkr_emd.transpose(0,1)\n",
    "            position_ids = torch.arange(sentence_embeds.shape[1], dtype=torch.long, device=sentence_embeds.device)\n",
    "            \n",
    "        else:\n",
    "            position_ids = torch.arange(sentence_embeds.shape[1], dtype=torch.long, device=sentence_embeds.device)\n",
    "    \n",
    "        position_ids = position_ids.expand(sentence_embeds.shape[:2]) \n",
    "        position_embeds = self.position_embeds(position_ids)\n",
    "        sentence_embeds = self.projection(sentence_embeds) + position_embeds \n",
    "        if self.args.speaker_embedding:\n",
    "            sentence_embeds = torch.cat((sentence_embeds, spkr_emd), dim=2)\n",
    "            sentence_embeds = sentence_embeds.to(device=self.args.device, dtype=torch.float)\n",
    "        sentence_embeds = self.drop(self.norm(sentence_embeds))\n",
    "    \n",
    "        if labels is None:\n",
    "            if not self.emoset == 'semeval':\n",
    "                return self.context_transformer(inputs_embeds = sentence_embeds.transpose(0, 1), labels = labels)[0]\n",
    "            else:\n",
    "                return self.context_transformer(inputs_embeds = sentence_embeds.flip(1), labels = labels)[0]\n",
    "        else:\n",
    "            if not self.args.emoset == 'semeval':\n",
    "                output =  self.context_transformer(inputs_embeds = sentence_embeds.transpose(0, 1), labels = labels)\n",
    "            else:\n",
    "                output =  self.context_transformer(inputs_embeds = sentence_embeds.flip(1), labels = labels)\n",
    "        loss = output[0]\n",
    "        logits = output[1]\n",
    "        log_prob = logits\n",
    "        if not self.args.emoset == 'semeval':\n",
    "            loss2 = self.comput_loss(log_prob, labels, self.loss_weights)\n",
    "            return loss2, logits\n",
    "        else:\n",
    "            return loss + self.bin_loss(logits, labels), logits\n",
    "        "
   ]
  },
  {
   "cell_type": "markdown",
   "id": "04d3dc16",
   "metadata": {},
   "source": [
    "# Metrices\n",
    "\n",
    "- Semeval Task 3 : We use the metrics, i.e. microaveraged precision, recall, and f1-score (while ignoring the others class), for the evaluation of our model according to the [SemEval-2019 Task 3 challenge](https://www.aclweb.org/anthology/S19-2005/). \n",
    "\n",
    "- Friends/EmoryPush/EmoryNLP : we choose the macro averaged Recall as the primary metric for evaluating the performance of our models."
   ]
  },
  {
   "cell_type": "code",
   "execution_count": 55,
   "id": "6fe6ab5c",
   "metadata": {},
   "outputs": [],
   "source": [
    "'''\n",
    "    Create True Positive, False Negative and False Positive metrices. \n",
    "    ----------\n",
    "    loss: Scalor Loss\n",
    "    logits :Softmax Probablity Distribution\n",
    "    labels : groundtrugh emotion labels\n",
    "    emo_dict : Label Encoding dictionary\n",
    "    focus_emo : List holding the primary emotion labels. \n",
    "    -------\n",
    "    Return : Python Dictionarx containing various loss metrices\n",
    "      \n",
    "'''\n",
    "\n",
    "def metrics(loss, logits, labels, emo_dict,focus_emo, args):\n",
    "    \n",
    "    labelslist = labels.cpu().tolist()\n",
    "    preds = torch.argmax(logits, dim=1)\n",
    "    predslist = preds.cpu().tolist() \n",
    "  \n",
    "    cm = np.zeros((len(emo_dict.keys()),len(emo_dict.keys())), dtype=np.int64) # recall\n",
    "       \n",
    "  \n",
    "    for label, pred in zip(labels.view(-1), preds.view(-1)):\n",
    "        cm[label.long(), pred.long()] += 1\n",
    "   \n",
    "    if not args.emoset == 'semeval':\n",
    "        cm = cm[0:len(focus_emo), 0:len(focus_emo)]\n",
    "        gt_labels_per_class =  cm.sum(axis = 1)\n",
    "        preds_per_class =  cm.sum(axis = 0)\n",
    "        tp = cm.diagonal()[0:]\n",
    "        fp = preds_per_class-tp\n",
    "        fn = gt_labels_per_class- tp\n",
    "    else:\n",
    "        gt_labels_per_class =  cm[1:, :].sum(axis = 1)\n",
    "        preds_per_class =  cm[:, 1:].sum(axis = 0)\n",
    "        tp = cm.diagonal()[1:]\n",
    "        fp = preds_per_class-tp\n",
    "        fn = gt_labels_per_class- tp\n",
    "   \n",
    "    return {'val_loss': loss, \n",
    "            'tp': tp, \n",
    "            'fp': fp, \n",
    "            'fn': fn, \n",
    "            'preds':preds_per_class,\n",
    "            'labels': gt_labels_per_class ,\n",
    "            'y_pred':predslist,\n",
    "            'y_true':labelslist\n",
    "            }\n",
    "\n",
    "'''\n",
    "    Calculates Macro/Micro Precision/Recall/F1-Score\n",
    "    ----------\n",
    "        \n",
    "'''\n",
    "def calc_f1_score(tp, fp, fn):\n",
    "    prec_rec_f1 = {}\n",
    "    tp_fn = tp+fn\n",
    "    tp_fp = tp+fp\n",
    "\n",
    "\n",
    "    Recall = [np.round(tp/tp_fn*100, 2) if tp_fn>0 else 0.0 for tp,tp_fn in zip(tp,tp_fn)]\n",
    "    prec_rec_f1['microRecall'] = np.round((sum(tp)/ sum(tp_fn))*100, 2)\n",
    "    prec_rec_f1['macroRecall'] = np.round (sum(Recall) / len(Recall),2)\n",
    "    \n",
    "    Precision = [np.round(tp/tp_fp*100, 2) if tp_fp>0 else 0.0 for tp,tp_fp in zip(tp,tp_fp)]\n",
    "    prec_rec_f1['microPrecision'] = np.round((sum(tp)/ sum(tp_fp))*100, 2)\n",
    "    prec_rec_f1['macroPrecision'] = np.round(sum(Precision) / len(Precision),2)\n",
    "    \n",
    "    f1score = []\n",
    "    f1_numenator = [2*x*y for (x, y) in zip(Recall, Precision)]\n",
    "    f1_denominator = [x + y for (x, y) in zip(Recall, Precision)]\n",
    "\n",
    "    for num1, num2 in zip(f1_numenator,f1_denominator):\n",
    "        if  num2:\n",
    "            f1score.append(np.round(num1 / num2, 2))\n",
    "        else:\n",
    "            f1score.append(0.0)\n",
    " \n",
    "    prec_rec_f1['microF1_score'] = 2 * (prec_rec_f1['microPrecision'] * prec_rec_f1['microRecall']) / (prec_rec_f1['microPrecision'] + prec_rec_f1['microRecall'])\n",
    "    prec_rec_f1['macroF1_score'] = np.round(sum(f1score) / len(f1score), 2)\n",
    "    \n",
    "    return prec_rec_f1\n",
    "\n"
   ]
  },
  {
   "cell_type": "markdown",
   "id": "d57d3784",
   "metadata": {},
   "source": [
    "# PyTorch Lightning\n",
    "\n",
    "> We use pytorch lighting framework for the Training/Evaluation Loop Implementation"
   ]
  },
  {
   "cell_type": "code",
   "execution_count": 56,
   "id": "6221cd92",
   "metadata": {},
   "outputs": [],
   "source": [
    "class EmotionModel(pl.LightningModule):\n",
    "    \"\"\"\n",
    "    PyTorch Lightning module for the Contextual Emotion Detection in Text Challenge\n",
    "    \"\"\"\n",
    "\n",
    "    def __init__(self, emo_dict, focus_dict, args, df_train, df_val, df_test, verbosity = 1):\n",
    "        \"\"\"\n",
    "        pass in parsed HyperOptArgumentParser to the model\n",
    "        \"\"\"\n",
    "        super(EmotionModel, self).__init__()\n",
    "\n",
    "        self.model_name = 'Semeval'\n",
    "        self.emo_dict = emo_dict\n",
    "        self.focus_dict = focus_dict\n",
    "        self.focus_emo = [emo_dict[w] for w in focus_dict]\n",
    "        self.max_seq_len = args.max_seq_len\n",
    "        self.dropout = args.dropout\n",
    "        self.projection_size = args.projection_size\n",
    "        self.args = args\n",
    "        self.n_layers = args.n_layers\n",
    "        self.df_train = df_train\n",
    "        self.df_val = df_val\n",
    "        self.df_test = df_test\n",
    "        self.verbosity = verbosity\n",
    "        if args.speaker_embedding:\n",
    "            print('Speaker Embedding is Enabled')\n",
    "            self.encoder, self.max_number_of_speakers_in_dialogue = self.get_speakers_encoder()\n",
    "            if 0:\n",
    "                self.max_number_of_speakers_in_dialogue = self.get_max_number_of_speakers_in_dialogue()\n",
    "            print('Max number of speakers in a dialgue = {}'.format(self.max_number_of_speakers_in_dialogue))\n",
    "\n",
    "        else:\n",
    "            print('Speaker Embedding is Disabled')\n",
    "            self.max_number_of_speakers_in_dialogue =0\n",
    "            self.encoder = 0\n",
    "            \n",
    "        if not self.args.emoset == 'semeval':\n",
    "            self.max_number_of_utter_in_dialogue = self.get_max_utterance_length_in_dialogue()\n",
    "        else:\n",
    "            self.max_number_of_utter_in_dialogue = 3\n",
    "        \n",
    "        #Need to explore this hyperparameter\n",
    "        self.weight_rate =1\n",
    "        self.loss_weights = self.calc_loss_weight(self.df_train, self.weight_rate )\n",
    "        self.loss_weights = self.loss_weights.cuda(self.args.device)\n",
    "        print( 'loss weights = {}'.format(self.loss_weights))\n",
    "        self.class_weights = self.calc_class_weight(self.df_train, self.weight_rate )\n",
    "        self.class_weights = self.class_weights.cuda(self.args.device)\n",
    "        print( 'class weights = {}'.format(self.class_weights))\n",
    "        self.sentence_embeds_model = sentence_embeds_model(self.args, dropout = self.dropout)\n",
    "        self.context_classifier_model = context_classifier_model(self.sentence_embeds_model.embedding_size,\n",
    "                                                                 self.projection_size, \n",
    "                                                                 self.n_layers, \n",
    "                                                                 self.emo_dict, \n",
    "                                                                 self.focus_dict,\n",
    "                                                                 self.max_number_of_speakers_in_dialogue,\n",
    "                                                                 self.max_number_of_utter_in_dialogue,\n",
    "                                                                 self.args,\n",
    "                                                                 self.loss_weights,\n",
    "                                                                 dropout = self.dropout)\n",
    "        self.sentence_embeds_model.cuda(self.args.device)\n",
    "        self.context_classifier_model.cuda(self.args.device)\n",
    "    \n",
    "    def calc_loss_weight(self, df, rate=1.0):\n",
    "        \"\"\" Loss weights \"\"\"\n",
    "        emo_count = {}\n",
    "        for emo in self.emo_dict.keys():\n",
    "            emo_count[emo] =df['label'].value_counts()[emo]\n",
    "        min_emo = float(min([ emo_count[w] for w in self.focus_dict]))\n",
    "        weight = [math.pow(min_emo / emo_count[k], rate) if k in self.focus_dict else 0 for k,v in emo_count.items()]\n",
    "        weight = np.array(weight)\n",
    "        weight /= np.sum(weight)\n",
    "        weight = torch.from_numpy(weight).float()\n",
    "        return weight\n",
    "    \n",
    "    def calc_class_weight(self, df, rate=1.0):\n",
    "        \"\"\" class weights \"\"\"\n",
    "        emo_count = {}\n",
    "        for emo in self.emo_dict.keys():\n",
    "            if emo in self.focus_dict:\n",
    "                emo_count[emo] =df['label'].value_counts()[emo]\n",
    "            \n",
    "        \n",
    "        weight = [(v / sum(emo_count.values())) for k,v in emo_count.items()]\n",
    "        weight = np.array(weight)\n",
    "        weight = torch.from_numpy(weight).float()\n",
    "        return weight\n",
    "    \n",
    "    \n",
    "    def get_speakers_encoder(self):\n",
    "        speaker_list = list(self.df_train.speaker)\n",
    "        speaker_list.extend(list(self.df_val.speaker))\n",
    "        speaker_list.extend(list(self.df_test.speaker))\n",
    "        speaker_set = set(speaker_list )\n",
    "        speaker_list = []\n",
    "        for e in speaker_set:\n",
    "            templist = []\n",
    "            templist.append(e)\n",
    "            speaker_list.append(templist)\n",
    "        cat = OneHotEncoder()\n",
    "        cat.fit(np.asarray(speaker_list, dtype = object))\n",
    "        return cat, len(speaker_set)\n",
    "    '''\n",
    "    def get_speakers_encoder(self):\n",
    "        \n",
    "        speaker_list = []\n",
    "        complete_speaker_list = list(df_train['speaker'])\n",
    "        complete_speaker_list.extend(list(df_val['speaker']))\n",
    "        complete_speaker_list.extend(list(df_test['speaker']))\n",
    "        occurence_count = Counter(complete_speaker_list)\n",
    "        common_speakers = occurence_count.most_common(6)\n",
    " \n",
    "        for e in common_speakers:\n",
    "            templist = []\n",
    "            templist.append(e[0])\n",
    "            speaker_list.append(templist)\n",
    "        cat = OneHotEncoder()\n",
    "        cat.fit(np.asarray(speaker_list, dtype = object))\n",
    "        return cat, len(set(complete_speaker_list))\n",
    "    '''\n",
    "    def get_max_number_of_speakers_in_dialogue(self):\n",
    "        number_of_speakers_in_dialogue = []\n",
    "        train_dialogue_id_list = list((self.df_train['dialogue_id'].unique()))\n",
    "        val_dialogue_id_list = list((self.df_val['dialogue_id'].unique()))\n",
    "        test_dialogue_id_list = list((self.df_test['dialogue_id'].unique()))\n",
    "        \n",
    "        for dialogue in train_dialogue_id_list:\n",
    "            number_of_speakers_in_dialogue.append(len(set(self.df_train[(self.df_train.dialogue_id ==dialogue)].speaker)))\n",
    "        for dialogue in val_dialogue_id_list:\n",
    "            number_of_speakers_in_dialogue.append(len(set(self.df_val[(self.df_val.dialogue_id ==dialogue)].speaker)))\n",
    "        for dialogue in test_dialogue_id_list:\n",
    "            number_of_speakers_in_dialogue.append(len(set(self.df_test[(self.df_test.dialogue_id ==dialogue)].speaker)))\n",
    "        return( max(number_of_speakers_in_dialogue))\n",
    "    \n",
    "    def get_max_utterance_length_in_dialogue(self):\n",
    "        #import IPython; IPython.embed();  exit(1)\n",
    "        train_dialogue_id_list = list((self.df_train['dialogue_id'].unique()))\n",
    "        val_dialogue_id_list = list((self.df_val['dialogue_id'].unique()))\n",
    "        test_dialogue_id_list = list((self.df_test['dialogue_id'].unique()))\n",
    "        number_of_utterance_in_dialogue = []\n",
    "        for dialogue in train_dialogue_id_list:\n",
    "             number_of_utterance_in_dialogue.append((self.df_train.dialogue_id ==dialogue).sum())\n",
    "        for dialogue in val_dialogue_id_list:\n",
    "             number_of_utterance_in_dialogue.append((self.df_val.dialogue_id ==dialogue).sum())\n",
    "        for dialogue in test_dialogue_id_list:\n",
    "             number_of_utterance_in_dialogue.append((self.df_test.dialogue_id ==dialogue).sum())\n",
    "        return( max(number_of_utterance_in_dialogue))\n",
    "       \n",
    "\n",
    "    def forward(self, input_ids, attention_mask, spkr_emd, labels = None):\n",
    "        \"\"\"\n",
    "        no special modification required for lightning, define as you normally would\n",
    "        \"\"\"\n",
    "      \n",
    "        sentence_embeds = self.sentence_embeds_model(input_ids = input_ids, \n",
    "                                                             attention_mask = attention_mask)\n",
    "    \n",
    "        return self.context_classifier_model(sentence_embeds = sentence_embeds,spkr_emd = spkr_emd, labels = labels)\n",
    "    \n",
    "    def training_step(self, batch, batch_idx):\n",
    "        \"\"\"\n",
    "        Lightning calls this inside the training loop\n",
    "        \"\"\"       \n",
    "        input_ids, attention_mask, spkr_emd , labels = batch\n",
    "        spkr_emd = spkr_emd.cuda(self.args.device)\n",
    "        labels = labels.view(-1)\n",
    "              \n",
    "        loss, _ = self.forward(input_ids = input_ids, attention_mask = attention_mask, spkr_emd = spkr_emd, labels = labels)\n",
    "       \n",
    "        tensorboard_logs = {'train_loss': loss}\n",
    "        self.log('train_loss', loss, prog_bar=True)\n",
    "        return {'loss': loss, 'log': tensorboard_logs}\n",
    "\n",
    "    \n",
    "    def validation_step(self, batch, batch_idx):\n",
    "        \"\"\"\n",
    "        Lightning calls this inside the validation loop\n",
    "        \"\"\"\n",
    "        \n",
    "        input_ids, attention_mask, spkr_emd , labels = batch\n",
    "        spkr_emd = spkr_emd.cuda(self.args.device)\n",
    "        labels = labels.view(-1)\n",
    "        \n",
    "        loss, logits = self.forward(input_ids = input_ids, attention_mask = attention_mask,spkr_emd = spkr_emd,  labels = labels)\n",
    "        scores_dict = metrics(loss, logits, labels, self.emo_dict,self.focus_emo, self.args)\n",
    "        return scores_dict\n",
    "    \n",
    "    def validation_epoch_end(self, outputs):\n",
    "        \"\"\"\n",
    "        called at the end of validation to aggregate outputs\n",
    "        :param outputs: list of individual outputs of each validation step\n",
    "        :return:\n",
    "        \"\"\"\n",
    "        #import IPython; IPython.embed();  exit(1)\n",
    "        tqdm_dict = {}\n",
    "        \n",
    "        tqdm_dict['val_loss'] = 0\n",
    "        tqdm_dict['preds'] = [0 for w in self.focus_dict]\n",
    "        tqdm_dict['labels'] = [0 for w in self.focus_dict]\n",
    "        tqdm_dict['tp'] = [0 for w in self.focus_dict]\n",
    "        tqdm_dict['fp'] = [0 for w in self.focus_dict]\n",
    "        tqdm_dict['fn'] = [0 for w in self.focus_dict]\n",
    "        tqdm_dict['acc_per_class'] = [0 for w in self.focus_dict]\n",
    "        tqdm_dict['y_pred'] = []\n",
    "        tqdm_dict['y_true'] = []\n",
    "        \n",
    "        for metric_name in outputs[0].keys():\n",
    "          \n",
    "            for output in outputs:\n",
    "                metric_value = output[metric_name]\n",
    "                if metric_name in ['y_pred', 'y_true']:\n",
    "                    tqdm_dict[metric_name].extend(metric_value)\n",
    "                else:\n",
    "                    tqdm_dict[metric_name] += metric_value\n",
    "                    \n",
    "            if metric_name in ['val_loss']:\n",
    "                tqdm_dict[metric_name] =  tqdm_dict[metric_name] / len(outputs)\n",
    "                \n",
    "               \n",
    "        for i in range(len(self.focus_dict)):\n",
    "            if  tqdm_dict['labels'][i]:\n",
    "                tqdm_dict['acc_per_class'][i] = np.round((tqdm_dict['tp'][i] / tqdm_dict['labels'][i])*100, 2)\n",
    "            else:\n",
    "                tqdm_dict['acc_per_class'][i] = 0.0\n",
    "        \n",
    "        \n",
    "        tqdm_dict['acc_unweighted'] = np.round(sum(tqdm_dict['acc_per_class']) / len(tqdm_dict['acc_per_class']),2)       \n",
    "        tqdm_dict['acc_weighted'] = sum(weight * value for weight, value in zip(self.class_weights, tqdm_dict['acc_per_class']))\n",
    "        \n",
    "        tqdm_dict['acc_weighted'] = (tqdm_dict['acc_weighted'] * 10**2).round() / (10**2)\n",
    "        prec_rec_f1 = calc_f1_score(tqdm_dict['tp'], tqdm_dict['fp'], tqdm_dict['fn'])\n",
    "        tqdm_dict.update(prec_rec_f1) \n",
    "        self.y_true = tqdm_dict.pop(\"y_true\", None)\n",
    "        self.y_pred = tqdm_dict.pop(\"y_pred\", None)\n",
    "      \n",
    "        self.log('valid_loss', tqdm_dict[\"val_loss\"], prog_bar=False)\n",
    "        self.log('valid_ac_unweighted', tqdm_dict[\"acc_unweighted\"], prog_bar=False)\n",
    "        self.log('macroRecall', tqdm_dict[\"macroRecall\"], prog_bar=False)\n",
    "        \n",
    "        if self.verbosity :\n",
    "            print(*tqdm_dict.items(), sep='\\n')\n",
    "            result = {'progress_bar': tqdm_dict, 'log': tqdm_dict, 'val_loss': tqdm_dict[\"val_loss\"]}\n",
    "        else:\n",
    "            result = tqdm_dict['macroRecall']\n",
    "        return result\n",
    "\n",
    "    \n",
    "    def test_step(self, batch, batch_idx):\n",
    " \n",
    "        return self.validation_step(batch, batch_idx)\n",
    "\n",
    "    \n",
    "    def test_epoch_end(self, outputs):\n",
    "        return_value =  self.validation_epoch_end(outputs)\n",
    "        return (return_value)\n",
    "    \n",
    "    def configure_optimizers(self):\n",
    "        \"\"\"\n",
    "        returns the optimizer and scheduler\n",
    "        \"\"\"\n",
    "        params = self.sentence_embeds_model.layerwise_lr(self.args.lr, self.args.layerwise_decay)\n",
    "        params += [{'params': self.context_classifier_model.parameters()}]\n",
    "        self.optimizer = torch.optim.Adam(params, lr=self.args.lr)\n",
    "        self.scheduler = torch.optim.lr_scheduler.CosineAnnealingLR(self.optimizer, T_max=10)\n",
    "        return [self.optimizer], [self.scheduler]\n",
    "    \n",
    "\n",
    "   \n",
    "    def train_dataloader(self):\n",
    "        \n",
    "        dataset = CustomDataset(self.df_train, self.max_number_of_speakers_in_dialogue, self.emo_dict, self.encoder, self.args)\n",
    "        train_loader = DataLoader(dataset, self.args.batch_size, shuffle=True, num_workers=0)\n",
    "      \n",
    "        return train_loader\n",
    "\n",
    "    \n",
    "\n",
    "    def val_dataloader(self):\n",
    "\n",
    "        dataset = CustomDataset(self.df_val, self.max_number_of_speakers_in_dialogue, self.emo_dict, self.encoder, self.args)\n",
    "        val_loader = DataLoader(dataset, self.args.batch_size, shuffle=False, num_workers=0)\n",
    "      \n",
    "        return val_loader\n",
    "\n",
    "    def test_dataloader(self):\n",
    "        \n",
    "        dataset = CustomDataset(self.df_test, self.max_number_of_speakers_in_dialogue, self.emo_dict, self.encoder, self.args)\n",
    "        test_loader = DataLoader(dataset, self.args.batch_size, shuffle=False, num_workers=0)\n",
    "       \n",
    "        return test_loader     \n",
    "\n",
    "def train_model (model):\n",
    "    \n",
    "    early_stop_callback = pl.callbacks.EarlyStopping(monitor='valid_loss', min_delta=0.0005, patience=5,\n",
    "                                        verbose=True, mode='min')\n",
    "\n",
    "    checkpoint_callback = pl.callbacks.ModelCheckpoint( monitor='valid_loss' , mode = 'min', save_top_k = model.args.epochs) \n",
    "\n",
    "  \n",
    "    gpu_list = [int(model.args.gpu)]  \n",
    "    trainer = pl.Trainer(default_root_dir=os.getcwd(),\n",
    "                    gpus=(gpu_list if torch.cuda.is_available() else 0),\n",
    "                    max_epochs= model.args.epochs,\n",
    "                    fast_dev_run=False,\n",
    "                    deterministic=True,\n",
    "                    callbacks = [early_stop_callback,checkpoint_callback] \n",
    "                    )\n",
    "    trainer.fit(model)\n",
    "    return trainer\n",
    "    \n",
    "def test_model(trainer, model):\n",
    "    if 1:\n",
    "        print('In Test Model')\n",
    "        score = trainer.test(verbose = model.verbosity)\n",
    "    else:\n",
    "        checkpoint_path = './lightning_logs/version_0/checkpoints/'\n",
    "        checkpoints = os.listdir(checkpoint_path)\n",
    "\n",
    "        for checkpoint in checkpoints:\n",
    "            print(checkpoint)\n",
    "            score = trainer.test(ckpt_path = checkpoint_path + checkpoint )\n",
    "    return score "
   ]
  },
  {
   "cell_type": "code",
   "execution_count": 57,
   "id": "d6172d95",
   "metadata": {},
   "outputs": [
    {
     "name": "stdout",
     "output_type": "stream",
     "text": [
      "Speaker Embedding is Enabled\n",
      "Max number of speakers in a dialgue = 309\n",
      "loss weights = tensor([0.0364, 0.4922, 0.3368, 0.1347, 0.0000, 0.0000, 0.0000, 0.0000],\n",
      "       device='cuda:0')\n",
      "class weights = tensor([0.6888, 0.0509, 0.0744, 0.1860], device='cuda:0')\n"
     ]
    }
   ],
   "source": [
    "model = EmotionModel(emo_dict, focus_dict, args, df_train, df_val, df_test, verbosity = True)\n",
    "model = model.cuda(args.device)"
   ]
  },
  {
   "cell_type": "code",
   "execution_count": 58,
   "id": "adf46764",
   "metadata": {},
   "outputs": [
    {
     "name": "stderr",
     "output_type": "stream",
     "text": [
      "GPU available: True, used: True\n",
      "TPU available: False, using: 0 TPU cores\n",
      "LOCAL_RANK: 0 - CUDA_VISIBLE_DEVICES: [0]\n",
      "\n",
      "  | Name                     | Type                     | Params\n",
      "----------------------------------------------------------------------\n",
      "0 | sentence_embeds_model    | sentence_embeds_model    | 66.4 M\n",
      "1 | context_classifier_model | context_classifier_model | 20.1 M\n",
      "----------------------------------------------------------------------\n",
      "86.4 M    Trainable params\n",
      "0         Non-trainable params\n",
      "86.4 M    Total params\n",
      "345.797   Total estimated model params size (MB)\n"
     ]
    },
    {
     "data": {
      "application/vnd.jupyter.widget-view+json": {
       "model_id": "",
       "version_major": 2,
       "version_minor": 0
      },
      "text/plain": [
       "HBox(children=(HTML(value='Validation sanity check'), FloatProgress(value=1.0, bar_style='info', layout=Layout…"
      ]
     },
     "metadata": {},
     "output_type": "display_data"
    },
    {
     "name": "stderr",
     "output_type": "stream",
     "text": [
      "C:\\Users\\neera\\anaconda3\\envs\\NLP3\\lib\\site-packages\\pytorch_lightning\\utilities\\distributed.py:69: UserWarning: The dataloader, val dataloader 0, does not have many workers which may be a bottleneck. Consider increasing the value of the `num_workers` argument` (try 8 which is the number of cpus on this machine) in the `DataLoader` init to improve performance.\n",
      "  warnings.warn(*args, **kwargs)\n",
      "Global seed set to 42\n"
     ]
    },
    {
     "name": "stdout",
     "output_type": "stream",
     "text": [
      "('val_loss', tensor(0.1161, device='cuda:0'))\n",
      "('preds', array([ 2,  0, 13,  0], dtype=int64))\n",
      "('labels', array([11,  0,  0,  4], dtype=int64))\n",
      "('tp', array([2, 0, 0, 0], dtype=int64))\n",
      "('fp', array([ 0,  0, 13,  0], dtype=int64))\n",
      "('fn', array([9, 0, 0, 4], dtype=int64))\n",
      "('acc_per_class', [18.18, 0.0, 0.0, 0.0])\n",
      "('acc_unweighted', 4.54)\n",
      "('acc_weighted', tensor(12.5200, device='cuda:0'))\n",
      "('microRecall', 13.33)\n",
      "('macroRecall', 4.54)\n",
      "('microPrecision', 13.33)\n",
      "('macroPrecision', 25.0)\n",
      "('microF1_score', 13.329999999999998)\n",
      "('macroF1_score', 7.69)\n"
     ]
    },
    {
     "name": "stderr",
     "output_type": "stream",
     "text": [
      "C:\\Users\\neera\\anaconda3\\envs\\NLP3\\lib\\site-packages\\pytorch_lightning\\utilities\\distributed.py:69: UserWarning: The dataloader, train dataloader, does not have many workers which may be a bottleneck. Consider increasing the value of the `num_workers` argument` (try 8 which is the number of cpus on this machine) in the `DataLoader` init to improve performance.\n",
      "  warnings.warn(*args, **kwargs)\n"
     ]
    },
    {
     "data": {
      "application/vnd.jupyter.widget-view+json": {
       "model_id": "80d712e6feab493bab10531570d0cee0",
       "version_major": 2,
       "version_minor": 0
      },
      "text/plain": [
       "HBox(children=(HTML(value='Training'), FloatProgress(value=1.0, bar_style='info', layout=Layout(flex='2'), max…"
      ]
     },
     "metadata": {},
     "output_type": "display_data"
    },
    {
     "data": {
      "application/vnd.jupyter.widget-view+json": {
       "model_id": "",
       "version_major": 2,
       "version_minor": 0
      },
      "text/plain": [
       "HBox(children=(HTML(value='Validating'), FloatProgress(value=1.0, bar_style='info', layout=Layout(flex='2'), m…"
      ]
     },
     "metadata": {},
     "output_type": "display_data"
    },
    {
     "name": "stderr",
     "output_type": "stream",
     "text": [
      "Metric valid_loss improved. New best score: 0.077\n"
     ]
    },
    {
     "name": "stdout",
     "output_type": "stream",
     "text": [
      "('val_loss', tensor(0.0770, device='cuda:0'))\n",
      "('preds', array([360, 150,  49, 202], dtype=int64))\n",
      "('labels', array([491,  62,  85, 123], dtype=int64))\n",
      "('tp', array([321,  38,  33, 105], dtype=int64))\n",
      "('fp', array([ 39, 112,  16,  97], dtype=int64))\n",
      "('fn', array([170,  24,  52,  18], dtype=int64))\n",
      "('acc_per_class', [65.38, 61.29, 38.82, 85.37])\n",
      "('acc_unweighted', 62.72)\n",
      "('acc_weighted', tensor(66.9100, device='cuda:0'))\n",
      "('microRecall', 65.31)\n",
      "('macroRecall', 62.72)\n",
      "('microPrecision', 65.31)\n",
      "('macroPrecision', 58.46)\n",
      "('microF1_score', 65.31)\n",
      "('macroF1_score', 56.29)\n"
     ]
    },
    {
     "data": {
      "application/vnd.jupyter.widget-view+json": {
       "model_id": "",
       "version_major": 2,
       "version_minor": 0
      },
      "text/plain": [
       "HBox(children=(HTML(value='Validating'), FloatProgress(value=1.0, bar_style='info', layout=Layout(flex='2'), m…"
      ]
     },
     "metadata": {},
     "output_type": "display_data"
    },
    {
     "name": "stderr",
     "output_type": "stream",
     "text": [
      "Metric valid_loss improved by 0.005 >= min_delta = 0.0005. New best score: 0.072\n"
     ]
    },
    {
     "name": "stdout",
     "output_type": "stream",
     "text": [
      "('val_loss', tensor(0.0717, device='cuda:0'))\n",
      "('preds', array([365, 139, 116, 141], dtype=int64))\n",
      "('labels', array([491,  62,  85, 123], dtype=int64))\n",
      "('tp', array([331,  39,  51,  89], dtype=int64))\n",
      "('fp', array([ 34, 100,  65,  52], dtype=int64))\n",
      "('fn', array([160,  23,  34,  34], dtype=int64))\n",
      "('acc_per_class', [67.41, 62.9, 60.0, 72.36])\n",
      "('acc_unweighted', 65.67)\n",
      "('acc_weighted', tensor(67.5500, device='cuda:0'))\n",
      "('microRecall', 67.02)\n",
      "('macroRecall', 65.67)\n",
      "('microPrecision', 67.02)\n",
      "('macroPrecision', 56.46)\n",
      "('microF1_score', 67.02)\n",
      "('macroF1_score', 58.58)\n",
      "\n"
     ]
    }
   ],
   "source": [
    "trainer = train_model(model)\n"
   ]
  },
  {
   "cell_type": "code",
   "execution_count": 78,
   "id": "a2b6cd22",
   "metadata": {},
   "outputs": [
    {
     "name": "stdout",
     "output_type": "stream",
     "text": [
      "In Test Model\n"
     ]
    },
    {
     "name": "stderr",
     "output_type": "stream",
     "text": [
      "LOCAL_RANK: 0 - CUDA_VISIBLE_DEVICES: [0]\n",
      "C:\\Users\\neera\\anaconda3\\envs\\NLP3\\lib\\site-packages\\pytorch_lightning\\utilities\\distributed.py:69: UserWarning: The dataloader, test dataloader 0, does not have many workers which may be a bottleneck. Consider increasing the value of the `num_workers` argument` (try 8 which is the number of cpus on this machine) in the `DataLoader` init to improve performance.\n",
      "  warnings.warn(*args, **kwargs)\n"
     ]
    },
    {
     "data": {
      "application/vnd.jupyter.widget-view+json": {
       "model_id": "7122f666b7ab4f1dbbbcc6072c49cd89",
       "version_major": 2,
       "version_minor": 0
      },
      "text/plain": [
       "HBox(children=(HTML(value='Testing'), FloatProgress(value=1.0, bar_style='info', layout=Layout(flex='2'), max=…"
      ]
     },
     "metadata": {},
     "output_type": "display_data"
    },
    {
     "name": "stdout",
     "output_type": "stream",
     "text": [
      "\n",
      "f1 score is 71.4\n"
     ]
    }
   ],
   "source": [
    "model.verbosity = False\n",
    "score = test_model(trainer, model)\n",
    "print('f1 score is {}'.format(score[0]['macroRecall']))"
   ]
  },
  {
   "cell_type": "code",
   "execution_count": 79,
   "id": "87c09e58",
   "metadata": {},
   "outputs": [
    {
     "data": {
      "text/plain": [
       "[{'valid_loss': 0.048599179834127426,\n",
       "  'valid_ac_unweighted': 71.4,\n",
       "  'macroRecall': 71.4}]"
      ]
     },
     "execution_count": 79,
     "metadata": {},
     "output_type": "execute_result"
    }
   ],
   "source": [
    "score"
   ]
  },
  {
   "cell_type": "markdown",
   "id": "2bbe691f",
   "metadata": {},
   "source": [
    "# Results Analysis\n",
    " - We perform a number of experiments to get better understanding of our results and the capabalities of our model "
   ]
  },
  {
   "attachments": {
    "image.png": {
     "image/png": "[encoded data removed]"
    }
   },
   "cell_type": "markdown",
   "id": "462361d0",
   "metadata": {},
   "source": [
    "# Label Shift\n",
    "We want to explore the label copying property which means consecutive utterances from the same speaker or different speakers often have the same emotion. Contextual models make correct predictions when utterances display such kind of continuation of the same label. But what happens when there is a change of label. We look at the following two different kind of shifts that could happen in the course of a dialogue\n",
    " - Intra-Speaker Shift : The label of the utterance is different from the label of the previous utterance from the same speaker\n",
    " - Inter-Speaker Shift: The label of the utterance is different from the label of the previous utterance from the non-target speaker\n",
    " \n",
    " ![image.png](attachment:image.png)"
   ]
  },
  {
   "cell_type": "code",
   "execution_count": 29,
   "id": "ec811103",
   "metadata": {},
   "outputs": [],
   "source": [
    "def get_intra_specific_label_shift(df):\n",
    "    number_of_speakers_in_dialogue= []\n",
    "    intraspeakers_shift_index_list = []\n",
    "    count_intraspeakers_shift_list = []\n",
    "    last_index_in_previous_dialogue = 0\n",
    "    dialogue_id_list = list((df['dialogue_id'].unique()))\n",
    "    for dialogue in dialogue_id_list:\n",
    "        df_dialogue = df[(df.dialogue_id ==dialogue)]\n",
    "        speakers_in_dialogue = (list(set(df_dialogue.speaker)))\n",
    "        shift_count = 0\n",
    "        for speaker in speakers_in_dialogue:\n",
    "            indexs_to_check = df_dialogue[(df_dialogue.speaker ==speaker)].index\n",
    "            first_index = True\n",
    "            for index in indexs_to_check:\n",
    "                current_label = df_dialogue.iloc[index-last_index_in_previous_dialogue].label\n",
    "                if first_index:\n",
    "                    prev_label = current_label\n",
    "                    first_index = False\n",
    "                    continue\n",
    "\n",
    "                if  current_label != prev_label:\n",
    "                    prev_label = current_label\n",
    "                    intraspeakers_shift_index_list.append(index)\n",
    "                    shift_count += 1\n",
    "\n",
    "        last_index_in_previous_dialogue = df_dialogue.index[-1]+1\n",
    "        count_intraspeakers_shift_list.append(shift_count)\n",
    "    return (sorted(intraspeakers_shift_index_list), count_intraspeakers_shift_list)\n",
    "\n",
    "def get_inter_specific_label_shift(df):\n",
    "    interspeakers_shift_index_list = []\n",
    "    count_interspeakers_shift_list = []\n",
    "    last_index_in_previous_dialogue = 0\n",
    "    dialogue_id_list = list((df['dialogue_id'].unique()))\n",
    "    for dialogue in dialogue_id_list:\n",
    "        df_dialogue = df[(df.dialogue_id ==dialogue)]\n",
    "        shift_count = 0\n",
    "        first_index = True\n",
    "        for index in df_dialogue.index:\n",
    "            current_label = df_dialogue.iloc[index-last_index_in_previous_dialogue].label\n",
    "            if first_index:\n",
    "                prev_label = current_label\n",
    "                first_index = False\n",
    "                continue\n",
    "            if  current_label != prev_label:\n",
    "                prev_label = current_label\n",
    "                interspeakers_shift_index_list.append(index)\n",
    "                shift_count += 1\n",
    "\n",
    "        last_index_in_previous_dialogue = df_dialogue.index[-1]+1\n",
    "        count_interspeakers_shift_list.append(shift_count)\n",
    "    return (sorted(interspeakers_shift_index_list), count_interspeakers_shift_list)\n",
    "\n",
    "def get_intra_specific_sentiment_shift(df):\n",
    "    number_of_speakers_in_dialogue= []\n",
    "    intraspeakers_shift_index_list = []\n",
    "    count_intraspeakers_shift_list = []\n",
    "    dialogue_id_list = list((df['dialogue_id'].unique()))\n",
    "    for dialogue in dialogue_id_list:\n",
    "        df_dialogue = df[(df.dialogue_id ==dialogue)]\n",
    "        speakers_in_dialogue = (list(set(df_dialogue.speaker)))\n",
    "        shift_count = 0\n",
    "        for speaker in speakers_in_dialogue:\n",
    "            indexs_to_check = df_dialogue[(df_dialogue.speaker ==speaker)].index\n",
    "            first_index = True\n",
    "            for index in indexs_to_check:\n",
    "                current_sentiment = sentiment_labels_true[index]\n",
    "\n",
    "                if first_index:\n",
    "                    prev_sentiment = current_sentiment\n",
    "                    first_index = False\n",
    "                    continue\n",
    "\n",
    "                if  current_sentiment != prev_sentiment:\n",
    "                    prev_sentiment = current_sentiment\n",
    "                    intraspeakers_shift_index_list.append(index)\n",
    "                    shift_count += 1\n",
    "\n",
    "        count_intraspeakers_shift_list.append(shift_count)\n",
    "    return (sorted(intraspeakers_shift_index_list), count_intraspeakers_shift_list)\n",
    "\n",
    "def get_inter_specific_sentiment_shift(df):\n",
    "    interspeakers_shift_index_list = []\n",
    "    count_interspeakers_shift_list = []\n",
    "    dialogue_id_list = list((df['dialogue_id'].unique()))\n",
    "    for dialogue in dialogue_id_list:\n",
    "        df_dialogue = df[(df.dialogue_id ==dialogue)]\n",
    "        shift_count = 0\n",
    "        first_index = True\n",
    "        for index in df_dialogue.index:\n",
    "            current_sentiment = sentiment_labels_true[index]\n",
    "            if first_index:\n",
    "                prev_sentiment = current_sentiment\n",
    "                first_index = False\n",
    "                continue\n",
    "            if  current_sentiment != prev_sentiment:\n",
    "                prev_sentiment = current_sentiment\n",
    "                interspeakers_shift_index_list.append(index)\n",
    "                shift_count += 1\n",
    "\n",
    "\n",
    "        count_interspeakers_shift_list.append(shift_count)\n",
    "    return (sorted(interspeakers_shift_index_list), count_interspeakers_shift_list)\n",
    "\n",
    "def cal_macro_recall(y_pred, y_true,focus_emo):\n",
    "    TP = np.zeros([len(emo_dict.keys())], dtype=np.int64) # recall\n",
    "    TP_FN = np.zeros([len(emo_dict.keys())], dtype=np.int64) # gold\n",
    "    emo_predidx = y_pred\n",
    "    emo_true = y_true\n",
    "\n",
    "    for lb in range(len(emo_true)):\n",
    "        idx = emo_true[lb]\n",
    "        TP_FN[idx] += 1\n",
    "        if idx in model.focus_emo:\n",
    "            if emo_true[lb] == emo_predidx[lb]:\n",
    "                TP[idx] += 1\n",
    "\n",
    "    tp = TP[focus_emo]\n",
    "    tp_fn = TP_FN[focus_emo]\n",
    "    Recall = [np.round(tp/tp_fn*100, 2) if tp_fn>0 else 0 for tp,tp_fn in zip(tp,tp_fn)]\n",
    "    score = np.round(sum(Recall) / len(Recall), 2)\n",
    "    return score, Recall\n",
    "\n"
   ]
  },
  {
   "cell_type": "code",
   "execution_count": 30,
   "id": "ce78a7e3",
   "metadata": {},
   "outputs": [
    {
     "name": "stdout",
     "output_type": "stream",
     "text": [
      "Intraspeakers Label Shift: Max = 18 Avg. 5.905\n"
     ]
    }
   ],
   "source": [
    "intraspeakers_shift_index_list, count_intraspeakers_shift_list  = get_intra_specific_label_shift(df_test)\n",
    "print('Intraspeakers Label Shift: Max = {} Avg. {}'.format(max(count_intraspeakers_shift_list), sum(count_intraspeakers_shift_list)/len(count_intraspeakers_shift_list)))"
   ]
  },
  {
   "cell_type": "code",
   "execution_count": 31,
   "id": "1c63e566",
   "metadata": {},
   "outputs": [
    {
     "name": "stdout",
     "output_type": "stream",
     "text": [
      "IntraSpeaker Label Shift Macro Recall 72.66\n"
     ]
    }
   ],
   "source": [
    "y_pred = [model.y_pred[i] for i in intraspeakers_shift_index_list]\n",
    "y_true = [model.y_true[i] for i in intraspeakers_shift_index_list]\n",
    "score, Recall = cal_macro_recall(y_pred, y_true, model.focus_emo)\n",
    "print('IntraSpeaker Label Shift Macro Recall {:2.2f}'.format(score))"
   ]
  },
  {
   "cell_type": "code",
   "execution_count": 32,
   "id": "81ea6485",
   "metadata": {},
   "outputs": [
    {
     "name": "stdout",
     "output_type": "stream",
     "text": [
      "Interspeakers Label Shift: Max = 20 Avg. 7.735\n"
     ]
    }
   ],
   "source": [
    "interspeakers_shift_index_list, count_interspeakers_shift_list  = get_inter_specific_label_shift(df_test)\n",
    "print('Interspeakers Label Shift: Max = {} Avg. {}'.format(max(count_interspeakers_shift_list), sum(count_interspeakers_shift_list)/len(count_interspeakers_shift_list)))"
   ]
  },
  {
   "cell_type": "code",
   "execution_count": 33,
   "id": "f0d27867",
   "metadata": {},
   "outputs": [
    {
     "name": "stdout",
     "output_type": "stream",
     "text": [
      "InterSpeaker Label Shift Macro Recall 71.31\n"
     ]
    }
   ],
   "source": [
    "y_pred = [model.y_pred[i] for i in interspeakers_shift_index_list]\n",
    "y_true = [model.y_true[i] for i in interspeakers_shift_index_list]\n",
    "score, Recall = cal_macro_recall(y_pred, y_true, model.focus_emo)\n",
    "print('InterSpeaker Label Shift Macro Recall {:2.2f}'.format(score))"
   ]
  },
  {
   "cell_type": "markdown",
   "id": "7f29f391",
   "metadata": {},
   "source": [
    "# Sentiment Shift\n",
    "We further analyze the results for sentiment shift in intra- and inter-speaker level. For the emotion classification tasks, we\n",
    "group the different emotion labels into three broad categories: i) positive sentiment group with emotions excited, happy, surprise, ii) negative sentiment group with emotions angry, disgust, fear, frustrated, sad, and iii) neutral sentiment group\n",
    "with emotion neutral. We look at the following two different kind of sentiment shifts that could happen in the course of a dialogue\n",
    " - Intra-Speaker Sentiment Shift : The sentiment of the utterance is different from the sentiment of the previous utterance from the same speaker\n",
    " - Inter-Speaker Shift: The sentiment of the utterance is different from the sentiment of the previous utterance from the non-target speaker"
   ]
  },
  {
   "cell_type": "code",
   "execution_count": 34,
   "id": "624d3806",
   "metadata": {},
   "outputs": [],
   "source": [
    "sentiment_labels_true = [sentiment_dict[label] for label in df_test['label'].values]"
   ]
  },
  {
   "cell_type": "code",
   "execution_count": 35,
   "id": "2e24cb48",
   "metadata": {},
   "outputs": [
    {
     "name": "stdout",
     "output_type": "stream",
     "text": [
      "Intraspeakers Sentiment Shift: Max = 16 Avg. 4.555\n"
     ]
    }
   ],
   "source": [
    "intraspeakers_shift_index_list, count_intraspeakers_shift_list  = get_intra_specific_sentiment_shift(df_test)\n",
    "print('Intraspeakers Sentiment Shift: Max = {} Avg. {}'.format(max(count_intraspeakers_shift_list), sum(count_intraspeakers_shift_list)/len(count_intraspeakers_shift_list)))"
   ]
  },
  {
   "cell_type": "code",
   "execution_count": 36,
   "id": "9dbb524f",
   "metadata": {},
   "outputs": [
    {
     "name": "stdout",
     "output_type": "stream",
     "text": [
      "IntraSpeaker Sentiment Shift Macro Recall 75.29\n"
     ]
    }
   ],
   "source": [
    "y_pred = [model.y_pred[i] for i in intraspeakers_shift_index_list]\n",
    "y_true = [model.y_true[i] for i in intraspeakers_shift_index_list]\n",
    "score, Recall = cal_macro_recall(y_pred, y_true, model.focus_emo)\n",
    "print('IntraSpeaker Sentiment Shift Macro Recall {:2.2f}'.format(score))"
   ]
  },
  {
   "cell_type": "code",
   "execution_count": 37,
   "id": "79b7bc5c",
   "metadata": {},
   "outputs": [
    {
     "name": "stdout",
     "output_type": "stream",
     "text": [
      "Interspeakers Sentiment Shift: Max = 15 Avg. 6.07\n"
     ]
    }
   ],
   "source": [
    "interspeakers_shift_index_list, count_interspeakers_shift_list  = get_inter_specific_sentiment_shift(df_test)\n",
    "print('Interspeakers Sentiment Shift: Max = {} Avg. {}'.format(max(count_interspeakers_shift_list), sum(count_interspeakers_shift_list)/len(count_interspeakers_shift_list)))"
   ]
  },
  {
   "cell_type": "code",
   "execution_count": 38,
   "id": "cea6a748",
   "metadata": {},
   "outputs": [
    {
     "name": "stdout",
     "output_type": "stream",
     "text": [
      "InterSpeaker Sentiment Shift Macro Recall 71.42\n"
     ]
    }
   ],
   "source": [
    "y_pred = [model.y_pred[i] for i in interspeakers_shift_index_list]\n",
    "y_true = [model.y_true[i] for i in interspeakers_shift_index_list]\n",
    "score, Recall = cal_macro_recall(y_pred, y_true, model.focus_emo)\n",
    "print('InterSpeaker Sentiment Shift Macro Recall {:2.2f}'.format(score))"
   ]
  },
  {
   "cell_type": "markdown",
   "id": "a94f5805",
   "metadata": {},
   "source": [
    "# Performance for n-gram Label Patterns\n",
    "We perform a detailed study to understand whether n-gram label patterns that are frequently encountered by the learning algorithm during training, are more likely to be predicted correctly during evaluation"
   ]
  },
  {
   "cell_type": "code",
   "execution_count": 39,
   "id": "e92d7536",
   "metadata": {},
   "outputs": [],
   "source": [
    "def get_label_list (df):\n",
    "    label_list= []\n",
    "    dummy_ele = ['dummy']\n",
    "    dialogue_id_list = list((df['dialogue_id'].unique()))\n",
    "    for dialogue in dialogue_id_list:\n",
    "        df_dialogue = df[(df.dialogue_id ==dialogue)]\n",
    "        label_list.extend(df_dialogue.label)\n",
    "        label_list.extend(dummy_ele)\n",
    "    return label_list\n",
    "\n",
    "def get_ngram_label_shift(ngram_list, df):\n",
    "    ngram_index_list = []\n",
    "    count_ngram_label_list = []\n",
    "    last_index_in_previous_dialogue = 0\n",
    "    dialogue_id_list = list((df['dialogue_id'].unique()))\n",
    "    for dialogue in dialogue_id_list:\n",
    "        df_dialogue = df[(df.dialogue_id ==dialogue)]\n",
    "        shift_count = 0\n",
    "        first_index = True\n",
    "        for index in df_dialogue.index:\n",
    "            if (index + len(ngram_list) -1) > list(df_dialogue.index)[-1]:\n",
    "                break\n",
    "           \n",
    "            if(list(df_dialogue.iloc[index-last_index_in_previous_dialogue : index-last_index_in_previous_dialogue + len(ngram_list)].label)) == ngram_list :\n",
    "                ngram_index_list.extend(list(range(index,index + len(ngram_list))))\n",
    "                shift_count += 1\n",
    "\n",
    "        last_index_in_previous_dialogue = df_dialogue.index[-1]+1\n",
    "        count_ngram_label_list.append(shift_count)\n",
    "    return sorted(list(set(ngram_index_list))), sum(count_ngram_label_list)\n",
    "\n",
    "def get_training_ngram_list(df_train, df_val, ngram_length_list):\n",
    "    train_label_list  = get_label_list (df_train)\n",
    "    train_label_list.extend(get_label_list(df_val))\n",
    "    train_ngram_list = []\n",
    "    for n in ngram_length_list:\n",
    "        ngram_dict = {}\n",
    "        bagofWords = nltk.ngrams(train_label_list,n)\n",
    "        train_fdist = nltk.FreqDist(bagofWords)\n",
    "        for k, v in train_fdist.items():\n",
    "            if(set(k).issubset(set(model.focus_dict)))and (v > 2):\n",
    "                ngram_dict[k] = [v,np.round((v/sum(train_fdist.values())*100), 2)]\n",
    "        train_ngram_dict_sorted = {k:v for k,v in sorted(ngram_dict.items(), key=lambda item:item[1][1], reverse=True)}\n",
    "        train_ngram_list.append(train_ngram_dict_sorted)\n",
    "    \n",
    "    return train_ngram_list\n",
    "\n",
    "def get_test_ngram_list (df_test,train_ngram_list, ngram_length_list):\n",
    "    test_ngram_list = []\n",
    "    test_label_list = get_label_list (df_test)\n",
    "    for i in range (len(ngram_length_list)):\n",
    "        n = ngram_length_list[i]\n",
    "        test_ngram_dict =  {}\n",
    "        test_bag_of_words= nltk.ngrams(test_label_list,n)\n",
    "        test_fdist = nltk.FreqDist(test_bag_of_words)\n",
    "        for k, v in test_fdist.items():\n",
    "            if (v < 2):\n",
    "                continue\n",
    "            if(set(k).issubset(set(model.focus_dict))) and (set(list((k, k))).issubset(set(list(train_ngram_list[i].keys())))):\n",
    "                test_ngram_dict[k] = [v,np.round((v/sum(test_fdist.values())*100), 2)]\n",
    "       \n",
    "        test_ngram_dict_sorted = {k:v for k,v in sorted(test_ngram_dict.items(), key=lambda item:item[1][1], reverse=True)}\n",
    "        test_ngram_list.append(test_ngram_dict_sorted)\n",
    "    return test_ngram_list\n",
    "    \n",
    "def create_test_score_dataframe(train_ngram_list, test_ngram_list, df_test, ngram_length_list):\n",
    "    column_list = list(('occurence_in_train', 'test_score'))\n",
    "    df_list = []\n",
    "    for i in range (len(ngram_length_list)):\n",
    "        df_list.append(pd.DataFrame(columns = column_list))\n",
    "        for k1,v1 in test_ngram_list[i].items():\n",
    "            ngram_index, count  = get_ngram_label_shift(list(k1) , df_test)\n",
    "            assert(count == v1[0])\n",
    "            y_pred = [model.y_pred[i] for i in ngram_index]\n",
    "            y_true = [model.y_true[i] for i in ngram_index]\n",
    "            score, Recall = cal_macro_recall(y_pred, y_true, [model.emo_dict[k2] for k2 in list(set(k1))])\n",
    "            occurence_score = train_ngram_list[i][k1][1]\n",
    "            new_row = {'occurence_in_train':occurence_score, 'test_score':score}\n",
    "            df_list[i] = df_list[i].append(new_row, ignore_index=True)\n",
    "    return df_list\n",
    "  "
   ]
  },
  {
   "cell_type": "code",
   "execution_count": 40,
   "id": "a2cd5c1d",
   "metadata": {},
   "outputs": [],
   "source": [
    "ngram_length_list = [2, 3, 4]\n",
    "train_ngram_list = get_training_ngram_list(model.df_train, model.df_val,ngram_length_list )"
   ]
  },
  {
   "cell_type": "code",
   "execution_count": 41,
   "id": "9a9a5e40",
   "metadata": {},
   "outputs": [
    {
     "data": {
      "text/plain": [
       "(16, 50, 70)"
      ]
     },
     "execution_count": 41,
     "metadata": {},
     "output_type": "execute_result"
    }
   ],
   "source": [
    "len(train_ngram_list[0]), len(train_ngram_list[1]), len(train_ngram_list[2]), "
   ]
  },
  {
   "cell_type": "code",
   "execution_count": 42,
   "id": "f7a55c5e",
   "metadata": {},
   "outputs": [
    {
     "data": {
      "text/plain": [
       "{('neutral', 'neutral'): [2646, 21.1],\n",
       " ('neutral', 'joy'): [470, 3.75],\n",
       " ('joy', 'neutral'): [468, 3.73],\n",
       " ('joy', 'joy'): [425, 3.39],\n",
       " ('anger', 'anger'): [164, 1.31],\n",
       " ('neutral', 'anger'): [156, 1.24],\n",
       " ('anger', 'neutral'): [150, 1.2],\n",
       " ('neutral', 'sadness'): [131, 1.04],\n",
       " ('sadness', 'neutral'): [128, 1.02],\n",
       " ('sadness', 'sadness'): [88, 0.7],\n",
       " ('sadness', 'joy'): [27, 0.22],\n",
       " ('joy', 'anger'): [27, 0.22],\n",
       " ('anger', 'joy'): [22, 0.18],\n",
       " ('joy', 'sadness'): [20, 0.16],\n",
       " ('anger', 'sadness'): [17, 0.14],\n",
       " ('sadness', 'anger'): [15, 0.12]}"
      ]
     },
     "execution_count": 42,
     "metadata": {},
     "output_type": "execute_result"
    }
   ],
   "source": [
    "train_ngram_list[0]"
   ]
  },
  {
   "cell_type": "code",
   "execution_count": 43,
   "id": "56223f0b",
   "metadata": {},
   "outputs": [],
   "source": [
    "test_ngram_list = get_test_ngram_list(model.df_test,train_ngram_list, ngram_length_list )"
   ]
  },
  {
   "cell_type": "code",
   "execution_count": 44,
   "id": "f47d341c",
   "metadata": {},
   "outputs": [
    {
     "data": {
      "text/plain": [
       "(16, 31, 36)"
      ]
     },
     "execution_count": 44,
     "metadata": {},
     "output_type": "execute_result"
    }
   ],
   "source": [
    "len(test_ngram_list[0]), len(test_ngram_list[1]), len(test_ngram_list[2])"
   ]
  },
  {
   "cell_type": "code",
   "execution_count": 45,
   "id": "18cea938",
   "metadata": {},
   "outputs": [],
   "source": [
    "df_list = create_test_score_dataframe(train_ngram_list, test_ngram_list, model.df_test, ngram_length_list)"
   ]
  },
  {
   "cell_type": "code",
   "execution_count": 46,
   "id": "a3752b84",
   "metadata": {},
   "outputs": [
    {
     "data": {
      "text/plain": [
       "((16, 2), (31, 2), (36, 2))"
      ]
     },
     "execution_count": 46,
     "metadata": {},
     "output_type": "execute_result"
    }
   ],
   "source": [
    "df_list[0].shape, df_list[1].shape, df_list[2].shape"
   ]
  },
  {
   "cell_type": "code",
   "execution_count": 47,
   "id": "b57d7ab0",
   "metadata": {},
   "outputs": [
    {
     "data": {
      "text/plain": [
       "21.1"
      ]
     },
     "execution_count": 47,
     "metadata": {},
     "output_type": "execute_result"
    }
   ],
   "source": [
    "max (df_list[0]['occurence_in_train'])"
   ]
  },
  {
   "cell_type": "code",
   "execution_count": 48,
   "id": "8a6d2132",
   "metadata": {},
   "outputs": [
    {
     "data": {
      "text/plain": [
       "<matplotlib.legend.Legend at 0x150f7f3bf70>"
      ]
     },
     "execution_count": 48,
     "metadata": {},
     "output_type": "execute_result"
    },
    {
     "data": {
      "image/png": "[encoded data removed]",
      "text/plain": [
       "<Figure size 864x576 with 1 Axes>"
      ]
     },
     "metadata": {},
     "output_type": "display_data"
    }
   ],
   "source": [
    "plot1 = plt.scatter(df_list[0]['occurence_in_train'], df_list[0]['test_score'], color = 'b')\n",
    "plot2 = plt.scatter(df_list[1]['occurence_in_train'], df_list[1]['test_score'], color = 'r')\n",
    "plot3 = plt.scatter(df_list[2]['occurence_in_train'], df_list[2]['test_score'], color = 'g')\n",
    "plt.xlim ((0, max (df_list[0]['occurence_in_train']+1)))\n",
    "plt.legend((plot1, plot2, plot3),\n",
    "           ('2-gram_pattern', '3-gram_pattern', '5-gram_pattern'),\n",
    "           loc='upper right')\n",
    "            "
   ]
  },
  {
   "cell_type": "markdown",
   "id": "f4f53a3b",
   "metadata": {},
   "source": [
    "# Context Shuffling\n",
    "To understand the importance of context, we try to classify the correct label after shuffling the utterances with in a dialogue. For example, a dialogue having utterance sequence of {u1;u2;u3;u4} is shuffled to {u4;u1;u3;u2}. This shuffling is carried out randomly, resulting in an utterance sequence whose order is different from the original sequence. We implement 3 shuffling strategies\n",
    "\n",
    "- dialogues in train and validation sets are shuffled, dialogues in test set are kept unchanged\n",
    "- dialogues in train and validation sets are unchanged, dialogues in test set are shuffled\n",
    "- dialogues in train and validation and test set are shuffled. \n",
    "\n",
    "We found that, whenever there is some shuffling in train, validation, or test set, the performance decreases a few points. The performance drop is highest when the dialogues in train and validation sets are kept unchanged and dialogues in test set are shuffled"
   ]
  },
  {
   "cell_type": "code",
   "execution_count": 49,
   "id": "46b38b91",
   "metadata": {},
   "outputs": [],
   "source": [
    "def shuffle_dataframe(df):\n",
    "    dialogue_id_list = list((df['dialogue_id'].unique()))\n",
    "    df_shuffled =  pd.DataFrame(columns = list(df.columns))\n",
    "    for dialogue in dialogue_id_list:\n",
    "        df_dialogue = df[(df.dialogue_id ==dialogue)].copy(deep = True)\n",
    "        df_dialogue = df_dialogue.sample(frac=1)\n",
    "        df_shuffled = df_shuffled.append(df_dialogue)\n",
    "    df_shuffled =df_shuffled.reset_index(drop=True)\n",
    "    return df_shuffled"
   ]
  },
  {
   "cell_type": "markdown",
   "id": "a7ea2ea0",
   "metadata": {},
   "source": [
    "## Scenario 1 \n",
    "- dialogues in train and validation sets are shuffled, dialogues in test set are kept unchanged"
   ]
  },
  {
   "cell_type": "code",
   "execution_count": 60,
   "id": "017987ac",
   "metadata": {},
   "outputs": [],
   "source": [
    "df_train_shuffled = shuffle_dataframe(df_train)\n",
    "df_val_shuffled = shuffle_dataframe(df_val)\n",
    "df_test_shuffled = shuffle_dataframe(df_test)"
   ]
  },
  {
   "cell_type": "code",
   "execution_count": 61,
   "id": "cfdfd90d",
   "metadata": {},
   "outputs": [
    {
     "name": "stdout",
     "output_type": "stream",
     "text": [
      "Speaker Embedding is Enabled\n",
      "Max number of speakers in a dialgue = 309\n",
      "loss weights = tensor([0.0364, 0.4922, 0.3368, 0.1347, 0.0000, 0.0000, 0.0000, 0.0000],\n",
      "       device='cuda:0')\n",
      "class weights = tensor([0.6888, 0.0509, 0.0744, 0.1860], device='cuda:0')\n"
     ]
    },
    {
     "name": "stderr",
     "output_type": "stream",
     "text": [
      "GPU available: True, used: True\n",
      "TPU available: False, using: 0 TPU cores\n",
      "LOCAL_RANK: 0 - CUDA_VISIBLE_DEVICES: [0]\n",
      "\n",
      "  | Name                     | Type                     | Params\n",
      "----------------------------------------------------------------------\n",
      "0 | sentence_embeds_model    | sentence_embeds_model    | 66.4 M\n",
      "1 | context_classifier_model | context_classifier_model | 20.1 M\n",
      "----------------------------------------------------------------------\n",
      "86.4 M    Trainable params\n",
      "0         Non-trainable params\n",
      "86.4 M    Total params\n",
      "345.797   Total estimated model params size (MB)\n"
     ]
    },
    {
     "data": {
      "application/vnd.jupyter.widget-view+json": {
       "model_id": "",
       "version_major": 2,
       "version_minor": 0
      },
      "text/plain": [
       "HBox(children=(HTML(value='Validation sanity check'), FloatProgress(value=1.0, bar_style='info', layout=Layout…"
      ]
     },
     "metadata": {},
     "output_type": "display_data"
    },
    {
     "name": "stderr",
     "output_type": "stream",
     "text": [
      "C:\\Users\\neera\\anaconda3\\envs\\NLP3\\lib\\site-packages\\pytorch_lightning\\utilities\\distributed.py:69: UserWarning: The dataloader, val dataloader 0, does not have many workers which may be a bottleneck. Consider increasing the value of the `num_workers` argument` (try 8 which is the number of cpus on this machine) in the `DataLoader` init to improve performance.\n",
      "  warnings.warn(*args, **kwargs)\n",
      "Global seed set to 42\n",
      "C:\\Users\\neera\\anaconda3\\envs\\NLP3\\lib\\site-packages\\pytorch_lightning\\utilities\\distributed.py:69: UserWarning: The dataloader, train dataloader, does not have many workers which may be a bottleneck. Consider increasing the value of the `num_workers` argument` (try 8 which is the number of cpus on this machine) in the `DataLoader` init to improve performance.\n",
      "  warnings.warn(*args, **kwargs)\n"
     ]
    },
    {
     "data": {
      "application/vnd.jupyter.widget-view+json": {
       "model_id": "a5959335dd704029ab37ab4c6d30cda6",
       "version_major": 2,
       "version_minor": 0
      },
      "text/plain": [
       "HBox(children=(HTML(value='Training'), FloatProgress(value=1.0, bar_style='info', layout=Layout(flex='2'), max…"
      ]
     },
     "metadata": {},
     "output_type": "display_data"
    },
    {
     "data": {
      "application/vnd.jupyter.widget-view+json": {
       "model_id": "",
       "version_major": 2,
       "version_minor": 0
      },
      "text/plain": [
       "HBox(children=(HTML(value='Validating'), FloatProgress(value=1.0, bar_style='info', layout=Layout(flex='2'), m…"
      ]
     },
     "metadata": {},
     "output_type": "display_data"
    },
    {
     "name": "stderr",
     "output_type": "stream",
     "text": [
      "Metric valid_loss improved. New best score: 0.081\n"
     ]
    },
    {
     "data": {
      "application/vnd.jupyter.widget-view+json": {
       "model_id": "",
       "version_major": 2,
       "version_minor": 0
      },
      "text/plain": [
       "HBox(children=(HTML(value='Validating'), FloatProgress(value=1.0, bar_style='info', layout=Layout(flex='2'), m…"
      ]
     },
     "metadata": {},
     "output_type": "display_data"
    },
    {
     "name": "stderr",
     "output_type": "stream",
     "text": [
      "Metric valid_loss improved by 0.008 >= min_delta = 0.0005. New best score: 0.074\n"
     ]
    },
    {
     "name": "stdout",
     "output_type": "stream",
     "text": [
      "\n",
      "In Test Model\n"
     ]
    },
    {
     "name": "stderr",
     "output_type": "stream",
     "text": [
      "LOCAL_RANK: 0 - CUDA_VISIBLE_DEVICES: [0]\n",
      "C:\\Users\\neera\\anaconda3\\envs\\NLP3\\lib\\site-packages\\pytorch_lightning\\utilities\\distributed.py:69: UserWarning: The dataloader, test dataloader 0, does not have many workers which may be a bottleneck. Consider increasing the value of the `num_workers` argument` (try 8 which is the number of cpus on this machine) in the `DataLoader` init to improve performance.\n",
      "  warnings.warn(*args, **kwargs)\n"
     ]
    },
    {
     "data": {
      "application/vnd.jupyter.widget-view+json": {
       "model_id": "4513f5cb7df6423eb914a829f48c9b71",
       "version_major": 2,
       "version_minor": 0
      },
      "text/plain": [
       "HBox(children=(HTML(value='Testing'), FloatProgress(value=1.0, bar_style='info', layout=Layout(flex='2'), max=…"
      ]
     },
     "metadata": {},
     "output_type": "display_data"
    },
    {
     "name": "stdout",
     "output_type": "stream",
     "text": [
      "\n"
     ]
    }
   ],
   "source": [
    "model_shuffle_1 = EmotionModel(emo_dict, focus_dict, args, df_train_shuffled, df_val_shuffled, df_test, verbosity = 0)\n",
    "model_shuffle_1 = model_shuffle_1.cuda(args.device)\n",
    "trainer_shuffle_1 = train_model(model_shuffle_1)\n",
    "F1_score  = test_model(trainer_shuffle_1, model_shuffle_1)"
   ]
  },
  {
   "cell_type": "code",
   "execution_count": 62,
   "id": "694de2e5",
   "metadata": {},
   "outputs": [
    {
     "data": {
      "text/plain": [
       "[{'valid_loss': 0.0463779978454113,\n",
       "  'valid_ac_unweighted': 73.36,\n",
       "  'macroRecall': 73.36}]"
      ]
     },
     "execution_count": 62,
     "metadata": {},
     "output_type": "execute_result"
    }
   ],
   "source": [
    "F1_score"
   ]
  },
  {
   "cell_type": "markdown",
   "id": "fa895c7c",
   "metadata": {},
   "source": [
    "## Scenario 2\n",
    "- dialogues in train and validation sets are shuffled, dialogues in test set are kept unchanged"
   ]
  },
  {
   "cell_type": "code",
   "execution_count": 39,
   "id": "ce56e598",
   "metadata": {},
   "outputs": [
    {
     "name": "stdout",
     "output_type": "stream",
     "text": [
      "Speaker Embedding is Enabled\n",
      "Max number of speakers in a dialgue = 309\n",
      "loss weights = tensor([0.0364, 0.4922, 0.3368, 0.1347, 0.0000, 0.0000, 0.0000, 0.0000],\n",
      "       device='cuda:0')\n",
      "class weights = tensor([0.6888, 0.0509, 0.0744, 0.1860], device='cuda:0')\n"
     ]
    },
    {
     "name": "stderr",
     "output_type": "stream",
     "text": [
      "GPU available: True, used: True\n",
      "TPU available: False, using: 0 TPU cores\n",
      "LOCAL_RANK: 0 - CUDA_VISIBLE_DEVICES: [0]\n",
      "\n",
      "  | Name                     | Type                     | Params\n",
      "----------------------------------------------------------------------\n",
      "0 | sentence_embeds_model    | sentence_embeds_model    | 66.4 M\n",
      "1 | context_classifier_model | context_classifier_model | 20.1 M\n",
      "----------------------------------------------------------------------\n",
      "86.4 M    Trainable params\n",
      "0         Non-trainable params\n",
      "86.4 M    Total params\n",
      "345.797   Total estimated model params size (MB)\n"
     ]
    },
    {
     "data": {
      "application/vnd.jupyter.widget-view+json": {
       "model_id": "",
       "version_major": 2,
       "version_minor": 0
      },
      "text/plain": [
       "HBox(children=(HTML(value='Validation sanity check'), FloatProgress(value=1.0, bar_style='info', layout=Layout…"
      ]
     },
     "metadata": {},
     "output_type": "display_data"
    },
    {
     "name": "stderr",
     "output_type": "stream",
     "text": [
      "C:\\Users\\neera\\anaconda3\\envs\\NLP3\\lib\\site-packages\\pytorch_lightning\\utilities\\distributed.py:69: UserWarning: The dataloader, val dataloader 0, does not have many workers which may be a bottleneck. Consider increasing the value of the `num_workers` argument` (try 8 which is the number of cpus on this machine) in the `DataLoader` init to improve performance.\n",
      "  warnings.warn(*args, **kwargs)\n",
      "Global seed set to 42\n"
     ]
    },
    {
     "name": "stdout",
     "output_type": "stream",
     "text": [
      "('val_loss', tensor(0.1096, device='cuda:0'))\n",
      "('preds', array([4, 9, 0, 2], dtype=int64))\n",
      "('labels', array([9, 1, 0, 5], dtype=int64))\n",
      "('tp', array([4, 1, 0, 1], dtype=int64))\n",
      "('fp', array([0, 8, 0, 1], dtype=int64))\n",
      "('fn', array([5, 0, 0, 4], dtype=int64))\n",
      "('acc_per_class', [44.44, 100.0, 0.0, 20.0])\n",
      "('acc_unweighted', 41.11)\n",
      "('acc_weighted', tensor(39.4200, device='cuda:0'))\n",
      "('microRecall', 40.0)\n",
      "('macroRecall', 41.11)\n",
      "('microPrecision', 40.0)\n",
      "('macroPrecision', 40.28)\n",
      "('microF1_score', 40.0)\n",
      "('macroF1_score', 27.52)\n"
     ]
    },
    {
     "name": "stderr",
     "output_type": "stream",
     "text": [
      "C:\\Users\\neera\\anaconda3\\envs\\NLP3\\lib\\site-packages\\pytorch_lightning\\utilities\\distributed.py:69: UserWarning: The dataloader, train dataloader, does not have many workers which may be a bottleneck. Consider increasing the value of the `num_workers` argument` (try 8 which is the number of cpus on this machine) in the `DataLoader` init to improve performance.\n",
      "  warnings.warn(*args, **kwargs)\n"
     ]
    },
    {
     "data": {
      "application/vnd.jupyter.widget-view+json": {
       "model_id": "12148eb8ca2c4ec9ad080a1b7cd6a76b",
       "version_major": 2,
       "version_minor": 0
      },
      "text/plain": [
       "HBox(children=(HTML(value='Training'), FloatProgress(value=1.0, bar_style='info', layout=Layout(flex='2'), max…"
      ]
     },
     "metadata": {},
     "output_type": "display_data"
    },
    {
     "data": {
      "application/vnd.jupyter.widget-view+json": {
       "model_id": "",
       "version_major": 2,
       "version_minor": 0
      },
      "text/plain": [
       "HBox(children=(HTML(value='Validating'), FloatProgress(value=1.0, bar_style='info', layout=Layout(flex='2'), m…"
      ]
     },
     "metadata": {},
     "output_type": "display_data"
    },
    {
     "name": "stderr",
     "output_type": "stream",
     "text": [
      "Metric valid_loss improved. New best score: 0.080\n"
     ]
    },
    {
     "name": "stdout",
     "output_type": "stream",
     "text": [
      "('val_loss', tensor(0.0796, device='cuda:0'))\n",
      "('preds', array([398, 112,  50, 201], dtype=int64))\n",
      "('labels', array([491,  62,  85, 123], dtype=int64))\n",
      "('tp', array([355,  37,  33, 103], dtype=int64))\n",
      "('fp', array([43, 75, 17, 98], dtype=int64))\n",
      "('fn', array([136,  25,  52,  20], dtype=int64))\n",
      "('acc_per_class', [72.3, 59.68, 38.82, 83.74])\n",
      "('acc_unweighted', 63.63)\n",
      "('acc_weighted', tensor(71.3000, device='cuda:0'))\n",
      "('microRecall', 69.38)\n",
      "('macroRecall', 63.63)\n",
      "('microPrecision', 69.38)\n",
      "('macroPrecision', 59.87)\n",
      "('microF1_score', 69.38)\n",
      "('macroF1_score', 58.72)\n"
     ]
    },
    {
     "data": {
      "application/vnd.jupyter.widget-view+json": {
       "model_id": "",
       "version_major": 2,
       "version_minor": 0
      },
      "text/plain": [
       "HBox(children=(HTML(value='Validating'), FloatProgress(value=1.0, bar_style='info', layout=Layout(flex='2'), m…"
      ]
     },
     "metadata": {},
     "output_type": "display_data"
    },
    {
     "name": "stderr",
     "output_type": "stream",
     "text": [
      "Metric valid_loss improved by 0.008 >= min_delta = 0.0005. New best score: 0.072\n"
     ]
    },
    {
     "name": "stdout",
     "output_type": "stream",
     "text": [
      "('val_loss', tensor(0.0719, device='cuda:0'))\n",
      "('preds', array([392, 136, 102, 131], dtype=int64))\n",
      "('labels', array([491,  62,  85, 123], dtype=int64))\n",
      "('tp', array([354,  37,  48,  89], dtype=int64))\n",
      "('fp', array([38, 99, 54, 42], dtype=int64))\n",
      "('fn', array([137,  25,  37,  34], dtype=int64))\n",
      "('acc_per_class', [72.1, 59.68, 56.47, 72.36])\n",
      "('acc_unweighted', 65.15)\n",
      "('acc_weighted', tensor(70.3500, device='cuda:0'))\n",
      "('microRecall', 69.38)\n",
      "('macroRecall', 65.15)\n",
      "('microPrecision', 69.38)\n",
      "('macroPrecision', 58.13)\n",
      "('microF1_score', 69.38)\n",
      "('macroF1_score', 59.74)\n",
      "\n"
     ]
    },
    {
     "name": "stderr",
     "output_type": "stream",
     "text": [
      "LOCAL_RANK: 0 - CUDA_VISIBLE_DEVICES: [0]\n",
      "C:\\Users\\neera\\anaconda3\\envs\\NLP3\\lib\\site-packages\\pytorch_lightning\\utilities\\distributed.py:69: UserWarning: The dataloader, test dataloader 0, does not have many workers which may be a bottleneck. Consider increasing the value of the `num_workers` argument` (try 8 which is the number of cpus on this machine) in the `DataLoader` init to improve performance.\n",
      "  warnings.warn(*args, **kwargs)\n"
     ]
    },
    {
     "data": {
      "application/vnd.jupyter.widget-view+json": {
       "model_id": "a99d2e0beb884648b617595ed2992c87",
       "version_major": 2,
       "version_minor": 0
      },
      "text/plain": [
       "HBox(children=(HTML(value='Testing'), FloatProgress(value=1.0, bar_style='info', layout=Layout(flex='2'), max=…"
      ]
     },
     "metadata": {},
     "output_type": "display_data"
    },
    {
     "name": "stdout",
     "output_type": "stream",
     "text": [
      "('val_loss', tensor(0.0470, device='cuda:0'))\n",
      "('preds', array([946, 309, 230, 352], dtype=int64))\n",
      "('labels', array([1287,   85,  161,  304], dtype=int64))\n",
      "('tp', array([892,  58, 118, 239], dtype=int64))\n",
      "('fp', array([ 54, 251, 112, 113], dtype=int64))\n",
      "('fn', array([395,  27,  43,  65], dtype=int64))\n",
      "('acc_per_class', [69.31, 68.24, 73.29, 78.62])\n",
      "('acc_unweighted', 72.37)\n",
      "('acc_weighted', tensor(71.2800, device='cuda:0'))\n",
      "('microRecall', 71.15)\n",
      "('macroRecall', 72.37)\n",
      "('microPrecision', 71.15)\n",
      "('macroPrecision', 58.07)\n",
      "('microF1_score', 71.15)\n",
      "('macroF1_score', 60.64)\n",
      "\n",
      "--------------------------------------------------------------------------------\n",
      "DATALOADER:0 TEST RESULTS\n",
      "{'macroRecall': 72.37,\n",
      " 'valid_ac_unweighted': 72.37,\n",
      " 'valid_loss': 0.04704216867685318}\n",
      "--------------------------------------------------------------------------------\n"
     ]
    }
   ],
   "source": [
    "model_shuffle_2 = EmotionModel(emo_dict, focus_dict, args, df_train, df_val, df_test_shuffled)\n",
    "model_shuffle_2 = model_shuffle_2.cuda(args.device)\n",
    "trainer_shuffle_2 = train_model(model_shuffle_2)\n",
    "test_model(trainer_shuffle_2, model_shuffle_2)"
   ]
  },
  {
   "cell_type": "markdown",
   "id": "448dee61",
   "metadata": {},
   "source": [
    "## Scenario 3\n",
    "- dialogues in train and validation and test set are shuffled. "
   ]
  },
  {
   "cell_type": "code",
   "execution_count": 40,
   "id": "12a5c40d",
   "metadata": {},
   "outputs": [
    {
     "name": "stdout",
     "output_type": "stream",
     "text": [
      "Speaker Embedding is Enabled\n",
      "Max number of speakers in a dialgue = 309\n",
      "loss weights = tensor([0.0364, 0.4922, 0.3368, 0.1347, 0.0000, 0.0000, 0.0000, 0.0000],\n",
      "       device='cuda:0')\n",
      "class weights = tensor([0.6888, 0.0509, 0.0744, 0.1860], device='cuda:0')\n"
     ]
    },
    {
     "name": "stderr",
     "output_type": "stream",
     "text": [
      "GPU available: True, used: True\n",
      "TPU available: False, using: 0 TPU cores\n",
      "LOCAL_RANK: 0 - CUDA_VISIBLE_DEVICES: [0]\n",
      "\n",
      "  | Name                     | Type                     | Params\n",
      "----------------------------------------------------------------------\n",
      "0 | sentence_embeds_model    | sentence_embeds_model    | 66.4 M\n",
      "1 | context_classifier_model | context_classifier_model | 20.1 M\n",
      "----------------------------------------------------------------------\n",
      "86.4 M    Trainable params\n",
      "0         Non-trainable params\n",
      "86.4 M    Total params\n",
      "345.797   Total estimated model params size (MB)\n"
     ]
    },
    {
     "data": {
      "application/vnd.jupyter.widget-view+json": {
       "model_id": "",
       "version_major": 2,
       "version_minor": 0
      },
      "text/plain": [
       "HBox(children=(HTML(value='Validation sanity check'), FloatProgress(value=1.0, bar_style='info', layout=Layout…"
      ]
     },
     "metadata": {},
     "output_type": "display_data"
    },
    {
     "name": "stderr",
     "output_type": "stream",
     "text": [
      "C:\\Users\\neera\\anaconda3\\envs\\NLP3\\lib\\site-packages\\pytorch_lightning\\utilities\\distributed.py:69: UserWarning: The dataloader, val dataloader 0, does not have many workers which may be a bottleneck. Consider increasing the value of the `num_workers` argument` (try 8 which is the number of cpus on this machine) in the `DataLoader` init to improve performance.\n",
      "  warnings.warn(*args, **kwargs)\n",
      "Global seed set to 42\n"
     ]
    },
    {
     "name": "stdout",
     "output_type": "stream",
     "text": [
      "('val_loss', tensor(0.1115, device='cuda:0'))\n",
      "('preds', array([3, 8, 0, 2], dtype=int64))\n",
      "('labels', array([9, 0, 0, 4], dtype=int64))\n",
      "('tp', array([3, 0, 0, 1], dtype=int64))\n",
      "('fp', array([0, 8, 0, 1], dtype=int64))\n",
      "('fn', array([6, 0, 0, 3], dtype=int64))\n",
      "('acc_per_class', [33.33, 0.0, 0.0, 25.0])\n",
      "('acc_unweighted', 14.58)\n",
      "('acc_weighted', tensor(27.6100, device='cuda:0'))\n",
      "('microRecall', 30.77)\n",
      "('macroRecall', 14.58)\n",
      "('microPrecision', 30.77)\n",
      "('macroPrecision', 37.5)\n",
      "('microF1_score', 30.769999999999996)\n",
      "('macroF1_score', 20.83)\n"
     ]
    },
    {
     "name": "stderr",
     "output_type": "stream",
     "text": [
      "C:\\Users\\neera\\anaconda3\\envs\\NLP3\\lib\\site-packages\\pytorch_lightning\\utilities\\distributed.py:69: UserWarning: The dataloader, train dataloader, does not have many workers which may be a bottleneck. Consider increasing the value of the `num_workers` argument` (try 8 which is the number of cpus on this machine) in the `DataLoader` init to improve performance.\n",
      "  warnings.warn(*args, **kwargs)\n"
     ]
    },
    {
     "data": {
      "application/vnd.jupyter.widget-view+json": {
       "model_id": "ae8988e142e341699df89a2ad8d95d9a",
       "version_major": 2,
       "version_minor": 0
      },
      "text/plain": [
       "HBox(children=(HTML(value='Training'), FloatProgress(value=1.0, bar_style='info', layout=Layout(flex='2'), max…"
      ]
     },
     "metadata": {},
     "output_type": "display_data"
    },
    {
     "data": {
      "application/vnd.jupyter.widget-view+json": {
       "model_id": "",
       "version_major": 2,
       "version_minor": 0
      },
      "text/plain": [
       "HBox(children=(HTML(value='Validating'), FloatProgress(value=1.0, bar_style='info', layout=Layout(flex='2'), m…"
      ]
     },
     "metadata": {},
     "output_type": "display_data"
    },
    {
     "name": "stderr",
     "output_type": "stream",
     "text": [
      "Metric valid_loss improved. New best score: 0.081\n"
     ]
    },
    {
     "name": "stdout",
     "output_type": "stream",
     "text": [
      "('val_loss', tensor(0.0812, device='cuda:0'))\n",
      "('preds', array([403, 115,  45, 198], dtype=int64))\n",
      "('labels', array([491,  62,  85, 123], dtype=int64))\n",
      "('tp', array([357,  33,  32, 105], dtype=int64))\n",
      "('fp', array([46, 82, 13, 93], dtype=int64))\n",
      "('fn', array([134,  29,  53,  18], dtype=int64))\n",
      "('acc_per_class', [72.71, 53.23, 37.65, 85.37])\n",
      "('acc_unweighted', 62.24)\n",
      "('acc_weighted', tensor(71.4700, device='cuda:0'))\n",
      "('microRecall', 69.25)\n",
      "('macroRecall', 62.24)\n",
      "('microPrecision', 69.25)\n",
      "('macroPrecision', 60.36)\n",
      "('microF1_score', 69.25)\n",
      "('macroF1_score', 57.95)\n"
     ]
    },
    {
     "data": {
      "application/vnd.jupyter.widget-view+json": {
       "model_id": "",
       "version_major": 2,
       "version_minor": 0
      },
      "text/plain": [
       "HBox(children=(HTML(value='Validating'), FloatProgress(value=1.0, bar_style='info', layout=Layout(flex='2'), m…"
      ]
     },
     "metadata": {},
     "output_type": "display_data"
    },
    {
     "name": "stderr",
     "output_type": "stream",
     "text": [
      "Metric valid_loss improved by 0.008 >= min_delta = 0.0005. New best score: 0.074\n"
     ]
    },
    {
     "name": "stdout",
     "output_type": "stream",
     "text": [
      "('val_loss', tensor(0.0737, device='cuda:0'))\n",
      "('preds', array([422, 110,  93, 136], dtype=int64))\n",
      "('labels', array([491,  62,  85, 123], dtype=int64))\n",
      "('tp', array([377,  33,  48,  88], dtype=int64))\n",
      "('fp', array([45, 77, 45, 48], dtype=int64))\n",
      "('fn', array([114,  29,  37,  35], dtype=int64))\n",
      "('acc_per_class', [76.78, 53.23, 56.47, 71.54])\n",
      "('acc_unweighted', 64.5)\n",
      "('acc_weighted', tensor(73.1000, device='cuda:0'))\n",
      "('microRecall', 71.75)\n",
      "('macroRecall', 64.5)\n",
      "('microPrecision', 71.75)\n",
      "('macroPrecision', 58.91)\n",
      "('microF1_score', 71.75)\n",
      "('macroF1_score', 60.71)\n",
      "\n"
     ]
    },
    {
     "name": "stderr",
     "output_type": "stream",
     "text": [
      "LOCAL_RANK: 0 - CUDA_VISIBLE_DEVICES: [0]\n",
      "C:\\Users\\neera\\anaconda3\\envs\\NLP3\\lib\\site-packages\\pytorch_lightning\\utilities\\distributed.py:69: UserWarning: The dataloader, test dataloader 0, does not have many workers which may be a bottleneck. Consider increasing the value of the `num_workers` argument` (try 8 which is the number of cpus on this machine) in the `DataLoader` init to improve performance.\n",
      "  warnings.warn(*args, **kwargs)\n"
     ]
    },
    {
     "data": {
      "application/vnd.jupyter.widget-view+json": {
       "model_id": "e3cd64093b2a499f962aa60dab3a10e4",
       "version_major": 2,
       "version_minor": 0
      },
      "text/plain": [
       "HBox(children=(HTML(value='Testing'), FloatProgress(value=1.0, bar_style='info', layout=Layout(flex='2'), max=…"
      ]
     },
     "metadata": {},
     "output_type": "display_data"
    },
    {
     "name": "stdout",
     "output_type": "stream",
     "text": [
      "('val_loss', tensor(0.0467, device='cuda:0'))\n",
      "('preds', array([1019,  266,  205,  347], dtype=int64))\n",
      "('labels', array([1287,   85,  161,  304], dtype=int64))\n",
      "('tp', array([956,  59, 112, 237], dtype=int64))\n",
      "('fp', array([ 63, 207,  93, 110], dtype=int64))\n",
      "('fn', array([331,  26,  49,  67], dtype=int64))\n",
      "('acc_per_class', [74.28, 69.41, 69.57, 77.96])\n",
      "('acc_unweighted', 72.8)\n",
      "('acc_weighted', tensor(74.3700, device='cuda:0'))\n",
      "('microRecall', 74.25)\n",
      "('macroRecall', 72.8)\n",
      "('microPrecision', 74.25)\n",
      "('macroPrecision', 59.73)\n",
      "('microF1_score', 74.25)\n",
      "('macroF1_score', 62.64)\n",
      "\n",
      "--------------------------------------------------------------------------------\n",
      "DATALOADER:0 TEST RESULTS\n",
      "{'macroRecall': 72.8,\n",
      " 'valid_ac_unweighted': 72.8,\n",
      " 'valid_loss': 0.046729836612939835}\n",
      "--------------------------------------------------------------------------------\n"
     ]
    }
   ],
   "source": [
    "model_shuffle_3 = EmotionModel(emo_dict, focus_dict, args, df_train_shuffled, df_val_shuffled, df_test_shuffled)\n",
    "model_shuffle_3 = model_shuffle_3.cuda(args.device)\n",
    "trainer_shuffle_3 = train_model(model_shuffle_3)\n",
    "test_model(trainer_shuffle_3, model_shuffle_3)"
   ]
  },
  {
   "cell_type": "markdown",
   "id": "7f5167b9",
   "metadata": {},
   "source": [
    "# Speaker-specific Context Control\n",
    "To understand the importance of context, we tried following startigies. \n",
    "- Treat each conversation as individual sentence without considering the context. \n",
    "- Limit the context to maximum of 5 utterances per conversation\n",
    "- when classifying a target utterance from speaker A, we drop the utterances of the speaker B from the context and vice versa.\n",
    "- when classifying a target utterance from speaker A, we only keep utterances of the speaker B and drop all other utterances\n",
    "of speaker A from the context and vice versa \n"
   ]
  },
  {
   "cell_type": "code",
   "execution_count": 63,
   "id": "288d9eaf",
   "metadata": {},
   "outputs": [],
   "source": [
    "model.context_classifier_model.context_experiment_flag= True\n",
    "df_shuffled = df_test.copy(deep = True)\n",
    "df_shuffled['dialogue_id'] = df_shuffled.index\n",
    "dataset = CustomDataset( df_shuffled, model.max_number_of_speakers_in_dialogue, model.emo_dict, model.encoder, model.args)"
   ]
  },
  {
   "cell_type": "markdown",
   "id": "642e5869",
   "metadata": {},
   "source": [
    "## Scenario 1\n",
    "- Treat each conversation as individual sentence without considering the context."
   ]
  },
  {
   "cell_type": "code",
   "execution_count": 64,
   "id": "e4af0f92",
   "metadata": {},
   "outputs": [
    {
     "name": "stderr",
     "output_type": "stream",
     "text": [
      "LOCAL_RANK: 0 - CUDA_VISIBLE_DEVICES: [0]\n",
      "C:\\Users\\neera\\anaconda3\\envs\\NLP3\\lib\\site-packages\\pytorch_lightning\\utilities\\distributed.py:69: UserWarning: The dataloader, test dataloader 0, does not have many workers which may be a bottleneck. Consider increasing the value of the `num_workers` argument` (try 8 which is the number of cpus on this machine) in the `DataLoader` init to improve performance.\n",
      "  warnings.warn(*args, **kwargs)\n"
     ]
    },
    {
     "data": {
      "application/vnd.jupyter.widget-view+json": {
       "model_id": "f5711831bbec438bad92cc5092367f4d",
       "version_major": 2,
       "version_minor": 0
      },
      "text/plain": [
       "HBox(children=(HTML(value='Testing'), FloatProgress(value=1.0, bar_style='info', layout=Layout(flex='2'), max=…"
      ]
     },
     "metadata": {},
     "output_type": "display_data"
    },
    {
     "name": "stdout",
     "output_type": "stream",
     "text": [
      "\n",
      "--------------------------------------------------------------------------------\n",
      "DATALOADER:0 TEST RESULTS\n",
      "{'macroRecall': 71.82,\n",
      " 'valid_ac_unweighted': 71.82,\n",
      " 'valid_loss': 0.051980823278427124}\n",
      "--------------------------------------------------------------------------------\n"
     ]
    },
    {
     "data": {
      "text/plain": [
       "[{'valid_loss': 0.051980823278427124,\n",
       "  'valid_ac_unweighted': 71.82,\n",
       "  'macroRecall': 71.82}]"
      ]
     },
     "execution_count": 64,
     "metadata": {},
     "output_type": "execute_result"
    }
   ],
   "source": [
    "test_loader = DataLoader(dataset, 1, shuffle=False, num_workers=0)\n",
    "trainer.test(test_dataloaders =  test_loader)"
   ]
  },
  {
   "cell_type": "markdown",
   "id": "c4878589",
   "metadata": {},
   "source": [
    "## Scenario 2\n",
    "- Limit the context to maximum of 5 utterances per conversation"
   ]
  },
  {
   "cell_type": "code",
   "execution_count": 65,
   "id": "0334e0aa",
   "metadata": {},
   "outputs": [
    {
     "name": "stderr",
     "output_type": "stream",
     "text": [
      "LOCAL_RANK: 0 - CUDA_VISIBLE_DEVICES: [0]\n",
      "C:\\Users\\neera\\anaconda3\\envs\\NLP3\\lib\\site-packages\\pytorch_lightning\\utilities\\distributed.py:69: UserWarning: The dataloader, test dataloader 0, does not have many workers which may be a bottleneck. Consider increasing the value of the `num_workers` argument` (try 8 which is the number of cpus on this machine) in the `DataLoader` init to improve performance.\n",
      "  warnings.warn(*args, **kwargs)\n"
     ]
    },
    {
     "data": {
      "application/vnd.jupyter.widget-view+json": {
       "model_id": "4ba933d0b5f54f0b9b2d596fb9e10570",
       "version_major": 2,
       "version_minor": 0
      },
      "text/plain": [
       "HBox(children=(HTML(value='Testing'), FloatProgress(value=1.0, bar_style='info', layout=Layout(flex='2'), max=…"
      ]
     },
     "metadata": {},
     "output_type": "display_data"
    },
    {
     "name": "stdout",
     "output_type": "stream",
     "text": [
      "\n",
      "--------------------------------------------------------------------------------\n",
      "DATALOADER:0 TEST RESULTS\n",
      "{'macroRecall': 71.87,\n",
      " 'valid_ac_unweighted': 71.87,\n",
      " 'valid_loss': 0.05142930895090103}\n",
      "--------------------------------------------------------------------------------\n"
     ]
    },
    {
     "data": {
      "text/plain": [
       "[{'valid_loss': 0.05142930895090103,\n",
       "  'valid_ac_unweighted': 71.87,\n",
       "  'macroRecall': 71.87}]"
      ]
     },
     "execution_count": 65,
     "metadata": {},
     "output_type": "execute_result"
    }
   ],
   "source": [
    "test_loader = DataLoader(dataset, 5, shuffle=False, num_workers=0)\n",
    "trainer.test(test_dataloaders =  test_loader)"
   ]
  },
  {
   "cell_type": "markdown",
   "id": "bb40d29e",
   "metadata": {},
   "source": [
    "## Scenario 3\n",
    "- Treat each conversation as individual sentence without considering the context."
   ]
  },
  {
   "cell_type": "code",
   "execution_count": 66,
   "id": "a174cdf7",
   "metadata": {},
   "outputs": [
    {
     "data": {
      "text/plain": [
       "['Joey', 'Ross', 'Chandler', 'Rachel', 'Monica', 'Phoebe']"
      ]
     },
     "execution_count": 66,
     "metadata": {},
     "output_type": "execute_result"
    }
   ],
   "source": [
    "speaker_list = df_test['speaker'].value_counts()[:6].index.tolist()\n",
    "speaker_list"
   ]
  },
  {
   "cell_type": "code",
   "execution_count": 70,
   "id": "15982efc",
   "metadata": {},
   "outputs": [],
   "source": [
    "df_without_interspeaker_context = {}\n",
    "\n",
    "for speaker in speaker_list:\n",
    "    df_without_interspeaker_context[speaker] = df_test[(df_test.speaker == speaker)].reset_index(drop=True)\n",
    "    dialogue_id_list = list((df_without_interspeaker_context[speaker]['dialogue_id'].unique()))\n",
    "    i = 0\n",
    "    for dialogue in dialogue_id_list:\n",
    "        df_without_interspeaker_context[speaker].loc[df_without_interspeaker_context[speaker].dialogue_id== dialogue, 'dialogue_id'] = i \n",
    "        i = i+1"
   ]
  },
  {
   "cell_type": "code",
   "execution_count": 71,
   "id": "f702f631",
   "metadata": {},
   "outputs": [],
   "source": [
    "df_without_intraspeaker_context = {}\n",
    "for speaker in speaker_list:\n",
    "    df_without_intraspeaker_context[speaker] = df_test[(df_test.speaker != speaker)].reset_index(drop=True)\n",
    "    dialogue_id_list = list((df_without_intraspeaker_context[speaker]['dialogue_id'].unique()))\n",
    "    i = 0\n",
    "    for dialogue in dialogue_id_list:\n",
    "        df_without_intraspeaker_context[speaker].loc[df_without_intraspeaker_context[speaker].dialogue_id== dialogue, 'dialogue_id'] = i \n",
    "        i = i+1"
   ]
  },
  {
   "cell_type": "code",
   "execution_count": 76,
   "id": "2f4f01bb",
   "metadata": {},
   "outputs": [
    {
     "name": "stderr",
     "output_type": "stream",
     "text": [
      "LOCAL_RANK: 0 - CUDA_VISIBLE_DEVICES: [0]\n",
      "C:\\Users\\neera\\anaconda3\\envs\\NLP3\\lib\\site-packages\\pytorch_lightning\\utilities\\distributed.py:69: UserWarning: The dataloader, test dataloader 0, does not have many workers which may be a bottleneck. Consider increasing the value of the `num_workers` argument` (try 8 which is the number of cpus on this machine) in the `DataLoader` init to improve performance.\n",
      "  warnings.warn(*args, **kwargs)\n"
     ]
    },
    {
     "data": {
      "application/vnd.jupyter.widget-view+json": {
       "model_id": "e92dede691044701a63df572c409732c",
       "version_major": 2,
       "version_minor": 0
      },
      "text/plain": [
       "HBox(children=(HTML(value='Testing'), FloatProgress(value=1.0, bar_style='info', layout=Layout(flex='2'), max=…"
      ]
     },
     "metadata": {},
     "output_type": "display_data"
    },
    {
     "name": "stdout",
     "output_type": "stream",
     "text": [
      "\n",
      "--------------------------------------------------------------------------------\n",
      "DATALOADER:0 TEST RESULTS\n",
      "{'macroRecall': 71.05,\n",
      " 'valid_ac_unweighted': 71.05,\n",
      " 'valid_loss': 0.04709906131029129}\n",
      "--------------------------------------------------------------------------------\n",
      "F1 Score for Speaker Joey is 71.05\n"
     ]
    },
    {
     "name": "stderr",
     "output_type": "stream",
     "text": [
      "LOCAL_RANK: 0 - CUDA_VISIBLE_DEVICES: [0]\n",
      "C:\\Users\\neera\\anaconda3\\envs\\NLP3\\lib\\site-packages\\pytorch_lightning\\utilities\\distributed.py:69: UserWarning: The dataloader, test dataloader 0, does not have many workers which may be a bottleneck. Consider increasing the value of the `num_workers` argument` (try 8 which is the number of cpus on this machine) in the `DataLoader` init to improve performance.\n",
      "  warnings.warn(*args, **kwargs)\n"
     ]
    },
    {
     "data": {
      "application/vnd.jupyter.widget-view+json": {
       "model_id": "35295ba3ec974621a8c56e849614582b",
       "version_major": 2,
       "version_minor": 0
      },
      "text/plain": [
       "HBox(children=(HTML(value='Testing'), FloatProgress(value=1.0, bar_style='info', layout=Layout(flex='2'), max=…"
      ]
     },
     "metadata": {},
     "output_type": "display_data"
    },
    {
     "name": "stdout",
     "output_type": "stream",
     "text": [
      "\n",
      "--------------------------------------------------------------------------------\n",
      "DATALOADER:0 TEST RESULTS\n",
      "{'macroRecall': 72.68,\n",
      " 'valid_ac_unweighted': 72.68,\n",
      " 'valid_loss': 0.03898278623819351}\n",
      "--------------------------------------------------------------------------------\n",
      "F1 Score for Speaker Ross is 72.68\n"
     ]
    },
    {
     "name": "stderr",
     "output_type": "stream",
     "text": [
      "LOCAL_RANK: 0 - CUDA_VISIBLE_DEVICES: [0]\n",
      "C:\\Users\\neera\\anaconda3\\envs\\NLP3\\lib\\site-packages\\pytorch_lightning\\utilities\\distributed.py:69: UserWarning: The dataloader, test dataloader 0, does not have many workers which may be a bottleneck. Consider increasing the value of the `num_workers` argument` (try 8 which is the number of cpus on this machine) in the `DataLoader` init to improve performance.\n",
      "  warnings.warn(*args, **kwargs)\n"
     ]
    },
    {
     "data": {
      "application/vnd.jupyter.widget-view+json": {
       "model_id": "125c3b6379f74ec0800f70df118100aa",
       "version_major": 2,
       "version_minor": 0
      },
      "text/plain": [
       "HBox(children=(HTML(value='Testing'), FloatProgress(value=1.0, bar_style='info', layout=Layout(flex='2'), max=…"
      ]
     },
     "metadata": {},
     "output_type": "display_data"
    },
    {
     "name": "stdout",
     "output_type": "stream",
     "text": [
      "\n",
      "--------------------------------------------------------------------------------\n",
      "DATALOADER:0 TEST RESULTS\n",
      "{'macroRecall': 62.46,\n",
      " 'valid_ac_unweighted': 62.46,\n",
      " 'valid_loss': 0.05169929191470146}\n",
      "--------------------------------------------------------------------------------\n",
      "F1 Score for Speaker Chandler is 62.46\n"
     ]
    },
    {
     "name": "stderr",
     "output_type": "stream",
     "text": [
      "LOCAL_RANK: 0 - CUDA_VISIBLE_DEVICES: [0]\n",
      "C:\\Users\\neera\\anaconda3\\envs\\NLP3\\lib\\site-packages\\pytorch_lightning\\utilities\\distributed.py:69: UserWarning: The dataloader, test dataloader 0, does not have many workers which may be a bottleneck. Consider increasing the value of the `num_workers` argument` (try 8 which is the number of cpus on this machine) in the `DataLoader` init to improve performance.\n",
      "  warnings.warn(*args, **kwargs)\n"
     ]
    },
    {
     "data": {
      "application/vnd.jupyter.widget-view+json": {
       "model_id": "82463876dfe44997972bd436fbbd2645",
       "version_major": 2,
       "version_minor": 0
      },
      "text/plain": [
       "HBox(children=(HTML(value='Testing'), FloatProgress(value=1.0, bar_style='info', layout=Layout(flex='2'), max=…"
      ]
     },
     "metadata": {},
     "output_type": "display_data"
    },
    {
     "name": "stdout",
     "output_type": "stream",
     "text": [
      "\n",
      "--------------------------------------------------------------------------------\n",
      "DATALOADER:0 TEST RESULTS\n",
      "{'macroRecall': 73.82,\n",
      " 'valid_ac_unweighted': 73.82,\n",
      " 'valid_loss': 0.04576314240694046}\n",
      "--------------------------------------------------------------------------------\n",
      "F1 Score for Speaker Rachel is 73.82\n"
     ]
    },
    {
     "name": "stderr",
     "output_type": "stream",
     "text": [
      "LOCAL_RANK: 0 - CUDA_VISIBLE_DEVICES: [0]\n",
      "C:\\Users\\neera\\anaconda3\\envs\\NLP3\\lib\\site-packages\\pytorch_lightning\\utilities\\distributed.py:69: UserWarning: The dataloader, test dataloader 0, does not have many workers which may be a bottleneck. Consider increasing the value of the `num_workers` argument` (try 8 which is the number of cpus on this machine) in the `DataLoader` init to improve performance.\n",
      "  warnings.warn(*args, **kwargs)\n"
     ]
    },
    {
     "data": {
      "application/vnd.jupyter.widget-view+json": {
       "model_id": "7b4a54e1643d4db8acaee62b45096cba",
       "version_major": 2,
       "version_minor": 0
      },
      "text/plain": [
       "HBox(children=(HTML(value='Testing'), FloatProgress(value=1.0, bar_style='info', layout=Layout(flex='2'), max=…"
      ]
     },
     "metadata": {},
     "output_type": "display_data"
    },
    {
     "name": "stdout",
     "output_type": "stream",
     "text": [
      "\n",
      "--------------------------------------------------------------------------------\n",
      "DATALOADER:0 TEST RESULTS\n",
      "{'macroRecall': 67.88,\n",
      " 'valid_ac_unweighted': 67.88,\n",
      " 'valid_loss': 0.038129135966300964}\n",
      "--------------------------------------------------------------------------------\n",
      "F1 Score for Speaker Monica is 67.88\n"
     ]
    },
    {
     "name": "stderr",
     "output_type": "stream",
     "text": [
      "LOCAL_RANK: 0 - CUDA_VISIBLE_DEVICES: [0]\n",
      "C:\\Users\\neera\\anaconda3\\envs\\NLP3\\lib\\site-packages\\pytorch_lightning\\utilities\\distributed.py:69: UserWarning: The dataloader, test dataloader 0, does not have many workers which may be a bottleneck. Consider increasing the value of the `num_workers` argument` (try 8 which is the number of cpus on this machine) in the `DataLoader` init to improve performance.\n",
      "  warnings.warn(*args, **kwargs)\n"
     ]
    },
    {
     "data": {
      "application/vnd.jupyter.widget-view+json": {
       "model_id": "6a9c6054e3d843c699652eff32bb1727",
       "version_major": 2,
       "version_minor": 0
      },
      "text/plain": [
       "HBox(children=(HTML(value='Testing'), FloatProgress(value=1.0, bar_style='info', layout=Layout(flex='2'), max=…"
      ]
     },
     "metadata": {},
     "output_type": "display_data"
    },
    {
     "name": "stdout",
     "output_type": "stream",
     "text": [
      "\n",
      "--------------------------------------------------------------------------------\n",
      "DATALOADER:0 TEST RESULTS\n",
      "{'macroRecall': 80.06,\n",
      " 'valid_ac_unweighted': 80.06,\n",
      " 'valid_loss': 0.037825074046850204}\n",
      "--------------------------------------------------------------------------------\n",
      "F1 Score for Speaker Phoebe is 80.06\n",
      "F1 Score without Intraspeaker Context 71.325\n",
      "Validation Loss  without Intraspeaker Context 0.04324974864721298\n"
     ]
    }
   ],
   "source": [
    "avg_f1_score = 0\n",
    "avg_val_loss = 0\n",
    "model.context_classifier_model.context_experiment_flag= False\n",
    "for speaker in speaker_list:\n",
    "    dataset = CustomDataset( df_without_interspeaker_context[speaker], model.max_number_of_speakers_in_dialogue, model.emo_dict, model.encoder, model.args)\n",
    "    test_loader = DataLoader(dataset, model.args.batch_size, shuffle=False, num_workers=0)\n",
    "    score = trainer.test(test_dataloaders =  test_loader)\n",
    "    print('F1 Score for Speaker {} is {}'.format(speaker, score[0]['macroRecall'] ))\n",
    "    avg_f1_score += score[0]['macroRecall']\n",
    "    avg_val_loss += score[0]['valid_loss']\n",
    "\n",
    "print('F1 Score without Intraspeaker Context {}'.format(avg_f1_score/len(speaker_list)))\n",
    "print('Validation Loss  without Intraspeaker Context {}'.format(avg_val_loss/len(speaker_list)))"
   ]
  },
  {
   "cell_type": "code",
   "execution_count": 77,
   "id": "466d0d00",
   "metadata": {},
   "outputs": [
    {
     "name": "stderr",
     "output_type": "stream",
     "text": [
      "LOCAL_RANK: 0 - CUDA_VISIBLE_DEVICES: [0]\n",
      "C:\\Users\\neera\\anaconda3\\envs\\NLP3\\lib\\site-packages\\pytorch_lightning\\utilities\\distributed.py:69: UserWarning: The dataloader, test dataloader 0, does not have many workers which may be a bottleneck. Consider increasing the value of the `num_workers` argument` (try 8 which is the number of cpus on this machine) in the `DataLoader` init to improve performance.\n",
      "  warnings.warn(*args, **kwargs)\n"
     ]
    },
    {
     "data": {
      "application/vnd.jupyter.widget-view+json": {
       "model_id": "664b6a20320d48aa927cbc29b16fcb89",
       "version_major": 2,
       "version_minor": 0
      },
      "text/plain": [
       "HBox(children=(HTML(value='Testing'), FloatProgress(value=1.0, bar_style='info', layout=Layout(flex='2'), max=…"
      ]
     },
     "metadata": {},
     "output_type": "display_data"
    },
    {
     "name": "stdout",
     "output_type": "stream",
     "text": [
      "\n",
      "--------------------------------------------------------------------------------\n",
      "DATALOADER:0 TEST RESULTS\n",
      "{'macroRecall': 72.08,\n",
      " 'valid_ac_unweighted': 72.08,\n",
      " 'valid_loss': 0.04580143839120865}\n",
      "--------------------------------------------------------------------------------\n",
      "F1 Score for Speaker Joey is 72.08\n"
     ]
    },
    {
     "name": "stderr",
     "output_type": "stream",
     "text": [
      "LOCAL_RANK: 0 - CUDA_VISIBLE_DEVICES: [0]\n",
      "C:\\Users\\neera\\anaconda3\\envs\\NLP3\\lib\\site-packages\\pytorch_lightning\\utilities\\distributed.py:69: UserWarning: The dataloader, test dataloader 0, does not have many workers which may be a bottleneck. Consider increasing the value of the `num_workers` argument` (try 8 which is the number of cpus on this machine) in the `DataLoader` init to improve performance.\n",
      "  warnings.warn(*args, **kwargs)\n"
     ]
    },
    {
     "data": {
      "application/vnd.jupyter.widget-view+json": {
       "model_id": "79ec8e349c7848ef9291e945f3e44931",
       "version_major": 2,
       "version_minor": 0
      },
      "text/plain": [
       "HBox(children=(HTML(value='Testing'), FloatProgress(value=1.0, bar_style='info', layout=Layout(flex='2'), max=…"
      ]
     },
     "metadata": {},
     "output_type": "display_data"
    },
    {
     "name": "stdout",
     "output_type": "stream",
     "text": [
      "\n",
      "--------------------------------------------------------------------------------\n",
      "DATALOADER:0 TEST RESULTS\n",
      "{'macroRecall': 71.15,\n",
      " 'valid_ac_unweighted': 71.15,\n",
      " 'valid_loss': 0.04839174449443817}\n",
      "--------------------------------------------------------------------------------\n",
      "F1 Score for Speaker Ross is 71.15\n"
     ]
    },
    {
     "name": "stderr",
     "output_type": "stream",
     "text": [
      "LOCAL_RANK: 0 - CUDA_VISIBLE_DEVICES: [0]\n",
      "C:\\Users\\neera\\anaconda3\\envs\\NLP3\\lib\\site-packages\\pytorch_lightning\\utilities\\distributed.py:69: UserWarning: The dataloader, test dataloader 0, does not have many workers which may be a bottleneck. Consider increasing the value of the `num_workers` argument` (try 8 which is the number of cpus on this machine) in the `DataLoader` init to improve performance.\n",
      "  warnings.warn(*args, **kwargs)\n"
     ]
    },
    {
     "data": {
      "application/vnd.jupyter.widget-view+json": {
       "model_id": "bf7a67352ab3428d979230b147958da6",
       "version_major": 2,
       "version_minor": 0
      },
      "text/plain": [
       "HBox(children=(HTML(value='Testing'), FloatProgress(value=1.0, bar_style='info', layout=Layout(flex='2'), max=…"
      ]
     },
     "metadata": {},
     "output_type": "display_data"
    },
    {
     "name": "stdout",
     "output_type": "stream",
     "text": [
      "\n",
      "--------------------------------------------------------------------------------\n",
      "DATALOADER:0 TEST RESULTS\n",
      "{'macroRecall': 73.2,\n",
      " 'valid_ac_unweighted': 73.2,\n",
      " 'valid_loss': 0.0464654415845871}\n",
      "--------------------------------------------------------------------------------\n",
      "F1 Score for Speaker Chandler is 73.2\n"
     ]
    },
    {
     "name": "stderr",
     "output_type": "stream",
     "text": [
      "LOCAL_RANK: 0 - CUDA_VISIBLE_DEVICES: [0]\n",
      "C:\\Users\\neera\\anaconda3\\envs\\NLP3\\lib\\site-packages\\pytorch_lightning\\utilities\\distributed.py:69: UserWarning: The dataloader, test dataloader 0, does not have many workers which may be a bottleneck. Consider increasing the value of the `num_workers` argument` (try 8 which is the number of cpus on this machine) in the `DataLoader` init to improve performance.\n",
      "  warnings.warn(*args, **kwargs)\n"
     ]
    },
    {
     "data": {
      "application/vnd.jupyter.widget-view+json": {
       "model_id": "b5c11b18832a4720a3174ada2febff11",
       "version_major": 2,
       "version_minor": 0
      },
      "text/plain": [
       "HBox(children=(HTML(value='Testing'), FloatProgress(value=1.0, bar_style='info', layout=Layout(flex='2'), max=…"
      ]
     },
     "metadata": {},
     "output_type": "display_data"
    },
    {
     "name": "stdout",
     "output_type": "stream",
     "text": [
      "\n",
      "--------------------------------------------------------------------------------\n",
      "DATALOADER:0 TEST RESULTS\n",
      "{'macroRecall': 71.48,\n",
      " 'valid_ac_unweighted': 71.48,\n",
      " 'valid_loss': 0.04804069921374321}\n",
      "--------------------------------------------------------------------------------\n",
      "F1 Score for Speaker Rachel is 71.48\n"
     ]
    },
    {
     "name": "stderr",
     "output_type": "stream",
     "text": [
      "LOCAL_RANK: 0 - CUDA_VISIBLE_DEVICES: [0]\n",
      "C:\\Users\\neera\\anaconda3\\envs\\NLP3\\lib\\site-packages\\pytorch_lightning\\utilities\\distributed.py:69: UserWarning: The dataloader, test dataloader 0, does not have many workers which may be a bottleneck. Consider increasing the value of the `num_workers` argument` (try 8 which is the number of cpus on this machine) in the `DataLoader` init to improve performance.\n",
      "  warnings.warn(*args, **kwargs)\n"
     ]
    },
    {
     "data": {
      "application/vnd.jupyter.widget-view+json": {
       "model_id": "7c38d6fc8fff4487bafd7648f2518940",
       "version_major": 2,
       "version_minor": 0
      },
      "text/plain": [
       "HBox(children=(HTML(value='Testing'), FloatProgress(value=1.0, bar_style='info', layout=Layout(flex='2'), max=…"
      ]
     },
     "metadata": {},
     "output_type": "display_data"
    },
    {
     "name": "stdout",
     "output_type": "stream",
     "text": [
      "\n",
      "--------------------------------------------------------------------------------\n",
      "DATALOADER:0 TEST RESULTS\n",
      "{'macroRecall': 72.59,\n",
      " 'valid_ac_unweighted': 72.59,\n",
      " 'valid_loss': 0.051210787147283554}\n",
      "--------------------------------------------------------------------------------\n",
      "F1 Score for Speaker Monica is 72.59\n"
     ]
    },
    {
     "name": "stderr",
     "output_type": "stream",
     "text": [
      "LOCAL_RANK: 0 - CUDA_VISIBLE_DEVICES: [0]\n",
      "C:\\Users\\neera\\anaconda3\\envs\\NLP3\\lib\\site-packages\\pytorch_lightning\\utilities\\distributed.py:69: UserWarning: The dataloader, test dataloader 0, does not have many workers which may be a bottleneck. Consider increasing the value of the `num_workers` argument` (try 8 which is the number of cpus on this machine) in the `DataLoader` init to improve performance.\n",
      "  warnings.warn(*args, **kwargs)\n"
     ]
    },
    {
     "data": {
      "application/vnd.jupyter.widget-view+json": {
       "model_id": "552756865c5a40d8aaa180ddccb57630",
       "version_major": 2,
       "version_minor": 0
      },
      "text/plain": [
       "HBox(children=(HTML(value='Testing'), FloatProgress(value=1.0, bar_style='info', layout=Layout(flex='2'), max=…"
      ]
     },
     "metadata": {},
     "output_type": "display_data"
    },
    {
     "name": "stdout",
     "output_type": "stream",
     "text": [
      "\n",
      "--------------------------------------------------------------------------------\n",
      "DATALOADER:0 TEST RESULTS\n",
      "{'macroRecall': 71.4,\n",
      " 'valid_ac_unweighted': 71.4,\n",
      " 'valid_loss': 0.048599179834127426}\n",
      "--------------------------------------------------------------------------------\n",
      "F1 Score for Speaker Phoebe is 71.4\n",
      "F1 Score without Intraspeaker Context 71.98333333333333\n",
      "Validation Loss  without Intraspeaker Context 0.04808488177756468\n"
     ]
    }
   ],
   "source": [
    "avg_f1_score = 0\n",
    "avg_val_loss = 0\n",
    "model.context_classifier_model.context_experiment_flag= False\n",
    "for speaker in speaker_list:\n",
    "    dataset = CustomDataset( df_without_intraspeaker_context[speaker], model.max_number_of_speakers_in_dialogue, model.emo_dict, model.encoder, model.args)\n",
    "    test_loader = DataLoader(dataset, model.args.batch_size, shuffle=False, num_workers=0)\n",
    "    score = trainer.test(test_dataloaders =  test_loader)\n",
    "    print('F1 Score for Speaker {} is {}'.format(speaker, score[0]['macroRecall'] ))\n",
    "    avg_f1_score += score[0]['macroRecall']\n",
    "    avg_val_loss += score[0]['valid_loss']\n",
    "\n",
    "print('F1 Score without Interspeaker Context {}'.format(avg_f1_score/len(speaker_list)))\n",
    "print('Validation Loss  without Interspeaker Context {}'.format(avg_val_loss/len(speaker_list)))"
   ]
  },
  {
   "cell_type": "code",
   "execution_count": null,
   "id": "c8787f4a",
   "metadata": {},
   "outputs": [],
   "source": []
  }
 ],
 "metadata": {
  "kernelspec": {
   "display_name": "Python 3",
   "language": "python",
   "name": "python3"
  },
  "language_info": {
   "codemirror_mode": {
    "name": "ipython",
    "version": 3
   },
   "file_extension": ".py",
   "mimetype": "text/x-python",
   "name": "python",
   "nbconvert_exporter": "python",
   "pygments_lexer": "ipython3",
   "version": "3.8.5"
  }
 },
 "nbformat": 4,
 "nbformat_minor": 5
}
